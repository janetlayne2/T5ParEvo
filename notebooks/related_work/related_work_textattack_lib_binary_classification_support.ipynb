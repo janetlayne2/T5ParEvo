{
 "cells": [
  {
   "cell_type": "code",
   "execution_count": 1,
   "id": "3c81a8fe",
   "metadata": {
    "ExecuteTime": {
     "end_time": "2022-01-22T07:59:35.420955Z",
     "start_time": "2022-01-22T07:59:35.411860Z"
    }
   },
   "outputs": [],
   "source": [
    "from datetime import datetime\n",
    "cur_date_time = datetime.today().strftime('%Y_%m_%d_%H_%M')\n",
    "log_dir = \"../../logs/\"\n",
    "project_name = 'textattack_lib_textfooler_WHOLE_SCIFACT_support_major_bae'\n",
    "version = '0.0.1'\n",
    "log_file_dir_name = log_dir+project_name+'_'+version+'.log'\n",
    "\n",
    "import logging\n",
    "  \n",
    "#Create and configure logger\n",
    "logging.basicConfig(filename=log_file_dir_name,\n",
    "                    level=logging.INFO,\n",
    "                    format='%(message)s',\n",
    "                    filemode='w')\n",
    "\n",
    "log_file_fine_tune_callback = '../../logs/log_textattack_lib_support_major_bae.txt'"
   ]
  },
  {
   "cell_type": "code",
   "execution_count": 2,
   "id": "c484c279",
   "metadata": {
    "ExecuteTime": {
     "end_time": "2022-01-22T07:59:48.511298Z",
     "start_time": "2022-01-22T07:59:38.804091Z"
    }
   },
   "outputs": [],
   "source": [
    "import transformers\n",
    "from textattack.models.wrappers import HuggingFaceModelWrapper"
   ]
  },
  {
   "cell_type": "code",
   "execution_count": 3,
   "id": "006a9152",
   "metadata": {
    "ExecuteTime": {
     "end_time": "2022-01-22T07:59:48.516906Z",
     "start_time": "2022-01-22T07:59:48.513282Z"
    }
   },
   "outputs": [],
   "source": [
    "from textattack.goal_functions import UntargetedClassification\n",
    "from textattack.search_methods import GreedySearch\n",
    "from textattack.constraints.pre_transformation import RepeatModification, StopwordModification\n",
    "from textattack import Attack\n",
    "from textattack.transformations import WordSwap\n",
    "\n",
    "from textattack.loggers import CSVLogger # tracks a dataframe for us.\n",
    "from textattack.attack_results import SuccessfulAttackResult\n",
    "from textattack import Attacker\n",
    "from textattack import AttackArgs\n",
    "from textattack.datasets import Dataset\n",
    "import textattack"
   ]
  },
  {
   "cell_type": "code",
   "execution_count": 4,
   "id": "ac8af87e",
   "metadata": {
    "ExecuteTime": {
     "end_time": "2022-01-22T07:59:48.977167Z",
     "start_time": "2022-01-22T07:59:48.519296Z"
    }
   },
   "outputs": [],
   "source": [
    "from sklearn.model_selection import train_test_split\n",
    "from tensorflow.keras.callbacks import EarlyStopping\n",
    "\n",
    "import torch\n",
    "from torch.utils.data import Dataset, DataLoader\n",
    "#import pytorch_lightning as pl\n",
    "\n",
    "from transformers import GPT2Tokenizer\n",
    "from transformers import AutoModelForSequenceClassification, AutoTokenizer, AutoModelForSeq2SeqLM\n",
    "\n",
    "from sentence_transformers import SentenceTransformer, util\n",
    "from transformers import AdamW, T5ForConditionalGeneration, T5Tokenizer, get_linear_schedule_with_warmup\n",
    "\n",
    "import re\n",
    "import sys\n",
    "import random\n",
    "from random import choices\n",
    "import os\n",
    "from itertools import chain\n",
    "from string import punctuation\n",
    "import time\n",
    "import argparse\n",
    "\n",
    "import csv\n",
    "import json\n",
    "\n",
    "import logging\n",
    "\n",
    "import traceback\n",
    "import gc\n",
    "from enum import Enum \n",
    "\n",
    "import numpy as np\n",
    "import pandas as pd\n",
    "from statistics import mean\n",
    "\n",
    "import matplotlib.pyplot as plt\n",
    "\n",
    "\n",
    "# from trl.gpt2 import GPT2HeadWithValueModel, respond_to_batch\n",
    "# from trl.ppo import PPOTrainer\n",
    "#from trl.core import build_bert_batch_from_txt\n",
    "\n",
    "from IPython.core.display import Markdown,display, HTML, Latex\n",
    "import qgrid\n",
    "\n",
    "from verisci.covid import AbstractRetriever, RationaleSelector, LabelPredictor\n",
    "from verisci.evaluate.lib.data import GoldDataset\n",
    "\n",
    "from GPUtil import showUtilization as gpu_usage\n",
    "import wandb\n",
    "\n",
    "from tqdm.notebook import tqdm\n",
    "tqdm.pandas()\n",
    "import pickle"
   ]
  },
  {
   "cell_type": "code",
   "execution_count": 5,
   "id": "f5ff7d87",
   "metadata": {
    "ExecuteTime": {
     "end_time": "2022-01-22T07:59:48.982976Z",
     "start_time": "2022-01-22T07:59:48.979617Z"
    }
   },
   "outputs": [],
   "source": [
    "from sklearn import preprocessing\n"
   ]
  },
  {
   "cell_type": "code",
   "execution_count": 6,
   "id": "f6823c9a",
   "metadata": {
    "ExecuteTime": {
     "end_time": "2022-01-22T07:59:48.988009Z",
     "start_time": "2022-01-22T07:59:48.984951Z"
    }
   },
   "outputs": [],
   "source": [
    "pd.set_option(\"display.precision\", 2)"
   ]
  },
  {
   "cell_type": "code",
   "execution_count": 7,
   "id": "f2902c90",
   "metadata": {
    "ExecuteTime": {
     "end_time": "2022-01-22T07:59:48.992640Z",
     "start_time": "2022-01-22T07:59:48.990116Z"
    }
   },
   "outputs": [],
   "source": [
    "device = torch.device(\"cuda\" if torch.cuda.is_available() else \"cpu\")"
   ]
  },
  {
   "cell_type": "code",
   "execution_count": 8,
   "id": "a22bd4c3",
   "metadata": {
    "ExecuteTime": {
     "end_time": "2022-01-22T07:59:48.999510Z",
     "start_time": "2022-01-22T07:59:48.994399Z"
    }
   },
   "outputs": [],
   "source": [
    "class ParaphraseTargetDirection(Enum):\n",
    "    org_support_to_gen_refute = 0\n",
    "    org_refute_to_gen_support = 1\n",
    "    \n",
    "def set_seed(seed):\n",
    "    random.seed(seed)\n",
    "    np.random.seed(seed)\n",
    "    torch.manual_seed(seed)\n",
    "    if torch.cuda.is_available():\n",
    "        torch.cuda.manual_seed_all(seed)\n",
    "\n",
    "set_seed(37)    "
   ]
  },
  {
   "cell_type": "code",
   "execution_count": 9,
   "id": "f55101dc",
   "metadata": {
    "ExecuteTime": {
     "end_time": "2022-01-22T07:59:49.004751Z",
     "start_time": "2022-01-22T07:59:49.002175Z"
    }
   },
   "outputs": [],
   "source": [
    "logging.info(\"#### \\n\\n>>> Starting... >>> \")"
   ]
  },
  {
   "cell_type": "code",
   "execution_count": 10,
   "id": "a5cb4bff",
   "metadata": {
    "ExecuteTime": {
     "end_time": "2022-01-22T07:59:49.011936Z",
     "start_time": "2022-01-22T07:59:49.006579Z"
    }
   },
   "outputs": [],
   "source": [
    "PARAPHRASE_PROJECT_SETTINGS={\n",
    "    'file_and_dirs': {\n",
    "        'file_paraphrased_no_tune_all_model_full' : '../../dfs_generated/paraphrased/t5_no_fine_tune_generated_claim_all_model_df_full_1.pkl', # can be deleted\n",
    "        'file_org_claims_by_scifact' : '../../dfs_generated/scifact/org_claim_ext_label_roberta_large_fever.pkl',\n",
    "    },\n",
    "    'config_scifact' : {\n",
    "        'cls_model_name': '../../scifact/model/label_roberta_large_fever_scifact',\n",
    "        'rationale_model_name': '../../scifact/model/rationale_roberta_large_fever_scifact',\n",
    "        'loc_gold_ds_corpus' : '../../scifact/data/corpus.jsonl', \n",
    "        'loc_gold_ds_train' : '../../scifact/data/claims_train.jsonl', \n",
    "        'loc_gold_ds_dev' : '../../scifact/data/claims_dev.jsonl', \n",
    "\n",
    "    },\n",
    "    \n",
    "    \n",
    "    'paraphrase_model' :\n",
    "    {\n",
    "        'list_potential_paraphrase_models' : \n",
    "            [\n",
    "                {'model_name' : 'parasci_base_no_fine_tune' , 'model_path_or_url' : 'HelloRusk/t5-base-parasci', 'is_selected' : False},\n",
    "                {'model_name' : 'parrot_base_no_fine_tune' , 'model_path_or_url' : 'prithivida/parrot_paraphraser_on_T5', 'is_selected' : False},\n",
    "                {'model_name' : 'parrot_div_base_no_fine_tune' , 'model_path_or_url' : 'prithivida/parrot_paraphraser_on_T5', 'is_selected' : False},\n",
    "                {'model_name' : 'pegasus_base_no_fine_tune' , 'model_path_or_url' : 'tuner007/pegasus_paraphrase', 'is_selected' : False},\n",
    "                {'model_name' : 'paws_base_no_fine_tune' , 'model_path_or_url' : 'Vamsi/T5_Paraphrase_Paws', 'is_selected' : True},\n",
    "                {'model_name' : 'tapaco_base_no_fine_tune' , 'model_path_or_url' : 'hetpandya/t5-base-tapaco', 'is_selected' : False},\n",
    "                {'model_name' : 'sci_five_pubmed' , 'model_path_or_url' : 'razent/SciFive-large-Pubmed_PMC', 'is_selected' : False}\n",
    "            ],\n",
    "        't5_paraphrase_model_params':\n",
    "        {\n",
    "            'max_length':256,\n",
    "            'do_sample':True,\n",
    "            'top_k':50,\n",
    "            'top_p': 0.99,\n",
    "            'repetition_penalty':3.5,\n",
    "            'early_stopping':True,\n",
    "            'num_return_sequences':20\n",
    "        }\n",
    "    },\n",
    "    \n",
    "    'run_settings':\n",
    "    {\n",
    "        'PARAPHRASE_FT_TRAIN_SPLIT' : 0.1,\n",
    "        'PARAPHRASE_FT_DATASET_DIRECTION' : ParaphraseTargetDirection.org_refute_to_gen_support,#ParaphraseTargetDirection.org_support_to_gen_refute,#ParaphraseTargetDirection.org_refute_to_gen_support,\n",
    "        'NUM_OF_EPOCH_REQ_FT' : 2,\n",
    "        'FILTER_BY' : 'TECH_TERMS',\n",
    "        'SIMILARITY_THRESHOLD' : -100\n",
    "        #'CUR_MODEL_NAME_PATHS' : (lambda: [_x['model_path_or_url'] for  _x in PARAPHRASE_PROJECT_SETTINGS['paraphrase_model']['list_potential_paraphrase_models'] if _x['is_selected'] == True])(),\n",
    "    },\n",
    "}\n",
    "\n",
    "CUR_NO_OF_EPOCH_FT = 0"
   ]
  },
  {
   "cell_type": "markdown",
   "id": "117c9407",
   "metadata": {},
   "source": [
    "## Scifact Functinos"
   ]
  },
  {
   "cell_type": "code",
   "execution_count": null,
   "id": "f2d2f14c",
   "metadata": {},
   "outputs": [],
   "source": []
  },
  {
   "cell_type": "markdown",
   "id": "249e379e",
   "metadata": {
    "ExecuteTime": {
     "end_time": "2021-12-26T02:58:23.723272Z",
     "start_time": "2021-12-26T02:58:23.720406Z"
    }
   },
   "source": [
    "### Load data"
   ]
  },
  {
   "cell_type": "code",
   "execution_count": 11,
   "id": "f7258213",
   "metadata": {
    "ExecuteTime": {
     "end_time": "2022-01-22T07:59:49.017671Z",
     "start_time": "2022-01-22T07:59:49.014169Z"
    }
   },
   "outputs": [],
   "source": [
    "def get_claim_label_from_jsonl(dataset_jsonl):\n",
    "    claim_label_list_train = []\n",
    "\n",
    "\n",
    "    for cur_claim in dataset_jsonl:\n",
    "        claim_txt = cur_claim.claim\n",
    "\n",
    "        for doc_id, evidence in cur_claim.evidence.items():\n",
    "\n",
    "            ev_doc = cur_claim.release.corpus.get_document(doc_id)\n",
    "\n",
    "            claim_label = evidence.label.name\n",
    "\n",
    "            tmp_dic = {\"claim\" : claim_txt, \"label\" : claim_label}\n",
    "\n",
    "            claim_label_list_train.append(tmp_dic)\n",
    "    return claim_label_list_train"
   ]
  },
  {
   "cell_type": "code",
   "execution_count": 12,
   "id": "d9e198ae",
   "metadata": {
    "ExecuteTime": {
     "end_time": "2022-01-22T07:59:49.023566Z",
     "start_time": "2022-01-22T07:59:49.019512Z"
    }
   },
   "outputs": [],
   "source": [
    "def get_claim_label_evidence_from_jsonl(dataset_jsonl, source):\n",
    "    claim_label_list_train = []\n",
    "\n",
    "\n",
    "    for cur_claim in dataset_jsonl:\n",
    "        claim_txt = cur_claim.claim\n",
    "\n",
    "        for doc_id, evidence in cur_claim.evidence.items():\n",
    "\n",
    "            ev_doc = claim_train.release.corpus.get_document(doc_id)\n",
    "\n",
    "            claim_label = evidence.label.name\n",
    "            \n",
    "            list_rationales = []\n",
    "            for i, sents in enumerate(evidence.rationales):\n",
    "                list_rationales = [sent for i, sent in enumerate(ev_doc.sentences) if i in sents]\n",
    "\n",
    "            tmp_dic = {\"claim\" : claim_txt, \"label\" : claim_label, \"list_rationales\" :list_rationales, \"source\" :source}\n",
    "\n",
    "            claim_label_list_train.append(tmp_dic)\n",
    "    return claim_label_list_train"
   ]
  },
  {
   "cell_type": "code",
   "execution_count": 13,
   "id": "8fec0f60",
   "metadata": {
    "ExecuteTime": {
     "end_time": "2022-01-22T07:59:49.692686Z",
     "start_time": "2022-01-22T07:59:49.025476Z"
    }
   },
   "outputs": [
    {
     "name": "stdout",
     "output_type": "stream",
     "text": [
      "Example 39: A diminished ovarian reserve does not solely indicate infertility in an a priori non-infertile population.\n",
      "\n",
      "Evidence sets:\n",
      "\n",
      "####################\n",
      "\n",
      "13497630: SUPPORTS\n",
      "Set 0:\n",
      "\t- After adjusting for age, body mass index, race, current smoking status, and recent hormonal contraceptive use, women with low AMH values (<0.7 ng/mL [n = 84]) did not have a significantly different predicted probability of conceiving by 6 cycles of attempt (65%; 95% CI, 50%-75%) compared with women (n = 579) with normal values (62%; 95% CI, 57%-66%) or by 12 cycles of attempt (84% [95% CI, 70%-91%] vs 75% [95% CI, 70%-79%], respectively).\n",
      "Set 1:\n",
      "\t- Women with high serum FSH values (>10 mIU/mL [n = 83]) did not have a significantly different predicted probability of conceiving after 6 cycles of attempt (63%; 95% CI, 50%-73%) compared with women (n = 654) with normal values (62%; 95% CI, 57%-66%) or after 12 cycles of attempt (82% [95% CI, 70%-89%] vs 75% [95% CI, 70%-78%], respectively).\n",
      "Set 2:\n",
      "\t- Women with high urinary FSH values (>11.5 mIU/mg creatinine [n = 69]) did not have a significantly different predicted probability of conceiving after 6 cycles of attempt (61%; 95% CI, 46%-74%) compared with women (n = 660) with normal values (62%; 95% CI, 58%-66%) or after 12 cycles of attempt (70% [95% CI, 54%-80%] vs 76% [95% CI, 72%-80%], respectively).\n",
      "Set 3:\n",
      "\t- Inhibin B levels (n = 737) were not associated with the probability of conceiving in a given cycle (hazard ratio per 1-pg/mL increase, 0.999; 95% CI, 0.997-1.001).\n",
      "Set 4:\n",
      "\t- Conclusions and Relevance Among women aged 30 to 44 years without a history of infertility who had been trying to conceive for 3 months or less, biomarkers indicating diminished ovarian reserve compared with normal ovarian reserve were not associated with reduced fertility.\n"
     ]
    }
   ],
   "source": [
    "ds_train = GoldDataset(PARAPHRASE_PROJECT_SETTINGS['config_scifact']['loc_gold_ds_corpus'],\n",
    "                       PARAPHRASE_PROJECT_SETTINGS['config_scifact']['loc_gold_ds_train'])\n",
    "claim_train = ds_train.get_claim(39)\n",
    "claim_train.pretty_print()\n",
    "\n",
    "dic_train = get_claim_label_evidence_from_jsonl(ds_train, source = \"train\")"
   ]
  },
  {
   "cell_type": "code",
   "execution_count": 14,
   "id": "098083b8",
   "metadata": {
    "ExecuteTime": {
     "end_time": "2022-01-22T07:59:49.906717Z",
     "start_time": "2022-01-22T07:59:49.694558Z"
    }
   },
   "outputs": [
    {
     "name": "stdout",
     "output_type": "stream",
     "text": [
      "Example 42: A high microerythrocyte count raises vulnerability to severe anemia in homozygous alpha (+)- thalassemia trait subjects.\n",
      "\n",
      "Evidence sets:\n",
      "\n",
      "####################\n",
      "\n",
      "18174210: REFUTES\n",
      "Set 0:\n",
      "\t- Individuals homozygous for alpha(+)-thalassaemia have microcytosis and an increased erythrocyte count.\n",
      "\t- We estimated that the haematological profile in children homozygous for alpha(+)-thalassaemia reduces the risk of SMA during acute malaria compared to children of normal genotype (relative risk 0.52; 95% confidence interval [CI] 0.24-1.12, p = 0.09).   \n",
      "\n",
      "Set 1:\n",
      "\t- CONCLUSIONS The increased erythrocyte count and microcytosis in children homozygous for alpha(+)-thalassaemia may contribute substantially to their protection against SMA.\n"
     ]
    }
   ],
   "source": [
    "ds_valid = GoldDataset(PARAPHRASE_PROJECT_SETTINGS['config_scifact']['loc_gold_ds_corpus'],\n",
    "                       PARAPHRASE_PROJECT_SETTINGS['config_scifact']['loc_gold_ds_dev'])\n",
    "claim_valid = ds_valid.get_claim(42)\n",
    "claim_valid.pretty_print()\n",
    "\n",
    "dic_valid = get_claim_label_evidence_from_jsonl(ds_valid, source = \"dev\")"
   ]
  },
  {
   "cell_type": "code",
   "execution_count": 15,
   "id": "732a7d64",
   "metadata": {
    "ExecuteTime": {
     "end_time": "2022-01-22T07:59:49.912804Z",
     "start_time": "2022-01-22T07:59:49.908603Z"
    }
   },
   "outputs": [],
   "source": [
    "def get_dataframes_by_majority_org_claim(df_all_paraphrased_org_claim):\n",
    "    df_all_paraphrased_org_success = df_all_paraphrased_org_claim[df_all_paraphrased_org_claim['org_comment'] == 'success']\n",
    "    \n",
    "    # Select claims with majority\n",
    "    df_paraphrased_org_support_major = df_all_paraphrased_org_success[\n",
    "        df_all_paraphrased_org_success['org_count_support'] > df_all_paraphrased_org_success['org_count_refute']\n",
    "    ]\n",
    "\n",
    "    \n",
    "    df_paraphrased_org_refute_major = df_all_paraphrased_org_success[\n",
    "        df_all_paraphrased_org_success['org_count_support'] < df_all_paraphrased_org_success['org_count_refute']\n",
    "    ]\n",
    "    \n",
    "    return df_paraphrased_org_support_major, df_paraphrased_org_refute_major, df_all_paraphrased_org_success"
   ]
  },
  {
   "cell_type": "code",
   "execution_count": 16,
   "id": "d35d8f5a",
   "metadata": {
    "ExecuteTime": {
     "end_time": "2022-01-22T07:59:49.932041Z",
     "start_time": "2022-01-22T07:59:49.916282Z"
    }
   },
   "outputs": [
    {
     "name": "stderr",
     "output_type": "stream",
     "text": [
      "/home/qudratealahyratu/.local/lib/python3.7/site-packages/ipykernel_launcher.py:5: SettingWithCopyWarning: \n",
      "A value is trying to be set on a copy of a slice from a DataFrame.\n",
      "Try using .loc[row_indexer,col_indexer] = value instead\n",
      "\n",
      "See the caveats in the documentation: https://pandas.pydata.org/pandas-docs/stable/user_guide/indexing.html#returning-a-view-versus-a-copy\n",
      "  \"\"\"\n",
      "/home/qudratealahyratu/.local/lib/python3.7/site-packages/ipykernel_launcher.py:6: SettingWithCopyWarning: \n",
      "A value is trying to be set on a copy of a slice from a DataFrame.\n",
      "Try using .loc[row_indexer,col_indexer] = value instead\n",
      "\n",
      "See the caveats in the documentation: https://pandas.pydata.org/pandas-docs/stable/user_guide/indexing.html#returning-a-view-versus-a-copy\n",
      "  \n"
     ]
    }
   ],
   "source": [
    "#\n",
    "\n",
    "df_org_claims_by_scifact = pd.read_pickle(PARAPHRASE_PROJECT_SETTINGS['file_and_dirs']['file_org_claims_by_scifact'])\n",
    "df_org_claims_by_scifact_support_major, df_org_claims_by_scifact_refute_major, df_org_claims_by_scifact_sci_success = get_dataframes_by_majority_org_claim(df_org_claims_by_scifact)\n",
    "df_org_claims_by_scifact_support_major['label'] = 'support'\n",
    "df_org_claims_by_scifact_refute_major['label'] = 'refute'\n",
    "df_org_claims_by_scifact_majority = pd.concat([df_org_claims_by_scifact_support_major, df_org_claims_by_scifact_refute_major], ignore_index=True)"
   ]
  },
  {
   "cell_type": "code",
   "execution_count": 17,
   "id": "10f77b3e",
   "metadata": {
    "ExecuteTime": {
     "end_time": "2022-01-22T07:59:51.608464Z",
     "start_time": "2022-01-22T07:59:51.603534Z"
    }
   },
   "outputs": [],
   "source": [
    "#df_claim_evid_label = df_org_claims_by_scifact.copy()\n",
    "df_claim_evid_label = df_org_claims_by_scifact_support_major.copy()#df_org_claims_by_scifact_majority.copy()"
   ]
  },
  {
   "cell_type": "code",
   "execution_count": 18,
   "id": "7b3c406a",
   "metadata": {
    "ExecuteTime": {
     "end_time": "2022-01-22T07:59:53.135716Z",
     "start_time": "2022-01-22T07:59:53.098353Z"
    }
   },
   "outputs": [
    {
     "data": {
      "text/html": [
       "<div>\n",
       "<style scoped>\n",
       "    .dataframe tbody tr th:only-of-type {\n",
       "        vertical-align: middle;\n",
       "    }\n",
       "\n",
       "    .dataframe tbody tr th {\n",
       "        vertical-align: top;\n",
       "    }\n",
       "\n",
       "    .dataframe thead th {\n",
       "        text-align: right;\n",
       "    }\n",
       "</style>\n",
       "<table border=\"1\" class=\"dataframe\">\n",
       "  <thead>\n",
       "    <tr style=\"text-align: right;\">\n",
       "      <th></th>\n",
       "      <th>org_claim</th>\n",
       "      <th>ground_label</th>\n",
       "      <th>ground_list_rationales</th>\n",
       "      <th>source</th>\n",
       "      <th>org_count_support</th>\n",
       "      <th>org_count_refute</th>\n",
       "      <th>org_list_supported_ids</th>\n",
       "      <th>org_list_refuted_ids</th>\n",
       "      <th>org_list_supported_confidence</th>\n",
       "      <th>org_list_refuted_confidence</th>\n",
       "      <th>org_list_supported_confidence_mean</th>\n",
       "      <th>org_list_refuted_confidence_mean</th>\n",
       "      <th>org_comment</th>\n",
       "      <th>label</th>\n",
       "    </tr>\n",
       "  </thead>\n",
       "  <tbody>\n",
       "    <tr>\n",
       "      <th>4</th>\n",
       "      <td>A T helper 2 cell (Th2) environment impedes di...</td>\n",
       "      <td>REFUTES</td>\n",
       "      <td>[Thus, in Lyn(-/-) mice, basophils and IgE aut...</td>\n",
       "      <td>train</td>\n",
       "      <td>2</td>\n",
       "      <td>0</td>\n",
       "      <td>[xdnh9tos.00001, 1ac14ga6]</td>\n",
       "      <td>[]</td>\n",
       "      <td>[0.9057600498199463, 0.6250916123390198]</td>\n",
       "      <td>[]</td>\n",
       "      <td>0.77</td>\n",
       "      <td>0.0</td>\n",
       "      <td>success</td>\n",
       "      <td>support</td>\n",
       "    </tr>\n",
       "    <tr>\n",
       "      <th>5</th>\n",
       "      <td>A breast cancer patient's capacity to metaboli...</td>\n",
       "      <td>SUPPORTS</td>\n",
       "      <td>[CONCLUSION Among women with breast cancer tre...</td>\n",
       "      <td>train</td>\n",
       "      <td>2</td>\n",
       "      <td>0</td>\n",
       "      <td>[fhonfnxq, xl6mn88e.00030]</td>\n",
       "      <td>[]</td>\n",
       "      <td>[0.6208126544952393, 0.5789633989334106]</td>\n",
       "      <td>[]</td>\n",
       "      <td>0.60</td>\n",
       "      <td>0.0</td>\n",
       "      <td>success</td>\n",
       "      <td>support</td>\n",
       "    </tr>\n",
       "    <tr>\n",
       "      <th>8</th>\n",
       "      <td>A diminished ovarian reserve does not solely i...</td>\n",
       "      <td>SUPPORTS</td>\n",
       "      <td>[Conclusions and Relevance Among women aged 30...</td>\n",
       "      <td>train</td>\n",
       "      <td>1</td>\n",
       "      <td>0</td>\n",
       "      <td>[2uq7frue.00018]</td>\n",
       "      <td>[]</td>\n",
       "      <td>[0.9632894992828369]</td>\n",
       "      <td>[]</td>\n",
       "      <td>0.96</td>\n",
       "      <td>0.0</td>\n",
       "      <td>success</td>\n",
       "      <td>support</td>\n",
       "    </tr>\n",
       "    <tr>\n",
       "      <th>14</th>\n",
       "      <td>ALDH1 expression is associated with poorer pro...</td>\n",
       "      <td>SUPPORTS</td>\n",
       "      <td>[In a series of 577 breast carcinomas, express...</td>\n",
       "      <td>train</td>\n",
       "      <td>1</td>\n",
       "      <td>0</td>\n",
       "      <td>[cgqixu3g.00004]</td>\n",
       "      <td>[]</td>\n",
       "      <td>[0.901647686958313]</td>\n",
       "      <td>[]</td>\n",
       "      <td>0.90</td>\n",
       "      <td>0.0</td>\n",
       "      <td>success</td>\n",
       "      <td>support</td>\n",
       "    </tr>\n",
       "    <tr>\n",
       "      <th>15</th>\n",
       "      <td>AMP-activated protein kinase (AMPK) activation...</td>\n",
       "      <td>SUPPORTS</td>\n",
       "      <td>[These studies implicate deficient AMPK activa...</td>\n",
       "      <td>train</td>\n",
       "      <td>1</td>\n",
       "      <td>0</td>\n",
       "      <td>[nwbmxepi.00025]</td>\n",
       "      <td>[]</td>\n",
       "      <td>[0.6593549251556396]</td>\n",
       "      <td>[]</td>\n",
       "      <td>0.66</td>\n",
       "      <td>0.0</td>\n",
       "      <td>success</td>\n",
       "      <td>support</td>\n",
       "    </tr>\n",
       "    <tr>\n",
       "      <th>...</th>\n",
       "      <td>...</td>\n",
       "      <td>...</td>\n",
       "      <td>...</td>\n",
       "      <td>...</td>\n",
       "      <td>...</td>\n",
       "      <td>...</td>\n",
       "      <td>...</td>\n",
       "      <td>...</td>\n",
       "      <td>...</td>\n",
       "      <td>...</td>\n",
       "      <td>...</td>\n",
       "      <td>...</td>\n",
       "      <td>...</td>\n",
       "      <td>...</td>\n",
       "    </tr>\n",
       "    <tr>\n",
       "      <th>678</th>\n",
       "      <td>Transplanted human glial cells can differentia...</td>\n",
       "      <td>SUPPORTS</td>\n",
       "      <td>[Upon maturation, the recipient brains exhibit...</td>\n",
       "      <td>dev</td>\n",
       "      <td>7</td>\n",
       "      <td>0</td>\n",
       "      <td>[fogwvtbb, dkze9ees.00047, wl29jk16.00024, d8y...</td>\n",
       "      <td>[]</td>\n",
       "      <td>[0.9529715180397034, 0.9082880616188049, 0.817...</td>\n",
       "      <td>[]</td>\n",
       "      <td>0.76</td>\n",
       "      <td>0.0</td>\n",
       "      <td>success</td>\n",
       "      <td>support</td>\n",
       "    </tr>\n",
       "    <tr>\n",
       "      <th>684</th>\n",
       "      <td>Upregulation of mosGCTL-1 is induced upon infe...</td>\n",
       "      <td>SUPPORTS</td>\n",
       "      <td>[During the mosquito blood-feeding process, WN...</td>\n",
       "      <td>dev</td>\n",
       "      <td>1</td>\n",
       "      <td>0</td>\n",
       "      <td>[5dl2vc6q.00014]</td>\n",
       "      <td>[]</td>\n",
       "      <td>[0.5131313800811768]</td>\n",
       "      <td>[]</td>\n",
       "      <td>0.51</td>\n",
       "      <td>0.0</td>\n",
       "      <td>success</td>\n",
       "      <td>support</td>\n",
       "    </tr>\n",
       "    <tr>\n",
       "      <th>686</th>\n",
       "      <td>Vitamin D deficiency effects the term of deliv...</td>\n",
       "      <td>SUPPORTS</td>\n",
       "      <td>[Pregnant women with low 25-OHD levels had an ...</td>\n",
       "      <td>dev</td>\n",
       "      <td>2</td>\n",
       "      <td>0</td>\n",
       "      <td>[9dnyog5i, x78rfxny.00007]</td>\n",
       "      <td>[]</td>\n",
       "      <td>[0.843468189239502, 0.8418176174163818]</td>\n",
       "      <td>[]</td>\n",
       "      <td>0.84</td>\n",
       "      <td>0.0</td>\n",
       "      <td>success</td>\n",
       "      <td>support</td>\n",
       "    </tr>\n",
       "    <tr>\n",
       "      <th>687</th>\n",
       "      <td>Vitamin D deficiency is unrelated to birth wei...</td>\n",
       "      <td>REFUTES</td>\n",
       "      <td>[Pregnant women with low 25-OHD levels had an ...</td>\n",
       "      <td>dev</td>\n",
       "      <td>1</td>\n",
       "      <td>0</td>\n",
       "      <td>[x3aegz8v.00001]</td>\n",
       "      <td>[]</td>\n",
       "      <td>[0.6699669361114502]</td>\n",
       "      <td>[]</td>\n",
       "      <td>0.67</td>\n",
       "      <td>0.0</td>\n",
       "      <td>success</td>\n",
       "      <td>support</td>\n",
       "    </tr>\n",
       "    <tr>\n",
       "      <th>690</th>\n",
       "      <td>cSMAC formation enhances weak ligand signalling.</td>\n",
       "      <td>SUPPORTS</td>\n",
       "      <td>[This conclusion was supported by experiments ...</td>\n",
       "      <td>dev</td>\n",
       "      <td>1</td>\n",
       "      <td>0</td>\n",
       "      <td>[5no746n6.00039]</td>\n",
       "      <td>[]</td>\n",
       "      <td>[0.676954984664917]</td>\n",
       "      <td>[]</td>\n",
       "      <td>0.68</td>\n",
       "      <td>0.0</td>\n",
       "      <td>success</td>\n",
       "      <td>support</td>\n",
       "    </tr>\n",
       "  </tbody>\n",
       "</table>\n",
       "<p>204 rows × 14 columns</p>\n",
       "</div>"
      ],
      "text/plain": [
       "                                             org_claim ground_label  \\\n",
       "4    A T helper 2 cell (Th2) environment impedes di...      REFUTES   \n",
       "5    A breast cancer patient's capacity to metaboli...     SUPPORTS   \n",
       "8    A diminished ovarian reserve does not solely i...     SUPPORTS   \n",
       "14   ALDH1 expression is associated with poorer pro...     SUPPORTS   \n",
       "15   AMP-activated protein kinase (AMPK) activation...     SUPPORTS   \n",
       "..                                                 ...          ...   \n",
       "678  Transplanted human glial cells can differentia...     SUPPORTS   \n",
       "684  Upregulation of mosGCTL-1 is induced upon infe...     SUPPORTS   \n",
       "686  Vitamin D deficiency effects the term of deliv...     SUPPORTS   \n",
       "687  Vitamin D deficiency is unrelated to birth wei...      REFUTES   \n",
       "690   cSMAC formation enhances weak ligand signalling.     SUPPORTS   \n",
       "\n",
       "                                ground_list_rationales source  \\\n",
       "4    [Thus, in Lyn(-/-) mice, basophils and IgE aut...  train   \n",
       "5    [CONCLUSION Among women with breast cancer tre...  train   \n",
       "8    [Conclusions and Relevance Among women aged 30...  train   \n",
       "14   [In a series of 577 breast carcinomas, express...  train   \n",
       "15   [These studies implicate deficient AMPK activa...  train   \n",
       "..                                                 ...    ...   \n",
       "678  [Upon maturation, the recipient brains exhibit...    dev   \n",
       "684  [During the mosquito blood-feeding process, WN...    dev   \n",
       "686  [Pregnant women with low 25-OHD levels had an ...    dev   \n",
       "687  [Pregnant women with low 25-OHD levels had an ...    dev   \n",
       "690  [This conclusion was supported by experiments ...    dev   \n",
       "\n",
       "     org_count_support  org_count_refute  \\\n",
       "4                    2                 0   \n",
       "5                    2                 0   \n",
       "8                    1                 0   \n",
       "14                   1                 0   \n",
       "15                   1                 0   \n",
       "..                 ...               ...   \n",
       "678                  7                 0   \n",
       "684                  1                 0   \n",
       "686                  2                 0   \n",
       "687                  1                 0   \n",
       "690                  1                 0   \n",
       "\n",
       "                                org_list_supported_ids org_list_refuted_ids  \\\n",
       "4                           [xdnh9tos.00001, 1ac14ga6]                   []   \n",
       "5                           [fhonfnxq, xl6mn88e.00030]                   []   \n",
       "8                                     [2uq7frue.00018]                   []   \n",
       "14                                    [cgqixu3g.00004]                   []   \n",
       "15                                    [nwbmxepi.00025]                   []   \n",
       "..                                                 ...                  ...   \n",
       "678  [fogwvtbb, dkze9ees.00047, wl29jk16.00024, d8y...                   []   \n",
       "684                                   [5dl2vc6q.00014]                   []   \n",
       "686                         [9dnyog5i, x78rfxny.00007]                   []   \n",
       "687                                   [x3aegz8v.00001]                   []   \n",
       "690                                   [5no746n6.00039]                   []   \n",
       "\n",
       "                         org_list_supported_confidence  \\\n",
       "4             [0.9057600498199463, 0.6250916123390198]   \n",
       "5             [0.6208126544952393, 0.5789633989334106]   \n",
       "8                                 [0.9632894992828369]   \n",
       "14                                 [0.901647686958313]   \n",
       "15                                [0.6593549251556396]   \n",
       "..                                                 ...   \n",
       "678  [0.9529715180397034, 0.9082880616188049, 0.817...   \n",
       "684                               [0.5131313800811768]   \n",
       "686            [0.843468189239502, 0.8418176174163818]   \n",
       "687                               [0.6699669361114502]   \n",
       "690                                [0.676954984664917]   \n",
       "\n",
       "    org_list_refuted_confidence  org_list_supported_confidence_mean  \\\n",
       "4                            []                                0.77   \n",
       "5                            []                                0.60   \n",
       "8                            []                                0.96   \n",
       "14                           []                                0.90   \n",
       "15                           []                                0.66   \n",
       "..                          ...                                 ...   \n",
       "678                          []                                0.76   \n",
       "684                          []                                0.51   \n",
       "686                          []                                0.84   \n",
       "687                          []                                0.67   \n",
       "690                          []                                0.68   \n",
       "\n",
       "     org_list_refuted_confidence_mean org_comment    label  \n",
       "4                                 0.0     success  support  \n",
       "5                                 0.0     success  support  \n",
       "8                                 0.0     success  support  \n",
       "14                                0.0     success  support  \n",
       "15                                0.0     success  support  \n",
       "..                                ...         ...      ...  \n",
       "678                               0.0     success  support  \n",
       "684                               0.0     success  support  \n",
       "686                               0.0     success  support  \n",
       "687                               0.0     success  support  \n",
       "690                               0.0     success  support  \n",
       "\n",
       "[204 rows x 14 columns]"
      ]
     },
     "execution_count": 18,
     "metadata": {},
     "output_type": "execute_result"
    }
   ],
   "source": [
    "df_claim_evid_label"
   ]
  },
  {
   "cell_type": "markdown",
   "id": "1aed2043",
   "metadata": {},
   "source": [
    "### Scifact Model"
   ]
  },
  {
   "cell_type": "code",
   "execution_count": 19,
   "id": "dcc9d048",
   "metadata": {
    "ExecuteTime": {
     "end_time": "2022-01-22T07:59:55.047726Z",
     "start_time": "2022-01-22T07:59:55.034803Z"
    }
   },
   "outputs": [],
   "source": [
    "class ArgsScifact:\n",
    "    def __init__(self, claim):\n",
    "        self.claim = claim\n",
    "        self.report_file = \"../../scifact/results/covid/report\" #not needed\n",
    "        self.n_documents = 100\n",
    "        self.rationale_selection_method = \"topk\"\n",
    "        self.output_format = \"markdown\"\n",
    "        self.rationale_threshold = 0.5\n",
    "        self.label_threshold = 0.5\n",
    "        self.keep_nei = False\n",
    "        self.full_abstract = True\n",
    "        self.verbose = True\n",
    "        self.device = torch.device(\"cuda\") if torch.cuda.is_available() else torch.device(\"cpu\")\n",
    "        \n",
    "        ##\n",
    "class PretrainedModelsForScifact:\n",
    "    def __init__(self, args):\n",
    "        if args.device is None:\n",
    "            self.device = torch.device('cuda' if torch.cuda.is_available() else 'cpu')\n",
    "        else:\n",
    "            self.device = torch.device(args.device)\n",
    "            \n",
    "        #self.rationale_selection_model = '/home/qudratealahyratu/research/nlp/fact_checking/my_work/scifact/model/rationale_roberta_large_scifact'\n",
    "        self.rationale_selection_model = PARAPHRASE_PROJECT_SETTINGS['config_scifact']['rationale_model_name']\n",
    "        self.label_prediction_model = PARAPHRASE_PROJECT_SETTINGS['config_scifact']['cls_model_name']\n",
    "        self.abstract_retriever = AbstractRetriever()\n",
    "        self.rationale_selector = RationaleSelector(self.rationale_selection_model,\n",
    "                                               args.rationale_selection_method,\n",
    "                                               args.rationale_threshold,\n",
    "                                               self.device)\n",
    "        self.label_predictor = LabelPredictor(self.label_prediction_model,\n",
    "                                         args.keep_nei,\n",
    "                                         args.label_threshold,\n",
    "                                         self.device)\n"
   ]
  },
  {
   "cell_type": "code",
   "execution_count": 20,
   "id": "d1fa2fdf",
   "metadata": {
    "ExecuteTime": {
     "end_time": "2022-01-22T08:00:10.485659Z",
     "start_time": "2022-01-22T07:59:55.540860Z"
    }
   },
   "outputs": [
    {
     "name": "stderr",
     "output_type": "stream",
     "text": [
      "Some weights of the model checkpoint at ../../scifact/model/rationale_roberta_large_fever_scifact were not used when initializing RobertaForSequenceClassification: ['roberta.pooler.dense.bias', 'roberta.pooler.dense.weight']\n",
      "- This IS expected if you are initializing RobertaForSequenceClassification from the checkpoint of a model trained on another task or with another architecture (e.g. initializing a BertForSequenceClassification model from a BertForPreTraining model).\n",
      "- This IS NOT expected if you are initializing RobertaForSequenceClassification from the checkpoint of a model that you expect to be exactly identical (initializing a BertForSequenceClassification model from a BertForSequenceClassification model).\n",
      "Some weights of the model checkpoint at ../../scifact/model/label_roberta_large_fever_scifact were not used when initializing RobertaForSequenceClassification: ['roberta.pooler.dense.bias', 'roberta.pooler.dense.weight']\n",
      "- This IS expected if you are initializing RobertaForSequenceClassification from the checkpoint of a model trained on another task or with another architecture (e.g. initializing a BertForSequenceClassification model from a BertForPreTraining model).\n",
      "- This IS NOT expected if you are initializing RobertaForSequenceClassification from the checkpoint of a model that you expect to be exactly identical (initializing a BertForSequenceClassification model from a BertForSequenceClassification model).\n"
     ]
    }
   ],
   "source": [
    "args_sci = ArgsScifact(\"\")\n",
    "\n",
    "pretrained_models_config = PretrainedModelsForScifact(args_sci)"
   ]
  },
  {
   "cell_type": "code",
   "execution_count": 21,
   "id": "9ad4cd05",
   "metadata": {
    "ExecuteTime": {
     "end_time": "2022-01-22T08:00:10.497515Z",
     "start_time": "2022-01-22T08:00:10.489249Z"
    }
   },
   "outputs": [],
   "source": [
    "log_failed_claim = []\n",
    "def inference(args, pretraind_models_config):\n",
    "\n",
    "    try:\n",
    "#         if args.verbose:\n",
    "#         print(\"Retrieving abstracts. inference > \", args.claim)\n",
    "        results = pretraind_models_config.abstract_retriever(args.claim, k=args.n_documents)\n",
    "        if len(results) == 0:\n",
    "            temp_dic = {'failed_in' : 'abstract retrival', 'claim': args.claim}\n",
    "            log_failed_claim.append(temp_dic)\n",
    "            return []\n",
    "        \n",
    "        #print(\"abstract_retriever >> \", results)\n",
    "\n",
    "#         if args.verbose:\n",
    "#             print(\"Selecting rationales. inference > \", args.claim)\n",
    "        results = pretraind_models_config.rationale_selector(args.claim, results)\n",
    "        if len(results) == 0:\n",
    "            temp_dic = {'failed_in' : 'Rationale selection', 'claim': args.claim}\n",
    "            log_failed_claim.append(temp_dic)\n",
    "            return []\n",
    "        \n",
    "#         if args.verbose:\n",
    "#             print(\"Label predictions. inference > \", args.claim)\n",
    "        results = pretraind_models_config.label_predictor(args.claim, results)\n",
    "\n",
    "        if len(results) == 0:\n",
    "            temp_dic = {'failed_in' : 'Label Prediction', 'claim': args.claim}\n",
    "            log_failed_claim.append(temp_dic)\n",
    "            return []\n",
    "        \n",
    "        results.sort(key=lambda r: r['label_confidence'], reverse=True)\n",
    "        return results\n",
    "    except Exception as e:\n",
    "        print(\"Exception :: Inference cant retrive info for >> \", args.claim)\n",
    "        print(sys.exc_info()[0])\n",
    "        print(traceback.format_exc())\n",
    "        temp_dic = {'failed_in' : sys.exc_info()[0], 'claim': args.claim}\n",
    "        log_failed_claim.append(temp_dic)\n",
    "        return []\n"
   ]
  },
  {
   "cell_type": "code",
   "execution_count": 22,
   "id": "0456c634",
   "metadata": {
    "ExecuteTime": {
     "end_time": "2022-01-22T08:00:10.505777Z",
     "start_time": "2022-01-22T08:00:10.499702Z"
    }
   },
   "outputs": [],
   "source": [
    "def write_result(result, full_abstract):\n",
    "    all_msg = \"\"\n",
    "    all_msg = f\"#### [{result['title']}]({result['url']}) \\n\"\n",
    "    #print(msg, file=f)\n",
    "    #all_msg = all_msg+msg\n",
    "    ev_scores = [f\"{x:0.2f}\" for x in result[\"evidence_confidence\"]]\n",
    "    ev_scores = \", \".join(ev_scores)\n",
    "    if result['label'].lower() == \"support\":\n",
    "        msg = f\"🟩 **Decision** : {result['label']} (score={result['label_confidence']:0.2f}, evidence scores={ev_scores})\\n\"\n",
    "    elif result['label'].lower() == \"refute\":\n",
    "        msg = f\"🟥 **Decision** : {result['label']} (score={result['label_confidence']:0.2f}, evidence scores={ev_scores})\\n\"\n",
    "    else:\n",
    "        msg = f\"⏺ **Decision** : {result['label']} (score={result['label_confidence']:0.2f}, evidence scores={ev_scores})\\n\"\n",
    "    #print(msg, file=f)\n",
    "    all_msg = all_msg+msg \n",
    "    \n",
    "    for i, line in enumerate(result[\"abstract\"]):\n",
    "        # If we're showing the full abstract, show evidence in green.\n",
    "        if full_abstract:\n",
    "            if result['label'].lower() == \"support\":\n",
    "                msg = (f\"- <span style='color:green'>{line}</span>\"\n",
    "                       if i in result[\"evidence\"]\n",
    "                       else f\"- {line}\")\n",
    "            elif result['label'].lower() == \"refute\":\n",
    "                msg = (f\"- <span style='color:red'>{line}</span>\"\n",
    "                       if i in result[\"evidence\"]\n",
    "                       else f\"- {line}\")                \n",
    "            #print(msg, file=f)\n",
    "            all_msg = all_msg+msg + \" \\n\"\n",
    "        else:\n",
    "            if i in result[\"evidence\"]:\n",
    "                msg = f\"- {line}\"\n",
    "                #print(msg, file=f)\n",
    "                all_msg = all_msg+msg + \" \\n\" \n",
    "    \n",
    "    #print(file=f)\n",
    "    #print(40 * \"-\", file=f)\n",
    "    #print(file=f)\n",
    "    all_msg = all_msg+msg \n",
    "    return all_msg + \"\\n\""
   ]
  },
  {
   "cell_type": "code",
   "execution_count": 23,
   "id": "96b77196",
   "metadata": {
    "ExecuteTime": {
     "end_time": "2022-01-22T08:00:10.513414Z",
     "start_time": "2022-01-22T08:00:10.507942Z"
    }
   },
   "outputs": [],
   "source": [
    "def export(args, results):\n",
    "    all_msg = \"\"\n",
    "    claim = args.claim\n",
    "    #report_file = args.report_file\n",
    "    #f = open(f\"{report_file}.md\", \"w\")\n",
    "    msg = f\"### Claim \\n > **{claim}** \\n \"\n",
    "    #print(msg, file=f)\n",
    "    #print(file=f)\n",
    "    all_msg = all_msg +msg\n",
    "    \n",
    "    #support_confs = [], refute_confs = []\n",
    "    confs = []\n",
    "    for result in results:\n",
    "        if result['label'].lower() == \"support\":\n",
    "            tmp_dic = {'label' : 'Support', 'label_confidence' : result[\"label_confidence\"], \"no_of_evidence\" : len(result['evidence_confidence'])}\n",
    "            confs.append(tmp_dic)\n",
    "        elif result['label'].lower() == \"refute\":\n",
    "            tmp_dic = {'label' : 'Refute', 'label_confidence' : -result[\"label_confidence\"], \"no_of_evidence\" : len(result['evidence_confidence'])}\n",
    "            confs.append(tmp_dic)\n",
    "        \n",
    "    \n",
    "    tpm_df = pd.DataFrame(confs)\n",
    "    #HTML(tpm_df.style.bar(align='mid', color=['#d65f5f', '#5fba7d']))\n",
    "    display(HTML(tpm_df.style.bar(subset=[\"label_confidence\"], align='mid', color=['#ffa1a1', '#bfffcf']).render()))\n",
    "    \n",
    "    msg = \"### Evidence \\n \"\n",
    "    all_msg = all_msg +msg\n",
    "    for result in results:\n",
    "        cur_msg = write_result(result, args.full_abstract)\n",
    "        all_msg = all_msg +cur_msg+\"\\n\"\n",
    "\n",
    "    return all_msg"
   ]
  },
  {
   "cell_type": "code",
   "execution_count": 24,
   "id": "dfa5914e",
   "metadata": {
    "ExecuteTime": {
     "end_time": "2022-01-22T08:00:16.735755Z",
     "start_time": "2022-01-22T08:00:10.515457Z"
    }
   },
   "outputs": [
    {
     "name": "stderr",
     "output_type": "stream",
     "text": [
      "/home/qudratealahyratu/anaconda3/envs/scifact/lib/python3.7/site-packages/transformers/tokenization_utils_base.py:2190: FutureWarning: The `pad_to_max_length` argument is deprecated and will be removed in a future version, use `padding=True` or `padding='longest'` to pad to the longest sequence in the batch, or use `padding='max_length'` to pad to a max length. In this case, you can give a specific length with `max_length` (e.g. `max_length=45`) or leave max_length to None to pad to the maximal input size of the model (e.g. 512 for Bert).\n",
      "  FutureWarning,\n"
     ]
    },
    {
     "data": {
      "text/html": [
       "<style type=\"text/css\">\n",
       "#T_d02df_row0_col1 {\n",
       "  width: 10em;\n",
       "  height: 80%;\n",
       "  background: linear-gradient(90deg,#bfffcf 100.0%, transparent 100.0%);\n",
       "}\n",
       "#T_d02df_row1_col1 {\n",
       "  width: 10em;\n",
       "  height: 80%;\n",
       "  background: linear-gradient(90deg,#bfffcf 92.9%, transparent 92.9%);\n",
       "}\n",
       "#T_d02df_row2_col1 {\n",
       "  width: 10em;\n",
       "  height: 80%;\n",
       "  background: linear-gradient(90deg,#bfffcf 78.5%, transparent 78.5%);\n",
       "}\n",
       "</style>\n",
       "<table id=\"T_d02df_\">\n",
       "  <thead>\n",
       "    <tr>\n",
       "      <th class=\"blank level0\" >&nbsp;</th>\n",
       "      <th class=\"col_heading level0 col0\" >label</th>\n",
       "      <th class=\"col_heading level0 col1\" >label_confidence</th>\n",
       "      <th class=\"col_heading level0 col2\" >no_of_evidence</th>\n",
       "    </tr>\n",
       "  </thead>\n",
       "  <tbody>\n",
       "    <tr>\n",
       "      <th id=\"T_d02df_level0_row0\" class=\"row_heading level0 row0\" >0</th>\n",
       "      <td id=\"T_d02df_row0_col0\" class=\"data row0 col0\" >Support</td>\n",
       "      <td id=\"T_d02df_row0_col1\" class=\"data row0 col1\" >0.69</td>\n",
       "      <td id=\"T_d02df_row0_col2\" class=\"data row0 col2\" >3</td>\n",
       "    </tr>\n",
       "    <tr>\n",
       "      <th id=\"T_d02df_level0_row1\" class=\"row_heading level0 row1\" >1</th>\n",
       "      <td id=\"T_d02df_row1_col0\" class=\"data row1 col0\" >Support</td>\n",
       "      <td id=\"T_d02df_row1_col1\" class=\"data row1 col1\" >0.64</td>\n",
       "      <td id=\"T_d02df_row1_col2\" class=\"data row1 col2\" >3</td>\n",
       "    </tr>\n",
       "    <tr>\n",
       "      <th id=\"T_d02df_level0_row2\" class=\"row_heading level0 row2\" >2</th>\n",
       "      <td id=\"T_d02df_row2_col0\" class=\"data row2 col0\" >Support</td>\n",
       "      <td id=\"T_d02df_row2_col1\" class=\"data row2 col1\" >0.54</td>\n",
       "      <td id=\"T_d02df_row2_col2\" class=\"data row2 col2\" >3</td>\n",
       "    </tr>\n",
       "  </tbody>\n",
       "</table>\n"
      ],
      "text/plain": [
       "<IPython.core.display.HTML object>"
      ]
     },
     "metadata": {},
     "output_type": "display_data"
    },
    {
     "data": {
      "text/markdown": [
       "### Claim \n",
       " > **ART substantially reduces infectiveness of HIV-positive people.** \n",
       " ### Evidence \n",
       " #### [Autonomous Targeting of Infectious Superspreaders Using Engineered Transmissible Therapies](https://api.semanticscholar.org/10.1371/journal.pcbi.1002015) \n",
       "🟩 **Decision** : SUPPORT (score=0.69, evidence scores=0.11, 0.06, 0.01)\n",
       "- Infectious disease treatments, both pharmaceutical and vaccine, face three universal challenges: the difficulty of targeting treatments to high-risk ‘superspreader’ populations who drive the great majority of disease spread, behavioral barriers in the host population (such as poor compliance and risk disinhibition), and the evolution of pathogen resistance. \n",
       "- Here, we describe a proposed intervention that would overcome these challenges by capitalizing upon Therapeutic Interfering Particles (TIPs) that are engineered to replicate conditionally in the presence of the pathogen and spread between individuals — analogous to ‘transmissible immunization’ that occurs with live-attenuated vaccines (but without the potential for reversion to virulence). \n",
       "- Building on analyses of HIV field data from sub-Saharan Africa, we construct a multi-scale model, beginning at the single-cell level, to predict the effect of TIPs on individual patient viral loads and ultimately population-level disease prevalence. \n",
       "- <span style='color:green'>Our results show that a TIP, engineered with properties based on a recent HIV gene-therapy trial, could stably lower HIV/AIDS prevalence by ∼30-fold within 50 years and could complement current therapies.</span> \n",
       "- <span style='color:green'>In contrast, optimistic antiretroviral therapy or vaccination campaigns alone could only lower HIV/AIDS prevalence by <2-fold over 50 years.</span> \n",
       "- The TIP's efficacy arises from its exploitation of the same risk factors as the pathogen, allowing it to autonomously penetrate superspreader populations, maintain efficacy despite behavioral disinhibition, and limit viral resistance. \n",
       "- <span style='color:green'>While demonstrated here for HIV, the TIP concept could apply broadly to many viral infectious diseases and would represent a new paradigm for disease control, away from pathogen eradication but toward robust disease suppression.</span> \n",
       "- <span style='color:green'>While demonstrated here for HIV, the TIP concept could apply broadly to many viral infectious diseases and would represent a new paradigm for disease control, away from pathogen eradication but toward robust disease suppression.</span>\n",
       "\n",
       "#### [HIV: Biology to Treatment](https://api.semanticscholar.org/10.1007/978-981-32-9898-9_7) \n",
       "🟩 **Decision** : SUPPORT (score=0.64, evidence scores=0.67, 0.01, 0.37)\n",
       "- AIDS is one of the most dreaded diseases of the twenty-first century caused by human immunodeficiency virus (HIV). \n",
       "- <span style='color:green'>Recently, there are reports which show decline in new infections due to better access to anti-retroviral drugs.</span> \n",
       "- <span style='color:green'>Still on a daily basis, ~2356 new HIV infections are being reported globally.</span> \n",
       "- New treatments and anti-HIV drugs are being continuously developed with the aim to control and cure AIDS. \n",
       "- The anti-HIV drugs that are in use usually target HIV entry and replication inside the host cells. \n",
       "- <span style='color:green'>However, these drugs are only partially effective in slowing the rate of HIV replication.</span> \n",
       "- Nevertheless, the virus manages to replicate at much slower rates even when anti-retroviral treatment is ongoing. \n",
       "- The HIV seropositives who are on anti-retroviral treatment for long periods of time are now developing different kinds of other complications including neuroAIDS. \n",
       "- The latest development in HIV therapy is a novel kind of bone marrow transplantation from donors who have a homozygous mutation in CCR5 gene. \n",
       "- The latest development in HIV therapy is a novel kind of bone marrow transplantation from donors who have a homozygous mutation in CCR5 gene.\n",
       "\n",
       "#### [Human Immunodeficiency Virus-Associated Diarrhea: Still an Issue in the Era of Antiretroviral Therapy](https://api.semanticscholar.org/10.1007/s10620-015-3615-y) \n",
       "🟩 **Decision** : SUPPORT (score=0.54, evidence scores=0.01, 0.99, 0.02)\n",
       "- <span style='color:green'>Over half of patients with human immunodeficiency virus (HIV) experience diarrhea that contributes negatively to quality of life and adherence to antiretroviral therapy (ART).</span> \n",
       "- Opportunistic infectious agents that cause diarrhea in patients with HIV span the array of protozoa, fungi, viruses, and bacteria. \n",
       "- <span style='color:green'>With global use of ART, the incidence of diarrhea because of opportunistic infections has decreased; however, the incidence of noninfectious diarrhea has increased.</span> \n",
       "- <span style='color:green'>The etiology of noninfectious diarrhea in patients with HIV is multifactorial and includes ART-associated diarrhea and gastrointestinal damage related to HIV infection (i.e., HIV enteropathy).</span> \n",
       "- A basic algorithm for the diagnosis of diarrhea in patients with HIV includes physical examination, a review of medical history, assessment of HIV viral load and CD4+ T cell count, stool microbiologic assessment, and endoscopic evaluation, if needed. \n",
       "- For patients with negative diagnostic results, the diagnosis of noninfectious diarrhea may be considered. \n",
       "- Pharmacologic options for the treatment of noninfectious diarrhea are primarily supportive; however, the use of many unapproved agents is based on unstudied and anecdotal information. \n",
       "- In addition, these agents can be associated with treatment-limiting adverse events (AEs), such as drug–drug interactions with ART regimens, abuse liability, and additional gastrointestinal AEs. \n",
       "- Currently, crofelemer, an antisecretory agent, is the only therapy approved in the USA for the symptomatic relief of noninfectious diarrhea in patients with HIV on ART. \n",
       "- Currently, crofelemer, an antisecretory agent, is the only therapy approved in the USA for the symptomatic relief of noninfectious diarrhea in patients with HIV on ART.\n",
       "\n"
      ],
      "text/plain": [
       "<IPython.core.display.Markdown object>"
      ]
     },
     "metadata": {},
     "output_type": "display_data"
    }
   ],
   "source": [
    "claim_to_check = \"ART substantially reduces infectiveness of HIV-positive people.\"#df_claim_evid_label.iloc[18, :][\"claim\"]\n",
    "args_sci = ArgsScifact(claim_to_check)\n",
    "\n",
    "#pretrained_models_config = pretrained_models_for_scifact(args_sci)\n",
    "\n",
    "results_raw = inference(args_sci, pretrained_models_config)\n",
    "\n",
    "if results_raw!= []:\n",
    "    result_md = export(args_sci, results_raw)\n",
    "    #result_md = export(args_sci, results_raw)\n",
    "    display(Markdown(result_md))"
   ]
  },
  {
   "cell_type": "code",
   "execution_count": 25,
   "id": "83ad2623",
   "metadata": {
    "ExecuteTime": {
     "end_time": "2022-01-22T08:00:16.740541Z",
     "start_time": "2022-01-22T08:00:16.737905Z"
    },
    "scrolled": true
   },
   "outputs": [],
   "source": [
    "#print(pretraind_models_config)"
   ]
  },
  {
   "cell_type": "markdown",
   "id": "f54ccdcc",
   "metadata": {},
   "source": [
    "## Scifact Extended funtions\n"
   ]
  },
  {
   "cell_type": "code",
   "execution_count": 26,
   "id": "23e2a7f1",
   "metadata": {
    "ExecuteTime": {
     "end_time": "2022-01-22T08:00:16.751155Z",
     "start_time": "2022-01-22T08:00:16.742238Z"
    }
   },
   "outputs": [],
   "source": [
    "def get_prob_score_claim(claim_to_analyze):\n",
    "    logging.info(\"#### \\n\\n>>> Claim >>> \")\n",
    "    logging.info(claim_to_analyze)\n",
    "\n",
    "    args_sci = ArgsScifact(claim_to_analyze)\n",
    "    dic_info = {}\n",
    "    \n",
    "    dic_info[\"org_count_support\"] = 0\n",
    "    dic_info[\"org_count_refute\"] = 0\n",
    "    dic_info[\"org_list_supported_ids\"] = []\n",
    "    dic_info[\"org_list_refuted_ids\"] = []\n",
    "    dic_info[\"org_list_supported_confidence\"] = []\n",
    "    dic_info[\"org_list_refuted_confidence\"] = []\n",
    "    dic_info[\"org_list_supported_confidence_mean\"] = 0.0\n",
    "    dic_info[\"org_list_refuted_confidence_mean\"] = 0.0\n",
    "    dic_info[\"org_comment\"] = \"\"\n",
    "    \n",
    "    try:\n",
    "        results_raw_org = inference(args_sci, pretrained_models_config)  \n",
    "        \n",
    "        if results_raw_org == []:\n",
    "            dic_info[\"org_comment\"] = \"no result\"\n",
    "            \n",
    "        else:\n",
    "            list_supported_ids = [cur_result['id'] for cur_result in results_raw_org if cur_result['label'] == 'SUPPORT']\n",
    "            list_refuted_ids = [cur_result['id'] for cur_result in results_raw_org if cur_result['label'] == 'REFUTE']\n",
    "            list_supported_label_confidence =  [cur_result['label_confidence'] for cur_result in results_raw_org if cur_result['label'] == 'SUPPORT']\n",
    "            list_refuted_label_confidence =  [cur_result['label_confidence'] for cur_result in results_raw_org if cur_result['label'] == 'REFUTE']\n",
    "            \n",
    "            \n",
    "            dic_info[\"org_count_support\"] = len(list_supported_ids)\n",
    "            dic_info[\"org_count_refute\"] = len(list_refuted_ids)\n",
    "            dic_info[\"org_list_supported_ids\"] = list_supported_ids\n",
    "            dic_info[\"org_list_refuted_ids\"] = list_refuted_ids\n",
    "            dic_info[\"org_list_supported_confidence\"] = list_supported_label_confidence\n",
    "            dic_info[\"org_list_refuted_confidence\"] = list_refuted_label_confidence\n",
    "            if len(list_supported_label_confidence) > 0:\n",
    "                dic_info[\"org_list_supported_confidence_mean\"] = mean(list_supported_label_confidence)\n",
    "            if len(list_refuted_label_confidence) > 0:\n",
    "                dic_info[\"org_list_refuted_confidence_mean\"] = mean(list_refuted_label_confidence)\n",
    "            dic_info[\"org_comment\"] = \"success\"\n",
    "            \n",
    "    except Exception as e:\n",
    "        dic_info[\"org_comment\"] = \"exception : \"+e\n",
    "        logging.info(\">>> Exception original claim >>> \") \n",
    "        logging.info(claim_to_analyze) \n",
    "        logging.info(e)\n",
    "\n",
    "    finally:\n",
    "        if ((dic_info[\"org_comment\"] == \"no result\") | \n",
    "            (dic_info[\"org_count_support\"] >= dic_info[\"org_count_refute\"])):\n",
    "            return np.array([1.0, 0.0])\n",
    "        else:\n",
    "            #prob_support_majority = dic_info[\"org_count_support\"]/(dic_info[\"org_count_support\"] + dic_info[\"org_count_refute\"])\n",
    "            return np.array([0.0,1.0])        \n",
    "        \n",
    "#     finally:\n",
    "#         if dic_info[\"org_comment\"] == \"no result\":\n",
    "#             return np.array([1.0,0.0,0.0,0.0])\n",
    "#         elif dic_info[\"org_count_support\"] == dic_info[\"org_count_refute\"]:\n",
    "#             return np.array([0.0,1.0,0.0,0.0])\n",
    "#         else:\n",
    "#             prob_support_majority = dic_info[\"org_count_support\"]/(dic_info[\"org_count_support\"] + dic_info[\"org_count_refute\"])\n",
    "#             return np.array([0.0,0.0,prob_support_majority,(1-prob_support_majority)])"
   ]
  },
  {
   "cell_type": "markdown",
   "id": "8f2720f2",
   "metadata": {},
   "source": [
    "## Data Prep\n"
   ]
  },
  {
   "cell_type": "code",
   "execution_count": 27,
   "id": "921d0cc0",
   "metadata": {
    "ExecuteTime": {
     "end_time": "2022-01-22T08:00:16.782713Z",
     "start_time": "2022-01-22T08:00:16.753906Z"
    }
   },
   "outputs": [
    {
     "data": {
      "text/html": [
       "<div>\n",
       "<style scoped>\n",
       "    .dataframe tbody tr th:only-of-type {\n",
       "        vertical-align: middle;\n",
       "    }\n",
       "\n",
       "    .dataframe tbody tr th {\n",
       "        vertical-align: top;\n",
       "    }\n",
       "\n",
       "    .dataframe thead th {\n",
       "        text-align: right;\n",
       "    }\n",
       "</style>\n",
       "<table border=\"1\" class=\"dataframe\">\n",
       "  <thead>\n",
       "    <tr style=\"text-align: right;\">\n",
       "      <th></th>\n",
       "      <th>org_claim</th>\n",
       "      <th>ground_label</th>\n",
       "      <th>ground_list_rationales</th>\n",
       "      <th>source</th>\n",
       "      <th>org_count_support</th>\n",
       "      <th>org_count_refute</th>\n",
       "      <th>org_list_supported_ids</th>\n",
       "      <th>org_list_refuted_ids</th>\n",
       "      <th>org_list_supported_confidence</th>\n",
       "      <th>org_list_refuted_confidence</th>\n",
       "      <th>org_list_supported_confidence_mean</th>\n",
       "      <th>org_list_refuted_confidence_mean</th>\n",
       "      <th>org_comment</th>\n",
       "      <th>label</th>\n",
       "    </tr>\n",
       "  </thead>\n",
       "  <tbody>\n",
       "    <tr>\n",
       "      <th>4</th>\n",
       "      <td>A T helper 2 cell (Th2) environment impedes di...</td>\n",
       "      <td>REFUTES</td>\n",
       "      <td>[Thus, in Lyn(-/-) mice, basophils and IgE aut...</td>\n",
       "      <td>train</td>\n",
       "      <td>2</td>\n",
       "      <td>0</td>\n",
       "      <td>[xdnh9tos.00001, 1ac14ga6]</td>\n",
       "      <td>[]</td>\n",
       "      <td>[0.9057600498199463, 0.6250916123390198]</td>\n",
       "      <td>[]</td>\n",
       "      <td>0.77</td>\n",
       "      <td>0.0</td>\n",
       "      <td>success</td>\n",
       "      <td>support</td>\n",
       "    </tr>\n",
       "    <tr>\n",
       "      <th>5</th>\n",
       "      <td>A breast cancer patient's capacity to metaboli...</td>\n",
       "      <td>SUPPORTS</td>\n",
       "      <td>[CONCLUSION Among women with breast cancer tre...</td>\n",
       "      <td>train</td>\n",
       "      <td>2</td>\n",
       "      <td>0</td>\n",
       "      <td>[fhonfnxq, xl6mn88e.00030]</td>\n",
       "      <td>[]</td>\n",
       "      <td>[0.6208126544952393, 0.5789633989334106]</td>\n",
       "      <td>[]</td>\n",
       "      <td>0.60</td>\n",
       "      <td>0.0</td>\n",
       "      <td>success</td>\n",
       "      <td>support</td>\n",
       "    </tr>\n",
       "    <tr>\n",
       "      <th>8</th>\n",
       "      <td>A diminished ovarian reserve does not solely i...</td>\n",
       "      <td>SUPPORTS</td>\n",
       "      <td>[Conclusions and Relevance Among women aged 30...</td>\n",
       "      <td>train</td>\n",
       "      <td>1</td>\n",
       "      <td>0</td>\n",
       "      <td>[2uq7frue.00018]</td>\n",
       "      <td>[]</td>\n",
       "      <td>[0.9632894992828369]</td>\n",
       "      <td>[]</td>\n",
       "      <td>0.96</td>\n",
       "      <td>0.0</td>\n",
       "      <td>success</td>\n",
       "      <td>support</td>\n",
       "    </tr>\n",
       "    <tr>\n",
       "      <th>14</th>\n",
       "      <td>ALDH1 expression is associated with poorer pro...</td>\n",
       "      <td>SUPPORTS</td>\n",
       "      <td>[In a series of 577 breast carcinomas, express...</td>\n",
       "      <td>train</td>\n",
       "      <td>1</td>\n",
       "      <td>0</td>\n",
       "      <td>[cgqixu3g.00004]</td>\n",
       "      <td>[]</td>\n",
       "      <td>[0.901647686958313]</td>\n",
       "      <td>[]</td>\n",
       "      <td>0.90</td>\n",
       "      <td>0.0</td>\n",
       "      <td>success</td>\n",
       "      <td>support</td>\n",
       "    </tr>\n",
       "    <tr>\n",
       "      <th>15</th>\n",
       "      <td>AMP-activated protein kinase (AMPK) activation...</td>\n",
       "      <td>SUPPORTS</td>\n",
       "      <td>[These studies implicate deficient AMPK activa...</td>\n",
       "      <td>train</td>\n",
       "      <td>1</td>\n",
       "      <td>0</td>\n",
       "      <td>[nwbmxepi.00025]</td>\n",
       "      <td>[]</td>\n",
       "      <td>[0.6593549251556396]</td>\n",
       "      <td>[]</td>\n",
       "      <td>0.66</td>\n",
       "      <td>0.0</td>\n",
       "      <td>success</td>\n",
       "      <td>support</td>\n",
       "    </tr>\n",
       "    <tr>\n",
       "      <th>...</th>\n",
       "      <td>...</td>\n",
       "      <td>...</td>\n",
       "      <td>...</td>\n",
       "      <td>...</td>\n",
       "      <td>...</td>\n",
       "      <td>...</td>\n",
       "      <td>...</td>\n",
       "      <td>...</td>\n",
       "      <td>...</td>\n",
       "      <td>...</td>\n",
       "      <td>...</td>\n",
       "      <td>...</td>\n",
       "      <td>...</td>\n",
       "      <td>...</td>\n",
       "    </tr>\n",
       "    <tr>\n",
       "      <th>678</th>\n",
       "      <td>Transplanted human glial cells can differentia...</td>\n",
       "      <td>SUPPORTS</td>\n",
       "      <td>[Upon maturation, the recipient brains exhibit...</td>\n",
       "      <td>dev</td>\n",
       "      <td>7</td>\n",
       "      <td>0</td>\n",
       "      <td>[fogwvtbb, dkze9ees.00047, wl29jk16.00024, d8y...</td>\n",
       "      <td>[]</td>\n",
       "      <td>[0.9529715180397034, 0.9082880616188049, 0.817...</td>\n",
       "      <td>[]</td>\n",
       "      <td>0.76</td>\n",
       "      <td>0.0</td>\n",
       "      <td>success</td>\n",
       "      <td>support</td>\n",
       "    </tr>\n",
       "    <tr>\n",
       "      <th>684</th>\n",
       "      <td>Upregulation of mosGCTL-1 is induced upon infe...</td>\n",
       "      <td>SUPPORTS</td>\n",
       "      <td>[During the mosquito blood-feeding process, WN...</td>\n",
       "      <td>dev</td>\n",
       "      <td>1</td>\n",
       "      <td>0</td>\n",
       "      <td>[5dl2vc6q.00014]</td>\n",
       "      <td>[]</td>\n",
       "      <td>[0.5131313800811768]</td>\n",
       "      <td>[]</td>\n",
       "      <td>0.51</td>\n",
       "      <td>0.0</td>\n",
       "      <td>success</td>\n",
       "      <td>support</td>\n",
       "    </tr>\n",
       "    <tr>\n",
       "      <th>686</th>\n",
       "      <td>Vitamin D deficiency effects the term of deliv...</td>\n",
       "      <td>SUPPORTS</td>\n",
       "      <td>[Pregnant women with low 25-OHD levels had an ...</td>\n",
       "      <td>dev</td>\n",
       "      <td>2</td>\n",
       "      <td>0</td>\n",
       "      <td>[9dnyog5i, x78rfxny.00007]</td>\n",
       "      <td>[]</td>\n",
       "      <td>[0.843468189239502, 0.8418176174163818]</td>\n",
       "      <td>[]</td>\n",
       "      <td>0.84</td>\n",
       "      <td>0.0</td>\n",
       "      <td>success</td>\n",
       "      <td>support</td>\n",
       "    </tr>\n",
       "    <tr>\n",
       "      <th>687</th>\n",
       "      <td>Vitamin D deficiency is unrelated to birth wei...</td>\n",
       "      <td>REFUTES</td>\n",
       "      <td>[Pregnant women with low 25-OHD levels had an ...</td>\n",
       "      <td>dev</td>\n",
       "      <td>1</td>\n",
       "      <td>0</td>\n",
       "      <td>[x3aegz8v.00001]</td>\n",
       "      <td>[]</td>\n",
       "      <td>[0.6699669361114502]</td>\n",
       "      <td>[]</td>\n",
       "      <td>0.67</td>\n",
       "      <td>0.0</td>\n",
       "      <td>success</td>\n",
       "      <td>support</td>\n",
       "    </tr>\n",
       "    <tr>\n",
       "      <th>690</th>\n",
       "      <td>cSMAC formation enhances weak ligand signalling.</td>\n",
       "      <td>SUPPORTS</td>\n",
       "      <td>[This conclusion was supported by experiments ...</td>\n",
       "      <td>dev</td>\n",
       "      <td>1</td>\n",
       "      <td>0</td>\n",
       "      <td>[5no746n6.00039]</td>\n",
       "      <td>[]</td>\n",
       "      <td>[0.676954984664917]</td>\n",
       "      <td>[]</td>\n",
       "      <td>0.68</td>\n",
       "      <td>0.0</td>\n",
       "      <td>success</td>\n",
       "      <td>support</td>\n",
       "    </tr>\n",
       "  </tbody>\n",
       "</table>\n",
       "<p>204 rows × 14 columns</p>\n",
       "</div>"
      ],
      "text/plain": [
       "                                             org_claim ground_label  \\\n",
       "4    A T helper 2 cell (Th2) environment impedes di...      REFUTES   \n",
       "5    A breast cancer patient's capacity to metaboli...     SUPPORTS   \n",
       "8    A diminished ovarian reserve does not solely i...     SUPPORTS   \n",
       "14   ALDH1 expression is associated with poorer pro...     SUPPORTS   \n",
       "15   AMP-activated protein kinase (AMPK) activation...     SUPPORTS   \n",
       "..                                                 ...          ...   \n",
       "678  Transplanted human glial cells can differentia...     SUPPORTS   \n",
       "684  Upregulation of mosGCTL-1 is induced upon infe...     SUPPORTS   \n",
       "686  Vitamin D deficiency effects the term of deliv...     SUPPORTS   \n",
       "687  Vitamin D deficiency is unrelated to birth wei...      REFUTES   \n",
       "690   cSMAC formation enhances weak ligand signalling.     SUPPORTS   \n",
       "\n",
       "                                ground_list_rationales source  \\\n",
       "4    [Thus, in Lyn(-/-) mice, basophils and IgE aut...  train   \n",
       "5    [CONCLUSION Among women with breast cancer tre...  train   \n",
       "8    [Conclusions and Relevance Among women aged 30...  train   \n",
       "14   [In a series of 577 breast carcinomas, express...  train   \n",
       "15   [These studies implicate deficient AMPK activa...  train   \n",
       "..                                                 ...    ...   \n",
       "678  [Upon maturation, the recipient brains exhibit...    dev   \n",
       "684  [During the mosquito blood-feeding process, WN...    dev   \n",
       "686  [Pregnant women with low 25-OHD levels had an ...    dev   \n",
       "687  [Pregnant women with low 25-OHD levels had an ...    dev   \n",
       "690  [This conclusion was supported by experiments ...    dev   \n",
       "\n",
       "     org_count_support  org_count_refute  \\\n",
       "4                    2                 0   \n",
       "5                    2                 0   \n",
       "8                    1                 0   \n",
       "14                   1                 0   \n",
       "15                   1                 0   \n",
       "..                 ...               ...   \n",
       "678                  7                 0   \n",
       "684                  1                 0   \n",
       "686                  2                 0   \n",
       "687                  1                 0   \n",
       "690                  1                 0   \n",
       "\n",
       "                                org_list_supported_ids org_list_refuted_ids  \\\n",
       "4                           [xdnh9tos.00001, 1ac14ga6]                   []   \n",
       "5                           [fhonfnxq, xl6mn88e.00030]                   []   \n",
       "8                                     [2uq7frue.00018]                   []   \n",
       "14                                    [cgqixu3g.00004]                   []   \n",
       "15                                    [nwbmxepi.00025]                   []   \n",
       "..                                                 ...                  ...   \n",
       "678  [fogwvtbb, dkze9ees.00047, wl29jk16.00024, d8y...                   []   \n",
       "684                                   [5dl2vc6q.00014]                   []   \n",
       "686                         [9dnyog5i, x78rfxny.00007]                   []   \n",
       "687                                   [x3aegz8v.00001]                   []   \n",
       "690                                   [5no746n6.00039]                   []   \n",
       "\n",
       "                         org_list_supported_confidence  \\\n",
       "4             [0.9057600498199463, 0.6250916123390198]   \n",
       "5             [0.6208126544952393, 0.5789633989334106]   \n",
       "8                                 [0.9632894992828369]   \n",
       "14                                 [0.901647686958313]   \n",
       "15                                [0.6593549251556396]   \n",
       "..                                                 ...   \n",
       "678  [0.9529715180397034, 0.9082880616188049, 0.817...   \n",
       "684                               [0.5131313800811768]   \n",
       "686            [0.843468189239502, 0.8418176174163818]   \n",
       "687                               [0.6699669361114502]   \n",
       "690                                [0.676954984664917]   \n",
       "\n",
       "    org_list_refuted_confidence  org_list_supported_confidence_mean  \\\n",
       "4                            []                                0.77   \n",
       "5                            []                                0.60   \n",
       "8                            []                                0.96   \n",
       "14                           []                                0.90   \n",
       "15                           []                                0.66   \n",
       "..                          ...                                 ...   \n",
       "678                          []                                0.76   \n",
       "684                          []                                0.51   \n",
       "686                          []                                0.84   \n",
       "687                          []                                0.67   \n",
       "690                          []                                0.68   \n",
       "\n",
       "     org_list_refuted_confidence_mean org_comment    label  \n",
       "4                                 0.0     success  support  \n",
       "5                                 0.0     success  support  \n",
       "8                                 0.0     success  support  \n",
       "14                                0.0     success  support  \n",
       "15                                0.0     success  support  \n",
       "..                                ...         ...      ...  \n",
       "678                               0.0     success  support  \n",
       "684                               0.0     success  support  \n",
       "686                               0.0     success  support  \n",
       "687                               0.0     success  support  \n",
       "690                               0.0     success  support  \n",
       "\n",
       "[204 rows x 14 columns]"
      ]
     },
     "execution_count": 27,
     "metadata": {},
     "output_type": "execute_result"
    }
   ],
   "source": [
    "df_claim_evid_label"
   ]
  },
  {
   "cell_type": "raw",
   "id": "b3df98fa",
   "metadata": {
    "ExecuteTime": {
     "end_time": "2022-01-20T10:32:24.766381Z",
     "start_time": "2022-01-20T10:32:24.763474Z"
    }
   },
   "source": [
    "df_claim_evid_label.rename(columns={'ground_label': 'label'}, inplace=True)"
   ]
  },
  {
   "cell_type": "code",
   "execution_count": 28,
   "id": "45b0c611",
   "metadata": {
    "ExecuteTime": {
     "end_time": "2022-01-22T08:00:16.788339Z",
     "start_time": "2022-01-22T08:00:16.784634Z"
    }
   },
   "outputs": [],
   "source": [
    "le_ground = preprocessing.LabelEncoder()\n",
    "le_ground.fit(df_claim_evid_label.label)\n",
    "df_claim_evid_label['label_enc'] = le_ground.transform(df_claim_evid_label.label)"
   ]
  },
  {
   "cell_type": "code",
   "execution_count": 29,
   "id": "1266735f",
   "metadata": {
    "ExecuteTime": {
     "end_time": "2022-01-22T08:00:16.816689Z",
     "start_time": "2022-01-22T08:00:16.789842Z"
    }
   },
   "outputs": [
    {
     "data": {
      "text/html": [
       "<div>\n",
       "<style scoped>\n",
       "    .dataframe tbody tr th:only-of-type {\n",
       "        vertical-align: middle;\n",
       "    }\n",
       "\n",
       "    .dataframe tbody tr th {\n",
       "        vertical-align: top;\n",
       "    }\n",
       "\n",
       "    .dataframe thead th {\n",
       "        text-align: right;\n",
       "    }\n",
       "</style>\n",
       "<table border=\"1\" class=\"dataframe\">\n",
       "  <thead>\n",
       "    <tr style=\"text-align: right;\">\n",
       "      <th></th>\n",
       "      <th>org_claim</th>\n",
       "      <th>ground_label</th>\n",
       "      <th>ground_list_rationales</th>\n",
       "      <th>source</th>\n",
       "      <th>org_count_support</th>\n",
       "      <th>org_count_refute</th>\n",
       "      <th>org_list_supported_ids</th>\n",
       "      <th>org_list_refuted_ids</th>\n",
       "      <th>org_list_supported_confidence</th>\n",
       "      <th>org_list_refuted_confidence</th>\n",
       "      <th>org_list_supported_confidence_mean</th>\n",
       "      <th>org_list_refuted_confidence_mean</th>\n",
       "      <th>org_comment</th>\n",
       "      <th>label</th>\n",
       "      <th>label_enc</th>\n",
       "    </tr>\n",
       "  </thead>\n",
       "  <tbody>\n",
       "    <tr>\n",
       "      <th>4</th>\n",
       "      <td>A T helper 2 cell (Th2) environment impedes di...</td>\n",
       "      <td>REFUTES</td>\n",
       "      <td>[Thus, in Lyn(-/-) mice, basophils and IgE aut...</td>\n",
       "      <td>train</td>\n",
       "      <td>2</td>\n",
       "      <td>0</td>\n",
       "      <td>[xdnh9tos.00001, 1ac14ga6]</td>\n",
       "      <td>[]</td>\n",
       "      <td>[0.9057600498199463, 0.6250916123390198]</td>\n",
       "      <td>[]</td>\n",
       "      <td>0.77</td>\n",
       "      <td>0.0</td>\n",
       "      <td>success</td>\n",
       "      <td>support</td>\n",
       "      <td>0</td>\n",
       "    </tr>\n",
       "    <tr>\n",
       "      <th>5</th>\n",
       "      <td>A breast cancer patient's capacity to metaboli...</td>\n",
       "      <td>SUPPORTS</td>\n",
       "      <td>[CONCLUSION Among women with breast cancer tre...</td>\n",
       "      <td>train</td>\n",
       "      <td>2</td>\n",
       "      <td>0</td>\n",
       "      <td>[fhonfnxq, xl6mn88e.00030]</td>\n",
       "      <td>[]</td>\n",
       "      <td>[0.6208126544952393, 0.5789633989334106]</td>\n",
       "      <td>[]</td>\n",
       "      <td>0.60</td>\n",
       "      <td>0.0</td>\n",
       "      <td>success</td>\n",
       "      <td>support</td>\n",
       "      <td>0</td>\n",
       "    </tr>\n",
       "    <tr>\n",
       "      <th>8</th>\n",
       "      <td>A diminished ovarian reserve does not solely i...</td>\n",
       "      <td>SUPPORTS</td>\n",
       "      <td>[Conclusions and Relevance Among women aged 30...</td>\n",
       "      <td>train</td>\n",
       "      <td>1</td>\n",
       "      <td>0</td>\n",
       "      <td>[2uq7frue.00018]</td>\n",
       "      <td>[]</td>\n",
       "      <td>[0.9632894992828369]</td>\n",
       "      <td>[]</td>\n",
       "      <td>0.96</td>\n",
       "      <td>0.0</td>\n",
       "      <td>success</td>\n",
       "      <td>support</td>\n",
       "      <td>0</td>\n",
       "    </tr>\n",
       "    <tr>\n",
       "      <th>14</th>\n",
       "      <td>ALDH1 expression is associated with poorer pro...</td>\n",
       "      <td>SUPPORTS</td>\n",
       "      <td>[In a series of 577 breast carcinomas, express...</td>\n",
       "      <td>train</td>\n",
       "      <td>1</td>\n",
       "      <td>0</td>\n",
       "      <td>[cgqixu3g.00004]</td>\n",
       "      <td>[]</td>\n",
       "      <td>[0.901647686958313]</td>\n",
       "      <td>[]</td>\n",
       "      <td>0.90</td>\n",
       "      <td>0.0</td>\n",
       "      <td>success</td>\n",
       "      <td>support</td>\n",
       "      <td>0</td>\n",
       "    </tr>\n",
       "    <tr>\n",
       "      <th>15</th>\n",
       "      <td>AMP-activated protein kinase (AMPK) activation...</td>\n",
       "      <td>SUPPORTS</td>\n",
       "      <td>[These studies implicate deficient AMPK activa...</td>\n",
       "      <td>train</td>\n",
       "      <td>1</td>\n",
       "      <td>0</td>\n",
       "      <td>[nwbmxepi.00025]</td>\n",
       "      <td>[]</td>\n",
       "      <td>[0.6593549251556396]</td>\n",
       "      <td>[]</td>\n",
       "      <td>0.66</td>\n",
       "      <td>0.0</td>\n",
       "      <td>success</td>\n",
       "      <td>support</td>\n",
       "      <td>0</td>\n",
       "    </tr>\n",
       "    <tr>\n",
       "      <th>...</th>\n",
       "      <td>...</td>\n",
       "      <td>...</td>\n",
       "      <td>...</td>\n",
       "      <td>...</td>\n",
       "      <td>...</td>\n",
       "      <td>...</td>\n",
       "      <td>...</td>\n",
       "      <td>...</td>\n",
       "      <td>...</td>\n",
       "      <td>...</td>\n",
       "      <td>...</td>\n",
       "      <td>...</td>\n",
       "      <td>...</td>\n",
       "      <td>...</td>\n",
       "      <td>...</td>\n",
       "    </tr>\n",
       "    <tr>\n",
       "      <th>678</th>\n",
       "      <td>Transplanted human glial cells can differentia...</td>\n",
       "      <td>SUPPORTS</td>\n",
       "      <td>[Upon maturation, the recipient brains exhibit...</td>\n",
       "      <td>dev</td>\n",
       "      <td>7</td>\n",
       "      <td>0</td>\n",
       "      <td>[fogwvtbb, dkze9ees.00047, wl29jk16.00024, d8y...</td>\n",
       "      <td>[]</td>\n",
       "      <td>[0.9529715180397034, 0.9082880616188049, 0.817...</td>\n",
       "      <td>[]</td>\n",
       "      <td>0.76</td>\n",
       "      <td>0.0</td>\n",
       "      <td>success</td>\n",
       "      <td>support</td>\n",
       "      <td>0</td>\n",
       "    </tr>\n",
       "    <tr>\n",
       "      <th>684</th>\n",
       "      <td>Upregulation of mosGCTL-1 is induced upon infe...</td>\n",
       "      <td>SUPPORTS</td>\n",
       "      <td>[During the mosquito blood-feeding process, WN...</td>\n",
       "      <td>dev</td>\n",
       "      <td>1</td>\n",
       "      <td>0</td>\n",
       "      <td>[5dl2vc6q.00014]</td>\n",
       "      <td>[]</td>\n",
       "      <td>[0.5131313800811768]</td>\n",
       "      <td>[]</td>\n",
       "      <td>0.51</td>\n",
       "      <td>0.0</td>\n",
       "      <td>success</td>\n",
       "      <td>support</td>\n",
       "      <td>0</td>\n",
       "    </tr>\n",
       "    <tr>\n",
       "      <th>686</th>\n",
       "      <td>Vitamin D deficiency effects the term of deliv...</td>\n",
       "      <td>SUPPORTS</td>\n",
       "      <td>[Pregnant women with low 25-OHD levels had an ...</td>\n",
       "      <td>dev</td>\n",
       "      <td>2</td>\n",
       "      <td>0</td>\n",
       "      <td>[9dnyog5i, x78rfxny.00007]</td>\n",
       "      <td>[]</td>\n",
       "      <td>[0.843468189239502, 0.8418176174163818]</td>\n",
       "      <td>[]</td>\n",
       "      <td>0.84</td>\n",
       "      <td>0.0</td>\n",
       "      <td>success</td>\n",
       "      <td>support</td>\n",
       "      <td>0</td>\n",
       "    </tr>\n",
       "    <tr>\n",
       "      <th>687</th>\n",
       "      <td>Vitamin D deficiency is unrelated to birth wei...</td>\n",
       "      <td>REFUTES</td>\n",
       "      <td>[Pregnant women with low 25-OHD levels had an ...</td>\n",
       "      <td>dev</td>\n",
       "      <td>1</td>\n",
       "      <td>0</td>\n",
       "      <td>[x3aegz8v.00001]</td>\n",
       "      <td>[]</td>\n",
       "      <td>[0.6699669361114502]</td>\n",
       "      <td>[]</td>\n",
       "      <td>0.67</td>\n",
       "      <td>0.0</td>\n",
       "      <td>success</td>\n",
       "      <td>support</td>\n",
       "      <td>0</td>\n",
       "    </tr>\n",
       "    <tr>\n",
       "      <th>690</th>\n",
       "      <td>cSMAC formation enhances weak ligand signalling.</td>\n",
       "      <td>SUPPORTS</td>\n",
       "      <td>[This conclusion was supported by experiments ...</td>\n",
       "      <td>dev</td>\n",
       "      <td>1</td>\n",
       "      <td>0</td>\n",
       "      <td>[5no746n6.00039]</td>\n",
       "      <td>[]</td>\n",
       "      <td>[0.676954984664917]</td>\n",
       "      <td>[]</td>\n",
       "      <td>0.68</td>\n",
       "      <td>0.0</td>\n",
       "      <td>success</td>\n",
       "      <td>support</td>\n",
       "      <td>0</td>\n",
       "    </tr>\n",
       "  </tbody>\n",
       "</table>\n",
       "<p>204 rows × 15 columns</p>\n",
       "</div>"
      ],
      "text/plain": [
       "                                             org_claim ground_label  \\\n",
       "4    A T helper 2 cell (Th2) environment impedes di...      REFUTES   \n",
       "5    A breast cancer patient's capacity to metaboli...     SUPPORTS   \n",
       "8    A diminished ovarian reserve does not solely i...     SUPPORTS   \n",
       "14   ALDH1 expression is associated with poorer pro...     SUPPORTS   \n",
       "15   AMP-activated protein kinase (AMPK) activation...     SUPPORTS   \n",
       "..                                                 ...          ...   \n",
       "678  Transplanted human glial cells can differentia...     SUPPORTS   \n",
       "684  Upregulation of mosGCTL-1 is induced upon infe...     SUPPORTS   \n",
       "686  Vitamin D deficiency effects the term of deliv...     SUPPORTS   \n",
       "687  Vitamin D deficiency is unrelated to birth wei...      REFUTES   \n",
       "690   cSMAC formation enhances weak ligand signalling.     SUPPORTS   \n",
       "\n",
       "                                ground_list_rationales source  \\\n",
       "4    [Thus, in Lyn(-/-) mice, basophils and IgE aut...  train   \n",
       "5    [CONCLUSION Among women with breast cancer tre...  train   \n",
       "8    [Conclusions and Relevance Among women aged 30...  train   \n",
       "14   [In a series of 577 breast carcinomas, express...  train   \n",
       "15   [These studies implicate deficient AMPK activa...  train   \n",
       "..                                                 ...    ...   \n",
       "678  [Upon maturation, the recipient brains exhibit...    dev   \n",
       "684  [During the mosquito blood-feeding process, WN...    dev   \n",
       "686  [Pregnant women with low 25-OHD levels had an ...    dev   \n",
       "687  [Pregnant women with low 25-OHD levels had an ...    dev   \n",
       "690  [This conclusion was supported by experiments ...    dev   \n",
       "\n",
       "     org_count_support  org_count_refute  \\\n",
       "4                    2                 0   \n",
       "5                    2                 0   \n",
       "8                    1                 0   \n",
       "14                   1                 0   \n",
       "15                   1                 0   \n",
       "..                 ...               ...   \n",
       "678                  7                 0   \n",
       "684                  1                 0   \n",
       "686                  2                 0   \n",
       "687                  1                 0   \n",
       "690                  1                 0   \n",
       "\n",
       "                                org_list_supported_ids org_list_refuted_ids  \\\n",
       "4                           [xdnh9tos.00001, 1ac14ga6]                   []   \n",
       "5                           [fhonfnxq, xl6mn88e.00030]                   []   \n",
       "8                                     [2uq7frue.00018]                   []   \n",
       "14                                    [cgqixu3g.00004]                   []   \n",
       "15                                    [nwbmxepi.00025]                   []   \n",
       "..                                                 ...                  ...   \n",
       "678  [fogwvtbb, dkze9ees.00047, wl29jk16.00024, d8y...                   []   \n",
       "684                                   [5dl2vc6q.00014]                   []   \n",
       "686                         [9dnyog5i, x78rfxny.00007]                   []   \n",
       "687                                   [x3aegz8v.00001]                   []   \n",
       "690                                   [5no746n6.00039]                   []   \n",
       "\n",
       "                         org_list_supported_confidence  \\\n",
       "4             [0.9057600498199463, 0.6250916123390198]   \n",
       "5             [0.6208126544952393, 0.5789633989334106]   \n",
       "8                                 [0.9632894992828369]   \n",
       "14                                 [0.901647686958313]   \n",
       "15                                [0.6593549251556396]   \n",
       "..                                                 ...   \n",
       "678  [0.9529715180397034, 0.9082880616188049, 0.817...   \n",
       "684                               [0.5131313800811768]   \n",
       "686            [0.843468189239502, 0.8418176174163818]   \n",
       "687                               [0.6699669361114502]   \n",
       "690                                [0.676954984664917]   \n",
       "\n",
       "    org_list_refuted_confidence  org_list_supported_confidence_mean  \\\n",
       "4                            []                                0.77   \n",
       "5                            []                                0.60   \n",
       "8                            []                                0.96   \n",
       "14                           []                                0.90   \n",
       "15                           []                                0.66   \n",
       "..                          ...                                 ...   \n",
       "678                          []                                0.76   \n",
       "684                          []                                0.51   \n",
       "686                          []                                0.84   \n",
       "687                          []                                0.67   \n",
       "690                          []                                0.68   \n",
       "\n",
       "     org_list_refuted_confidence_mean org_comment    label  label_enc  \n",
       "4                                 0.0     success  support          0  \n",
       "5                                 0.0     success  support          0  \n",
       "8                                 0.0     success  support          0  \n",
       "14                                0.0     success  support          0  \n",
       "15                                0.0     success  support          0  \n",
       "..                                ...         ...      ...        ...  \n",
       "678                               0.0     success  support          0  \n",
       "684                               0.0     success  support          0  \n",
       "686                               0.0     success  support          0  \n",
       "687                               0.0     success  support          0  \n",
       "690                               0.0     success  support          0  \n",
       "\n",
       "[204 rows x 15 columns]"
      ]
     },
     "execution_count": 29,
     "metadata": {},
     "output_type": "execute_result"
    }
   ],
   "source": [
    "df_claim_evid_label"
   ]
  },
  {
   "cell_type": "code",
   "execution_count": 30,
   "id": "87bb92b4",
   "metadata": {
    "ExecuteTime": {
     "end_time": "2022-01-22T08:00:16.821668Z",
     "start_time": "2022-01-22T08:00:16.818190Z"
    }
   },
   "outputs": [
    {
     "name": "stdout",
     "output_type": "stream",
     "text": [
      "{'support': 0}\n"
     ]
    }
   ],
   "source": [
    "le_name_mapping = dict(zip(le_ground.classes_, le_ground.transform(le_ground.classes_)))\n",
    "print(le_name_mapping)"
   ]
  },
  {
   "cell_type": "code",
   "execution_count": 31,
   "id": "a94bf99b",
   "metadata": {
    "ExecuteTime": {
     "end_time": "2022-01-22T08:00:16.827096Z",
     "start_time": "2022-01-22T08:00:16.823263Z"
    }
   },
   "outputs": [],
   "source": [
    "tpl_claim_label_rationale = list(df_claim_evid_label[['org_claim', 'label_enc', 'label', \n",
    "                                                      'ground_list_rationales', 'source']].itertuples(index=False, name=None))"
   ]
  },
  {
   "cell_type": "code",
   "execution_count": 32,
   "id": "dad4e4b7",
   "metadata": {
    "ExecuteTime": {
     "end_time": "2022-01-22T08:00:16.853866Z",
     "start_time": "2022-01-22T08:00:16.828816Z"
    }
   },
   "outputs": [
    {
     "data": {
      "text/plain": [
       "[('A T helper 2 cell (Th2) environment impedes disease development in patients with systemic lupus erythematosus (SLE).',\n",
       "  0,\n",
       "  'support',\n",
       "  ['Thus, in Lyn(-/-) mice, basophils and IgE autoantibodies amplify autoantibody production that leads to lupus nephritis, and in individuals with SLE IgE autoantibodies and activated basophils are factors associated with disease activity and nephritis.'],\n",
       "  'train'),\n",
       " (\"A breast cancer patient's capacity to metabolize tamoxifen influences treatment outcome.\",\n",
       "  0,\n",
       "  'support',\n",
       "  ['CONCLUSION Among women with breast cancer treated with tamoxifen, there was an association between CYP2D6 variation and clinical outcomes, such that the presence of 2 functional CYP2D6 alleles was associated with better clinical outcomes and the presence of nonfunctional or reduced-function alleles with worse outcomes.'],\n",
       "  'train'),\n",
       " ('A diminished ovarian reserve does not solely indicate infertility in an a priori non-infertile population.',\n",
       "  0,\n",
       "  'support',\n",
       "  ['Conclusions and Relevance Among women aged 30 to 44 years without a history of infertility who had been trying to conceive for 3 months or less, biomarkers indicating diminished ovarian reserve compared with normal ovarian reserve were not associated with reduced fertility.'],\n",
       "  'train'),\n",
       " ('ALDH1 expression is associated with poorer prognosis for breast cancer primary tumors.',\n",
       "  0,\n",
       "  'support',\n",
       "  ['In a series of 577 breast carcinomas, expression of ALDH1 detected by immunostaining correlated with poor prognosis.'],\n",
       "  'train'),\n",
       " ('AMP-activated protein kinase (AMPK) activation reduces inflammation-related fibrosis in the lungs.',\n",
       "  0,\n",
       "  'support',\n",
       "  ['These studies implicate deficient AMPK activation in non-resolving, pathologic fibrotic processes, and support a role for metformin (or other AMPK activators) to reverse established fibrosis by facilitating deactivation and apoptosis of myofibroblasts.'],\n",
       "  'train'),\n",
       " ('ART substantially reduces infectiveness of HIV-positive people.',\n",
       "  0,\n",
       "  'support',\n",
       "  ['CONCLUSIONS Mathematical models evaluating the impact of ART vary substantially in structure, complexity, and parameter choices, but all suggest that ART, at high levels of access and with high adherence, has the potential to substantially reduce new HIV infections.'],\n",
       "  'train'),\n",
       " ('Active caspase-11 protein promotes pyroptosis.',\n",
       "  0,\n",
       "  'support',\n",
       "  ['We also determined that active mouse caspase-11 was required for restriction of L. pneumophila infection.'],\n",
       "  'train'),\n",
       " ('Adult tissue-resident macrophages are seeded before birth.',\n",
       "  0,\n",
       "  'support',\n",
       "  ['We have demonstrated that major tissue-resident macrophage populations, including liver Kupffer cells and lung alveolar, splenic, and peritoneal macrophages, are established prior to birth and maintain themselves subsequently during adulthood independent of replenishment by blood monocytes.'],\n",
       "  'train'),\n",
       " ('Adult tissue-resident macrophages possess a self-renewing capacity.',\n",
       "  0,\n",
       "  'support',\n",
       "  ['We have demonstrated that major tissue-resident macrophage populations, including liver Kupffer cells and lung alveolar, splenic, and peritoneal macrophages, are established prior to birth and maintain themselves subsequently during adulthood independent of replenishment by blood monocytes.'],\n",
       "  'train'),\n",
       " ('Aggravated inflammation is dependent on NLRP3 inflammasome activation.',\n",
       "  0,\n",
       "  'support',\n",
       "  ['Macrophages from mice deficient in various components of the inflammasome such as caspase-1, ASC and NALP3 are defective in crystal-induced IL-1β activation.'],\n",
       "  'train'),\n",
       " ('Amitriptyline is an effective treatment for chronic tension-type headaches.',\n",
       "  0,\n",
       "  'support',\n",
       "  ['CONCLUSIONS Our results indicate that antidepressant medication and stress management therapy are each modestly effective in treating chronic tension-type headaches.'],\n",
       "  'train'),\n",
       " ('Androgenetic haploid mouse embryonic stem cells (ESCs) can be derived and genetically manipulated in vitro.',\n",
       "  0,\n",
       "  'support',\n",
       "  ['Our results demonstrate that AG-haESCs can be used as a genetically tractable fertilization agent for the production of live animals via injection into oocytes.'],\n",
       "  'train'),\n",
       " ('Angiotensin converting enzyme inhibitors are associated with decreased risk for functional renal insufficiency.',\n",
       "  0,\n",
       "  'support',\n",
       "  ['Understanding the pathophysiological mechanisms and the common risk factors for ACE inhibitor–induced functional ARF is critical, because preventive strategies for ARF exist, and if effectively used, they may permit use of these compounds in a less restricted fashion.  '],\n",
       "  'train'),\n",
       " ('Anthrax spores remain deadly until affected areas are decontaminated.',\n",
       "  0,\n",
       "  'support',\n",
       "  ['More than 80% of the B anthracis particles collected on stationary monitors were within an alveolar respirable size range of 0.95 to 3.5 micro m.   CONCLUSIONS Bacillus anthracis spores used in a recent terrorist incident reaerosolized under common office activities.'],\n",
       "  'train'),\n",
       " ('Antidepressants reduce the severity of migraines.',\n",
       "  0,\n",
       "  'support',\n",
       "  ['CONCLUSIONS Tricyclic antidepressants are effective in preventing migraine and tension-type headaches and are more effective than selective serotonin reuptake inhibitors, although with greater adverse effects.'],\n",
       "  'train'),\n",
       " ('Asymptomatic visual impairment screening in elderly populations leads to improved vision.',\n",
       "  0,\n",
       "  'support',\n",
       "  ['The inclusion of a visual screening component in the assessment did not result in improvements in self reported visual problems (pooled odds ratio 1.04:95% confidence interval 0.89 to 1.22).',\n",
       "   'CONCLUSIONS Screening of asymptomatic older people in the community is not justified on present evidence.'],\n",
       "  'train'),\n",
       " ('Autologous transplantation of mesenchymal stem cells has better graft function than induction therapy with anti-interleukin-2 receptor antibodies.',\n",
       "  0,\n",
       "  'support',\n",
       "  ['Also, during the 1-year follow-up, combined analysis of MSC-treated groups revealed significantly decreased risk of opportunistic infections than the control group (hazard ratio, 0.42; 95% CI, 0.20-0.85, P=.02)   CONCLUSION Among patients undergoing renal transplant, the use of autologous MSCs compared with anti-IL-2 receptor antibody induction therapy resulted in lower incidence of acute rejection, decreased risk of opportunistic infection, and better estimated renal function at 1 year.   \\n'],\n",
       "  'train'),\n",
       " (\"BRCA 1 mutation carriers' risk of breast and ovarian cancer depends on where the mutation is located.\",\n",
       "  0,\n",
       "  'support',\n",
       "  ['CONCLUSIONS AND RELEVANCE Breast and ovarian cancer risks varied by type and location of BRCA1/2 mutations.'],\n",
       "  'train'),\n",
       " ('Bacterial meningitis can be diagnosed on the basis of positive cerebrospinal fluid (CSF) cultures.',\n",
       "  0,\n",
       "  'support',\n",
       "  ['A CSF-blood glucose ratio of 0.4 or less (likelihood ratio [LR], 18; 95% CI, 12-27]), CSF white blood cell count of 500/muL or higher (LR, 15; 95% CI, 10-22), and CSF lactate level of 31.53 mg/dL or more (> or =3.5 mmol/L; LR, 21; 95% CI, 14-32) accurately diagnosed bacterial meningitis.   \\n'],\n",
       "  'train'),\n",
       " ('Bariatric surgery leads to negative outcomes in mental health.',\n",
       "  0,\n",
       "  'support',\n",
       "  ['Moderate-quality evidence supports an association between bariatric surgery and lower rates of depression postoperatively.'],\n",
       "  'train'),\n",
       " ('Bariatric surgery reduces colorectal cancer.',\n",
       "  0,\n",
       "  'support',\n",
       "  ['No association was detected between bariatric surgery and fractures, cancer, or stroke.'],\n",
       "  'train'),\n",
       " ('Bariatric surgery reduces postmenopausal breast cancer.',\n",
       "  0,\n",
       "  'support',\n",
       "  ['No association was detected between bariatric surgery and fractures, cancer, or stroke.'],\n",
       "  'train'),\n",
       " ('Basophils promote disease development in patients with systemic lupus erythematosus (SLE).',\n",
       "  0,\n",
       "  'support',\n",
       "  ['Thus, in Lyn(-/-) mice, basophils and IgE autoantibodies amplify autoantibody production that leads to lupus nephritis, and in individuals with SLE IgE autoantibodies and activated basophils are factors associated with disease activity and nephritis.'],\n",
       "  'train'),\n",
       " ('CCL19 is a ligand for CCR7.',\n",
       "  0,\n",
       "  'support',\n",
       "  ['Soluble CCL21 functionally resembles the second CCR7 ligand, CCL19, which lacks anchoring residues and forms soluble gradients.'],\n",
       "  'train'),\n",
       " ('COPI coatmer is involved in lipid homeostasis.',\n",
       "  0,\n",
       "  'support',\n",
       "  ['These data indicate that the COPI complex is an evolutionarily conserved regulator of lipid homeostasis, and highlight an interaction between vesicle transport systems and lipid droplets.'],\n",
       "  'train'),\n",
       " ('Ca2+ cycling is a UCP1-dependent thermogenic mechanism.',\n",
       "  0,\n",
       "  'support',\n",
       "  ['Conversely, enhanced Ca2+ cycling by activation of α1- and/or β3-adrenergic receptors or the SERCA2b-RyR2 pathway stimulates UCP1-independent thermogenesis in beige adipocytes.'],\n",
       "  'train'),\n",
       " ('Cancer cells can stimulate the accumulation of intra-tumoural myeloid-derived suppressor cells by promoting granulocyte colony stimulating factor production.',\n",
       "  0,\n",
       "  'support',\n",
       "  [\"Here, integrating human tumour genomics and syngeneic mammary tumour models, we demonstrate that mTOR signalling in cancer cells dictates a mammary tumour's ability to stimulate MDSC accumulation through regulating G-CSF.\"],\n",
       "  'train'),\n",
       " ('Cancers that initially benefit from epidermal growth factor receptor targeted therapies later become refractory through several mechanisms.',\n",
       "  0,\n",
       "  'support',\n",
       "  ['All patients with metastatic lung, colorectal, pancreatic or head and neck cancers who initially benefit from epidermal growth factor receptor (EGFR)-targeted therapies eventually develop resistance.'],\n",
       "  'train'),\n",
       " ('Cellular differentiation of embryonic stem cells is accompanied by changes in replication timing, transcription and nuclear localization.',\n",
       "  0,\n",
       "  'support',\n",
       "  ['Replication-timing changes were coordinated with transcription changes for weak promoters more than strong promoters, and were accompanied by rearrangements in subnuclear position.'],\n",
       "  'train'),\n",
       " ('Chenodeoxycholic acid treatment increases brown adipose tissue activity.',\n",
       "  0,\n",
       "  'support',\n",
       "  ['Treatment of 12 healthy female subjects with CDCA for 2 days resulted in increased BAT activity.'],\n",
       "  'train'),\n",
       " ('Cnn1 recruitment varies with cell cycle timing.',\n",
       "  0,\n",
       "  'support',\n",
       "  ['Cnn1 activity peaks in anaphase and is driven by the Cdc28, Mps1 and Ipl1 kinases.'],\n",
       "  'train'),\n",
       " ('Deregulation of HAND2 is a crucial step in endometrial carcinogenesis in mice.',\n",
       "  0,\n",
       "  'support',\n",
       "  ['Finally, mice harbouring a Hand2 knock-out specifically in their endometrium were shown to develop precancerous endometrial lesions with increasing age, and these lesions also demonstrated a lack of PTEN expression.   \\n'],\n",
       "  'train'),\n",
       " ('Diabetes remission occurs less in people treated with conventional therapy than in people treated with laparoscopic adjustable gastric banding surgery.',\n",
       "  0,\n",
       "  'support',\n",
       "  ['CONCLUSIONS Participants randomized to surgical therapy were more likely to achieve remission of type 2 diabetes through greater weight loss.'],\n",
       "  'train'),\n",
       " ('Egr2 regulates the homeostasis of B and T cells.',\n",
       "  0,\n",
       "  'support',\n",
       "  ['Thus, Egr2 and Egr3 regulate B and T cell function in adaptive immune responses and homeostasis by promoting antigen receptor signaling and controlling inflammation.'],\n",
       "  'train'),\n",
       " ('Eilat virus (EILV) produced in mosquitos elicits rapid and long-lasting neutralizing antibodies in nonhuman primates.',\n",
       "  0,\n",
       "  'support',\n",
       "  ['A single dose of EILV/CHIKV produced in mosquito cells elicited rapid (within 4 d) and long-lasting (>290 d) neutralizing antibodies that provided complete protection in two different mouse models.',\n",
       "   'In nonhuman primates, EILV/CHIKV elicited rapid and robust immunity that protected against viremia and telemetrically monitored fever.'],\n",
       "  'train'),\n",
       " ('Elevated cell-free mitochondrial DNA levels are associated with mortality.',\n",
       "  0,\n",
       "  'support',\n",
       "  ['CONCLUSIONS Increased mtDNA levels are associated with ICU mortality, and inclusion of mtDNA level improves risk prediction in medical ICU patients.'],\n",
       "  'train'),\n",
       " ('Environmental factors can influence the development of breast cancer.',\n",
       "  0,\n",
       "  'support',\n",
       "  ['INTERPRETATION Risks of breast cancer associated with low-penetrance susceptibility polymorphisms do not vary significantly with these ten established environmental risk factors.   \\n'],\n",
       "  'train'),\n",
       " ('Environmentally-induced senescence is mimicked in disease modeling by adding specific molecules to the culture system.',\n",
       "  0,\n",
       "  'support',\n",
       "  ['Induced aging in PD iPSC-derived dopamine neurons revealed disease phenotypes that require both aging and genetic susceptibility, such as pronounced dendrite degeneration, progressive loss of tyrosine hydroxylase (TH) expression, and enlarged mitochondria or Lewy-body-precursor inclusions.',\n",
       "   'Thus, our study suggests that progerin-induced aging can be used to reveal late-onset age-related disease features in hiPSC-based disease models.'],\n",
       "  'train'),\n",
       " ('Excess gestational weight gain is associated with obesity-related pregnancy outcomes.',\n",
       "  0,\n",
       "  'support',\n",
       "  ['Among the interventions, those based on diet are the most effective and are associated with reductions in maternal gestational weight gain and improved obstetric outcomes.'],\n",
       "  'train'),\n",
       " (\"Female carriers of the Apolipoprotein E4 (APOE4) allele have increased risk for Alzheimer's disease.\",\n",
       "  0,\n",
       "  'support',\n",
       "  ['Risk of dementia associated with a longer reproductive period was most pronounced in APOE epsilon4 carriers (adjusted RR for >39 reproductive years compared with <34 reproductive years, 4.20 [95% CI, 1.97-8.92] for dementia and 3.42 [95% CI, 1.51-7.75] for AD), whereas in noncarriers, no clear association with dementia or AD was observed.   \\n'],\n",
       "  'train'),\n",
       " ('Forkhead 0 (fox0) transcription factors are involved in apoptosis.',\n",
       "  0,\n",
       "  'support',\n",
       "  ['The forkhead O (FoxO) family of transcription factors participates in diverse physiologic processes, including induction of cell-cycle arrest, stress resistance, differentiation, apoptosis, and metabolism.'],\n",
       "  'train'),\n",
       " ('Forkhead 0 (fox0) transcription factors are involved in cellular differentiation.',\n",
       "  0,\n",
       "  'support',\n",
       "  ['The forkhead O (FoxO) family of transcription factors participates in diverse physiologic processes, including induction of cell-cycle arrest, stress resistance, differentiation, apoptosis, and metabolism.'],\n",
       "  'train'),\n",
       " ('FoxO3a activation in neuronal death is inhibited by reactive oxygen species (ROS).',\n",
       "  0,\n",
       "  'support',\n",
       "  ['Thus, one way in which members of the Sir2 family of proteins may increase organismal longevity is by tipping FOXO-dependent responses away from apoptosis and toward stress resistance.'],\n",
       "  'train'),\n",
       " ('Gastric infection with Helicobacter pylori increases risk of gastric cancer in humans.',\n",
       "  0,\n",
       "  'support',\n",
       "  ['CONCLUSIONS H pylori infection may be an important cause of gastric cancer; between 35% and 55% of all cases may be associated with such an infection.'],\n",
       "  'train'),\n",
       " ('Genes involved in pre-mRNA splicing have a significant impact on genome stability.',\n",
       "  0,\n",
       "  'support',\n",
       "  ['We demonstrate a widespread role for mRNA-processing factors in preventing DNA damage, which in some cases is caused by aberrant RNA-DNA structures.'],\n",
       "  'train'),\n",
       " ('Genetic deficiency of mast cells leads to decreased weight gain in a mouse model of diet-induced obesity.',\n",
       "  0,\n",
       "  'support',\n",
       "  ['Furthermore, in the context of mice on a Western diet, genetically induced deficiency of mast cells, or their pharmacological stabilization, reduces body weight gain and levels of inflammatory cytokines, chemokines and proteases in serum and WAT, in concert with improved glucose homeostasis and energy expenditure.'],\n",
       "  'train'),\n",
       " ('Genomic aberrations of metastases provide information for targeted therapy.',\n",
       "  0,\n",
       "  'support',\n",
       "  ['Mouse tumors that mimic the genetic heterogeneity of human cancers can aid our understanding of the clonal evolution of metastasis and provide a realistic model for the testing of novel therapies.'],\n",
       "  'train'),\n",
       " ('Glioblastoma multiforme (GBM) is characterized by extensive invasion, rapid growth, necrosis, and angiogenesis.',\n",
       "  0,\n",
       "  'support',\n",
       "  ['These include glioblastoma multiforme (GBM), which is characterized by independent but interrelated features of extensive invasion into normal brain parenchyma, rapid growth, necrosis, and angiogenesis.'],\n",
       "  'train'),\n",
       " ('Gpr124 suppresses BBB breakdown in mouse models of ischemic stroke.',\n",
       "  0,\n",
       "  'support',\n",
       "  ['Here Gpr124 conditional knockout (CKO) in the endothelia of adult mice did not affect homeostatic BBB integrity, but resulted in BBB disruption and microvascular hemorrhage in mouse models of both ischemic stroke and glioblastoma, accompanied by reduced cerebrovascular canonical Wnt–β-catenin signaling.'],\n",
       "  'train'),\n",
       " ('Having a main partner improves HIV outcomes.',\n",
       "  0,\n",
       "  'support',\n",
       "  ['CONCLUSIONS A stable partnership is associated with a slower rate of progression to AIDS or death in HIV infected patients receiving HAART.'],\n",
       "  'train'),\n",
       " ('Having a main partner worsens HIV outcomes.',\n",
       "  0,\n",
       "  'support',\n",
       "  ['CONCLUSIONS A stable partnership is associated with a slower rate of progression to AIDS or death in HIV infected patients receiving HAART.'],\n",
       "  'train'),\n",
       " ('Headaches are correlated with cognitive impairment.',\n",
       "  0,\n",
       "  'support',\n",
       "  ['Evidence was lacking for cognitive impairment for any headache type with or without brain lesions.   \\n'],\n",
       "  'train'),\n",
       " ('Helminths interfere with immune system control of coinfections by microbial pathogens 16.',\n",
       "  0,\n",
       "  'support',\n",
       "  ['The Th2 response can thus enhance the intracellular persistence of Mtb, in part by mediating the alternative activation of macrophages via the IL-4Rα signaling pathway.'],\n",
       "  'train'),\n",
       " ('High levels of CRP lead to a higher risk of exacerbations in chronic obstructive pulmonary disease (COPD).',\n",
       "  0,\n",
       "  'support',\n",
       "  ['CONCLUSIONS AND RELEVANCE Simultaneously elevated levels of CRP and fibrinogen and leukocyte count in individuals with COPD were associated with increased risk of having exacerbations, even in those with milder COPD and in those without previous exacerbations.'],\n",
       "  'train'),\n",
       " ('Higher plasma levels of I-carnitine, when associated with trimethylamine N-oxide, are negatively correlated with cardiovascular events in humans.',\n",
       "  0,\n",
       "  'support',\n",
       "  ['Chronic dietary L-carnitine supplementation in mice altered cecal microbial composition, markedly enhanced synthesis of TMA and TMAO, and increased atherosclerosis, but this did not occur if intestinal microbiota was concurrently suppressed.'],\n",
       "  'train'),\n",
       " ('Higher plasma levels of I-carnitine, when associated with trimethylamine N-oxide, are positively correlated with cardiovascular events in humans.',\n",
       "  0,\n",
       "  'support',\n",
       "  ['Chronic dietary L-carnitine supplementation in mice altered cecal microbial composition, markedly enhanced synthesis of TMA and TMAO, and increased atherosclerosis, but this did not occur if intestinal microbiota was concurrently suppressed.'],\n",
       "  'train'),\n",
       " ('Human embryonic stem cells give rise to cell types from all three embryonic germ layers.',\n",
       "  0,\n",
       "  'support',\n",
       "  ['The SCNT-hES-1 cells displayed typical ES cell morphology and cell surface markers and were capable of differentiating into embryoid bodies in vitro and of forming teratomas in vivo containing cell derivatives from all three embryonic germ layers in severe combined immunodeficient mice.'],\n",
       "  'train'),\n",
       " ('Human embryonic stem cells have the capacity to give rise to differentiated progeny representative of all three embryonic germ layers.',\n",
       "  0,\n",
       "  'support',\n",
       "  ['The SCNT-hES-1 cells displayed typical ES cell morphology and cell surface markers and were capable of differentiating into embryoid bodies in vitro and of forming teratomas in vivo containing cell derivatives from all three embryonic germ layers in severe combined immunodeficient mice.'],\n",
       "  'train'),\n",
       " ('IFI16 impedes STING phosphorylation and translocation, resulting in reduced activation of STING.',\n",
       "  0,\n",
       "  'support',\n",
       "  ['IFI16 is also required for the cGAMP-induced activation of STING, and interacts with STING to promote STING phosphorylation and translocation.'],\n",
       "  'train'),\n",
       " ('IL-10 production by monocytes inhibits CD4 + T cell response.',\n",
       "  0,\n",
       "  'support',\n",
       "  ['We describe a new function for PD-1 whereby microbial products inhibit T cell expansion and function by upregulating PD-1 levels and IL-10 production by monocytes after binding of PD-1 by PD-L1.'],\n",
       "  'train'),\n",
       " ('IL-6 signaling plays a major role in atherosclerotic cardiovascular disease.',\n",
       "  0,\n",
       "  'support',\n",
       "  ['INTERPRETATION Large-scale human genetic and biomarker data are consistent with a causal association between IL6R-related pathways and coronary heart disease.   \\n'],\n",
       "  'train'),\n",
       " ('Immune responses in immune cells are geographically segregated.',\n",
       "  0,\n",
       "  'support',\n",
       "  ['Although the balance between systemic pro- and anti-inflammatory signals is crucial to TB disease outcome, here we find that these signals are physically segregated within each granuloma.'],\n",
       "  'train'),\n",
       " ('In S. cerevisiae, the absence of RNA surveillance pathways causes sensitivity to high iron conditions.',\n",
       "  0,\n",
       "  'support',\n",
       "  ['These results show that RNA surveillance through multiple ribonucleolytic pathways plays a role in iron homeostasis in yeast to avoid the potentially toxic effects of the expression of the iron starvation response in iron-replete conditions.'],\n",
       "  'train'),\n",
       " ('In patients with congenital heart defects, β-blockers significantly improve clinical heart failure outcomes.',\n",
       "  0,\n",
       "  'support',\n",
       "  ['CONCLUSIONS These preliminary results suggest that carvedilol does not significantly improve clinical heart failure outcomes in children and adolescents with symptomatic systolic heart failure.'],\n",
       "  'train'),\n",
       " ('In rhesus macaques, daily subcutaneous injections of tenofovir protects against rectally transmitted simian-human immunodeficiency virus.',\n",
       "  0,\n",
       "  'support',\n",
       "  ['All six macaques in group 3 were protected.'],\n",
       "  'train'),\n",
       " ('Incidence of sepsis has fallen substantially from 2009 to 2014.',\n",
       "  0,\n",
       "  'support',\n",
       "  ['Conclusions and Relevance In clinical data from 409 hospitals, sepsis was present in 6% of adult hospitalizations, and in contrast to claims-based analyses, neither the incidence of sepsis nor the combined outcome of death or discharge to hospice changed significantly between 2009-2014.'],\n",
       "  'train'),\n",
       " ('Induced hepatic stem cells possess the potential to differentiate into cholangiocytic cells.',\n",
       "  0,\n",
       "  'support',\n",
       "  ['Lineage conversion into bipotential expandable iHepSCs provides a strategy to enable efficient derivation of both hepatocytes and cholangiocytes for use in disease modeling and tissue engineering.'],\n",
       "  'train'),\n",
       " ('Induced hepatic stem cells possess the potential to differentiate into hepatocytic cells.',\n",
       "  0,\n",
       "  'support',\n",
       "  ['iHepSCs can be stably expanded in vitro and possess the potential of bidirectional differentiation into both hepatocytic and cholangiocytic lineages.'],\n",
       "  'train'),\n",
       " ('Inhibiting HDAC6 increases survival of mice with ARID1A mutated tumors.',\n",
       "  0,\n",
       "  'support',\n",
       "  ['Inhibition of HDAC6 activity using a clinically applicable small-molecule inhibitor significantly improved the survival of mice bearing ARID1A-mutated tumours.'],\n",
       "  'train'),\n",
       " ('Inside the body, falciparum parasites reproduce asexually.',\n",
       "  0,\n",
       "  'support',\n",
       "  ['Our current understanding of the biology of asexual blood-stage parasites and gametocytes and the ability to culture them in vitro lends optimism that high-throughput screenings of large chemical libraries will produce a new generation of antimalarial drugs.'],\n",
       "  'train'),\n",
       " ('Integrated care is successful at tackling multiple comorbidities.',\n",
       "  0,\n",
       "  'support',\n",
       "  ['CONCLUSIONS Integrated care that covers chronic physical disease and comorbid depression can reduce social role disability and enhance global quality of life.'],\n",
       "  'train'),\n",
       " ('Interleukin-18 plays an important role in the pathogenesis of atherosclerosis.',\n",
       "  0,\n",
       "  'support',\n",
       "  ['In Apoe−/− mice, combined deficiency of IL18r and NCC, but not single deficiency of either protein, protects mice from atherosclerosis.'],\n",
       "  'train'),\n",
       " ('Klf2 is important for proper myeloid cell function.',\n",
       "  0,\n",
       "  'support',\n",
       "  ['Collectively, these observations identify KLF2 as a tonic repressor of myeloid cell activation in vivo and an essential regulator of the innate immune system.'],\n",
       "  'train'),\n",
       " ('Klf4 is important for proper myeloid cell differentiation.',\n",
       "  0,\n",
       "  'support',\n",
       "  ['The inflammation-selective effects of loss-of-KLF4 and the gain-of-KLF4-induced monocytic differentiation in HL60 cells identify KLF4 as a key regulator of monocytic differentiation and a potential target for translational immune modulation.'],\n",
       "  'train'),\n",
       " ('LDL cholesterol has a causal role in the development of cardiovascular disease.',\n",
       "  0,\n",
       "  'support',\n",
       "  ['BACKGROUND LDL cholesterol has a causal role in the development of cardiovascular disease.'],\n",
       "  'train'),\n",
       " ('Lice attenuated SIV vaccines induce a stronger antigen-specific T cell response in lymph node cells.',\n",
       "  0,\n",
       "  'support',\n",
       "  ['Here we show that the degree of LAV-mediated protection against intravenous wild-type SIVmac239 challenge strongly correlates with the magnitude and function of SIV-specific, effector-differentiated T cells in the lymph node but not with the responses of such T cells in the blood or with other cellular, humoral and innate immune parameters.'],\n",
       "  'train'),\n",
       " ('MEK inhibitors are effective treatments in RAS-driven mouse models of cancer.',\n",
       "  0,\n",
       "  'support',\n",
       "  ['However, when NVP-BEZ235 was combined with a mitogen-activated protein kinase kinase (MEK) inhibitor, ARRY-142886, there was marked synergy in shrinking these Kras-mutant cancers.'],\n",
       "  'train'),\n",
       " ('MICAL redox enzymes regulate actin dynamics in many cell types.',\n",
       "  0,\n",
       "  'support',\n",
       "  ['Transgenic expression of interfering RNA molecules demonstrates that MICAL is required in muscles for the higher order arrangement of myofilaments.'],\n",
       "  'train'),\n",
       " ('MICAL redox enzymes regulate actin dynamics.',\n",
       "  0,\n",
       "  'support',\n",
       "  ['Transgenic expression of interfering RNA molecules demonstrates that MICAL is required in muscles for the higher order arrangement of myofilaments.'],\n",
       "  'train'),\n",
       " ('Medications to treat obesity are highly effective.',\n",
       "  0,\n",
       "  'support',\n",
       "  ['CONCLUSIONS Orlistat, sibutramine, and rimonabant modestly reduce weight, have differing effects on cardiovascular risk profiles, and have specific adverse effects.'],\n",
       "  'train'),\n",
       " ('Medications to treat obesity have unwanted side effects.',\n",
       "  0,\n",
       "  'support',\n",
       "  ['CONCLUSIONS Orlistat, sibutramine, and rimonabant modestly reduce weight, have differing effects on cardiovascular risk profiles, and have specific adverse effects.'],\n",
       "  'train'),\n",
       " ('Men are more susceptible to death due to pneumonia when compared to women.',\n",
       "  0,\n",
       "  'support',\n",
       "  ['CONCLUSIONS Although gender may not be predictive of mortality among all infections, women appear to be at increased risk for death from hospital-acquired pneumonia, even after controlling for other comorbidities.'],\n",
       "  'train'),\n",
       " ('Metastatic colorectal cancer treated with a single agent fluoropyrimidines resulted in similar efficacy and better quality of life when compared with oxaliplatin-based chemotherapy in elderly patients.',\n",
       "  0,\n",
       "  'support',\n",
       "  ['On balance, a combination including oxaliplatin was preferable to single-agent fluoropyrimidines, although the primary endpoint of PFS was not met.'],\n",
       "  'train'),\n",
       " ('Mice lacking Sirt1 in Sf1-expressing neurons have increased susceptibility to diet-induced obesity and insulin resistance.',\n",
       "  0,\n",
       "  'support',\n",
       "  ['Conversely, mice overexpressing SIRT1 in SF1 neurons are more resistant to diet-induced obesity and insulin resistance due to increased energy expenditure and enhanced skeletal muscle insulin sensitivity.'],\n",
       "  'train'),\n",
       " ('Mice that lack Interferon-γ or its receptor are highly susceptible to experimental autoimmune myocarditis.',\n",
       "  0,\n",
       "  'support',\n",
       "  ['In contrast, IFN-gamma plays a protective role.'],\n",
       "  'train'),\n",
       " ('Microglia are an innate immune cell type of the central nervous system.',\n",
       "  0,\n",
       "  'support',\n",
       "  ['Here, we develop a conceptual framework for functions of microglia beyond neuroinflammation and discuss the rich repertoire of signaling and communication motifs in microglia that are critical both in pathology and for the normal physiology of the CNS.'],\n",
       "  'train'),\n",
       " ('Microglia are an innate immune cell type of the peripheral nervous system.',\n",
       "  0,\n",
       "  'support',\n",
       "  ['Here, we develop a conceptual framework for functions of microglia beyond neuroinflammation and discuss the rich repertoire of signaling and communication motifs in microglia that are critical both in pathology and for the normal physiology of the CNS.'],\n",
       "  'train'),\n",
       " ('Migraine with aura is associated with ischemic stroke.',\n",
       "  0,\n",
       "  'support',\n",
       "  ['CONCLUSION Migraine is associated with a twofold increased risk of ischaemic stroke, which is only apparent among people who have migraine with aura.'],\n",
       "  'train'),\n",
       " ('Misunderstandings between doctors and patients can lead to non-adherence.',\n",
       "  0,\n",
       "  'support',\n",
       "  [\"All the misunderstandings were associated with lack of patients' participation in the consultation in terms of the voicing of expectations and preferences or the voicing of responses to doctors' decisions and actions.\",\n",
       "   'They were all associated with potential or actual adverse outcomes such as non-adherence to treatment.'],\n",
       "  'train'),\n",
       " ('Mitochondria play a major role in apoptosis.',\n",
       "  0,\n",
       "  'support',\n",
       "  ['Additionally, they participate in intermediary metabolism, calcium signaling, and apoptosis.'],\n",
       "  'train'),\n",
       " ('Mitochondria play a major role in energy production.',\n",
       "  0,\n",
       "  'support',\n",
       "  ['Mitochondria are the primary energy-generating system in most eukaryotic cells.'],\n",
       "  'train'),\n",
       " ('Monoclonal antibody targeting of N-cadherin inhibits growth.',\n",
       "  0,\n",
       "  'support',\n",
       "  ['Monoclonal antibodies against the ectodomain of N-cadherin reduced proliferation, adhesion and invasion of prostate cancer cells in vitro.'],\n",
       "  'train'),\n",
       " ('Myelin sheaths play a role in action potential propagation.',\n",
       "  0,\n",
       "  'support',\n",
       "  ['Striking color patterns unique to individual myelinated fibers are generated that facilitate their tracing in dense axonal areas.'],\n",
       "  'train'),\n",
       " ('Natriuretic peptides protect against diabetes.',\n",
       "  0,\n",
       "  'support',\n",
       "  ['CONCLUSIONS Our results provide evidence for a potential causal role of the BNP system in the aetiology of T2D.'],\n",
       "  'train'),\n",
       " ('Neutrophils produce IL-1β in response to large particles.',\n",
       "  0,\n",
       "  'support',\n",
       "  ['In contrast, large microbes triggered ROS extracellularly, amplifying IL-1β expression to recruit numerous neutrophils forming cooperative clusters.'],\n",
       "  'train'),\n",
       " ('Nonsteroidal antinflammatory drugs show potential anticancer indications.',\n",
       "  0,\n",
       "  'support',\n",
       "  ['Regular use was associated with a lower risk of colorectal cancer among individuals with rs16973225-AA genotype (prevalence, 28% vs 38%; OR, 0.66 [95% CI, 0.62-0.71]; P = 1.9 × 10(-30)) but was not associated with risk of colorectal cancer among those with less common (9%) AC or CC genotypes (prevalence, 36% vs 39%; OR, 0.97 [95% CI, 0.78-1.20]; P = .76).   \\n'],\n",
       "  'train'),\n",
       " ('PD-1 triggering on monocytes enhances IL-10 production by monocytes.',\n",
       "  0,\n",
       "  'support',\n",
       "  ['We describe a new function for PD-1 whereby microbial products inhibit T cell expansion and function by upregulating PD-1 levels and IL-10 production by monocytes after binding of PD-1 by PD-L1.'],\n",
       "  'train'),\n",
       " ('PKG-la does not have a large impact on expression of pain hypersensitivity in PGK-la knockout mice.',\n",
       "  0,\n",
       "  'support',\n",
       "  ['Our results thus indicate that presynaptic mechanisms involving an increase in release probability from nociceptors are operational in the expression of synaptic LTP on spinal-PAG projection neurons and that PKG-I localized in presynaptic nociceptor terminals plays an essential role in this process to regulate pain sensitivity.'],\n",
       "  'train'),\n",
       " ('PKG-la does not have a large impact on expression of spinal long term potentiation in PGK-la knockout mice.',\n",
       "  0,\n",
       "  'support',\n",
       "  ['Patch clamp recordings showed that activity-induced LTP at identified synapses between nociceptors and spinal neurons projecting to the periaqueductal grey (PAG) was completely abolished in SNS-PKG-I(-/-) mice, although basal synaptic transmission was not affected.'],\n",
       "  'train'),\n",
       " ('PTEN is a regulator for the transcriptional activity of SRF',\n",
       "  0,\n",
       "  'support',\n",
       "  ['Factors inducing phenotypic switching promote loss of nuclear PTEN through nucleo-cytoplasmic translocation resulting in reduced myogenically active SRF, but enhanced SRF activity on target genes involved in proliferation.'],\n",
       "  'train'),\n",
       " ('Participants who quit smoking reduce lung cancer risk by approximately 50%.',\n",
       "  0,\n",
       "  'support',\n",
       "  ['The HR for light smokers was 0.44 (95% CI, 0.35-0.56); for quitters, HR 0.50 (95% CI, 0.36-0.69), for stable ex-smokers, HR 0.17 (95% CI, 0.13-0.23), and for never smokers, HR 0.09 (95% CI, 0.06-0.13).   \\n'],\n",
       "  'train'),\n",
       " ('Patients with common epithelial cancers  are more likely to have an emergency event as their first hospital admission if they live in resource-deprived areas.',\n",
       "  0,\n",
       "  'support',\n",
       "  ['For example, 67.4% (3529/5237) of patients in the most deprived fifth of deprivation had anterior resection for rectal cancer compared with 75.5% (4497/5959) of patients in the least deprived fifth (1.34, 1.22 to 1.47).'],\n",
       "  'train'),\n",
       " ('Phase information is useful for predicting donor-recipient matches in organ transplantation.',\n",
       "  0,\n",
       "  'support',\n",
       "  ['Genes that influence transplantation outcome could be identified by using linkage disequilibrium (LD)-mapping approaches, if the extended MHC haplotypes of the unrelated donor and recipient could be defined.'],\n",
       "  'train'),\n",
       " ('Pioglitazone use is significantly associated with an increased risk of prostate cancer.',\n",
       "  0,\n",
       "  'support',\n",
       "  ['The increased prostate and pancreatic cancer risks associated with ever use of pioglitazone merit further investigation to assess whether they are causal or are due to chance, residual confounding, or reverse causality.'],\n",
       "  'train'),\n",
       " ('Pioneer factor OCT3/4 interacts with major chromatin remodeling factors.',\n",
       "  0,\n",
       "  'support',\n",
       "  ['Notably, we found that Oct4 is associated with multiple chromatin-modifying complexes with documented as well as newly proved functional significance in stem cell maintenance and somatic cell reprogramming.'],\n",
       "  'train'),\n",
       " ('Prescribed exercise training improves quality of life.',\n",
       "  0,\n",
       "  'support',\n",
       "  ['CONCLUSIONS Exercise training conferred modest but statistically significant improvements in self-reported health status compared with usual care without training.'],\n",
       "  'train'),\n",
       " ('Pro-inflammatory cytokines are up regulated during tumor development.',\n",
       "  0,\n",
       "  'support',\n",
       "  ['However, it was significantly higher in NSCLC patients compared with controls (44.1 +/- 64.3 and 15.1 +/-',\n",
       "   '14.3 pg/mL, P = 0.03).'],\n",
       "  'train'),\n",
       " ('Propriospinal interneurons that play a role in the plastic reorganization of spinal circuits are integral for recovery from spinal cord injury.',\n",
       "  0,\n",
       "  'support',\n",
       "  ['Our findings show that pronounced functional recovery can occur after severe SCI without the maintenance or regeneration of direct projections from the brain past the lesion and can be mediated by the reorganization of descending and propriospinal connections.'],\n",
       "  'train'),\n",
       " ('Pyridostatin induces checkpoint activation.',\n",
       "  0,\n",
       "  'support',\n",
       "  ['Remarkably, PDS reduces proliferation of HR-defective cells by inducing DSB accumulation, checkpoint activation, and deregulated G2/M progression and by enhancing the replication defect intrinsic to HR deficiency.'],\n",
       "  'train'),\n",
       " ('Pyridostatin stabilizes the G - quadruplex in the telomeric region.',\n",
       "  0,\n",
       "  'support',\n",
       "  ['Treatment with the G4-stabilizing compound pyridostatin (PDS) increases telomere fragility in BRCA2-deficient cells, suggesting that G4 formation drives telomere instability.'],\n",
       "  'train'),\n",
       " ('RANK-RANKL pathway signalling is linked to development of Aire-expressing medullary thymic epithelial cells.',\n",
       "  0,\n",
       "  'support',\n",
       "  ['Hence, our data attributed a functional importance to the temporal development of Vγ5(+) γδ T cells during thymus medulla formation for αβ T cell tolerance induction and demonstrated a Rank-mediated reciprocal link between DETC and Aire(+) mTEC maturation.'],\n",
       "  'train'),\n",
       " ('Ribosomopathies have a high degree of cell and tissue specific pathology.',\n",
       "  0,\n",
       "  'support',\n",
       "  ['Unexpectedly, a ribosomal protein (RP) expression screen reveals dynamic regulation of individual RPs within the vertebrate embryo.',\n",
       "   'Collectively, these findings suggest that RP activity may be highly regulated to impart a new layer of specificity in the control of gene expression and mammalian development.'],\n",
       "  'train'),\n",
       " ('Risk of cardiovascular events can be cut by a third by using antihypertensive drug therapy among hemodialysis patients.',\n",
       "  0,\n",
       "  'support',\n",
       "  ['Among 1202 patients who we identified in 5 studies, the overall benefit of antihypertensive therapy compared with the control or placebo group had a combined hazard ratio for cardiovascular events of 0.69 (95% CI: 0.56 to 0.84) using a fixed-effects model and 0.62 (95% CI: 0.45 to 0.86) using a random-effects model.'],\n",
       "  'train'),\n",
       " ('Satellite cell dysfunction is a key factor in sarcopenia development.',\n",
       "  0,\n",
       "  'support',\n",
       "  ['These results suggest that lifelong reduction of satellite cells neither accelerated nor exacerbated sarcopenia and that satellite cells did not contribute to the maintenance of muscle size or fiber type composition during aging, but that their loss may contribute to age-related muscle fibrosis.'],\n",
       "  'train'),\n",
       " ('Scapular stabilizer exercises are more effective than general exercise therapy in reducing pain and improving function of the shoulder.',\n",
       "  0,\n",
       "  'support',\n",
       "  ['CONCLUSION A specific exercise strategy, focusing on strengthening eccentric exercises for the rotator cuff and concentric/eccentric exercises for the scapula stabilisers, is effective in reducing pain and improving shoulder function in patients with persistent subacromial impingement syndrome.'],\n",
       "  'train'),\n",
       " ('Students who perform poorly in the early years of medical school are at increased risk for professional misconduct later in their careers.',\n",
       "  0,\n",
       "  'support',\n",
       "  ['CONCLUSIONS This small study suggests that male sex, a lower socioeconomic background, and early academic difficulties at medical school could be risk factors for subsequent professional misconduct.'],\n",
       "  'train'),\n",
       " ('Suboptimal nutrition is a leading cause of premature death',\n",
       "  0,\n",
       "  'support',\n",
       "  ['In 2015, the ten largest contributors to global DALYs among Level 3 risks were high systolic blood pressure (211·8 million [192·7 million to 231·1 million] global DALYs), smoking (148·6 million [134·2 million to 163·1 million]), high fasting plasma glucose (143·1 million [125·1 million to 163·5 million]), high BMI (120·1 million [83·8 million to 158·4 million]), childhood undernutrition (113·3 million [103·9 million to 123·4 million]), ambient particulate matter (103·1 million [90·8 million to 115·1 million]), high total cholesterol (88·7 million [74·6 million to 105·7 million]), household air pollution (85·6 million [66·7 million to 106·1 million]), alcohol use (85·0 million [77·2 million to 93·0 million]), and diets high in sodium (83·0 million [49·3 million to 127·5 million]).'],\n",
       "  'train'),\n",
       " ('Surgical treatment is not superior to non-surgical in treating adults with displaced fractures of the proximal humerus.',\n",
       "  0,\n",
       "  'support',\n",
       "  ['CONCLUSIONS AND RELEVANCE Among patients with displaced proximal humeral fractures involving the surgical neck, there was no significant difference between surgical treatment compared with nonsurgical treatment in patient-reported clinical outcomes over 2 years following fracture occurrence.'],\n",
       "  'train'),\n",
       " ('Systemic immunosuppressive (IS) therapy does not enhance the chance of cancer mortality in patients with inflammatory eye disease (IED)',\n",
       "  0,\n",
       "  'support',\n",
       "  ['CONCLUSIONS Most commonly used immunosuppressive drugs do not seem to increase overall or cancer mortality.'],\n",
       "  'train'),\n",
       " ('Systemic lupus erythematosus is a risk factor for cardiovascular disease.',\n",
       "  0,\n",
       "  'support',\n",
       "  ['Risk factors considered included those already in QRISK2 (age, ethnicity, deprivation, systolic blood pressure, body mass index, total cholesterol: high density lipoprotein cholesterol ratio, smoking, family history of coronary heart disease in a first degree relative aged less than 60 years, type 1 diabetes, type 2 diabetes, treated hypertension, rheumatoid arthritis, atrial fibrillation, chronic kidney disease (stage 4 or 5)) and new risk factors (chronic kidney disease (stage 3, 4, or 5), a measure of systolic blood pressure variability (standard deviation of repeated measures), migraine, corticosteroids, systemic lupus erythematosus (SLE), atypical antipsychotics, severe mental illness, and HIV/AIDs).'],\n",
       "  'train'),\n",
       " ('TNFAIP3 is a glioblastoma tumor suppressor.',\n",
       "  0,\n",
       "  'support',\n",
       "  ['Although inactivating mutations in A20 in lymphoma suggest A20 can act as a tumor suppressor, similar point mutations have not been identified through glioma genomic sequencing: in fact, our data suggest A20 may function as a tumor enhancer in glioma through promotion of GSC survival.'],\n",
       "  'train'),\n",
       " ('TRAP+ osteoclasts regulate mature osteoblast maintenance.',\n",
       "  0,\n",
       "  'support',\n",
       "  ['Mice with depletion of PDGF-BB in the tartrate-resistant acid phosphatase–positive cell lineage show significantly lower trabecular and cortical bone mass, serum and bone marrow PDGF-BB concentrations, and fewer CD31hiEmcnhi vessels compared to wild-type mice.'],\n",
       "  'train'),\n",
       " ('Taking anti-depresents is associated with a decrease in the Aβ level in the brain of experimental animals.',\n",
       "  0,\n",
       "  'support',\n",
       "  ['Aβ production in CSF was slowed by 37% in the citalopram group compared to placebo.'],\n",
       "  'train'),\n",
       " ('The DESMOND program caused substantial weight loss in most participants.',\n",
       "  0,\n",
       "  'support',\n",
       "  ['CONCLUSION A single programme for people with newly diagnosed type 2 diabetes mellitus showed no difference in biomedical or lifestyle outcomes at three years although there were sustained improvements in some illness beliefs.   \\n'],\n",
       "  'train'),\n",
       " ('The PDPN gene deactivates the C-type lectin receptor (CLEC-2).',\n",
       "  0,\n",
       "  'support',\n",
       "  ['Thus, activation of CLEC-2 by PDPN rearranges the actin cytoskeleton in DCs to promote efficient motility along stromal surfaces.'],\n",
       "  'train'),\n",
       " ('The RANK-RANK-Ligand (RANKL) pathway is involved in the development of Aire-expressing medullary thymic epithelial cells (mTECs).',\n",
       "  0,\n",
       "  'support',\n",
       "  ['Hence, our data attributed a functional importance to the temporal development of Vγ5(+) γδ T cells during thymus medulla formation for αβ T cell tolerance induction and demonstrated a Rank-mediated reciprocal link between DETC and Aire(+) mTEC maturation.'],\n",
       "  'train'),\n",
       " ('The density of cytokine receptor bearing cells affects the distance over which cytokines act.',\n",
       "  0,\n",
       "  'support',\n",
       "  ['HighlightsCytokine penetration in tissues is governed by a diffusion‐consumption mechanismSpherical cytokine niches are generated around cytokine‐producing cellsThe characteristic niche size depends on the density of cytokine consumersCytokine niches are a source of variability in otherwise identical cells &NA; Cytokine‐mediated communication allows immune cells to achieve a context‐appropriate response, but the distance over which this communication happens is unclear.'],\n",
       "  'train'),\n",
       " ('The latent infection of myeloid cells with human cytomegalovirus induces a number of changes in gene expression.',\n",
       "  0,\n",
       "  'support',\n",
       "  ['Microarray-based studies of HCMV have provided useful information about genes that are transcriptionally active during both productive and latent phases of infection.'],\n",
       "  'train'),\n",
       " ('The microtubule-dependent delivery and secretion of matrix metalloproteases (MMPs) is partially responsible for the disassembly of adhesion sites.',\n",
       "  0,\n",
       "  'support',\n",
       "  ['CLASPs are further required for FA-associated ECM degradation, and matrix metalloprotease inhibition slows FA disassembly similarly to CLASP or PHLDB2 (LL5β) depletion.'],\n",
       "  'train'),\n",
       " ('The most prevalent adverse events to Semaglutide are cardiovascular.',\n",
       "  0,\n",
       "  'support',\n",
       "  ['Adverse events were reported by 63% to 86% (371 of 490 patients) in the oral semaglutide groups, 81% (56 of 69 patients) in the subcutaneous semaglutide group, and 68% (48 of 71 patients) in the placebo group; mild to moderate gastrointestinal events were most common.'],\n",
       "  'train'),\n",
       " ('The most prevalent adverse events to Semaglutide are gastrointestinal.',\n",
       "  0,\n",
       "  'support',\n",
       "  ['Adverse events were reported by 63% to 86% (371 of 490 patients) in the oral semaglutide groups, 81% (56 of 69 patients) in the subcutaneous semaglutide group, and 68% (48 of 71 patients) in the placebo group; mild to moderate gastrointestinal events were most common.'],\n",
       "  'train'),\n",
       " ('The proliferative capacity of neural progenitors differs across species.',\n",
       "  0,\n",
       "  'support',\n",
       "  ['The extent of this additional cortical progenitor expansion differs among primates, leading to differences in the number of neurons generated by each progenitor cell.'],\n",
       "  'train'),\n",
       " (\"The relationship between a breast cancer patient's capacity to metabolize tamoxifen and treatment outcome is independent of the patient's genetic make-up.\",\n",
       "  0,\n",
       "  'support',\n",
       "  ['CONCLUSION Among women with breast cancer treated with tamoxifen, there was an association between CYP2D6 variation and clinical outcomes, such that the presence of 2 functional CYP2D6 alleles was associated with better clinical outcomes and the presence of nonfunctional or reduced-function alleles with worse outcomes.'],\n",
       "  'train'),\n",
       " ('The risk of cancer rises with level of alcohol consumption.',\n",
       "  0,\n",
       "  'support',\n",
       "  ['We found that the risk of all-cause mortality, and of cancers specifically, rises with increasing levels of consumption, and the level of consumption that minimises health loss is zero.'],\n",
       "  'train'),\n",
       " ('The risk of female prisoners harming themselves is ten times that of male prisoners.',\n",
       "  0,\n",
       "  'support',\n",
       "  ['Self-harm rates were more than ten times higher in female prisoners than in male inmates.'],\n",
       "  'train'),\n",
       " ('There is a positive correlation between hip fractures and statin use.',\n",
       "  0,\n",
       "  'support',\n",
       "  ['CONCLUSIONS These findings support an association between statin use by elderly patients and reduction in the risk of hip fracture.'],\n",
       "  'train'),\n",
       " ('There is a relation between Erythromycin use and hypertrophic pyloric stenosis.',\n",
       "  0,\n",
       "  'support',\n",
       "  ['Maternal use of macrolides during the first two weeks after birth was also associated with an increased risk of IHPS.'],\n",
       "  'train'),\n",
       " ('Tirasemtiv targets fast-twitch muscle.',\n",
       "  0,\n",
       "  'support',\n",
       "  ['Binding selectively to the fast-skeletal-troponin complex, CK-2017357 slows the rate of calcium release from troponin C and sensitizes muscle to calcium.'],\n",
       "  'train'),\n",
       " ('Trans-acting factors, such as lncRNAs, influence mRNA translation.',\n",
       "  0,\n",
       "  'support',\n",
       "  ['Our findings uncover a role for lincRNA as a posttranscriptional inhibitor of translation.'],\n",
       "  'train'),\n",
       " ('Transplanted human glial progenitor cells can mature in their host animal.',\n",
       "  0,\n",
       "  'support',\n",
       "  ['Upon maturation, the recipient brains exhibited large numbers and high proportions of both human glial progenitors and astrocytes.'],\n",
       "  'train'),\n",
       " ('Tuberculosis-induced granulomas express different immune system protein signatures than the surrounding tissue.',\n",
       "  0,\n",
       "  'support',\n",
       "  ['Although the balance between systemic pro- and anti-inflammatory signals is crucial to TB disease outcome, here we find that these signals are physically segregated within each granuloma.'],\n",
       "  'train'),\n",
       " ('Type 1 Diabetes is associated with subtle perturbations in T reg development.',\n",
       "  0,\n",
       "  'support',\n",
       "  ['Furthermore, we have associated IL2RA T1D susceptibility genotypes with lower circulating levels of the biomarker, soluble IL-2RA (P = 6.28 × 10−28), suggesting that an inherited lower immune responsiveness predisposes to T1D.'],\n",
       "  'train'),\n",
       " ('Ultrasound guidance significantly reduces the number of needle insertion attempts necessary for a given procedure.',\n",
       "  0,\n",
       "  'support',\n",
       "  ['CONCLUSIONS Ultrasound imaging can reduce the risk of failed or traumatic lumbar punctures and epidural catheterisations, as well as the number of needle insertions and redirections.'],\n",
       "  'train'),\n",
       " ('Ultrasound guidance significantly reduces the number of traumatic procedures when attempting needle insertion.',\n",
       "  0,\n",
       "  'support',\n",
       "  ['CONCLUSIONS Ultrasound imaging can reduce the risk of failed or traumatic lumbar punctures and epidural catheterisations, as well as the number of needle insertions and redirections.'],\n",
       "  'train'),\n",
       " ('Varying expression levels of EBI2 affect the positioning and migration of B cells.',\n",
       "  0,\n",
       "  'support',\n",
       "  ['Here, we show that expression of the orphan G protein-coupled receptor Epstein-Barr virus-induced gene 2 (EBI2, also known as GPR183) by activated B cells was essential for their movement to extrafollicular sites and induction of early plasmablast responses.',\n",
       "   'Conversely, downregulation of EBI2 enabled B cells to access the center of follicles and promoted efficient GC formation.'],\n",
       "  'train'),\n",
       " ('Vitamin D deficiency effects birth weight.',\n",
       "  0,\n",
       "  'support',\n",
       "  ['Pregnant women with low 25-OHD levels had an increased risk of bacterial vaginosis and lower birth weight infants, but not delivery by caesarean section.'],\n",
       "  'train'),\n",
       " ('Vitamin D is an important factor in the relationship between calcium and parathyroid hormone.',\n",
       "  0,\n",
       "  'support',\n",
       "  ['CONCLUSIONS As long as vitamin D status is ensured, calcium intake levels of more than 800 mg/d may be unnecessary for maintaining calcium metabolism.'],\n",
       "  'train'),\n",
       " ('siRNA knockdown of A20 slows tumor progression in an in vivo murine xenograft model.',\n",
       "  0,\n",
       "  'support',\n",
       "  ['The tumorigenic potential of GSCs was decreased with A20 targeting, resulting in increased survival of mice bearing human glioma xenografts.'],\n",
       "  'train'),\n",
       " ('ALDH1 expression is associated with poorer prognosis in breast cancer.',\n",
       "  0,\n",
       "  'support',\n",
       "  ['In a series of 577 breast carcinomas, expression of ALDH1 detected by immunostaining correlated with poor prognosis.'],\n",
       "  'dev'),\n",
       " ('Angiotensin converting enzyme inhibitors are associated with increased risk for functional renal insufficiency.',\n",
       "  0,\n",
       "  'support',\n",
       "  ['Understanding the pathophysiological mechanisms and the common risk factors for ACE inhibitor–induced functional ARF is critical, because preventive strategies for ARF exist, and if effectively used, they may permit use of these compounds in a less restricted fashion.  '],\n",
       "  'dev'),\n",
       " ('Anthrax spores can be disposed of easily after they are dispersed.',\n",
       "  0,\n",
       "  'support',\n",
       "  ['More than 80% of the B anthracis particles collected on stationary monitors were within an alveolar respirable size range of 0.95 to 3.5 micro m.   CONCLUSIONS Bacillus anthracis spores used in a recent terrorist incident reaerosolized under common office activities.'],\n",
       "  'dev'),\n",
       " ('Articles published in open access format are more likely to be cited than traditional journals.',\n",
       "  0,\n",
       "  'support',\n",
       "  ['Moreover, although the evidence from the current analysis argues most strongly for a time advantage in citation for OA articles, a study over longer periods will reveal whether this translates into a sustained increase in the number of citations.'],\n",
       "  'dev'),\n",
       " ('Autologous transplantation of mesenchymal stem cells causes fewer opportunistic infections than induction therapy with anti-interleukin-2 receptor antibodies.',\n",
       "  0,\n",
       "  'support',\n",
       "  ['Also, during the 1-year follow-up, combined analysis of MSC-treated groups revealed significantly decreased risk of opportunistic infections than the control group (hazard ratio, 0.42; 95% CI, 0.20-0.85, P=.02)   CONCLUSION Among patients undergoing renal transplant, the use of autologous MSCs compared with anti-IL-2 receptor antibody induction therapy resulted in lower incidence of acute rejection, decreased risk of opportunistic infection, and better estimated renal function at 1 year.   \\n'],\n",
       "  'dev'),\n",
       " ('Autologous transplantation of mesenchymal stem cells has lower rates of rejection than induction therapy with anti-interleukin-2 receptor antibodies.',\n",
       "  0,\n",
       "  'support',\n",
       "  ['Also, during the 1-year follow-up, combined analysis of MSC-treated groups revealed significantly decreased risk of opportunistic infections than the control group (hazard ratio, 0.42; 95% CI, 0.20-0.85, P=.02)   CONCLUSION Among patients undergoing renal transplant, the use of autologous MSCs compared with anti-IL-2 receptor antibody induction therapy resulted in lower incidence of acute rejection, decreased risk of opportunistic infection, and better estimated renal function at 1 year.   \\n'],\n",
       "  'dev'),\n",
       " ('Autophagy declines in aged organisms.',\n",
       "  0,\n",
       "  'support',\n",
       "  ['We have previously found that CMA activity declines in aged organisms and have proposed that this failure in cellular clearance could contribute to the accumulation of altered proteins, the abnormal cellular homeostasis and, eventually, the functional loss characteristic of aged organisms.'],\n",
       "  'dev'),\n",
       " ('Bone marrow cells contribute to adult macrophage compartments.',\n",
       "  0,\n",
       "  'support',\n",
       "  ['We also found that after bone marrow transplantation, host macrophages retained the capacity to expand when the development of donor macrophages was compromised.'],\n",
       "  'dev'),\n",
       " ('CX3CR1 on the Th2 cells suppresses airway inflammation.',\n",
       "  0,\n",
       "  'support',\n",
       "  ['Transfer of WT CD4(+) T cells into CX3CR1-deficient mice restored the cardinal features of asthma, and CX3CR1-blocking reagents prevented airway inflammation in CX3CR1-deficient recipients injected with WT T(H)2 cells.'],\n",
       "  'dev'),\n",
       " ('Cell autonomous sex determination in somatic cells does not occur in Galliformes.',\n",
       "  0,\n",
       "  'support',\n",
       "  ['Our study demonstrates that avian somatic cells possess an inherent sex identity and that, in birds, sexual differentiation is substantively cell autonomous.'],\n",
       "  'dev'),\n",
       " ('Chenodeosycholic acid treatment increases whole-body energy expenditure.',\n",
       "  0,\n",
       "  'support',\n",
       "  ['Whole-body energy expenditure was also increased upon CDCA treatment.'],\n",
       "  'dev'),\n",
       " ('Cytochrome c is released from the mitochondrial intermembrane space to cytosol during apoptosis.',\n",
       "  0,\n",
       "  'support',\n",
       "  ['Apoptosis that proceeds via the mitochondrial pathway involves mitochondrial outer membrane permeabilization (MOMP), responsible for the release of cytochrome c and other proteins of the mitochondrial intermembrane space.'],\n",
       "  'dev'),\n",
       " ('Deletion of αvβ8 does not result in a spontaneous inflammatory phenotype.',\n",
       "  0,\n",
       "  'support',\n",
       "  ['Treg-cell-specific deletion of integrin αvβ8 did not result in a spontaneous inflammatory phenotype, suggesting that this pathway is not important in Treg-cell-mediated maintenance of immune homeostasis.'],\n",
       "  'dev'),\n",
       " ('Dexamethasone decreases risk of postoperative bleeding.',\n",
       "  0,\n",
       "  'support',\n",
       "  ['CONCLUSION In this study of children undergoing tonsillectomy, dexamethasone decreased the risk of PONV dose dependently but was associated with an increased risk of postoperative bleeding.   \\n'],\n",
       "  'dev'),\n",
       " ('Diabetic patients with acute coronary syndrome experience increased short-term and long-term risk for bleeding events.',\n",
       "  0,\n",
       "  'support',\n",
       "  ['Diabetes independently predicted mortality (relative risk [RR], 1.57; 95% CI, 1.38 to 1.81; P:<0.001), as well as cardiovascular death, new myocardial infarction, stroke, and new congestive heart failure.'],\n",
       "  'dev'),\n",
       " ('Enhanced early production of inflammatory chemokines improves viral control in the lung.',\n",
       "  0,\n",
       "  'support',\n",
       "  ['We found that the response of memory, but not naive, CD4+ T cells enhances production of multiple innate inflammatory cytokines and chemokines (IICs) in the lung and that, during influenza infection, this leads to early control of virus.'],\n",
       "  'dev'),\n",
       " ('Epigenetic modulating agents (EMAs) modulate antitumor immune response in a cancer model system.',\n",
       "  0,\n",
       "  'support',\n",
       "  ['Use of this combination treatment schema in mouse models of NSCLC reverses tumor immune evasion and modulates T cell exhaustion state towards memory and effector T cell phenotypes.'],\n",
       "  'dev'),\n",
       " ('Exposure to fine particulate air pollution is relate to anxiety prevalence.',\n",
       "  0,\n",
       "  'support',\n",
       "  ['CONCLUSIONS Exposure to fine particulate matter (PM2.5) was associated with high symptoms of anxiety, with more recent exposures potentially more relevant than more distant exposures.'],\n",
       "  'dev'),\n",
       " ('Female carriers of the Apolipoprotein E4 (APOE4) allele have increased risk for dementia.',\n",
       "  0,\n",
       "  'support',\n",
       "  ['Risk of dementia associated with a longer reproductive period was most pronounced in APOE epsilon4 carriers (adjusted RR for >39 reproductive years compared with <34 reproductive years, 4.20 [95% CI, 1.97-8.92] for dementia and 3.42 [95% CI, 1.51-7.75] for AD), whereas in noncarriers, no clear association with dementia or AD was observed.   \\n'],\n",
       "  'dev'),\n",
       " ('FoxO3a activation in neuronal death is mediated by reactive oxygen species (ROS).',\n",
       "  0,\n",
       "  'support',\n",
       "  ['Thus, one way in which members of the Sir2 family of proteins may increase organismal longevity is by tipping FOXO-dependent responses away from apoptosis and toward stress resistance.'],\n",
       "  'dev'),\n",
       " ('Glycolysis is one of the primary glycometabolic pathways in cells.',\n",
       "  0,\n",
       "  'support',\n",
       "  ['We demonstrate that glycolysis provides ATP for the FAT of vesicles.'],\n",
       "  'dev'),\n",
       " ('High levels of CRP reduces the risk of exacerbations in chronic obstructive pulmonary disease (COPD).',\n",
       "  0,\n",
       "  'support',\n",
       "  ['CONCLUSIONS AND RELEVANCE Simultaneously elevated levels of CRP and fibrinogen and leukocyte count in individuals with COPD were associated with increased risk of having exacerbations, even in those with milder COPD and in those without previous exacerbations.'],\n",
       "  'dev'),\n",
       " ('Hyperfibrinogenemia decreases rates of femoropopliteal bypass thrombosis.',\n",
       "  0,\n",
       "  'support',\n",
       "  ['A more forceful approach is needed to stop patients smoking; therapeutic measures to improve patency of vein grafts should focus on decreasing plasma fibrinogen concentration rather than serum cholesterol concentration.'],\n",
       "  'dev'),\n",
       " ('Hyperfibrinogenemia increases rates of femoropopliteal bypass thrombosis.',\n",
       "  0,\n",
       "  'support',\n",
       "  ['A more forceful approach is needed to stop patients smoking; therapeutic measures to improve patency of vein grafts should focus on decreasing plasma fibrinogen concentration rather than serum cholesterol concentration.'],\n",
       "  'dev'),\n",
       " ('IRG1 has antiviral effects against neurotropic viruses.',\n",
       "  0,\n",
       "  'support',\n",
       "  ['By transducing cortical neurons with genes that were expressed more highly in granule cell neurons, we identified three interferon-stimulated genes (ISGs; Ifi27, Irg1 and Rsad2 (also known as Viperin)) that mediated the antiviral effects against different neurotropic viruses.'],\n",
       "  'dev'),\n",
       " ('Incidence rates of cervical cancer have decreased.',\n",
       "  0,\n",
       "  'support',\n",
       "  ['The number of women dying from cervical cancer in 1997 was 7% lower than in 1996 and has fallen by over 25% since 1992.1 Such rapid change must be at least partly due to cervical screening, although strong cohort effects have caused large fluctuations in cervical mortality in the past.2 We modelled mortality data, taking into account the effects of age and year of birth and looking for trends in time within four age groups to estimate the beneficial effects of cervical screening.  '],\n",
       "  'dev'),\n",
       " ('Insomnia can be effectively treated with cognitive behavioral therapy.',\n",
       "  0,\n",
       "  'support',\n",
       "  ['CONCLUSION These results suggest that interventions based on CBT are superior to zopiclone treatment both in short- and long-term management of insomnia in older adults.   \\n'],\n",
       "  'dev'),\n",
       " ('Leuko-reduced blood reduces infectious complications in red blood cell transfusion.',\n",
       "  0,\n",
       "  'support',\n",
       "  ['CONCLUSION A national universal leukoreduction program is potentially associated with decreased mortality as well as decreased fever episodes and antibiotic use after red blood cell transfusion in high-risk patients.'],\n",
       "  'dev'),\n",
       " ('Lupus-prone mice infected with curliproducing bacteria have higher autoantibody titers compared to controls.',\n",
       "  0,\n",
       "  'support',\n",
       "  ['We also found that the infection of lupus-prone mice with curli-producing bacteria triggered higher autoantibody titers compared to curli-deficient bacteria.'],\n",
       "  'dev'),\n",
       " ('Macrolides protect against myocardial infarction.',\n",
       "  0,\n",
       "  'support',\n",
       "  ['No effect was found for previous use of macrolides (primarily erythromycin), sulfonamides, penicillins, or cephalosporins.   \\n'],\n",
       "  'dev'),\n",
       " ('MicroRNA is involved in the regulation of Neural Stem Cell (NSC) differentiation and proliferation dynamic homeostasis',\n",
       "  0,\n",
       "  'support',\n",
       "  ['High levels of miR-184 promoted proliferation but inhibited differentiation of aNSCs, whereas inhibition of miR-184 rescued the phenotypes associated with MBD1 deficiency.'],\n",
       "  'dev'),\n",
       " ('Monoclonal antibody targeting of N-cadherin inhibits metastasis.',\n",
       "  0,\n",
       "  'support',\n",
       "  ['Therapeutic targeting of this factor with monoclonal antibodies may have considerable clinical benefit.'],\n",
       "  'dev'),\n",
       " ('NFAT4 activation requires IP3R-mediated Ca2+ mobilization.',\n",
       "  0,\n",
       "  'support',\n",
       "  ['Instead, effective sustained physiological activation of NFAT4 is tightly linked to oscillations in nuclear Ca2+.',\n",
       "   'Our results show how gene expression can be controlled by coincident yet geographically distinct Ca2+ signals, generated by a freely diffusible InsP3 message.'],\n",
       "  'dev'),\n",
       " ('NR5A2 is important in development of endometrial tissues.',\n",
       "  0,\n",
       "  'support',\n",
       "  ['These findings show that Lrh-1 is necessary for maintenance of the corpus luteum, for promotion of decidualization and for formation of the placenta.'],\n",
       "  'dev'),\n",
       " ('Nanoparticles can be targeted against specific cell types by incorporating aptamers into lipid nanoparticles.',\n",
       "  0,\n",
       "  'support',\n",
       "  ['These results indicate that osteoblast-specific aptamer-functionalized LNPs could act as a new RNAi-based bone anabolic strategy, advancing the targeted delivery selectivity of osteogenic siRNAs from the tissue level to the cellular level.'],\n",
       "  'dev'),\n",
       " ('Neutrophil extracellular traps (NETs) are released by ANCA-stimulated neutrophils.',\n",
       "  0,\n",
       "  'support',\n",
       "  ['Here we show that chromatin fibers, so-called neutrophil extracellular traps (NETs), are released by ANCA-stimulated neutrophils and contain the targeted autoantigens proteinase-3 (PR3) and myeloperoxidase (MPO).'],\n",
       "  'dev'),\n",
       " ('PD-1 triggering on monocytes reduces IL-10 production by monocytes.',\n",
       "  0,\n",
       "  'support',\n",
       "  ['We describe a new function for PD-1 whereby microbial products inhibit T cell expansion and function by upregulating PD-1 levels and IL-10 production by monocytes after binding of PD-1 by PD-L1.'],\n",
       "  'dev'),\n",
       " ('Participating in six months of physical activity improves cognitive functioning.',\n",
       "  0,\n",
       "  'support',\n",
       "  ['CONCLUSIONS In this study of adults with subjective memory impairment, a 6-month program of physical activity provided a modest improvement in cognition over an 18-month follow-up period.   \\n'],\n",
       "  'dev'),\n",
       " ('Podocytes are motile and migrate in the presence of injury.',\n",
       "  0,\n",
       "  'support',\n",
       "  [\"In podocin-GFP mice, podocytes formed sporadic multicellular clusters after unilateral ureteral ligation and migrated into the parietal Bowman's capsule.\"],\n",
       "  'dev'),\n",
       " ('Pyridostatin destabilizes the G - quadruplex in the telomeric region.',\n",
       "  0,\n",
       "  'support',\n",
       "  ['Treatment with the G4-stabilizing compound pyridostatin (PDS) increases telomere fragility in BRCA2-deficient cells, suggesting that G4 formation drives telomere instability.'],\n",
       "  'dev'),\n",
       " ('Rapid phosphotransfer rates govern fidelity in two component systems',\n",
       "  0,\n",
       "  'support',\n",
       "  ['In summary, our results provide valuable insight into how cells mediate specificity in one of the most abundant signalling pathways in biology, two-component signal transduction.'],\n",
       "  'dev'),\n",
       " ('Rapid up-regulation and higher basal expression of interferon-induced genes increase survival of granule cell neurons that are infected by West Nile virus.',\n",
       "  0,\n",
       "  'support',\n",
       "  ['By transducing cortical neurons with genes that were expressed more highly in granule cell neurons, we identified three interferon-stimulated genes (ISGs; Ifi27, Irg1 and Rsad2 (also known as Viperin)) that mediated the antiviral effects against different neurotropic viruses.'],\n",
       "  'dev'),\n",
       " ('Sildenafil improves erectile function in men who experience sexual dysfunction as a result of the use of SSRI antidepressants.',\n",
       "  0,\n",
       "  'support',\n",
       "  ['CONCLUSION In our study, sildenafil effectively improved erectile function and other aspects of sexual function in men with sexual dysfunction associated with the use of SRI antidepressants.'],\n",
       "  'dev'),\n",
       " ('Stroke patients with prior use of direct oral anticoagulants have a lower risk of in-hospital mortality than stroke patients with prior use of warfarin.',\n",
       "  0,\n",
       "  'support',\n",
       "  ['Prior use of NOACs, compared with prior use of warfarin, was associated with lower risk of in-hospital mortality.'],\n",
       "  'dev'),\n",
       " ('TCR/CD3 microdomains are a required to induce the immunologic synapse to activate T cells.',\n",
       "  0,\n",
       "  'support',\n",
       "  ['The conformational change is elicited by cooperative rearrangements of two TCR-CD3 complexes and does not require accompanying changes in the structure of the TCRalphabeta ectodomains.',\n",
       "   'This conformational change at CD3 reverts upon ligand dissociation and is required for T cell activation.'],\n",
       "  'dev'),\n",
       " ('TNFAIP3 is a tumor suppressor in glioblastoma.',\n",
       "  0,\n",
       "  'support',\n",
       "  ['Although inactivating mutations in A20 in lymphoma suggest A20 can act as a tumor suppressor, similar point mutations have not been identified through glioma genomic sequencing: in fact, our data suggest A20 may function as a tumor enhancer in glioma through promotion of GSC survival.'],\n",
       "  'dev'),\n",
       " ('Teaching hospitals do not provide better care than non-teaching hospitals.',\n",
       "  0,\n",
       "  'support',\n",
       "  [\"Conclusions  The available data are limited by their nonrandomized design, but overall they do not suggest that a healthcare facility's teaching status on its own markedly improves or worsens patient outcomes.\"],\n",
       "  'dev'),\n",
       " ('The PRR MDA5 is a sensor of RNA virus infection.',\n",
       "  0,\n",
       "  'support',\n",
       "  ['The RIG-I-like receptors (RLRs) RIG-I, MDA5, and LGP2 play a major role in pathogen sensing of RNA virus infection to initiate and modulate antiviral immunity.'],\n",
       "  'dev'),\n",
       " ('The extracellular domain of TMEM27 is cleaved in human beta cells.',\n",
       "  0,\n",
       "  'support',\n",
       "  ['Tmem27 forms dimers and its extracellular domain is glycosylated, cleaved and shed from the plasma membrane of beta cells.'],\n",
       "  'dev'),\n",
       " (\"The relationship between a breast cancer patient's capacity to metabolize tamoxifen and treatment outcome is dependent on the patient's genetic make-up.\",\n",
       "  0,\n",
       "  'support',\n",
       "  ['CONCLUSION Among women with breast cancer treated with tamoxifen, there was an association between CYP2D6 variation and clinical outcomes, such that the presence of 2 functional CYP2D6 alleles was associated with better clinical outcomes and the presence of nonfunctional or reduced-function alleles with worse outcomes.'],\n",
       "  'dev'),\n",
       " ('The severity of cardiac involvement in amyloidosis can be described by the degree of transmurality of late gadolinium enhancement in MRI.',\n",
       "  0,\n",
       "  'support',\n",
       "  ['Transmural LGE is determined reliably by PSIR and represents advanced cardiac amyloidosis.'],\n",
       "  'dev'),\n",
       " ('Transplanted human glial cells can differentiate within the host animal.',\n",
       "  0,\n",
       "  'support',\n",
       "  ['Upon maturation, the recipient brains exhibited large numbers and high proportions of both human glial progenitors and astrocytes.'],\n",
       "  'dev'),\n",
       " ('Upregulation of mosGCTL-1 is induced upon infection with West Nile virus.',\n",
       "  0,\n",
       "  'support',\n",
       "  ['During the mosquito blood-feeding process, WNV infection was blocked in vivo with mosGCTL-1 antibodies.'],\n",
       "  'dev'),\n",
       " ('Vitamin D deficiency effects the term of delivery.',\n",
       "  0,\n",
       "  'support',\n",
       "  ['Pregnant women with low 25-OHD levels had an increased risk of bacterial vaginosis and lower birth weight infants, but not delivery by caesarean section.'],\n",
       "  'dev'),\n",
       " ('Vitamin D deficiency is unrelated to birth weight.',\n",
       "  0,\n",
       "  'support',\n",
       "  ['Pregnant women with low 25-OHD levels had an increased risk of bacterial vaginosis and lower birth weight infants, but not delivery by caesarean section.'],\n",
       "  'dev'),\n",
       " ('cSMAC formation enhances weak ligand signalling.',\n",
       "  0,\n",
       "  'support',\n",
       "  ['This conclusion was supported by experiments that showed that enhancing cSMAC formation reduced stimulatory capacity of the weak peptide.'],\n",
       "  'dev')]"
      ]
     },
     "execution_count": 32,
     "metadata": {},
     "output_type": "execute_result"
    }
   ],
   "source": [
    "tpl_claim_label_rationale"
   ]
  },
  {
   "cell_type": "code",
   "execution_count": 33,
   "id": "a2ad07b5",
   "metadata": {
    "ExecuteTime": {
     "end_time": "2022-01-22T08:00:16.858067Z",
     "start_time": "2022-01-22T08:00:16.855408Z"
    }
   },
   "outputs": [],
   "source": [
    "#ds_claim_label  = textattack.datasets.Dataset(tpl_claim_label_rationale, input_columns=(['claim']))\n",
    "#ds_claim_label  = textattack.datasets.Dataset(tpl_claim_label_rationale, input_columns=(['text']), label_names = ['no_result', 'equal', 'support', 'refute'])\n",
    "ds_claim_label  = textattack.datasets.Dataset(tpl_claim_label_rationale, input_columns=(['text']), label_names = ['support', 'refute'])"
   ]
  },
  {
   "cell_type": "markdown",
   "id": "af6e2783",
   "metadata": {},
   "source": [
    "## TextAttack Custom attack\n"
   ]
  },
  {
   "cell_type": "code",
   "execution_count": 34,
   "id": "a639008c",
   "metadata": {
    "ExecuteTime": {
     "end_time": "2022-01-22T08:00:16.862148Z",
     "start_time": "2022-01-22T08:00:16.859575Z"
    }
   },
   "outputs": [],
   "source": [
    "from textattack.models.wrappers import ModelWrapper"
   ]
  },
  {
   "cell_type": "code",
   "execution_count": 35,
   "id": "2fe189a4",
   "metadata": {
    "ExecuteTime": {
     "end_time": "2022-01-22T08:00:16.867261Z",
     "start_time": "2022-01-22T08:00:16.863719Z"
    }
   },
   "outputs": [],
   "source": [
    "class ScifactModelWrapper(ModelWrapper):\n",
    "    def __init__(self, model):\n",
    "        self.model = model\n",
    "    def __call__(self, list_claim_pair):\n",
    "        #print('list_claim_pair : ', list_claim_pair)\n",
    "        list_all_probs = []\n",
    "        logging.info(\">>> \\n\\nList >>> \")\n",
    "        logging.info(list_claim_pair)\n",
    "        for cur_claim in list_claim_pair:\n",
    "            prob_dist_cur = get_prob_score_claim(cur_claim)\n",
    "            list_all_probs.append(prob_dist_cur)\n",
    "#         prob_dist_org = get_prob_score_claim(list_claim_pair[0])\n",
    "#         prob_dist_org = torch.tensor([prob_dist_org])\n",
    "#         prob_dist_gen = get_prob_score_claim(list_claim_pair[1])\n",
    "#         prob_dist_gen = torch.tensor(prob_dist_gen)        \n",
    "        \n",
    "#         final_pred = torch.stack((prob_dist_org, prob_dist_gen), dim = 0)\n",
    "        \n",
    "#         return final_pred\n",
    "        prob_dist_all = np.array(list_all_probs)\n",
    "        #print('prob_dist_all : ', prob_dist_all)\n",
    "        return prob_dist_all"
   ]
  },
  {
   "cell_type": "raw",
   "id": "4dafd8d1",
   "metadata": {
    "ExecuteTime": {
     "end_time": "2022-01-19T19:40:09.936027Z",
     "start_time": "2022-01-19T19:40:08.372547Z"
    }
   },
   "source": [
    "ScifactModelWrapper(PARAPHRASE_PROJECT_SETTINGS['config_scifact']['rationale_model_name'])(['the story gives ample opportunity for large-scale action and suspense , which director shekhar kapur supplies with tremendous skill .',\n",
    "                                 'the story gives ample opportunity for large-scale action and suspense , which director shekhar kapur supplies with tremendous skill .'])"
   ]
  },
  {
   "cell_type": "code",
   "execution_count": 36,
   "id": "c0aac8dd",
   "metadata": {
    "ExecuteTime": {
     "end_time": "2022-01-22T08:00:16.872845Z",
     "start_time": "2022-01-22T08:00:16.868963Z"
    }
   },
   "outputs": [
    {
     "data": {
      "text/plain": [
       "(OrderedDict([('text',\n",
       "               'A T helper 2 cell (Th2) environment impedes disease development in patients with systemic lupus erythematosus (SLE).')]),\n",
       " 0)"
      ]
     },
     "execution_count": 36,
     "metadata": {},
     "output_type": "execute_result"
    }
   ],
   "source": [
    "ds_claim_label[0]"
   ]
  },
  {
   "cell_type": "code",
   "execution_count": 37,
   "id": "cc31e289",
   "metadata": {
    "ExecuteTime": {
     "end_time": "2022-01-22T08:00:16.879506Z",
     "start_time": "2022-01-22T08:00:16.875823Z"
    }
   },
   "outputs": [],
   "source": [
    "perturb_results_txt_fooler = []"
   ]
  },
  {
   "cell_type": "markdown",
   "id": "34fa7c86",
   "metadata": {},
   "source": [
    "## TextFooler"
   ]
  },
  {
   "cell_type": "code",
   "execution_count": 38,
   "id": "d86907c5",
   "metadata": {
    "ExecuteTime": {
     "end_time": "2022-01-20T16:55:23.725377Z",
     "start_time": "2022-01-20T16:55:23.722970Z"
    }
   },
   "outputs": [],
   "source": [
    "from textattack.attack_recipes.textfooler_jin_2019 import TextFoolerJin2019"
   ]
  },
  {
   "cell_type": "code",
   "execution_count": null,
   "id": "08b8d513",
   "metadata": {
    "ExecuteTime": {
     "start_time": "2022-01-20T16:54:53.738Z"
    },
    "scrolled": true
   },
   "outputs": [
    {
     "name": "stderr",
     "output_type": "stream",
     "text": [
      "textattack: Unknown if model of class <class 'str'> compatible with goal function <class 'textattack.goal_functions.classification.untargeted_classification.UntargetedClassification'>.\n",
      "textattack: Logging to CSV at path ../../logs/text_fooler_log_results_support.csv\n",
      "  0%|          | 0/204 [00:00<?, ?it/s]"
     ]
    },
    {
     "name": "stdout",
     "output_type": "stream",
     "text": [
      "Attack(\n",
      "  (search_method): GreedyWordSwapWIR(\n",
      "    (wir_method):  delete\n",
      "  )\n",
      "  (goal_function):  UntargetedClassification\n",
      "  (transformation):  WordSwapEmbedding(\n",
      "    (max_candidates):  50\n",
      "    (embedding):  WordEmbedding\n",
      "  )\n",
      "  (constraints): \n",
      "    (0): WordEmbeddingDistance(\n",
      "        (embedding):  WordEmbedding\n",
      "        (min_cos_sim):  0.5\n",
      "        (cased):  False\n",
      "        (include_unknown_words):  True\n",
      "        (compare_against_original):  True\n",
      "      )\n",
      "    (1): PartOfSpeech(\n",
      "        (tagger_type):  nltk\n",
      "        (tagset):  universal\n",
      "        (allow_verb_noun_swap):  True\n",
      "        (compare_against_original):  True\n",
      "      )\n",
      "    (2): UniversalSentenceEncoder(\n",
      "        (metric):  angular\n",
      "        (threshold):  0.840845057\n",
      "        (window_size):  15\n",
      "        (skip_text_shorter_than_window):  True\n",
      "        (compare_against_original):  False\n",
      "      )\n",
      "    (3): RepeatModification\n",
      "    (4): StopwordModification\n",
      "    (5): InputColumnModification(\n",
      "        (matching_column_labels):  ['premise', 'hypothesis']\n",
      "        (columns_to_ignore):  {'premise'}\n",
      "      )\n",
      "  (is_black_box):  True\n",
      ") \n",
      "\n"
     ]
    },
    {
     "name": "stderr",
     "output_type": "stream",
     "text": [
      "/home/qudratealahyratu/anaconda3/envs/scifact/lib/python3.7/site-packages/transformers/tokenization_utils_base.py:2190: FutureWarning: The `pad_to_max_length` argument is deprecated and will be removed in a future version, use `padding=True` or `padding='longest'` to pad to the longest sequence in the batch, or use `padding='max_length'` to pad to a max length. In this case, you can give a specific length with `max_length` (e.g. `max_length=45`) or leave max_length to None to pad to the maximal input size of the model (e.g. 512 for Bert).\n",
      "  FutureWarning,\n",
      "[Succeeded / Failed / Skipped / Total] 1 / 0 / 0 / 1:   0%|          | 1/204 [09:52<33:23:51, 592.27s/it]"
     ]
    },
    {
     "name": "stdout",
     "output_type": "stream",
     "text": [
      "--------------------------------------------- Result 1 ---------------------------------------------\n",
      "[[Support (100%)]] --> [[Refute (100%)]]\n",
      "\n",
      "A T helper 2 cell (Th2) environment impedes disease [[development]] in patients with systemic lupus erythematosus (SLE).\n",
      "\n",
      "A T helper 2 cell (Th2) environment impedes disease [[enacted]] in patients with systemic lupus erythematosus (SLE).\n",
      "\n",
      "\n"
     ]
    },
    {
     "name": "stderr",
     "output_type": "stream",
     "text": [
      "[Succeeded / Failed / Skipped / Total] 2 / 0 / 0 / 2:   1%|          | 2/204 [16:13<27:19:06, 486.87s/it]"
     ]
    },
    {
     "name": "stdout",
     "output_type": "stream",
     "text": [
      "--------------------------------------------- Result 2 ---------------------------------------------\n",
      "[[Support (100%)]] --> [[Refute (100%)]]\n",
      "\n",
      "A breast cancer patient's [[capacity]] to metabolize tamoxifen influences treatment outcome.\n",
      "\n",
      "A breast cancer patient's [[dexterity]] to metabolize tamoxifen influences treatment outcome.\n",
      "\n",
      "\n"
     ]
    },
    {
     "name": "stderr",
     "output_type": "stream",
     "text": [
      "[Succeeded / Failed / Skipped / Total] 3 / 0 / 0 / 3:   1%|▏         | 3/204 [22:23<24:59:50, 447.71s/it]"
     ]
    },
    {
     "name": "stdout",
     "output_type": "stream",
     "text": [
      "--------------------------------------------- Result 3 ---------------------------------------------\n",
      "[[Support (100%)]] --> [[Refute (100%)]]\n",
      "\n",
      "A diminished ovarian reserve does not [[solely]] indicate infertility in an a priori non-infertile population.\n",
      "\n",
      "A diminished ovarian reserve does not [[individually]] indicate infertility in an a priori non-infertile population.\n",
      "\n",
      "\n"
     ]
    },
    {
     "name": "stderr",
     "output_type": "stream",
     "text": [
      "[Succeeded / Failed / Skipped / Total] 4 / 0 / 0 / 4:   2%|▏         | 4/204 [25:31<21:16:05, 382.83s/it]"
     ]
    },
    {
     "name": "stdout",
     "output_type": "stream",
     "text": [
      "--------------------------------------------- Result 4 ---------------------------------------------\n",
      "[[Support (100%)]] --> [[Refute (100%)]]\n",
      "\n",
      "ALDH1 expression is associated with poorer prognosis for breast [[cancer]] primary tumors.\n",
      "\n",
      "ALDH1 expression is associated with poorer prognosis for breast [[pancreas]] primary tumors.\n",
      "\n",
      "\n"
     ]
    },
    {
     "name": "stderr",
     "output_type": "stream",
     "text": [
      "/home/qudratealahyratu/research/nlp/fact_checking/my_work/scifact/verisci/covid/abstract_retriever.py:53: UserWarning: abstract selector :: returning empty list \n",
      "  warnings.warn(\"abstract selector :: returning empty list \")\n",
      "[Succeeded / Failed / Skipped / Total] 4 / 1 / 0 / 5:   2%|▏         | 5/204 [39:02<25:53:41, 468.45s/it]"
     ]
    },
    {
     "name": "stdout",
     "output_type": "stream",
     "text": [
      "--------------------------------------------- Result 5 ---------------------------------------------\n",
      "[[Support (100%)]] --> [[[FAILED]]]\n",
      "\n",
      "AMP-activated protein kinase (AMPK) activation reduces inflammation-related fibrosis in the lungs.\n",
      "\n",
      "\n"
     ]
    },
    {
     "name": "stderr",
     "output_type": "stream",
     "text": [
      "[Succeeded / Failed / Skipped / Total] 5 / 1 / 0 / 6:   3%|▎         | 6/204 [45:51<25:13:24, 458.61s/it]"
     ]
    },
    {
     "name": "stdout",
     "output_type": "stream",
     "text": [
      "--------------------------------------------- Result 6 ---------------------------------------------\n",
      "[[Support (100%)]] --> [[Refute (100%)]]\n",
      "\n",
      "ART [[substantially]] reduces infectiveness of HIV-positive people.\n",
      "\n",
      "ART [[infinitely]] reduces infectiveness of HIV-positive people.\n",
      "\n",
      "\n"
     ]
    },
    {
     "name": "stderr",
     "output_type": "stream",
     "text": [
      "[Succeeded / Failed / Skipped / Total] 6 / 1 / 0 / 7:   3%|▎         | 7/204 [47:15<22:10:09, 405.12s/it]"
     ]
    },
    {
     "name": "stdout",
     "output_type": "stream",
     "text": [
      "--------------------------------------------- Result 7 ---------------------------------------------\n",
      "[[Support (100%)]] --> [[Refute (100%)]]\n",
      "\n",
      "[[Active]] caspase-11 protein promotes pyroptosis.\n",
      "\n",
      "[[Affirmative]] caspase-11 protein promotes pyroptosis.\n",
      "\n",
      "\n"
     ]
    },
    {
     "name": "stderr",
     "output_type": "stream",
     "text": [
      "[Succeeded / Failed / Skipped / Total] 7 / 1 / 0 / 8:   4%|▍         | 8/204 [50:04<20:26:42, 375.52s/it]"
     ]
    },
    {
     "name": "stdout",
     "output_type": "stream",
     "text": [
      "--------------------------------------------- Result 8 ---------------------------------------------\n",
      "[[Support (100%)]] --> [[Refute (100%)]]\n",
      "\n",
      "Adult tissue-resident macrophages are [[seeded]] before birth.\n",
      "\n",
      "Adult tissue-resident macrophages are [[cropped]] before birth.\n",
      "\n",
      "\n"
     ]
    },
    {
     "name": "stderr",
     "output_type": "stream",
     "text": [
      "[Succeeded / Failed / Skipped / Total] 7 / 2 / 0 / 9:   4%|▍         | 9/204 [57:47<20:52:05, 385.26s/it]"
     ]
    },
    {
     "name": "stdout",
     "output_type": "stream",
     "text": [
      "--------------------------------------------- Result 9 ---------------------------------------------\n",
      "[[Support (100%)]] --> [[[FAILED]]]\n",
      "\n",
      "Adult tissue-resident macrophages possess a self-renewing capacity.\n",
      "\n",
      "\n"
     ]
    },
    {
     "name": "stderr",
     "output_type": "stream",
     "text": [
      "[Succeeded / Failed / Skipped / Total] 8 / 2 / 0 / 10:   5%|▍         | 10/204 [1:02:25<20:11:00, 374.54s/it]"
     ]
    },
    {
     "name": "stdout",
     "output_type": "stream",
     "text": [
      "--------------------------------------------- Result 10 ---------------------------------------------\n",
      "[[Support (100%)]] --> [[Refute (100%)]]\n",
      "\n",
      "Aggravated inflammation is [[dependent]] on NLRP3 inflammasome activation.\n",
      "\n",
      "Aggravated inflammation is [[subordinate]] on NLRP3 inflammasome activation.\n",
      "\n",
      "\n"
     ]
    },
    {
     "name": "stderr",
     "output_type": "stream",
     "text": [
      "[Succeeded / Failed / Skipped / Total] 9 / 2 / 0 / 11:   5%|▌         | 11/204 [1:11:05<20:47:17, 387.76s/it]"
     ]
    },
    {
     "name": "stdout",
     "output_type": "stream",
     "text": [
      "--------------------------------------------- Result 11 ---------------------------------------------\n",
      "[[Support (100%)]] --> [[Refute (100%)]]\n",
      "\n",
      "Amitriptyline is an effective treatment for [[chronic]] tension-type headaches.\n",
      "\n",
      "Amitriptyline is an effective treatment for [[lifelong]] tension-type headaches.\n",
      "\n",
      "\n"
     ]
    },
    {
     "name": "stderr",
     "output_type": "stream",
     "text": [
      "[Succeeded / Failed / Skipped / Total] 9 / 3 / 0 / 12:   6%|▌         | 12/204 [1:23:43<22:19:30, 418.60s/it]"
     ]
    },
    {
     "name": "stdout",
     "output_type": "stream",
     "text": [
      "--------------------------------------------- Result 12 ---------------------------------------------\n",
      "[[Support (100%)]] --> [[[FAILED]]]\n",
      "\n",
      "Androgenetic haploid mouse embryonic stem cells (ESCs) can be derived and genetically manipulated in vitro.\n",
      "\n",
      "\n"
     ]
    },
    {
     "name": "stderr",
     "output_type": "stream",
     "text": [
      "[Succeeded / Failed / Skipped / Total] 10 / 3 / 0 / 13:   6%|▋         | 13/204 [1:30:18<22:06:51, 416.81s/it]"
     ]
    },
    {
     "name": "stdout",
     "output_type": "stream",
     "text": [
      "--------------------------------------------- Result 13 ---------------------------------------------\n",
      "[[Support (100%)]] --> [[Refute (100%)]]\n",
      "\n",
      "Angiotensin converting enzyme [[inhibitors]] are associated with decreased risk for functional renal insufficiency.\n",
      "\n",
      "Angiotensin converting enzyme [[dopamine]] are associated with decreased risk for functional renal insufficiency.\n",
      "\n",
      "\n"
     ]
    }
   ],
   "source": [
    "class_model = PARAPHRASE_PROJECT_SETTINGS['config_scifact']['rationale_model_name']\n",
    "#attack_args_fooler = AttackArgs(num_examples=-1)\n",
    "attack_args_fooler = AttackArgs(num_examples=-1, log_to_csv=\"../../logs/text_fooler_log_results_support.csv\", csv_coloring_style=\"html\")\n",
    "model_wrapper_txt_fooler = ScifactModelWrapper(class_model)\n",
    "attack_txt_fooler = TextFoolerJin2019.build(model_wrapper_txt_fooler)\n",
    "attacker_txt_fooler = Attacker(attack_txt_fooler, ds_claim_label, attack_args_fooler)\n",
    "attack_results_txt_fooler = attacker_txt_fooler.attack_dataset()"
   ]
  },
  {
   "cell_type": "code",
   "execution_count": null,
   "id": "5d298123",
   "metadata": {
    "ExecuteTime": {
     "start_time": "2022-01-20T16:54:53.740Z"
    }
   },
   "outputs": [],
   "source": [
    "for cur_result in attack_results_txt_fooler:\n",
    "    print()\n",
    "    print()\n",
    "    print(cur_result.__str__(color_method='ansi'))"
   ]
  },
  {
   "cell_type": "code",
   "execution_count": null,
   "id": "6a68fec4",
   "metadata": {
    "ExecuteTime": {
     "start_time": "2022-01-20T16:54:53.742Z"
    }
   },
   "outputs": [],
   "source": [
    "logger = attacker_txt_fooler.attack_log_manager.loggers[0]\n",
    "successes = logger.df\n",
    "display(HTML(successes[['original_text', 'perturbed_text', 'result_type']].to_html(escape=False)))"
   ]
  },
  {
   "cell_type": "code",
   "execution_count": null,
   "id": "2a2299c9",
   "metadata": {
    "ExecuteTime": {
     "start_time": "2022-01-20T16:54:53.744Z"
    }
   },
   "outputs": [],
   "source": [
    "perturb_results_txt_fooler.extend([(cur_result.original_text(), cur_result.perturbed_text(), cur_result.num_queries, \n",
    "                                    str(cur_result.__class__.__name__), 'TextFoolerJin2019') for cur_result in attack_results_txt_fooler] )"
   ]
  },
  {
   "cell_type": "code",
   "execution_count": null,
   "id": "8e6ba88c",
   "metadata": {
    "ExecuteTime": {
     "start_time": "2022-01-20T16:54:53.861Z"
    }
   },
   "outputs": [],
   "source": [
    "df_txt_fooler = pd.DataFrame(perturb_results_txt_fooler, columns = ['org_claim', 'gen_claim', \n",
    "                                                                    'num_of_query', 'attack_result', 'attack_method'])"
   ]
  },
  {
   "cell_type": "code",
   "execution_count": null,
   "id": "f951a195",
   "metadata": {
    "ExecuteTime": {
     "start_time": "2022-01-20T16:54:53.863Z"
    }
   },
   "outputs": [],
   "source": [
    "df_txt_fooler"
   ]
  },
  {
   "cell_type": "code",
   "execution_count": null,
   "id": "5189fd34",
   "metadata": {
    "ExecuteTime": {
     "start_time": "2022-01-20T16:54:53.865Z"
    }
   },
   "outputs": [],
   "source": [
    "df_txt_fooler.to_pickle('../../dfs_generated/paraphrased/existing_literature_methods/scifact_as_black_box_model_2_output/scifact_textfooler_jin_2019_sup_to_ref_2_opt.pkl')"
   ]
  },
  {
   "cell_type": "code",
   "execution_count": null,
   "id": "7ba0441a",
   "metadata": {
    "ExecuteTime": {
     "start_time": "2022-01-20T16:54:53.866Z"
    }
   },
   "outputs": [],
   "source": [
    "df_txt_fooler.to_csv('../../dfs_generated/paraphrased/existing_literature_methods/scifact_as_black_box_model_2_output/scifact_textfooler_jin_2019_sup_to_ref_2_opt.csv')"
   ]
  },
  {
   "cell_type": "markdown",
   "id": "b26b7850",
   "metadata": {},
   "source": [
    "## CheckList"
   ]
  },
  {
   "cell_type": "code",
   "execution_count": 41,
   "id": "e96b1bcb",
   "metadata": {
    "ExecuteTime": {
     "end_time": "2022-01-22T06:36:53.186473Z",
     "start_time": "2022-01-22T06:36:53.181954Z"
    }
   },
   "outputs": [],
   "source": [
    "logging.info(\">>> \\n\\\\n CheckList >>> \")"
   ]
  },
  {
   "cell_type": "code",
   "execution_count": 42,
   "id": "445bd49f",
   "metadata": {
    "ExecuteTime": {
     "end_time": "2022-01-22T06:36:55.072911Z",
     "start_time": "2022-01-22T06:36:55.068714Z"
    }
   },
   "outputs": [],
   "source": [
    "from textattack.attack_recipes.checklist_ribeiro_2020 import CheckList2020"
   ]
  },
  {
   "cell_type": "raw",
   "id": "6f0ae19d",
   "metadata": {
    "ExecuteTime": {
     "start_time": "2022-01-20T16:54:53.912Z"
    }
   },
   "source": [
    "model_cklist = transformers.AutoModelForSequenceClassification.from_pretrained(PARAPHRASE_PROJECT_SETTINGS['config_scifact']['cls_model_name'])\n",
    "tokenizer_cklist = transformers.AutoTokenizer.from_pretrained(PARAPHRASE_PROJECT_SETTINGS['config_scifact']['cls_model_name'])\n",
    "model_wrapper_cklist = ScifactModelWrapper(class_model)\n",
    "#model_wrapper_cklist = HuggingFaceModelWrapper(model_cklist, tokenizer_cklist)"
   ]
  },
  {
   "cell_type": "code",
   "execution_count": 43,
   "id": "ca47163c",
   "metadata": {
    "ExecuteTime": {
     "end_time": "2022-01-22T07:01:46.719649Z",
     "start_time": "2022-01-22T06:39:26.103586Z"
    }
   },
   "outputs": [
    {
     "name": "stderr",
     "output_type": "stream",
     "text": [
      "textattack: Unknown if model of class <class 'str'> compatible with goal function <class 'textattack.goal_functions.classification.untargeted_classification.UntargetedClassification'>.\n",
      "textattack: Logging to CSV at path ../../logs/checklist_log_results_support.csv\n",
      "  0%|          | 0/204 [00:00<?, ?it/s]"
     ]
    },
    {
     "name": "stdout",
     "output_type": "stream",
     "text": [
      "Attack(\n",
      "  (search_method): GreedySearch\n",
      "  (goal_function):  UntargetedClassification\n",
      "  (transformation):  CompositeTransformation(\n",
      "    (0): WordSwapExtend\n",
      "    (1): WordSwapContract\n",
      "    (2): WordSwapChangeName\n",
      "    (3): WordSwapChangeNumber\n",
      "    (4): WordSwapChangeLocation\n",
      "    )\n",
      "  (constraints): \n",
      "    (0): RepeatModification\n",
      "  (is_black_box):  True\n",
      ") \n",
      "\n"
     ]
    },
    {
     "name": "stderr",
     "output_type": "stream",
     "text": [
      "/home/qudratealahyratu/anaconda3/envs/scifact/lib/python3.7/site-packages/transformers/tokenization_utils_base.py:2190: FutureWarning: The `pad_to_max_length` argument is deprecated and will be removed in a future version, use `padding=True` or `padding='longest'` to pad to the longest sequence in the batch, or use `padding='max_length'` to pad to a max length. In this case, you can give a specific length with `max_length` (e.g. `max_length=45`) or leave max_length to None to pad to the maximal input size of the model (e.g. 512 for Bert).\n",
      "  FutureWarning,\n"
     ]
    },
    {
     "name": "stdout",
     "output_type": "stream",
     "text": [
      "2022-01-21 23:39:31,851 --------------------------------------------------------------------------------\n",
      "2022-01-21 23:39:31,852 The model key 'ner' now maps to 'https://huggingface.co/flair/ner-english' on the HuggingFace ModelHub\n",
      "2022-01-21 23:39:31,853  - The most current version of the model is automatically downloaded from there.\n",
      "2022-01-21 23:39:31,854  - (you can alternatively manually download the original model at https://nlp.informatik.hu-berlin.de/resources/models/ner/en-ner-conll03-v0.4.pt)\n",
      "2022-01-21 23:39:31,855 --------------------------------------------------------------------------------\n",
      "2022-01-21 23:39:32,209 loading file /home/qudratealahyratu/.flair/models/ner-english/4f4cdab26f24cb98b732b389e6cebc646c36f54cfd6e0b7d3b90b25656e4262f.8baa8ae8795f4df80b28e7f7b61d788ecbb057d1dc85aacb316f1bd02837a4a4\n"
     ]
    },
    {
     "name": "stderr",
     "output_type": "stream",
     "text": [
      "[Succeeded / Failed / Skipped / Total] 0 / 1 / 0 / 1:   0%|          | 1/204 [00:09<31:37,  9.35s/it]"
     ]
    },
    {
     "name": "stdout",
     "output_type": "stream",
     "text": [
      "--------------------------------------------- Result 1 ---------------------------------------------\n",
      "[[Support (100%)]] --> [[[FAILED]]]\n",
      "\n",
      "A T helper 2 cell (Th2) environment impedes disease development in patients with systemic lupus erythematosus (SLE).\n",
      "\n",
      "\n"
     ]
    },
    {
     "name": "stderr",
     "output_type": "stream",
     "text": [
      "/home/qudratealahyratu/anaconda3/envs/scifact/lib/python3.7/site-packages/transformers/tokenization_utils_base.py:2190: FutureWarning: The `pad_to_max_length` argument is deprecated and will be removed in a future version, use `padding=True` or `padding='longest'` to pad to the longest sequence in the batch, or use `padding='max_length'` to pad to a max length. In this case, you can give a specific length with `max_length` (e.g. `max_length=45`) or leave max_length to None to pad to the maximal input size of the model (e.g. 512 for Bert).\n",
      "  FutureWarning,\n",
      "[Succeeded / Failed / Skipped / Total] 0 / 2 / 0 / 2:   1%|          | 2/204 [00:16<27:21,  8.12s/it]"
     ]
    },
    {
     "name": "stdout",
     "output_type": "stream",
     "text": [
      "--------------------------------------------- Result 2 ---------------------------------------------\n",
      "[[Support (100%)]] --> [[[FAILED]]]\n",
      "\n",
      "A breast cancer patient's capacity to metabolize tamoxifen influences treatment outcome.\n",
      "\n",
      "\n"
     ]
    },
    {
     "name": "stderr",
     "output_type": "stream",
     "text": [
      "[Succeeded / Failed / Skipped / Total] 0 / 3 / 0 / 3:   1%|▏         | 3/204 [00:22<24:35,  7.34s/it]"
     ]
    },
    {
     "name": "stdout",
     "output_type": "stream",
     "text": [
      "--------------------------------------------- Result 3 ---------------------------------------------\n",
      "[[Support (100%)]] --> [[[FAILED]]]\n",
      "\n",
      "A diminished ovarian reserve does not solely indicate infertility in an a priori non-infertile population.\n",
      "\n",
      "\n"
     ]
    },
    {
     "name": "stderr",
     "output_type": "stream",
     "text": [
      "[Succeeded / Failed / Skipped / Total] 0 / 4 / 0 / 4:   2%|▏         | 4/204 [00:29<24:43,  7.42s/it]"
     ]
    },
    {
     "name": "stdout",
     "output_type": "stream",
     "text": [
      "--------------------------------------------- Result 4 ---------------------------------------------\n",
      "[[Support (100%)]] --> [[[FAILED]]]\n",
      "\n",
      "ALDH1 expression is associated with poorer prognosis for breast cancer primary tumors.\n",
      "\n",
      "\n"
     ]
    },
    {
     "name": "stderr",
     "output_type": "stream",
     "text": [
      "[Succeeded / Failed / Skipped / Total] 0 / 5 / 0 / 5:   2%|▏         | 5/204 [00:34<22:45,  6.86s/it]"
     ]
    },
    {
     "name": "stdout",
     "output_type": "stream",
     "text": [
      "--------------------------------------------- Result 5 ---------------------------------------------\n",
      "[[Support (100%)]] --> [[[FAILED]]]\n",
      "\n",
      "AMP-activated protein kinase (AMPK) activation reduces inflammation-related fibrosis in the lungs.\n",
      "\n",
      "\n"
     ]
    },
    {
     "name": "stderr",
     "output_type": "stream",
     "text": [
      "[Succeeded / Failed / Skipped / Total] 0 / 6 / 0 / 6:   3%|▎         | 6/204 [00:43<23:53,  7.24s/it]"
     ]
    },
    {
     "name": "stdout",
     "output_type": "stream",
     "text": [
      "--------------------------------------------- Result 6 ---------------------------------------------\n",
      "[[Support (100%)]] --> [[[FAILED]]]\n",
      "\n",
      "ART substantially reduces infectiveness of HIV-positive people.\n",
      "\n",
      "\n"
     ]
    },
    {
     "name": "stderr",
     "output_type": "stream",
     "text": [
      "[Succeeded / Failed / Skipped / Total] 0 / 7 / 0 / 7:   3%|▎         | 7/204 [00:46<22:00,  6.70s/it]"
     ]
    },
    {
     "name": "stdout",
     "output_type": "stream",
     "text": [
      "--------------------------------------------- Result 7 ---------------------------------------------\n",
      "[[Support (100%)]] --> [[[FAILED]]]\n",
      "\n",
      "Active caspase-11 protein promotes pyroptosis.\n",
      "\n",
      "\n"
     ]
    },
    {
     "name": "stderr",
     "output_type": "stream",
     "text": [
      "[Succeeded / Failed / Skipped / Total] 0 / 8 / 0 / 8:   4%|▍         | 8/204 [00:57<23:20,  7.14s/it]"
     ]
    },
    {
     "name": "stdout",
     "output_type": "stream",
     "text": [
      "--------------------------------------------- Result 8 ---------------------------------------------\n",
      "[[Support (100%)]] --> [[[FAILED]]]\n",
      "\n",
      "Adult tissue-resident macrophages are seeded before birth.\n",
      "\n",
      "\n"
     ]
    },
    {
     "name": "stderr",
     "output_type": "stream",
     "text": [
      "[Succeeded / Failed / Skipped / Total] 0 / 9 / 0 / 9:   4%|▍         | 9/204 [01:03<22:46,  7.01s/it]"
     ]
    },
    {
     "name": "stdout",
     "output_type": "stream",
     "text": [
      "--------------------------------------------- Result 9 ---------------------------------------------\n",
      "[[Support (100%)]] --> [[[FAILED]]]\n",
      "\n",
      "Adult tissue-resident macrophages possess a self-renewing capacity.\n",
      "\n",
      "\n"
     ]
    },
    {
     "name": "stderr",
     "output_type": "stream",
     "text": [
      "[Succeeded / Failed / Skipped / Total] 0 / 10 / 0 / 10:   5%|▍         | 10/204 [01:10<22:50,  7.07s/it]"
     ]
    },
    {
     "name": "stdout",
     "output_type": "stream",
     "text": [
      "--------------------------------------------- Result 10 ---------------------------------------------\n",
      "[[Support (100%)]] --> [[[FAILED]]]\n",
      "\n",
      "Aggravated inflammation is dependent on NLRP3 inflammasome activation.\n",
      "\n",
      "\n"
     ]
    },
    {
     "name": "stderr",
     "output_type": "stream",
     "text": [
      "[Succeeded / Failed / Skipped / Total] 0 / 11 / 0 / 11:   5%|▌         | 11/204 [01:16<22:17,  6.93s/it]"
     ]
    },
    {
     "name": "stdout",
     "output_type": "stream",
     "text": [
      "--------------------------------------------- Result 11 ---------------------------------------------\n",
      "[[Support (100%)]] --> [[[FAILED]]]\n",
      "\n",
      "Amitriptyline is an effective treatment for chronic tension-type headaches.\n",
      "\n",
      "\n"
     ]
    },
    {
     "name": "stderr",
     "output_type": "stream",
     "text": [
      "[Succeeded / Failed / Skipped / Total] 0 / 12 / 0 / 12:   6%|▌         | 12/204 [01:20<21:34,  6.74s/it]"
     ]
    },
    {
     "name": "stdout",
     "output_type": "stream",
     "text": [
      "--------------------------------------------- Result 12 ---------------------------------------------\n",
      "[[Support (100%)]] --> [[[FAILED]]]\n",
      "\n",
      "Androgenetic haploid mouse embryonic stem cells (ESCs) can be derived and genetically manipulated in vitro.\n",
      "\n",
      "\n"
     ]
    },
    {
     "name": "stderr",
     "output_type": "stream",
     "text": [
      "[Succeeded / Failed / Skipped / Total] 0 / 13 / 0 / 13:   6%|▋         | 13/204 [01:27<21:29,  6.75s/it]"
     ]
    },
    {
     "name": "stdout",
     "output_type": "stream",
     "text": [
      "--------------------------------------------- Result 13 ---------------------------------------------\n",
      "[[Support (100%)]] --> [[[FAILED]]]\n",
      "\n",
      "Angiotensin converting enzyme inhibitors are associated with decreased risk for functional renal insufficiency.\n",
      "\n",
      "\n"
     ]
    },
    {
     "name": "stderr",
     "output_type": "stream",
     "text": [
      "[Succeeded / Failed / Skipped / Total] 0 / 14 / 0 / 14:   7%|▋         | 14/204 [01:33<21:06,  6.67s/it]"
     ]
    },
    {
     "name": "stdout",
     "output_type": "stream",
     "text": [
      "--------------------------------------------- Result 14 ---------------------------------------------\n",
      "[[Support (100%)]] --> [[[FAILED]]]\n",
      "\n",
      "Anthrax spores remain deadly until affected areas are decontaminated.\n",
      "\n",
      "\n"
     ]
    },
    {
     "name": "stderr",
     "output_type": "stream",
     "text": [
      "[Succeeded / Failed / Skipped / Total] 0 / 15 / 0 / 15:   7%|▋         | 15/204 [01:41<21:21,  6.78s/it]"
     ]
    },
    {
     "name": "stdout",
     "output_type": "stream",
     "text": [
      "--------------------------------------------- Result 15 ---------------------------------------------\n",
      "[[Support (100%)]] --> [[[FAILED]]]\n",
      "\n",
      "Antidepressants reduce the severity of migraines.\n",
      "\n",
      "\n"
     ]
    },
    {
     "name": "stderr",
     "output_type": "stream",
     "text": [
      "[Succeeded / Failed / Skipped / Total] 0 / 16 / 0 / 16:   8%|▊         | 16/204 [01:45<20:44,  6.62s/it]"
     ]
    },
    {
     "name": "stdout",
     "output_type": "stream",
     "text": [
      "--------------------------------------------- Result 16 ---------------------------------------------\n",
      "[[Support (100%)]] --> [[[FAILED]]]\n",
      "\n",
      "Asymptomatic visual impairment screening in elderly populations leads to improved vision.\n",
      "\n",
      "\n"
     ]
    },
    {
     "name": "stderr",
     "output_type": "stream",
     "text": [
      "[Succeeded / Failed / Skipped / Total] 0 / 17 / 0 / 17:   8%|▊         | 17/204 [01:55<21:13,  6.81s/it]"
     ]
    },
    {
     "name": "stdout",
     "output_type": "stream",
     "text": [
      "--------------------------------------------- Result 17 ---------------------------------------------\n",
      "[[Support (100%)]] --> [[[FAILED]]]\n",
      "\n",
      "Autologous transplantation of mesenchymal stem cells has better graft function than induction therapy with anti-interleukin-2 receptor antibodies.\n",
      "\n",
      "\n"
     ]
    },
    {
     "name": "stderr",
     "output_type": "stream",
     "text": [
      "[Succeeded / Failed / Skipped / Total] 0 / 18 / 0 / 18:   9%|▉         | 18/204 [02:07<21:57,  7.08s/it]"
     ]
    },
    {
     "name": "stdout",
     "output_type": "stream",
     "text": [
      "--------------------------------------------- Result 18 ---------------------------------------------\n",
      "[[Support (100%)]] --> [[[FAILED]]]\n",
      "\n",
      "BRCA 1 mutation carriers' risk of breast and ovarian cancer depends on where the mutation is located.\n",
      "\n",
      "\n"
     ]
    },
    {
     "name": "stderr",
     "output_type": "stream",
     "text": [
      "[Succeeded / Failed / Skipped / Total] 0 / 19 / 0 / 19:   9%|▉         | 19/204 [02:11<21:20,  6.92s/it]"
     ]
    },
    {
     "name": "stdout",
     "output_type": "stream",
     "text": [
      "--------------------------------------------- Result 19 ---------------------------------------------\n",
      "[[Support (100%)]] --> [[[FAILED]]]\n",
      "\n",
      "Bacterial meningitis can be diagnosed on the basis of positive cerebrospinal fluid (CSF) cultures.\n",
      "\n",
      "\n"
     ]
    },
    {
     "name": "stderr",
     "output_type": "stream",
     "text": [
      "[Succeeded / Failed / Skipped / Total] 0 / 20 / 0 / 20:  10%|▉         | 20/204 [02:20<21:34,  7.04s/it]"
     ]
    },
    {
     "name": "stdout",
     "output_type": "stream",
     "text": [
      "--------------------------------------------- Result 20 ---------------------------------------------\n",
      "[[Support (100%)]] --> [[[FAILED]]]\n",
      "\n",
      "Bariatric surgery leads to negative outcomes in mental health.\n",
      "\n",
      "\n"
     ]
    },
    {
     "name": "stderr",
     "output_type": "stream",
     "text": [
      "[Succeeded / Failed / Skipped / Total] 0 / 21 / 0 / 21:  10%|█         | 21/204 [02:27<21:24,  7.02s/it]"
     ]
    },
    {
     "name": "stdout",
     "output_type": "stream",
     "text": [
      "--------------------------------------------- Result 21 ---------------------------------------------\n",
      "[[Support (100%)]] --> [[[FAILED]]]\n",
      "\n",
      "Bariatric surgery reduces colorectal cancer.\n",
      "\n",
      "\n"
     ]
    },
    {
     "name": "stderr",
     "output_type": "stream",
     "text": [
      "[Succeeded / Failed / Skipped / Total] 0 / 22 / 0 / 22:  11%|█         | 22/204 [02:31<20:53,  6.89s/it]"
     ]
    },
    {
     "name": "stdout",
     "output_type": "stream",
     "text": [
      "--------------------------------------------- Result 22 ---------------------------------------------\n",
      "[[Support (100%)]] --> [[[FAILED]]]\n",
      "\n",
      "Bariatric surgery reduces postmenopausal breast cancer.\n",
      "\n",
      "\n"
     ]
    },
    {
     "name": "stderr",
     "output_type": "stream",
     "text": [
      "[Succeeded / Failed / Skipped / Total] 0 / 23 / 0 / 23:  11%|█▏        | 23/204 [02:38<20:46,  6.88s/it]"
     ]
    },
    {
     "name": "stdout",
     "output_type": "stream",
     "text": [
      "--------------------------------------------- Result 23 ---------------------------------------------\n",
      "[[Support (100%)]] --> [[[FAILED]]]\n",
      "\n",
      "Basophils promote disease development in patients with systemic lupus erythematosus (SLE).\n",
      "\n",
      "\n"
     ]
    },
    {
     "name": "stderr",
     "output_type": "stream",
     "text": [
      "[Succeeded / Failed / Skipped / Total] 0 / 24 / 0 / 24:  12%|█▏        | 24/204 [02:41<20:10,  6.73s/it]"
     ]
    },
    {
     "name": "stdout",
     "output_type": "stream",
     "text": [
      "--------------------------------------------- Result 24 ---------------------------------------------\n",
      "[[Support (100%)]] --> [[[FAILED]]]\n",
      "\n",
      "CCL19 is a ligand for CCR7.\n",
      "\n",
      "\n"
     ]
    },
    {
     "name": "stderr",
     "output_type": "stream",
     "text": [
      "[Succeeded / Failed / Skipped / Total] 0 / 25 / 0 / 25:  12%|█▏        | 25/204 [02:47<20:01,  6.71s/it]"
     ]
    },
    {
     "name": "stdout",
     "output_type": "stream",
     "text": [
      "--------------------------------------------- Result 25 ---------------------------------------------\n",
      "[[Support (100%)]] --> [[[FAILED]]]\n",
      "\n",
      "COPI coatmer is involved in lipid homeostasis.\n",
      "\n",
      "\n"
     ]
    },
    {
     "name": "stderr",
     "output_type": "stream",
     "text": [
      "[Succeeded / Failed / Skipped / Total] 0 / 26 / 0 / 26:  13%|█▎        | 26/204 [02:52<19:38,  6.62s/it]"
     ]
    },
    {
     "name": "stdout",
     "output_type": "stream",
     "text": [
      "--------------------------------------------- Result 26 ---------------------------------------------\n",
      "[[Support (100%)]] --> [[[FAILED]]]\n",
      "\n",
      "Ca2+ cycling is a UCP1-dependent thermogenic mechanism.\n",
      "\n",
      "\n"
     ]
    },
    {
     "name": "stderr",
     "output_type": "stream",
     "text": [
      "[Succeeded / Failed / Skipped / Total] 0 / 27 / 0 / 27:  13%|█▎        | 27/204 [03:00<19:41,  6.67s/it]"
     ]
    },
    {
     "name": "stdout",
     "output_type": "stream",
     "text": [
      "--------------------------------------------- Result 27 ---------------------------------------------\n",
      "[[Support (100%)]] --> [[[FAILED]]]\n",
      "\n",
      "Cancer cells can stimulate the accumulation of intra-tumoural myeloid-derived suppressor cells by promoting granulocyte colony stimulating factor production.\n",
      "\n",
      "\n"
     ]
    },
    {
     "name": "stderr",
     "output_type": "stream",
     "text": [
      "[Succeeded / Failed / Skipped / Total] 0 / 28 / 0 / 28:  14%|█▎        | 28/204 [03:07<19:39,  6.70s/it]"
     ]
    },
    {
     "name": "stdout",
     "output_type": "stream",
     "text": [
      "--------------------------------------------- Result 28 ---------------------------------------------\n",
      "[[Support (100%)]] --> [[[FAILED]]]\n",
      "\n",
      "Cancers that initially benefit from epidermal growth factor receptor targeted therapies later become refractory through several mechanisms.\n",
      "\n",
      "\n"
     ]
    },
    {
     "name": "stderr",
     "output_type": "stream",
     "text": [
      "[Succeeded / Failed / Skipped / Total] 0 / 29 / 0 / 29:  14%|█▍        | 29/204 [03:14<19:34,  6.71s/it]"
     ]
    },
    {
     "name": "stdout",
     "output_type": "stream",
     "text": [
      "--------------------------------------------- Result 29 ---------------------------------------------\n",
      "[[Support (100%)]] --> [[[FAILED]]]\n",
      "\n",
      "Cellular differentiation of embryonic stem cells is accompanied by changes in replication timing, transcription and nuclear localization.\n",
      "\n",
      "\n"
     ]
    },
    {
     "name": "stderr",
     "output_type": "stream",
     "text": [
      "[Succeeded / Failed / Skipped / Total] 0 / 30 / 0 / 30:  15%|█▍        | 30/204 [03:18<19:10,  6.61s/it]"
     ]
    },
    {
     "name": "stdout",
     "output_type": "stream",
     "text": [
      "--------------------------------------------- Result 30 ---------------------------------------------\n",
      "[[Support (100%)]] --> [[[FAILED]]]\n",
      "\n",
      "Chenodeoxycholic acid treatment increases brown adipose tissue activity.\n",
      "\n",
      "\n"
     ]
    },
    {
     "name": "stderr",
     "output_type": "stream",
     "text": [
      "[Succeeded / Failed / Skipped / Total] 0 / 31 / 0 / 31:  15%|█▌        | 31/204 [03:22<18:48,  6.52s/it]"
     ]
    },
    {
     "name": "stdout",
     "output_type": "stream",
     "text": [
      "--------------------------------------------- Result 31 ---------------------------------------------\n",
      "[[Support (100%)]] --> [[[FAILED]]]\n",
      "\n",
      "Cnn1 recruitment varies with cell cycle timing.\n",
      "\n",
      "\n"
     ]
    },
    {
     "name": "stderr",
     "output_type": "stream",
     "text": [
      "[Succeeded / Failed / Skipped / Total] 0 / 32 / 0 / 32:  16%|█▌        | 32/204 [03:28<18:42,  6.53s/it]"
     ]
    },
    {
     "name": "stdout",
     "output_type": "stream",
     "text": [
      "--------------------------------------------- Result 32 ---------------------------------------------\n",
      "[[Support (100%)]] --> [[[FAILED]]]\n",
      "\n",
      "Deregulation of HAND2 is a crucial step in endometrial carcinogenesis in mice.\n",
      "\n",
      "\n"
     ]
    },
    {
     "name": "stderr",
     "output_type": "stream",
     "text": [
      "[Succeeded / Failed / Skipped / Total] 0 / 33 / 0 / 33:  16%|█▌        | 33/204 [03:42<19:11,  6.73s/it]"
     ]
    },
    {
     "name": "stdout",
     "output_type": "stream",
     "text": [
      "--------------------------------------------- Result 33 ---------------------------------------------\n",
      "[[Support (100%)]] --> [[[FAILED]]]\n",
      "\n",
      "Diabetes remission occurs less in people treated with conventional therapy than in people treated with laparoscopic adjustable gastric banding surgery.\n",
      "\n",
      "\n"
     ]
    },
    {
     "name": "stderr",
     "output_type": "stream",
     "text": [
      "[Succeeded / Failed / Skipped / Total] 0 / 34 / 0 / 34:  17%|█▋        | 34/204 [03:47<18:56,  6.68s/it]"
     ]
    },
    {
     "name": "stdout",
     "output_type": "stream",
     "text": [
      "--------------------------------------------- Result 34 ---------------------------------------------\n",
      "[[Support (100%)]] --> [[[FAILED]]]\n",
      "\n",
      "Egr2 regulates the homeostasis of B and T cells.\n",
      "\n",
      "\n"
     ]
    },
    {
     "name": "stderr",
     "output_type": "stream",
     "text": [
      "[Succeeded / Failed / Skipped / Total] 0 / 35 / 0 / 35:  17%|█▋        | 35/204 [03:52<18:43,  6.65s/it]"
     ]
    },
    {
     "name": "stdout",
     "output_type": "stream",
     "text": [
      "--------------------------------------------- Result 35 ---------------------------------------------\n",
      "[[Support (100%)]] --> [[[FAILED]]]\n",
      "\n",
      "Eilat virus (EILV) produced in mosquitos elicits rapid and long-lasting neutralizing antibodies in nonhuman primates.\n",
      "\n",
      "\n"
     ]
    },
    {
     "name": "stderr",
     "output_type": "stream",
     "text": [
      "[Succeeded / Failed / Skipped / Total] 0 / 36 / 0 / 36:  18%|█▊        | 36/204 [03:59<18:35,  6.64s/it]"
     ]
    },
    {
     "name": "stdout",
     "output_type": "stream",
     "text": [
      "--------------------------------------------- Result 36 ---------------------------------------------\n",
      "[[Support (100%)]] --> [[[FAILED]]]\n",
      "\n",
      "Elevated cell-free mitochondrial DNA levels are associated with mortality.\n",
      "\n",
      "\n"
     ]
    },
    {
     "name": "stderr",
     "output_type": "stream",
     "text": [
      "[Succeeded / Failed / Skipped / Total] 0 / 37 / 0 / 37:  18%|█▊        | 37/204 [04:05<18:29,  6.64s/it]"
     ]
    },
    {
     "name": "stdout",
     "output_type": "stream",
     "text": [
      "--------------------------------------------- Result 37 ---------------------------------------------\n",
      "[[Support (100%)]] --> [[[FAILED]]]\n",
      "\n",
      "Environmental factors can influence the development of breast cancer.\n",
      "\n",
      "\n"
     ]
    },
    {
     "name": "stderr",
     "output_type": "stream",
     "text": [
      "[Succeeded / Failed / Skipped / Total] 0 / 38 / 0 / 38:  19%|█▊        | 38/204 [04:13<18:27,  6.67s/it]"
     ]
    },
    {
     "name": "stdout",
     "output_type": "stream",
     "text": [
      "--------------------------------------------- Result 38 ---------------------------------------------\n",
      "[[Support (100%)]] --> [[[FAILED]]]\n",
      "\n",
      "Environmentally-induced senescence is mimicked in disease modeling by adding specific molecules to the culture system.\n",
      "\n",
      "\n"
     ]
    },
    {
     "name": "stderr",
     "output_type": "stream",
     "text": [
      "[Succeeded / Failed / Skipped / Total] 0 / 39 / 0 / 39:  19%|█▉        | 39/204 [04:19<18:19,  6.66s/it]"
     ]
    },
    {
     "name": "stdout",
     "output_type": "stream",
     "text": [
      "--------------------------------------------- Result 39 ---------------------------------------------\n",
      "[[Support (100%)]] --> [[[FAILED]]]\n",
      "\n",
      "Excess gestational weight gain is associated with obesity-related pregnancy outcomes.\n",
      "\n",
      "\n"
     ]
    },
    {
     "name": "stderr",
     "output_type": "stream",
     "text": [
      "[Succeeded / Failed / Skipped / Total] 0 / 40 / 0 / 40:  20%|█▉        | 40/204 [04:22<17:57,  6.57s/it]"
     ]
    },
    {
     "name": "stdout",
     "output_type": "stream",
     "text": [
      "--------------------------------------------- Result 40 ---------------------------------------------\n",
      "[[Support (100%)]] --> [[[FAILED]]]\n",
      "\n",
      "Female carriers of the Apolipoprotein E4 (APOE4) allele have increased risk for Alzheimer's disease.\n",
      "\n",
      "\n"
     ]
    },
    {
     "name": "stderr",
     "output_type": "stream",
     "text": [
      "[Succeeded / Failed / Skipped / Total] 0 / 41 / 0 / 41:  20%|██        | 41/204 [04:24<17:31,  6.45s/it]"
     ]
    },
    {
     "name": "stdout",
     "output_type": "stream",
     "text": [
      "--------------------------------------------- Result 41 ---------------------------------------------\n",
      "[[Support (100%)]] --> [[[FAILED]]]\n",
      "\n",
      "Forkhead 0 (fox0) transcription factors are involved in apoptosis.\n",
      "\n",
      "\n"
     ]
    },
    {
     "name": "stderr",
     "output_type": "stream",
     "text": [
      "[Succeeded / Failed / Skipped / Total] 0 / 42 / 0 / 42:  21%|██        | 42/204 [04:29<17:19,  6.42s/it]"
     ]
    },
    {
     "name": "stdout",
     "output_type": "stream",
     "text": [
      "--------------------------------------------- Result 42 ---------------------------------------------\n",
      "[[Support (100%)]] --> [[[FAILED]]]\n",
      "\n",
      "Forkhead 0 (fox0) transcription factors are involved in cellular differentiation.\n",
      "\n",
      "\n"
     ]
    },
    {
     "name": "stderr",
     "output_type": "stream",
     "text": [
      "[Succeeded / Failed / Skipped / Total] 0 / 43 / 0 / 43:  21%|██        | 43/204 [04:36<17:14,  6.43s/it]"
     ]
    },
    {
     "name": "stdout",
     "output_type": "stream",
     "text": [
      "--------------------------------------------- Result 43 ---------------------------------------------\n",
      "[[Support (100%)]] --> [[[FAILED]]]\n",
      "\n",
      "FoxO3a activation in neuronal death is inhibited by reactive oxygen species (ROS).\n",
      "\n",
      "\n"
     ]
    },
    {
     "name": "stderr",
     "output_type": "stream",
     "text": [
      "[Succeeded / Failed / Skipped / Total] 0 / 44 / 0 / 44:  22%|██▏       | 44/204 [04:39<16:58,  6.36s/it]"
     ]
    },
    {
     "name": "stdout",
     "output_type": "stream",
     "text": [
      "--------------------------------------------- Result 44 ---------------------------------------------\n",
      "[[Support (100%)]] --> [[[FAILED]]]\n",
      "\n",
      "Gastric infection with Helicobacter pylori increases risk of gastric cancer in humans.\n",
      "\n",
      "\n"
     ]
    },
    {
     "name": "stderr",
     "output_type": "stream",
     "text": [
      "[Succeeded / Failed / Skipped / Total] 0 / 45 / 0 / 45:  22%|██▏       | 45/204 [04:46<16:53,  6.37s/it]"
     ]
    },
    {
     "name": "stdout",
     "output_type": "stream",
     "text": [
      "--------------------------------------------- Result 45 ---------------------------------------------\n",
      "[[Support (100%)]] --> [[[FAILED]]]\n",
      "\n",
      "Genes involved in pre-mRNA splicing have a significant impact on genome stability.\n",
      "\n",
      "\n"
     ]
    },
    {
     "name": "stderr",
     "output_type": "stream",
     "text": [
      "[Succeeded / Failed / Skipped / Total] 0 / 46 / 0 / 46:  23%|██▎       | 46/204 [04:51<16:41,  6.34s/it]"
     ]
    },
    {
     "name": "stdout",
     "output_type": "stream",
     "text": [
      "--------------------------------------------- Result 46 ---------------------------------------------\n",
      "[[Support (100%)]] --> [[[FAILED]]]\n",
      "\n",
      "Genetic deficiency of mast cells leads to decreased weight gain in a mouse model of diet-induced obesity.\n",
      "\n",
      "\n"
     ]
    },
    {
     "name": "stderr",
     "output_type": "stream",
     "text": [
      "[Succeeded / Failed / Skipped / Total] 0 / 47 / 0 / 47:  23%|██▎       | 47/204 [04:57<16:34,  6.33s/it]"
     ]
    },
    {
     "name": "stdout",
     "output_type": "stream",
     "text": [
      "--------------------------------------------- Result 47 ---------------------------------------------\n",
      "[[Support (100%)]] --> [[[FAILED]]]\n",
      "\n",
      "Genomic aberrations of metastases provide information for targeted therapy.\n",
      "\n",
      "\n"
     ]
    },
    {
     "name": "stderr",
     "output_type": "stream",
     "text": [
      "[Succeeded / Failed / Skipped / Total] 0 / 48 / 0 / 48:  24%|██▎       | 48/204 [05:03<16:25,  6.32s/it]"
     ]
    },
    {
     "name": "stdout",
     "output_type": "stream",
     "text": [
      "--------------------------------------------- Result 48 ---------------------------------------------\n",
      "[[Support (100%)]] --> [[[FAILED]]]\n",
      "\n",
      "Glioblastoma multiforme (GBM) is characterized by extensive invasion, rapid growth, necrosis, and angiogenesis.\n",
      "\n",
      "\n"
     ]
    },
    {
     "name": "stderr",
     "output_type": "stream",
     "text": [
      "[Succeeded / Failed / Skipped / Total] 0 / 49 / 0 / 49:  24%|██▍       | 49/204 [05:09<16:19,  6.32s/it]"
     ]
    },
    {
     "name": "stdout",
     "output_type": "stream",
     "text": [
      "--------------------------------------------- Result 49 ---------------------------------------------\n",
      "[[Support (100%)]] --> [[[FAILED]]]\n",
      "\n",
      "Gpr124 suppresses BBB breakdown in mouse models of ischemic stroke.\n",
      "\n",
      "\n"
     ]
    },
    {
     "name": "stderr",
     "output_type": "stream",
     "text": [
      "[Succeeded / Failed / Skipped / Total] 0 / 50 / 0 / 50:  25%|██▍       | 50/204 [05:13<16:06,  6.28s/it]"
     ]
    },
    {
     "name": "stdout",
     "output_type": "stream",
     "text": [
      "--------------------------------------------- Result 50 ---------------------------------------------\n",
      "[[Support (100%)]] --> [[[FAILED]]]\n",
      "\n",
      "Having a main partner improves HIV outcomes.\n",
      "\n",
      "\n"
     ]
    },
    {
     "name": "stderr",
     "output_type": "stream",
     "text": [
      "[Succeeded / Failed / Skipped / Total] 0 / 51 / 0 / 51:  25%|██▌       | 51/204 [05:18<15:56,  6.25s/it]"
     ]
    },
    {
     "name": "stdout",
     "output_type": "stream",
     "text": [
      "--------------------------------------------- Result 51 ---------------------------------------------\n",
      "[[Support (100%)]] --> [[[FAILED]]]\n",
      "\n",
      "Having a main partner worsens HIV outcomes.\n",
      "\n",
      "\n"
     ]
    },
    {
     "name": "stderr",
     "output_type": "stream",
     "text": [
      "[Succeeded / Failed / Skipped / Total] 0 / 52 / 0 / 52:  25%|██▌       | 52/204 [05:22<15:43,  6.21s/it]"
     ]
    },
    {
     "name": "stdout",
     "output_type": "stream",
     "text": [
      "--------------------------------------------- Result 52 ---------------------------------------------\n",
      "[[Support (100%)]] --> [[[FAILED]]]\n",
      "\n",
      "Headaches are correlated with cognitive impairment.\n",
      "\n",
      "\n"
     ]
    },
    {
     "name": "stderr",
     "output_type": "stream",
     "text": [
      "[Succeeded / Failed / Skipped / Total] 0 / 53 / 0 / 53:  26%|██▌       | 53/204 [05:48<16:33,  6.58s/it]"
     ]
    },
    {
     "name": "stdout",
     "output_type": "stream",
     "text": [
      "--------------------------------------------- Result 53 ---------------------------------------------\n",
      "[[Support (100%)]] --> [[[FAILED]]]\n",
      "\n",
      "Helminths interfere with immune system control of coinfections by microbial pathogens 16.\n",
      "\n",
      "\n"
     ]
    },
    {
     "name": "stderr",
     "output_type": "stream",
     "text": [
      "[Succeeded / Failed / Skipped / Total] 0 / 54 / 0 / 54:  26%|██▋       | 54/204 [05:52<16:19,  6.53s/it]"
     ]
    },
    {
     "name": "stdout",
     "output_type": "stream",
     "text": [
      "--------------------------------------------- Result 54 ---------------------------------------------\n",
      "[[Support (100%)]] --> [[[FAILED]]]\n",
      "\n",
      "High levels of CRP lead to a higher risk of exacerbations in chronic obstructive pulmonary disease (COPD).\n",
      "\n",
      "\n"
     ]
    },
    {
     "name": "stderr",
     "output_type": "stream",
     "text": [
      "[Succeeded / Failed / Skipped / Total] 0 / 55 / 0 / 55:  27%|██▋       | 55/204 [05:58<16:10,  6.52s/it]"
     ]
    },
    {
     "name": "stdout",
     "output_type": "stream",
     "text": [
      "--------------------------------------------- Result 55 ---------------------------------------------\n",
      "[[Support (100%)]] --> [[[FAILED]]]\n",
      "\n",
      "Higher plasma levels of I-carnitine, when associated with trimethylamine N-oxide, are negatively correlated with cardiovascular events in humans.\n",
      "\n",
      "\n"
     ]
    },
    {
     "name": "stderr",
     "output_type": "stream",
     "text": [
      "[Succeeded / Failed / Skipped / Total] 0 / 56 / 0 / 56:  27%|██▋       | 56/204 [06:03<16:01,  6.50s/it]"
     ]
    },
    {
     "name": "stdout",
     "output_type": "stream",
     "text": [
      "--------------------------------------------- Result 56 ---------------------------------------------\n",
      "[[Support (100%)]] --> [[[FAILED]]]\n",
      "\n",
      "Higher plasma levels of I-carnitine, when associated with trimethylamine N-oxide, are positively correlated with cardiovascular events in humans.\n",
      "\n",
      "\n"
     ]
    },
    {
     "name": "stderr",
     "output_type": "stream",
     "text": [
      "[Succeeded / Failed / Skipped / Total] 0 / 57 / 0 / 57:  28%|██▊       | 57/204 [06:14<16:05,  6.57s/it]"
     ]
    },
    {
     "name": "stdout",
     "output_type": "stream",
     "text": [
      "--------------------------------------------- Result 57 ---------------------------------------------\n",
      "[[Support (100%)]] --> [[[FAILED]]]\n",
      "\n",
      "Human embryonic stem cells give rise to cell types from all three embryonic germ layers.\n",
      "\n",
      "\n"
     ]
    },
    {
     "name": "stderr",
     "output_type": "stream",
     "text": [
      "[Succeeded / Failed / Skipped / Total] 0 / 58 / 0 / 58:  28%|██▊       | 58/204 [06:23<16:05,  6.62s/it]"
     ]
    },
    {
     "name": "stdout",
     "output_type": "stream",
     "text": [
      "--------------------------------------------- Result 58 ---------------------------------------------\n",
      "[[Support (100%)]] --> [[[FAILED]]]\n",
      "\n",
      "Human embryonic stem cells have the capacity to give rise to differentiated progeny representative of all three embryonic germ layers.\n",
      "\n",
      "\n"
     ]
    },
    {
     "name": "stderr",
     "output_type": "stream",
     "text": [
      "[Succeeded / Failed / Skipped / Total] 0 / 59 / 0 / 59:  29%|██▉       | 59/204 [06:27<15:53,  6.58s/it]"
     ]
    },
    {
     "name": "stdout",
     "output_type": "stream",
     "text": [
      "--------------------------------------------- Result 59 ---------------------------------------------\n",
      "[[Support (100%)]] --> [[[FAILED]]]\n",
      "\n",
      "IFI16 impedes STING phosphorylation and translocation, resulting in reduced activation of STING.\n",
      "\n",
      "\n"
     ]
    },
    {
     "name": "stderr",
     "output_type": "stream",
     "text": [
      "[Succeeded / Failed / Skipped / Total] 0 / 60 / 0 / 60:  29%|██▉       | 60/204 [06:33<15:44,  6.56s/it]"
     ]
    },
    {
     "name": "stdout",
     "output_type": "stream",
     "text": [
      "--------------------------------------------- Result 60 ---------------------------------------------\n",
      "[[Support (100%)]] --> [[[FAILED]]]\n",
      "\n",
      "IL-10 production by monocytes inhibits CD4 + T cell response.\n",
      "\n",
      "\n"
     ]
    },
    {
     "name": "stderr",
     "output_type": "stream",
     "text": [
      "[Succeeded / Failed / Skipped / Total] 0 / 61 / 0 / 61:  30%|██▉       | 61/204 [06:41<15:40,  6.58s/it]"
     ]
    },
    {
     "name": "stdout",
     "output_type": "stream",
     "text": [
      "--------------------------------------------- Result 61 ---------------------------------------------\n",
      "[[Support (100%)]] --> [[[FAILED]]]\n",
      "\n",
      "IL-6 signaling plays a major role in atherosclerotic cardiovascular disease.\n",
      "\n",
      "\n"
     ]
    },
    {
     "name": "stderr",
     "output_type": "stream",
     "text": [
      "[Succeeded / Failed / Skipped / Total] 0 / 62 / 0 / 62:  30%|███       | 62/204 [06:47<15:34,  6.58s/it]"
     ]
    },
    {
     "name": "stdout",
     "output_type": "stream",
     "text": [
      "--------------------------------------------- Result 62 ---------------------------------------------\n",
      "[[Support (100%)]] --> [[[FAILED]]]\n",
      "\n",
      "Immune responses in immune cells are geographically segregated.\n",
      "\n",
      "\n"
     ]
    },
    {
     "name": "stderr",
     "output_type": "stream",
     "text": [
      "[Succeeded / Failed / Skipped / Total] 0 / 63 / 0 / 63:  31%|███       | 63/204 [06:54<15:26,  6.57s/it]"
     ]
    },
    {
     "name": "stdout",
     "output_type": "stream",
     "text": [
      "--------------------------------------------- Result 63 ---------------------------------------------\n",
      "[[Support (100%)]] --> [[[FAILED]]]\n",
      "\n",
      "In S. cerevisiae, the absence of RNA surveillance pathways causes sensitivity to high iron conditions.\n",
      "\n",
      "\n"
     ]
    },
    {
     "name": "stderr",
     "output_type": "stream",
     "text": [
      "[Succeeded / Failed / Skipped / Total] 0 / 64 / 0 / 64:  31%|███▏      | 64/204 [07:00<15:20,  6.57s/it]"
     ]
    },
    {
     "name": "stdout",
     "output_type": "stream",
     "text": [
      "--------------------------------------------- Result 64 ---------------------------------------------\n",
      "[[Support (100%)]] --> [[[FAILED]]]\n",
      "\n",
      "In patients with congenital heart defects, β-blockers significantly improve clinical heart failure outcomes.\n",
      "\n",
      "\n"
     ]
    },
    {
     "name": "stderr",
     "output_type": "stream",
     "text": [
      "[Succeeded / Failed / Skipped / Total] 0 / 65 / 0 / 65:  32%|███▏      | 65/204 [07:06<15:11,  6.56s/it]"
     ]
    },
    {
     "name": "stdout",
     "output_type": "stream",
     "text": [
      "--------------------------------------------- Result 65 ---------------------------------------------\n",
      "[[Support (100%)]] --> [[[FAILED]]]\n",
      "\n",
      "In rhesus macaques, daily subcutaneous injections of tenofovir protects against rectally transmitted simian-human immunodeficiency virus.\n",
      "\n",
      "\n"
     ]
    },
    {
     "name": "stderr",
     "output_type": "stream",
     "text": [
      "[Succeeded / Failed / Skipped / Total] 1 / 65 / 0 / 66:  32%|███▏      | 66/204 [07:27<15:36,  6.78s/it]"
     ]
    },
    {
     "name": "stdout",
     "output_type": "stream",
     "text": [
      "--------------------------------------------- Result 66 ---------------------------------------------\n",
      "[[Support (100%)]] --> [[Refute (100%)]]\n",
      "\n",
      "Incidence of sepsis has fallen substantially from 2009 to [[2014]].\n",
      "\n",
      "Incidence of sepsis has fallen substantially from 2009 to [[299]].\n",
      "\n",
      "\n"
     ]
    },
    {
     "name": "stderr",
     "output_type": "stream",
     "text": [
      "[Succeeded / Failed / Skipped / Total] 1 / 66 / 0 / 67:  33%|███▎      | 67/204 [07:33<15:26,  6.76s/it]"
     ]
    },
    {
     "name": "stdout",
     "output_type": "stream",
     "text": [
      "--------------------------------------------- Result 67 ---------------------------------------------\n",
      "[[Support (100%)]] --> [[[FAILED]]]\n",
      "\n",
      "Induced hepatic stem cells possess the potential to differentiate into cholangiocytic cells.\n",
      "\n",
      "\n"
     ]
    },
    {
     "name": "stderr",
     "output_type": "stream",
     "text": [
      "[Succeeded / Failed / Skipped / Total] 1 / 67 / 0 / 68:  33%|███▎      | 68/204 [07:35<15:10,  6.70s/it]"
     ]
    },
    {
     "name": "stdout",
     "output_type": "stream",
     "text": [
      "--------------------------------------------- Result 68 ---------------------------------------------\n",
      "[[Support (100%)]] --> [[[FAILED]]]\n",
      "\n",
      "Induced hepatic stem cells possess the potential to differentiate into hepatocytic cells.\n",
      "\n",
      "\n"
     ]
    },
    {
     "name": "stderr",
     "output_type": "stream",
     "text": [
      "[Succeeded / Failed / Skipped / Total] 1 / 68 / 0 / 69:  34%|███▍      | 69/204 [07:41<15:02,  6.69s/it]"
     ]
    },
    {
     "name": "stdout",
     "output_type": "stream",
     "text": [
      "--------------------------------------------- Result 69 ---------------------------------------------\n",
      "[[Support (100%)]] --> [[[FAILED]]]\n",
      "\n",
      "Inhibiting HDAC6 increases survival of mice with ARID1A mutated tumors.\n",
      "\n",
      "\n"
     ]
    },
    {
     "name": "stderr",
     "output_type": "stream",
     "text": [
      "[Succeeded / Failed / Skipped / Total] 1 / 69 / 0 / 70:  34%|███▍      | 70/204 [07:46<14:53,  6.67s/it]"
     ]
    },
    {
     "name": "stdout",
     "output_type": "stream",
     "text": [
      "--------------------------------------------- Result 70 ---------------------------------------------\n",
      "[[Support (100%)]] --> [[[FAILED]]]\n",
      "\n",
      "Inside the body, falciparum parasites reproduce asexually.\n",
      "\n",
      "\n"
     ]
    },
    {
     "name": "stderr",
     "output_type": "stream",
     "text": [
      "[Succeeded / Failed / Skipped / Total] 1 / 70 / 0 / 71:  35%|███▍      | 71/204 [07:50<14:40,  6.62s/it]"
     ]
    },
    {
     "name": "stdout",
     "output_type": "stream",
     "text": [
      "--------------------------------------------- Result 71 ---------------------------------------------\n",
      "[[Support (100%)]] --> [[[FAILED]]]\n",
      "\n",
      "Integrated care is successful at tackling multiple comorbidities.\n",
      "\n",
      "\n"
     ]
    },
    {
     "name": "stderr",
     "output_type": "stream",
     "text": [
      "[Succeeded / Failed / Skipped / Total] 1 / 71 / 0 / 72:  35%|███▌      | 72/204 [07:55<14:32,  6.61s/it]"
     ]
    },
    {
     "name": "stdout",
     "output_type": "stream",
     "text": [
      "--------------------------------------------- Result 72 ---------------------------------------------\n",
      "[[Support (100%)]] --> [[[FAILED]]]\n",
      "\n",
      "Interleukin-18 plays an important role in the pathogenesis of atherosclerosis.\n",
      "\n",
      "\n"
     ]
    },
    {
     "name": "stderr",
     "output_type": "stream",
     "text": [
      "[Succeeded / Failed / Skipped / Total] 1 / 72 / 0 / 73:  36%|███▌      | 73/204 [07:59<14:20,  6.57s/it]"
     ]
    },
    {
     "name": "stdout",
     "output_type": "stream",
     "text": [
      "--------------------------------------------- Result 73 ---------------------------------------------\n",
      "[[Support (100%)]] --> [[[FAILED]]]\n",
      "\n",
      "Klf2 is important for proper myeloid cell function.\n",
      "\n",
      "\n"
     ]
    },
    {
     "name": "stderr",
     "output_type": "stream",
     "text": [
      "[Succeeded / Failed / Skipped / Total] 1 / 73 / 0 / 74:  36%|███▋      | 74/204 [08:05<14:12,  6.56s/it]"
     ]
    },
    {
     "name": "stdout",
     "output_type": "stream",
     "text": [
      "--------------------------------------------- Result 74 ---------------------------------------------\n",
      "[[Support (100%)]] --> [[[FAILED]]]\n",
      "\n",
      "Klf4 is important for proper myeloid cell differentiation.\n",
      "\n",
      "\n"
     ]
    },
    {
     "name": "stderr",
     "output_type": "stream",
     "text": [
      "[Succeeded / Failed / Skipped / Total] 1 / 74 / 0 / 75:  37%|███▋      | 75/204 [08:09<14:02,  6.53s/it]"
     ]
    },
    {
     "name": "stdout",
     "output_type": "stream",
     "text": [
      "--------------------------------------------- Result 75 ---------------------------------------------\n",
      "[[Support (100%)]] --> [[[FAILED]]]\n",
      "\n",
      "LDL cholesterol has a causal role in the development of cardiovascular disease.\n",
      "\n",
      "\n"
     ]
    },
    {
     "name": "stderr",
     "output_type": "stream",
     "text": [
      "[Succeeded / Failed / Skipped / Total] 1 / 75 / 0 / 76:  37%|███▋      | 76/204 [08:17<13:57,  6.55s/it]"
     ]
    },
    {
     "name": "stdout",
     "output_type": "stream",
     "text": [
      "--------------------------------------------- Result 76 ---------------------------------------------\n",
      "[[Support (100%)]] --> [[[FAILED]]]\n",
      "\n",
      "Lice attenuated SIV vaccines induce a stronger antigen-specific T cell response in lymph node cells.\n",
      "\n",
      "\n"
     ]
    },
    {
     "name": "stderr",
     "output_type": "stream",
     "text": [
      "[Succeeded / Failed / Skipped / Total] 1 / 76 / 0 / 77:  38%|███▊      | 77/204 [08:25<13:53,  6.56s/it]"
     ]
    },
    {
     "name": "stdout",
     "output_type": "stream",
     "text": [
      "--------------------------------------------- Result 77 ---------------------------------------------\n",
      "[[Support (100%)]] --> [[[FAILED]]]\n",
      "\n",
      "MEK inhibitors are effective treatments in RAS-driven mouse models of cancer.\n",
      "\n",
      "\n"
     ]
    },
    {
     "name": "stderr",
     "output_type": "stream",
     "text": [
      "[Succeeded / Failed / Skipped / Total] 1 / 77 / 0 / 78:  38%|███▊      | 78/204 [08:32<13:48,  6.57s/it]"
     ]
    },
    {
     "name": "stdout",
     "output_type": "stream",
     "text": [
      "--------------------------------------------- Result 78 ---------------------------------------------\n",
      "[[Support (100%)]] --> [[[FAILED]]]\n",
      "\n",
      "MICAL redox enzymes regulate actin dynamics in many cell types.\n",
      "\n",
      "\n"
     ]
    },
    {
     "name": "stderr",
     "output_type": "stream",
     "text": [
      "[Succeeded / Failed / Skipped / Total] 1 / 78 / 0 / 79:  39%|███▊      | 79/204 [08:38<13:40,  6.57s/it]"
     ]
    },
    {
     "name": "stdout",
     "output_type": "stream",
     "text": [
      "--------------------------------------------- Result 79 ---------------------------------------------\n",
      "[[Support (100%)]] --> [[[FAILED]]]\n",
      "\n",
      "MICAL redox enzymes regulate actin dynamics.\n",
      "\n",
      "\n"
     ]
    },
    {
     "name": "stderr",
     "output_type": "stream",
     "text": [
      "[Succeeded / Failed / Skipped / Total] 1 / 79 / 0 / 80:  39%|███▉      | 80/204 [08:45<13:35,  6.57s/it]"
     ]
    },
    {
     "name": "stdout",
     "output_type": "stream",
     "text": [
      "--------------------------------------------- Result 80 ---------------------------------------------\n",
      "[[Support (100%)]] --> [[[FAILED]]]\n",
      "\n",
      "Medications to treat obesity are highly effective.\n",
      "\n",
      "\n"
     ]
    },
    {
     "name": "stderr",
     "output_type": "stream",
     "text": [
      "[Succeeded / Failed / Skipped / Total] 1 / 80 / 0 / 81:  40%|███▉      | 81/204 [08:49<13:24,  6.54s/it]"
     ]
    },
    {
     "name": "stdout",
     "output_type": "stream",
     "text": [
      "--------------------------------------------- Result 81 ---------------------------------------------\n",
      "[[Support (100%)]] --> [[[FAILED]]]\n",
      "\n",
      "Medications to treat obesity have unwanted side effects.\n",
      "\n",
      "\n"
     ]
    },
    {
     "name": "stderr",
     "output_type": "stream",
     "text": [
      "[Succeeded / Failed / Skipped / Total] 1 / 81 / 0 / 82:  40%|████      | 82/204 [08:55<13:17,  6.54s/it]"
     ]
    },
    {
     "name": "stdout",
     "output_type": "stream",
     "text": [
      "--------------------------------------------- Result 82 ---------------------------------------------\n",
      "[[Support (100%)]] --> [[[FAILED]]]\n",
      "\n",
      "Men are more susceptible to death due to pneumonia when compared to women.\n",
      "\n",
      "\n"
     ]
    },
    {
     "name": "stderr",
     "output_type": "stream",
     "text": [
      "[Succeeded / Failed / Skipped / Total] 1 / 82 / 0 / 83:  41%|████      | 83/204 [09:01<13:08,  6.52s/it]"
     ]
    },
    {
     "name": "stdout",
     "output_type": "stream",
     "text": [
      "--------------------------------------------- Result 83 ---------------------------------------------\n",
      "[[Support (100%)]] --> [[[FAILED]]]\n",
      "\n",
      "Metastatic colorectal cancer treated with a single agent fluoropyrimidines resulted in similar efficacy and better quality of life when compared with oxaliplatin-based chemotherapy in elderly patients.\n",
      "\n",
      "\n"
     ]
    },
    {
     "name": "stderr",
     "output_type": "stream",
     "text": [
      "[Succeeded / Failed / Skipped / Total] 1 / 83 / 0 / 84:  41%|████      | 84/204 [09:05<12:58,  6.49s/it]"
     ]
    },
    {
     "name": "stdout",
     "output_type": "stream",
     "text": [
      "--------------------------------------------- Result 84 ---------------------------------------------\n",
      "[[Support (100%)]] --> [[[FAILED]]]\n",
      "\n",
      "Mice lacking Sirt1 in Sf1-expressing neurons have increased susceptibility to diet-induced obesity and insulin resistance.\n",
      "\n",
      "\n"
     ]
    },
    {
     "name": "stderr",
     "output_type": "stream",
     "text": [
      "[Succeeded / Failed / Skipped / Total] 1 / 84 / 0 / 85:  42%|████▏     | 85/204 [09:12<12:53,  6.50s/it]"
     ]
    },
    {
     "name": "stdout",
     "output_type": "stream",
     "text": [
      "--------------------------------------------- Result 85 ---------------------------------------------\n",
      "[[Support (100%)]] --> [[[FAILED]]]\n",
      "\n",
      "Mice that lack Interferon-γ or its receptor are highly susceptible to experimental autoimmune myocarditis.\n",
      "\n",
      "\n"
     ]
    },
    {
     "name": "stderr",
     "output_type": "stream",
     "text": [
      "[Succeeded / Failed / Skipped / Total] 1 / 85 / 0 / 86:  42%|████▏     | 86/204 [09:16<12:43,  6.47s/it]"
     ]
    },
    {
     "name": "stdout",
     "output_type": "stream",
     "text": [
      "--------------------------------------------- Result 86 ---------------------------------------------\n",
      "[[Support (100%)]] --> [[[FAILED]]]\n",
      "\n",
      "Microglia are an innate immune cell type of the central nervous system.\n",
      "\n",
      "\n"
     ]
    },
    {
     "name": "stderr",
     "output_type": "stream",
     "text": [
      "[Succeeded / Failed / Skipped / Total] 1 / 86 / 0 / 87:  43%|████▎     | 87/204 [09:23<12:37,  6.47s/it]"
     ]
    },
    {
     "name": "stdout",
     "output_type": "stream",
     "text": [
      "--------------------------------------------- Result 87 ---------------------------------------------\n",
      "[[Support (100%)]] --> [[[FAILED]]]\n",
      "\n",
      "Microglia are an innate immune cell type of the peripheral nervous system.\n",
      "\n",
      "\n"
     ]
    },
    {
     "name": "stderr",
     "output_type": "stream",
     "text": [
      "[Succeeded / Failed / Skipped / Total] 1 / 87 / 0 / 88:  43%|████▎     | 88/204 [09:28<12:29,  6.46s/it]"
     ]
    },
    {
     "name": "stdout",
     "output_type": "stream",
     "text": [
      "--------------------------------------------- Result 88 ---------------------------------------------\n",
      "[[Support (100%)]] --> [[[FAILED]]]\n",
      "\n",
      "Migraine with aura is associated with ischemic stroke.\n",
      "\n",
      "\n"
     ]
    },
    {
     "name": "stderr",
     "output_type": "stream",
     "text": [
      "[Succeeded / Failed / Skipped / Total] 1 / 88 / 0 / 89:  44%|████▎     | 89/204 [09:34<12:22,  6.46s/it]"
     ]
    },
    {
     "name": "stdout",
     "output_type": "stream",
     "text": [
      "--------------------------------------------- Result 89 ---------------------------------------------\n",
      "[[Support (100%)]] --> [[[FAILED]]]\n",
      "\n",
      "Misunderstandings between doctors and patients can lead to non-adherence.\n",
      "\n",
      "\n"
     ]
    },
    {
     "name": "stderr",
     "output_type": "stream",
     "text": [
      "[Succeeded / Failed / Skipped / Total] 1 / 89 / 0 / 90:  44%|████▍     | 90/204 [09:38<12:13,  6.43s/it]"
     ]
    },
    {
     "name": "stdout",
     "output_type": "stream",
     "text": [
      "--------------------------------------------- Result 90 ---------------------------------------------\n",
      "[[Support (100%)]] --> [[[FAILED]]]\n",
      "\n",
      "Mitochondria play a major role in apoptosis.\n",
      "\n",
      "\n"
     ]
    },
    {
     "name": "stderr",
     "output_type": "stream",
     "text": [
      "[Succeeded / Failed / Skipped / Total] 1 / 90 / 0 / 91:  45%|████▍     | 91/204 [09:44<12:05,  6.42s/it]"
     ]
    },
    {
     "name": "stdout",
     "output_type": "stream",
     "text": [
      "--------------------------------------------- Result 91 ---------------------------------------------\n",
      "[[Support (100%)]] --> [[[FAILED]]]\n",
      "\n",
      "Mitochondria play a major role in energy production.\n",
      "\n",
      "\n"
     ]
    },
    {
     "name": "stderr",
     "output_type": "stream",
     "text": [
      "[Succeeded / Failed / Skipped / Total] 1 / 91 / 0 / 92:  45%|████▌     | 92/204 [09:48<11:56,  6.40s/it]"
     ]
    },
    {
     "name": "stdout",
     "output_type": "stream",
     "text": [
      "--------------------------------------------- Result 92 ---------------------------------------------\n",
      "[[Support (100%)]] --> [[[FAILED]]]\n",
      "\n",
      "Monoclonal antibody targeting of N-cadherin inhibits growth.\n",
      "\n",
      "\n"
     ]
    },
    {
     "name": "stderr",
     "output_type": "stream",
     "text": [
      "[Succeeded / Failed / Skipped / Total] 1 / 92 / 0 / 93:  46%|████▌     | 93/204 [09:53<11:48,  6.38s/it]"
     ]
    },
    {
     "name": "stdout",
     "output_type": "stream",
     "text": [
      "--------------------------------------------- Result 93 ---------------------------------------------\n",
      "[[Support (100%)]] --> [[[FAILED]]]\n",
      "\n",
      "Myelin sheaths play a role in action potential propagation.\n",
      "\n",
      "\n"
     ]
    },
    {
     "name": "stderr",
     "output_type": "stream",
     "text": [
      "[Succeeded / Failed / Skipped / Total] 1 / 93 / 0 / 94:  46%|████▌     | 94/204 [09:59<11:41,  6.38s/it]"
     ]
    },
    {
     "name": "stdout",
     "output_type": "stream",
     "text": [
      "--------------------------------------------- Result 94 ---------------------------------------------\n",
      "[[Support (100%)]] --> [[[FAILED]]]\n",
      "\n",
      "Natriuretic peptides protect against diabetes.\n",
      "\n",
      "\n"
     ]
    },
    {
     "name": "stderr",
     "output_type": "stream",
     "text": [
      "[Succeeded / Failed / Skipped / Total] 1 / 94 / 0 / 95:  47%|████▋     | 95/204 [10:06<11:36,  6.39s/it]"
     ]
    },
    {
     "name": "stdout",
     "output_type": "stream",
     "text": [
      "--------------------------------------------- Result 95 ---------------------------------------------\n",
      "[[Support (100%)]] --> [[[FAILED]]]\n",
      "\n",
      "Neutrophils produce IL-1β in response to large particles.\n",
      "\n",
      "\n"
     ]
    },
    {
     "name": "stderr",
     "output_type": "stream",
     "text": [
      "[Succeeded / Failed / Skipped / Total] 1 / 95 / 0 / 96:  47%|████▋     | 96/204 [10:10<11:26,  6.36s/it]"
     ]
    },
    {
     "name": "stdout",
     "output_type": "stream",
     "text": [
      "--------------------------------------------- Result 96 ---------------------------------------------\n",
      "[[Support (100%)]] --> [[[FAILED]]]\n",
      "\n",
      "Nonsteroidal antinflammatory drugs show potential anticancer indications.\n",
      "\n",
      "\n"
     ]
    },
    {
     "name": "stderr",
     "output_type": "stream",
     "text": [
      "[Succeeded / Failed / Skipped / Total] 1 / 96 / 0 / 97:  48%|████▊     | 97/204 [10:17<11:20,  6.36s/it]"
     ]
    },
    {
     "name": "stdout",
     "output_type": "stream",
     "text": [
      "--------------------------------------------- Result 97 ---------------------------------------------\n",
      "[[Support (100%)]] --> [[[FAILED]]]\n",
      "\n",
      "PD-1 triggering on monocytes enhances IL-10 production by monocytes.\n",
      "\n",
      "\n"
     ]
    },
    {
     "name": "stderr",
     "output_type": "stream",
     "text": [
      "[Succeeded / Failed / Skipped / Total] 1 / 97 / 0 / 98:  48%|████▊     | 98/204 [10:37<11:29,  6.50s/it]"
     ]
    },
    {
     "name": "stdout",
     "output_type": "stream",
     "text": [
      "--------------------------------------------- Result 98 ---------------------------------------------\n",
      "[[Support (100%)]] --> [[[FAILED]]]\n",
      "\n",
      "PKG-la does not have a large impact on expression of pain hypersensitivity in PGK-la knockout mice.\n",
      "\n",
      "\n"
     ]
    },
    {
     "name": "stderr",
     "output_type": "stream",
     "text": [
      "[Succeeded / Failed / Skipped / Total] 1 / 98 / 0 / 99:  49%|████▊     | 99/204 [10:56<11:35,  6.63s/it]"
     ]
    },
    {
     "name": "stdout",
     "output_type": "stream",
     "text": [
      "--------------------------------------------- Result 99 ---------------------------------------------\n",
      "[[Support (100%)]] --> [[[FAILED]]]\n",
      "\n",
      "PKG-la does not have a large impact on expression of spinal long term potentiation in PGK-la knockout mice.\n",
      "\n",
      "\n"
     ]
    },
    {
     "name": "stderr",
     "output_type": "stream",
     "text": [
      "[Succeeded / Failed / Skipped / Total] 1 / 99 / 0 / 100:  49%|████▉     | 100/204 [11:00<11:27,  6.61s/it]"
     ]
    },
    {
     "name": "stdout",
     "output_type": "stream",
     "text": [
      "--------------------------------------------- Result 100 ---------------------------------------------\n",
      "[[Support (100%)]] --> [[[FAILED]]]\n",
      "\n",
      "PTEN is a regulator for the transcriptional activity of SRF\n",
      "\n",
      "\n"
     ]
    },
    {
     "name": "stderr",
     "output_type": "stream",
     "text": [
      "[Succeeded / Failed / Skipped / Total] 2 / 99 / 0 / 101:  50%|████▉     | 101/204 [11:21<11:34,  6.74s/it]"
     ]
    },
    {
     "name": "stdout",
     "output_type": "stream",
     "text": [
      "--------------------------------------------- Result 101 ---------------------------------------------\n",
      "[[Support (100%)]] --> [[Refute (100%)]]\n",
      "\n",
      "Participants who quit smoking reduce lung cancer risk by approximately [[50]]%.\n",
      "\n",
      "Participants who quit smoking reduce lung cancer risk by approximately [[18]]%.\n",
      "\n",
      "\n"
     ]
    },
    {
     "name": "stderr",
     "output_type": "stream",
     "text": [
      "[Succeeded / Failed / Skipped / Total] 2 / 100 / 0 / 102:  50%|█████     | 102/204 [11:28<11:28,  6.75s/it]"
     ]
    },
    {
     "name": "stdout",
     "output_type": "stream",
     "text": [
      "--------------------------------------------- Result 102 ---------------------------------------------\n",
      "[[Support (100%)]] --> [[[FAILED]]]\n",
      "\n",
      "Patients with common epithelial cancers  are more likely to have an emergency event as their first hospital admission if they live in resource-deprived areas.\n",
      "\n",
      "\n"
     ]
    },
    {
     "name": "stderr",
     "output_type": "stream",
     "text": [
      "[Succeeded / Failed / Skipped / Total] 2 / 101 / 0 / 103:  50%|█████     | 103/204 [11:33<11:19,  6.73s/it]"
     ]
    },
    {
     "name": "stdout",
     "output_type": "stream",
     "text": [
      "--------------------------------------------- Result 103 ---------------------------------------------\n",
      "[[Support (100%)]] --> [[[FAILED]]]\n",
      "\n",
      "Phase information is useful for predicting donor-recipient matches in organ transplantation.\n",
      "\n",
      "\n"
     ]
    },
    {
     "name": "stderr",
     "output_type": "stream",
     "text": [
      "[Succeeded / Failed / Skipped / Total] 2 / 102 / 0 / 104:  51%|█████     | 104/204 [11:38<11:11,  6.72s/it]"
     ]
    },
    {
     "name": "stdout",
     "output_type": "stream",
     "text": [
      "--------------------------------------------- Result 104 ---------------------------------------------\n",
      "[[Support (100%)]] --> [[[FAILED]]]\n",
      "\n",
      "Pioglitazone use is significantly associated with an increased risk of prostate cancer.\n",
      "\n",
      "\n"
     ]
    },
    {
     "name": "stderr",
     "output_type": "stream",
     "text": [
      "[Succeeded / Failed / Skipped / Total] 2 / 103 / 0 / 105:  51%|█████▏    | 105/204 [11:43<11:03,  6.70s/it]"
     ]
    },
    {
     "name": "stdout",
     "output_type": "stream",
     "text": [
      "--------------------------------------------- Result 105 ---------------------------------------------\n",
      "[[Support (100%)]] --> [[[FAILED]]]\n",
      "\n",
      "Pioneer factor OCT3/4 interacts with major chromatin remodeling factors.\n",
      "\n",
      "\n"
     ]
    },
    {
     "name": "stderr",
     "output_type": "stream",
     "text": [
      "[Succeeded / Failed / Skipped / Total] 2 / 104 / 0 / 106:  52%|█████▏    | 106/204 [11:49<10:56,  6.69s/it]"
     ]
    },
    {
     "name": "stdout",
     "output_type": "stream",
     "text": [
      "--------------------------------------------- Result 106 ---------------------------------------------\n",
      "[[Support (100%)]] --> [[[FAILED]]]\n",
      "\n",
      "Prescribed exercise training improves quality of life.\n",
      "\n",
      "\n"
     ]
    },
    {
     "name": "stderr",
     "output_type": "stream",
     "text": [
      "[Succeeded / Failed / Skipped / Total] 2 / 105 / 0 / 107:  52%|█████▏    | 107/204 [11:54<10:48,  6.68s/it]"
     ]
    },
    {
     "name": "stdout",
     "output_type": "stream",
     "text": [
      "--------------------------------------------- Result 107 ---------------------------------------------\n",
      "[[Support (100%)]] --> [[[FAILED]]]\n",
      "\n",
      "Pro-inflammatory cytokines are up regulated during tumor development.\n",
      "\n",
      "\n"
     ]
    },
    {
     "name": "stderr",
     "output_type": "stream",
     "text": [
      "[Succeeded / Failed / Skipped / Total] 2 / 106 / 0 / 108:  53%|█████▎    | 108/204 [11:58<10:39,  6.66s/it]"
     ]
    },
    {
     "name": "stdout",
     "output_type": "stream",
     "text": [
      "--------------------------------------------- Result 108 ---------------------------------------------\n",
      "[[Support (100%)]] --> [[[FAILED]]]\n",
      "\n",
      "Propriospinal interneurons that play a role in the plastic reorganization of spinal circuits are integral for recovery from spinal cord injury.\n",
      "\n",
      "\n"
     ]
    },
    {
     "name": "stderr",
     "output_type": "stream",
     "text": [
      "[Succeeded / Failed / Skipped / Total] 2 / 107 / 0 / 109:  53%|█████▎    | 109/204 [12:03<10:30,  6.64s/it]"
     ]
    },
    {
     "name": "stdout",
     "output_type": "stream",
     "text": [
      "--------------------------------------------- Result 109 ---------------------------------------------\n",
      "[[Support (100%)]] --> [[[FAILED]]]\n",
      "\n",
      "Pyridostatin induces checkpoint activation.\n",
      "\n",
      "\n"
     ]
    },
    {
     "name": "stderr",
     "output_type": "stream",
     "text": [
      "[Succeeded / Failed / Skipped / Total] 2 / 108 / 0 / 110:  54%|█████▍    | 110/204 [12:08<10:22,  6.62s/it]"
     ]
    },
    {
     "name": "stdout",
     "output_type": "stream",
     "text": [
      "--------------------------------------------- Result 110 ---------------------------------------------\n",
      "[[Support (100%)]] --> [[[FAILED]]]\n",
      "\n",
      "Pyridostatin stabilizes the G - quadruplex in the telomeric region.\n",
      "\n",
      "\n"
     ]
    },
    {
     "name": "stderr",
     "output_type": "stream",
     "text": [
      "[Succeeded / Failed / Skipped / Total] 2 / 109 / 0 / 111:  54%|█████▍    | 111/204 [12:14<10:15,  6.62s/it]"
     ]
    },
    {
     "name": "stdout",
     "output_type": "stream",
     "text": [
      "--------------------------------------------- Result 111 ---------------------------------------------\n",
      "[[Support (100%)]] --> [[[FAILED]]]\n",
      "\n",
      "RANK-RANKL pathway signalling is linked to development of Aire-expressing medullary thymic epithelial cells.\n",
      "\n",
      "\n"
     ]
    },
    {
     "name": "stderr",
     "output_type": "stream",
     "text": [
      "[Succeeded / Failed / Skipped / Total] 2 / 110 / 0 / 112:  55%|█████▍    | 112/204 [12:18<10:06,  6.60s/it]"
     ]
    },
    {
     "name": "stdout",
     "output_type": "stream",
     "text": [
      "--------------------------------------------- Result 112 ---------------------------------------------\n",
      "[[Support (100%)]] --> [[[FAILED]]]\n",
      "\n",
      "Ribosomopathies have a high degree of cell and tissue specific pathology.\n",
      "\n",
      "\n"
     ]
    },
    {
     "name": "stderr",
     "output_type": "stream",
     "text": [
      "[Succeeded / Failed / Skipped / Total] 2 / 111 / 0 / 113:  55%|█████▌    | 113/204 [12:25<10:00,  6.60s/it]"
     ]
    },
    {
     "name": "stdout",
     "output_type": "stream",
     "text": [
      "--------------------------------------------- Result 113 ---------------------------------------------\n",
      "[[Support (100%)]] --> [[[FAILED]]]\n",
      "\n",
      "Risk of cardiovascular events can be cut by a third by using antihypertensive drug therapy among hemodialysis patients.\n",
      "\n",
      "\n"
     ]
    },
    {
     "name": "stderr",
     "output_type": "stream",
     "text": [
      "[Succeeded / Failed / Skipped / Total] 2 / 112 / 0 / 114:  56%|█████▌    | 114/204 [12:30<09:52,  6.58s/it]"
     ]
    },
    {
     "name": "stdout",
     "output_type": "stream",
     "text": [
      "--------------------------------------------- Result 114 ---------------------------------------------\n",
      "[[Support (100%)]] --> [[[FAILED]]]\n",
      "\n",
      "Satellite cell dysfunction is a key factor in sarcopenia development.\n",
      "\n",
      "\n"
     ]
    },
    {
     "name": "stderr",
     "output_type": "stream",
     "text": [
      "[Succeeded / Failed / Skipped / Total] 2 / 113 / 0 / 115:  56%|█████▋    | 115/204 [12:36<09:45,  6.58s/it]"
     ]
    },
    {
     "name": "stdout",
     "output_type": "stream",
     "text": [
      "--------------------------------------------- Result 115 ---------------------------------------------\n",
      "[[Support (100%)]] --> [[[FAILED]]]\n",
      "\n",
      "Scapular stabilizer exercises are more effective than general exercise therapy in reducing pain and improving function of the shoulder.\n",
      "\n",
      "\n"
     ]
    },
    {
     "name": "stderr",
     "output_type": "stream",
     "text": [
      "[Succeeded / Failed / Skipped / Total] 2 / 114 / 0 / 116:  57%|█████▋    | 116/204 [12:41<09:37,  6.56s/it]"
     ]
    },
    {
     "name": "stdout",
     "output_type": "stream",
     "text": [
      "--------------------------------------------- Result 116 ---------------------------------------------\n",
      "[[Support (100%)]] --> [[[FAILED]]]\n",
      "\n",
      "Students who perform poorly in the early years of medical school are at increased risk for professional misconduct later in their careers.\n",
      "\n",
      "\n"
     ]
    },
    {
     "name": "stderr",
     "output_type": "stream",
     "text": [
      "[Succeeded / Failed / Skipped / Total] 2 / 115 / 0 / 117:  57%|█████▋    | 117/204 [12:43<09:27,  6.52s/it]"
     ]
    },
    {
     "name": "stdout",
     "output_type": "stream",
     "text": [
      "--------------------------------------------- Result 117 ---------------------------------------------\n",
      "[[Support (100%)]] --> [[[FAILED]]]\n",
      "\n",
      "Suboptimal nutrition is a leading cause of premature death\n",
      "\n",
      "\n"
     ]
    },
    {
     "name": "stderr",
     "output_type": "stream",
     "text": [
      "[Succeeded / Failed / Skipped / Total] 2 / 116 / 0 / 118:  58%|█████▊    | 118/204 [12:53<09:23,  6.56s/it]"
     ]
    },
    {
     "name": "stdout",
     "output_type": "stream",
     "text": [
      "--------------------------------------------- Result 118 ---------------------------------------------\n",
      "[[Support (100%)]] --> [[[FAILED]]]\n",
      "\n",
      "Surgical treatment is not superior to non-surgical in treating adults with displaced fractures of the proximal humerus.\n",
      "\n",
      "\n"
     ]
    },
    {
     "name": "stderr",
     "output_type": "stream",
     "text": [
      "[Succeeded / Failed / Skipped / Total] 2 / 117 / 0 / 119:  58%|█████▊    | 119/204 [13:06<09:21,  6.61s/it]"
     ]
    },
    {
     "name": "stdout",
     "output_type": "stream",
     "text": [
      "--------------------------------------------- Result 119 ---------------------------------------------\n",
      "[[Support (100%)]] --> [[[FAILED]]]\n",
      "\n",
      "Systemic immunosuppressive (IS) therapy does not enhance the chance of cancer mortality in patients with inflammatory eye disease (IED)\n",
      "\n",
      "\n"
     ]
    },
    {
     "name": "stderr",
     "output_type": "stream",
     "text": [
      "[Succeeded / Failed / Skipped / Total] 2 / 118 / 0 / 120:  59%|█████▉    | 120/204 [13:11<09:13,  6.59s/it]"
     ]
    },
    {
     "name": "stdout",
     "output_type": "stream",
     "text": [
      "--------------------------------------------- Result 120 ---------------------------------------------\n",
      "[[Support (100%)]] --> [[[FAILED]]]\n",
      "\n",
      "Systemic lupus erythematosus is a risk factor for cardiovascular disease.\n",
      "\n",
      "\n"
     ]
    },
    {
     "name": "stderr",
     "output_type": "stream",
     "text": [
      "[Succeeded / Failed / Skipped / Total] 2 / 119 / 0 / 121:  59%|█████▉    | 121/204 [13:16<09:06,  6.58s/it]"
     ]
    },
    {
     "name": "stdout",
     "output_type": "stream",
     "text": [
      "--------------------------------------------- Result 121 ---------------------------------------------\n",
      "[[Support (100%)]] --> [[[FAILED]]]\n",
      "\n",
      "TNFAIP3 is a glioblastoma tumor suppressor.\n",
      "\n",
      "\n"
     ]
    },
    {
     "name": "stderr",
     "output_type": "stream",
     "text": [
      "[Succeeded / Failed / Skipped / Total] 2 / 120 / 0 / 122:  60%|█████▉    | 122/204 [13:20<08:58,  6.56s/it]"
     ]
    },
    {
     "name": "stdout",
     "output_type": "stream",
     "text": [
      "--------------------------------------------- Result 122 ---------------------------------------------\n",
      "[[Support (100%)]] --> [[[FAILED]]]\n",
      "\n",
      "TRAP+ osteoclasts regulate mature osteoblast maintenance.\n",
      "\n",
      "\n"
     ]
    },
    {
     "name": "stderr",
     "output_type": "stream",
     "text": [
      "[Succeeded / Failed / Skipped / Total] 2 / 121 / 0 / 123:  60%|██████    | 123/204 [13:28<08:52,  6.58s/it]"
     ]
    },
    {
     "name": "stdout",
     "output_type": "stream",
     "text": [
      "--------------------------------------------- Result 123 ---------------------------------------------\n",
      "[[Support (100%)]] --> [[[FAILED]]]\n",
      "\n",
      "Taking anti-depresents is associated with a decrease in the Aβ level in the brain of experimental animals.\n",
      "\n",
      "\n"
     ]
    },
    {
     "name": "stderr",
     "output_type": "stream",
     "text": [
      "[Succeeded / Failed / Skipped / Total] 2 / 122 / 0 / 124:  61%|██████    | 124/204 [13:33<08:44,  6.56s/it]"
     ]
    },
    {
     "name": "stdout",
     "output_type": "stream",
     "text": [
      "--------------------------------------------- Result 124 ---------------------------------------------\n",
      "[[Support (100%)]] --> [[[FAILED]]]\n",
      "\n",
      "The DESMOND program caused substantial weight loss in most participants.\n",
      "\n",
      "\n"
     ]
    },
    {
     "name": "stderr",
     "output_type": "stream",
     "text": [
      "[Succeeded / Failed / Skipped / Total] 2 / 123 / 0 / 125:  61%|██████▏   | 125/204 [13:38<08:37,  6.55s/it]"
     ]
    },
    {
     "name": "stdout",
     "output_type": "stream",
     "text": [
      "--------------------------------------------- Result 125 ---------------------------------------------\n",
      "[[Support (100%)]] --> [[[FAILED]]]\n",
      "\n",
      "The PDPN gene deactivates the C-type lectin receptor (CLEC-2).\n",
      "\n",
      "\n"
     ]
    },
    {
     "name": "stderr",
     "output_type": "stream",
     "text": [
      "[Succeeded / Failed / Skipped / Total] 2 / 124 / 0 / 126:  62%|██████▏   | 126/204 [13:44<08:30,  6.54s/it]"
     ]
    },
    {
     "name": "stdout",
     "output_type": "stream",
     "text": [
      "--------------------------------------------- Result 126 ---------------------------------------------\n",
      "[[Support (100%)]] --> [[[FAILED]]]\n",
      "\n",
      "The RANK-RANK-Ligand (RANKL) pathway is involved in the development of Aire-expressing medullary thymic epithelial cells (mTECs).\n",
      "\n",
      "\n"
     ]
    },
    {
     "name": "stderr",
     "output_type": "stream",
     "text": [
      "[Succeeded / Failed / Skipped / Total] 2 / 125 / 0 / 127:  62%|██████▏   | 127/204 [13:50<08:23,  6.54s/it]"
     ]
    },
    {
     "name": "stdout",
     "output_type": "stream",
     "text": [
      "--------------------------------------------- Result 127 ---------------------------------------------\n",
      "[[Support (100%)]] --> [[[FAILED]]]\n",
      "\n",
      "The density of cytokine receptor bearing cells affects the distance over which cytokines act.\n",
      "\n",
      "\n"
     ]
    },
    {
     "name": "stderr",
     "output_type": "stream",
     "text": [
      "[Succeeded / Failed / Skipped / Total] 2 / 126 / 0 / 128:  63%|██████▎   | 128/204 [13:56<08:16,  6.53s/it]"
     ]
    },
    {
     "name": "stdout",
     "output_type": "stream",
     "text": [
      "--------------------------------------------- Result 128 ---------------------------------------------\n",
      "[[Support (100%)]] --> [[[FAILED]]]\n",
      "\n",
      "The latent infection of myeloid cells with human cytomegalovirus induces a number of changes in gene expression.\n",
      "\n",
      "\n"
     ]
    },
    {
     "name": "stderr",
     "output_type": "stream",
     "text": [
      "[Succeeded / Failed / Skipped / Total] 2 / 127 / 0 / 129:  63%|██████▎   | 129/204 [14:01<08:09,  6.53s/it]"
     ]
    },
    {
     "name": "stdout",
     "output_type": "stream",
     "text": [
      "--------------------------------------------- Result 129 ---------------------------------------------\n",
      "[[Support (100%)]] --> [[[FAILED]]]\n",
      "\n",
      "The microtubule-dependent delivery and secretion of matrix metalloproteases (MMPs) is partially responsible for the disassembly of adhesion sites.\n",
      "\n",
      "\n"
     ]
    },
    {
     "name": "stderr",
     "output_type": "stream",
     "text": [
      "[Succeeded / Failed / Skipped / Total] 2 / 128 / 0 / 130:  64%|██████▎   | 130/204 [14:09<08:03,  6.53s/it]"
     ]
    },
    {
     "name": "stdout",
     "output_type": "stream",
     "text": [
      "--------------------------------------------- Result 130 ---------------------------------------------\n",
      "[[Support (100%)]] --> [[[FAILED]]]\n",
      "\n",
      "The most prevalent adverse events to Semaglutide are cardiovascular.\n",
      "\n",
      "\n"
     ]
    },
    {
     "name": "stderr",
     "output_type": "stream",
     "text": [
      "[Succeeded / Failed / Skipped / Total] 2 / 129 / 0 / 131:  64%|██████▍   | 131/204 [14:15<07:56,  6.53s/it]"
     ]
    },
    {
     "name": "stdout",
     "output_type": "stream",
     "text": [
      "--------------------------------------------- Result 131 ---------------------------------------------\n",
      "[[Support (100%)]] --> [[[FAILED]]]\n",
      "\n",
      "The most prevalent adverse events to Semaglutide are gastrointestinal.\n",
      "\n",
      "\n"
     ]
    },
    {
     "name": "stderr",
     "output_type": "stream",
     "text": [
      "[Succeeded / Failed / Skipped / Total] 2 / 130 / 0 / 132:  65%|██████▍   | 132/204 [14:21<07:49,  6.53s/it]"
     ]
    },
    {
     "name": "stdout",
     "output_type": "stream",
     "text": [
      "--------------------------------------------- Result 132 ---------------------------------------------\n",
      "[[Support (100%)]] --> [[[FAILED]]]\n",
      "\n",
      "The proliferative capacity of neural progenitors differs across species.\n",
      "\n",
      "\n"
     ]
    },
    {
     "name": "stderr",
     "output_type": "stream",
     "text": [
      "[Succeeded / Failed / Skipped / Total] 2 / 131 / 0 / 133:  65%|██████▌   | 133/204 [14:26<07:42,  6.51s/it]"
     ]
    },
    {
     "name": "stdout",
     "output_type": "stream",
     "text": [
      "--------------------------------------------- Result 133 ---------------------------------------------\n",
      "[[Support (100%)]] --> [[[FAILED]]]\n",
      "\n",
      "The relationship between a breast cancer patient's capacity to metabolize tamoxifen and treatment outcome is independent of the patient's genetic make-up.\n",
      "\n",
      "\n"
     ]
    },
    {
     "name": "stderr",
     "output_type": "stream",
     "text": [
      "[Succeeded / Failed / Skipped / Total] 2 / 132 / 0 / 134:  66%|██████▌   | 134/204 [14:29<07:34,  6.49s/it]"
     ]
    },
    {
     "name": "stdout",
     "output_type": "stream",
     "text": [
      "--------------------------------------------- Result 134 ---------------------------------------------\n",
      "[[Support (100%)]] --> [[[FAILED]]]\n",
      "\n",
      "The risk of cancer rises with level of alcohol consumption.\n",
      "\n",
      "\n"
     ]
    },
    {
     "name": "stderr",
     "output_type": "stream",
     "text": [
      "[Succeeded / Failed / Skipped / Total] 2 / 133 / 0 / 135:  66%|██████▌   | 135/204 [14:40<07:29,  6.52s/it]"
     ]
    },
    {
     "name": "stdout",
     "output_type": "stream",
     "text": [
      "--------------------------------------------- Result 135 ---------------------------------------------\n",
      "[[Support (100%)]] --> [[[FAILED]]]\n",
      "\n",
      "The risk of female prisoners harming themselves is ten times that of male prisoners.\n",
      "\n",
      "\n"
     ]
    },
    {
     "name": "stderr",
     "output_type": "stream",
     "text": [
      "[Succeeded / Failed / Skipped / Total] 2 / 134 / 0 / 136:  67%|██████▋   | 136/204 [14:45<07:22,  6.51s/it]"
     ]
    },
    {
     "name": "stdout",
     "output_type": "stream",
     "text": [
      "--------------------------------------------- Result 136 ---------------------------------------------\n",
      "[[Support (100%)]] --> [[[FAILED]]]\n",
      "\n",
      "There is a positive correlation between hip fractures and statin use.\n",
      "\n",
      "\n"
     ]
    },
    {
     "name": "stderr",
     "output_type": "stream",
     "text": [
      "[Succeeded / Failed / Skipped / Total] 2 / 135 / 0 / 137:  67%|██████▋   | 137/204 [14:49<07:14,  6.49s/it]"
     ]
    },
    {
     "name": "stdout",
     "output_type": "stream",
     "text": [
      "--------------------------------------------- Result 137 ---------------------------------------------\n",
      "[[Support (100%)]] --> [[[FAILED]]]\n",
      "\n",
      "There is a relation between Erythromycin use and hypertrophic pyloric stenosis.\n",
      "\n",
      "\n"
     ]
    },
    {
     "name": "stderr",
     "output_type": "stream",
     "text": [
      "[Succeeded / Failed / Skipped / Total] 2 / 136 / 0 / 138:  68%|██████▊   | 138/204 [14:56<07:08,  6.50s/it]"
     ]
    },
    {
     "name": "stdout",
     "output_type": "stream",
     "text": [
      "--------------------------------------------- Result 138 ---------------------------------------------\n",
      "[[Support (100%)]] --> [[[FAILED]]]\n",
      "\n",
      "Tirasemtiv targets fast-twitch muscle.\n",
      "\n",
      "\n"
     ]
    },
    {
     "name": "stderr",
     "output_type": "stream",
     "text": [
      "[Succeeded / Failed / Skipped / Total] 2 / 137 / 0 / 139:  68%|██████▊   | 139/204 [15:02<07:02,  6.49s/it]"
     ]
    },
    {
     "name": "stdout",
     "output_type": "stream",
     "text": [
      "--------------------------------------------- Result 139 ---------------------------------------------\n",
      "[[Support (100%)]] --> [[[FAILED]]]\n",
      "\n",
      "Trans-acting factors, such as lncRNAs, influence mRNA translation.\n",
      "\n",
      "\n"
     ]
    },
    {
     "name": "stderr",
     "output_type": "stream",
     "text": [
      "[Succeeded / Failed / Skipped / Total] 2 / 138 / 0 / 140:  69%|██████▊   | 140/204 [15:06<06:54,  6.48s/it]"
     ]
    },
    {
     "name": "stdout",
     "output_type": "stream",
     "text": [
      "--------------------------------------------- Result 140 ---------------------------------------------\n",
      "[[Support (100%)]] --> [[[FAILED]]]\n",
      "\n",
      "Transplanted human glial progenitor cells can mature in their host animal.\n",
      "\n",
      "\n"
     ]
    },
    {
     "name": "stderr",
     "output_type": "stream",
     "text": [
      "[Succeeded / Failed / Skipped / Total] 2 / 139 / 0 / 141:  69%|██████▉   | 141/204 [15:12<06:47,  6.47s/it]"
     ]
    },
    {
     "name": "stdout",
     "output_type": "stream",
     "text": [
      "--------------------------------------------- Result 141 ---------------------------------------------\n",
      "[[Support (100%)]] --> [[[FAILED]]]\n",
      "\n",
      "Tuberculosis-induced granulomas express different immune system protein signatures than the surrounding tissue.\n",
      "\n",
      "\n"
     ]
    },
    {
     "name": "stderr",
     "output_type": "stream",
     "text": [
      "[Succeeded / Failed / Skipped / Total] 2 / 140 / 0 / 142:  70%|██████▉   | 142/204 [15:18<06:41,  6.47s/it]"
     ]
    },
    {
     "name": "stdout",
     "output_type": "stream",
     "text": [
      "--------------------------------------------- Result 142 ---------------------------------------------\n",
      "[[Support (100%)]] --> [[[FAILED]]]\n",
      "\n",
      "Type 1 Diabetes is associated with subtle perturbations in T reg development.\n",
      "\n",
      "\n"
     ]
    },
    {
     "name": "stderr",
     "output_type": "stream",
     "text": [
      "[Succeeded / Failed / Skipped / Total] 2 / 141 / 0 / 143:  70%|███████   | 143/204 [15:23<06:33,  6.46s/it]"
     ]
    },
    {
     "name": "stdout",
     "output_type": "stream",
     "text": [
      "--------------------------------------------- Result 143 ---------------------------------------------\n",
      "[[Support (100%)]] --> [[[FAILED]]]\n",
      "\n",
      "Ultrasound guidance significantly reduces the number of needle insertion attempts necessary for a given procedure.\n",
      "\n",
      "\n"
     ]
    },
    {
     "name": "stderr",
     "output_type": "stream",
     "text": [
      "[Succeeded / Failed / Skipped / Total] 2 / 142 / 0 / 144:  71%|███████   | 144/204 [15:27<06:26,  6.44s/it]"
     ]
    },
    {
     "name": "stdout",
     "output_type": "stream",
     "text": [
      "--------------------------------------------- Result 144 ---------------------------------------------\n",
      "[[Support (100%)]] --> [[[FAILED]]]\n",
      "\n",
      "Ultrasound guidance significantly reduces the number of traumatic procedures when attempting needle insertion.\n",
      "\n",
      "\n"
     ]
    },
    {
     "name": "stderr",
     "output_type": "stream",
     "text": [
      "[Succeeded / Failed / Skipped / Total] 2 / 143 / 0 / 145:  71%|███████   | 145/204 [15:35<06:20,  6.45s/it]"
     ]
    },
    {
     "name": "stdout",
     "output_type": "stream",
     "text": [
      "--------------------------------------------- Result 145 ---------------------------------------------\n",
      "[[Support (100%)]] --> [[[FAILED]]]\n",
      "\n",
      "Varying expression levels of EBI2 affect the positioning and migration of B cells.\n",
      "\n",
      "\n"
     ]
    },
    {
     "name": "stderr",
     "output_type": "stream",
     "text": [
      "[Succeeded / Failed / Skipped / Total] 2 / 144 / 0 / 146:  72%|███████▏  | 146/204 [15:39<06:13,  6.44s/it]"
     ]
    },
    {
     "name": "stdout",
     "output_type": "stream",
     "text": [
      "--------------------------------------------- Result 146 ---------------------------------------------\n",
      "[[Support (100%)]] --> [[[FAILED]]]\n",
      "\n",
      "Vitamin D deficiency effects birth weight.\n",
      "\n",
      "\n"
     ]
    },
    {
     "name": "stderr",
     "output_type": "stream",
     "text": [
      "[Succeeded / Failed / Skipped / Total] 2 / 145 / 0 / 147:  72%|███████▏  | 147/204 [15:44<06:06,  6.42s/it]"
     ]
    },
    {
     "name": "stdout",
     "output_type": "stream",
     "text": [
      "--------------------------------------------- Result 147 ---------------------------------------------\n",
      "[[Support (100%)]] --> [[[FAILED]]]\n",
      "\n",
      "Vitamin D is an important factor in the relationship between calcium and parathyroid hormone.\n",
      "\n",
      "\n"
     ]
    },
    {
     "name": "stderr",
     "output_type": "stream",
     "text": [
      "[Succeeded / Failed / Skipped / Total] 2 / 146 / 0 / 148:  73%|███████▎  | 148/204 [15:49<05:59,  6.42s/it]"
     ]
    },
    {
     "name": "stdout",
     "output_type": "stream",
     "text": [
      "--------------------------------------------- Result 148 ---------------------------------------------\n",
      "[[Support (100%)]] --> [[[FAILED]]]\n",
      "\n",
      "siRNA knockdown of A20 slows tumor progression in an in vivo murine xenograft model.\n",
      "\n",
      "\n"
     ]
    },
    {
     "name": "stderr",
     "output_type": "stream",
     "text": [
      "[Succeeded / Failed / Skipped / Total] 2 / 147 / 0 / 149:  73%|███████▎  | 149/204 [15:56<05:53,  6.42s/it]"
     ]
    },
    {
     "name": "stdout",
     "output_type": "stream",
     "text": [
      "--------------------------------------------- Result 149 ---------------------------------------------\n",
      "[[Support (100%)]] --> [[[FAILED]]]\n",
      "\n",
      "ALDH1 expression is associated with poorer prognosis in breast cancer.\n",
      "\n",
      "\n"
     ]
    },
    {
     "name": "stderr",
     "output_type": "stream",
     "text": [
      "[Succeeded / Failed / Skipped / Total] 2 / 148 / 0 / 150:  74%|███████▎  | 150/204 [16:02<05:46,  6.42s/it]"
     ]
    },
    {
     "name": "stdout",
     "output_type": "stream",
     "text": [
      "--------------------------------------------- Result 150 ---------------------------------------------\n",
      "[[Support (100%)]] --> [[[FAILED]]]\n",
      "\n",
      "Angiotensin converting enzyme inhibitors are associated with increased risk for functional renal insufficiency.\n",
      "\n",
      "\n"
     ]
    },
    {
     "name": "stderr",
     "output_type": "stream",
     "text": [
      "[Succeeded / Failed / Skipped / Total] 2 / 149 / 0 / 151:  74%|███████▍  | 151/204 [16:12<05:41,  6.44s/it]"
     ]
    },
    {
     "name": "stdout",
     "output_type": "stream",
     "text": [
      "--------------------------------------------- Result 151 ---------------------------------------------\n",
      "[[Support (100%)]] --> [[[FAILED]]]\n",
      "\n",
      "Anthrax spores can be disposed of easily after they are dispersed.\n",
      "\n",
      "\n"
     ]
    },
    {
     "name": "stderr",
     "output_type": "stream",
     "text": [
      "[Succeeded / Failed / Skipped / Total] 2 / 150 / 0 / 152:  75%|███████▍  | 152/204 [16:19<05:35,  6.45s/it]"
     ]
    },
    {
     "name": "stdout",
     "output_type": "stream",
     "text": [
      "--------------------------------------------- Result 152 ---------------------------------------------\n",
      "[[Support (100%)]] --> [[[FAILED]]]\n",
      "\n",
      "Articles published in open access format are more likely to be cited than traditional journals.\n",
      "\n",
      "\n"
     ]
    },
    {
     "name": "stderr",
     "output_type": "stream",
     "text": [
      "[Succeeded / Failed / Skipped / Total] 2 / 151 / 0 / 153:  75%|███████▌  | 153/204 [16:25<05:28,  6.44s/it]"
     ]
    },
    {
     "name": "stdout",
     "output_type": "stream",
     "text": [
      "--------------------------------------------- Result 153 ---------------------------------------------\n",
      "[[Support (100%)]] --> [[[FAILED]]]\n",
      "\n",
      "Autologous transplantation of mesenchymal stem cells causes fewer opportunistic infections than induction therapy with anti-interleukin-2 receptor antibodies.\n",
      "\n",
      "\n"
     ]
    },
    {
     "name": "stderr",
     "output_type": "stream",
     "text": [
      "[Succeeded / Failed / Skipped / Total] 2 / 152 / 0 / 154:  75%|███████▌  | 154/204 [16:31<05:21,  6.44s/it]"
     ]
    },
    {
     "name": "stdout",
     "output_type": "stream",
     "text": [
      "--------------------------------------------- Result 154 ---------------------------------------------\n",
      "[[Support (100%)]] --> [[[FAILED]]]\n",
      "\n",
      "Autologous transplantation of mesenchymal stem cells has lower rates of rejection than induction therapy with anti-interleukin-2 receptor antibodies.\n",
      "\n",
      "\n"
     ]
    },
    {
     "name": "stderr",
     "output_type": "stream",
     "text": [
      "[Succeeded / Failed / Skipped / Total] 2 / 153 / 0 / 155:  76%|███████▌  | 155/204 [16:37<05:15,  6.43s/it]"
     ]
    },
    {
     "name": "stdout",
     "output_type": "stream",
     "text": [
      "--------------------------------------------- Result 155 ---------------------------------------------\n",
      "[[Support (100%)]] --> [[[FAILED]]]\n",
      "\n",
      "Autophagy declines in aged organisms.\n",
      "\n",
      "\n"
     ]
    },
    {
     "name": "stderr",
     "output_type": "stream",
     "text": [
      "[Succeeded / Failed / Skipped / Total] 2 / 154 / 0 / 156:  76%|███████▋  | 156/204 [16:43<05:08,  6.43s/it]"
     ]
    },
    {
     "name": "stdout",
     "output_type": "stream",
     "text": [
      "--------------------------------------------- Result 156 ---------------------------------------------\n",
      "[[Support (100%)]] --> [[[FAILED]]]\n",
      "\n",
      "Bone marrow cells contribute to adult macrophage compartments.\n",
      "\n",
      "\n"
     ]
    },
    {
     "name": "stderr",
     "output_type": "stream",
     "text": [
      "[Succeeded / Failed / Skipped / Total] 2 / 155 / 0 / 157:  77%|███████▋  | 157/204 [16:50<05:02,  6.44s/it]"
     ]
    },
    {
     "name": "stdout",
     "output_type": "stream",
     "text": [
      "--------------------------------------------- Result 157 ---------------------------------------------\n",
      "[[Support (100%)]] --> [[[FAILED]]]\n",
      "\n",
      "CX3CR1 on the Th2 cells suppresses airway inflammation.\n",
      "\n",
      "\n"
     ]
    },
    {
     "name": "stderr",
     "output_type": "stream",
     "text": [
      "[Succeeded / Failed / Skipped / Total] 2 / 156 / 0 / 158:  77%|███████▋  | 158/204 [16:58<04:56,  6.45s/it]"
     ]
    },
    {
     "name": "stdout",
     "output_type": "stream",
     "text": [
      "--------------------------------------------- Result 158 ---------------------------------------------\n",
      "[[Support (100%)]] --> [[[FAILED]]]\n",
      "\n",
      "Cell autonomous sex determination in somatic cells does not occur in Galliformes.\n",
      "\n",
      "\n"
     ]
    },
    {
     "name": "stderr",
     "output_type": "stream",
     "text": [
      "[Succeeded / Failed / Skipped / Total] 2 / 157 / 0 / 159:  78%|███████▊  | 159/204 [17:04<04:49,  6.44s/it]"
     ]
    },
    {
     "name": "stdout",
     "output_type": "stream",
     "text": [
      "--------------------------------------------- Result 159 ---------------------------------------------\n",
      "[[Support (100%)]] --> [[[FAILED]]]\n",
      "\n",
      "Chenodeosycholic acid treatment increases whole-body energy expenditure.\n",
      "\n",
      "\n"
     ]
    },
    {
     "name": "stderr",
     "output_type": "stream",
     "text": [
      "[Succeeded / Failed / Skipped / Total] 2 / 158 / 0 / 160:  78%|███████▊  | 160/204 [17:09<04:43,  6.44s/it]"
     ]
    },
    {
     "name": "stdout",
     "output_type": "stream",
     "text": [
      "--------------------------------------------- Result 160 ---------------------------------------------\n",
      "[[Support (100%)]] --> [[[FAILED]]]\n",
      "\n",
      "Cytochrome c is released from the mitochondrial intermembrane space to cytosol during apoptosis.\n",
      "\n",
      "\n"
     ]
    },
    {
     "name": "stderr",
     "output_type": "stream",
     "text": [
      "[Succeeded / Failed / Skipped / Total] 2 / 159 / 0 / 161:  79%|███████▉  | 161/204 [17:21<04:38,  6.47s/it]"
     ]
    },
    {
     "name": "stdout",
     "output_type": "stream",
     "text": [
      "--------------------------------------------- Result 161 ---------------------------------------------\n",
      "[[Support (100%)]] --> [[[FAILED]]]\n",
      "\n",
      "Deletion of αvβ8 does not result in a spontaneous inflammatory phenotype.\n",
      "\n",
      "\n"
     ]
    },
    {
     "name": "stderr",
     "output_type": "stream",
     "text": [
      "[Succeeded / Failed / Skipped / Total] 2 / 160 / 0 / 162:  79%|███████▉  | 162/204 [17:27<04:31,  6.47s/it]"
     ]
    },
    {
     "name": "stdout",
     "output_type": "stream",
     "text": [
      "--------------------------------------------- Result 162 ---------------------------------------------\n",
      "[[Support (100%)]] --> [[[FAILED]]]\n",
      "\n",
      "Dexamethasone decreases risk of postoperative bleeding.\n",
      "\n",
      "\n"
     ]
    },
    {
     "name": "stderr",
     "output_type": "stream",
     "text": [
      "[Succeeded / Failed / Skipped / Total] 2 / 161 / 0 / 163:  80%|███████▉  | 163/204 [17:38<04:26,  6.49s/it]"
     ]
    },
    {
     "name": "stdout",
     "output_type": "stream",
     "text": [
      "--------------------------------------------- Result 163 ---------------------------------------------\n",
      "[[Support (100%)]] --> [[[FAILED]]]\n",
      "\n",
      "Diabetic patients with acute coronary syndrome experience increased short-term and long-term risk for bleeding events.\n",
      "\n",
      "\n"
     ]
    },
    {
     "name": "stderr",
     "output_type": "stream",
     "text": [
      "[Succeeded / Failed / Skipped / Total] 2 / 162 / 0 / 164:  80%|████████  | 164/204 [17:46<04:20,  6.50s/it]"
     ]
    },
    {
     "name": "stdout",
     "output_type": "stream",
     "text": [
      "--------------------------------------------- Result 164 ---------------------------------------------\n",
      "[[Support (100%)]] --> [[[FAILED]]]\n",
      "\n",
      "Enhanced early production of inflammatory chemokines improves viral control in the lung.\n",
      "\n",
      "\n"
     ]
    },
    {
     "name": "stderr",
     "output_type": "stream",
     "text": [
      "[Succeeded / Failed / Skipped / Total] 2 / 163 / 0 / 165:  81%|████████  | 165/204 [17:50<04:13,  6.49s/it]"
     ]
    },
    {
     "name": "stdout",
     "output_type": "stream",
     "text": [
      "--------------------------------------------- Result 165 ---------------------------------------------\n",
      "[[Support (100%)]] --> [[[FAILED]]]\n",
      "\n",
      "Epigenetic modulating agents (EMAs) modulate antitumor immune response in a cancer model system.\n",
      "\n",
      "\n"
     ]
    },
    {
     "name": "stderr",
     "output_type": "stream",
     "text": [
      "[Succeeded / Failed / Skipped / Total] 2 / 164 / 0 / 166:  81%|████████▏ | 166/204 [17:54<04:05,  6.47s/it]"
     ]
    },
    {
     "name": "stdout",
     "output_type": "stream",
     "text": [
      "--------------------------------------------- Result 166 ---------------------------------------------\n",
      "[[Support (100%)]] --> [[[FAILED]]]\n",
      "\n",
      "Exposure to fine particulate air pollution is relate to anxiety prevalence.\n",
      "\n",
      "\n"
     ]
    },
    {
     "name": "stderr",
     "output_type": "stream",
     "text": [
      "[Succeeded / Failed / Skipped / Total] 2 / 165 / 0 / 167:  82%|████████▏ | 167/204 [17:59<03:59,  6.46s/it]"
     ]
    },
    {
     "name": "stdout",
     "output_type": "stream",
     "text": [
      "--------------------------------------------- Result 167 ---------------------------------------------\n",
      "[[Support (100%)]] --> [[[FAILED]]]\n",
      "\n",
      "Female carriers of the Apolipoprotein E4 (APOE4) allele have increased risk for dementia.\n",
      "\n",
      "\n"
     ]
    },
    {
     "name": "stderr",
     "output_type": "stream",
     "text": [
      "[Succeeded / Failed / Skipped / Total] 2 / 166 / 0 / 168:  82%|████████▏ | 168/204 [18:03<03:52,  6.45s/it]"
     ]
    },
    {
     "name": "stdout",
     "output_type": "stream",
     "text": [
      "--------------------------------------------- Result 168 ---------------------------------------------\n",
      "[[Support (100%)]] --> [[[FAILED]]]\n",
      "\n",
      "FoxO3a activation in neuronal death is mediated by reactive oxygen species (ROS).\n",
      "\n",
      "\n"
     ]
    },
    {
     "name": "stderr",
     "output_type": "stream",
     "text": [
      "[Succeeded / Failed / Skipped / Total] 2 / 167 / 0 / 169:  83%|████████▎ | 169/204 [18:16<03:47,  6.49s/it]"
     ]
    },
    {
     "name": "stdout",
     "output_type": "stream",
     "text": [
      "--------------------------------------------- Result 169 ---------------------------------------------\n",
      "[[Support (100%)]] --> [[[FAILED]]]\n",
      "\n",
      "Glycolysis is one of the primary glycometabolic pathways in cells.\n",
      "\n",
      "\n"
     ]
    },
    {
     "name": "stderr",
     "output_type": "stream",
     "text": [
      "[Succeeded / Failed / Skipped / Total] 2 / 168 / 0 / 170:  83%|████████▎ | 170/204 [18:22<03:40,  6.49s/it]"
     ]
    },
    {
     "name": "stdout",
     "output_type": "stream",
     "text": [
      "--------------------------------------------- Result 170 ---------------------------------------------\n",
      "[[Support (100%)]] --> [[[FAILED]]]\n",
      "\n",
      "High levels of CRP reduces the risk of exacerbations in chronic obstructive pulmonary disease (COPD).\n",
      "\n",
      "\n"
     ]
    },
    {
     "name": "stderr",
     "output_type": "stream",
     "text": [
      "[Succeeded / Failed / Skipped / Total] 2 / 169 / 0 / 171:  84%|████████▍ | 171/204 [18:33<03:34,  6.51s/it]"
     ]
    },
    {
     "name": "stdout",
     "output_type": "stream",
     "text": [
      "--------------------------------------------- Result 171 ---------------------------------------------\n",
      "[[Support (100%)]] --> [[[FAILED]]]\n",
      "\n",
      "Hyperfibrinogenemia decreases rates of femoropopliteal bypass thrombosis.\n",
      "\n",
      "\n"
     ]
    },
    {
     "name": "stderr",
     "output_type": "stream",
     "text": [
      "[Succeeded / Failed / Skipped / Total] 2 / 170 / 0 / 172:  84%|████████▍ | 172/204 [18:43<03:28,  6.53s/it]"
     ]
    },
    {
     "name": "stdout",
     "output_type": "stream",
     "text": [
      "--------------------------------------------- Result 172 ---------------------------------------------\n",
      "[[Support (100%)]] --> [[[FAILED]]]\n",
      "\n",
      "Hyperfibrinogenemia increases rates of femoropopliteal bypass thrombosis.\n",
      "\n",
      "\n"
     ]
    },
    {
     "name": "stderr",
     "output_type": "stream",
     "text": [
      "[Succeeded / Failed / Skipped / Total] 2 / 171 / 0 / 173:  85%|████████▍ | 173/204 [18:49<03:22,  6.53s/it]"
     ]
    },
    {
     "name": "stdout",
     "output_type": "stream",
     "text": [
      "--------------------------------------------- Result 173 ---------------------------------------------\n",
      "[[Support (100%)]] --> [[[FAILED]]]\n",
      "\n",
      "IRG1 has antiviral effects against neurotropic viruses.\n",
      "\n",
      "\n"
     ]
    },
    {
     "name": "stderr",
     "output_type": "stream",
     "text": [
      "[Succeeded / Failed / Skipped / Total] 2 / 172 / 0 / 174:  85%|████████▌ | 174/204 [18:55<03:15,  6.52s/it]"
     ]
    },
    {
     "name": "stdout",
     "output_type": "stream",
     "text": [
      "--------------------------------------------- Result 174 ---------------------------------------------\n",
      "[[Support (100%)]] --> [[[FAILED]]]\n",
      "\n",
      "Incidence rates of cervical cancer have decreased.\n",
      "\n",
      "\n"
     ]
    },
    {
     "name": "stderr",
     "output_type": "stream",
     "text": [
      "[Succeeded / Failed / Skipped / Total] 2 / 173 / 0 / 175:  86%|████████▌ | 175/204 [19:00<03:08,  6.52s/it]"
     ]
    },
    {
     "name": "stdout",
     "output_type": "stream",
     "text": [
      "--------------------------------------------- Result 175 ---------------------------------------------\n",
      "[[Support (100%)]] --> [[[FAILED]]]\n",
      "\n",
      "Insomnia can be effectively treated with cognitive behavioral therapy.\n",
      "\n",
      "\n"
     ]
    },
    {
     "name": "stderr",
     "output_type": "stream",
     "text": [
      "[Succeeded / Failed / Skipped / Total] 2 / 174 / 0 / 176:  86%|████████▋ | 176/204 [19:02<03:01,  6.49s/it]"
     ]
    },
    {
     "name": "stdout",
     "output_type": "stream",
     "text": [
      "--------------------------------------------- Result 176 ---------------------------------------------\n",
      "[[Support (100%)]] --> [[[FAILED]]]\n",
      "\n",
      "Leuko-reduced blood reduces infectious complications in red blood cell transfusion.\n",
      "\n",
      "\n"
     ]
    },
    {
     "name": "stderr",
     "output_type": "stream",
     "text": [
      "[Succeeded / Failed / Skipped / Total] 2 / 175 / 0 / 177:  87%|████████▋ | 177/204 [19:10<02:55,  6.50s/it]"
     ]
    },
    {
     "name": "stdout",
     "output_type": "stream",
     "text": [
      "--------------------------------------------- Result 177 ---------------------------------------------\n",
      "[[Support (100%)]] --> [[[FAILED]]]\n",
      "\n",
      "Lupus-prone mice infected with curliproducing bacteria have higher autoantibody titers compared to controls.\n",
      "\n",
      "\n"
     ]
    },
    {
     "name": "stderr",
     "output_type": "stream",
     "text": [
      "[Succeeded / Failed / Skipped / Total] 2 / 176 / 0 / 178:  87%|████████▋ | 178/204 [19:16<02:48,  6.50s/it]"
     ]
    },
    {
     "name": "stdout",
     "output_type": "stream",
     "text": [
      "--------------------------------------------- Result 178 ---------------------------------------------\n",
      "[[Support (100%)]] --> [[[FAILED]]]\n",
      "\n",
      "Macrolides protect against myocardial infarction.\n",
      "\n",
      "\n"
     ]
    },
    {
     "name": "stderr",
     "output_type": "stream",
     "text": [
      "[Succeeded / Failed / Skipped / Total] 2 / 177 / 0 / 179:  88%|████████▊ | 179/204 [19:21<02:42,  6.49s/it]"
     ]
    },
    {
     "name": "stdout",
     "output_type": "stream",
     "text": [
      "--------------------------------------------- Result 179 ---------------------------------------------\n",
      "[[Support (100%)]] --> [[[FAILED]]]\n",
      "\n",
      "MicroRNA is involved in the regulation of Neural Stem Cell (NSC) differentiation and proliferation dynamic homeostasis\n",
      "\n",
      "\n"
     ]
    },
    {
     "name": "stderr",
     "output_type": "stream",
     "text": [
      "[Succeeded / Failed / Skipped / Total] 2 / 178 / 0 / 180:  88%|████████▊ | 180/204 [19:26<02:35,  6.48s/it]"
     ]
    },
    {
     "name": "stdout",
     "output_type": "stream",
     "text": [
      "--------------------------------------------- Result 180 ---------------------------------------------\n",
      "[[Support (100%)]] --> [[[FAILED]]]\n",
      "\n",
      "Monoclonal antibody targeting of N-cadherin inhibits metastasis.\n",
      "\n",
      "\n"
     ]
    },
    {
     "name": "stderr",
     "output_type": "stream",
     "text": [
      "[Succeeded / Failed / Skipped / Total] 2 / 179 / 0 / 181:  89%|████████▊ | 181/204 [19:34<02:29,  6.49s/it]"
     ]
    },
    {
     "name": "stdout",
     "output_type": "stream",
     "text": [
      "--------------------------------------------- Result 181 ---------------------------------------------\n",
      "[[Support (100%)]] --> [[[FAILED]]]\n",
      "\n",
      "NFAT4 activation requires IP3R-mediated Ca2+ mobilization.\n",
      "\n",
      "\n"
     ]
    },
    {
     "name": "stderr",
     "output_type": "stream",
     "text": [
      "[Succeeded / Failed / Skipped / Total] 2 / 180 / 0 / 182:  89%|████████▉ | 182/204 [19:40<02:22,  6.48s/it]"
     ]
    },
    {
     "name": "stdout",
     "output_type": "stream",
     "text": [
      "--------------------------------------------- Result 182 ---------------------------------------------\n",
      "[[Support (100%)]] --> [[[FAILED]]]\n",
      "\n",
      "NR5A2 is important in development of endometrial tissues.\n",
      "\n",
      "\n"
     ]
    },
    {
     "name": "stderr",
     "output_type": "stream",
     "text": [
      "[Succeeded / Failed / Skipped / Total] 2 / 181 / 0 / 183:  90%|████████▉ | 183/204 [19:44<02:15,  6.48s/it]"
     ]
    },
    {
     "name": "stdout",
     "output_type": "stream",
     "text": [
      "--------------------------------------------- Result 183 ---------------------------------------------\n",
      "[[Support (100%)]] --> [[[FAILED]]]\n",
      "\n",
      "Nanoparticles can be targeted against specific cell types by incorporating aptamers into lipid nanoparticles.\n",
      "\n",
      "\n"
     ]
    },
    {
     "name": "stderr",
     "output_type": "stream",
     "text": [
      "[Succeeded / Failed / Skipped / Total] 2 / 182 / 0 / 184:  90%|█████████ | 184/204 [19:49<02:09,  6.46s/it]"
     ]
    },
    {
     "name": "stdout",
     "output_type": "stream",
     "text": [
      "--------------------------------------------- Result 184 ---------------------------------------------\n",
      "[[Support (100%)]] --> [[[FAILED]]]\n",
      "\n",
      "Neutrophil extracellular traps (NETs) are released by ANCA-stimulated neutrophils.\n",
      "\n",
      "\n"
     ]
    },
    {
     "name": "stderr",
     "output_type": "stream",
     "text": [
      "[Succeeded / Failed / Skipped / Total] 2 / 183 / 0 / 185:  91%|█████████ | 185/204 [19:57<02:03,  6.47s/it]"
     ]
    },
    {
     "name": "stdout",
     "output_type": "stream",
     "text": [
      "--------------------------------------------- Result 185 ---------------------------------------------\n",
      "[[Support (100%)]] --> [[[FAILED]]]\n",
      "\n",
      "PD-1 triggering on monocytes reduces IL-10 production by monocytes.\n",
      "\n",
      "\n"
     ]
    },
    {
     "name": "stderr",
     "output_type": "stream",
     "text": [
      "[Succeeded / Failed / Skipped / Total] 2 / 184 / 0 / 186:  91%|█████████ | 186/204 [20:21<01:58,  6.57s/it]"
     ]
    },
    {
     "name": "stdout",
     "output_type": "stream",
     "text": [
      "--------------------------------------------- Result 186 ---------------------------------------------\n",
      "[[Support (100%)]] --> [[[FAILED]]]\n",
      "\n",
      "Participating in six months of physical activity improves cognitive functioning.\n",
      "\n",
      "\n"
     ]
    },
    {
     "name": "stderr",
     "output_type": "stream",
     "text": [
      "[Succeeded / Failed / Skipped / Total] 2 / 185 / 0 / 187:  92%|█████████▏| 187/204 [20:24<01:51,  6.55s/it]"
     ]
    },
    {
     "name": "stdout",
     "output_type": "stream",
     "text": [
      "--------------------------------------------- Result 187 ---------------------------------------------\n",
      "[[Support (100%)]] --> [[[FAILED]]]\n",
      "\n",
      "Podocytes are motile and migrate in the presence of injury.\n",
      "\n",
      "\n"
     ]
    },
    {
     "name": "stderr",
     "output_type": "stream",
     "text": [
      "[Succeeded / Failed / Skipped / Total] 2 / 186 / 0 / 188:  92%|█████████▏| 188/204 [20:29<01:44,  6.54s/it]"
     ]
    },
    {
     "name": "stdout",
     "output_type": "stream",
     "text": [
      "--------------------------------------------- Result 188 ---------------------------------------------\n",
      "[[Support (100%)]] --> [[[FAILED]]]\n",
      "\n",
      "Pyridostatin destabilizes the G - quadruplex in the telomeric region.\n",
      "\n",
      "\n"
     ]
    },
    {
     "name": "stderr",
     "output_type": "stream",
     "text": [
      "[Succeeded / Failed / Skipped / Total] 2 / 187 / 0 / 189:  93%|█████████▎| 189/204 [20:36<01:38,  6.54s/it]"
     ]
    },
    {
     "name": "stdout",
     "output_type": "stream",
     "text": [
      "--------------------------------------------- Result 189 ---------------------------------------------\n",
      "[[Support (100%)]] --> [[[FAILED]]]\n",
      "\n",
      "Rapid phosphotransfer rates govern fidelity in two component systems\n",
      "\n",
      "\n"
     ]
    },
    {
     "name": "stderr",
     "output_type": "stream",
     "text": [
      "[Succeeded / Failed / Skipped / Total] 2 / 188 / 0 / 190:  93%|█████████▎| 190/204 [20:40<01:31,  6.53s/it]"
     ]
    },
    {
     "name": "stdout",
     "output_type": "stream",
     "text": [
      "--------------------------------------------- Result 190 ---------------------------------------------\n",
      "[[Support (100%)]] --> [[[FAILED]]]\n",
      "\n",
      "Rapid up-regulation and higher basal expression of interferon-induced genes increase survival of granule cell neurons that are infected by West Nile virus.\n",
      "\n",
      "\n"
     ]
    },
    {
     "name": "stderr",
     "output_type": "stream",
     "text": [
      "[Succeeded / Failed / Skipped / Total] 2 / 189 / 0 / 191:  94%|█████████▎| 191/204 [20:45<01:24,  6.52s/it]"
     ]
    },
    {
     "name": "stdout",
     "output_type": "stream",
     "text": [
      "--------------------------------------------- Result 191 ---------------------------------------------\n",
      "[[Support (100%)]] --> [[[FAILED]]]\n",
      "\n",
      "Sildenafil improves erectile function in men who experience sexual dysfunction as a result of the use of SSRI antidepressants.\n",
      "\n",
      "\n"
     ]
    },
    {
     "name": "stderr",
     "output_type": "stream",
     "text": [
      "[Succeeded / Failed / Skipped / Total] 2 / 190 / 0 / 192:  94%|█████████▍| 192/204 [20:55<01:18,  6.54s/it]"
     ]
    },
    {
     "name": "stdout",
     "output_type": "stream",
     "text": [
      "--------------------------------------------- Result 192 ---------------------------------------------\n",
      "[[Support (100%)]] --> [[[FAILED]]]\n",
      "\n",
      "Stroke patients with prior use of direct oral anticoagulants have a lower risk of in-hospital mortality than stroke patients with prior use of warfarin.\n",
      "\n",
      "\n"
     ]
    },
    {
     "name": "stderr",
     "output_type": "stream",
     "text": [
      "[Succeeded / Failed / Skipped / Total] 2 / 191 / 0 / 193:  95%|█████████▍| 193/204 [21:00<01:11,  6.53s/it]"
     ]
    },
    {
     "name": "stdout",
     "output_type": "stream",
     "text": [
      "--------------------------------------------- Result 193 ---------------------------------------------\n",
      "[[Support (100%)]] --> [[[FAILED]]]\n",
      "\n",
      "TCR/CD3 microdomains are a required to induce the immunologic synapse to activate T cells.\n",
      "\n",
      "\n"
     ]
    },
    {
     "name": "stderr",
     "output_type": "stream",
     "text": [
      "[Succeeded / Failed / Skipped / Total] 2 / 192 / 0 / 194:  95%|█████████▌| 194/204 [21:07<01:05,  6.54s/it]"
     ]
    },
    {
     "name": "stdout",
     "output_type": "stream",
     "text": [
      "--------------------------------------------- Result 194 ---------------------------------------------\n",
      "[[Support (100%)]] --> [[[FAILED]]]\n",
      "\n",
      "TNFAIP3 is a tumor suppressor in glioblastoma.\n",
      "\n",
      "\n"
     ]
    },
    {
     "name": "stderr",
     "output_type": "stream",
     "text": [
      "[Succeeded / Failed / Skipped / Total] 3 / 192 / 0 / 195:  96%|█████████▌| 195/204 [21:21<00:59,  6.57s/it]"
     ]
    },
    {
     "name": "stdout",
     "output_type": "stream",
     "text": [
      "--------------------------------------------- Result 195 ---------------------------------------------\n",
      "[[Support (100%)]] --> [[Refute (100%)]]\n",
      "\n",
      "Teaching hospitals [[do]] [[not]] provide better care than non-teaching hospitals.\n",
      "\n",
      "Teaching hospitals [[don't]] provide better care than non-teaching hospitals.\n",
      "\n",
      "\n"
     ]
    },
    {
     "name": "stderr",
     "output_type": "stream",
     "text": [
      "[Succeeded / Failed / Skipped / Total] 3 / 193 / 0 / 196:  96%|█████████▌| 196/204 [21:27<00:52,  6.57s/it]"
     ]
    },
    {
     "name": "stdout",
     "output_type": "stream",
     "text": [
      "--------------------------------------------- Result 196 ---------------------------------------------\n",
      "[[Support (100%)]] --> [[[FAILED]]]\n",
      "\n",
      "The PRR MDA5 is a sensor of RNA virus infection.\n",
      "\n",
      "\n"
     ]
    },
    {
     "name": "stderr",
     "output_type": "stream",
     "text": [
      "[Succeeded / Failed / Skipped / Total] 3 / 194 / 0 / 197:  97%|█████████▋| 197/204 [21:35<00:46,  6.58s/it]"
     ]
    },
    {
     "name": "stdout",
     "output_type": "stream",
     "text": [
      "--------------------------------------------- Result 197 ---------------------------------------------\n",
      "[[Support (100%)]] --> [[[FAILED]]]\n",
      "\n",
      "The extracellular domain of TMEM27 is cleaved in human beta cells.\n",
      "\n",
      "\n"
     ]
    },
    {
     "name": "stderr",
     "output_type": "stream",
     "text": [
      "[Succeeded / Failed / Skipped / Total] 3 / 195 / 0 / 198:  97%|█████████▋| 198/204 [21:42<00:39,  6.58s/it]"
     ]
    },
    {
     "name": "stdout",
     "output_type": "stream",
     "text": [
      "--------------------------------------------- Result 198 ---------------------------------------------\n",
      "[[Support (100%)]] --> [[[FAILED]]]\n",
      "\n",
      "The relationship between a breast cancer patient's capacity to metabolize tamoxifen and treatment outcome is dependent on the patient's genetic make-up.\n",
      "\n",
      "\n"
     ]
    },
    {
     "name": "stderr",
     "output_type": "stream",
     "text": [
      "[Succeeded / Failed / Skipped / Total] 3 / 196 / 0 / 199:  98%|█████████▊| 199/204 [21:47<00:32,  6.57s/it]"
     ]
    },
    {
     "name": "stdout",
     "output_type": "stream",
     "text": [
      "--------------------------------------------- Result 199 ---------------------------------------------\n",
      "[[Support (100%)]] --> [[[FAILED]]]\n",
      "\n",
      "The severity of cardiac involvement in amyloidosis can be described by the degree of transmurality of late gadolinium enhancement in MRI.\n",
      "\n",
      "\n"
     ]
    },
    {
     "name": "stderr",
     "output_type": "stream",
     "text": [
      "[Succeeded / Failed / Skipped / Total] 3 / 197 / 0 / 200:  98%|█████████▊| 200/204 [21:51<00:26,  6.56s/it]"
     ]
    },
    {
     "name": "stdout",
     "output_type": "stream",
     "text": [
      "--------------------------------------------- Result 200 ---------------------------------------------\n",
      "[[Support (100%)]] --> [[[FAILED]]]\n",
      "\n",
      "Transplanted human glial cells can differentiate within the host animal.\n",
      "\n",
      "\n"
     ]
    },
    {
     "name": "stderr",
     "output_type": "stream",
     "text": [
      "[Succeeded / Failed / Skipped / Total] 3 / 198 / 0 / 201:  99%|█████████▊| 201/204 [21:59<00:19,  6.57s/it]"
     ]
    },
    {
     "name": "stdout",
     "output_type": "stream",
     "text": [
      "--------------------------------------------- Result 201 ---------------------------------------------\n",
      "[[Support (100%)]] --> [[[FAILED]]]\n",
      "\n",
      "Upregulation of mosGCTL-1 is induced upon infection with West Nile virus.\n",
      "\n",
      "\n"
     ]
    },
    {
     "name": "stderr",
     "output_type": "stream",
     "text": [
      "[Succeeded / Failed / Skipped / Total] 3 / 199 / 0 / 202:  99%|█████████▉| 202/204 [22:07<00:13,  6.57s/it]"
     ]
    },
    {
     "name": "stdout",
     "output_type": "stream",
     "text": [
      "--------------------------------------------- Result 202 ---------------------------------------------\n",
      "[[Support (100%)]] --> [[[FAILED]]]\n",
      "\n",
      "Vitamin D deficiency effects the term of delivery.\n",
      "\n",
      "\n"
     ]
    },
    {
     "name": "stderr",
     "output_type": "stream",
     "text": [
      "[Succeeded / Failed / Skipped / Total] 3 / 200 / 0 / 203: 100%|█████████▉| 203/204 [22:12<00:06,  6.56s/it]"
     ]
    },
    {
     "name": "stdout",
     "output_type": "stream",
     "text": [
      "--------------------------------------------- Result 203 ---------------------------------------------\n",
      "[[Support (100%)]] --> [[[FAILED]]]\n",
      "\n",
      "Vitamin D deficiency is unrelated to birth weight.\n",
      "\n",
      "\n"
     ]
    },
    {
     "name": "stderr",
     "output_type": "stream",
     "text": [
      "[Succeeded / Failed / Skipped / Total] 3 / 201 / 0 / 204: 100%|██████████| 204/204 [22:20<00:00,  6.57s/it]"
     ]
    },
    {
     "name": "stdout",
     "output_type": "stream",
     "text": [
      "--------------------------------------------- Result 204 ---------------------------------------------\n",
      "[[Support (100%)]] --> [[[FAILED]]]\n",
      "\n",
      "cSMAC formation enhances weak ligand signalling.\n",
      "\n",
      "\n",
      "\n",
      "+-------------------------------+--------+\n",
      "| Attack Results                |        |\n",
      "+-------------------------------+--------+\n",
      "| Number of successful attacks: | 3      |\n",
      "| Number of failed attacks:     | 201    |\n",
      "| Number of skipped attacks:    | 0      |\n",
      "| Original accuracy:            | 100.0% |\n",
      "| Accuracy under attack:        | 98.53% |\n",
      "| Attack success rate:          | 1.47%  |\n",
      "| Average perturbed word %:     | 29.7%  |\n",
      "| Average num. words per input: | 11.47  |\n",
      "| Avg num queries:              | 1.16   |\n",
      "+-------------------------------+--------+\n"
     ]
    },
    {
     "name": "stderr",
     "output_type": "stream",
     "text": [
      "\n"
     ]
    }
   ],
   "source": [
    "class_model = PARAPHRASE_PROJECT_SETTINGS['config_scifact']['rationale_model_name']\n",
    "\n",
    "attack_args_cklist = AttackArgs(num_examples=-1, log_to_csv=\"../../logs/checklist_log_results_support.csv\", csv_coloring_style=\"html\")\n",
    "model_wrapper_cklist = ScifactModelWrapper(class_model)\n",
    "\n",
    "attack_checklist = CheckList2020.build(model_wrapper_cklist)\n",
    "\n",
    "attacker_checklist = Attacker(attack_checklist, ds_claim_label, attack_args_cklist)\n",
    "attack_results_checklist = attacker_checklist.attack_dataset()"
   ]
  },
  {
   "cell_type": "code",
   "execution_count": 44,
   "id": "60c096e4",
   "metadata": {
    "ExecuteTime": {
     "end_time": "2022-01-22T07:01:46.725084Z",
     "start_time": "2022-01-22T07:01:46.722084Z"
    }
   },
   "outputs": [],
   "source": [
    "perturb_results_cklist = []"
   ]
  },
  {
   "cell_type": "code",
   "execution_count": 45,
   "id": "664aaf65",
   "metadata": {
    "ExecuteTime": {
     "end_time": "2022-01-22T07:01:46.731697Z",
     "start_time": "2022-01-22T07:01:46.727277Z"
    }
   },
   "outputs": [],
   "source": [
    "perturb_results_cklist.extend([(cur_result.original_text(), cur_result.perturbed_text(), cur_result.num_queries, \n",
    "                                    str(cur_result.__class__.__name__), 'checklist_ribeiro_2020') for cur_result in attack_results_checklist] )"
   ]
  },
  {
   "cell_type": "code",
   "execution_count": 46,
   "id": "5d67b368",
   "metadata": {
    "ExecuteTime": {
     "end_time": "2022-01-22T07:01:46.737158Z",
     "start_time": "2022-01-22T07:01:46.733505Z"
    }
   },
   "outputs": [],
   "source": [
    "df_cklist= pd.DataFrame(perturb_results_cklist, columns = ['org_claim', 'gen_claim', \n",
    "                                                                    'num_of_query', 'attack_result', 'attack_method'])"
   ]
  },
  {
   "cell_type": "code",
   "execution_count": 47,
   "id": "353c5cca",
   "metadata": {
    "ExecuteTime": {
     "end_time": "2022-01-22T07:01:46.744332Z",
     "start_time": "2022-01-22T07:01:46.739098Z"
    }
   },
   "outputs": [],
   "source": [
    "df_cklist.to_pickle('../../dfs_generated/paraphrased/existing_literature_methods/scifact_as_black_box_model_2_output/scifact_checklist_ribeiro_2020_sup_to_ref_2_opt.pkl')\n",
    "df_cklist.to_csv('../../dfs_generated/paraphrased/existing_literature_methods/scifact_as_black_box_model_2_output/scifact_checklist_ribeiro_2020_sup_to_ref_2_opt.csv')"
   ]
  },
  {
   "cell_type": "code",
   "execution_count": null,
   "id": "efae8cce",
   "metadata": {},
   "outputs": [],
   "source": []
  },
  {
   "cell_type": "markdown",
   "id": "3e63f0e0",
   "metadata": {},
   "source": [
    "### BAE (BAE: BERT-Based Adversarial Examples)"
   ]
  },
  {
   "cell_type": "code",
   "execution_count": 38,
   "id": "1d70326f",
   "metadata": {
    "ExecuteTime": {
     "end_time": "2022-01-22T08:00:23.642515Z",
     "start_time": "2022-01-22T08:00:23.637785Z"
    }
   },
   "outputs": [],
   "source": [
    "logging.info(\">>> \\n\\nBAE >>> \")"
   ]
  },
  {
   "cell_type": "code",
   "execution_count": 39,
   "id": "7946858a",
   "metadata": {
    "ExecuteTime": {
     "end_time": "2022-01-22T08:02:24.787609Z",
     "start_time": "2022-01-22T08:02:24.783154Z"
    }
   },
   "outputs": [],
   "source": [
    "from textattack.attack_recipes.bae_garg_2019 import BAEGarg2019"
   ]
  },
  {
   "cell_type": "code",
   "execution_count": 40,
   "id": "3af5d3db",
   "metadata": {
    "ExecuteTime": {
     "end_time": "2022-01-23T14:28:01.517261Z",
     "start_time": "2022-01-22T08:02:57.319763Z"
    }
   },
   "outputs": [
    {
     "name": "stderr",
     "output_type": "stream",
     "text": [
      "Some weights of the model checkpoint at bert-base-uncased were not used when initializing BertForMaskedLM: ['cls.seq_relationship.bias', 'cls.seq_relationship.weight']\n",
      "- This IS expected if you are initializing BertForMaskedLM from the checkpoint of a model trained on another task or with another architecture (e.g. initializing a BertForSequenceClassification model from a BertForPreTraining model).\n",
      "- This IS NOT expected if you are initializing BertForMaskedLM from the checkpoint of a model that you expect to be exactly identical (initializing a BertForSequenceClassification model from a BertForSequenceClassification model).\n",
      "textattack: Unknown if model of class <class 'str'> compatible with goal function <class 'textattack.goal_functions.classification.untargeted_classification.UntargetedClassification'>.\n",
      "textattack: Logging to CSV at path ../../logs/log_textattack_bae_support.csv\n",
      "  0%|          | 0/204 [00:00<?, ?it/s]"
     ]
    },
    {
     "name": "stdout",
     "output_type": "stream",
     "text": [
      "Attack(\n",
      "  (search_method): GreedyWordSwapWIR(\n",
      "    (wir_method):  delete\n",
      "  )\n",
      "  (goal_function):  UntargetedClassification\n",
      "  (transformation):  WordSwapMaskedLM(\n",
      "    (method):  bae\n",
      "    (masked_lm_name):  BertForMaskedLM\n",
      "    (max_length):  512\n",
      "    (max_candidates):  50\n",
      "    (min_confidence):  0.0\n",
      "  )\n",
      "  (constraints): \n",
      "    (0): PartOfSpeech(\n",
      "        (tagger_type):  nltk\n",
      "        (tagset):  universal\n",
      "        (allow_verb_noun_swap):  True\n",
      "        (compare_against_original):  True\n",
      "      )\n",
      "    (1): UniversalSentenceEncoder(\n",
      "        (metric):  cosine\n",
      "        (threshold):  0.936338023\n",
      "        (window_size):  15\n",
      "        (skip_text_shorter_than_window):  True\n",
      "        (compare_against_original):  True\n",
      "      )\n",
      "    (2): RepeatModification\n",
      "    (3): StopwordModification\n",
      "  (is_black_box):  True\n",
      ") \n",
      "\n"
     ]
    },
    {
     "name": "stderr",
     "output_type": "stream",
     "text": [
      "/home/qudratealahyratu/anaconda3/envs/scifact/lib/python3.7/site-packages/transformers/tokenization_utils_base.py:2190: FutureWarning: The `pad_to_max_length` argument is deprecated and will be removed in a future version, use `padding=True` or `padding='longest'` to pad to the longest sequence in the batch, or use `padding='max_length'` to pad to a max length. In this case, you can give a specific length with `max_length` (e.g. `max_length=45`) or leave max_length to None to pad to the maximal input size of the model (e.g. 512 for Bert).\n",
      "  FutureWarning,\n",
      "[Succeeded / Failed / Skipped / Total] 1 / 0 / 0 / 1:   0%|          | 1/204 [02:53<9:46:37, 173.39s/it]"
     ]
    },
    {
     "name": "stdout",
     "output_type": "stream",
     "text": [
      "--------------------------------------------- Result 1 ---------------------------------------------\n",
      "[[Support (100%)]] --> [[Refute (100%)]]\n",
      "\n",
      "A [[T]] helper 2 cell (Th2) environment impedes disease development in patients with systemic lupus erythematosus (SLE).\n",
      "\n",
      "A [[basal]] helper 2 cell (Th2) environment impedes disease development in patients with systemic lupus erythematosus (SLE).\n",
      "\n",
      "\n"
     ]
    },
    {
     "name": "stderr",
     "output_type": "stream",
     "text": [
      "[Succeeded / Failed / Skipped / Total] 2 / 0 / 0 / 2:   1%|          | 2/204 [08:50<14:53:34, 265.42s/it]"
     ]
    },
    {
     "name": "stdout",
     "output_type": "stream",
     "text": [
      "--------------------------------------------- Result 2 ---------------------------------------------\n",
      "[[Support (100%)]] --> [[Refute (100%)]]\n",
      "\n",
      "A breast [[cancer]] patient's capacity to metabolize tamoxifen influences treatment outcome.\n",
      "\n",
      "A breast [[bypass]] patient's capacity to metabolize tamoxifen influences treatment outcome.\n",
      "\n",
      "\n"
     ]
    },
    {
     "name": "stderr",
     "output_type": "stream",
     "text": [
      "[Succeeded / Failed / Skipped / Total] 3 / 0 / 0 / 3:   1%|▏         | 3/204 [14:12<15:52:10, 284.23s/it]"
     ]
    },
    {
     "name": "stdout",
     "output_type": "stream",
     "text": [
      "--------------------------------------------- Result 3 ---------------------------------------------\n",
      "[[Support (100%)]] --> [[Refute (100%)]]\n",
      "\n",
      "A diminished ovarian reserve does not [[solely]] indicate infertility in an a priori non-infertile population.\n",
      "\n",
      "A diminished ovarian reserve does not [[initially]] indicate infertility in an a priori non-infertile population.\n",
      "\n",
      "\n"
     ]
    },
    {
     "name": "stderr",
     "output_type": "stream",
     "text": [
      "[Succeeded / Failed / Skipped / Total] 4 / 0 / 0 / 4:   2%|▏         | 4/204 [17:18<14:25:03, 259.52s/it]"
     ]
    },
    {
     "name": "stdout",
     "output_type": "stream",
     "text": [
      "--------------------------------------------- Result 4 ---------------------------------------------\n",
      "[[Support (100%)]] --> [[Refute (100%)]]\n",
      "\n",
      "ALDH1 expression is associated with poorer prognosis for breast [[cancer]] primary tumors.\n",
      "\n",
      "ALDH1 expression is associated with poorer prognosis for breast [[versus]] primary tumors.\n",
      "\n",
      "\n"
     ]
    },
    {
     "name": "stderr",
     "output_type": "stream",
     "text": [
      "/home/qudratealahyratu/research/nlp/fact_checking/my_work/scifact/verisci/covid/abstract_retriever.py:53: UserWarning: abstract selector :: returning empty list \n",
      "  warnings.warn(\"abstract selector :: returning empty list \")\n",
      "[Succeeded / Failed / Skipped / Total] 5 / 0 / 0 / 5:   2%|▏         | 5/204 [30:25<20:10:42, 365.04s/it]"
     ]
    },
    {
     "name": "stdout",
     "output_type": "stream",
     "text": [
      "--------------------------------------------- Result 5 ---------------------------------------------\n",
      "[[Support (100%)]] --> [[Refute (100%)]]\n",
      "\n",
      "AMP-activated protein kinase (AMPK) activation [[reduces]] inflammation-related fibrosis in the lungs.\n",
      "\n",
      "AMP-activated protein kinase (AMPK) activation [[causing]] inflammation-related fibrosis in the lungs.\n",
      "\n",
      "\n"
     ]
    },
    {
     "name": "stderr",
     "output_type": "stream",
     "text": [
      "[Succeeded / Failed / Skipped / Total] 6 / 0 / 0 / 6:   3%|▎         | 6/204 [36:15<19:56:47, 362.66s/it]"
     ]
    },
    {
     "name": "stdout",
     "output_type": "stream",
     "text": [
      "--------------------------------------------- Result 6 ---------------------------------------------\n",
      "[[Support (100%)]] --> [[Refute (100%)]]\n",
      "\n",
      "ART substantially [[reduces]] infectiveness of HIV-positive people.\n",
      "\n",
      "ART substantially [[causes]] infectiveness of HIV-positive people.\n",
      "\n",
      "\n"
     ]
    },
    {
     "name": "stderr",
     "output_type": "stream",
     "text": [
      "[Succeeded / Failed / Skipped / Total] 7 / 0 / 0 / 7:   3%|▎         | 7/204 [39:43<18:38:00, 340.51s/it]"
     ]
    },
    {
     "name": "stdout",
     "output_type": "stream",
     "text": [
      "--------------------------------------------- Result 7 ---------------------------------------------\n",
      "[[Support (100%)]] --> [[Refute (100%)]]\n",
      "\n",
      "Active [[caspase-11]] protein promotes pyroptosis.\n",
      "\n",
      "Active [[inhibitor]] protein promotes pyroptosis.\n",
      "\n",
      "\n"
     ]
    },
    {
     "name": "stderr",
     "output_type": "stream",
     "text": [
      "[Succeeded / Failed / Skipped / Total] 8 / 0 / 0 / 8:   4%|▍         | 8/204 [46:48<19:06:56, 351.10s/it]"
     ]
    },
    {
     "name": "stdout",
     "output_type": "stream",
     "text": [
      "--------------------------------------------- Result 8 ---------------------------------------------\n",
      "[[Support (100%)]] --> [[Refute (100%)]]\n",
      "\n",
      "Adult tissue-resident macrophages are [[seeded]] before birth.\n",
      "\n",
      "Adult tissue-resident macrophages are [[activated]] before birth.\n",
      "\n",
      "\n"
     ]
    },
    {
     "name": "stderr",
     "output_type": "stream",
     "text": [
      "[Succeeded / Failed / Skipped / Total] 9 / 0 / 0 / 9:   4%|▍         | 9/204 [58:23<21:05:17, 389.32s/it]"
     ]
    },
    {
     "name": "stdout",
     "output_type": "stream",
     "text": [
      "--------------------------------------------- Result 9 ---------------------------------------------\n",
      "[[Support (100%)]] --> [[Refute (100%)]]\n",
      "\n",
      "Adult tissue-resident macrophages [[possess]] a self-renewing capacity.\n",
      "\n",
      "Adult tissue-resident macrophages [[lack]] a self-renewing capacity.\n",
      "\n",
      "\n"
     ]
    },
    {
     "name": "stderr",
     "output_type": "stream",
     "text": [
      "[Succeeded / Failed / Skipped / Total] 9 / 1 / 0 / 10:   5%|▍         | 10/204 [1:05:18<21:07:01, 391.86s/it]"
     ]
    },
    {
     "name": "stdout",
     "output_type": "stream",
     "text": [
      "--------------------------------------------- Result 10 ---------------------------------------------\n",
      "[[Support (100%)]] --> [[[FAILED]]]\n",
      "\n",
      "Aggravated inflammation is dependent on NLRP3 inflammasome activation.\n",
      "\n",
      "\n"
     ]
    },
    {
     "name": "stderr",
     "output_type": "stream",
     "text": [
      "[Succeeded / Failed / Skipped / Total] 10 / 1 / 0 / 11:   5%|▌         | 11/204 [1:10:53<20:43:49, 386.68s/it]"
     ]
    },
    {
     "name": "stdout",
     "output_type": "stream",
     "text": [
      "--------------------------------------------- Result 11 ---------------------------------------------\n",
      "[[Support (100%)]] --> [[Refute (100%)]]\n",
      "\n",
      "Amitriptyline is an [[effective]] treatment for chronic tension-type headaches.\n",
      "\n",
      "Amitriptyline is an [[accepted]] treatment for chronic tension-type headaches.\n",
      "\n",
      "\n"
     ]
    },
    {
     "name": "stderr",
     "output_type": "stream",
     "text": [
      "[Succeeded / Failed / Skipped / Total] 11 / 1 / 0 / 12:   6%|▌         | 12/204 [1:28:25<23:34:43, 442.10s/it]"
     ]
    },
    {
     "name": "stdout",
     "output_type": "stream",
     "text": [
      "--------------------------------------------- Result 12 ---------------------------------------------\n",
      "[[Support (100%)]] --> [[Refute (100%)]]\n",
      "\n",
      "Androgenetic haploid mouse embryonic stem cells (ESCs) can be derived and [[genetically]] manipulated in vitro.\n",
      "\n",
      "Androgenetic haploid mouse embryonic stem cells (ESCs) can be derived and [[not]] manipulated in vitro.\n",
      "\n",
      "\n"
     ]
    },
    {
     "name": "stderr",
     "output_type": "stream",
     "text": [
      "[Succeeded / Failed / Skipped / Total] 12 / 1 / 0 / 13:   6%|▋         | 13/204 [1:39:30<24:21:53, 459.23s/it]"
     ]
    },
    {
     "name": "stdout",
     "output_type": "stream",
     "text": [
      "--------------------------------------------- Result 13 ---------------------------------------------\n",
      "[[Support (100%)]] --> [[Refute (100%)]]\n",
      "\n",
      "Angiotensin converting enzyme [[inhibitors]] are associated with decreased risk for functional renal insufficiency.\n",
      "\n",
      "Angiotensin converting enzyme [[abnormalities]] are associated with decreased risk for functional renal insufficiency.\n",
      "\n",
      "\n"
     ]
    },
    {
     "name": "stderr",
     "output_type": "stream",
     "text": [
      "[Succeeded / Failed / Skipped / Total] 13 / 1 / 0 / 14:   7%|▋         | 14/204 [1:44:51<23:43:06, 449.40s/it]"
     ]
    },
    {
     "name": "stdout",
     "output_type": "stream",
     "text": [
      "--------------------------------------------- Result 14 ---------------------------------------------\n",
      "[[Support (100%)]] --> [[Refute (100%)]]\n",
      "\n",
      "Anthrax [[spores]] remain deadly until affected areas are decontaminated.\n",
      "\n",
      "Anthrax [[vaccines]] remain deadly until affected areas are decontaminated.\n",
      "\n",
      "\n"
     ]
    },
    {
     "name": "stderr",
     "output_type": "stream",
     "text": [
      "[Succeeded / Failed / Skipped / Total] 14 / 1 / 0 / 15:   7%|▋         | 15/204 [1:49:17<22:57:07, 437.18s/it]"
     ]
    },
    {
     "name": "stdout",
     "output_type": "stream",
     "text": [
      "--------------------------------------------- Result 15 ---------------------------------------------\n",
      "[[Support (100%)]] --> [[Refute (100%)]]\n",
      "\n",
      "Antidepressants [[reduce]] the severity of migraines.\n",
      "\n",
      "Antidepressants [[are]] the severity of migraines.\n",
      "\n",
      "\n"
     ]
    },
    {
     "name": "stderr",
     "output_type": "stream",
     "text": [
      "[Succeeded / Failed / Skipped / Total] 15 / 1 / 0 / 16:   8%|▊         | 16/204 [2:09:21<25:19:54, 485.08s/it]"
     ]
    },
    {
     "name": "stdout",
     "output_type": "stream",
     "text": [
      "--------------------------------------------- Result 16 ---------------------------------------------\n",
      "[[Support (100%)]] --> [[Refute (100%)]]\n",
      "\n",
      "Asymptomatic visual impairment screening in elderly populations [[leads]] to improved vision.\n",
      "\n",
      "Asymptomatic visual impairment screening in elderly populations [[limited]] to improved vision.\n",
      "\n",
      "\n"
     ]
    },
    {
     "name": "stderr",
     "output_type": "stream",
     "text": [
      "[Succeeded / Failed / Skipped / Total] 16 / 1 / 0 / 17:   8%|▊         | 17/204 [2:34:16<28:17:04, 544.52s/it]"
     ]
    },
    {
     "name": "stdout",
     "output_type": "stream",
     "text": [
      "--------------------------------------------- Result 17 ---------------------------------------------\n",
      "[[Support (100%)]] --> [[Refute (100%)]]\n",
      "\n",
      "Autologous transplantation of mesenchymal stem cells has [[better]] graft function than induction therapy with anti-interleukin-2 receptor antibodies.\n",
      "\n",
      "Autologous transplantation of mesenchymal stem cells has [[worse]] graft function than induction therapy with anti-interleukin-2 receptor antibodies.\n",
      "\n",
      "\n"
     ]
    },
    {
     "name": "stderr",
     "output_type": "stream",
     "text": [
      "[Succeeded / Failed / Skipped / Total] 16 / 2 / 0 / 18:   9%|▉         | 18/204 [2:44:14<28:17:06, 547.45s/it]"
     ]
    },
    {
     "name": "stdout",
     "output_type": "stream",
     "text": [
      "--------------------------------------------- Result 18 ---------------------------------------------\n",
      "[[Support (100%)]] --> [[[FAILED]]]\n",
      "\n",
      "BRCA 1 mutation carriers' risk of breast and ovarian cancer depends on where the mutation is located.\n",
      "\n",
      "\n"
     ]
    },
    {
     "name": "stderr",
     "output_type": "stream",
     "text": [
      "[Succeeded / Failed / Skipped / Total] 17 / 2 / 0 / 19:   9%|▉         | 19/204 [2:56:08<28:35:03, 556.24s/it]"
     ]
    },
    {
     "name": "stdout",
     "output_type": "stream",
     "text": [
      "--------------------------------------------- Result 19 ---------------------------------------------\n",
      "[[Support (100%)]] --> [[Refute (100%)]]\n",
      "\n",
      "Bacterial meningitis can be diagnosed on the [[basis]] of positive cerebrospinal fluid (CSF) cultures.\n",
      "\n",
      "Bacterial meningitis can be diagnosed on the [[absence]] of positive cerebrospinal fluid (CSF) cultures.\n",
      "\n",
      "\n"
     ]
    },
    {
     "name": "stderr",
     "output_type": "stream",
     "text": [
      "[Succeeded / Failed / Skipped / Total] 18 / 2 / 0 / 20:  10%|▉         | 20/204 [3:01:14<27:47:27, 543.73s/it]"
     ]
    },
    {
     "name": "stdout",
     "output_type": "stream",
     "text": [
      "--------------------------------------------- Result 20 ---------------------------------------------\n",
      "[[Support (100%)]] --> [[Refute (100%)]]\n",
      "\n",
      "Bariatric surgery leads to negative outcomes in [[mental]] health.\n",
      "\n",
      "Bariatric surgery leads to negative outcomes in [[abdominal]] health.\n",
      "\n",
      "\n"
     ]
    },
    {
     "name": "stderr",
     "output_type": "stream",
     "text": [
      "[Succeeded / Failed / Skipped / Total] 19 / 2 / 0 / 21:  10%|█         | 21/204 [3:09:08<27:28:13, 540.40s/it]"
     ]
    },
    {
     "name": "stdout",
     "output_type": "stream",
     "text": [
      "--------------------------------------------- Result 21 ---------------------------------------------\n",
      "[[Support (100%)]] --> [[Refute (100%)]]\n",
      "\n",
      "Bariatric surgery [[reduces]] colorectal cancer.\n",
      "\n",
      "Bariatric surgery [[acute]] colorectal cancer.\n",
      "\n",
      "\n"
     ]
    },
    {
     "name": "stderr",
     "output_type": "stream",
     "text": [
      "[Succeeded / Failed / Skipped / Total] 19 / 3 / 0 / 22:  11%|█         | 22/204 [3:18:24<27:21:19, 541.10s/it]"
     ]
    },
    {
     "name": "stdout",
     "output_type": "stream",
     "text": [
      "--------------------------------------------- Result 22 ---------------------------------------------\n",
      "[[Support (100%)]] --> [[[FAILED]]]\n",
      "\n",
      "Bariatric surgery reduces postmenopausal breast cancer.\n",
      "\n",
      "\n"
     ]
    },
    {
     "name": "stderr",
     "output_type": "stream",
     "text": [
      "[Succeeded / Failed / Skipped / Total] 20 / 3 / 0 / 23:  11%|█▏        | 23/204 [3:32:06<27:49:10, 553.32s/it]"
     ]
    },
    {
     "name": "stdout",
     "output_type": "stream",
     "text": [
      "--------------------------------------------- Result 23 ---------------------------------------------\n",
      "[[Support (100%)]] --> [[Refute (100%)]]\n",
      "\n",
      "Basophils promote disease development in [[patients]] with systemic lupus erythematosus (SLE).\n",
      "\n",
      "Basophils promote disease development in [[females]] with systemic lupus erythematosus (SLE).\n",
      "\n",
      "\n"
     ]
    },
    {
     "name": "stderr",
     "output_type": "stream",
     "text": [
      "[Succeeded / Failed / Skipped / Total] 20 / 4 / 0 / 24:  12%|█▏        | 24/204 [3:35:46<26:58:21, 539.45s/it]"
     ]
    },
    {
     "name": "stdout",
     "output_type": "stream",
     "text": [
      "--------------------------------------------- Result 24 ---------------------------------------------\n",
      "[[Support (100%)]] --> [[[FAILED]]]\n",
      "\n",
      "CCL19 is a ligand for CCR7.\n",
      "\n",
      "\n"
     ]
    },
    {
     "name": "stderr",
     "output_type": "stream",
     "text": [
      "[Succeeded / Failed / Skipped / Total] 20 / 5 / 0 / 25:  12%|█▏        | 25/204 [3:42:05<26:30:11, 533.03s/it]"
     ]
    },
    {
     "name": "stdout",
     "output_type": "stream",
     "text": [
      "--------------------------------------------- Result 25 ---------------------------------------------\n",
      "[[Support (100%)]] --> [[[FAILED]]]\n",
      "\n",
      "COPI coatmer is involved in lipid homeostasis.\n",
      "\n",
      "\n"
     ]
    },
    {
     "name": "stderr",
     "output_type": "stream",
     "text": [
      "[Succeeded / Failed / Skipped / Total] 21 / 5 / 0 / 26:  13%|█▎        | 26/204 [3:49:44<26:12:47, 530.16s/it]"
     ]
    },
    {
     "name": "stdout",
     "output_type": "stream",
     "text": [
      "--------------------------------------------- Result 26 ---------------------------------------------\n",
      "[[Support (100%)]] --> [[Refute (100%)]]\n",
      "\n",
      "Ca2+ cycling is a [[UCP1-dependent]] thermogenic mechanism.\n",
      "\n",
      "Ca2+ cycling is a [[rare]] thermogenic mechanism.\n",
      "\n",
      "\n"
     ]
    },
    {
     "name": "stderr",
     "output_type": "stream",
     "text": [
      "[Succeeded / Failed / Skipped / Total] 21 / 6 / 0 / 27:  13%|█▎        | 27/204 [4:24:12<28:52:02, 587.14s/it]"
     ]
    },
    {
     "name": "stdout",
     "output_type": "stream",
     "text": [
      "--------------------------------------------- Result 27 ---------------------------------------------\n",
      "[[Support (100%)]] --> [[[FAILED]]]\n",
      "\n",
      "Cancer cells can stimulate the accumulation of intra-tumoural myeloid-derived suppressor cells by promoting granulocyte colony stimulating factor production.\n",
      "\n",
      "\n"
     ]
    },
    {
     "name": "stderr",
     "output_type": "stream",
     "text": [
      "[Succeeded / Failed / Skipped / Total] 22 / 6 / 0 / 28:  14%|█▎        | 28/204 [4:31:47<28:28:23, 582.41s/it]"
     ]
    },
    {
     "name": "stdout",
     "output_type": "stream",
     "text": [
      "--------------------------------------------- Result 28 ---------------------------------------------\n",
      "[[Support (100%)]] --> [[Refute (100%)]]\n",
      "\n",
      "Cancers that initially benefit from epidermal growth factor receptor targeted therapies [[later]] become refractory through several mechanisms.\n",
      "\n",
      "Cancers that initially benefit from epidermal growth factor receptor targeted therapies [[rarely]] become refractory through several mechanisms.\n",
      "\n",
      "\n"
     ]
    },
    {
     "name": "stderr",
     "output_type": "stream",
     "text": [
      "[Succeeded / Failed / Skipped / Total] 22 / 7 / 0 / 29:  14%|█▍        | 29/204 [5:02:12<30:23:39, 625.25s/it]"
     ]
    },
    {
     "name": "stdout",
     "output_type": "stream",
     "text": [
      "--------------------------------------------- Result 29 ---------------------------------------------\n",
      "[[Support (100%)]] --> [[[FAILED]]]\n",
      "\n",
      "Cellular differentiation of embryonic stem cells is accompanied by changes in replication timing, transcription and nuclear localization.\n",
      "\n",
      "\n"
     ]
    },
    {
     "name": "stderr",
     "output_type": "stream",
     "text": [
      "[Succeeded / Failed / Skipped / Total] 23 / 7 / 0 / 30:  15%|█▍        | 30/204 [5:08:10<29:47:25, 616.35s/it]"
     ]
    },
    {
     "name": "stdout",
     "output_type": "stream",
     "text": [
      "--------------------------------------------- Result 30 ---------------------------------------------\n",
      "[[Support (100%)]] --> [[Refute (100%)]]\n",
      "\n",
      "Chenodeoxycholic acid treatment [[increases]] brown adipose tissue activity.\n",
      "\n",
      "Chenodeoxycholic acid treatment [[decreased]] brown adipose tissue activity.\n",
      "\n",
      "\n"
     ]
    },
    {
     "name": "stderr",
     "output_type": "stream",
     "text": [
      "[Succeeded / Failed / Skipped / Total] 24 / 7 / 0 / 31:  15%|█▌        | 31/204 [5:26:19<30:21:05, 631.59s/it]"
     ]
    },
    {
     "name": "stdout",
     "output_type": "stream",
     "text": [
      "--------------------------------------------- Result 31 ---------------------------------------------\n",
      "[[Support (100%)]] --> [[Refute (100%)]]\n",
      "\n",
      "Cnn1 recruitment varies with cell [[cycle]] timing.\n",
      "\n",
      "Cnn1 recruitment varies with cell [[clock]] timing.\n",
      "\n",
      "\n"
     ]
    },
    {
     "name": "stderr",
     "output_type": "stream",
     "text": [
      "[Succeeded / Failed / Skipped / Total] 25 / 7 / 0 / 32:  16%|█▌        | 32/204 [5:42:18<30:39:56, 641.84s/it]"
     ]
    },
    {
     "name": "stdout",
     "output_type": "stream",
     "text": [
      "--------------------------------------------- Result 32 ---------------------------------------------\n",
      "[[Support (100%)]] --> [[Refute (100%)]]\n",
      "\n",
      "Deregulation of HAND2 is a crucial step in [[endometrial]] carcinogenesis in mice.\n",
      "\n",
      "Deregulation of HAND2 is a crucial step in [[male]] carcinogenesis in mice.\n",
      "\n",
      "\n"
     ]
    },
    {
     "name": "stderr",
     "output_type": "stream",
     "text": [
      "[Succeeded / Failed / Skipped / Total] 26 / 7 / 0 / 33:  16%|█▌        | 33/204 [5:52:56<30:28:50, 641.70s/it]"
     ]
    },
    {
     "name": "stdout",
     "output_type": "stream",
     "text": [
      "--------------------------------------------- Result 33 ---------------------------------------------\n",
      "[[Support (100%)]] --> [[Refute (100%)]]\n",
      "\n",
      "Diabetes remission occurs [[less]] in people treated with conventional therapy than in people treated with laparoscopic adjustable gastric banding surgery.\n",
      "\n",
      "Diabetes remission occurs [[more]] in people treated with conventional therapy than in people treated with laparoscopic adjustable gastric banding surgery.\n",
      "\n",
      "\n"
     ]
    },
    {
     "name": "stderr",
     "output_type": "stream",
     "text": [
      "[Succeeded / Failed / Skipped / Total] 27 / 7 / 0 / 34:  17%|█▋        | 34/204 [5:57:54<29:49:34, 631.62s/it]"
     ]
    },
    {
     "name": "stdout",
     "output_type": "stream",
     "text": [
      "--------------------------------------------- Result 34 ---------------------------------------------\n",
      "[[Support (100%)]] --> [[Refute (100%)]]\n",
      "\n",
      "Egr2 [[regulates]] the homeostasis of B and T cells.\n",
      "\n",
      "Egr2 [[decreases]] the homeostasis of B and T cells.\n",
      "\n",
      "\n"
     ]
    },
    {
     "name": "stderr",
     "output_type": "stream",
     "text": [
      "[Succeeded / Failed / Skipped / Total] 28 / 7 / 0 / 35:  17%|█▋        | 35/204 [6:16:01<30:15:40, 644.62s/it]"
     ]
    },
    {
     "name": "stdout",
     "output_type": "stream",
     "text": [
      "--------------------------------------------- Result 35 ---------------------------------------------\n",
      "[[Support (100%)]] --> [[Refute (100%)]]\n",
      "\n",
      "Eilat virus (EILV) produced in mosquitos elicits rapid and [[long-lasting]] neutralizing antibodies in nonhuman primates.\n",
      "\n",
      "Eilat virus (EILV) produced in mosquitos elicits rapid and [[non]] neutralizing antibodies in nonhuman primates.\n",
      "\n",
      "\n"
     ]
    },
    {
     "name": "stderr",
     "output_type": "stream",
     "text": [
      "[Succeeded / Failed / Skipped / Total] 29 / 7 / 0 / 36:  18%|█▊        | 36/204 [6:20:29<29:35:37, 634.15s/it]"
     ]
    },
    {
     "name": "stdout",
     "output_type": "stream",
     "text": [
      "--------------------------------------------- Result 36 ---------------------------------------------\n",
      "[[Support (100%)]] --> [[Refute (100%)]]\n",
      "\n",
      "Elevated [[cell-free]] mitochondrial DNA levels are associated with mortality.\n",
      "\n",
      "Elevated [[female]] mitochondrial DNA levels are associated with mortality.\n",
      "\n",
      "\n"
     ]
    },
    {
     "name": "stderr",
     "output_type": "stream",
     "text": [
      "[Succeeded / Failed / Skipped / Total] 30 / 7 / 0 / 37:  18%|█▊        | 37/204 [6:31:25<29:26:41, 634.74s/it]"
     ]
    },
    {
     "name": "stdout",
     "output_type": "stream",
     "text": [
      "--------------------------------------------- Result 37 ---------------------------------------------\n",
      "[[Support (100%)]] --> [[Refute (100%)]]\n",
      "\n",
      "Environmental factors can [[influence]] the development of breast cancer.\n",
      "\n",
      "Environmental factors can [[enhance]] the development of breast cancer.\n",
      "\n",
      "\n"
     ]
    },
    {
     "name": "stderr",
     "output_type": "stream",
     "text": [
      "[Succeeded / Failed / Skipped / Total] 30 / 8 / 0 / 38:  19%|█▊        | 38/204 [6:44:49<29:28:26, 639.20s/it]"
     ]
    },
    {
     "name": "stdout",
     "output_type": "stream",
     "text": [
      "--------------------------------------------- Result 38 ---------------------------------------------\n",
      "[[Support (100%)]] --> [[[FAILED]]]\n",
      "\n",
      "Environmentally-induced senescence is mimicked in disease modeling by adding specific molecules to the culture system.\n",
      "\n",
      "\n"
     ]
    },
    {
     "name": "stderr",
     "output_type": "stream",
     "text": [
      "[Succeeded / Failed / Skipped / Total] 31 / 8 / 0 / 39:  19%|█▉        | 39/204 [6:48:34<28:48:36, 628.59s/it]"
     ]
    },
    {
     "name": "stdout",
     "output_type": "stream",
     "text": [
      "--------------------------------------------- Result 39 ---------------------------------------------\n",
      "[[Support (100%)]] --> [[Refute (100%)]]\n",
      "\n",
      "Excess [[gestational]] weight gain is associated with obesity-related pregnancy outcomes.\n",
      "\n",
      "Excess [[normal]] weight gain is associated with obesity-related pregnancy outcomes.\n",
      "\n",
      "\n"
     ]
    },
    {
     "name": "stderr",
     "output_type": "stream",
     "text": [
      "[Succeeded / Failed / Skipped / Total] 32 / 8 / 0 / 40:  20%|█▉        | 40/204 [6:58:58<28:37:49, 628.47s/it]"
     ]
    },
    {
     "name": "stdout",
     "output_type": "stream",
     "text": [
      "--------------------------------------------- Result 40 ---------------------------------------------\n",
      "[[Support (100%)]] --> [[Refute (100%)]]\n",
      "\n",
      "Female carriers of the Apolipoprotein E4 (APOE4) allele have [[increased]] risk for Alzheimer's disease.\n",
      "\n",
      "Female carriers of the Apolipoprotein E4 (APOE4) allele have [[decreased]] risk for Alzheimer's disease.\n",
      "\n",
      "\n"
     ]
    },
    {
     "name": "stderr",
     "output_type": "stream",
     "text": [
      "[Succeeded / Failed / Skipped / Total] 33 / 8 / 0 / 41:  20%|██        | 41/204 [7:00:18<27:50:57, 615.08s/it]"
     ]
    },
    {
     "name": "stdout",
     "output_type": "stream",
     "text": [
      "--------------------------------------------- Result 41 ---------------------------------------------\n",
      "[[Support (100%)]] --> [[Refute (100%)]]\n",
      "\n",
      "Forkhead 0 ([[fox0]]) transcription factors are involved in apoptosis.\n",
      "\n",
      "Forkhead 0 ([[unknown]]) transcription factors are involved in apoptosis.\n",
      "\n",
      "\n"
     ]
    },
    {
     "name": "stderr",
     "output_type": "stream",
     "text": [
      "[Succeeded / Failed / Skipped / Total] 33 / 9 / 0 / 42:  21%|██        | 42/204 [7:09:05<27:35:03, 612.98s/it]"
     ]
    },
    {
     "name": "stdout",
     "output_type": "stream",
     "text": [
      "--------------------------------------------- Result 42 ---------------------------------------------\n",
      "[[Support (100%)]] --> [[[FAILED]]]\n",
      "\n",
      "Forkhead 0 (fox0) transcription factors are involved in cellular differentiation.\n",
      "\n",
      "\n"
     ]
    },
    {
     "name": "stderr",
     "output_type": "stream",
     "text": [
      "[Succeeded / Failed / Skipped / Total] 34 / 9 / 0 / 43:  21%|██        | 43/204 [7:16:50<27:15:37, 609.55s/it]"
     ]
    },
    {
     "name": "stdout",
     "output_type": "stream",
     "text": [
      "--------------------------------------------- Result 43 ---------------------------------------------\n",
      "[[Support (100%)]] --> [[Refute (100%)]]\n",
      "\n",
      "FoxO3a activation in [[neuronal]] death is inhibited by reactive oxygen species (ROS).\n",
      "\n",
      "FoxO3a activation in [[bacterial]] death is inhibited by reactive oxygen species (ROS).\n",
      "\n",
      "\n"
     ]
    },
    {
     "name": "stderr",
     "output_type": "stream",
     "text": [
      "[Succeeded / Failed / Skipped / Total] 35 / 9 / 0 / 44:  22%|██▏       | 44/204 [7:20:29<26:41:48, 600.68s/it]"
     ]
    },
    {
     "name": "stdout",
     "output_type": "stream",
     "text": [
      "--------------------------------------------- Result 44 ---------------------------------------------\n",
      "[[Support (100%)]] --> [[Refute (100%)]]\n",
      "\n",
      "Gastric [[infection]] with Helicobacter pylori increases risk of gastric cancer in humans.\n",
      "\n",
      "Gastric [[blockade]] with Helicobacter pylori increases risk of gastric cancer in humans.\n",
      "\n",
      "\n"
     ]
    },
    {
     "name": "stderr",
     "output_type": "stream",
     "text": [
      "[Succeeded / Failed / Skipped / Total] 36 / 9 / 0 / 45:  22%|██▏       | 45/204 [7:24:55<26:12:04, 593.24s/it]"
     ]
    },
    {
     "name": "stdout",
     "output_type": "stream",
     "text": [
      "--------------------------------------------- Result 45 ---------------------------------------------\n",
      "[[Support (100%)]] --> [[Refute (100%)]]\n",
      "\n",
      "Genes [[involved]] in pre-mRNA splicing have a significant impact on genome stability.\n",
      "\n",
      "Genes [[associated]] in pre-mRNA splicing have a significant impact on genome stability.\n",
      "\n",
      "\n"
     ]
    },
    {
     "name": "stderr",
     "output_type": "stream",
     "text": [
      "[Succeeded / Failed / Skipped / Total] 37 / 9 / 0 / 46:  23%|██▎       | 46/204 [7:28:09<25:39:19, 584.56s/it]"
     ]
    },
    {
     "name": "stdout",
     "output_type": "stream",
     "text": [
      "--------------------------------------------- Result 46 ---------------------------------------------\n",
      "[[Support (100%)]] --> [[Refute (100%)]]\n",
      "\n",
      "Genetic [[deficiency]] of mast cells leads to decreased weight gain in a mouse model of diet-induced obesity.\n",
      "\n",
      "Genetic [[disorders]] of mast cells leads to decreased weight gain in a mouse model of diet-induced obesity.\n",
      "\n",
      "\n"
     ]
    },
    {
     "name": "stderr",
     "output_type": "stream",
     "text": [
      "[Succeeded / Failed / Skipped / Total] 37 / 10 / 0 / 47:  23%|██▎       | 47/204 [7:43:57<25:49:49, 592.29s/it]"
     ]
    },
    {
     "name": "stdout",
     "output_type": "stream",
     "text": [
      "--------------------------------------------- Result 47 ---------------------------------------------\n",
      "[[Support (100%)]] --> [[[FAILED]]]\n",
      "\n",
      "Genomic aberrations of metastases provide information for targeted therapy.\n",
      "\n",
      "\n"
     ]
    },
    {
     "name": "stderr",
     "output_type": "stream",
     "text": [
      "[Succeeded / Failed / Skipped / Total] 37 / 11 / 0 / 48:  24%|██▎       | 48/204 [8:10:05<26:32:47, 612.62s/it]"
     ]
    },
    {
     "name": "stdout",
     "output_type": "stream",
     "text": [
      "--------------------------------------------- Result 48 ---------------------------------------------\n",
      "[[Support (100%)]] --> [[[FAILED]]]\n",
      "\n",
      "Glioblastoma multiforme (GBM) is characterized by extensive invasion, rapid growth, necrosis, and angiogenesis.\n",
      "\n",
      "\n"
     ]
    },
    {
     "name": "stderr",
     "output_type": "stream",
     "text": [
      "[Succeeded / Failed / Skipped / Total] 38 / 11 / 0 / 49:  24%|██▍       | 49/204 [8:15:04<26:06:04, 606.22s/it]"
     ]
    },
    {
     "name": "stdout",
     "output_type": "stream",
     "text": [
      "--------------------------------------------- Result 49 ---------------------------------------------\n",
      "[[Support (100%)]] --> [[Refute (100%)]]\n",
      "\n",
      "Gpr124 [[suppresses]] BBB breakdown in mouse models of ischemic stroke.\n",
      "\n",
      "Gpr124 [[increased]] BBB breakdown in mouse models of ischemic stroke.\n",
      "\n",
      "\n"
     ]
    },
    {
     "name": "stderr",
     "output_type": "stream",
     "text": [
      "[Succeeded / Failed / Skipped / Total] 39 / 11 / 0 / 50:  25%|██▍       | 50/204 [8:19:06<25:37:15, 598.93s/it]"
     ]
    },
    {
     "name": "stdout",
     "output_type": "stream",
     "text": [
      "--------------------------------------------- Result 50 ---------------------------------------------\n",
      "[[Support (100%)]] --> [[Refute (100%)]]\n",
      "\n",
      "Having a [[main]] partner improves HIV outcomes.\n",
      "\n",
      "Having a [[younger]] partner improves HIV outcomes.\n",
      "\n",
      "\n"
     ]
    },
    {
     "name": "stderr",
     "output_type": "stream",
     "text": [
      "[Succeeded / Failed / Skipped / Total] 40 / 11 / 0 / 51:  25%|██▌       | 51/204 [8:22:56<25:08:48, 591.69s/it]"
     ]
    },
    {
     "name": "stdout",
     "output_type": "stream",
     "text": [
      "--------------------------------------------- Result 51 ---------------------------------------------\n",
      "[[Support (100%)]] --> [[Refute (100%)]]\n",
      "\n",
      "Having a [[main]] partner worsens HIV outcomes.\n",
      "\n",
      "Having a [[better]] partner worsens HIV outcomes.\n",
      "\n",
      "\n"
     ]
    },
    {
     "name": "stderr",
     "output_type": "stream",
     "text": [
      "[Succeeded / Failed / Skipped / Total] 41 / 11 / 0 / 52:  25%|██▌       | 52/204 [8:25:35<24:37:52, 583.37s/it]"
     ]
    },
    {
     "name": "stdout",
     "output_type": "stream",
     "text": [
      "--------------------------------------------- Result 52 ---------------------------------------------\n",
      "[[Support (100%)]] --> [[Refute (100%)]]\n",
      "\n",
      "Headaches are [[correlated]] with cognitive impairment.\n",
      "\n",
      "Headaches are [[grouped]] with cognitive impairment.\n",
      "\n",
      "\n"
     ]
    },
    {
     "name": "stderr",
     "output_type": "stream",
     "text": [
      "[Succeeded / Failed / Skipped / Total] 42 / 11 / 0 / 53:  26%|██▌       | 53/204 [8:50:11<25:10:32, 600.22s/it]"
     ]
    },
    {
     "name": "stdout",
     "output_type": "stream",
     "text": [
      "--------------------------------------------- Result 53 ---------------------------------------------\n",
      "[[Support (100%)]] --> [[Refute (100%)]]\n",
      "\n",
      "Helminths interfere with immune system control of coinfections by microbial [[pathogens]] 16.\n",
      "\n",
      "Helminths interfere with immune system control of coinfections by microbial [[immunity]] 16.\n",
      "\n",
      "\n"
     ]
    },
    {
     "name": "stderr",
     "output_type": "stream",
     "text": [
      "[Succeeded / Failed / Skipped / Total] 43 / 11 / 0 / 54:  26%|██▋       | 54/204 [8:57:09<24:52:06, 596.84s/it]"
     ]
    },
    {
     "name": "stdout",
     "output_type": "stream",
     "text": [
      "--------------------------------------------- Result 54 ---------------------------------------------\n",
      "[[Support (100%)]] --> [[Refute (100%)]]\n",
      "\n",
      "High levels of CRP lead to a higher risk of [[exacerbations]] in chronic obstructive pulmonary disease (COPD).\n",
      "\n",
      "High levels of CRP lead to a higher risk of [[cancer]] in chronic obstructive pulmonary disease (COPD).\n",
      "\n",
      "\n"
     ]
    },
    {
     "name": "stderr",
     "output_type": "stream",
     "text": [
      "[Succeeded / Failed / Skipped / Total] 44 / 11 / 0 / 55:  27%|██▋       | 55/204 [8:59:27<24:21:27, 588.50s/it]"
     ]
    },
    {
     "name": "stdout",
     "output_type": "stream",
     "text": [
      "--------------------------------------------- Result 55 ---------------------------------------------\n",
      "[[Support (100%)]] --> [[Refute (100%)]]\n",
      "\n",
      "Higher plasma levels of [[I-carnitine]], when associated with trimethylamine N-oxide, are negatively correlated with cardiovascular events in humans.\n",
      "\n",
      "Higher plasma levels of [[ar]], when associated with trimethylamine N-oxide, are negatively correlated with cardiovascular events in humans.\n",
      "\n",
      "\n"
     ]
    },
    {
     "name": "stderr",
     "output_type": "stream",
     "text": [
      "[Succeeded / Failed / Skipped / Total] 45 / 11 / 0 / 56:  27%|██▋       | 56/204 [9:02:27<23:53:37, 581.20s/it]"
     ]
    },
    {
     "name": "stdout",
     "output_type": "stream",
     "text": [
      "--------------------------------------------- Result 56 ---------------------------------------------\n",
      "[[Support (100%)]] --> [[Refute (100%)]]\n",
      "\n",
      "Higher plasma levels of I-carnitine, when associated with trimethylamine N-oxide, are positively [[correlated]] with cardiovascular events in humans.\n",
      "\n",
      "Higher plasma levels of I-carnitine, when associated with trimethylamine N-oxide, are positively [[associated]] with cardiovascular events in humans.\n",
      "\n",
      "\n"
     ]
    },
    {
     "name": "stderr",
     "output_type": "stream",
     "text": [
      "[Succeeded / Failed / Skipped / Total] 46 / 11 / 0 / 57:  28%|██▊       | 57/204 [9:07:59<23:33:15, 576.84s/it]"
     ]
    },
    {
     "name": "stdout",
     "output_type": "stream",
     "text": [
      "--------------------------------------------- Result 57 ---------------------------------------------\n",
      "[[Support (100%)]] --> [[Refute (100%)]]\n",
      "\n",
      "Human embryonic stem cells [[give]] rise to cell types from all three embryonic germ layers.\n",
      "\n",
      "Human embryonic stem cells [[deny]] rise to cell types from all three embryonic germ layers.\n",
      "\n",
      "\n"
     ]
    },
    {
     "name": "stderr",
     "output_type": "stream",
     "text": [
      "[Succeeded / Failed / Skipped / Total] 46 / 12 / 0 / 58:  28%|██▊       | 58/204 [9:16:25<23:20:38, 575.61s/it]"
     ]
    },
    {
     "name": "stdout",
     "output_type": "stream",
     "text": [
      "--------------------------------------------- Result 58 ---------------------------------------------\n",
      "[[Support (100%)]] --> [[[FAILED]]]\n",
      "\n",
      "Human embryonic stem cells have the capacity to give rise to differentiated progeny representative of all three embryonic germ layers.\n",
      "\n",
      "\n"
     ]
    },
    {
     "name": "stderr",
     "output_type": "stream",
     "text": [
      "[Succeeded / Failed / Skipped / Total] 47 / 12 / 0 / 59:  29%|██▉       | 59/204 [9:34:15<23:31:18, 583.99s/it]"
     ]
    },
    {
     "name": "stdout",
     "output_type": "stream",
     "text": [
      "--------------------------------------------- Result 59 ---------------------------------------------\n",
      "[[Support (100%)]] --> [[Refute (100%)]]\n",
      "\n",
      "IFI16 impedes STING phosphorylation and translocation, resulting in [[reduced]] activation of STING.\n",
      "\n",
      "IFI16 impedes STING phosphorylation and translocation, resulting in [[full]] activation of STING.\n",
      "\n",
      "\n"
     ]
    },
    {
     "name": "stderr",
     "output_type": "stream",
     "text": [
      "[Succeeded / Failed / Skipped / Total] 48 / 12 / 0 / 60:  29%|██▉       | 60/204 [9:37:34<23:06:11, 577.58s/it]"
     ]
    },
    {
     "name": "stdout",
     "output_type": "stream",
     "text": [
      "--------------------------------------------- Result 60 ---------------------------------------------\n",
      "[[Support (100%)]] --> [[Refute (100%)]]\n",
      "\n",
      "IL-10 production by [[monocytes]] inhibits CD4 + T cell response.\n",
      "\n",
      "IL-10 production by [[antibodies]] inhibits CD4 + T cell response.\n",
      "\n",
      "\n"
     ]
    },
    {
     "name": "stderr",
     "output_type": "stream",
     "text": [
      "[Succeeded / Failed / Skipped / Total] 49 / 12 / 0 / 61:  30%|██▉       | 61/204 [9:42:55<22:46:31, 573.37s/it]"
     ]
    },
    {
     "name": "stdout",
     "output_type": "stream",
     "text": [
      "--------------------------------------------- Result 61 ---------------------------------------------\n",
      "[[Support (100%)]] --> [[Refute (100%)]]\n",
      "\n",
      "IL-6 [[signaling]] plays a major role in atherosclerotic cardiovascular disease.\n",
      "\n",
      "IL-6 [[deficiency]] plays a major role in atherosclerotic cardiovascular disease.\n",
      "\n",
      "\n"
     ]
    },
    {
     "name": "stderr",
     "output_type": "stream",
     "text": [
      "[Succeeded / Failed / Skipped / Total] 50 / 12 / 0 / 62:  30%|███       | 62/204 [9:56:06<22:45:17, 576.89s/it]"
     ]
    },
    {
     "name": "stdout",
     "output_type": "stream",
     "text": [
      "--------------------------------------------- Result 62 ---------------------------------------------\n",
      "[[Support (100%)]] --> [[Refute (100%)]]\n",
      "\n",
      "Immune responses in immune cells are [[geographically]] segregated.\n",
      "\n",
      "Immune responses in immune cells are [[always]] segregated.\n",
      "\n",
      "\n"
     ]
    },
    {
     "name": "stderr",
     "output_type": "stream",
     "text": [
      "[Succeeded / Failed / Skipped / Total] 51 / 12 / 0 / 63:  31%|███       | 63/204 [10:06:57<22:38:26, 578.06s/it]"
     ]
    },
    {
     "name": "stdout",
     "output_type": "stream",
     "text": [
      "--------------------------------------------- Result 63 ---------------------------------------------\n",
      "[[Support (100%)]] --> [[Refute (100%)]]\n",
      "\n",
      "In S. cerevisiae, the absence of RNA surveillance pathways [[causes]] sensitivity to high iron conditions.\n",
      "\n",
      "In S. cerevisiae, the absence of RNA surveillance pathways [[prevents]] sensitivity to high iron conditions.\n",
      "\n",
      "\n"
     ]
    },
    {
     "name": "stderr",
     "output_type": "stream",
     "text": [
      "[Succeeded / Failed / Skipped / Total] 52 / 12 / 0 / 64:  31%|███▏      | 64/204 [10:18:00<22:31:52, 579.38s/it]"
     ]
    },
    {
     "name": "stdout",
     "output_type": "stream",
     "text": [
      "--------------------------------------------- Result 64 ---------------------------------------------\n",
      "[[Support (100%)]] --> [[Refute (100%)]]\n",
      "\n",
      "In patients with [[congenital]] heart defects, β-blockers significantly improve clinical heart failure outcomes.\n",
      "\n",
      "In patients with [[chronic]] heart defects, β-blockers significantly improve clinical heart failure outcomes.\n",
      "\n",
      "\n"
     ]
    },
    {
     "name": "stderr",
     "output_type": "stream",
     "text": [
      "[Succeeded / Failed / Skipped / Total] 53 / 12 / 0 / 65:  32%|███▏      | 65/204 [10:22:24<22:11:00, 574.54s/it]"
     ]
    },
    {
     "name": "stdout",
     "output_type": "stream",
     "text": [
      "--------------------------------------------- Result 65 ---------------------------------------------\n",
      "[[Support (100%)]] --> [[Refute (100%)]]\n",
      "\n",
      "In rhesus macaques, [[daily]] subcutaneous injections of tenofovir protects against rectally transmitted simian-human immunodeficiency virus.\n",
      "\n",
      "In rhesus macaques, [[only]] subcutaneous injections of tenofovir protects against rectally transmitted simian-human immunodeficiency virus.\n",
      "\n",
      "\n"
     ]
    },
    {
     "name": "stderr",
     "output_type": "stream",
     "text": [
      "[Succeeded / Failed / Skipped / Total] 54 / 12 / 0 / 66:  32%|███▏      | 66/204 [10:26:11<21:49:19, 569.27s/it]"
     ]
    },
    {
     "name": "stdout",
     "output_type": "stream",
     "text": [
      "--------------------------------------------- Result 66 ---------------------------------------------\n",
      "[[Support (100%)]] --> [[Refute (100%)]]\n",
      "\n",
      "Incidence of [[sepsis]] has fallen substantially from 2009 to 2014.\n",
      "\n",
      "Incidence of [[abortion]] has fallen substantially from 2009 to 2014.\n",
      "\n",
      "\n"
     ]
    },
    {
     "name": "stderr",
     "output_type": "stream",
     "text": [
      "[Succeeded / Failed / Skipped / Total] 55 / 12 / 0 / 67:  33%|███▎      | 67/204 [10:41:11<21:51:05, 574.20s/it]"
     ]
    },
    {
     "name": "stdout",
     "output_type": "stream",
     "text": [
      "--------------------------------------------- Result 67 ---------------------------------------------\n",
      "[[Support (100%)]] --> [[Refute (100%)]]\n",
      "\n",
      "Induced hepatic stem cells possess the potential to [[differentiate]] into cholangiocytic cells.\n",
      "\n",
      "Induced hepatic stem cells possess the potential to [[decay]] into cholangiocytic cells.\n",
      "\n",
      "\n"
     ]
    },
    {
     "name": "stderr",
     "output_type": "stream",
     "text": [
      "[Succeeded / Failed / Skipped / Total] 56 / 12 / 0 / 68:  33%|███▎      | 68/204 [10:50:51<21:41:43, 574.29s/it]"
     ]
    },
    {
     "name": "stdout",
     "output_type": "stream",
     "text": [
      "--------------------------------------------- Result 68 ---------------------------------------------\n",
      "[[Support (100%)]] --> [[Refute (100%)]]\n",
      "\n",
      "Induced hepatic stem cells possess the potential to [[differentiate]] into hepatocytic cells.\n",
      "\n",
      "Induced hepatic stem cells possess the potential to [[decay]] into hepatocytic cells.\n",
      "\n",
      "\n"
     ]
    },
    {
     "name": "stderr",
     "output_type": "stream",
     "text": [
      "[Succeeded / Failed / Skipped / Total] 57 / 12 / 0 / 69:  34%|███▍      | 69/204 [10:55:00<21:21:31, 569.57s/it]"
     ]
    },
    {
     "name": "stdout",
     "output_type": "stream",
     "text": [
      "--------------------------------------------- Result 69 ---------------------------------------------\n",
      "[[Support (100%)]] --> [[Refute (100%)]]\n",
      "\n",
      "Inhibiting [[HDAC6]] increases survival of mice with ARID1A mutated tumors.\n",
      "\n",
      "Inhibiting [[activity]] increases survival of mice with ARID1A mutated tumors.\n",
      "\n",
      "\n"
     ]
    },
    {
     "name": "stderr",
     "output_type": "stream",
     "text": [
      "[Succeeded / Failed / Skipped / Total] 58 / 12 / 0 / 70:  34%|███▍      | 70/204 [10:59:15<21:02:00, 565.08s/it]"
     ]
    },
    {
     "name": "stdout",
     "output_type": "stream",
     "text": [
      "--------------------------------------------- Result 70 ---------------------------------------------\n",
      "[[Support (100%)]] --> [[Refute (100%)]]\n",
      "\n",
      "Inside the [[body]], falciparum parasites reproduce asexually.\n",
      "\n",
      "Inside the [[parasites]], falciparum parasites reproduce asexually.\n",
      "\n",
      "\n"
     ]
    },
    {
     "name": "stderr",
     "output_type": "stream",
     "text": [
      "[Succeeded / Failed / Skipped / Total] 59 / 12 / 0 / 71:  35%|███▍      | 71/204 [11:04:14<20:44:17, 561.34s/it]"
     ]
    },
    {
     "name": "stdout",
     "output_type": "stream",
     "text": [
      "--------------------------------------------- Result 71 ---------------------------------------------\n",
      "[[Support (100%)]] --> [[Refute (100%)]]\n",
      "\n",
      "Integrated care is [[successful]] at tackling multiple comorbidities.\n",
      "\n",
      "Integrated care is [[ineffective]] at tackling multiple comorbidities.\n",
      "\n",
      "\n"
     ]
    },
    {
     "name": "stderr",
     "output_type": "stream",
     "text": [
      "[Succeeded / Failed / Skipped / Total] 60 / 12 / 0 / 72:  35%|███▌      | 72/204 [11:14:46<20:37:05, 562.31s/it]"
     ]
    },
    {
     "name": "stdout",
     "output_type": "stream",
     "text": [
      "--------------------------------------------- Result 72 ---------------------------------------------\n",
      "[[Support (100%)]] --> [[Refute (100%)]]\n",
      "\n",
      "Interleukin-18 plays an [[important]] role in the pathogenesis of atherosclerosis.\n",
      "\n",
      "Interleukin-18 plays an [[autonomous]] role in the pathogenesis of atherosclerosis.\n",
      "\n",
      "\n"
     ]
    },
    {
     "name": "stderr",
     "output_type": "stream",
     "text": [
      "[Succeeded / Failed / Skipped / Total] 61 / 12 / 0 / 73:  36%|███▌      | 73/204 [11:17:09<20:15:10, 556.57s/it]"
     ]
    },
    {
     "name": "stdout",
     "output_type": "stream",
     "text": [
      "--------------------------------------------- Result 73 ---------------------------------------------\n",
      "[[Support (100%)]] --> [[Refute (100%)]]\n",
      "\n",
      "Klf2 is [[important]] for proper myeloid cell function.\n",
      "\n",
      "Klf2 is [[negative]] for proper myeloid cell function.\n",
      "\n",
      "\n"
     ]
    },
    {
     "name": "stderr",
     "output_type": "stream",
     "text": [
      "[Succeeded / Failed / Skipped / Total] 62 / 12 / 0 / 74:  36%|███▋      | 74/204 [11:19:34<19:53:51, 551.01s/it]"
     ]
    },
    {
     "name": "stdout",
     "output_type": "stream",
     "text": [
      "--------------------------------------------- Result 74 ---------------------------------------------\n",
      "[[Support (100%)]] --> [[Refute (100%)]]\n",
      "\n",
      "Klf4 is [[important]] for proper myeloid cell differentiation.\n",
      "\n",
      "Klf4 is [[icient]] for proper myeloid cell differentiation.\n",
      "\n",
      "\n"
     ]
    },
    {
     "name": "stderr",
     "output_type": "stream",
     "text": [
      "[Succeeded / Failed / Skipped / Total] 63 / 12 / 0 / 75:  37%|███▋      | 75/204 [11:25:19<19:38:45, 548.26s/it]"
     ]
    },
    {
     "name": "stdout",
     "output_type": "stream",
     "text": [
      "--------------------------------------------- Result 75 ---------------------------------------------\n",
      "[[Support (100%)]] --> [[Refute (100%)]]\n",
      "\n",
      "LDL cholesterol has a [[causal]] role in the development of cardiovascular disease.\n",
      "\n",
      "LDL cholesterol has a [[beneficial]] role in the development of cardiovascular disease.\n",
      "\n",
      "\n"
     ]
    },
    {
     "name": "stderr",
     "output_type": "stream",
     "text": [
      "[Succeeded / Failed / Skipped / Total] 64 / 12 / 0 / 76:  37%|███▋      | 76/204 [11:37:15<19:34:19, 550.47s/it]"
     ]
    },
    {
     "name": "stdout",
     "output_type": "stream",
     "text": [
      "--------------------------------------------- Result 76 ---------------------------------------------\n",
      "[[Support (100%)]] --> [[Refute (100%)]]\n",
      "\n",
      "Lice attenuated SIV vaccines [[induce]] a stronger antigen-specific T cell response in lymph node cells.\n",
      "\n",
      "Lice attenuated SIV vaccines [[inhibit]] a stronger antigen-specific T cell response in lymph node cells.\n",
      "\n",
      "\n"
     ]
    },
    {
     "name": "stderr",
     "output_type": "stream",
     "text": [
      "[Succeeded / Failed / Skipped / Total] 65 / 12 / 0 / 77:  38%|███▊      | 77/204 [11:47:18<19:26:35, 551.15s/it]"
     ]
    },
    {
     "name": "stdout",
     "output_type": "stream",
     "text": [
      "--------------------------------------------- Result 77 ---------------------------------------------\n",
      "[[Support (100%)]] --> [[Refute (100%)]]\n",
      "\n",
      "MEK inhibitors are [[effective]] treatments in RAS-driven mouse models of cancer.\n",
      "\n",
      "MEK inhibitors are [[ineffective]] treatments in RAS-driven mouse models of cancer.\n",
      "\n",
      "\n"
     ]
    },
    {
     "name": "stderr",
     "output_type": "stream",
     "text": [
      "[Succeeded / Failed / Skipped / Total] 65 / 13 / 0 / 78:  38%|███▊      | 78/204 [12:10:40<19:40:19, 562.06s/it]"
     ]
    },
    {
     "name": "stdout",
     "output_type": "stream",
     "text": [
      "--------------------------------------------- Result 78 ---------------------------------------------\n",
      "[[Support (100%)]] --> [[[FAILED]]]\n",
      "\n",
      "MICAL redox enzymes regulate actin dynamics in many cell types.\n",
      "\n",
      "\n"
     ]
    },
    {
     "name": "stderr",
     "output_type": "stream",
     "text": [
      "[Succeeded / Failed / Skipped / Total] 65 / 14 / 0 / 79:  39%|███▊      | 79/204 [12:20:58<19:32:26, 562.77s/it]"
     ]
    },
    {
     "name": "stdout",
     "output_type": "stream",
     "text": [
      "--------------------------------------------- Result 79 ---------------------------------------------\n",
      "[[Support (100%)]] --> [[[FAILED]]]\n",
      "\n",
      "MICAL redox enzymes regulate actin dynamics.\n",
      "\n",
      "\n"
     ]
    },
    {
     "name": "stderr",
     "output_type": "stream",
     "text": [
      "[Succeeded / Failed / Skipped / Total] 66 / 14 / 0 / 80:  39%|███▉      | 80/204 [12:26:11<19:16:35, 559.64s/it]"
     ]
    },
    {
     "name": "stdout",
     "output_type": "stream",
     "text": [
      "--------------------------------------------- Result 80 ---------------------------------------------\n",
      "[[Support (100%)]] --> [[Refute (100%)]]\n",
      "\n",
      "Medications to [[treat]] obesity are highly effective.\n",
      "\n",
      "Medications to [[curb]] obesity are highly effective.\n",
      "\n",
      "\n"
     ]
    },
    {
     "name": "stderr",
     "output_type": "stream",
     "text": [
      "[Succeeded / Failed / Skipped / Total] 67 / 14 / 0 / 81:  40%|███▉      | 81/204 [12:34:35<19:05:52, 558.96s/it]"
     ]
    },
    {
     "name": "stdout",
     "output_type": "stream",
     "text": [
      "--------------------------------------------- Result 81 ---------------------------------------------\n",
      "[[Support (100%)]] --> [[Refute (100%)]]\n",
      "\n",
      "Medications to treat obesity have unwanted [[side]] effects.\n",
      "\n",
      "Medications to treat obesity have unwanted [[domino]] effects.\n",
      "\n",
      "\n"
     ]
    },
    {
     "name": "stderr",
     "output_type": "stream",
     "text": [
      "[Succeeded / Failed / Skipped / Total] 68 / 14 / 0 / 82:  40%|████      | 82/204 [12:40:21<18:51:16, 556.36s/it]"
     ]
    },
    {
     "name": "stdout",
     "output_type": "stream",
     "text": [
      "--------------------------------------------- Result 82 ---------------------------------------------\n",
      "[[Support (100%)]] --> [[Refute (100%)]]\n",
      "\n",
      "Men are more [[susceptible]] to death due to pneumonia when compared to women.\n",
      "\n",
      "Men are more [[afraid]] to death due to pneumonia when compared to women.\n",
      "\n",
      "\n"
     ]
    },
    {
     "name": "stderr",
     "output_type": "stream",
     "text": [
      "[Succeeded / Failed / Skipped / Total] 69 / 14 / 0 / 83:  41%|████      | 83/204 [12:58:30<18:54:55, 562.77s/it]"
     ]
    },
    {
     "name": "stdout",
     "output_type": "stream",
     "text": [
      "--------------------------------------------- Result 83 ---------------------------------------------\n",
      "[[Support (100%)]] --> [[Refute (100%)]]\n",
      "\n",
      "Metastatic colorectal cancer treated with a single agent fluoropyrimidines [[resulted]] in similar efficacy and better quality of life when compared with oxaliplatin-based chemotherapy in elderly patients.\n",
      "\n",
      "Metastatic colorectal cancer treated with a single agent fluoropyrimidines [[differing]] in similar efficacy and better quality of life when compared with oxaliplatin-based chemotherapy in elderly patients.\n",
      "\n",
      "\n"
     ]
    },
    {
     "name": "stderr",
     "output_type": "stream",
     "text": [
      "[Succeeded / Failed / Skipped / Total] 70 / 14 / 0 / 84:  41%|████      | 84/204 [13:02:06<18:37:17, 558.64s/it]"
     ]
    },
    {
     "name": "stdout",
     "output_type": "stream",
     "text": [
      "--------------------------------------------- Result 84 ---------------------------------------------\n",
      "[[Support (100%)]] --> [[Refute (100%)]]\n",
      "\n",
      "Mice [[lacking]] Sirt1 in Sf1-expressing neurons have increased susceptibility to diet-induced obesity and insulin resistance.\n",
      "\n",
      "Mice [[given]] Sirt1 in Sf1-expressing neurons have increased susceptibility to diet-induced obesity and insulin resistance.\n",
      "\n",
      "\n"
     ]
    },
    {
     "name": "stderr",
     "output_type": "stream",
     "text": [
      "[Succeeded / Failed / Skipped / Total] 71 / 14 / 0 / 85:  42%|████▏     | 85/204 [13:07:25<18:22:23, 555.83s/it]"
     ]
    },
    {
     "name": "stdout",
     "output_type": "stream",
     "text": [
      "--------------------------------------------- Result 85 ---------------------------------------------\n",
      "[[Support (100%)]] --> [[Refute (100%)]]\n",
      "\n",
      "Mice that [[lack]] Interferon-γ or its receptor are highly susceptible to experimental autoimmune myocarditis.\n",
      "\n",
      "Mice that [[activate]] Interferon-γ or its receptor are highly susceptible to experimental autoimmune myocarditis.\n",
      "\n",
      "\n"
     ]
    },
    {
     "name": "stderr",
     "output_type": "stream",
     "text": [
      "[Succeeded / Failed / Skipped / Total] 72 / 14 / 0 / 86:  42%|████▏     | 86/204 [13:11:51<18:06:30, 552.46s/it]"
     ]
    },
    {
     "name": "stdout",
     "output_type": "stream",
     "text": [
      "--------------------------------------------- Result 86 ---------------------------------------------\n",
      "[[Support (100%)]] --> [[Refute (100%)]]\n",
      "\n",
      "Microglia are an [[innate]] immune cell type of the central nervous system.\n",
      "\n",
      "Microglia are an [[abnormal]] immune cell type of the central nervous system.\n",
      "\n",
      "\n"
     ]
    },
    {
     "name": "stderr",
     "output_type": "stream",
     "text": [
      "[Succeeded / Failed / Skipped / Total] 73 / 14 / 0 / 87:  43%|████▎     | 87/204 [13:16:15<17:50:49, 549.14s/it]"
     ]
    },
    {
     "name": "stdout",
     "output_type": "stream",
     "text": [
      "--------------------------------------------- Result 87 ---------------------------------------------\n",
      "[[Support (100%)]] --> [[Refute (100%)]]\n",
      "\n",
      "Microglia are an [[innate]] immune cell type of the peripheral nervous system.\n",
      "\n",
      "Microglia are an [[abnormal]] immune cell type of the peripheral nervous system.\n",
      "\n",
      "\n"
     ]
    },
    {
     "name": "stderr",
     "output_type": "stream",
     "text": [
      "[Succeeded / Failed / Skipped / Total] 74 / 14 / 0 / 88:  43%|████▎     | 88/204 [13:21:41<17:36:46, 546.61s/it]"
     ]
    },
    {
     "name": "stdout",
     "output_type": "stream",
     "text": [
      "--------------------------------------------- Result 88 ---------------------------------------------\n",
      "[[Support (100%)]] --> [[Refute (100%)]]\n",
      "\n",
      "Migraine with [[aura]] is associated with ischemic stroke.\n",
      "\n",
      "Migraine with [[amnesia]] is associated with ischemic stroke.\n",
      "\n",
      "\n"
     ]
    },
    {
     "name": "stderr",
     "output_type": "stream",
     "text": [
      "[Succeeded / Failed / Skipped / Total] 75 / 14 / 0 / 89:  44%|████▎     | 89/204 [13:34:32<17:32:29, 549.13s/it]"
     ]
    },
    {
     "name": "stdout",
     "output_type": "stream",
     "text": [
      "--------------------------------------------- Result 89 ---------------------------------------------\n",
      "[[Support (100%)]] --> [[Refute (100%)]]\n",
      "\n",
      "Misunderstandings between doctors and patients can [[lead]] to non-adherence.\n",
      "\n",
      "Misunderstandings between doctors and patients can [[compare]] to non-adherence.\n",
      "\n",
      "\n"
     ]
    },
    {
     "name": "stderr",
     "output_type": "stream",
     "text": [
      "[Succeeded / Failed / Skipped / Total] 76 / 14 / 0 / 90:  44%|████▍     | 90/204 [13:39:24<17:17:54, 546.27s/it]"
     ]
    },
    {
     "name": "stdout",
     "output_type": "stream",
     "text": [
      "--------------------------------------------- Result 90 ---------------------------------------------\n",
      "[[Support (100%)]] --> [[Refute (100%)]]\n",
      "\n",
      "Mitochondria [[play]] a major role in apoptosis.\n",
      "\n",
      "Mitochondria [[lack]] a major role in apoptosis.\n",
      "\n",
      "\n"
     ]
    },
    {
     "name": "stderr",
     "output_type": "stream",
     "text": [
      "[Succeeded / Failed / Skipped / Total] 77 / 14 / 0 / 91:  45%|████▍     | 91/204 [13:46:29<17:06:18, 544.94s/it]"
     ]
    },
    {
     "name": "stdout",
     "output_type": "stream",
     "text": [
      "--------------------------------------------- Result 91 ---------------------------------------------\n",
      "[[Support (100%)]] --> [[Refute (100%)]]\n",
      "\n",
      "Mitochondria play a [[major]] role in energy production.\n",
      "\n",
      "Mitochondria play a [[limited]] role in energy production.\n",
      "\n",
      "\n"
     ]
    },
    {
     "name": "stderr",
     "output_type": "stream",
     "text": [
      "[Succeeded / Failed / Skipped / Total] 78 / 14 / 0 / 92:  45%|████▌     | 92/204 [13:59:12<17:01:38, 547.31s/it]"
     ]
    },
    {
     "name": "stdout",
     "output_type": "stream",
     "text": [
      "--------------------------------------------- Result 92 ---------------------------------------------\n",
      "[[Support (100%)]] --> [[Refute (100%)]]\n",
      "\n",
      "Monoclonal antibody targeting of [[N-cadherin]] inhibits growth.\n",
      "\n",
      "Monoclonal antibody targeting of [[m2]] inhibits growth.\n",
      "\n",
      "\n"
     ]
    },
    {
     "name": "stderr",
     "output_type": "stream",
     "text": [
      "[Succeeded / Failed / Skipped / Total] 79 / 14 / 0 / 93:  46%|████▌     | 93/204 [14:06:11<16:49:57, 545.93s/it]"
     ]
    },
    {
     "name": "stdout",
     "output_type": "stream",
     "text": [
      "--------------------------------------------- Result 93 ---------------------------------------------\n",
      "[[Support (100%)]] --> [[Refute (100%)]]\n",
      "\n",
      "Myelin sheaths [[play]] a role in action potential propagation.\n",
      "\n",
      "Myelin sheaths [[lack]] a role in action potential propagation.\n",
      "\n",
      "\n"
     ]
    },
    {
     "name": "stderr",
     "output_type": "stream",
     "text": [
      "[Succeeded / Failed / Skipped / Total] 80 / 14 / 0 / 94:  46%|████▌     | 94/204 [14:11:43<16:36:41, 543.65s/it]"
     ]
    },
    {
     "name": "stdout",
     "output_type": "stream",
     "text": [
      "--------------------------------------------- Result 94 ---------------------------------------------\n",
      "[[Support (100%)]] --> [[Refute (100%)]]\n",
      "\n",
      "Natriuretic [[peptides]] protect against diabetes.\n",
      "\n",
      "Natriuretic [[dogs]] protect against diabetes.\n",
      "\n",
      "\n"
     ]
    },
    {
     "name": "stderr",
     "output_type": "stream",
     "text": [
      "[Succeeded / Failed / Skipped / Total] 81 / 14 / 0 / 95:  47%|████▋     | 95/204 [14:18:11<16:24:39, 542.01s/it]"
     ]
    },
    {
     "name": "stdout",
     "output_type": "stream",
     "text": [
      "--------------------------------------------- Result 95 ---------------------------------------------\n",
      "[[Support (100%)]] --> [[Refute (100%)]]\n",
      "\n",
      "Neutrophils [[produce]] IL-1β in response to large particles.\n",
      "\n",
      "Neutrophils [[gain]] IL-1β in response to large particles.\n",
      "\n",
      "\n"
     ]
    },
    {
     "name": "stderr",
     "output_type": "stream",
     "text": [
      "[Succeeded / Failed / Skipped / Total] 82 / 14 / 0 / 96:  47%|████▋     | 96/204 [14:26:26<16:14:44, 541.52s/it]"
     ]
    },
    {
     "name": "stdout",
     "output_type": "stream",
     "text": [
      "--------------------------------------------- Result 96 ---------------------------------------------\n",
      "[[Support (100%)]] --> [[Refute (100%)]]\n",
      "\n",
      "Nonsteroidal antinflammatory drugs [[show]] potential anticancer indications.\n",
      "\n",
      "Nonsteroidal antinflammatory drugs [[reduce]] potential anticancer indications.\n",
      "\n",
      "\n"
     ]
    },
    {
     "name": "stderr",
     "output_type": "stream",
     "text": [
      "[Succeeded / Failed / Skipped / Total] 83 / 14 / 0 / 97:  48%|████▊     | 97/204 [14:33:11<16:03:13, 540.12s/it]"
     ]
    },
    {
     "name": "stdout",
     "output_type": "stream",
     "text": [
      "--------------------------------------------- Result 97 ---------------------------------------------\n",
      "[[Support (100%)]] --> [[Refute (100%)]]\n",
      "\n",
      "PD-1 [[triggering]] on monocytes enhances IL-10 production by monocytes.\n",
      "\n",
      "PD-1 [[accumulation]] on monocytes enhances IL-10 production by monocytes.\n",
      "\n",
      "\n"
     ]
    },
    {
     "name": "stderr",
     "output_type": "stream",
     "text": [
      "[Succeeded / Failed / Skipped / Total] 84 / 14 / 0 / 98:  48%|████▊     | 98/204 [14:36:12<15:47:44, 536.45s/it]"
     ]
    },
    {
     "name": "stdout",
     "output_type": "stream",
     "text": [
      "--------------------------------------------- Result 98 ---------------------------------------------\n",
      "[[Support (100%)]] --> [[Refute (100%)]]\n",
      "\n",
      "PKG-la does not have a large impact on expression of pain hypersensitivity in [[PGK-la]] knockout mice.\n",
      "\n",
      "PKG-la does not have a large impact on expression of pain hypersensitivity in [[humans]] knockout mice.\n",
      "\n",
      "\n"
     ]
    },
    {
     "name": "stderr",
     "output_type": "stream",
     "text": [
      "[Succeeded / Failed / Skipped / Total] 85 / 14 / 0 / 99:  49%|████▊     | 99/204 [14:41:38<15:35:04, 534.33s/it]"
     ]
    },
    {
     "name": "stdout",
     "output_type": "stream",
     "text": [
      "--------------------------------------------- Result 99 ---------------------------------------------\n",
      "[[Support (100%)]] --> [[Refute (100%)]]\n",
      "\n",
      "PKG-la does not have a large impact on expression of spinal long term [[potentiation]] in PGK-la knockout mice.\n",
      "\n",
      "PKG-la does not have a large impact on expression of spinal long term [[factor]] in PGK-la knockout mice.\n",
      "\n",
      "\n"
     ]
    },
    {
     "name": "stderr",
     "output_type": "stream",
     "text": [
      "[Succeeded / Failed / Skipped / Total] 85 / 15 / 0 / 100:  49%|████▉     | 100/204 [14:52:00<15:27:41, 535.20s/it]"
     ]
    },
    {
     "name": "stdout",
     "output_type": "stream",
     "text": [
      "--------------------------------------------- Result 100 ---------------------------------------------\n",
      "[[Support (100%)]] --> [[[FAILED]]]\n",
      "\n",
      "PTEN is a regulator for the transcriptional activity of SRF\n",
      "\n",
      "\n"
     ]
    },
    {
     "name": "stderr",
     "output_type": "stream",
     "text": [
      "[Succeeded / Failed / Skipped / Total] 86 / 15 / 0 / 101:  50%|████▉     | 101/204 [14:58:03<15:15:50, 533.50s/it]"
     ]
    },
    {
     "name": "stdout",
     "output_type": "stream",
     "text": [
      "--------------------------------------------- Result 101 ---------------------------------------------\n",
      "[[Support (100%)]] --> [[Refute (100%)]]\n",
      "\n",
      "Participants who [[quit]] smoking reduce lung cancer risk by approximately 50%.\n",
      "\n",
      "Participants who [[advocate]] smoking reduce lung cancer risk by approximately 50%.\n",
      "\n",
      "\n"
     ]
    },
    {
     "name": "stderr",
     "output_type": "stream",
     "text": [
      "[Succeeded / Failed / Skipped / Total] 87 / 15 / 0 / 102:  50%|█████     | 102/204 [15:05:14<15:05:14, 532.49s/it]"
     ]
    },
    {
     "name": "stdout",
     "output_type": "stream",
     "text": [
      "--------------------------------------------- Result 102 ---------------------------------------------\n",
      "[[Support (100%)]] --> [[Refute (100%)]]\n",
      "\n",
      "Patients with common epithelial cancers  are more likely to have an emergency event as their first hospital admission if they [[live]] in resource-deprived areas.\n",
      "\n",
      "Patients with common epithelial cancers  are more likely to have an emergency event as their first hospital admission if they [[work]] in resource-deprived areas.\n",
      "\n",
      "\n"
     ]
    },
    {
     "name": "stderr",
     "output_type": "stream",
     "text": [
      "[Succeeded / Failed / Skipped / Total] 88 / 15 / 0 / 103:  50%|█████     | 103/204 [15:11:43<14:54:01, 531.10s/it]"
     ]
    },
    {
     "name": "stdout",
     "output_type": "stream",
     "text": [
      "--------------------------------------------- Result 103 ---------------------------------------------\n",
      "[[Support (100%)]] --> [[Refute (100%)]]\n",
      "\n",
      "Phase information is [[useful]] for predicting donor-recipient matches in organ transplantation.\n",
      "\n",
      "Phase information is [[insufficient]] for predicting donor-recipient matches in organ transplantation.\n",
      "\n",
      "\n"
     ]
    },
    {
     "name": "stderr",
     "output_type": "stream",
     "text": [
      "[Succeeded / Failed / Skipped / Total] 89 / 15 / 0 / 104:  51%|█████     | 104/204 [15:15:13<14:40:01, 528.01s/it]"
     ]
    },
    {
     "name": "stdout",
     "output_type": "stream",
     "text": [
      "--------------------------------------------- Result 104 ---------------------------------------------\n",
      "[[Support (100%)]] --> [[Refute (100%)]]\n",
      "\n",
      "Pioglitazone use is significantly [[associated]] with an increased risk of prostate cancer.\n",
      "\n",
      "Pioglitazone use is significantly [[controlled]] with an increased risk of prostate cancer.\n",
      "\n",
      "\n"
     ]
    },
    {
     "name": "stderr",
     "output_type": "stream",
     "text": [
      "[Succeeded / Failed / Skipped / Total] 89 / 16 / 0 / 105:  51%|█████▏    | 105/204 [15:34:16<14:40:53, 533.87s/it]"
     ]
    },
    {
     "name": "stdout",
     "output_type": "stream",
     "text": [
      "--------------------------------------------- Result 105 ---------------------------------------------\n",
      "[[Support (100%)]] --> [[[FAILED]]]\n",
      "\n",
      "Pioneer factor OCT3/4 interacts with major chromatin remodeling factors.\n",
      "\n",
      "\n"
     ]
    },
    {
     "name": "stderr",
     "output_type": "stream",
     "text": [
      "[Succeeded / Failed / Skipped / Total] 90 / 16 / 0 / 106:  52%|█████▏    | 106/204 [15:42:42<14:31:34, 533.61s/it]"
     ]
    },
    {
     "name": "stdout",
     "output_type": "stream",
     "text": [
      "--------------------------------------------- Result 106 ---------------------------------------------\n",
      "[[Support (100%)]] --> [[Refute (100%)]]\n",
      "\n",
      "Prescribed exercise training [[improves]] quality of life.\n",
      "\n",
      "Prescribed exercise training [[guaranteed]] quality of life.\n",
      "\n",
      "\n"
     ]
    },
    {
     "name": "stderr",
     "output_type": "stream",
     "text": [
      "[Succeeded / Failed / Skipped / Total] 91 / 16 / 0 / 107:  52%|█████▏    | 107/204 [15:51:48<14:22:51, 533.72s/it]"
     ]
    },
    {
     "name": "stdout",
     "output_type": "stream",
     "text": [
      "--------------------------------------------- Result 107 ---------------------------------------------\n",
      "[[Support (100%)]] --> [[Refute (100%)]]\n",
      "\n",
      "Pro-inflammatory cytokines are up [[regulated]] during tumor development.\n",
      "\n",
      "Pro-inflammatory cytokines are up [[blocked]] during tumor development.\n",
      "\n",
      "\n"
     ]
    },
    {
     "name": "stderr",
     "output_type": "stream",
     "text": [
      "[Succeeded / Failed / Skipped / Total] 91 / 17 / 0 / 108:  53%|█████▎    | 108/204 [16:04:08<14:17:01, 535.64s/it]"
     ]
    },
    {
     "name": "stdout",
     "output_type": "stream",
     "text": [
      "--------------------------------------------- Result 108 ---------------------------------------------\n",
      "[[Support (100%)]] --> [[[FAILED]]]\n",
      "\n",
      "Propriospinal interneurons that play a role in the plastic reorganization of spinal circuits are integral for recovery from spinal cord injury.\n",
      "\n",
      "\n"
     ]
    },
    {
     "name": "stderr",
     "output_type": "stream",
     "text": [
      "[Succeeded / Failed / Skipped / Total] 91 / 18 / 0 / 109:  53%|█████▎    | 109/204 [16:08:03<14:03:43, 532.88s/it]"
     ]
    },
    {
     "name": "stdout",
     "output_type": "stream",
     "text": [
      "--------------------------------------------- Result 109 ---------------------------------------------\n",
      "[[Support (100%)]] --> [[[FAILED]]]\n",
      "\n",
      "Pyridostatin induces checkpoint activation.\n",
      "\n",
      "\n"
     ]
    },
    {
     "name": "stderr",
     "output_type": "stream",
     "text": [
      "[Succeeded / Failed / Skipped / Total] 92 / 18 / 0 / 110:  54%|█████▍    | 110/204 [16:11:11<13:49:55, 529.74s/it]"
     ]
    },
    {
     "name": "stdout",
     "output_type": "stream",
     "text": [
      "--------------------------------------------- Result 110 ---------------------------------------------\n",
      "[[Support (100%)]] --> [[Refute (100%)]]\n",
      "\n",
      "Pyridostatin [[stabilizes]] the G - quadruplex in the telomeric region.\n",
      "\n",
      "Pyridostatin [[forms]] the G - quadruplex in the telomeric region.\n",
      "\n",
      "\n"
     ]
    },
    {
     "name": "stderr",
     "output_type": "stream",
     "text": [
      "[Succeeded / Failed / Skipped / Total] 92 / 19 / 0 / 111:  54%|█████▍    | 111/204 [16:33:04<13:52:02, 536.80s/it]"
     ]
    },
    {
     "name": "stdout",
     "output_type": "stream",
     "text": [
      "--------------------------------------------- Result 111 ---------------------------------------------\n",
      "[[Support (100%)]] --> [[[FAILED]]]\n",
      "\n",
      "RANK-RANKL pathway signalling is linked to development of Aire-expressing medullary thymic epithelial cells.\n",
      "\n",
      "\n"
     ]
    },
    {
     "name": "stderr",
     "output_type": "stream",
     "text": [
      "[Succeeded / Failed / Skipped / Total] 93 / 19 / 0 / 112:  55%|█████▍    | 112/204 [16:39:11<13:40:45, 535.28s/it]"
     ]
    },
    {
     "name": "stdout",
     "output_type": "stream",
     "text": [
      "--------------------------------------------- Result 112 ---------------------------------------------\n",
      "[[Support (100%)]] --> [[Refute (100%)]]\n",
      "\n",
      "Ribosomopathies have a [[high]] degree of cell and tissue specific pathology.\n",
      "\n",
      "Ribosomopathies have a [[constant]] degree of cell and tissue specific pathology.\n",
      "\n",
      "\n"
     ]
    },
    {
     "name": "stderr",
     "output_type": "stream",
     "text": [
      "[Succeeded / Failed / Skipped / Total] 94 / 19 / 0 / 113:  55%|█████▌    | 113/204 [16:51:15<13:34:22, 536.95s/it]"
     ]
    },
    {
     "name": "stdout",
     "output_type": "stream",
     "text": [
      "--------------------------------------------- Result 113 ---------------------------------------------\n",
      "[[Support (100%)]] --> [[Refute (100%)]]\n",
      "\n",
      "Risk of cardiovascular events can be [[cut]] by a third by using antihypertensive drug therapy among hemodialysis patients.\n",
      "\n",
      "Risk of cardiovascular events can be [[exceeded]] by a third by using antihypertensive drug therapy among hemodialysis patients.\n",
      "\n",
      "\n"
     ]
    },
    {
     "name": "stderr",
     "output_type": "stream",
     "text": [
      "[Succeeded / Failed / Skipped / Total] 95 / 19 / 0 / 114:  56%|█████▌    | 114/204 [16:55:41<13:21:51, 534.57s/it]"
     ]
    },
    {
     "name": "stdout",
     "output_type": "stream",
     "text": [
      "--------------------------------------------- Result 114 ---------------------------------------------\n",
      "[[Support (100%)]] --> [[Refute (100%)]]\n",
      "\n",
      "Satellite [[cell]] dysfunction is a key factor in sarcopenia development.\n",
      "\n",
      "Satellite [[communications]] dysfunction is a key factor in sarcopenia development.\n",
      "\n",
      "\n"
     ]
    },
    {
     "name": "stderr",
     "output_type": "stream",
     "text": [
      "[Succeeded / Failed / Skipped / Total] 96 / 19 / 0 / 115:  56%|█████▋    | 115/204 [17:01:21<13:10:26, 532.88s/it]"
     ]
    },
    {
     "name": "stdout",
     "output_type": "stream",
     "text": [
      "--------------------------------------------- Result 115 ---------------------------------------------\n",
      "[[Support (100%)]] --> [[Refute (100%)]]\n",
      "\n",
      "Scapular stabilizer exercises are more effective than [[general]] exercise therapy in reducing pain and improving function of the shoulder.\n",
      "\n",
      "Scapular stabilizer exercises are more effective than [[systemic]] exercise therapy in reducing pain and improving function of the shoulder.\n",
      "\n",
      "\n"
     ]
    },
    {
     "name": "stderr",
     "output_type": "stream",
     "text": [
      "[Succeeded / Failed / Skipped / Total] 97 / 19 / 0 / 116:  57%|█████▋    | 116/204 [17:07:18<12:59:19, 531.36s/it]"
     ]
    },
    {
     "name": "stdout",
     "output_type": "stream",
     "text": [
      "--------------------------------------------- Result 116 ---------------------------------------------\n",
      "[[Support (100%)]] --> [[Refute (100%)]]\n",
      "\n",
      "Students who perform poorly in the early years of medical school are at [[increased]] risk for professional misconduct later in their careers.\n",
      "\n",
      "Students who perform poorly in the early years of medical school are at [[reduced]] risk for professional misconduct later in their careers.\n",
      "\n",
      "\n"
     ]
    },
    {
     "name": "stderr",
     "output_type": "stream",
     "text": [
      "[Succeeded / Failed / Skipped / Total] 98 / 19 / 0 / 117:  57%|█████▋    | 117/204 [17:10:43<12:46:26, 528.58s/it]"
     ]
    },
    {
     "name": "stdout",
     "output_type": "stream",
     "text": [
      "--------------------------------------------- Result 117 ---------------------------------------------\n",
      "[[Support (100%)]] --> [[Refute (100%)]]\n",
      "\n",
      "Suboptimal nutrition is a leading cause of [[premature]] death\n",
      "\n",
      "Suboptimal nutrition is a leading cause of [[bacterial]] death\n",
      "\n",
      "\n"
     ]
    },
    {
     "name": "stderr",
     "output_type": "stream",
     "text": [
      "[Succeeded / Failed / Skipped / Total] 99 / 19 / 0 / 118:  58%|█████▊    | 118/204 [17:15:07<12:34:24, 526.34s/it]"
     ]
    },
    {
     "name": "stdout",
     "output_type": "stream",
     "text": [
      "--------------------------------------------- Result 118 ---------------------------------------------\n",
      "[[Support (100%)]] --> [[Refute (100%)]]\n",
      "\n",
      "Surgical treatment is not superior to non-surgical in treating adults with displaced fractures of the [[proximal]] humerus.\n",
      "\n",
      "Surgical treatment is not superior to non-surgical in treating adults with displaced fractures of the [[distal]] humerus.\n",
      "\n",
      "\n"
     ]
    },
    {
     "name": "stderr",
     "output_type": "stream",
     "text": [
      "[Succeeded / Failed / Skipped / Total] 100 / 19 / 0 / 119:  58%|█████▊    | 119/204 [17:22:17<12:24:29, 525.52s/it]"
     ]
    },
    {
     "name": "stdout",
     "output_type": "stream",
     "text": [
      "--------------------------------------------- Result 119 ---------------------------------------------\n",
      "[[Support (100%)]] --> [[Refute (100%)]]\n",
      "\n",
      "Systemic immunosuppressive (IS) therapy does not [[enhance]] the chance of cancer mortality in patients with inflammatory eye disease (IED)\n",
      "\n",
      "Systemic immunosuppressive (IS) therapy does not [[have]] the chance of cancer mortality in patients with inflammatory eye disease (IED)\n",
      "\n",
      "\n"
     ]
    },
    {
     "name": "stderr",
     "output_type": "stream",
     "text": [
      "[Succeeded / Failed / Skipped / Total] 101 / 19 / 0 / 120:  59%|█████▉    | 120/204 [17:32:00<12:16:24, 526.00s/it]"
     ]
    },
    {
     "name": "stdout",
     "output_type": "stream",
     "text": [
      "--------------------------------------------- Result 120 ---------------------------------------------\n",
      "[[Support (100%)]] --> [[Refute (100%)]]\n",
      "\n",
      "Systemic lupus [[erythematosus]] is a risk factor for cardiovascular disease.\n",
      "\n",
      "Systemic lupus [[vaccine]] is a risk factor for cardiovascular disease.\n",
      "\n",
      "\n"
     ]
    },
    {
     "name": "stderr",
     "output_type": "stream",
     "text": [
      "[Succeeded / Failed / Skipped / Total] 102 / 19 / 0 / 121:  59%|█████▉    | 121/204 [17:36:40<12:04:49, 523.97s/it]"
     ]
    },
    {
     "name": "stdout",
     "output_type": "stream",
     "text": [
      "--------------------------------------------- Result 121 ---------------------------------------------\n",
      "[[Support (100%)]] --> [[Refute (100%)]]\n",
      "\n",
      "TNFAIP3 is a [[glioblastoma]] tumor suppressor.\n",
      "\n",
      "TNFAIP3 is a [[negative]] tumor suppressor.\n",
      "\n",
      "\n"
     ]
    },
    {
     "name": "stderr",
     "output_type": "stream",
     "text": [
      "[Succeeded / Failed / Skipped / Total] 102 / 20 / 0 / 122:  60%|█████▉    | 122/204 [17:44:01<11:55:10, 523.29s/it]"
     ]
    },
    {
     "name": "stdout",
     "output_type": "stream",
     "text": [
      "--------------------------------------------- Result 122 ---------------------------------------------\n",
      "[[Support (100%)]] --> [[[FAILED]]]\n",
      "\n",
      "TRAP+ osteoclasts regulate mature osteoblast maintenance.\n",
      "\n",
      "\n"
     ]
    },
    {
     "name": "stderr",
     "output_type": "stream",
     "text": [
      "[Succeeded / Failed / Skipped / Total] 102 / 21 / 0 / 123:  60%|██████    | 123/204 [17:47:36<11:43:03, 520.79s/it]"
     ]
    },
    {
     "name": "stdout",
     "output_type": "stream",
     "text": [
      "--------------------------------------------- Result 123 ---------------------------------------------\n",
      "[[Support (100%)]] --> [[[FAILED]]]\n",
      "\n",
      "Taking anti-depresents is associated with a decrease in the Aβ level in the brain of experimental animals.\n",
      "\n",
      "\n"
     ]
    },
    {
     "name": "stderr",
     "output_type": "stream",
     "text": [
      "[Succeeded / Failed / Skipped / Total] 103 / 21 / 0 / 124:  61%|██████    | 124/204 [17:50:57<11:30:56, 518.21s/it]"
     ]
    },
    {
     "name": "stdout",
     "output_type": "stream",
     "text": [
      "--------------------------------------------- Result 124 ---------------------------------------------\n",
      "[[Support (100%)]] --> [[Refute (100%)]]\n",
      "\n",
      "The [[DESMOND]] program caused substantial weight loss in most participants.\n",
      "\n",
      "The [[nutrition]] program caused substantial weight loss in most participants.\n",
      "\n",
      "\n"
     ]
    },
    {
     "name": "stderr",
     "output_type": "stream",
     "text": [
      "[Succeeded / Failed / Skipped / Total] 104 / 21 / 0 / 125:  61%|██████▏   | 125/204 [17:53:12<11:18:16, 515.14s/it]"
     ]
    },
    {
     "name": "stdout",
     "output_type": "stream",
     "text": [
      "--------------------------------------------- Result 125 ---------------------------------------------\n",
      "[[Support (100%)]] --> [[Refute (100%)]]\n",
      "\n",
      "The [[PDPN]] gene deactivates the C-type lectin receptor (CLEC-2).\n",
      "\n",
      "The [[cd]] gene deactivates the C-type lectin receptor (CLEC-2).\n",
      "\n",
      "\n"
     ]
    },
    {
     "name": "stderr",
     "output_type": "stream",
     "text": [
      "[Succeeded / Failed / Skipped / Total] 104 / 22 / 0 / 126:  62%|██████▏   | 126/204 [18:00:18<11:08:45, 514.43s/it]"
     ]
    },
    {
     "name": "stdout",
     "output_type": "stream",
     "text": [
      "--------------------------------------------- Result 126 ---------------------------------------------\n",
      "[[Support (100%)]] --> [[[FAILED]]]\n",
      "\n",
      "The RANK-RANK-Ligand (RANKL) pathway is involved in the development of Aire-expressing medullary thymic epithelial cells (mTECs).\n",
      "\n",
      "\n"
     ]
    },
    {
     "name": "stderr",
     "output_type": "stream",
     "text": [
      "[Succeeded / Failed / Skipped / Total] 105 / 22 / 0 / 127:  62%|██████▏   | 127/204 [18:19:52<11:06:51, 519.63s/it]"
     ]
    },
    {
     "name": "stdout",
     "output_type": "stream",
     "text": [
      "--------------------------------------------- Result 127 ---------------------------------------------\n",
      "[[Support (100%)]] --> [[Refute (100%)]]\n",
      "\n",
      "The density of cytokine receptor bearing [[cells]] affects the distance over which cytokines act.\n",
      "\n",
      "The density of cytokine receptor bearing [[points]] affects the distance over which cytokines act.\n",
      "\n",
      "\n"
     ]
    },
    {
     "name": "stderr",
     "output_type": "stream",
     "text": [
      "[Succeeded / Failed / Skipped / Total] 105 / 23 / 0 / 128:  63%|██████▎   | 128/204 [18:32:19<11:00:26, 521.40s/it]"
     ]
    },
    {
     "name": "stdout",
     "output_type": "stream",
     "text": [
      "--------------------------------------------- Result 128 ---------------------------------------------\n",
      "[[Support (100%)]] --> [[[FAILED]]]\n",
      "\n",
      "The latent infection of myeloid cells with human cytomegalovirus induces a number of changes in gene expression.\n",
      "\n",
      "\n"
     ]
    },
    {
     "name": "stderr",
     "output_type": "stream",
     "text": [
      "[Succeeded / Failed / Skipped / Total] 105 / 24 / 0 / 129:  63%|██████▎   | 129/204 [18:39:46<10:51:01, 520.82s/it]"
     ]
    },
    {
     "name": "stdout",
     "output_type": "stream",
     "text": [
      "--------------------------------------------- Result 129 ---------------------------------------------\n",
      "[[Support (100%)]] --> [[[FAILED]]]\n",
      "\n",
      "The microtubule-dependent delivery and secretion of matrix metalloproteases (MMPs) is partially responsible for the disassembly of adhesion sites.\n",
      "\n",
      "\n"
     ]
    },
    {
     "name": "stderr",
     "output_type": "stream",
     "text": [
      "[Succeeded / Failed / Skipped / Total] 106 / 24 / 0 / 130:  64%|██████▎   | 130/204 [18:45:40<10:40:46, 519.55s/it]"
     ]
    },
    {
     "name": "stdout",
     "output_type": "stream",
     "text": [
      "--------------------------------------------- Result 130 ---------------------------------------------\n",
      "[[Support (100%)]] --> [[Refute (100%)]]\n",
      "\n",
      "The most [[prevalent]] adverse events to Semaglutide are cardiovascular.\n",
      "\n",
      "The most [[associated]] adverse events to Semaglutide are cardiovascular.\n",
      "\n",
      "\n"
     ]
    },
    {
     "name": "stderr",
     "output_type": "stream",
     "text": [
      "[Succeeded / Failed / Skipped / Total] 107 / 24 / 0 / 131:  64%|██████▍   | 131/204 [18:51:30<10:30:32, 518.25s/it]"
     ]
    },
    {
     "name": "stdout",
     "output_type": "stream",
     "text": [
      "--------------------------------------------- Result 131 ---------------------------------------------\n",
      "[[Support (100%)]] --> [[Refute (100%)]]\n",
      "\n",
      "The most [[prevalent]] adverse events to Semaglutide are gastrointestinal.\n",
      "\n",
      "The most [[extreme]] adverse events to Semaglutide are gastrointestinal.\n",
      "\n",
      "\n"
     ]
    },
    {
     "name": "stderr",
     "output_type": "stream",
     "text": [
      "[Succeeded / Failed / Skipped / Total] 107 / 25 / 0 / 132:  65%|██████▍   | 132/204 [19:13:30<10:29:11, 524.33s/it]"
     ]
    },
    {
     "name": "stdout",
     "output_type": "stream",
     "text": [
      "--------------------------------------------- Result 132 ---------------------------------------------\n",
      "[[Support (100%)]] --> [[[FAILED]]]\n",
      "\n",
      "The proliferative capacity of neural progenitors differs across species.\n",
      "\n",
      "\n"
     ]
    },
    {
     "name": "stderr",
     "output_type": "stream",
     "text": [
      "[Succeeded / Failed / Skipped / Total] 108 / 25 / 0 / 133:  65%|██████▌   | 133/204 [19:16:30<10:17:23, 521.73s/it]"
     ]
    },
    {
     "name": "stdout",
     "output_type": "stream",
     "text": [
      "--------------------------------------------- Result 133 ---------------------------------------------\n",
      "[[Support (100%)]] --> [[Refute (100%)]]\n",
      "\n",
      "The relationship between a breast cancer patient's capacity to metabolize [[tamoxifen]] and treatment outcome is independent of the patient's genetic make-up.\n",
      "\n",
      "The relationship between a breast cancer patient's capacity to metabolize [[antigen]] and treatment outcome is independent of the patient's genetic make-up.\n",
      "\n",
      "\n"
     ]
    },
    {
     "name": "stderr",
     "output_type": "stream",
     "text": [
      "[Succeeded / Failed / Skipped / Total] 109 / 25 / 0 / 134:  66%|██████▌   | 134/204 [19:25:07<10:08:38, 521.70s/it]"
     ]
    },
    {
     "name": "stdout",
     "output_type": "stream",
     "text": [
      "--------------------------------------------- Result 134 ---------------------------------------------\n",
      "[[Support (100%)]] --> [[Refute (100%)]]\n",
      "\n",
      "The risk of [[cancer]] rises with level of alcohol consumption.\n",
      "\n",
      "The risk of [[autism]] rises with level of alcohol consumption.\n",
      "\n",
      "\n"
     ]
    },
    {
     "name": "stderr",
     "output_type": "stream",
     "text": [
      "[Succeeded / Failed / Skipped / Total] 110 / 25 / 0 / 135:  66%|██████▌   | 135/204 [19:34:58<10:00:32, 522.21s/it]"
     ]
    },
    {
     "name": "stdout",
     "output_type": "stream",
     "text": [
      "--------------------------------------------- Result 135 ---------------------------------------------\n",
      "[[Support (100%)]] --> [[Refute (100%)]]\n",
      "\n",
      "The risk of female [[prisoners]] harming themselves is ten times that of male prisoners.\n",
      "\n",
      "The risk of female [[animals]] harming themselves is ten times that of male prisoners.\n",
      "\n",
      "\n"
     ]
    },
    {
     "name": "stderr",
     "output_type": "stream",
     "text": [
      "[Succeeded / Failed / Skipped / Total] 111 / 25 / 0 / 136:  67%|██████▋   | 136/204 [19:38:29<9:49:14, 519.92s/it] "
     ]
    },
    {
     "name": "stdout",
     "output_type": "stream",
     "text": [
      "--------------------------------------------- Result 136 ---------------------------------------------\n",
      "[[Support (100%)]] --> [[Refute (100%)]]\n",
      "\n",
      "There is a positive correlation between [[hip]] fractures and statin use.\n",
      "\n",
      "There is a positive correlation between [[ball]] fractures and statin use.\n",
      "\n",
      "\n"
     ]
    },
    {
     "name": "stderr",
     "output_type": "stream",
     "text": [
      "[Succeeded / Failed / Skipped / Total] 112 / 25 / 0 / 137:  67%|██████▋   | 137/204 [19:42:24<9:38:15, 517.84s/it]"
     ]
    },
    {
     "name": "stdout",
     "output_type": "stream",
     "text": [
      "--------------------------------------------- Result 137 ---------------------------------------------\n",
      "[[Support (100%)]] --> [[Refute (100%)]]\n",
      "\n",
      "There is a [[relation]] between Erythromycin use and hypertrophic pyloric stenosis.\n",
      "\n",
      "There is a [[concern]] between Erythromycin use and hypertrophic pyloric stenosis.\n",
      "\n",
      "\n"
     ]
    },
    {
     "name": "stderr",
     "output_type": "stream",
     "text": [
      "[Succeeded / Failed / Skipped / Total] 113 / 25 / 0 / 138:  68%|██████▊   | 138/204 [19:48:18<9:28:19, 516.66s/it]"
     ]
    },
    {
     "name": "stdout",
     "output_type": "stream",
     "text": [
      "--------------------------------------------- Result 138 ---------------------------------------------\n",
      "[[Support (100%)]] --> [[Refute (100%)]]\n",
      "\n",
      "Tirasemtiv targets [[fast-twitch]] muscle.\n",
      "\n",
      "Tirasemtiv targets [[thin]] muscle.\n",
      "\n",
      "\n"
     ]
    },
    {
     "name": "stderr",
     "output_type": "stream",
     "text": [
      "[Succeeded / Failed / Skipped / Total] 114 / 25 / 0 / 139:  68%|██████▊   | 139/204 [19:56:36<9:19:33, 516.52s/it]"
     ]
    },
    {
     "name": "stdout",
     "output_type": "stream",
     "text": [
      "--------------------------------------------- Result 139 ---------------------------------------------\n",
      "[[Support (100%)]] --> [[Refute (100%)]]\n",
      "\n",
      "Trans-acting factors, such as [[lncRNAs]], influence mRNA translation.\n",
      "\n",
      "Trans-acting factors, such as [[adrenaline]], influence mRNA translation.\n",
      "\n",
      "\n"
     ]
    },
    {
     "name": "stderr",
     "output_type": "stream",
     "text": [
      "[Succeeded / Failed / Skipped / Total] 114 / 26 / 0 / 140:  69%|██████▊   | 140/204 [20:14:26<9:15:10, 520.48s/it]"
     ]
    },
    {
     "name": "stdout",
     "output_type": "stream",
     "text": [
      "--------------------------------------------- Result 140 ---------------------------------------------\n",
      "[[Support (100%)]] --> [[[FAILED]]]\n",
      "\n",
      "Transplanted human glial progenitor cells can mature in their host animal.\n",
      "\n",
      "\n"
     ]
    },
    {
     "name": "stderr",
     "output_type": "stream",
     "text": [
      "[Succeeded / Failed / Skipped / Total] 115 / 26 / 0 / 141:  69%|██████▉   | 141/204 [20:21:27<9:05:45, 519.77s/it]"
     ]
    },
    {
     "name": "stdout",
     "output_type": "stream",
     "text": [
      "--------------------------------------------- Result 141 ---------------------------------------------\n",
      "[[Support (100%)]] --> [[Refute (100%)]]\n",
      "\n",
      "Tuberculosis-induced [[granulomas]] express different immune system protein signatures than the surrounding tissue.\n",
      "\n",
      "Tuberculosis-induced [[dogs]] express different immune system protein signatures than the surrounding tissue.\n",
      "\n",
      "\n"
     ]
    },
    {
     "name": "stderr",
     "output_type": "stream",
     "text": [
      "[Succeeded / Failed / Skipped / Total] 116 / 26 / 0 / 142:  70%|██████▉   | 142/204 [20:32:42<8:58:13, 520.86s/it]"
     ]
    },
    {
     "name": "stdout",
     "output_type": "stream",
     "text": [
      "--------------------------------------------- Result 142 ---------------------------------------------\n",
      "[[Support (100%)]] --> [[Refute (100%)]]\n",
      "\n",
      "Type 1 Diabetes is associated with [[subtle]] perturbations in T reg development.\n",
      "\n",
      "Type 1 Diabetes is associated with [[positive]] perturbations in T reg development.\n",
      "\n",
      "\n"
     ]
    },
    {
     "name": "stderr",
     "output_type": "stream",
     "text": [
      "[Succeeded / Failed / Skipped / Total] 117 / 26 / 0 / 143:  70%|███████   | 143/204 [20:39:43<8:48:49, 520.16s/it]"
     ]
    },
    {
     "name": "stdout",
     "output_type": "stream",
     "text": [
      "--------------------------------------------- Result 143 ---------------------------------------------\n",
      "[[Support (100%)]] --> [[Refute (100%)]]\n",
      "\n",
      "Ultrasound guidance significantly [[reduces]] the number of needle insertion attempts necessary for a given procedure.\n",
      "\n",
      "Ultrasound guidance significantly [[increases]] the number of needle insertion attempts necessary for a given procedure.\n",
      "\n",
      "\n"
     ]
    },
    {
     "name": "stderr",
     "output_type": "stream",
     "text": [
      "[Succeeded / Failed / Skipped / Total] 118 / 26 / 0 / 144:  71%|███████   | 144/204 [20:47:08<8:39:38, 519.64s/it]"
     ]
    },
    {
     "name": "stdout",
     "output_type": "stream",
     "text": [
      "--------------------------------------------- Result 144 ---------------------------------------------\n",
      "[[Support (100%)]] --> [[Refute (100%)]]\n",
      "\n",
      "Ultrasound guidance significantly [[reduces]] the number of traumatic procedures when attempting needle insertion.\n",
      "\n",
      "Ultrasound guidance significantly [[aids]] the number of traumatic procedures when attempting needle insertion.\n",
      "\n",
      "\n"
     ]
    },
    {
     "name": "stderr",
     "output_type": "stream",
     "text": [
      "[Succeeded / Failed / Skipped / Total] 118 / 27 / 0 / 145:  71%|███████   | 145/204 [21:28:48<8:44:24, 533.30s/it]"
     ]
    },
    {
     "name": "stdout",
     "output_type": "stream",
     "text": [
      "--------------------------------------------- Result 145 ---------------------------------------------\n",
      "[[Support (100%)]] --> [[[FAILED]]]\n",
      "\n",
      "Varying expression levels of EBI2 affect the positioning and migration of B cells.\n",
      "\n",
      "\n"
     ]
    },
    {
     "name": "stderr",
     "output_type": "stream",
     "text": [
      "[Succeeded / Failed / Skipped / Total] 119 / 27 / 0 / 146:  72%|███████▏  | 146/204 [21:32:01<8:33:16, 530.97s/it]"
     ]
    },
    {
     "name": "stdout",
     "output_type": "stream",
     "text": [
      "--------------------------------------------- Result 146 ---------------------------------------------\n",
      "[[Support (100%)]] --> [[Refute (100%)]]\n",
      "\n",
      "Vitamin D [[deficiency]] effects birth weight.\n",
      "\n",
      "Vitamin D [[reduction]] effects birth weight.\n",
      "\n",
      "\n"
     ]
    },
    {
     "name": "stderr",
     "output_type": "stream",
     "text": [
      "[Succeeded / Failed / Skipped / Total] 120 / 27 / 0 / 147:  72%|███████▏  | 147/204 [21:40:23<8:24:14, 530.78s/it]"
     ]
    },
    {
     "name": "stdout",
     "output_type": "stream",
     "text": [
      "--------------------------------------------- Result 147 ---------------------------------------------\n",
      "[[Support (100%)]] --> [[Refute (100%)]]\n",
      "\n",
      "Vitamin D is an [[important]] factor in the relationship between calcium and parathyroid hormone.\n",
      "\n",
      "Vitamin D is an [[attractive]] factor in the relationship between calcium and parathyroid hormone.\n",
      "\n",
      "\n"
     ]
    },
    {
     "name": "stderr",
     "output_type": "stream",
     "text": [
      "[Succeeded / Failed / Skipped / Total] 121 / 27 / 0 / 148:  73%|███████▎  | 148/204 [21:52:10<8:16:30, 531.96s/it]"
     ]
    },
    {
     "name": "stdout",
     "output_type": "stream",
     "text": [
      "--------------------------------------------- Result 148 ---------------------------------------------\n",
      "[[Support (100%)]] --> [[Refute (100%)]]\n",
      "\n",
      "siRNA knockdown of A20 [[slows]] tumor progression in an in vivo murine xenograft model.\n",
      "\n",
      "siRNA knockdown of A20 [[accelerated]] tumor progression in an in vivo murine xenograft model.\n",
      "\n",
      "\n"
     ]
    },
    {
     "name": "stderr",
     "output_type": "stream",
     "text": [
      "[Succeeded / Failed / Skipped / Total] 122 / 27 / 0 / 149:  73%|███████▎  | 149/204 [21:57:17<8:06:15, 530.45s/it]"
     ]
    },
    {
     "name": "stdout",
     "output_type": "stream",
     "text": [
      "--------------------------------------------- Result 149 ---------------------------------------------\n",
      "[[Support (100%)]] --> [[Refute (100%)]]\n",
      "\n",
      "ALDH1 [[expression]] is associated with poorer prognosis in breast cancer.\n",
      "\n",
      "ALDH1 [[gene]] is associated with poorer prognosis in breast cancer.\n",
      "\n",
      "\n"
     ]
    },
    {
     "name": "stderr",
     "output_type": "stream",
     "text": [
      "[Succeeded / Failed / Skipped / Total] 123 / 27 / 0 / 150:  74%|███████▎  | 150/204 [22:00:32<7:55:23, 528.22s/it]"
     ]
    },
    {
     "name": "stdout",
     "output_type": "stream",
     "text": [
      "--------------------------------------------- Result 150 ---------------------------------------------\n",
      "[[Support (100%)]] --> [[Refute (100%)]]\n",
      "\n",
      "Angiotensin converting enzyme inhibitors are associated with increased risk for functional [[renal]] insufficiency.\n",
      "\n",
      "Angiotensin converting enzyme inhibitors are associated with increased risk for functional [[apical]] insufficiency.\n",
      "\n",
      "\n"
     ]
    },
    {
     "name": "stderr",
     "output_type": "stream",
     "text": [
      "[Succeeded / Failed / Skipped / Total] 124 / 27 / 0 / 151:  74%|███████▍  | 151/204 [22:06:34<7:45:37, 527.12s/it]"
     ]
    },
    {
     "name": "stdout",
     "output_type": "stream",
     "text": [
      "--------------------------------------------- Result 151 ---------------------------------------------\n",
      "[[Support (100%)]] --> [[Refute (100%)]]\n",
      "\n",
      "Anthrax [[spores]] can be disposed of easily after they are dispersed.\n",
      "\n",
      "Anthrax [[agents]] can be disposed of easily after they are dispersed.\n",
      "\n",
      "\n"
     ]
    },
    {
     "name": "stderr",
     "output_type": "stream",
     "text": [
      "[Succeeded / Failed / Skipped / Total] 125 / 27 / 0 / 152:  75%|███████▍  | 152/204 [22:14:20<7:36:29, 526.72s/it]"
     ]
    },
    {
     "name": "stdout",
     "output_type": "stream",
     "text": [
      "--------------------------------------------- Result 152 ---------------------------------------------\n",
      "[[Support (100%)]] --> [[Refute (100%)]]\n",
      "\n",
      "Articles published in [[open]] access format are more likely to be cited than traditional journals.\n",
      "\n",
      "Articles published in [[closed]] access format are more likely to be cited than traditional journals.\n",
      "\n",
      "\n"
     ]
    },
    {
     "name": "stderr",
     "output_type": "stream",
     "text": [
      "[Succeeded / Failed / Skipped / Total] 126 / 27 / 0 / 153:  75%|███████▌  | 153/204 [22:26:28<7:28:49, 528.03s/it]"
     ]
    },
    {
     "name": "stdout",
     "output_type": "stream",
     "text": [
      "--------------------------------------------- Result 153 ---------------------------------------------\n",
      "[[Support (100%)]] --> [[Refute (100%)]]\n",
      "\n",
      "Autologous transplantation of mesenchymal stem cells causes fewer [[opportunistic]] infections than induction therapy with anti-interleukin-2 receptor antibodies.\n",
      "\n",
      "Autologous transplantation of mesenchymal stem cells causes fewer [[other]] infections than induction therapy with anti-interleukin-2 receptor antibodies.\n",
      "\n",
      "\n"
     ]
    },
    {
     "name": "stderr",
     "output_type": "stream",
     "text": [
      "[Succeeded / Failed / Skipped / Total] 127 / 27 / 0 / 154:  75%|███████▌  | 154/204 [22:41:35<7:22:04, 530.49s/it]"
     ]
    },
    {
     "name": "stdout",
     "output_type": "stream",
     "text": [
      "--------------------------------------------- Result 154 ---------------------------------------------\n",
      "[[Support (100%)]] --> [[Refute (100%)]]\n",
      "\n",
      "Autologous transplantation of mesenchymal stem cells has [[lower]] rates of rejection than induction therapy with anti-interleukin-2 receptor antibodies.\n",
      "\n",
      "Autologous transplantation of mesenchymal stem cells has [[higher]] rates of rejection than induction therapy with anti-interleukin-2 receptor antibodies.\n",
      "\n",
      "\n"
     ]
    },
    {
     "name": "stderr",
     "output_type": "stream",
     "text": [
      "[Succeeded / Failed / Skipped / Total] 128 / 27 / 0 / 155:  76%|███████▌  | 155/204 [22:46:27<7:11:58, 528.95s/it]"
     ]
    },
    {
     "name": "stdout",
     "output_type": "stream",
     "text": [
      "--------------------------------------------- Result 155 ---------------------------------------------\n",
      "[[Support (100%)]] --> [[Refute (100%)]]\n",
      "\n",
      "Autophagy [[declines]] in aged organisms.\n",
      "\n",
      "Autophagy [[continues]] in aged organisms.\n",
      "\n",
      "\n"
     ]
    },
    {
     "name": "stderr",
     "output_type": "stream",
     "text": [
      "[Succeeded / Failed / Skipped / Total] 129 / 27 / 0 / 156:  76%|███████▋  | 156/204 [22:56:31<7:03:32, 529.44s/it]"
     ]
    },
    {
     "name": "stdout",
     "output_type": "stream",
     "text": [
      "--------------------------------------------- Result 156 ---------------------------------------------\n",
      "[[Support (100%)]] --> [[Refute (100%)]]\n",
      "\n",
      "Bone marrow [[cells]] contribute to adult macrophage compartments.\n",
      "\n",
      "Bone marrow [[cannot]] contribute to adult macrophage compartments.\n",
      "\n",
      "\n"
     ]
    },
    {
     "name": "stderr",
     "output_type": "stream",
     "text": [
      "[Succeeded / Failed / Skipped / Total] 130 / 27 / 0 / 157:  77%|███████▋  | 157/204 [23:09:34<6:55:59, 531.05s/it]"
     ]
    },
    {
     "name": "stdout",
     "output_type": "stream",
     "text": [
      "--------------------------------------------- Result 157 ---------------------------------------------\n",
      "[[Support (100%)]] --> [[Refute (100%)]]\n",
      "\n",
      "CX3CR1 on the Th2 cells [[suppresses]] airway inflammation.\n",
      "\n",
      "CX3CR1 on the Th2 cells [[increased]] airway inflammation.\n",
      "\n",
      "\n"
     ]
    },
    {
     "name": "stderr",
     "output_type": "stream",
     "text": [
      "[Succeeded / Failed / Skipped / Total] 131 / 27 / 0 / 158:  77%|███████▋  | 158/204 [23:15:06<6:46:10, 529.79s/it]"
     ]
    },
    {
     "name": "stdout",
     "output_type": "stream",
     "text": [
      "--------------------------------------------- Result 158 ---------------------------------------------\n",
      "[[Support (100%)]] --> [[Refute (100%)]]\n",
      "\n",
      "Cell autonomous [[sex]] determination in somatic cells does not occur in Galliformes.\n",
      "\n",
      "Cell autonomous [[capacity]] determination in somatic cells does not occur in Galliformes.\n",
      "\n",
      "\n"
     ]
    },
    {
     "name": "stderr",
     "output_type": "stream",
     "text": [
      "[Succeeded / Failed / Skipped / Total] 132 / 27 / 0 / 159:  78%|███████▊  | 159/204 [23:21:19<6:36:36, 528.80s/it]"
     ]
    },
    {
     "name": "stdout",
     "output_type": "stream",
     "text": [
      "--------------------------------------------- Result 159 ---------------------------------------------\n",
      "[[Support (100%)]] --> [[Refute (100%)]]\n",
      "\n",
      "Chenodeosycholic acid treatment [[increases]] whole-body energy expenditure.\n",
      "\n",
      "Chenodeosycholic acid treatment [[burns]] whole-body energy expenditure.\n",
      "\n",
      "\n"
     ]
    },
    {
     "name": "stderr",
     "output_type": "stream",
     "text": [
      "[Succeeded / Failed / Skipped / Total] 132 / 28 / 0 / 160:  78%|███████▊  | 160/204 [23:48:46<6:32:54, 535.79s/it]"
     ]
    },
    {
     "name": "stdout",
     "output_type": "stream",
     "text": [
      "--------------------------------------------- Result 160 ---------------------------------------------\n",
      "[[Support (100%)]] --> [[[FAILED]]]\n",
      "\n",
      "Cytochrome c is released from the mitochondrial intermembrane space to cytosol during apoptosis.\n",
      "\n",
      "\n"
     ]
    },
    {
     "name": "stderr",
     "output_type": "stream",
     "text": [
      "[Succeeded / Failed / Skipped / Total] 133 / 28 / 0 / 161:  79%|███████▉  | 161/204 [23:55:06<6:23:17, 534.82s/it]"
     ]
    },
    {
     "name": "stdout",
     "output_type": "stream",
     "text": [
      "--------------------------------------------- Result 161 ---------------------------------------------\n",
      "[[Support (100%)]] --> [[Refute (100%)]]\n",
      "\n",
      "Deletion of [[αvβ8]] does not result in a spontaneous inflammatory phenotype.\n",
      "\n",
      "Deletion of [[expression]] does not result in a spontaneous inflammatory phenotype.\n",
      "\n",
      "\n"
     ]
    },
    {
     "name": "stderr",
     "output_type": "stream",
     "text": [
      "[Succeeded / Failed / Skipped / Total] 134 / 28 / 0 / 162:  79%|███████▉  | 162/204 [24:00:33<6:13:28, 533.54s/it]"
     ]
    },
    {
     "name": "stdout",
     "output_type": "stream",
     "text": [
      "--------------------------------------------- Result 162 ---------------------------------------------\n",
      "[[Support (100%)]] --> [[Refute (100%)]]\n",
      "\n",
      "Dexamethasone [[decreases]] risk of postoperative bleeding.\n",
      "\n",
      "Dexamethasone [[adds]] risk of postoperative bleeding.\n",
      "\n",
      "\n"
     ]
    },
    {
     "name": "stderr",
     "output_type": "stream",
     "text": [
      "[Succeeded / Failed / Skipped / Total] 135 / 28 / 0 / 163:  80%|███████▉  | 163/204 [24:20:08<6:07:16, 537.48s/it]"
     ]
    },
    {
     "name": "stdout",
     "output_type": "stream",
     "text": [
      "--------------------------------------------- Result 163 ---------------------------------------------\n",
      "[[Support (100%)]] --> [[Refute (100%)]]\n",
      "\n",
      "Diabetic patients with acute [[coronary]] syndrome experience increased short-term and long-term risk for bleeding events.\n",
      "\n",
      "Diabetic patients with acute [[surgical]] syndrome experience increased short-term and long-term risk for bleeding events.\n",
      "\n",
      "\n"
     ]
    },
    {
     "name": "stderr",
     "output_type": "stream",
     "text": [
      "[Succeeded / Failed / Skipped / Total] 136 / 28 / 0 / 164:  80%|████████  | 164/204 [24:28:12<5:58:06, 537.15s/it]"
     ]
    },
    {
     "name": "stdout",
     "output_type": "stream",
     "text": [
      "--------------------------------------------- Result 164 ---------------------------------------------\n",
      "[[Support (100%)]] --> [[Refute (100%)]]\n",
      "\n",
      "Enhanced early production of inflammatory chemokines improves viral [[control]] in the lung.\n",
      "\n",
      "Enhanced early production of inflammatory chemokines improves viral [[accumulation]] in the lung.\n",
      "\n",
      "\n"
     ]
    },
    {
     "name": "stderr",
     "output_type": "stream",
     "text": [
      "[Succeeded / Failed / Skipped / Total] 137 / 28 / 0 / 165:  81%|████████  | 165/204 [24:40:27<5:49:55, 538.35s/it]"
     ]
    },
    {
     "name": "stdout",
     "output_type": "stream",
     "text": [
      "--------------------------------------------- Result 165 ---------------------------------------------\n",
      "[[Support (100%)]] --> [[Refute (100%)]]\n",
      "\n",
      "Epigenetic modulating agents (EMAs) [[modulate]] antitumor immune response in a cancer model system.\n",
      "\n",
      "Epigenetic modulating agents (EMAs) [[inhibit]] antitumor immune response in a cancer model system.\n",
      "\n",
      "\n"
     ]
    },
    {
     "name": "stderr",
     "output_type": "stream",
     "text": [
      "[Succeeded / Failed / Skipped / Total] 138 / 28 / 0 / 166:  81%|████████▏ | 166/204 [24:42:30<5:39:22, 535.85s/it]"
     ]
    },
    {
     "name": "stdout",
     "output_type": "stream",
     "text": [
      "--------------------------------------------- Result 166 ---------------------------------------------\n",
      "[[Support (100%)]] --> [[Refute (100%)]]\n",
      "\n",
      "Exposure to [[fine]] particulate air pollution is relate to anxiety prevalence.\n",
      "\n",
      "Exposure to [[ozone]] particulate air pollution is relate to anxiety prevalence.\n",
      "\n",
      "\n"
     ]
    },
    {
     "name": "stderr",
     "output_type": "stream",
     "text": [
      "[Succeeded / Failed / Skipped / Total] 139 / 28 / 0 / 167:  82%|████████▏ | 167/204 [24:53:48<5:30:57, 536.70s/it]"
     ]
    },
    {
     "name": "stdout",
     "output_type": "stream",
     "text": [
      "--------------------------------------------- Result 167 ---------------------------------------------\n",
      "[[Support (100%)]] --> [[Refute (100%)]]\n",
      "\n",
      "Female carriers of the Apolipoprotein E4 (APOE4) allele have [[increased]] risk for dementia.\n",
      "\n",
      "Female carriers of the Apolipoprotein E4 (APOE4) allele have [[decrease]] risk for dementia.\n",
      "\n",
      "\n"
     ]
    },
    {
     "name": "stderr",
     "output_type": "stream",
     "text": [
      "[Succeeded / Failed / Skipped / Total] 140 / 28 / 0 / 168:  82%|████████▏ | 168/204 [25:09:00<5:23:21, 538.93s/it]"
     ]
    },
    {
     "name": "stdout",
     "output_type": "stream",
     "text": [
      "--------------------------------------------- Result 168 ---------------------------------------------\n",
      "[[Support (100%)]] --> [[Refute (100%)]]\n",
      "\n",
      "FoxO3a activation in neuronal death is [[mediated]] by reactive oxygen species (ROS).\n",
      "\n",
      "FoxO3a activation in neuronal death is [[enhanced]] by reactive oxygen species (ROS).\n",
      "\n",
      "\n"
     ]
    },
    {
     "name": "stderr",
     "output_type": "stream",
     "text": [
      "[Succeeded / Failed / Skipped / Total] 140 / 29 / 0 / 169:  83%|████████▎ | 169/204 [25:20:49<5:14:57, 539.94s/it]"
     ]
    },
    {
     "name": "stdout",
     "output_type": "stream",
     "text": [
      "--------------------------------------------- Result 169 ---------------------------------------------\n",
      "[[Support (100%)]] --> [[[FAILED]]]\n",
      "\n",
      "Glycolysis is one of the primary glycometabolic pathways in cells.\n",
      "\n",
      "\n"
     ]
    },
    {
     "name": "stderr",
     "output_type": "stream",
     "text": [
      "[Succeeded / Failed / Skipped / Total] 141 / 29 / 0 / 170:  83%|████████▎ | 170/204 [25:24:44<5:04:56, 538.15s/it]"
     ]
    },
    {
     "name": "stdout",
     "output_type": "stream",
     "text": [
      "--------------------------------------------- Result 170 ---------------------------------------------\n",
      "[[Support (100%)]] --> [[Refute (100%)]]\n",
      "\n",
      "High [[levels]] of CRP reduces the risk of exacerbations in chronic obstructive pulmonary disease (COPD).\n",
      "\n",
      "High [[elevations]] of CRP reduces the risk of exacerbations in chronic obstructive pulmonary disease (COPD).\n",
      "\n",
      "\n"
     ]
    },
    {
     "name": "stderr",
     "output_type": "stream",
     "text": [
      "[Succeeded / Failed / Skipped / Total] 142 / 29 / 0 / 171:  84%|████████▍ | 171/204 [25:33:31<4:55:56, 538.08s/it]"
     ]
    },
    {
     "name": "stdout",
     "output_type": "stream",
     "text": [
      "--------------------------------------------- Result 171 ---------------------------------------------\n",
      "[[Support (100%)]] --> [[Refute (100%)]]\n",
      "\n",
      "Hyperfibrinogenemia decreases [[rates]] of femoropopliteal bypass thrombosis.\n",
      "\n",
      "Hyperfibrinogenemia decreases [[complications]] of femoropopliteal bypass thrombosis.\n",
      "\n",
      "\n"
     ]
    },
    {
     "name": "stderr",
     "output_type": "stream",
     "text": [
      "[Succeeded / Failed / Skipped / Total] 143 / 29 / 0 / 172:  84%|████████▍ | 172/204 [25:42:22<4:46:57, 538.04s/it]"
     ]
    },
    {
     "name": "stdout",
     "output_type": "stream",
     "text": [
      "--------------------------------------------- Result 172 ---------------------------------------------\n",
      "[[Support (100%)]] --> [[Refute (100%)]]\n",
      "\n",
      "Hyperfibrinogenemia increases [[rates]] of femoropopliteal bypass thrombosis.\n",
      "\n",
      "Hyperfibrinogenemia increases [[number]] of femoropopliteal bypass thrombosis.\n",
      "\n",
      "\n"
     ]
    },
    {
     "name": "stderr",
     "output_type": "stream",
     "text": [
      "[Succeeded / Failed / Skipped / Total] 144 / 29 / 0 / 173:  85%|████████▍ | 173/204 [25:45:00<4:36:51, 535.84s/it]"
     ]
    },
    {
     "name": "stdout",
     "output_type": "stream",
     "text": [
      "--------------------------------------------- Result 173 ---------------------------------------------\n",
      "[[Support (100%)]] --> [[Refute (100%)]]\n",
      "\n",
      "IRG1 has [[antiviral]] effects against neurotropic viruses.\n",
      "\n",
      "IRG1 has [[adverse]] effects against neurotropic viruses.\n",
      "\n",
      "\n"
     ]
    },
    {
     "name": "stderr",
     "output_type": "stream",
     "text": [
      "[Succeeded / Failed / Skipped / Total] 145 / 29 / 0 / 174:  85%|████████▌ | 174/204 [25:47:02<4:26:43, 533.46s/it]"
     ]
    },
    {
     "name": "stdout",
     "output_type": "stream",
     "text": [
      "--------------------------------------------- Result 174 ---------------------------------------------\n",
      "[[Support (100%)]] --> [[Refute (100%)]]\n",
      "\n",
      "Incidence rates of [[cervical]] cancer have decreased.\n",
      "\n",
      "Incidence rates of [[abdominal]] cancer have decreased.\n",
      "\n",
      "\n"
     ]
    },
    {
     "name": "stderr",
     "output_type": "stream",
     "text": [
      "[Succeeded / Failed / Skipped / Total] 146 / 29 / 0 / 175:  86%|████████▌ | 175/204 [25:52:12<4:17:13, 532.19s/it]"
     ]
    },
    {
     "name": "stdout",
     "output_type": "stream",
     "text": [
      "--------------------------------------------- Result 175 ---------------------------------------------\n",
      "[[Support (100%)]] --> [[Refute (100%)]]\n",
      "\n",
      "Insomnia can be [[effectively]] treated with cognitive behavioral therapy.\n",
      "\n",
      "Insomnia can be [[immediately]] treated with cognitive behavioral therapy.\n",
      "\n",
      "\n"
     ]
    },
    {
     "name": "stderr",
     "output_type": "stream",
     "text": [
      "[Succeeded / Failed / Skipped / Total] 147 / 29 / 0 / 176:  86%|████████▋ | 176/204 [25:59:52<4:08:09, 531.77s/it]"
     ]
    },
    {
     "name": "stdout",
     "output_type": "stream",
     "text": [
      "--------------------------------------------- Result 176 ---------------------------------------------\n",
      "[[Support (100%)]] --> [[Refute (100%)]]\n",
      "\n",
      "Leuko-reduced blood reduces infectious [[complications]] in red blood cell transfusion.\n",
      "\n",
      "Leuko-reduced blood reduces infectious [[immunity]] in red blood cell transfusion.\n",
      "\n",
      "\n"
     ]
    },
    {
     "name": "stderr",
     "output_type": "stream",
     "text": [
      "[Succeeded / Failed / Skipped / Total] 148 / 29 / 0 / 177:  87%|████████▋ | 177/204 [26:06:19<3:58:55, 530.96s/it]"
     ]
    },
    {
     "name": "stdout",
     "output_type": "stream",
     "text": [
      "--------------------------------------------- Result 177 ---------------------------------------------\n",
      "[[Support (100%)]] --> [[Refute (100%)]]\n",
      "\n",
      "Lupus-prone [[mice]] infected with curliproducing bacteria have higher autoantibody titers compared to controls.\n",
      "\n",
      "Lupus-prone [[cases]] infected with curliproducing bacteria have higher autoantibody titers compared to controls.\n",
      "\n",
      "\n"
     ]
    },
    {
     "name": "stderr",
     "output_type": "stream",
     "text": [
      "[Succeeded / Failed / Skipped / Total] 149 / 29 / 0 / 178:  87%|████████▋ | 178/204 [26:10:10<3:49:21, 529.27s/it]"
     ]
    },
    {
     "name": "stdout",
     "output_type": "stream",
     "text": [
      "--------------------------------------------- Result 178 ---------------------------------------------\n",
      "[[Support (100%)]] --> [[Refute (100%)]]\n",
      "\n",
      "Macrolides [[protect]] against myocardial infarction.\n",
      "\n",
      "Macrolides [[recommend]] against myocardial infarction.\n",
      "\n",
      "\n"
     ]
    },
    {
     "name": "stderr",
     "output_type": "stream",
     "text": [
      "[Succeeded / Failed / Skipped / Total] 149 / 30 / 0 / 179:  88%|████████▊ | 179/204 [26:17:23<3:40:18, 528.73s/it]"
     ]
    },
    {
     "name": "stdout",
     "output_type": "stream",
     "text": [
      "--------------------------------------------- Result 179 ---------------------------------------------\n",
      "[[Support (100%)]] --> [[[FAILED]]]\n",
      "\n",
      "MicroRNA is involved in the regulation of Neural Stem Cell (NSC) differentiation and proliferation dynamic homeostasis\n",
      "\n",
      "\n"
     ]
    },
    {
     "name": "stderr",
     "output_type": "stream",
     "text": [
      "[Succeeded / Failed / Skipped / Total] 150 / 30 / 0 / 180:  88%|████████▊ | 180/204 [26:26:32<3:31:32, 528.85s/it]"
     ]
    },
    {
     "name": "stdout",
     "output_type": "stream",
     "text": [
      "--------------------------------------------- Result 180 ---------------------------------------------\n",
      "[[Support (100%)]] --> [[Refute (100%)]]\n",
      "\n",
      "Monoclonal antibody [[targeting]] of N-cadherin inhibits metastasis.\n",
      "\n",
      "Monoclonal antibody [[deficiency]] of N-cadherin inhibits metastasis.\n",
      "\n",
      "\n"
     ]
    },
    {
     "name": "stderr",
     "output_type": "stream",
     "text": [
      "[Succeeded / Failed / Skipped / Total] 151 / 30 / 0 / 181:  89%|████████▊ | 181/204 [26:36:05<3:22:49, 529.09s/it]"
     ]
    },
    {
     "name": "stdout",
     "output_type": "stream",
     "text": [
      "--------------------------------------------- Result 181 ---------------------------------------------\n",
      "[[Support (100%)]] --> [[Refute (100%)]]\n",
      "\n",
      "NFAT4 activation requires [[IP3R-mediated]] Ca2+ mobilization.\n",
      "\n",
      "NFAT4 activation requires [[inactive]] Ca2+ mobilization.\n",
      "\n",
      "\n"
     ]
    },
    {
     "name": "stderr",
     "output_type": "stream",
     "text": [
      "[Succeeded / Failed / Skipped / Total] 151 / 31 / 0 / 182:  89%|████████▉ | 182/204 [26:42:41<3:13:43, 528.36s/it]"
     ]
    },
    {
     "name": "stdout",
     "output_type": "stream",
     "text": [
      "--------------------------------------------- Result 182 ---------------------------------------------\n",
      "[[Support (100%)]] --> [[[FAILED]]]\n",
      "\n",
      "NR5A2 is important in development of endometrial tissues.\n",
      "\n",
      "\n"
     ]
    },
    {
     "name": "stderr",
     "output_type": "stream",
     "text": [
      "[Succeeded / Failed / Skipped / Total] 151 / 32 / 0 / 183:  90%|████████▉ | 183/204 [27:07:57<3:06:48, 533.76s/it]"
     ]
    },
    {
     "name": "stdout",
     "output_type": "stream",
     "text": [
      "--------------------------------------------- Result 183 ---------------------------------------------\n",
      "[[Support (100%)]] --> [[[FAILED]]]\n",
      "\n",
      "Nanoparticles can be targeted against specific cell types by incorporating aptamers into lipid nanoparticles.\n",
      "\n",
      "\n"
     ]
    },
    {
     "name": "stderr",
     "output_type": "stream",
     "text": [
      "[Succeeded / Failed / Skipped / Total] 152 / 32 / 0 / 184:  90%|█████████ | 184/204 [27:22:41<2:58:33, 535.66s/it]"
     ]
    },
    {
     "name": "stdout",
     "output_type": "stream",
     "text": [
      "--------------------------------------------- Result 184 ---------------------------------------------\n",
      "[[Support (100%)]] --> [[Refute (100%)]]\n",
      "\n",
      "Neutrophil extracellular traps (NETs) are [[released]] by ANCA-stimulated neutrophils.\n",
      "\n",
      "Neutrophil extracellular traps (NETs) are [[degraded]] by ANCA-stimulated neutrophils.\n",
      "\n",
      "\n"
     ]
    },
    {
     "name": "stderr",
     "output_type": "stream",
     "text": [
      "[Succeeded / Failed / Skipped / Total] 153 / 32 / 0 / 185:  91%|█████████ | 185/204 [27:27:10<2:49:10, 534.22s/it]"
     ]
    },
    {
     "name": "stdout",
     "output_type": "stream",
     "text": [
      "--------------------------------------------- Result 185 ---------------------------------------------\n",
      "[[Support (100%)]] --> [[Refute (100%)]]\n",
      "\n",
      "PD-1 triggering on monocytes reduces [[IL-10]] production by monocytes.\n",
      "\n",
      "PD-1 triggering on monocytes reduces [[calcium]] production by monocytes.\n",
      "\n",
      "\n"
     ]
    },
    {
     "name": "stderr",
     "output_type": "stream",
     "text": [
      "[Succeeded / Failed / Skipped / Total] 154 / 32 / 0 / 186:  91%|█████████ | 186/204 [27:44:35<2:41:05, 536.96s/it]"
     ]
    },
    {
     "name": "stdout",
     "output_type": "stream",
     "text": [
      "--------------------------------------------- Result 186 ---------------------------------------------\n",
      "[[Support (100%)]] --> [[Refute (100%)]]\n",
      "\n",
      "Participating in six months of physical activity [[improves]] cognitive functioning.\n",
      "\n",
      "Participating in six months of physical activity [[decreased]] cognitive functioning.\n",
      "\n",
      "\n"
     ]
    },
    {
     "name": "stderr",
     "output_type": "stream",
     "text": [
      "[Succeeded / Failed / Skipped / Total] 155 / 32 / 0 / 187:  92%|█████████▏| 187/204 [27:46:41<2:31:31, 534.77s/it]"
     ]
    },
    {
     "name": "stdout",
     "output_type": "stream",
     "text": [
      "--------------------------------------------- Result 187 ---------------------------------------------\n",
      "[[Support (100%)]] --> [[Refute (100%)]]\n",
      "\n",
      "Podocytes are [[motile]] and migrate in the presence of injury.\n",
      "\n",
      "Podocytes are [[normal]] and migrate in the presence of injury.\n",
      "\n",
      "\n"
     ]
    },
    {
     "name": "stderr",
     "output_type": "stream",
     "text": [
      "[Succeeded / Failed / Skipped / Total] 156 / 32 / 0 / 188:  92%|█████████▏| 188/204 [27:50:13<2:22:08, 533.05s/it]"
     ]
    },
    {
     "name": "stdout",
     "output_type": "stream",
     "text": [
      "--------------------------------------------- Result 188 ---------------------------------------------\n",
      "[[Support (100%)]] --> [[Refute (100%)]]\n",
      "\n",
      "Pyridostatin [[destabilizes]] the G - quadruplex in the telomeric region.\n",
      "\n",
      "Pyridostatin [[forms]] the G - quadruplex in the telomeric region.\n",
      "\n",
      "\n"
     ]
    },
    {
     "name": "stderr",
     "output_type": "stream",
     "text": [
      "[Succeeded / Failed / Skipped / Total] 156 / 33 / 0 / 189:  93%|█████████▎| 189/204 [28:09:43<2:14:06, 536.42s/it]"
     ]
    },
    {
     "name": "stdout",
     "output_type": "stream",
     "text": [
      "--------------------------------------------- Result 189 ---------------------------------------------\n",
      "[[Support (100%)]] --> [[[FAILED]]]\n",
      "\n",
      "Rapid phosphotransfer rates govern fidelity in two component systems\n",
      "\n",
      "\n"
     ]
    },
    {
     "name": "stderr",
     "output_type": "stream",
     "text": [
      "[Succeeded / Failed / Skipped / Total] 157 / 33 / 0 / 190:  93%|█████████▎| 190/204 [28:21:24<2:05:22, 537.29s/it]"
     ]
    },
    {
     "name": "stdout",
     "output_type": "stream",
     "text": [
      "--------------------------------------------- Result 190 ---------------------------------------------\n",
      "[[Support (100%)]] --> [[Refute (100%)]]\n",
      "\n",
      "Rapid up-regulation and higher basal expression of interferon-induced genes [[increase]] survival of granule cell neurons that are infected by West Nile virus.\n",
      "\n",
      "Rapid up-regulation and higher basal expression of interferon-induced genes [[impaired]] survival of granule cell neurons that are infected by West Nile virus.\n",
      "\n",
      "\n"
     ]
    },
    {
     "name": "stderr",
     "output_type": "stream",
     "text": [
      "[Succeeded / Failed / Skipped / Total] 158 / 33 / 0 / 191:  94%|█████████▎| 191/204 [28:34:57<1:56:43, 538.73s/it]"
     ]
    },
    {
     "name": "stdout",
     "output_type": "stream",
     "text": [
      "--------------------------------------------- Result 191 ---------------------------------------------\n",
      "[[Support (100%)]] --> [[Refute (100%)]]\n",
      "\n",
      "Sildenafil improves erectile function in men who [[experience]] sexual dysfunction as a result of the use of SSRI antidepressants.\n",
      "\n",
      "Sildenafil improves erectile function in men who [[maintain]] sexual dysfunction as a result of the use of SSRI antidepressants.\n",
      "\n",
      "\n"
     ]
    },
    {
     "name": "stderr",
     "output_type": "stream",
     "text": [
      "[Succeeded / Failed / Skipped / Total] 159 / 33 / 0 / 192:  94%|█████████▍| 192/204 [28:42:51<1:47:40, 538.40s/it]"
     ]
    },
    {
     "name": "stdout",
     "output_type": "stream",
     "text": [
      "--------------------------------------------- Result 192 ---------------------------------------------\n",
      "[[Support (100%)]] --> [[Refute (100%)]]\n",
      "\n",
      "Stroke patients with prior use of direct oral anticoagulants have a [[lower]] risk of in-hospital mortality than stroke patients with prior use of warfarin.\n",
      "\n",
      "Stroke patients with prior use of direct oral anticoagulants have a [[weaker]] risk of in-hospital mortality than stroke patients with prior use of warfarin.\n",
      "\n",
      "\n"
     ]
    },
    {
     "name": "stderr",
     "output_type": "stream",
     "text": [
      "[Succeeded / Failed / Skipped / Total] 159 / 34 / 0 / 193:  95%|█████████▍| 193/204 [28:51:27<1:38:41, 538.28s/it]"
     ]
    },
    {
     "name": "stdout",
     "output_type": "stream",
     "text": [
      "--------------------------------------------- Result 193 ---------------------------------------------\n",
      "[[Support (100%)]] --> [[[FAILED]]]\n",
      "\n",
      "TCR/CD3 microdomains are a required to induce the immunologic synapse to activate T cells.\n",
      "\n",
      "\n"
     ]
    },
    {
     "name": "stderr",
     "output_type": "stream",
     "text": [
      "[Succeeded / Failed / Skipped / Total] 159 / 35 / 0 / 194:  95%|█████████▌| 194/204 [28:58:01<1:29:35, 537.53s/it]"
     ]
    },
    {
     "name": "stdout",
     "output_type": "stream",
     "text": [
      "--------------------------------------------- Result 194 ---------------------------------------------\n",
      "[[Support (100%)]] --> [[[FAILED]]]\n",
      "\n",
      "TNFAIP3 is a tumor suppressor in glioblastoma.\n",
      "\n",
      "\n"
     ]
    },
    {
     "name": "stderr",
     "output_type": "stream",
     "text": [
      "[Succeeded / Failed / Skipped / Total] 160 / 35 / 0 / 195:  96%|█████████▌| 195/204 [29:03:36<1:20:28, 536.49s/it]"
     ]
    },
    {
     "name": "stdout",
     "output_type": "stream",
     "text": [
      "--------------------------------------------- Result 195 ---------------------------------------------\n",
      "[[Support (100%)]] --> [[Refute (100%)]]\n",
      "\n",
      "Teaching hospitals do not [[provide]] better care than non-teaching hospitals.\n",
      "\n",
      "Teaching hospitals do not [[allow]] better care than non-teaching hospitals.\n",
      "\n",
      "\n"
     ]
    },
    {
     "name": "stderr",
     "output_type": "stream",
     "text": [
      "[Succeeded / Failed / Skipped / Total] 161 / 35 / 0 / 196:  96%|█████████▌| 196/204 [29:18:14<1:11:45, 538.24s/it]"
     ]
    },
    {
     "name": "stdout",
     "output_type": "stream",
     "text": [
      "--------------------------------------------- Result 196 ---------------------------------------------\n",
      "[[Support (100%)]] --> [[Refute (100%)]]\n",
      "\n",
      "The PRR MDA5 is a [[sensor]] of RNA virus infection.\n",
      "\n",
      "The PRR MDA5 is a [[clone]] of RNA virus infection.\n",
      "\n",
      "\n"
     ]
    },
    {
     "name": "stderr",
     "output_type": "stream",
     "text": [
      "[Succeeded / Failed / Skipped / Total] 162 / 35 / 0 / 197:  97%|█████████▋| 197/204 [29:33:40<1:03:01, 540.20s/it]"
     ]
    },
    {
     "name": "stdout",
     "output_type": "stream",
     "text": [
      "--------------------------------------------- Result 197 ---------------------------------------------\n",
      "[[Support (100%)]] --> [[Refute (100%)]]\n",
      "\n",
      "The extracellular domain of TMEM27 is [[cleaved]] in human beta cells.\n",
      "\n",
      "The extracellular domain of TMEM27 is [[localized]] in human beta cells.\n",
      "\n",
      "\n"
     ]
    },
    {
     "name": "stderr",
     "output_type": "stream",
     "text": [
      "[Succeeded / Failed / Skipped / Total] 163 / 35 / 0 / 198:  97%|█████████▋| 198/204 [29:38:47<53:54, 539.03s/it]  "
     ]
    },
    {
     "name": "stdout",
     "output_type": "stream",
     "text": [
      "--------------------------------------------- Result 198 ---------------------------------------------\n",
      "[[Support (100%)]] --> [[Refute (100%)]]\n",
      "\n",
      "The relationship between a breast cancer patient's capacity to metabolize tamoxifen and [[treatment]] outcome is dependent on the patient's genetic make-up.\n",
      "\n",
      "The relationship between a breast cancer patient's capacity to metabolize tamoxifen and [[cure]] outcome is dependent on the patient's genetic make-up.\n",
      "\n",
      "\n"
     ]
    },
    {
     "name": "stderr",
     "output_type": "stream",
     "text": [
      "[Succeeded / Failed / Skipped / Total] 164 / 35 / 0 / 199:  98%|█████████▊| 199/204 [29:42:26<44:47, 537.42s/it]"
     ]
    },
    {
     "name": "stdout",
     "output_type": "stream",
     "text": [
      "--------------------------------------------- Result 199 ---------------------------------------------\n",
      "[[Support (100%)]] --> [[Refute (100%)]]\n",
      "\n",
      "The severity of cardiac involvement in amyloidosis can be described by the degree of transmurality of [[late]] gadolinium enhancement in MRI.\n",
      "\n",
      "The severity of cardiac involvement in amyloidosis can be described by the degree of transmurality of [[mean]] gadolinium enhancement in MRI.\n",
      "\n",
      "\n"
     ]
    },
    {
     "name": "stderr",
     "output_type": "stream",
     "text": [
      "[Succeeded / Failed / Skipped / Total] 164 / 36 / 0 / 200:  98%|█████████▊| 200/204 [29:59:53<35:59, 539.97s/it]"
     ]
    },
    {
     "name": "stdout",
     "output_type": "stream",
     "text": [
      "--------------------------------------------- Result 200 ---------------------------------------------\n",
      "[[Support (100%)]] --> [[[FAILED]]]\n",
      "\n",
      "Transplanted human glial cells can differentiate within the host animal.\n",
      "\n",
      "\n"
     ]
    },
    {
     "name": "stderr",
     "output_type": "stream",
     "text": [
      "[Succeeded / Failed / Skipped / Total] 165 / 36 / 0 / 201:  99%|█████████▊| 201/204 [30:06:01<26:57, 539.11s/it]"
     ]
    },
    {
     "name": "stdout",
     "output_type": "stream",
     "text": [
      "--------------------------------------------- Result 201 ---------------------------------------------\n",
      "[[Support (100%)]] --> [[Refute (100%)]]\n",
      "\n",
      "Upregulation of [[mosGCTL-1]] is induced upon infection with West Nile virus.\n",
      "\n",
      "Upregulation of [[glucose]] is induced upon infection with West Nile virus.\n",
      "\n",
      "\n"
     ]
    },
    {
     "name": "stderr",
     "output_type": "stream",
     "text": [
      "[Succeeded / Failed / Skipped / Total] 166 / 36 / 0 / 202:  99%|█████████▉| 202/204 [30:14:55<17:58, 539.09s/it]"
     ]
    },
    {
     "name": "stdout",
     "output_type": "stream",
     "text": [
      "--------------------------------------------- Result 202 ---------------------------------------------\n",
      "[[Support (100%)]] --> [[Refute (100%)]]\n",
      "\n",
      "Vitamin D deficiency effects the [[term]] of delivery.\n",
      "\n",
      "Vitamin D deficiency effects the [[angle]] of delivery.\n",
      "\n",
      "\n"
     ]
    },
    {
     "name": "stderr",
     "output_type": "stream",
     "text": [
      "[Succeeded / Failed / Skipped / Total] 167 / 36 / 0 / 203: 100%|█████████▉| 203/204 [30:17:34<08:57, 537.21s/it]"
     ]
    },
    {
     "name": "stdout",
     "output_type": "stream",
     "text": [
      "--------------------------------------------- Result 203 ---------------------------------------------\n",
      "[[Support (100%)]] --> [[Refute (100%)]]\n",
      "\n",
      "Vitamin [[D]] deficiency is unrelated to birth weight.\n",
      "\n",
      "Vitamin [[b]] deficiency is unrelated to birth weight.\n",
      "\n",
      "\n"
     ]
    },
    {
     "name": "stderr",
     "output_type": "stream",
     "text": [
      "[Succeeded / Failed / Skipped / Total] 168 / 36 / 0 / 204: 100%|██████████| 204/204 [30:24:59<00:00, 536.76s/it]"
     ]
    },
    {
     "name": "stdout",
     "output_type": "stream",
     "text": [
      "--------------------------------------------- Result 204 ---------------------------------------------\n",
      "[[Support (100%)]] --> [[Refute (100%)]]\n",
      "\n",
      "cSMAC formation [[enhances]] weak ligand signalling.\n",
      "\n",
      "cSMAC formation [[implies]] weak ligand signalling.\n",
      "\n",
      "\n",
      "\n",
      "+-------------------------------+--------+\n",
      "| Attack Results                |        |\n",
      "+-------------------------------+--------+\n",
      "| Number of successful attacks: | 168    |\n",
      "| Number of failed attacks:     | 36     |\n",
      "| Number of skipped attacks:    | 0      |\n",
      "| Original accuracy:            | 100.0% |\n",
      "| Accuracy under attack:        | 17.65% |\n",
      "| Attack success rate:          | 82.35% |\n",
      "| Average perturbed word %:     | 10.07% |\n",
      "| Average num. words per input: | 11.47  |\n",
      "| Avg num queries:              | 100.01 |\n",
      "+-------------------------------+--------+\n"
     ]
    },
    {
     "name": "stderr",
     "output_type": "stream",
     "text": [
      "\n"
     ]
    }
   ],
   "source": [
    "class_model = PARAPHRASE_PROJECT_SETTINGS['config_scifact']['rationale_model_name']\n",
    "\n",
    "attack_args_bae = AttackArgs(num_examples=-1, log_to_csv=\"../../logs/log_textattack_bae_support.csv\", csv_coloring_style=\"html\")\n",
    "model_wrapper_bae = ScifactModelWrapper(class_model)\n",
    "attack_bae = BAEGarg2019.build(model_wrapper_bae)\n",
    "\n",
    "attacker_bae = Attacker(attack_bae, ds_claim_label, attack_args_bae)\n",
    "attack_results_bae = attacker_bae.attack_dataset()"
   ]
  },
  {
   "cell_type": "code",
   "execution_count": 41,
   "id": "e005e93e",
   "metadata": {
    "ExecuteTime": {
     "end_time": "2022-01-23T14:28:01.522982Z",
     "start_time": "2022-01-23T14:28:01.519712Z"
    }
   },
   "outputs": [],
   "source": [
    "perturb_results_bae = []"
   ]
  },
  {
   "cell_type": "code",
   "execution_count": 42,
   "id": "8d5747f8",
   "metadata": {
    "ExecuteTime": {
     "end_time": "2022-01-23T14:28:01.529614Z",
     "start_time": "2022-01-23T14:28:01.525351Z"
    }
   },
   "outputs": [],
   "source": [
    "perturb_results_bae.extend([(cur_result.original_text(), cur_result.perturbed_text(), cur_result.num_queries, \n",
    "                                    str(cur_result.__class__.__name__), 'bae_garg_2019') for cur_result in attack_results_bae] )"
   ]
  },
  {
   "cell_type": "code",
   "execution_count": 43,
   "id": "75c65ac5",
   "metadata": {
    "ExecuteTime": {
     "end_time": "2022-01-23T14:28:01.534605Z",
     "start_time": "2022-01-23T14:28:01.531266Z"
    }
   },
   "outputs": [],
   "source": [
    "df_bae= pd.DataFrame(perturb_results_bae, columns = ['org_claim', 'gen_claim', \n",
    "                                                                    'num_of_query', 'attack_result', 'attack_method'])"
   ]
  },
  {
   "cell_type": "code",
   "execution_count": 44,
   "id": "3d3ca532",
   "metadata": {
    "ExecuteTime": {
     "end_time": "2022-01-23T14:28:01.540791Z",
     "start_time": "2022-01-23T14:28:01.536138Z"
    }
   },
   "outputs": [],
   "source": [
    "df_bae.to_pickle('../../dfs_generated/paraphrased/existing_literature_methods/scifact_as_black_box_model_2_output/scifact_bae_garg_2019_sup_to_ref_2opt.pkl')\n",
    "df_bae.to_csv('../../dfs_generated/paraphrased/existing_literature_methods/scifact_as_black_box_model_2_output/scifact_bae_garg_2019_sup_to_ref_2opt.csv')"
   ]
  },
  {
   "cell_type": "code",
   "execution_count": null,
   "id": "dd39ea0e",
   "metadata": {},
   "outputs": [],
   "source": []
  },
  {
   "cell_type": "markdown",
   "id": "f53aa98e",
   "metadata": {},
   "source": [
    "## BERT-ATTACK "
   ]
  },
  {
   "cell_type": "markdown",
   "id": "4cdcdf5f",
   "metadata": {},
   "source": [
    "Applied the modification of:\n",
    "https://github.com/QData/TextAttack/issues/586\n",
    "> max_candidates=4\n",
    "\n",
    "> total query = 4^4 = 256 query budget"
   ]
  },
  {
   "cell_type": "code",
   "execution_count": null,
   "id": "e61f0525",
   "metadata": {
    "ExecuteTime": {
     "start_time": "2022-01-20T16:54:54.063Z"
    }
   },
   "outputs": [],
   "source": [
    "from textattack.attack_recipes.bert_attack_li_2020 import BERTAttackLi2020"
   ]
  },
  {
   "cell_type": "code",
   "execution_count": null,
   "id": "443dcca6",
   "metadata": {
    "ExecuteTime": {
     "start_time": "2022-01-20T16:54:54.065Z"
    }
   },
   "outputs": [],
   "source": [
    "#model_btk = transformers.AutoModelForSequenceClassification.from_pretrained(PARAPHRASE_PROJECT_SETTINGS['config_scifact']['cls_model_name'])\n",
    "#tokenizer_btk = transformers.AutoTokenizer.from_pretrained(PARAPHRASE_PROJECT_SETTINGS['config_scifact']['cls_model_name'])\n",
    "\n",
    "#model_wrapper_btk = HuggingFaceModelWrapper(model_btk, tokenizer_btk)"
   ]
  },
  {
   "cell_type": "code",
   "execution_count": null,
   "id": "a641b8b6",
   "metadata": {
    "ExecuteTime": {
     "start_time": "2022-01-20T16:54:54.067Z"
    }
   },
   "outputs": [],
   "source": [
    "class_model = PARAPHRASE_PROJECT_SETTINGS['config_scifact']['rationale_model_name']\n",
    "#attack_args_fooler = AttackArgs(num_examples=-1)\n",
    "attack_args_ber_attack = AttackArgs(num_examples=-1, log_to_csv=\"../../logs/bert_attack_log_results.csv\", csv_coloring_style=\"html\")\n",
    "model_wrapper_txt_ber_attack = ScifactModelWrapper(class_model)\n",
    "attack_txt_ber_attack = BERTAttackLi2020.build(model_wrapper_txt_ber_attack)\n",
    "attacker_txt_ber_attack = Attacker(attack_txt_ber_attack, ds_claim_label, attack_args_ber_attack)\n",
    "attack_results_txt_ber_attack = attacker_txt_ber_attack.attack_dataset()"
   ]
  },
  {
   "cell_type": "code",
   "execution_count": null,
   "id": "839653b2",
   "metadata": {
    "ExecuteTime": {
     "start_time": "2022-01-20T16:54:54.069Z"
    }
   },
   "outputs": [],
   "source": [
    "perturb_results_btk = []"
   ]
  },
  {
   "cell_type": "code",
   "execution_count": null,
   "id": "32b7f390",
   "metadata": {
    "ExecuteTime": {
     "start_time": "2022-01-20T16:54:54.071Z"
    }
   },
   "outputs": [],
   "source": [
    "perturb_results_btk.extend([(cur_result.original_text(), cur_result.perturbed_text(), cur_result.num_queries, \n",
    "                                    str(cur_result.__class__.__name__), 'bert_attack_li_2020') for cur_result in attack_results_txt_ber_attack] )"
   ]
  },
  {
   "cell_type": "code",
   "execution_count": null,
   "id": "d113cb9e",
   "metadata": {
    "ExecuteTime": {
     "start_time": "2022-01-20T16:54:54.073Z"
    }
   },
   "outputs": [],
   "source": [
    "df_btk= pd.DataFrame(perturb_results_btk, columns = ['org_claim', 'gen_claim', \n",
    "                                                                    'num_of_query', 'attack_result', 'attack_method'])"
   ]
  },
  {
   "cell_type": "code",
   "execution_count": null,
   "id": "848d76b7",
   "metadata": {
    "ExecuteTime": {
     "start_time": "2022-01-20T16:54:54.074Z"
    }
   },
   "outputs": [],
   "source": [
    "df_btk.to_pickle('../../dfs_generated/paraphrased/existing_literature_methods/scifact_as_black_box_model_2_output/scifacti_as_black_box_model/bert_attack_li_2020_sup_to_ref_2_output.pkl')\n",
    "df_btk.to_csv('../../dfs_generated/paraphrased/existing_literature_methods/scifact_as_black_box_model_2_output/scifacti_as_black_box_model/bert_attack_li_2020_sup_to_ref_2_output.csv')"
   ]
  },
  {
   "cell_type": "code",
   "execution_count": null,
   "id": "ce54dcd6",
   "metadata": {},
   "outputs": [],
   "source": []
  },
  {
   "cell_type": "code",
   "execution_count": null,
   "id": "8b45d79f",
   "metadata": {},
   "outputs": [],
   "source": []
  },
  {
   "cell_type": "code",
   "execution_count": null,
   "id": "02fbbd4c",
   "metadata": {},
   "outputs": [],
   "source": []
  },
  {
   "cell_type": "code",
   "execution_count": null,
   "id": "15fe0098",
   "metadata": {},
   "outputs": [],
   "source": []
  }
 ],
 "metadata": {
  "kernelspec": {
   "display_name": "Python [conda env:scifact] *",
   "language": "python",
   "name": "conda-env-scifact-py"
  },
  "language_info": {
   "codemirror_mode": {
    "name": "ipython",
    "version": 3
   },
   "file_extension": ".py",
   "mimetype": "text/x-python",
   "name": "python",
   "nbconvert_exporter": "python",
   "pygments_lexer": "ipython3",
   "version": "3.7.11"
  },
  "toc": {
   "base_numbering": 1,
   "nav_menu": {},
   "number_sections": true,
   "sideBar": true,
   "skip_h1_title": false,
   "title_cell": "Table of Contents",
   "title_sidebar": "Contents",
   "toc_cell": false,
   "toc_position": {
    "height": "calc(100% - 180px)",
    "left": "10px",
    "top": "150px",
    "width": "273.188px"
   },
   "toc_section_display": true,
   "toc_window_display": true
  }
 },
 "nbformat": 4,
 "nbformat_minor": 5
}
