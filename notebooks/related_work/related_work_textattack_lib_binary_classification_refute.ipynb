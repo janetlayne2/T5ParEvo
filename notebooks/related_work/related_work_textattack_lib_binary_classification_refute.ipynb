{
 "cells": [
  {
   "cell_type": "code",
   "execution_count": 1,
   "id": "3c81a8fe",
   "metadata": {
    "ExecuteTime": {
     "end_time": "2022-01-24T22:48:54.714266Z",
     "start_time": "2022-01-24T22:48:54.706590Z"
    }
   },
   "outputs": [],
   "source": [
    "from datetime import datetime\n",
    "cur_date_time = datetime.today().strftime('%Y_%m_%d_%H_%M')\n",
    "log_dir = \"../../logs/\"\n",
    "project_name = 'textattack_lib_textfooler_WHOLE_SCIFACT_refute_major_checklist'\n",
    "version = '0.0.1'\n",
    "log_file_dir_name = log_dir+project_name+'_'+version+'.log'\n",
    "\n",
    "import logging\n",
    "  \n",
    "#Create and configure logger\n",
    "logging.basicConfig(filename=log_file_dir_name,\n",
    "                    level=logging.INFO,\n",
    "                    format='%(message)s',\n",
    "                    filemode='w')\n",
    "\n",
    "log_file_fine_tune_callback = '../../logs/log_textattack_lib_refute_major_checklist.txt'"
   ]
  },
  {
   "cell_type": "code",
   "execution_count": 2,
   "id": "c484c279",
   "metadata": {
    "ExecuteTime": {
     "end_time": "2022-01-24T22:49:04.338791Z",
     "start_time": "2022-01-24T22:48:54.717686Z"
    }
   },
   "outputs": [],
   "source": [
    "import transformers\n",
    "from textattack.models.wrappers import HuggingFaceModelWrapper"
   ]
  },
  {
   "cell_type": "code",
   "execution_count": 3,
   "id": "006a9152",
   "metadata": {
    "ExecuteTime": {
     "end_time": "2022-01-24T22:49:04.344882Z",
     "start_time": "2022-01-24T22:49:04.341282Z"
    }
   },
   "outputs": [],
   "source": [
    "from textattack.goal_functions import UntargetedClassification\n",
    "from textattack.search_methods import GreedySearch\n",
    "from textattack.constraints.pre_transformation import RepeatModification, StopwordModification\n",
    "from textattack import Attack\n",
    "from textattack.transformations import WordSwap\n",
    "\n",
    "from textattack.loggers import CSVLogger # tracks a dataframe for us.\n",
    "from textattack.attack_results import SuccessfulAttackResult\n",
    "from textattack import Attacker\n",
    "from textattack import AttackArgs\n",
    "from textattack.datasets import Dataset\n",
    "import textattack"
   ]
  },
  {
   "cell_type": "code",
   "execution_count": 4,
   "id": "ac8af87e",
   "metadata": {
    "ExecuteTime": {
     "end_time": "2022-01-24T22:49:04.837890Z",
     "start_time": "2022-01-24T22:49:04.347245Z"
    }
   },
   "outputs": [],
   "source": [
    "from sklearn.model_selection import train_test_split\n",
    "from tensorflow.keras.callbacks import EarlyStopping\n",
    "\n",
    "import torch\n",
    "from torch.utils.data import Dataset, DataLoader\n",
    "#import pytorch_lightning as pl\n",
    "\n",
    "from transformers import GPT2Tokenizer\n",
    "from transformers import AutoModelForSequenceClassification, AutoTokenizer, AutoModelForSeq2SeqLM\n",
    "\n",
    "from sentence_transformers import SentenceTransformer, util\n",
    "from transformers import AdamW, T5ForConditionalGeneration, T5Tokenizer, get_linear_schedule_with_warmup\n",
    "\n",
    "import re\n",
    "import sys\n",
    "import random\n",
    "from random import choices\n",
    "import os\n",
    "from itertools import chain\n",
    "from string import punctuation\n",
    "import time\n",
    "import argparse\n",
    "\n",
    "import csv\n",
    "import json\n",
    "\n",
    "import logging\n",
    "\n",
    "import traceback\n",
    "import gc\n",
    "from enum import Enum \n",
    "\n",
    "import numpy as np\n",
    "import pandas as pd\n",
    "from statistics import mean\n",
    "\n",
    "import matplotlib.pyplot as plt\n",
    "\n",
    "\n",
    "# from trl.gpt2 import GPT2HeadWithValueModel, respond_to_batch\n",
    "# from trl.ppo import PPOTrainer\n",
    "#from trl.core import build_bert_batch_from_txt\n",
    "\n",
    "from IPython.core.display import Markdown,display, HTML, Latex\n",
    "import qgrid\n",
    "\n",
    "from verisci.covid import AbstractRetriever, RationaleSelector, LabelPredictor\n",
    "from verisci.evaluate.lib.data import GoldDataset\n",
    "\n",
    "from GPUtil import showUtilization as gpu_usage\n",
    "import wandb\n",
    "\n",
    "from tqdm.notebook import tqdm\n",
    "tqdm.pandas()\n",
    "import pickle"
   ]
  },
  {
   "cell_type": "code",
   "execution_count": 5,
   "id": "f5ff7d87",
   "metadata": {
    "ExecuteTime": {
     "end_time": "2022-01-24T22:49:04.843839Z",
     "start_time": "2022-01-24T22:49:04.840476Z"
    }
   },
   "outputs": [],
   "source": [
    "from sklearn import preprocessing\n"
   ]
  },
  {
   "cell_type": "code",
   "execution_count": 6,
   "id": "f6823c9a",
   "metadata": {
    "ExecuteTime": {
     "end_time": "2022-01-24T22:49:04.848528Z",
     "start_time": "2022-01-24T22:49:04.845519Z"
    }
   },
   "outputs": [],
   "source": [
    "pd.set_option(\"display.precision\", 2)"
   ]
  },
  {
   "cell_type": "code",
   "execution_count": 7,
   "id": "f2902c90",
   "metadata": {
    "ExecuteTime": {
     "end_time": "2022-01-24T22:49:04.852718Z",
     "start_time": "2022-01-24T22:49:04.850118Z"
    }
   },
   "outputs": [],
   "source": [
    "device = torch.device(\"cuda\" if torch.cuda.is_available() else \"cpu\")"
   ]
  },
  {
   "cell_type": "code",
   "execution_count": 8,
   "id": "a22bd4c3",
   "metadata": {
    "ExecuteTime": {
     "end_time": "2022-01-24T22:49:04.865478Z",
     "start_time": "2022-01-24T22:49:04.858184Z"
    }
   },
   "outputs": [],
   "source": [
    "class ParaphraseTargetDirection(Enum):\n",
    "    org_support_to_gen_refute = 0\n",
    "    org_refute_to_gen_support = 1\n",
    "    \n",
    "def set_seed(seed):\n",
    "    random.seed(seed)\n",
    "    np.random.seed(seed)\n",
    "    torch.manual_seed(seed)\n",
    "    if torch.cuda.is_available():\n",
    "        torch.cuda.manual_seed_all(seed)\n",
    "\n",
    "set_seed(37)    "
   ]
  },
  {
   "cell_type": "code",
   "execution_count": 9,
   "id": "f55101dc",
   "metadata": {
    "ExecuteTime": {
     "end_time": "2022-01-24T22:49:04.870232Z",
     "start_time": "2022-01-24T22:49:04.867624Z"
    }
   },
   "outputs": [],
   "source": [
    "logging.info(\"#### \\n\\n>>> Starting... >>> \")"
   ]
  },
  {
   "cell_type": "code",
   "execution_count": 10,
   "id": "a5cb4bff",
   "metadata": {
    "ExecuteTime": {
     "end_time": "2022-01-24T22:49:04.877859Z",
     "start_time": "2022-01-24T22:49:04.871977Z"
    }
   },
   "outputs": [],
   "source": [
    "PARAPHRASE_PROJECT_SETTINGS={\n",
    "    'file_and_dirs': {\n",
    "        'file_paraphrased_no_tune_all_model_full' : '../../dfs_generated/paraphrased/t5_no_fine_tune_generated_claim_all_model_df_full_1.pkl', # can be deleted\n",
    "        'file_org_claims_by_scifact' : '../../dfs_generated/scifact/org_claim_ext_label_roberta_large_fever.pkl',\n",
    "    },\n",
    "    'config_scifact' : {\n",
    "        'cls_model_name': '../../scifact/model/label_roberta_large_fever_scifact',\n",
    "        'rationale_model_name': '../../scifact/model/rationale_roberta_large_fever_scifact',\n",
    "        'loc_gold_ds_corpus' : '../../scifact/data/corpus.jsonl', \n",
    "        'loc_gold_ds_train' : '../../scifact/data/claims_train.jsonl', \n",
    "        'loc_gold_ds_dev' : '../../scifact/data/claims_dev.jsonl', \n",
    "\n",
    "    },\n",
    "    \n",
    "    \n",
    "    'paraphrase_model' :\n",
    "    {\n",
    "        'list_potential_paraphrase_models' : \n",
    "            [\n",
    "                {'model_name' : 'parasci_base_no_fine_tune' , 'model_path_or_url' : 'HelloRusk/t5-base-parasci', 'is_selected' : False},\n",
    "                {'model_name' : 'parrot_base_no_fine_tune' , 'model_path_or_url' : 'prithivida/parrot_paraphraser_on_T5', 'is_selected' : False},\n",
    "                {'model_name' : 'parrot_div_base_no_fine_tune' , 'model_path_or_url' : 'prithivida/parrot_paraphraser_on_T5', 'is_selected' : False},\n",
    "                {'model_name' : 'pegasus_base_no_fine_tune' , 'model_path_or_url' : 'tuner007/pegasus_paraphrase', 'is_selected' : False},\n",
    "                {'model_name' : 'paws_base_no_fine_tune' , 'model_path_or_url' : 'Vamsi/T5_Paraphrase_Paws', 'is_selected' : True},\n",
    "                {'model_name' : 'tapaco_base_no_fine_tune' , 'model_path_or_url' : 'hetpandya/t5-base-tapaco', 'is_selected' : False},\n",
    "                {'model_name' : 'sci_five_pubmed' , 'model_path_or_url' : 'razent/SciFive-large-Pubmed_PMC', 'is_selected' : False}\n",
    "            ],\n",
    "        't5_paraphrase_model_params':\n",
    "        {\n",
    "            'max_length':256,\n",
    "            'do_sample':True,\n",
    "            'top_k':50,\n",
    "            'top_p': 0.99,\n",
    "            'repetition_penalty':3.5,\n",
    "            'early_stopping':True,\n",
    "            'num_return_sequences':20\n",
    "        }\n",
    "    },\n",
    "    \n",
    "    'run_settings':\n",
    "    {\n",
    "        'PARAPHRASE_FT_TRAIN_SPLIT' : 0.1,\n",
    "        'PARAPHRASE_FT_DATASET_DIRECTION' : ParaphraseTargetDirection.org_refute_to_gen_support,#ParaphraseTargetDirection.org_support_to_gen_refute,#ParaphraseTargetDirection.org_refute_to_gen_support,\n",
    "        'NUM_OF_EPOCH_REQ_FT' : 2,\n",
    "        'FILTER_BY' : 'TECH_TERMS',\n",
    "        'SIMILARITY_THRESHOLD' : -100\n",
    "        #'CUR_MODEL_NAME_PATHS' : (lambda: [_x['model_path_or_url'] for  _x in PARAPHRASE_PROJECT_SETTINGS['paraphrase_model']['list_potential_paraphrase_models'] if _x['is_selected'] == True])(),\n",
    "    },\n",
    "}\n",
    "\n",
    "CUR_NO_OF_EPOCH_FT = 0"
   ]
  },
  {
   "cell_type": "markdown",
   "id": "117c9407",
   "metadata": {},
   "source": [
    "## Scifact Functinos"
   ]
  },
  {
   "cell_type": "code",
   "execution_count": null,
   "id": "f2d2f14c",
   "metadata": {},
   "outputs": [],
   "source": []
  },
  {
   "cell_type": "markdown",
   "id": "249e379e",
   "metadata": {
    "ExecuteTime": {
     "end_time": "2021-12-26T02:58:23.723272Z",
     "start_time": "2021-12-26T02:58:23.720406Z"
    }
   },
   "source": [
    "### Load data"
   ]
  },
  {
   "cell_type": "code",
   "execution_count": 11,
   "id": "f7258213",
   "metadata": {
    "ExecuteTime": {
     "end_time": "2022-01-24T22:49:04.883675Z",
     "start_time": "2022-01-24T22:49:04.880191Z"
    }
   },
   "outputs": [],
   "source": [
    "def get_claim_label_from_jsonl(dataset_jsonl):\n",
    "    claim_label_list_train = []\n",
    "\n",
    "\n",
    "    for cur_claim in dataset_jsonl:\n",
    "        claim_txt = cur_claim.claim\n",
    "\n",
    "        for doc_id, evidence in cur_claim.evidence.items():\n",
    "\n",
    "            ev_doc = cur_claim.release.corpus.get_document(doc_id)\n",
    "\n",
    "            claim_label = evidence.label.name\n",
    "\n",
    "            tmp_dic = {\"claim\" : claim_txt, \"label\" : claim_label}\n",
    "\n",
    "            claim_label_list_train.append(tmp_dic)\n",
    "    return claim_label_list_train"
   ]
  },
  {
   "cell_type": "code",
   "execution_count": 12,
   "id": "d9e198ae",
   "metadata": {
    "ExecuteTime": {
     "end_time": "2022-01-24T22:49:04.889567Z",
     "start_time": "2022-01-24T22:49:04.885339Z"
    }
   },
   "outputs": [],
   "source": [
    "def get_claim_label_evidence_from_jsonl(dataset_jsonl, source):\n",
    "    claim_label_list_train = []\n",
    "\n",
    "\n",
    "    for cur_claim in dataset_jsonl:\n",
    "        claim_txt = cur_claim.claim\n",
    "\n",
    "        for doc_id, evidence in cur_claim.evidence.items():\n",
    "\n",
    "            ev_doc = claim_train.release.corpus.get_document(doc_id)\n",
    "\n",
    "            claim_label = evidence.label.name\n",
    "            \n",
    "            list_rationales = []\n",
    "            for i, sents in enumerate(evidence.rationales):\n",
    "                list_rationales = [sent for i, sent in enumerate(ev_doc.sentences) if i in sents]\n",
    "\n",
    "            tmp_dic = {\"claim\" : claim_txt, \"label\" : claim_label, \"list_rationales\" :list_rationales, \"source\" :source}\n",
    "\n",
    "            claim_label_list_train.append(tmp_dic)\n",
    "    return claim_label_list_train"
   ]
  },
  {
   "cell_type": "code",
   "execution_count": 13,
   "id": "8fec0f60",
   "metadata": {
    "ExecuteTime": {
     "end_time": "2022-01-24T22:49:05.558827Z",
     "start_time": "2022-01-24T22:49:04.891665Z"
    }
   },
   "outputs": [
    {
     "name": "stdout",
     "output_type": "stream",
     "text": [
      "Example 39: A diminished ovarian reserve does not solely indicate infertility in an a priori non-infertile population.\n",
      "\n",
      "Evidence sets:\n",
      "\n",
      "####################\n",
      "\n",
      "13497630: SUPPORTS\n",
      "Set 0:\n",
      "\t- After adjusting for age, body mass index, race, current smoking status, and recent hormonal contraceptive use, women with low AMH values (<0.7 ng/mL [n = 84]) did not have a significantly different predicted probability of conceiving by 6 cycles of attempt (65%; 95% CI, 50%-75%) compared with women (n = 579) with normal values (62%; 95% CI, 57%-66%) or by 12 cycles of attempt (84% [95% CI, 70%-91%] vs 75% [95% CI, 70%-79%], respectively).\n",
      "Set 1:\n",
      "\t- Women with high serum FSH values (>10 mIU/mL [n = 83]) did not have a significantly different predicted probability of conceiving after 6 cycles of attempt (63%; 95% CI, 50%-73%) compared with women (n = 654) with normal values (62%; 95% CI, 57%-66%) or after 12 cycles of attempt (82% [95% CI, 70%-89%] vs 75% [95% CI, 70%-78%], respectively).\n",
      "Set 2:\n",
      "\t- Women with high urinary FSH values (>11.5 mIU/mg creatinine [n = 69]) did not have a significantly different predicted probability of conceiving after 6 cycles of attempt (61%; 95% CI, 46%-74%) compared with women (n = 660) with normal values (62%; 95% CI, 58%-66%) or after 12 cycles of attempt (70% [95% CI, 54%-80%] vs 76% [95% CI, 72%-80%], respectively).\n",
      "Set 3:\n",
      "\t- Inhibin B levels (n = 737) were not associated with the probability of conceiving in a given cycle (hazard ratio per 1-pg/mL increase, 0.999; 95% CI, 0.997-1.001).\n",
      "Set 4:\n",
      "\t- Conclusions and Relevance Among women aged 30 to 44 years without a history of infertility who had been trying to conceive for 3 months or less, biomarkers indicating diminished ovarian reserve compared with normal ovarian reserve were not associated with reduced fertility.\n"
     ]
    }
   ],
   "source": [
    "ds_train = GoldDataset(PARAPHRASE_PROJECT_SETTINGS['config_scifact']['loc_gold_ds_corpus'],\n",
    "                       PARAPHRASE_PROJECT_SETTINGS['config_scifact']['loc_gold_ds_train'])\n",
    "claim_train = ds_train.get_claim(39)\n",
    "claim_train.pretty_print()\n",
    "\n",
    "dic_train = get_claim_label_evidence_from_jsonl(ds_train, source = \"train\")"
   ]
  },
  {
   "cell_type": "code",
   "execution_count": 14,
   "id": "098083b8",
   "metadata": {
    "ExecuteTime": {
     "end_time": "2022-01-24T22:49:05.771320Z",
     "start_time": "2022-01-24T22:49:05.560503Z"
    }
   },
   "outputs": [
    {
     "name": "stdout",
     "output_type": "stream",
     "text": [
      "Example 42: A high microerythrocyte count raises vulnerability to severe anemia in homozygous alpha (+)- thalassemia trait subjects.\n",
      "\n",
      "Evidence sets:\n",
      "\n",
      "####################\n",
      "\n",
      "18174210: REFUTES\n",
      "Set 0:\n",
      "\t- Individuals homozygous for alpha(+)-thalassaemia have microcytosis and an increased erythrocyte count.\n",
      "\t- We estimated that the haematological profile in children homozygous for alpha(+)-thalassaemia reduces the risk of SMA during acute malaria compared to children of normal genotype (relative risk 0.52; 95% confidence interval [CI] 0.24-1.12, p = 0.09).   \n",
      "\n",
      "Set 1:\n",
      "\t- CONCLUSIONS The increased erythrocyte count and microcytosis in children homozygous for alpha(+)-thalassaemia may contribute substantially to their protection against SMA.\n"
     ]
    }
   ],
   "source": [
    "ds_valid = GoldDataset(PARAPHRASE_PROJECT_SETTINGS['config_scifact']['loc_gold_ds_corpus'],\n",
    "                       PARAPHRASE_PROJECT_SETTINGS['config_scifact']['loc_gold_ds_dev'])\n",
    "claim_valid = ds_valid.get_claim(42)\n",
    "claim_valid.pretty_print()\n",
    "\n",
    "dic_valid = get_claim_label_evidence_from_jsonl(ds_valid, source = \"dev\")"
   ]
  },
  {
   "cell_type": "code",
   "execution_count": 15,
   "id": "732a7d64",
   "metadata": {
    "ExecuteTime": {
     "end_time": "2022-01-24T22:49:05.776565Z",
     "start_time": "2022-01-24T22:49:05.773074Z"
    }
   },
   "outputs": [],
   "source": [
    "def get_dataframes_by_majority_org_claim(df_all_paraphrased_org_claim):\n",
    "    df_all_paraphrased_org_success = df_all_paraphrased_org_claim[df_all_paraphrased_org_claim['org_comment'] == 'success']\n",
    "    \n",
    "    # Select claims with majority\n",
    "    df_paraphrased_org_support_major = df_all_paraphrased_org_success[\n",
    "        df_all_paraphrased_org_success['org_count_support'] > df_all_paraphrased_org_success['org_count_refute']\n",
    "    ]\n",
    "\n",
    "    \n",
    "    df_paraphrased_org_refute_major = df_all_paraphrased_org_success[\n",
    "        df_all_paraphrased_org_success['org_count_support'] < df_all_paraphrased_org_success['org_count_refute']\n",
    "    ]\n",
    "    \n",
    "    return df_paraphrased_org_support_major, df_paraphrased_org_refute_major, df_all_paraphrased_org_success"
   ]
  },
  {
   "cell_type": "code",
   "execution_count": 16,
   "id": "d35d8f5a",
   "metadata": {
    "ExecuteTime": {
     "end_time": "2022-01-24T22:49:05.790706Z",
     "start_time": "2022-01-24T22:49:05.778261Z"
    }
   },
   "outputs": [
    {
     "name": "stderr",
     "output_type": "stream",
     "text": [
      "/home/qudratealahyratu/.local/lib/python3.7/site-packages/ipykernel_launcher.py:5: SettingWithCopyWarning: \n",
      "A value is trying to be set on a copy of a slice from a DataFrame.\n",
      "Try using .loc[row_indexer,col_indexer] = value instead\n",
      "\n",
      "See the caveats in the documentation: https://pandas.pydata.org/pandas-docs/stable/user_guide/indexing.html#returning-a-view-versus-a-copy\n",
      "  \"\"\"\n",
      "/home/qudratealahyratu/.local/lib/python3.7/site-packages/ipykernel_launcher.py:6: SettingWithCopyWarning: \n",
      "A value is trying to be set on a copy of a slice from a DataFrame.\n",
      "Try using .loc[row_indexer,col_indexer] = value instead\n",
      "\n",
      "See the caveats in the documentation: https://pandas.pydata.org/pandas-docs/stable/user_guide/indexing.html#returning-a-view-versus-a-copy\n",
      "  \n"
     ]
    }
   ],
   "source": [
    "#\n",
    "\n",
    "df_org_claims_by_scifact = pd.read_pickle(PARAPHRASE_PROJECT_SETTINGS['file_and_dirs']['file_org_claims_by_scifact'])\n",
    "df_org_claims_by_scifact_support_major, df_org_claims_by_scifact_refute_major, df_org_claims_by_scifact_sci_success = get_dataframes_by_majority_org_claim(df_org_claims_by_scifact)\n",
    "df_org_claims_by_scifact_support_major['label'] = 'support'\n",
    "df_org_claims_by_scifact_refute_major['label'] = 'refute'\n",
    "df_org_claims_by_scifact_majority = pd.concat([df_org_claims_by_scifact_support_major, df_org_claims_by_scifact_refute_major], ignore_index=True)"
   ]
  },
  {
   "cell_type": "code",
   "execution_count": 17,
   "id": "10f77b3e",
   "metadata": {
    "ExecuteTime": {
     "end_time": "2022-01-24T22:49:05.795621Z",
     "start_time": "2022-01-24T22:49:05.792660Z"
    }
   },
   "outputs": [],
   "source": [
    "#df_claim_evid_label = df_org_claims_by_scifact.copy()\n",
    "#df_claim_evid_label = df_org_claims_by_scifact_support_major.copy()#df_org_claims_by_scifact_majority.copy()\n",
    "df_claim_evid_label = df_org_claims_by_scifact_refute_major.copy()"
   ]
  },
  {
   "cell_type": "code",
   "execution_count": 18,
   "id": "7b3c406a",
   "metadata": {
    "ExecuteTime": {
     "end_time": "2022-01-24T22:49:05.829489Z",
     "start_time": "2022-01-24T22:49:05.797591Z"
    }
   },
   "outputs": [
    {
     "data": {
      "text/html": [
       "<div>\n",
       "<style scoped>\n",
       "    .dataframe tbody tr th:only-of-type {\n",
       "        vertical-align: middle;\n",
       "    }\n",
       "\n",
       "    .dataframe tbody tr th {\n",
       "        vertical-align: top;\n",
       "    }\n",
       "\n",
       "    .dataframe thead th {\n",
       "        text-align: right;\n",
       "    }\n",
       "</style>\n",
       "<table border=\"1\" class=\"dataframe\">\n",
       "  <thead>\n",
       "    <tr style=\"text-align: right;\">\n",
       "      <th></th>\n",
       "      <th>org_claim</th>\n",
       "      <th>ground_label</th>\n",
       "      <th>ground_list_rationales</th>\n",
       "      <th>source</th>\n",
       "      <th>org_count_support</th>\n",
       "      <th>org_count_refute</th>\n",
       "      <th>org_list_supported_ids</th>\n",
       "      <th>org_list_refuted_ids</th>\n",
       "      <th>org_list_supported_confidence</th>\n",
       "      <th>org_list_refuted_confidence</th>\n",
       "      <th>org_list_supported_confidence_mean</th>\n",
       "      <th>org_list_refuted_confidence_mean</th>\n",
       "      <th>org_comment</th>\n",
       "      <th>label</th>\n",
       "    </tr>\n",
       "  </thead>\n",
       "  <tbody>\n",
       "    <tr>\n",
       "      <th>3</th>\n",
       "      <td>76-85% of people with severe mental disorder r...</td>\n",
       "      <td>SUPPORTS</td>\n",
       "      <td>[Although disorder severity was correlated wit...</td>\n",
       "      <td>train</td>\n",
       "      <td>0</td>\n",
       "      <td>1</td>\n",
       "      <td>[]</td>\n",
       "      <td>[e8fhlo37.00012]</td>\n",
       "      <td>[]</td>\n",
       "      <td>[0.6389873027801514]</td>\n",
       "      <td>0.00</td>\n",
       "      <td>0.64</td>\n",
       "      <td>success</td>\n",
       "      <td>refute</td>\n",
       "    </tr>\n",
       "    <tr>\n",
       "      <th>17</th>\n",
       "      <td>ART has no effect on the infectiveness of HIV-...</td>\n",
       "      <td>REFUTES</td>\n",
       "      <td>[CONCLUSIONS Mathematical models evaluating th...</td>\n",
       "      <td>train</td>\n",
       "      <td>0</td>\n",
       "      <td>11</td>\n",
       "      <td>[]</td>\n",
       "      <td>[3vynbdli.00002, bhzgumb8, qj7lho9r, 3c8phatx....</td>\n",
       "      <td>[]</td>\n",
       "      <td>[0.8876776695251465, 0.7819303870201111, 0.765...</td>\n",
       "      <td>0.00</td>\n",
       "      <td>0.67</td>\n",
       "      <td>success</td>\n",
       "      <td>refute</td>\n",
       "    </tr>\n",
       "    <tr>\n",
       "      <th>33</th>\n",
       "      <td>Ambulatory blood pressure monitoring is inaccu...</td>\n",
       "      <td>REFUTES</td>\n",
       "      <td>[Ambulatory monitoring before the start of lif...</td>\n",
       "      <td>train</td>\n",
       "      <td>0</td>\n",
       "      <td>7</td>\n",
       "      <td>[]</td>\n",
       "      <td>[ihk16l1k, 9fbbwrte, lkpeoiyp, b4qq72r3, k7ce1...</td>\n",
       "      <td>[]</td>\n",
       "      <td>[0.8934949636459351, 0.6645402908325195, 0.644...</td>\n",
       "      <td>0.00</td>\n",
       "      <td>0.65</td>\n",
       "      <td>success</td>\n",
       "      <td>refute</td>\n",
       "    </tr>\n",
       "    <tr>\n",
       "      <th>40</th>\n",
       "      <td>Antidepressants increase the severity of migra...</td>\n",
       "      <td>REFUTES</td>\n",
       "      <td>[CONCLUSIONS Tricyclic antidepressants are eff...</td>\n",
       "      <td>train</td>\n",
       "      <td>1</td>\n",
       "      <td>2</td>\n",
       "      <td>[brytb50b]</td>\n",
       "      <td>[oyb8dczr, kzy33hdb.00128]</td>\n",
       "      <td>[0.946519136428833]</td>\n",
       "      <td>[0.6452325582504272, 0.6240962743759155]</td>\n",
       "      <td>0.95</td>\n",
       "      <td>0.63</td>\n",
       "      <td>success</td>\n",
       "      <td>refute</td>\n",
       "    </tr>\n",
       "    <tr>\n",
       "      <th>42</th>\n",
       "      <td>Antimicrobial agents are less effective due to...</td>\n",
       "      <td>SUPPORTS</td>\n",
       "      <td>[Overusing antibiotics is not the only cause a...</td>\n",
       "      <td>train</td>\n",
       "      <td>6</td>\n",
       "      <td>9</td>\n",
       "      <td>[tfr2xbxu.00064, 8wvclg4o.00006, ytv7dwr0.0004...</td>\n",
       "      <td>[8dxv04uu.00010, bwn4bmf5.00017, pzjj2wxc.0000...</td>\n",
       "      <td>[0.9899699091911316, 0.7421004772186279, 0.677...</td>\n",
       "      <td>[0.9373342394828796, 0.8747098445892334, 0.837...</td>\n",
       "      <td>0.70</td>\n",
       "      <td>0.71</td>\n",
       "      <td>success</td>\n",
       "      <td>refute</td>\n",
       "    </tr>\n",
       "    <tr>\n",
       "      <th>...</th>\n",
       "      <td>...</td>\n",
       "      <td>...</td>\n",
       "      <td>...</td>\n",
       "      <td>...</td>\n",
       "      <td>...</td>\n",
       "      <td>...</td>\n",
       "      <td>...</td>\n",
       "      <td>...</td>\n",
       "      <td>...</td>\n",
       "      <td>...</td>\n",
       "      <td>...</td>\n",
       "      <td>...</td>\n",
       "      <td>...</td>\n",
       "      <td>...</td>\n",
       "    </tr>\n",
       "    <tr>\n",
       "      <th>675</th>\n",
       "      <td>There is an inverse relationship between hip f...</td>\n",
       "      <td>SUPPORTS</td>\n",
       "      <td>[CONCLUSIONS These findings support an associa...</td>\n",
       "      <td>dev</td>\n",
       "      <td>0</td>\n",
       "      <td>5</td>\n",
       "      <td>[]</td>\n",
       "      <td>[f1br2h6p.00045, 7r35ow4y.00059, 46oo3sse.0000...</td>\n",
       "      <td>[]</td>\n",
       "      <td>[0.911043107509613, 0.7290191054344177, 0.6985...</td>\n",
       "      <td>0.00</td>\n",
       "      <td>0.70</td>\n",
       "      <td>success</td>\n",
       "      <td>refute</td>\n",
       "    </tr>\n",
       "    <tr>\n",
       "      <th>676</th>\n",
       "      <td>Thigh-length graduated compression stockings (...</td>\n",
       "      <td>SUPPORTS</td>\n",
       "      <td>[INTERPRETATION These data do not lend support...</td>\n",
       "      <td>dev</td>\n",
       "      <td>3</td>\n",
       "      <td>4</td>\n",
       "      <td>[37zrbye6, ie9dn724.00008, 95yiliim]</td>\n",
       "      <td>[nuadau49, 2uzai25k, 2n9f82xs, 6vxtpn90]</td>\n",
       "      <td>[0.8855438232421875, 0.7021892070770264, 0.672...</td>\n",
       "      <td>[0.6754951477050781, 0.637149453163147, 0.5785...</td>\n",
       "      <td>0.75</td>\n",
       "      <td>0.61</td>\n",
       "      <td>success</td>\n",
       "      <td>refute</td>\n",
       "    </tr>\n",
       "    <tr>\n",
       "      <th>677</th>\n",
       "      <td>Tirasemtiv has no effect on fast-twitch muscle.</td>\n",
       "      <td>REFUTES</td>\n",
       "      <td>[Binding selectively to the fast-skeletal-trop...</td>\n",
       "      <td>dev</td>\n",
       "      <td>2</td>\n",
       "      <td>4</td>\n",
       "      <td>[kxfsusgo, 2v4w7ail]</td>\n",
       "      <td>[jns9aaez, h2p8id96, fkqkbail, 16skmh6b.00030]</td>\n",
       "      <td>[0.8443883061408997, 0.7982557415962219]</td>\n",
       "      <td>[0.9675067067146301, 0.9525337815284729, 0.847...</td>\n",
       "      <td>0.82</td>\n",
       "      <td>0.87</td>\n",
       "      <td>success</td>\n",
       "      <td>refute</td>\n",
       "    </tr>\n",
       "    <tr>\n",
       "      <th>679</th>\n",
       "      <td>Transplanted human glial progenitor cells are ...</td>\n",
       "      <td>REFUTES</td>\n",
       "      <td>[Long-term potentiation (LTP) was sharply enha...</td>\n",
       "      <td>dev</td>\n",
       "      <td>0</td>\n",
       "      <td>1</td>\n",
       "      <td>[]</td>\n",
       "      <td>[dkze9ees.00047]</td>\n",
       "      <td>[]</td>\n",
       "      <td>[0.548649787902832]</td>\n",
       "      <td>0.00</td>\n",
       "      <td>0.55</td>\n",
       "      <td>success</td>\n",
       "      <td>refute</td>\n",
       "    </tr>\n",
       "    <tr>\n",
       "      <th>683</th>\n",
       "      <td>Ultrasound guidance significantly raises the n...</td>\n",
       "      <td>REFUTES</td>\n",
       "      <td>[CONCLUSIONS Ultrasound imaging can reduce the...</td>\n",
       "      <td>dev</td>\n",
       "      <td>0</td>\n",
       "      <td>5</td>\n",
       "      <td>[]</td>\n",
       "      <td>[hg1l0r43, xn6bylus, bb7ow4dw, fafnaktl, qb9ew...</td>\n",
       "      <td>[]</td>\n",
       "      <td>[0.9750084280967712, 0.9627625942230225, 0.921...</td>\n",
       "      <td>0.00</td>\n",
       "      <td>0.91</td>\n",
       "      <td>success</td>\n",
       "      <td>refute</td>\n",
       "    </tr>\n",
       "  </tbody>\n",
       "</table>\n",
       "<p>118 rows × 14 columns</p>\n",
       "</div>"
      ],
      "text/plain": [
       "                                             org_claim ground_label  \\\n",
       "3    76-85% of people with severe mental disorder r...     SUPPORTS   \n",
       "17   ART has no effect on the infectiveness of HIV-...      REFUTES   \n",
       "33   Ambulatory blood pressure monitoring is inaccu...      REFUTES   \n",
       "40   Antidepressants increase the severity of migra...      REFUTES   \n",
       "42   Antimicrobial agents are less effective due to...     SUPPORTS   \n",
       "..                                                 ...          ...   \n",
       "675  There is an inverse relationship between hip f...     SUPPORTS   \n",
       "676  Thigh-length graduated compression stockings (...     SUPPORTS   \n",
       "677    Tirasemtiv has no effect on fast-twitch muscle.      REFUTES   \n",
       "679  Transplanted human glial progenitor cells are ...      REFUTES   \n",
       "683  Ultrasound guidance significantly raises the n...      REFUTES   \n",
       "\n",
       "                                ground_list_rationales source  \\\n",
       "3    [Although disorder severity was correlated wit...  train   \n",
       "17   [CONCLUSIONS Mathematical models evaluating th...  train   \n",
       "33   [Ambulatory monitoring before the start of lif...  train   \n",
       "40   [CONCLUSIONS Tricyclic antidepressants are eff...  train   \n",
       "42   [Overusing antibiotics is not the only cause a...  train   \n",
       "..                                                 ...    ...   \n",
       "675  [CONCLUSIONS These findings support an associa...    dev   \n",
       "676  [INTERPRETATION These data do not lend support...    dev   \n",
       "677  [Binding selectively to the fast-skeletal-trop...    dev   \n",
       "679  [Long-term potentiation (LTP) was sharply enha...    dev   \n",
       "683  [CONCLUSIONS Ultrasound imaging can reduce the...    dev   \n",
       "\n",
       "     org_count_support  org_count_refute  \\\n",
       "3                    0                 1   \n",
       "17                   0                11   \n",
       "33                   0                 7   \n",
       "40                   1                 2   \n",
       "42                   6                 9   \n",
       "..                 ...               ...   \n",
       "675                  0                 5   \n",
       "676                  3                 4   \n",
       "677                  2                 4   \n",
       "679                  0                 1   \n",
       "683                  0                 5   \n",
       "\n",
       "                                org_list_supported_ids  \\\n",
       "3                                                   []   \n",
       "17                                                  []   \n",
       "33                                                  []   \n",
       "40                                          [brytb50b]   \n",
       "42   [tfr2xbxu.00064, 8wvclg4o.00006, ytv7dwr0.0004...   \n",
       "..                                                 ...   \n",
       "675                                                 []   \n",
       "676               [37zrbye6, ie9dn724.00008, 95yiliim]   \n",
       "677                               [kxfsusgo, 2v4w7ail]   \n",
       "679                                                 []   \n",
       "683                                                 []   \n",
       "\n",
       "                                  org_list_refuted_ids  \\\n",
       "3                                     [e8fhlo37.00012]   \n",
       "17   [3vynbdli.00002, bhzgumb8, qj7lho9r, 3c8phatx....   \n",
       "33   [ihk16l1k, 9fbbwrte, lkpeoiyp, b4qq72r3, k7ce1...   \n",
       "40                          [oyb8dczr, kzy33hdb.00128]   \n",
       "42   [8dxv04uu.00010, bwn4bmf5.00017, pzjj2wxc.0000...   \n",
       "..                                                 ...   \n",
       "675  [f1br2h6p.00045, 7r35ow4y.00059, 46oo3sse.0000...   \n",
       "676           [nuadau49, 2uzai25k, 2n9f82xs, 6vxtpn90]   \n",
       "677     [jns9aaez, h2p8id96, fkqkbail, 16skmh6b.00030]   \n",
       "679                                   [dkze9ees.00047]   \n",
       "683  [hg1l0r43, xn6bylus, bb7ow4dw, fafnaktl, qb9ew...   \n",
       "\n",
       "                         org_list_supported_confidence  \\\n",
       "3                                                   []   \n",
       "17                                                  []   \n",
       "33                                                  []   \n",
       "40                                 [0.946519136428833]   \n",
       "42   [0.9899699091911316, 0.7421004772186279, 0.677...   \n",
       "..                                                 ...   \n",
       "675                                                 []   \n",
       "676  [0.8855438232421875, 0.7021892070770264, 0.672...   \n",
       "677           [0.8443883061408997, 0.7982557415962219]   \n",
       "679                                                 []   \n",
       "683                                                 []   \n",
       "\n",
       "                           org_list_refuted_confidence  \\\n",
       "3                                 [0.6389873027801514]   \n",
       "17   [0.8876776695251465, 0.7819303870201111, 0.765...   \n",
       "33   [0.8934949636459351, 0.6645402908325195, 0.644...   \n",
       "40            [0.6452325582504272, 0.6240962743759155]   \n",
       "42   [0.9373342394828796, 0.8747098445892334, 0.837...   \n",
       "..                                                 ...   \n",
       "675  [0.911043107509613, 0.7290191054344177, 0.6985...   \n",
       "676  [0.6754951477050781, 0.637149453163147, 0.5785...   \n",
       "677  [0.9675067067146301, 0.9525337815284729, 0.847...   \n",
       "679                                [0.548649787902832]   \n",
       "683  [0.9750084280967712, 0.9627625942230225, 0.921...   \n",
       "\n",
       "     org_list_supported_confidence_mean  org_list_refuted_confidence_mean  \\\n",
       "3                                  0.00                              0.64   \n",
       "17                                 0.00                              0.67   \n",
       "33                                 0.00                              0.65   \n",
       "40                                 0.95                              0.63   \n",
       "42                                 0.70                              0.71   \n",
       "..                                  ...                               ...   \n",
       "675                                0.00                              0.70   \n",
       "676                                0.75                              0.61   \n",
       "677                                0.82                              0.87   \n",
       "679                                0.00                              0.55   \n",
       "683                                0.00                              0.91   \n",
       "\n",
       "    org_comment   label  \n",
       "3       success  refute  \n",
       "17      success  refute  \n",
       "33      success  refute  \n",
       "40      success  refute  \n",
       "42      success  refute  \n",
       "..          ...     ...  \n",
       "675     success  refute  \n",
       "676     success  refute  \n",
       "677     success  refute  \n",
       "679     success  refute  \n",
       "683     success  refute  \n",
       "\n",
       "[118 rows x 14 columns]"
      ]
     },
     "execution_count": 18,
     "metadata": {},
     "output_type": "execute_result"
    }
   ],
   "source": [
    "df_claim_evid_label"
   ]
  },
  {
   "cell_type": "markdown",
   "id": "1aed2043",
   "metadata": {},
   "source": [
    "### Scifact Model"
   ]
  },
  {
   "cell_type": "code",
   "execution_count": 19,
   "id": "dcc9d048",
   "metadata": {
    "ExecuteTime": {
     "end_time": "2022-01-24T22:49:05.837969Z",
     "start_time": "2022-01-24T22:49:05.831282Z"
    }
   },
   "outputs": [],
   "source": [
    "class ArgsScifact:\n",
    "    def __init__(self, claim):\n",
    "        self.claim = claim\n",
    "        self.report_file = \"../../scifact/results/covid/report\" #not needed\n",
    "        self.n_documents = 100\n",
    "        self.rationale_selection_method = \"topk\"\n",
    "        self.output_format = \"markdown\"\n",
    "        self.rationale_threshold = 0.5\n",
    "        self.label_threshold = 0.5\n",
    "        self.keep_nei = False\n",
    "        self.full_abstract = True\n",
    "        self.verbose = True\n",
    "        self.device = torch.device(\"cuda\") if torch.cuda.is_available() else torch.device(\"cpu\")\n",
    "        \n",
    "        ##\n",
    "class PretrainedModelsForScifact:\n",
    "    def __init__(self, args):\n",
    "        if args.device is None:\n",
    "            self.device = torch.device('cuda' if torch.cuda.is_available() else 'cpu')\n",
    "        else:\n",
    "            self.device = torch.device(args.device)\n",
    "            \n",
    "        #self.rationale_selection_model = '/home/qudratealahyratu/research/nlp/fact_checking/my_work/scifact/model/rationale_roberta_large_scifact'\n",
    "        self.rationale_selection_model = PARAPHRASE_PROJECT_SETTINGS['config_scifact']['rationale_model_name']\n",
    "        self.label_prediction_model = PARAPHRASE_PROJECT_SETTINGS['config_scifact']['cls_model_name']\n",
    "        self.abstract_retriever = AbstractRetriever()\n",
    "        self.rationale_selector = RationaleSelector(self.rationale_selection_model,\n",
    "                                               args.rationale_selection_method,\n",
    "                                               args.rationale_threshold,\n",
    "                                               self.device)\n",
    "        self.label_predictor = LabelPredictor(self.label_prediction_model,\n",
    "                                         args.keep_nei,\n",
    "                                         args.label_threshold,\n",
    "                                         self.device)\n"
   ]
  },
  {
   "cell_type": "code",
   "execution_count": 20,
   "id": "d1fa2fdf",
   "metadata": {
    "ExecuteTime": {
     "end_time": "2022-01-24T22:49:20.068547Z",
     "start_time": "2022-01-24T22:49:05.840319Z"
    }
   },
   "outputs": [
    {
     "name": "stderr",
     "output_type": "stream",
     "text": [
      "Some weights of the model checkpoint at ../../scifact/model/rationale_roberta_large_fever_scifact were not used when initializing RobertaForSequenceClassification: ['roberta.pooler.dense.bias', 'roberta.pooler.dense.weight']\n",
      "- This IS expected if you are initializing RobertaForSequenceClassification from the checkpoint of a model trained on another task or with another architecture (e.g. initializing a BertForSequenceClassification model from a BertForPreTraining model).\n",
      "- This IS NOT expected if you are initializing RobertaForSequenceClassification from the checkpoint of a model that you expect to be exactly identical (initializing a BertForSequenceClassification model from a BertForSequenceClassification model).\n",
      "Some weights of the model checkpoint at ../../scifact/model/label_roberta_large_fever_scifact were not used when initializing RobertaForSequenceClassification: ['roberta.pooler.dense.bias', 'roberta.pooler.dense.weight']\n",
      "- This IS expected if you are initializing RobertaForSequenceClassification from the checkpoint of a model trained on another task or with another architecture (e.g. initializing a BertForSequenceClassification model from a BertForPreTraining model).\n",
      "- This IS NOT expected if you are initializing RobertaForSequenceClassification from the checkpoint of a model that you expect to be exactly identical (initializing a BertForSequenceClassification model from a BertForSequenceClassification model).\n"
     ]
    }
   ],
   "source": [
    "args_sci = ArgsScifact(\"\")\n",
    "\n",
    "pretrained_models_config = PretrainedModelsForScifact(args_sci)"
   ]
  },
  {
   "cell_type": "code",
   "execution_count": 21,
   "id": "9ad4cd05",
   "metadata": {
    "ExecuteTime": {
     "end_time": "2022-01-24T22:49:20.076853Z",
     "start_time": "2022-01-24T22:49:20.070537Z"
    }
   },
   "outputs": [],
   "source": [
    "log_failed_claim = []\n",
    "def inference(args, pretraind_models_config):\n",
    "\n",
    "    try:\n",
    "#         if args.verbose:\n",
    "#         print(\"Retrieving abstracts. inference > \", args.claim)\n",
    "        results = pretraind_models_config.abstract_retriever(args.claim, k=args.n_documents)\n",
    "        if len(results) == 0:\n",
    "            temp_dic = {'failed_in' : 'abstract retrival', 'claim': args.claim}\n",
    "            log_failed_claim.append(temp_dic)\n",
    "            return []\n",
    "        \n",
    "        #print(\"abstract_retriever >> \", results)\n",
    "\n",
    "#         if args.verbose:\n",
    "#             print(\"Selecting rationales. inference > \", args.claim)\n",
    "        results = pretraind_models_config.rationale_selector(args.claim, results)\n",
    "        if len(results) == 0:\n",
    "            temp_dic = {'failed_in' : 'Rationale selection', 'claim': args.claim}\n",
    "            log_failed_claim.append(temp_dic)\n",
    "            return []\n",
    "        \n",
    "#         if args.verbose:\n",
    "#             print(\"Label predictions. inference > \", args.claim)\n",
    "        results = pretraind_models_config.label_predictor(args.claim, results)\n",
    "\n",
    "        if len(results) == 0:\n",
    "            temp_dic = {'failed_in' : 'Label Prediction', 'claim': args.claim}\n",
    "            log_failed_claim.append(temp_dic)\n",
    "            return []\n",
    "        \n",
    "        results.sort(key=lambda r: r['label_confidence'], reverse=True)\n",
    "        return results\n",
    "    except Exception as e:\n",
    "        print(\"Exception :: Inference cant retrive info for >> \", args.claim)\n",
    "        print(sys.exc_info()[0])\n",
    "        print(traceback.format_exc())\n",
    "        temp_dic = {'failed_in' : sys.exc_info()[0], 'claim': args.claim}\n",
    "        log_failed_claim.append(temp_dic)\n",
    "        return []\n"
   ]
  },
  {
   "cell_type": "code",
   "execution_count": 22,
   "id": "0456c634",
   "metadata": {
    "ExecuteTime": {
     "end_time": "2022-01-24T22:49:20.084841Z",
     "start_time": "2022-01-24T22:49:20.078816Z"
    }
   },
   "outputs": [],
   "source": [
    "def write_result(result, full_abstract):\n",
    "    all_msg = \"\"\n",
    "    all_msg = f\"#### [{result['title']}]({result['url']}) \\n\"\n",
    "    #print(msg, file=f)\n",
    "    #all_msg = all_msg+msg\n",
    "    ev_scores = [f\"{x:0.2f}\" for x in result[\"evidence_confidence\"]]\n",
    "    ev_scores = \", \".join(ev_scores)\n",
    "    if result['label'].lower() == \"support\":\n",
    "        msg = f\"🟩 **Decision** : {result['label']} (score={result['label_confidence']:0.2f}, evidence scores={ev_scores})\\n\"\n",
    "    elif result['label'].lower() == \"refute\":\n",
    "        msg = f\"🟥 **Decision** : {result['label']} (score={result['label_confidence']:0.2f}, evidence scores={ev_scores})\\n\"\n",
    "    else:\n",
    "        msg = f\"⏺ **Decision** : {result['label']} (score={result['label_confidence']:0.2f}, evidence scores={ev_scores})\\n\"\n",
    "    #print(msg, file=f)\n",
    "    all_msg = all_msg+msg \n",
    "    \n",
    "    for i, line in enumerate(result[\"abstract\"]):\n",
    "        # If we're showing the full abstract, show evidence in green.\n",
    "        if full_abstract:\n",
    "            if result['label'].lower() == \"support\":\n",
    "                msg = (f\"- <span style='color:green'>{line}</span>\"\n",
    "                       if i in result[\"evidence\"]\n",
    "                       else f\"- {line}\")\n",
    "            elif result['label'].lower() == \"refute\":\n",
    "                msg = (f\"- <span style='color:red'>{line}</span>\"\n",
    "                       if i in result[\"evidence\"]\n",
    "                       else f\"- {line}\")                \n",
    "            #print(msg, file=f)\n",
    "            all_msg = all_msg+msg + \" \\n\"\n",
    "        else:\n",
    "            if i in result[\"evidence\"]:\n",
    "                msg = f\"- {line}\"\n",
    "                #print(msg, file=f)\n",
    "                all_msg = all_msg+msg + \" \\n\" \n",
    "    \n",
    "    #print(file=f)\n",
    "    #print(40 * \"-\", file=f)\n",
    "    #print(file=f)\n",
    "    all_msg = all_msg+msg \n",
    "    return all_msg + \"\\n\""
   ]
  },
  {
   "cell_type": "code",
   "execution_count": 23,
   "id": "96b77196",
   "metadata": {
    "ExecuteTime": {
     "end_time": "2022-01-24T22:49:20.094656Z",
     "start_time": "2022-01-24T22:49:20.088843Z"
    }
   },
   "outputs": [],
   "source": [
    "def export(args, results):\n",
    "    all_msg = \"\"\n",
    "    claim = args.claim\n",
    "    #report_file = args.report_file\n",
    "    #f = open(f\"{report_file}.md\", \"w\")\n",
    "    msg = f\"### Claim \\n > **{claim}** \\n \"\n",
    "    #print(msg, file=f)\n",
    "    #print(file=f)\n",
    "    all_msg = all_msg +msg\n",
    "    \n",
    "    #support_confs = [], refute_confs = []\n",
    "    confs = []\n",
    "    for result in results:\n",
    "        if result['label'].lower() == \"support\":\n",
    "            tmp_dic = {'label' : 'Support', 'label_confidence' : result[\"label_confidence\"], \"no_of_evidence\" : len(result['evidence_confidence'])}\n",
    "            confs.append(tmp_dic)\n",
    "        elif result['label'].lower() == \"refute\":\n",
    "            tmp_dic = {'label' : 'Refute', 'label_confidence' : -result[\"label_confidence\"], \"no_of_evidence\" : len(result['evidence_confidence'])}\n",
    "            confs.append(tmp_dic)\n",
    "        \n",
    "    \n",
    "    tpm_df = pd.DataFrame(confs)\n",
    "    #HTML(tpm_df.style.bar(align='mid', color=['#d65f5f', '#5fba7d']))\n",
    "    display(HTML(tpm_df.style.bar(subset=[\"label_confidence\"], align='mid', color=['#ffa1a1', '#bfffcf']).render()))\n",
    "    \n",
    "    msg = \"### Evidence \\n \"\n",
    "    all_msg = all_msg +msg\n",
    "    for result in results:\n",
    "        cur_msg = write_result(result, args.full_abstract)\n",
    "        all_msg = all_msg +cur_msg+\"\\n\"\n",
    "\n",
    "    return all_msg"
   ]
  },
  {
   "cell_type": "code",
   "execution_count": 24,
   "id": "dfa5914e",
   "metadata": {
    "ExecuteTime": {
     "end_time": "2022-01-24T22:49:26.097463Z",
     "start_time": "2022-01-24T22:49:20.096836Z"
    }
   },
   "outputs": [
    {
     "name": "stderr",
     "output_type": "stream",
     "text": [
      "/home/qudratealahyratu/anaconda3/envs/scifact/lib/python3.7/site-packages/transformers/tokenization_utils_base.py:2190: FutureWarning: The `pad_to_max_length` argument is deprecated and will be removed in a future version, use `padding=True` or `padding='longest'` to pad to the longest sequence in the batch, or use `padding='max_length'` to pad to a max length. In this case, you can give a specific length with `max_length` (e.g. `max_length=45`) or leave max_length to None to pad to the maximal input size of the model (e.g. 512 for Bert).\n",
      "  FutureWarning,\n"
     ]
    },
    {
     "data": {
      "text/html": [
       "<style type=\"text/css\">\n",
       "#T_49761_row0_col1 {\n",
       "  width: 10em;\n",
       "  height: 80%;\n",
       "  background: linear-gradient(90deg,#bfffcf 100.0%, transparent 100.0%);\n",
       "}\n",
       "#T_49761_row1_col1 {\n",
       "  width: 10em;\n",
       "  height: 80%;\n",
       "  background: linear-gradient(90deg,#bfffcf 92.9%, transparent 92.9%);\n",
       "}\n",
       "#T_49761_row2_col1 {\n",
       "  width: 10em;\n",
       "  height: 80%;\n",
       "  background: linear-gradient(90deg,#bfffcf 78.5%, transparent 78.5%);\n",
       "}\n",
       "</style>\n",
       "<table id=\"T_49761_\">\n",
       "  <thead>\n",
       "    <tr>\n",
       "      <th class=\"blank level0\" >&nbsp;</th>\n",
       "      <th class=\"col_heading level0 col0\" >label</th>\n",
       "      <th class=\"col_heading level0 col1\" >label_confidence</th>\n",
       "      <th class=\"col_heading level0 col2\" >no_of_evidence</th>\n",
       "    </tr>\n",
       "  </thead>\n",
       "  <tbody>\n",
       "    <tr>\n",
       "      <th id=\"T_49761_level0_row0\" class=\"row_heading level0 row0\" >0</th>\n",
       "      <td id=\"T_49761_row0_col0\" class=\"data row0 col0\" >Support</td>\n",
       "      <td id=\"T_49761_row0_col1\" class=\"data row0 col1\" >0.69</td>\n",
       "      <td id=\"T_49761_row0_col2\" class=\"data row0 col2\" >3</td>\n",
       "    </tr>\n",
       "    <tr>\n",
       "      <th id=\"T_49761_level0_row1\" class=\"row_heading level0 row1\" >1</th>\n",
       "      <td id=\"T_49761_row1_col0\" class=\"data row1 col0\" >Support</td>\n",
       "      <td id=\"T_49761_row1_col1\" class=\"data row1 col1\" >0.64</td>\n",
       "      <td id=\"T_49761_row1_col2\" class=\"data row1 col2\" >3</td>\n",
       "    </tr>\n",
       "    <tr>\n",
       "      <th id=\"T_49761_level0_row2\" class=\"row_heading level0 row2\" >2</th>\n",
       "      <td id=\"T_49761_row2_col0\" class=\"data row2 col0\" >Support</td>\n",
       "      <td id=\"T_49761_row2_col1\" class=\"data row2 col1\" >0.54</td>\n",
       "      <td id=\"T_49761_row2_col2\" class=\"data row2 col2\" >3</td>\n",
       "    </tr>\n",
       "  </tbody>\n",
       "</table>\n"
      ],
      "text/plain": [
       "<IPython.core.display.HTML object>"
      ]
     },
     "metadata": {},
     "output_type": "display_data"
    },
    {
     "data": {
      "text/markdown": [
       "### Claim \n",
       " > **ART substantially reduces infectiveness of HIV-positive people.** \n",
       " ### Evidence \n",
       " #### [Autonomous Targeting of Infectious Superspreaders Using Engineered Transmissible Therapies](https://api.semanticscholar.org/10.1371/journal.pcbi.1002015) \n",
       "🟩 **Decision** : SUPPORT (score=0.69, evidence scores=0.11, 0.06, 0.01)\n",
       "- Infectious disease treatments, both pharmaceutical and vaccine, face three universal challenges: the difficulty of targeting treatments to high-risk ‘superspreader’ populations who drive the great majority of disease spread, behavioral barriers in the host population (such as poor compliance and risk disinhibition), and the evolution of pathogen resistance. \n",
       "- Here, we describe a proposed intervention that would overcome these challenges by capitalizing upon Therapeutic Interfering Particles (TIPs) that are engineered to replicate conditionally in the presence of the pathogen and spread between individuals — analogous to ‘transmissible immunization’ that occurs with live-attenuated vaccines (but without the potential for reversion to virulence). \n",
       "- Building on analyses of HIV field data from sub-Saharan Africa, we construct a multi-scale model, beginning at the single-cell level, to predict the effect of TIPs on individual patient viral loads and ultimately population-level disease prevalence. \n",
       "- <span style='color:green'>Our results show that a TIP, engineered with properties based on a recent HIV gene-therapy trial, could stably lower HIV/AIDS prevalence by ∼30-fold within 50 years and could complement current therapies.</span> \n",
       "- <span style='color:green'>In contrast, optimistic antiretroviral therapy or vaccination campaigns alone could only lower HIV/AIDS prevalence by <2-fold over 50 years.</span> \n",
       "- The TIP's efficacy arises from its exploitation of the same risk factors as the pathogen, allowing it to autonomously penetrate superspreader populations, maintain efficacy despite behavioral disinhibition, and limit viral resistance. \n",
       "- <span style='color:green'>While demonstrated here for HIV, the TIP concept could apply broadly to many viral infectious diseases and would represent a new paradigm for disease control, away from pathogen eradication but toward robust disease suppression.</span> \n",
       "- <span style='color:green'>While demonstrated here for HIV, the TIP concept could apply broadly to many viral infectious diseases and would represent a new paradigm for disease control, away from pathogen eradication but toward robust disease suppression.</span>\n",
       "\n",
       "#### [HIV: Biology to Treatment](https://api.semanticscholar.org/10.1007/978-981-32-9898-9_7) \n",
       "🟩 **Decision** : SUPPORT (score=0.64, evidence scores=0.67, 0.01, 0.37)\n",
       "- AIDS is one of the most dreaded diseases of the twenty-first century caused by human immunodeficiency virus (HIV). \n",
       "- <span style='color:green'>Recently, there are reports which show decline in new infections due to better access to anti-retroviral drugs.</span> \n",
       "- <span style='color:green'>Still on a daily basis, ~2356 new HIV infections are being reported globally.</span> \n",
       "- New treatments and anti-HIV drugs are being continuously developed with the aim to control and cure AIDS. \n",
       "- The anti-HIV drugs that are in use usually target HIV entry and replication inside the host cells. \n",
       "- <span style='color:green'>However, these drugs are only partially effective in slowing the rate of HIV replication.</span> \n",
       "- Nevertheless, the virus manages to replicate at much slower rates even when anti-retroviral treatment is ongoing. \n",
       "- The HIV seropositives who are on anti-retroviral treatment for long periods of time are now developing different kinds of other complications including neuroAIDS. \n",
       "- The latest development in HIV therapy is a novel kind of bone marrow transplantation from donors who have a homozygous mutation in CCR5 gene. \n",
       "- The latest development in HIV therapy is a novel kind of bone marrow transplantation from donors who have a homozygous mutation in CCR5 gene.\n",
       "\n",
       "#### [Human Immunodeficiency Virus-Associated Diarrhea: Still an Issue in the Era of Antiretroviral Therapy](https://api.semanticscholar.org/10.1007/s10620-015-3615-y) \n",
       "🟩 **Decision** : SUPPORT (score=0.54, evidence scores=0.01, 0.99, 0.02)\n",
       "- <span style='color:green'>Over half of patients with human immunodeficiency virus (HIV) experience diarrhea that contributes negatively to quality of life and adherence to antiretroviral therapy (ART).</span> \n",
       "- Opportunistic infectious agents that cause diarrhea in patients with HIV span the array of protozoa, fungi, viruses, and bacteria. \n",
       "- <span style='color:green'>With global use of ART, the incidence of diarrhea because of opportunistic infections has decreased; however, the incidence of noninfectious diarrhea has increased.</span> \n",
       "- <span style='color:green'>The etiology of noninfectious diarrhea in patients with HIV is multifactorial and includes ART-associated diarrhea and gastrointestinal damage related to HIV infection (i.e., HIV enteropathy).</span> \n",
       "- A basic algorithm for the diagnosis of diarrhea in patients with HIV includes physical examination, a review of medical history, assessment of HIV viral load and CD4+ T cell count, stool microbiologic assessment, and endoscopic evaluation, if needed. \n",
       "- For patients with negative diagnostic results, the diagnosis of noninfectious diarrhea may be considered. \n",
       "- Pharmacologic options for the treatment of noninfectious diarrhea are primarily supportive; however, the use of many unapproved agents is based on unstudied and anecdotal information. \n",
       "- In addition, these agents can be associated with treatment-limiting adverse events (AEs), such as drug–drug interactions with ART regimens, abuse liability, and additional gastrointestinal AEs. \n",
       "- Currently, crofelemer, an antisecretory agent, is the only therapy approved in the USA for the symptomatic relief of noninfectious diarrhea in patients with HIV on ART. \n",
       "- Currently, crofelemer, an antisecretory agent, is the only therapy approved in the USA for the symptomatic relief of noninfectious diarrhea in patients with HIV on ART.\n",
       "\n"
      ],
      "text/plain": [
       "<IPython.core.display.Markdown object>"
      ]
     },
     "metadata": {},
     "output_type": "display_data"
    }
   ],
   "source": [
    "claim_to_check = \"ART substantially reduces infectiveness of HIV-positive people.\"#df_claim_evid_label.iloc[18, :][\"claim\"]\n",
    "args_sci = ArgsScifact(claim_to_check)\n",
    "\n",
    "#pretrained_models_config = pretrained_models_for_scifact(args_sci)\n",
    "\n",
    "results_raw = inference(args_sci, pretrained_models_config)\n",
    "\n",
    "if results_raw!= []:\n",
    "    result_md = export(args_sci, results_raw)\n",
    "    #result_md = export(args_sci, results_raw)\n",
    "    display(Markdown(result_md))"
   ]
  },
  {
   "cell_type": "code",
   "execution_count": 25,
   "id": "83ad2623",
   "metadata": {
    "ExecuteTime": {
     "end_time": "2022-01-24T22:49:26.101848Z",
     "start_time": "2022-01-24T22:49:26.099549Z"
    },
    "scrolled": true
   },
   "outputs": [],
   "source": [
    "#print(pretraind_models_config)"
   ]
  },
  {
   "cell_type": "markdown",
   "id": "f54ccdcc",
   "metadata": {},
   "source": [
    "## Scifact Extended funtions\n"
   ]
  },
  {
   "cell_type": "code",
   "execution_count": 26,
   "id": "23e2a7f1",
   "metadata": {
    "ExecuteTime": {
     "end_time": "2022-01-24T22:49:26.116469Z",
     "start_time": "2022-01-24T22:49:26.103914Z"
    }
   },
   "outputs": [],
   "source": [
    "def get_prob_score_claim(claim_to_analyze):\n",
    "    logging.info(\"#### \\n\\n>>> Claim >>> \")\n",
    "    logging.info(claim_to_analyze)\n",
    "\n",
    "    args_sci = ArgsScifact(claim_to_analyze)\n",
    "    dic_info = {}\n",
    "    \n",
    "    dic_info[\"org_count_support\"] = 0\n",
    "    dic_info[\"org_count_refute\"] = 0\n",
    "    dic_info[\"org_list_supported_ids\"] = []\n",
    "    dic_info[\"org_list_refuted_ids\"] = []\n",
    "    dic_info[\"org_list_supported_confidence\"] = []\n",
    "    dic_info[\"org_list_refuted_confidence\"] = []\n",
    "    dic_info[\"org_list_supported_confidence_mean\"] = 0.0\n",
    "    dic_info[\"org_list_refuted_confidence_mean\"] = 0.0\n",
    "    dic_info[\"org_comment\"] = \"\"\n",
    "    \n",
    "    try:\n",
    "        results_raw_org = inference(args_sci, pretrained_models_config)  \n",
    "        \n",
    "        if results_raw_org == []:\n",
    "            dic_info[\"org_comment\"] = \"no result\"\n",
    "            \n",
    "        else:\n",
    "            list_supported_ids = [cur_result['id'] for cur_result in results_raw_org if cur_result['label'] == 'SUPPORT']\n",
    "            list_refuted_ids = [cur_result['id'] for cur_result in results_raw_org if cur_result['label'] == 'REFUTE']\n",
    "            list_supported_label_confidence =  [cur_result['label_confidence'] for cur_result in results_raw_org if cur_result['label'] == 'SUPPORT']\n",
    "            list_refuted_label_confidence =  [cur_result['label_confidence'] for cur_result in results_raw_org if cur_result['label'] == 'REFUTE']\n",
    "            \n",
    "            \n",
    "            dic_info[\"org_count_support\"] = len(list_supported_ids)\n",
    "            dic_info[\"org_count_refute\"] = len(list_refuted_ids)\n",
    "            dic_info[\"org_list_supported_ids\"] = list_supported_ids\n",
    "            dic_info[\"org_list_refuted_ids\"] = list_refuted_ids\n",
    "            dic_info[\"org_list_supported_confidence\"] = list_supported_label_confidence\n",
    "            dic_info[\"org_list_refuted_confidence\"] = list_refuted_label_confidence\n",
    "            if len(list_supported_label_confidence) > 0:\n",
    "                dic_info[\"org_list_supported_confidence_mean\"] = mean(list_supported_label_confidence)\n",
    "            if len(list_refuted_label_confidence) > 0:\n",
    "                dic_info[\"org_list_refuted_confidence_mean\"] = mean(list_refuted_label_confidence)\n",
    "            dic_info[\"org_comment\"] = \"success\"\n",
    "            \n",
    "    except Exception as e:\n",
    "        dic_info[\"org_comment\"] = \"exception : \"+e\n",
    "        logging.info(\">>> Exception original claim >>> \") \n",
    "        logging.info(claim_to_analyze) \n",
    "        logging.info(e)\n",
    "\n",
    "    finally:\n",
    "        log_claim_outcome = '#claim_coutcome : '+claim_to_analyze + '||{support_count} : '+str(dic_info[\"org_count_support\"]) + ' {refute_count} : '+str(dic_info[\"org_count_refute\"])\n",
    "        logging.info(log_claim_outcome)\n",
    "        if ((dic_info[\"org_comment\"] == \"no result\") | \n",
    "            (dic_info[\"org_count_support\"] <= dic_info[\"org_count_refute\"])):\n",
    "            return np.array([1.0, 0.0])        \n",
    "#         if ((dic_info[\"org_comment\"] == \"no result\") | \n",
    "#             (dic_info[\"org_count_support\"] >= dic_info[\"org_count_refute\"])):\n",
    "#             return np.array([1.0, 0.0])\n",
    "        else:\n",
    "            return np.array([0.0,1.0]) \n",
    "            #prob_support_majority = dic_info[\"org_count_support\"]/(dic_info[\"org_count_support\"] + dic_info[\"org_count_refute\"])\n",
    "            #return np.array([0.0,1.0])        \n",
    "        \n",
    "#     finally:\n",
    "#         if dic_info[\"org_comment\"] == \"no result\":\n",
    "#             return np.array([1.0,0.0,0.0,0.0])\n",
    "#         elif dic_info[\"org_count_support\"] == dic_info[\"org_count_refute\"]:\n",
    "#             return np.array([0.0,1.0,0.0,0.0])\n",
    "#         else:\n",
    "#             prob_support_majority = dic_info[\"org_count_support\"]/(dic_info[\"org_count_support\"] + dic_info[\"org_count_refute\"])\n",
    "#             return np.array([0.0,0.0,prob_support_majority,(1-prob_support_majority)])"
   ]
  },
  {
   "cell_type": "markdown",
   "id": "8f2720f2",
   "metadata": {},
   "source": [
    "## Data Prep\n"
   ]
  },
  {
   "cell_type": "code",
   "execution_count": 27,
   "id": "921d0cc0",
   "metadata": {
    "ExecuteTime": {
     "end_time": "2022-01-24T22:49:26.146951Z",
     "start_time": "2022-01-24T22:49:26.118553Z"
    }
   },
   "outputs": [
    {
     "data": {
      "text/html": [
       "<div>\n",
       "<style scoped>\n",
       "    .dataframe tbody tr th:only-of-type {\n",
       "        vertical-align: middle;\n",
       "    }\n",
       "\n",
       "    .dataframe tbody tr th {\n",
       "        vertical-align: top;\n",
       "    }\n",
       "\n",
       "    .dataframe thead th {\n",
       "        text-align: right;\n",
       "    }\n",
       "</style>\n",
       "<table border=\"1\" class=\"dataframe\">\n",
       "  <thead>\n",
       "    <tr style=\"text-align: right;\">\n",
       "      <th></th>\n",
       "      <th>org_claim</th>\n",
       "      <th>ground_label</th>\n",
       "      <th>ground_list_rationales</th>\n",
       "      <th>source</th>\n",
       "      <th>org_count_support</th>\n",
       "      <th>org_count_refute</th>\n",
       "      <th>org_list_supported_ids</th>\n",
       "      <th>org_list_refuted_ids</th>\n",
       "      <th>org_list_supported_confidence</th>\n",
       "      <th>org_list_refuted_confidence</th>\n",
       "      <th>org_list_supported_confidence_mean</th>\n",
       "      <th>org_list_refuted_confidence_mean</th>\n",
       "      <th>org_comment</th>\n",
       "      <th>label</th>\n",
       "    </tr>\n",
       "  </thead>\n",
       "  <tbody>\n",
       "    <tr>\n",
       "      <th>3</th>\n",
       "      <td>76-85% of people with severe mental disorder r...</td>\n",
       "      <td>SUPPORTS</td>\n",
       "      <td>[Although disorder severity was correlated wit...</td>\n",
       "      <td>train</td>\n",
       "      <td>0</td>\n",
       "      <td>1</td>\n",
       "      <td>[]</td>\n",
       "      <td>[e8fhlo37.00012]</td>\n",
       "      <td>[]</td>\n",
       "      <td>[0.6389873027801514]</td>\n",
       "      <td>0.00</td>\n",
       "      <td>0.64</td>\n",
       "      <td>success</td>\n",
       "      <td>refute</td>\n",
       "    </tr>\n",
       "    <tr>\n",
       "      <th>17</th>\n",
       "      <td>ART has no effect on the infectiveness of HIV-...</td>\n",
       "      <td>REFUTES</td>\n",
       "      <td>[CONCLUSIONS Mathematical models evaluating th...</td>\n",
       "      <td>train</td>\n",
       "      <td>0</td>\n",
       "      <td>11</td>\n",
       "      <td>[]</td>\n",
       "      <td>[3vynbdli.00002, bhzgumb8, qj7lho9r, 3c8phatx....</td>\n",
       "      <td>[]</td>\n",
       "      <td>[0.8876776695251465, 0.7819303870201111, 0.765...</td>\n",
       "      <td>0.00</td>\n",
       "      <td>0.67</td>\n",
       "      <td>success</td>\n",
       "      <td>refute</td>\n",
       "    </tr>\n",
       "    <tr>\n",
       "      <th>33</th>\n",
       "      <td>Ambulatory blood pressure monitoring is inaccu...</td>\n",
       "      <td>REFUTES</td>\n",
       "      <td>[Ambulatory monitoring before the start of lif...</td>\n",
       "      <td>train</td>\n",
       "      <td>0</td>\n",
       "      <td>7</td>\n",
       "      <td>[]</td>\n",
       "      <td>[ihk16l1k, 9fbbwrte, lkpeoiyp, b4qq72r3, k7ce1...</td>\n",
       "      <td>[]</td>\n",
       "      <td>[0.8934949636459351, 0.6645402908325195, 0.644...</td>\n",
       "      <td>0.00</td>\n",
       "      <td>0.65</td>\n",
       "      <td>success</td>\n",
       "      <td>refute</td>\n",
       "    </tr>\n",
       "    <tr>\n",
       "      <th>40</th>\n",
       "      <td>Antidepressants increase the severity of migra...</td>\n",
       "      <td>REFUTES</td>\n",
       "      <td>[CONCLUSIONS Tricyclic antidepressants are eff...</td>\n",
       "      <td>train</td>\n",
       "      <td>1</td>\n",
       "      <td>2</td>\n",
       "      <td>[brytb50b]</td>\n",
       "      <td>[oyb8dczr, kzy33hdb.00128]</td>\n",
       "      <td>[0.946519136428833]</td>\n",
       "      <td>[0.6452325582504272, 0.6240962743759155]</td>\n",
       "      <td>0.95</td>\n",
       "      <td>0.63</td>\n",
       "      <td>success</td>\n",
       "      <td>refute</td>\n",
       "    </tr>\n",
       "    <tr>\n",
       "      <th>42</th>\n",
       "      <td>Antimicrobial agents are less effective due to...</td>\n",
       "      <td>SUPPORTS</td>\n",
       "      <td>[Overusing antibiotics is not the only cause a...</td>\n",
       "      <td>train</td>\n",
       "      <td>6</td>\n",
       "      <td>9</td>\n",
       "      <td>[tfr2xbxu.00064, 8wvclg4o.00006, ytv7dwr0.0004...</td>\n",
       "      <td>[8dxv04uu.00010, bwn4bmf5.00017, pzjj2wxc.0000...</td>\n",
       "      <td>[0.9899699091911316, 0.7421004772186279, 0.677...</td>\n",
       "      <td>[0.9373342394828796, 0.8747098445892334, 0.837...</td>\n",
       "      <td>0.70</td>\n",
       "      <td>0.71</td>\n",
       "      <td>success</td>\n",
       "      <td>refute</td>\n",
       "    </tr>\n",
       "    <tr>\n",
       "      <th>...</th>\n",
       "      <td>...</td>\n",
       "      <td>...</td>\n",
       "      <td>...</td>\n",
       "      <td>...</td>\n",
       "      <td>...</td>\n",
       "      <td>...</td>\n",
       "      <td>...</td>\n",
       "      <td>...</td>\n",
       "      <td>...</td>\n",
       "      <td>...</td>\n",
       "      <td>...</td>\n",
       "      <td>...</td>\n",
       "      <td>...</td>\n",
       "      <td>...</td>\n",
       "    </tr>\n",
       "    <tr>\n",
       "      <th>675</th>\n",
       "      <td>There is an inverse relationship between hip f...</td>\n",
       "      <td>SUPPORTS</td>\n",
       "      <td>[CONCLUSIONS These findings support an associa...</td>\n",
       "      <td>dev</td>\n",
       "      <td>0</td>\n",
       "      <td>5</td>\n",
       "      <td>[]</td>\n",
       "      <td>[f1br2h6p.00045, 7r35ow4y.00059, 46oo3sse.0000...</td>\n",
       "      <td>[]</td>\n",
       "      <td>[0.911043107509613, 0.7290191054344177, 0.6985...</td>\n",
       "      <td>0.00</td>\n",
       "      <td>0.70</td>\n",
       "      <td>success</td>\n",
       "      <td>refute</td>\n",
       "    </tr>\n",
       "    <tr>\n",
       "      <th>676</th>\n",
       "      <td>Thigh-length graduated compression stockings (...</td>\n",
       "      <td>SUPPORTS</td>\n",
       "      <td>[INTERPRETATION These data do not lend support...</td>\n",
       "      <td>dev</td>\n",
       "      <td>3</td>\n",
       "      <td>4</td>\n",
       "      <td>[37zrbye6, ie9dn724.00008, 95yiliim]</td>\n",
       "      <td>[nuadau49, 2uzai25k, 2n9f82xs, 6vxtpn90]</td>\n",
       "      <td>[0.8855438232421875, 0.7021892070770264, 0.672...</td>\n",
       "      <td>[0.6754951477050781, 0.637149453163147, 0.5785...</td>\n",
       "      <td>0.75</td>\n",
       "      <td>0.61</td>\n",
       "      <td>success</td>\n",
       "      <td>refute</td>\n",
       "    </tr>\n",
       "    <tr>\n",
       "      <th>677</th>\n",
       "      <td>Tirasemtiv has no effect on fast-twitch muscle.</td>\n",
       "      <td>REFUTES</td>\n",
       "      <td>[Binding selectively to the fast-skeletal-trop...</td>\n",
       "      <td>dev</td>\n",
       "      <td>2</td>\n",
       "      <td>4</td>\n",
       "      <td>[kxfsusgo, 2v4w7ail]</td>\n",
       "      <td>[jns9aaez, h2p8id96, fkqkbail, 16skmh6b.00030]</td>\n",
       "      <td>[0.8443883061408997, 0.7982557415962219]</td>\n",
       "      <td>[0.9675067067146301, 0.9525337815284729, 0.847...</td>\n",
       "      <td>0.82</td>\n",
       "      <td>0.87</td>\n",
       "      <td>success</td>\n",
       "      <td>refute</td>\n",
       "    </tr>\n",
       "    <tr>\n",
       "      <th>679</th>\n",
       "      <td>Transplanted human glial progenitor cells are ...</td>\n",
       "      <td>REFUTES</td>\n",
       "      <td>[Long-term potentiation (LTP) was sharply enha...</td>\n",
       "      <td>dev</td>\n",
       "      <td>0</td>\n",
       "      <td>1</td>\n",
       "      <td>[]</td>\n",
       "      <td>[dkze9ees.00047]</td>\n",
       "      <td>[]</td>\n",
       "      <td>[0.548649787902832]</td>\n",
       "      <td>0.00</td>\n",
       "      <td>0.55</td>\n",
       "      <td>success</td>\n",
       "      <td>refute</td>\n",
       "    </tr>\n",
       "    <tr>\n",
       "      <th>683</th>\n",
       "      <td>Ultrasound guidance significantly raises the n...</td>\n",
       "      <td>REFUTES</td>\n",
       "      <td>[CONCLUSIONS Ultrasound imaging can reduce the...</td>\n",
       "      <td>dev</td>\n",
       "      <td>0</td>\n",
       "      <td>5</td>\n",
       "      <td>[]</td>\n",
       "      <td>[hg1l0r43, xn6bylus, bb7ow4dw, fafnaktl, qb9ew...</td>\n",
       "      <td>[]</td>\n",
       "      <td>[0.9750084280967712, 0.9627625942230225, 0.921...</td>\n",
       "      <td>0.00</td>\n",
       "      <td>0.91</td>\n",
       "      <td>success</td>\n",
       "      <td>refute</td>\n",
       "    </tr>\n",
       "  </tbody>\n",
       "</table>\n",
       "<p>118 rows × 14 columns</p>\n",
       "</div>"
      ],
      "text/plain": [
       "                                             org_claim ground_label  \\\n",
       "3    76-85% of people with severe mental disorder r...     SUPPORTS   \n",
       "17   ART has no effect on the infectiveness of HIV-...      REFUTES   \n",
       "33   Ambulatory blood pressure monitoring is inaccu...      REFUTES   \n",
       "40   Antidepressants increase the severity of migra...      REFUTES   \n",
       "42   Antimicrobial agents are less effective due to...     SUPPORTS   \n",
       "..                                                 ...          ...   \n",
       "675  There is an inverse relationship between hip f...     SUPPORTS   \n",
       "676  Thigh-length graduated compression stockings (...     SUPPORTS   \n",
       "677    Tirasemtiv has no effect on fast-twitch muscle.      REFUTES   \n",
       "679  Transplanted human glial progenitor cells are ...      REFUTES   \n",
       "683  Ultrasound guidance significantly raises the n...      REFUTES   \n",
       "\n",
       "                                ground_list_rationales source  \\\n",
       "3    [Although disorder severity was correlated wit...  train   \n",
       "17   [CONCLUSIONS Mathematical models evaluating th...  train   \n",
       "33   [Ambulatory monitoring before the start of lif...  train   \n",
       "40   [CONCLUSIONS Tricyclic antidepressants are eff...  train   \n",
       "42   [Overusing antibiotics is not the only cause a...  train   \n",
       "..                                                 ...    ...   \n",
       "675  [CONCLUSIONS These findings support an associa...    dev   \n",
       "676  [INTERPRETATION These data do not lend support...    dev   \n",
       "677  [Binding selectively to the fast-skeletal-trop...    dev   \n",
       "679  [Long-term potentiation (LTP) was sharply enha...    dev   \n",
       "683  [CONCLUSIONS Ultrasound imaging can reduce the...    dev   \n",
       "\n",
       "     org_count_support  org_count_refute  \\\n",
       "3                    0                 1   \n",
       "17                   0                11   \n",
       "33                   0                 7   \n",
       "40                   1                 2   \n",
       "42                   6                 9   \n",
       "..                 ...               ...   \n",
       "675                  0                 5   \n",
       "676                  3                 4   \n",
       "677                  2                 4   \n",
       "679                  0                 1   \n",
       "683                  0                 5   \n",
       "\n",
       "                                org_list_supported_ids  \\\n",
       "3                                                   []   \n",
       "17                                                  []   \n",
       "33                                                  []   \n",
       "40                                          [brytb50b]   \n",
       "42   [tfr2xbxu.00064, 8wvclg4o.00006, ytv7dwr0.0004...   \n",
       "..                                                 ...   \n",
       "675                                                 []   \n",
       "676               [37zrbye6, ie9dn724.00008, 95yiliim]   \n",
       "677                               [kxfsusgo, 2v4w7ail]   \n",
       "679                                                 []   \n",
       "683                                                 []   \n",
       "\n",
       "                                  org_list_refuted_ids  \\\n",
       "3                                     [e8fhlo37.00012]   \n",
       "17   [3vynbdli.00002, bhzgumb8, qj7lho9r, 3c8phatx....   \n",
       "33   [ihk16l1k, 9fbbwrte, lkpeoiyp, b4qq72r3, k7ce1...   \n",
       "40                          [oyb8dczr, kzy33hdb.00128]   \n",
       "42   [8dxv04uu.00010, bwn4bmf5.00017, pzjj2wxc.0000...   \n",
       "..                                                 ...   \n",
       "675  [f1br2h6p.00045, 7r35ow4y.00059, 46oo3sse.0000...   \n",
       "676           [nuadau49, 2uzai25k, 2n9f82xs, 6vxtpn90]   \n",
       "677     [jns9aaez, h2p8id96, fkqkbail, 16skmh6b.00030]   \n",
       "679                                   [dkze9ees.00047]   \n",
       "683  [hg1l0r43, xn6bylus, bb7ow4dw, fafnaktl, qb9ew...   \n",
       "\n",
       "                         org_list_supported_confidence  \\\n",
       "3                                                   []   \n",
       "17                                                  []   \n",
       "33                                                  []   \n",
       "40                                 [0.946519136428833]   \n",
       "42   [0.9899699091911316, 0.7421004772186279, 0.677...   \n",
       "..                                                 ...   \n",
       "675                                                 []   \n",
       "676  [0.8855438232421875, 0.7021892070770264, 0.672...   \n",
       "677           [0.8443883061408997, 0.7982557415962219]   \n",
       "679                                                 []   \n",
       "683                                                 []   \n",
       "\n",
       "                           org_list_refuted_confidence  \\\n",
       "3                                 [0.6389873027801514]   \n",
       "17   [0.8876776695251465, 0.7819303870201111, 0.765...   \n",
       "33   [0.8934949636459351, 0.6645402908325195, 0.644...   \n",
       "40            [0.6452325582504272, 0.6240962743759155]   \n",
       "42   [0.9373342394828796, 0.8747098445892334, 0.837...   \n",
       "..                                                 ...   \n",
       "675  [0.911043107509613, 0.7290191054344177, 0.6985...   \n",
       "676  [0.6754951477050781, 0.637149453163147, 0.5785...   \n",
       "677  [0.9675067067146301, 0.9525337815284729, 0.847...   \n",
       "679                                [0.548649787902832]   \n",
       "683  [0.9750084280967712, 0.9627625942230225, 0.921...   \n",
       "\n",
       "     org_list_supported_confidence_mean  org_list_refuted_confidence_mean  \\\n",
       "3                                  0.00                              0.64   \n",
       "17                                 0.00                              0.67   \n",
       "33                                 0.00                              0.65   \n",
       "40                                 0.95                              0.63   \n",
       "42                                 0.70                              0.71   \n",
       "..                                  ...                               ...   \n",
       "675                                0.00                              0.70   \n",
       "676                                0.75                              0.61   \n",
       "677                                0.82                              0.87   \n",
       "679                                0.00                              0.55   \n",
       "683                                0.00                              0.91   \n",
       "\n",
       "    org_comment   label  \n",
       "3       success  refute  \n",
       "17      success  refute  \n",
       "33      success  refute  \n",
       "40      success  refute  \n",
       "42      success  refute  \n",
       "..          ...     ...  \n",
       "675     success  refute  \n",
       "676     success  refute  \n",
       "677     success  refute  \n",
       "679     success  refute  \n",
       "683     success  refute  \n",
       "\n",
       "[118 rows x 14 columns]"
      ]
     },
     "execution_count": 27,
     "metadata": {},
     "output_type": "execute_result"
    }
   ],
   "source": [
    "df_claim_evid_label"
   ]
  },
  {
   "cell_type": "raw",
   "id": "b3df98fa",
   "metadata": {
    "ExecuteTime": {
     "end_time": "2022-01-20T10:32:24.766381Z",
     "start_time": "2022-01-20T10:32:24.763474Z"
    }
   },
   "source": [
    "df_claim_evid_label.rename(columns={'ground_label': 'label'}, inplace=True)"
   ]
  },
  {
   "cell_type": "code",
   "execution_count": 28,
   "id": "45b0c611",
   "metadata": {
    "ExecuteTime": {
     "end_time": "2022-01-24T22:49:26.151925Z",
     "start_time": "2022-01-24T22:49:26.148584Z"
    }
   },
   "outputs": [],
   "source": [
    "le_ground = preprocessing.LabelEncoder()\n",
    "le_ground.fit(df_claim_evid_label.label)\n",
    "df_claim_evid_label['label_enc'] = le_ground.transform(df_claim_evid_label.label)"
   ]
  },
  {
   "cell_type": "code",
   "execution_count": 29,
   "id": "1266735f",
   "metadata": {
    "ExecuteTime": {
     "end_time": "2022-01-24T22:49:26.182005Z",
     "start_time": "2022-01-24T22:49:26.153543Z"
    }
   },
   "outputs": [
    {
     "data": {
      "text/html": [
       "<div>\n",
       "<style scoped>\n",
       "    .dataframe tbody tr th:only-of-type {\n",
       "        vertical-align: middle;\n",
       "    }\n",
       "\n",
       "    .dataframe tbody tr th {\n",
       "        vertical-align: top;\n",
       "    }\n",
       "\n",
       "    .dataframe thead th {\n",
       "        text-align: right;\n",
       "    }\n",
       "</style>\n",
       "<table border=\"1\" class=\"dataframe\">\n",
       "  <thead>\n",
       "    <tr style=\"text-align: right;\">\n",
       "      <th></th>\n",
       "      <th>org_claim</th>\n",
       "      <th>ground_label</th>\n",
       "      <th>ground_list_rationales</th>\n",
       "      <th>source</th>\n",
       "      <th>org_count_support</th>\n",
       "      <th>org_count_refute</th>\n",
       "      <th>org_list_supported_ids</th>\n",
       "      <th>org_list_refuted_ids</th>\n",
       "      <th>org_list_supported_confidence</th>\n",
       "      <th>org_list_refuted_confidence</th>\n",
       "      <th>org_list_supported_confidence_mean</th>\n",
       "      <th>org_list_refuted_confidence_mean</th>\n",
       "      <th>org_comment</th>\n",
       "      <th>label</th>\n",
       "      <th>label_enc</th>\n",
       "    </tr>\n",
       "  </thead>\n",
       "  <tbody>\n",
       "    <tr>\n",
       "      <th>3</th>\n",
       "      <td>76-85% of people with severe mental disorder r...</td>\n",
       "      <td>SUPPORTS</td>\n",
       "      <td>[Although disorder severity was correlated wit...</td>\n",
       "      <td>train</td>\n",
       "      <td>0</td>\n",
       "      <td>1</td>\n",
       "      <td>[]</td>\n",
       "      <td>[e8fhlo37.00012]</td>\n",
       "      <td>[]</td>\n",
       "      <td>[0.6389873027801514]</td>\n",
       "      <td>0.00</td>\n",
       "      <td>0.64</td>\n",
       "      <td>success</td>\n",
       "      <td>refute</td>\n",
       "      <td>0</td>\n",
       "    </tr>\n",
       "    <tr>\n",
       "      <th>17</th>\n",
       "      <td>ART has no effect on the infectiveness of HIV-...</td>\n",
       "      <td>REFUTES</td>\n",
       "      <td>[CONCLUSIONS Mathematical models evaluating th...</td>\n",
       "      <td>train</td>\n",
       "      <td>0</td>\n",
       "      <td>11</td>\n",
       "      <td>[]</td>\n",
       "      <td>[3vynbdli.00002, bhzgumb8, qj7lho9r, 3c8phatx....</td>\n",
       "      <td>[]</td>\n",
       "      <td>[0.8876776695251465, 0.7819303870201111, 0.765...</td>\n",
       "      <td>0.00</td>\n",
       "      <td>0.67</td>\n",
       "      <td>success</td>\n",
       "      <td>refute</td>\n",
       "      <td>0</td>\n",
       "    </tr>\n",
       "    <tr>\n",
       "      <th>33</th>\n",
       "      <td>Ambulatory blood pressure monitoring is inaccu...</td>\n",
       "      <td>REFUTES</td>\n",
       "      <td>[Ambulatory monitoring before the start of lif...</td>\n",
       "      <td>train</td>\n",
       "      <td>0</td>\n",
       "      <td>7</td>\n",
       "      <td>[]</td>\n",
       "      <td>[ihk16l1k, 9fbbwrte, lkpeoiyp, b4qq72r3, k7ce1...</td>\n",
       "      <td>[]</td>\n",
       "      <td>[0.8934949636459351, 0.6645402908325195, 0.644...</td>\n",
       "      <td>0.00</td>\n",
       "      <td>0.65</td>\n",
       "      <td>success</td>\n",
       "      <td>refute</td>\n",
       "      <td>0</td>\n",
       "    </tr>\n",
       "    <tr>\n",
       "      <th>40</th>\n",
       "      <td>Antidepressants increase the severity of migra...</td>\n",
       "      <td>REFUTES</td>\n",
       "      <td>[CONCLUSIONS Tricyclic antidepressants are eff...</td>\n",
       "      <td>train</td>\n",
       "      <td>1</td>\n",
       "      <td>2</td>\n",
       "      <td>[brytb50b]</td>\n",
       "      <td>[oyb8dczr, kzy33hdb.00128]</td>\n",
       "      <td>[0.946519136428833]</td>\n",
       "      <td>[0.6452325582504272, 0.6240962743759155]</td>\n",
       "      <td>0.95</td>\n",
       "      <td>0.63</td>\n",
       "      <td>success</td>\n",
       "      <td>refute</td>\n",
       "      <td>0</td>\n",
       "    </tr>\n",
       "    <tr>\n",
       "      <th>42</th>\n",
       "      <td>Antimicrobial agents are less effective due to...</td>\n",
       "      <td>SUPPORTS</td>\n",
       "      <td>[Overusing antibiotics is not the only cause a...</td>\n",
       "      <td>train</td>\n",
       "      <td>6</td>\n",
       "      <td>9</td>\n",
       "      <td>[tfr2xbxu.00064, 8wvclg4o.00006, ytv7dwr0.0004...</td>\n",
       "      <td>[8dxv04uu.00010, bwn4bmf5.00017, pzjj2wxc.0000...</td>\n",
       "      <td>[0.9899699091911316, 0.7421004772186279, 0.677...</td>\n",
       "      <td>[0.9373342394828796, 0.8747098445892334, 0.837...</td>\n",
       "      <td>0.70</td>\n",
       "      <td>0.71</td>\n",
       "      <td>success</td>\n",
       "      <td>refute</td>\n",
       "      <td>0</td>\n",
       "    </tr>\n",
       "    <tr>\n",
       "      <th>...</th>\n",
       "      <td>...</td>\n",
       "      <td>...</td>\n",
       "      <td>...</td>\n",
       "      <td>...</td>\n",
       "      <td>...</td>\n",
       "      <td>...</td>\n",
       "      <td>...</td>\n",
       "      <td>...</td>\n",
       "      <td>...</td>\n",
       "      <td>...</td>\n",
       "      <td>...</td>\n",
       "      <td>...</td>\n",
       "      <td>...</td>\n",
       "      <td>...</td>\n",
       "      <td>...</td>\n",
       "    </tr>\n",
       "    <tr>\n",
       "      <th>675</th>\n",
       "      <td>There is an inverse relationship between hip f...</td>\n",
       "      <td>SUPPORTS</td>\n",
       "      <td>[CONCLUSIONS These findings support an associa...</td>\n",
       "      <td>dev</td>\n",
       "      <td>0</td>\n",
       "      <td>5</td>\n",
       "      <td>[]</td>\n",
       "      <td>[f1br2h6p.00045, 7r35ow4y.00059, 46oo3sse.0000...</td>\n",
       "      <td>[]</td>\n",
       "      <td>[0.911043107509613, 0.7290191054344177, 0.6985...</td>\n",
       "      <td>0.00</td>\n",
       "      <td>0.70</td>\n",
       "      <td>success</td>\n",
       "      <td>refute</td>\n",
       "      <td>0</td>\n",
       "    </tr>\n",
       "    <tr>\n",
       "      <th>676</th>\n",
       "      <td>Thigh-length graduated compression stockings (...</td>\n",
       "      <td>SUPPORTS</td>\n",
       "      <td>[INTERPRETATION These data do not lend support...</td>\n",
       "      <td>dev</td>\n",
       "      <td>3</td>\n",
       "      <td>4</td>\n",
       "      <td>[37zrbye6, ie9dn724.00008, 95yiliim]</td>\n",
       "      <td>[nuadau49, 2uzai25k, 2n9f82xs, 6vxtpn90]</td>\n",
       "      <td>[0.8855438232421875, 0.7021892070770264, 0.672...</td>\n",
       "      <td>[0.6754951477050781, 0.637149453163147, 0.5785...</td>\n",
       "      <td>0.75</td>\n",
       "      <td>0.61</td>\n",
       "      <td>success</td>\n",
       "      <td>refute</td>\n",
       "      <td>0</td>\n",
       "    </tr>\n",
       "    <tr>\n",
       "      <th>677</th>\n",
       "      <td>Tirasemtiv has no effect on fast-twitch muscle.</td>\n",
       "      <td>REFUTES</td>\n",
       "      <td>[Binding selectively to the fast-skeletal-trop...</td>\n",
       "      <td>dev</td>\n",
       "      <td>2</td>\n",
       "      <td>4</td>\n",
       "      <td>[kxfsusgo, 2v4w7ail]</td>\n",
       "      <td>[jns9aaez, h2p8id96, fkqkbail, 16skmh6b.00030]</td>\n",
       "      <td>[0.8443883061408997, 0.7982557415962219]</td>\n",
       "      <td>[0.9675067067146301, 0.9525337815284729, 0.847...</td>\n",
       "      <td>0.82</td>\n",
       "      <td>0.87</td>\n",
       "      <td>success</td>\n",
       "      <td>refute</td>\n",
       "      <td>0</td>\n",
       "    </tr>\n",
       "    <tr>\n",
       "      <th>679</th>\n",
       "      <td>Transplanted human glial progenitor cells are ...</td>\n",
       "      <td>REFUTES</td>\n",
       "      <td>[Long-term potentiation (LTP) was sharply enha...</td>\n",
       "      <td>dev</td>\n",
       "      <td>0</td>\n",
       "      <td>1</td>\n",
       "      <td>[]</td>\n",
       "      <td>[dkze9ees.00047]</td>\n",
       "      <td>[]</td>\n",
       "      <td>[0.548649787902832]</td>\n",
       "      <td>0.00</td>\n",
       "      <td>0.55</td>\n",
       "      <td>success</td>\n",
       "      <td>refute</td>\n",
       "      <td>0</td>\n",
       "    </tr>\n",
       "    <tr>\n",
       "      <th>683</th>\n",
       "      <td>Ultrasound guidance significantly raises the n...</td>\n",
       "      <td>REFUTES</td>\n",
       "      <td>[CONCLUSIONS Ultrasound imaging can reduce the...</td>\n",
       "      <td>dev</td>\n",
       "      <td>0</td>\n",
       "      <td>5</td>\n",
       "      <td>[]</td>\n",
       "      <td>[hg1l0r43, xn6bylus, bb7ow4dw, fafnaktl, qb9ew...</td>\n",
       "      <td>[]</td>\n",
       "      <td>[0.9750084280967712, 0.9627625942230225, 0.921...</td>\n",
       "      <td>0.00</td>\n",
       "      <td>0.91</td>\n",
       "      <td>success</td>\n",
       "      <td>refute</td>\n",
       "      <td>0</td>\n",
       "    </tr>\n",
       "  </tbody>\n",
       "</table>\n",
       "<p>118 rows × 15 columns</p>\n",
       "</div>"
      ],
      "text/plain": [
       "                                             org_claim ground_label  \\\n",
       "3    76-85% of people with severe mental disorder r...     SUPPORTS   \n",
       "17   ART has no effect on the infectiveness of HIV-...      REFUTES   \n",
       "33   Ambulatory blood pressure monitoring is inaccu...      REFUTES   \n",
       "40   Antidepressants increase the severity of migra...      REFUTES   \n",
       "42   Antimicrobial agents are less effective due to...     SUPPORTS   \n",
       "..                                                 ...          ...   \n",
       "675  There is an inverse relationship between hip f...     SUPPORTS   \n",
       "676  Thigh-length graduated compression stockings (...     SUPPORTS   \n",
       "677    Tirasemtiv has no effect on fast-twitch muscle.      REFUTES   \n",
       "679  Transplanted human glial progenitor cells are ...      REFUTES   \n",
       "683  Ultrasound guidance significantly raises the n...      REFUTES   \n",
       "\n",
       "                                ground_list_rationales source  \\\n",
       "3    [Although disorder severity was correlated wit...  train   \n",
       "17   [CONCLUSIONS Mathematical models evaluating th...  train   \n",
       "33   [Ambulatory monitoring before the start of lif...  train   \n",
       "40   [CONCLUSIONS Tricyclic antidepressants are eff...  train   \n",
       "42   [Overusing antibiotics is not the only cause a...  train   \n",
       "..                                                 ...    ...   \n",
       "675  [CONCLUSIONS These findings support an associa...    dev   \n",
       "676  [INTERPRETATION These data do not lend support...    dev   \n",
       "677  [Binding selectively to the fast-skeletal-trop...    dev   \n",
       "679  [Long-term potentiation (LTP) was sharply enha...    dev   \n",
       "683  [CONCLUSIONS Ultrasound imaging can reduce the...    dev   \n",
       "\n",
       "     org_count_support  org_count_refute  \\\n",
       "3                    0                 1   \n",
       "17                   0                11   \n",
       "33                   0                 7   \n",
       "40                   1                 2   \n",
       "42                   6                 9   \n",
       "..                 ...               ...   \n",
       "675                  0                 5   \n",
       "676                  3                 4   \n",
       "677                  2                 4   \n",
       "679                  0                 1   \n",
       "683                  0                 5   \n",
       "\n",
       "                                org_list_supported_ids  \\\n",
       "3                                                   []   \n",
       "17                                                  []   \n",
       "33                                                  []   \n",
       "40                                          [brytb50b]   \n",
       "42   [tfr2xbxu.00064, 8wvclg4o.00006, ytv7dwr0.0004...   \n",
       "..                                                 ...   \n",
       "675                                                 []   \n",
       "676               [37zrbye6, ie9dn724.00008, 95yiliim]   \n",
       "677                               [kxfsusgo, 2v4w7ail]   \n",
       "679                                                 []   \n",
       "683                                                 []   \n",
       "\n",
       "                                  org_list_refuted_ids  \\\n",
       "3                                     [e8fhlo37.00012]   \n",
       "17   [3vynbdli.00002, bhzgumb8, qj7lho9r, 3c8phatx....   \n",
       "33   [ihk16l1k, 9fbbwrte, lkpeoiyp, b4qq72r3, k7ce1...   \n",
       "40                          [oyb8dczr, kzy33hdb.00128]   \n",
       "42   [8dxv04uu.00010, bwn4bmf5.00017, pzjj2wxc.0000...   \n",
       "..                                                 ...   \n",
       "675  [f1br2h6p.00045, 7r35ow4y.00059, 46oo3sse.0000...   \n",
       "676           [nuadau49, 2uzai25k, 2n9f82xs, 6vxtpn90]   \n",
       "677     [jns9aaez, h2p8id96, fkqkbail, 16skmh6b.00030]   \n",
       "679                                   [dkze9ees.00047]   \n",
       "683  [hg1l0r43, xn6bylus, bb7ow4dw, fafnaktl, qb9ew...   \n",
       "\n",
       "                         org_list_supported_confidence  \\\n",
       "3                                                   []   \n",
       "17                                                  []   \n",
       "33                                                  []   \n",
       "40                                 [0.946519136428833]   \n",
       "42   [0.9899699091911316, 0.7421004772186279, 0.677...   \n",
       "..                                                 ...   \n",
       "675                                                 []   \n",
       "676  [0.8855438232421875, 0.7021892070770264, 0.672...   \n",
       "677           [0.8443883061408997, 0.7982557415962219]   \n",
       "679                                                 []   \n",
       "683                                                 []   \n",
       "\n",
       "                           org_list_refuted_confidence  \\\n",
       "3                                 [0.6389873027801514]   \n",
       "17   [0.8876776695251465, 0.7819303870201111, 0.765...   \n",
       "33   [0.8934949636459351, 0.6645402908325195, 0.644...   \n",
       "40            [0.6452325582504272, 0.6240962743759155]   \n",
       "42   [0.9373342394828796, 0.8747098445892334, 0.837...   \n",
       "..                                                 ...   \n",
       "675  [0.911043107509613, 0.7290191054344177, 0.6985...   \n",
       "676  [0.6754951477050781, 0.637149453163147, 0.5785...   \n",
       "677  [0.9675067067146301, 0.9525337815284729, 0.847...   \n",
       "679                                [0.548649787902832]   \n",
       "683  [0.9750084280967712, 0.9627625942230225, 0.921...   \n",
       "\n",
       "     org_list_supported_confidence_mean  org_list_refuted_confidence_mean  \\\n",
       "3                                  0.00                              0.64   \n",
       "17                                 0.00                              0.67   \n",
       "33                                 0.00                              0.65   \n",
       "40                                 0.95                              0.63   \n",
       "42                                 0.70                              0.71   \n",
       "..                                  ...                               ...   \n",
       "675                                0.00                              0.70   \n",
       "676                                0.75                              0.61   \n",
       "677                                0.82                              0.87   \n",
       "679                                0.00                              0.55   \n",
       "683                                0.00                              0.91   \n",
       "\n",
       "    org_comment   label  label_enc  \n",
       "3       success  refute          0  \n",
       "17      success  refute          0  \n",
       "33      success  refute          0  \n",
       "40      success  refute          0  \n",
       "42      success  refute          0  \n",
       "..          ...     ...        ...  \n",
       "675     success  refute          0  \n",
       "676     success  refute          0  \n",
       "677     success  refute          0  \n",
       "679     success  refute          0  \n",
       "683     success  refute          0  \n",
       "\n",
       "[118 rows x 15 columns]"
      ]
     },
     "execution_count": 29,
     "metadata": {},
     "output_type": "execute_result"
    }
   ],
   "source": [
    "df_claim_evid_label"
   ]
  },
  {
   "cell_type": "code",
   "execution_count": 30,
   "id": "87bb92b4",
   "metadata": {
    "ExecuteTime": {
     "end_time": "2022-01-24T22:49:26.187098Z",
     "start_time": "2022-01-24T22:49:26.183635Z"
    }
   },
   "outputs": [
    {
     "name": "stdout",
     "output_type": "stream",
     "text": [
      "{'refute': 0}\n"
     ]
    }
   ],
   "source": [
    "le_name_mapping = dict(zip(le_ground.classes_, le_ground.transform(le_ground.classes_)))\n",
    "print(le_name_mapping)"
   ]
  },
  {
   "cell_type": "code",
   "execution_count": 31,
   "id": "a94bf99b",
   "metadata": {
    "ExecuteTime": {
     "end_time": "2022-01-24T22:49:26.192794Z",
     "start_time": "2022-01-24T22:49:26.188913Z"
    }
   },
   "outputs": [],
   "source": [
    "tpl_claim_label_rationale = list(df_claim_evid_label[['org_claim', 'label_enc', 'label', \n",
    "                                                      'ground_list_rationales', 'source']].itertuples(index=False, name=None))"
   ]
  },
  {
   "cell_type": "code",
   "execution_count": 32,
   "id": "dad4e4b7",
   "metadata": {
    "ExecuteTime": {
     "end_time": "2022-01-24T22:49:26.209496Z",
     "start_time": "2022-01-24T22:49:26.194614Z"
    }
   },
   "outputs": [
    {
     "data": {
      "text/plain": [
       "[('76-85% of people with severe mental disorder receive no treatment in low and middle income countries.',\n",
       "  0,\n",
       "  'refute',\n",
       "  ['Although disorder severity was correlated with probability of treatment in almost all countries, 35.5% to 50.3% of serious cases in developed countries and 76.3% to 85.4% in less-developed countries received no treatment in the 12 months before the interview.'],\n",
       "  'train'),\n",
       " ('ART has no effect on the infectiveness of HIV-positive people.',\n",
       "  0,\n",
       "  'refute',\n",
       "  ['CONCLUSIONS Mathematical models evaluating the impact of ART vary substantially in structure, complexity, and parameter choices, but all suggest that ART, at high levels of access and with high adherence, has the potential to substantially reduce new HIV infections.'],\n",
       "  'train'),\n",
       " ('Ambulatory blood pressure monitoring is inaccurate at diagnosing hypertension.',\n",
       "  0,\n",
       "  'refute',\n",
       "  ['Ambulatory monitoring before the start of lifelong drug treatment might lead to more appropriate targeting of treatment, particularly around the diagnostic threshold.'],\n",
       "  'train'),\n",
       " ('Antidepressants increase the severity of migraines.',\n",
       "  0,\n",
       "  'refute',\n",
       "  ['CONCLUSIONS Tricyclic antidepressants are effective in preventing migraine and tension-type headaches and are more effective than selective serotonin reuptake inhibitors, although with greater adverse effects.'],\n",
       "  'train'),\n",
       " ('Antimicrobial agents are less effective due to the pressure of antimicrobial usage.',\n",
       "  0,\n",
       "  'refute',\n",
       "  ['Overusing antibiotics is not the only cause and reducing use is not the only solution   W arning signs of antimicrobial resistance, chinks in the antimicrobial armour, began to appear in the middle of the last century, and by the 1990s various reports had signalled the dangers of excessive or inappropriate use of antibiotics in clinical medicine and of the use of antibiotics in animal feed as growth promoters.1–3 Overuse of antimicrobials emerged as the main culprit, and reducing their use was seen as the answer.'],\n",
       "  'train'),\n",
       " ('Antimicrobial agents are more effective due to the pressure of antimicrobial usage.',\n",
       "  0,\n",
       "  'refute',\n",
       "  ['Overusing antibiotics is not the only cause and reducing use is not the only solution   W arning signs of antimicrobial resistance, chinks in the antimicrobial armour, began to appear in the middle of the last century, and by the 1990s various reports had signalled the dangers of excessive or inappropriate use of antibiotics in clinical medicine and of the use of antibiotics in animal feed as growth promoters.1–3 Overuse of antimicrobials emerged as the main culprit, and reducing their use was seen as the answer.'],\n",
       "  'train'),\n",
       " ('Antiretroviral therapy increases rates of tuberculosis across a broad range of CD4 strata.',\n",
       "  0,\n",
       "  'refute',\n",
       "  ['CONCLUSIONS Antiretroviral therapy is strongly associated with a reduction in the incidence of tuberculosis across all CD4 count strata.'],\n",
       "  'train'),\n",
       " ('Autophagy deficiency in the liver increases vulnerability to insulin resistance.',\n",
       "  0,\n",
       "  'refute',\n",
       "  [\"These findings suggest that autophagy deficiency and subsequent mitochondrial dysfunction promote Fgf21 expression, a hormone we consequently term a 'mitokine', and together these processes promote protection from diet-induced obesity and insulin resistance.\"],\n",
       "  'train'),\n",
       " ('BCL-2 activation antagonizes the apoptotic effects of c-Myc.',\n",
       "  0,\n",
       "  'refute',\n",
       "  ['Eliminating BCL-2 yielded rapid loss of leukemic cells and significantly prolonged survival, formally validating BCL-2 as a rational target for cancer therapy.'],\n",
       "  'train'),\n",
       " ('BCL-2 promotes the apoptotic effects of c-Myc.',\n",
       "  0,\n",
       "  'refute',\n",
       "  ['Eliminating BCL-2 yielded rapid loss of leukemic cells and significantly prolonged survival, formally validating BCL-2 as a rational target for cancer therapy.'],\n",
       "  'train'),\n",
       " ('Bariatric surgery increases rates of colorectal cancer.',\n",
       "  0,\n",
       "  'refute',\n",
       "  ['No association was detected between bariatric surgery and fractures, cancer, or stroke.'],\n",
       "  'train'),\n",
       " ('Birth-weight is negatively associated with breast cancer.',\n",
       "  0,\n",
       "  'refute',\n",
       "  ['CONCLUSIONS This pooled analysis of individual participant data is consistent with birth size, and in particular birth length, being an independent correlate of breast cancer risk in adulthood.'],\n",
       "  'train'),\n",
       " (\"Bone marrow cells don't contribute to adult macrophage compartments.\",\n",
       "  0,\n",
       "  'refute',\n",
       "  ['We also found that after bone marrow transplantation, host macrophages retained the capacity to expand when the development of donor macrophages was compromised.'],\n",
       "  'train'),\n",
       " ('Chenodeoxycholic acid treatment decreases brown adipose tissue activity.',\n",
       "  0,\n",
       "  'refute',\n",
       "  ['Treatment of 12 healthy female subjects with CDCA for 2 days resulted in increased BAT activity.'],\n",
       "  'train'),\n",
       " ('Chlamydia trachomatis is most prevalent in the UK among sexually-experienced individuals aged 16 to 24.',\n",
       "  0,\n",
       "  'refute',\n",
       "  ['Prevalences in individuals aged 16-24 years were 3·1% (2·2-4·3) in women and 2·3% (1·5-3·4) in men.'],\n",
       "  'train'),\n",
       " ('Cognitive behavioral therapy is an ineffective treatment for insomnia',\n",
       "  0,\n",
       "  'refute',\n",
       "  ['CONCLUSION These results suggest that interventions based on CBT are superior to zopiclone treatment both in short- and long-term management of insomnia in older adults.   \\n'],\n",
       "  'train'),\n",
       " (\"Commelina yellow mottle virus' (ComYMV) genome consists of 2140 baise pairs.\",\n",
       "  0,\n",
       "  'refute',\n",
       "  ['Analysis of the genome sequence indicates that the genome is 7489 bp in size and that the transcribed strand contains three open reading frames capable of encoding proteins of 23, 15 and 216 kd.'],\n",
       "  'train'),\n",
       " ('Consumption of whole fruits increases the risk of type 2 diabetes.',\n",
       "  0,\n",
       "  'refute',\n",
       "  ['Greater consumption of specific whole fruits, particularly blueberries, grapes, and apples, is significantly associated with a lower risk of type 2 diabetes, whereas greater consumption of fruit juice is associated with a higher risk.'],\n",
       "  'train'),\n",
       " ('Cost effectiveness evaluations based on cRCT data lack external validity.',\n",
       "  0,\n",
       "  'refute',\n",
       "  ['CONCLUSIONS The published cost-effectiveness analyses of coxibs lacked external validity, did not represent patients in actual clinical practice, and should not have been used to inform prescribing policies.'],\n",
       "  'train'),\n",
       " ('DUSP4 decreases apoptosis.',\n",
       "  0,\n",
       "  'refute',\n",
       "  ['DUSP4 overexpression increased chemotherapy-induced apoptosis, whereas DUSP4 depletion dampened the response to chemotherapy.'],\n",
       "  'train'),\n",
       " ('Deltex has no known interactions with eIF3f.',\n",
       "  0,\n",
       "  'refute',\n",
       "  ['We also show that eIF3f is recruited to activated Notch on endocytic vesicles by the putative E3 ubiquitin ligase Deltex1, which serves as a bridging factor.'],\n",
       "  'train'),\n",
       " ('Dexamethasone increases risk of postoperative bleeding.',\n",
       "  0,\n",
       "  'refute',\n",
       "  ['CONCLUSION In this study of children undergoing tonsillectomy, dexamethasone decreased the risk of PONV dose dependently but was associated with an increased risk of postoperative bleeding.   \\n'],\n",
       "  'train'),\n",
       " ('Diabetes remission occurs more in people treated with conventional therapy than in people treated with laparoscopic adjustable gastric banding surgery.',\n",
       "  0,\n",
       "  'refute',\n",
       "  ['CONCLUSIONS Participants randomized to surgical therapy were more likely to achieve remission of type 2 diabetes through greater weight loss.'],\n",
       "  'train'),\n",
       " ('Diabetic patients with acute coronary syndrome experience decreased short-term and long-term risk for bleeding events.',\n",
       "  0,\n",
       "  'refute',\n",
       "  ['Diabetes independently predicted mortality (relative risk [RR], 1.57; 95% CI, 1.38 to 1.81; P:<0.001), as well as cardiovascular death, new myocardial infarction, stroke, and new congestive heart failure.'],\n",
       "  'train'),\n",
       " ('Diminished ovarian reserve is a reliable indicator of infertility in a non-infertile population.',\n",
       "  0,\n",
       "  'refute',\n",
       "  ['Conclusions and Relevance Among women aged 30 to 44 years without a history of infertility who had been trying to conceive for 3 months or less, biomarkers indicating diminished ovarian reserve compared with normal ovarian reserve were not associated with reduced fertility.'],\n",
       "  'train'),\n",
       " ('Early patent ductus ateriosus (PDA) screening increases in-hospital mortality.',\n",
       "  0,\n",
       "  'refute',\n",
       "  ['CONCLUSIONS AND RELEVANCE In this national population-based cohort of extremely preterm infants, screening echocardiography before day 3 of life was associated with lower in-hospital mortality and likelihood of pulmonary hemorrhage but not with differences in necrotizing enterocolitis, severe bronchopulmonary dysplasia, or severe cerebral lesions.'],\n",
       "  'train'),\n",
       " ('Enhanced early production of inflammatory chemokines damages viral control in the lung.',\n",
       "  0,\n",
       "  'refute',\n",
       "  ['We found that the response of memory, but not naive, CD4+ T cells enhances production of multiple innate inflammatory cytokines and chemokines (IICs) in the lung and that, during influenza infection, this leads to early control of virus.'],\n",
       "  'train'),\n",
       " ('Exercise increases cancer mortality rates among Chinese citizens.',\n",
       "  0,\n",
       "  'refute',\n",
       "  ['CONCLUSIONS In this first study, to our knowledge, to quantify the combined impact of lifestyle-related factors on mortality outcomes in Chinese women, a healthier lifestyle pattern-including being of normal weight, lower central adiposity, participation in physical activity, nonexposure to spousal smoking, and higher fruit and vegetable intake-was associated with reductions in total and cause-specific mortality among lifetime nonsmoking and nondrinking women, supporting the importance of overall lifestyle modification in disease prevention.'],\n",
       "  'train'),\n",
       " ('Exercise reduces cancer mortality rates among Chinese citizens.',\n",
       "  0,\n",
       "  'refute',\n",
       "  ['CONCLUSIONS In this first study, to our knowledge, to quantify the combined impact of lifestyle-related factors on mortality outcomes in Chinese women, a healthier lifestyle pattern-including being of normal weight, lower central adiposity, participation in physical activity, nonexposure to spousal smoking, and higher fruit and vegetable intake-was associated with reductions in total and cause-specific mortality among lifetime nonsmoking and nondrinking women, supporting the importance of overall lifestyle modification in disease prevention.'],\n",
       "  'train'),\n",
       " ('Exposure to fine particulate air pollution is unrelated to anxiety prevalence.',\n",
       "  0,\n",
       "  'refute',\n",
       "  ['CONCLUSIONS Exposure to fine particulate matter (PM2.5) was associated with high symptoms of anxiety, with more recent exposures potentially more relevant than more distant exposures.'],\n",
       "  'train'),\n",
       " ('Female carriers of the Apolipoprotein E4 (APOE4) allele have decreased risk for dementia.',\n",
       "  0,\n",
       "  'refute',\n",
       "  ['Risk of dementia associated with a longer reproductive period was most pronounced in APOE epsilon4 carriers (adjusted RR for >39 reproductive years compared with <34 reproductive years, 4.20 [95% CI, 1.97-8.92] for dementia and 3.42 [95% CI, 1.51-7.75] for AD), whereas in noncarriers, no clear association with dementia or AD was observed.   \\n'],\n",
       "  'train'),\n",
       " ('Foxk2 regulates autophagy genes in muscle cells and fibroblast cells.',\n",
       "  0,\n",
       "  'refute',\n",
       "  ['Foxk1/2 specifically recruits Sin3A-HDAC complexes to restrict acetylation of histone H4 and expression of critical autophagy genes.'],\n",
       "  'train'),\n",
       " ('Gastric infection with Helicobacter pylori decreases risk of gastric cancer in humans.',\n",
       "  0,\n",
       "  'refute',\n",
       "  ['CONCLUSIONS H pylori infection may be an important cause of gastric cancer; between 35% and 55% of all cases may be associated with such an infection.'],\n",
       "  'train'),\n",
       " ('General exercise therapy is more effective than scapular stabilizer exercises in reducing pain and improving function of the shoulder.',\n",
       "  0,\n",
       "  'refute',\n",
       "  ['CONCLUSION A specific exercise strategy, focusing on strengthening eccentric exercises for the rotator cuff and concentric/eccentric exercises for the scapula stabilisers, is effective in reducing pain and improving shoulder function in patients with persistent subacromial impingement syndrome.'],\n",
       "  'train'),\n",
       " ('Gpr124 increases BBB breakdown in mouse models of ischemic stroke.',\n",
       "  0,\n",
       "  'refute',\n",
       "  ['Here Gpr124 conditional knockout (CKO) in the endothelia of adult mice did not affect homeostatic BBB integrity, but resulted in BBB disruption and microvascular hemorrhage in mouse models of both ischemic stroke and glioblastoma, accompanied by reduced cerebrovascular canonical Wnt–β-catenin signaling.'],\n",
       "  'train'),\n",
       " ('HbA1c consistently overestimates glycemic control in black individuals with Sickle cell trait (SCT).',\n",
       "  0,\n",
       "  'refute',\n",
       "  ['These findings suggest that HbA1c may systematically underestimate past glycemia in black patients with SCT and may require further evaluation.'],\n",
       "  'train'),\n",
       " ('Incidence of 10/66 dementia is lower than the incidence of DSM-IV dementia.',\n",
       "  0,\n",
       "  'refute',\n",
       "  ['Incidence for 10/66 dementia varied between 18·2 and 30·4 per 1000 person-years, and were 1·4-2·7 times higher than were those for DSM-IV dementia (9·9-15·7 per 1000 person-years).'],\n",
       "  'train'),\n",
       " ('Including pharmacists in rounding teams does not alter the incidence of adverse drug events (ADEs).',\n",
       "  0,\n",
       "  'refute',\n",
       "  ['CONCLUSIONS The presence of a pharmacist on rounds as a full member of the patient care team in a medical ICU was associated with a substantially lower rate of ADEs caused by prescribing errors.'],\n",
       "  'train'),\n",
       " ('Inhibiting focal adhesion formation increases the rate at which cells convert mechanical strain into inflammation and fibrosis.',\n",
       "  0,\n",
       "  'refute',\n",
       "  ['These findings collectively indicate that physical force regulates fibrosis through inflammatory FAK–ERK–MCP-1 pathways and that molecular strategies targeting FAK can effectively uncouple mechanical force from pathologic scar formation.'],\n",
       "  'train'),\n",
       " ('Integrated care is ineffective at tackling multiple comorbidities.',\n",
       "  0,\n",
       "  'refute',\n",
       "  ['CONCLUSIONS Integrated care that covers chronic physical disease and comorbid depression can reduce social role disability and enhance global quality of life.'],\n",
       "  'train'),\n",
       " ('MafA phosphorylation enhances its ubiquitination.',\n",
       "  0,\n",
       "  'refute',\n",
       "  ['We also demonstrate that GSK-3 triggers MafA sequential phosphorylation on residues S61, T57, T53, and S49, inducing its ubiquitination and degradation.'],\n",
       "  'train'),\n",
       " ('Major vault protein (MVP) leads to more aggressive tumors by regulating the sorting of tumor suppressive miR-193a into extracellular vesicles (EVs).',\n",
       "  0,\n",
       "  'refute',\n",
       "  ['In summary, our data demonstrate that MVP-mediated selective sorting of tumour suppressor miRNA into exosomes promotes tumour progression.'],\n",
       "  'train'),\n",
       " ('Medications to treat obesity do not have side effects.',\n",
       "  0,\n",
       "  'refute',\n",
       "  ['CONCLUSIONS Orlistat, sibutramine, and rimonabant modestly reduce weight, have differing effects on cardiovascular risk profiles, and have specific adverse effects.'],\n",
       "  'train'),\n",
       " ('Mice lacking Sirt1 in Sf1-expressing neurons are immune to diet-induced obesity and insulin resistance.',\n",
       "  0,\n",
       "  'refute',\n",
       "  ['Conversely, mice overexpressing SIRT1 in SF1 neurons are more resistant to diet-induced obesity and insulin resistance due to increased energy expenditure and enhanced skeletal muscle insulin sensitivity.'],\n",
       "  'train'),\n",
       " ('Mitochondria play a trivial role in calcium homeostasis.',\n",
       "  0,\n",
       "  'refute',\n",
       "  ['Additionally, they participate in intermediary metabolism, calcium signaling, and apoptosis.'],\n",
       "  'train'),\n",
       " ('Monoclonal antibody targeting of N-cadherin encourages metastasis.',\n",
       "  0,\n",
       "  'refute',\n",
       "  ['Therapeutic targeting of this factor with monoclonal antibodies may have considerable clinical benefit.'],\n",
       "  'train'),\n",
       " ('Natriuretic peptides increase susceptibility to diabetes.',\n",
       "  0,\n",
       "  'refute',\n",
       "  ['In participants of our case-cohort study who were free of T2D and cardiovascular disease at baseline, we observed a 21% (95% CI 3%-36%) decreased risk of incident T2D per one standard deviation (SD) higher log-transformed NT-pro-BNP levels in analysis adjusted for age, sex, body mass index, systolic blood pressure, smoking, family history of T2D, history of hypertension, and levels of triglycerides, high-density lipoprotein cholesterol, and low-density lipoprotein cholesterol.',\n",
       "   'CONCLUSIONS Our results provide evidence for a potential causal role of the BNP system in the aetiology of T2D.'],\n",
       "  'train'),\n",
       " ('Nonhypertensive people who are 55 years old have a 90% chance of developing hypertension during their lifetime.',\n",
       "  0,\n",
       "  'refute',\n",
       "  ['CONCLUSION The residual lifetime risk for hypertension for middle-aged and elderly individuals is 90%, indicating a huge public health burden.'],\n",
       "  'train'),\n",
       " ('Noninvasive positive pressure ventilation is not predictive of acute respiratory failure after solid organ transplantation.',\n",
       "  0,\n",
       "  'refute',\n",
       "  ['CONCLUSIONS These results indicate that transplantation programs should consider NIV in the treatment of selected recipients of transplantation with acute respiratory failure.'],\n",
       "  'train'),\n",
       " ('Nonsteroidal antinflammatory drugs are ineffective as cancer treatments.',\n",
       "  0,\n",
       "  'refute',\n",
       "  ['Regular use was associated with a lower risk of colorectal cancer among individuals with rs16973225-AA genotype (prevalence, 28% vs 38%; OR, 0.66 [95% CI, 0.62-0.71]; P = 1.9 × 10(-30)) but was not associated with risk of colorectal cancer among those with less common (9%) AC or CC genotypes (prevalence, 36% vs 39%; OR, 0.97 [95% CI, 0.78-1.20]; P = .76).   \\n'],\n",
       "  'train'),\n",
       " ('Patients in stable partnerships progress from HIV to death at the same rate as patients not in partnerships.',\n",
       "  0,\n",
       "  'refute',\n",
       "  ['CONCLUSIONS A stable partnership is associated with a slower rate of progression to AIDS or death in HIV infected patients receiving HAART.'],\n",
       "  'train'),\n",
       " ('Patients with common epithelial cancers are less likely to have an emergency event as their first hospital admission if they live in resource-deprived areas.',\n",
       "  0,\n",
       "  'refute',\n",
       "  ['For example, 67.4% (3529/5237) of patients in the most deprived fifth of deprivation had anterior resection for rectal cancer compared with 75.5% (4497/5959) of patients in the least deprived fifth (1.34, 1.22 to 1.47).'],\n",
       "  'train'),\n",
       " ('Pharmacist attendance at ward rounds increases adverse events in wards.',\n",
       "  0,\n",
       "  'refute',\n",
       "  ['CONCLUSIONS The presence of a pharmacist on rounds as a full member of the patient care team in a medical ICU was associated with a substantially lower rate of ADEs caused by prescribing errors.'],\n",
       "  'train'),\n",
       " ('Physical activity does not improve cognitive function in individuals with Alzheimers.',\n",
       "  0,\n",
       "  'refute',\n",
       "  ['CONCLUSIONS In this study of adults with subjective memory impairment, a 6-month program of physical activity provided a modest improvement in cognition over an 18-month follow-up period.   \\n'],\n",
       "  'train'),\n",
       " ('Pioglitazone use is not associated with an increased risk of prostate cancer.',\n",
       "  0,\n",
       "  'refute',\n",
       "  ['The increased prostate and pancreatic cancer risks associated with ever use of pioglitazone merit further investigation to assess whether they are causal or are due to chance, residual confounding, or reverse causality.'],\n",
       "  'train'),\n",
       " ('Primary cervical cancer screening with HPV detection has lower longitudinal sensitivity than conventional cytology to detect cervical intraepithelial neoplasia grade 2.',\n",
       "  0,\n",
       "  'refute',\n",
       "  ['CONCLUSIONS The addition of an HPV test to the Pap test to screen women in their mid-30s for cervical cancer reduces the incidence of grade 2 or 3 cervical intraepithelial neoplasia or cancer detected by subsequent screening examinations.'],\n",
       "  'train'),\n",
       " ('RANK-RANKL pathway signalling has no known association with development of Aire-expressing medullary thymic epithelial cells.',\n",
       "  0,\n",
       "  'refute',\n",
       "  ['Hence, our data attributed a functional importance to the temporal development of Vγ5(+) γδ T cells during thymus medulla formation for αβ T cell tolerance induction and demonstrated a Rank-mediated reciprocal link between DETC and Aire(+) mTEC maturation.'],\n",
       "  'train'),\n",
       " ('Risedronate increases risk of vertebral and non-vertebral fractures.',\n",
       "  0,\n",
       "  'refute',\n",
       "  ['Treatment with 5 mg/d of risedronate, compared with placebo, decreased the cumulative incidence of new vertebral fractures by 41 % (95% confidence interval [CI], 18%-58%) over 3 years (11.3 % vs 16.3%; P= .003).',\n",
       "   'The cumulative incidence of nonvertebral fractures over 3 years was reduced by 39% (95% CI, 6%-61 %) (5.2 % vs 8.4%; P = .02).'],\n",
       "  'train'),\n",
       " ('Risk-adjusted mortality rates are similar in teaching and non-teaching hospitals.',\n",
       "  0,\n",
       "  'refute',\n",
       "  [\"Conclusions  The available data are limited by their nonrandomized design, but overall they do not suggest that a healthcare facility's teaching status on its own markedly improves or worsens patient outcomes.\"],\n",
       "  'train'),\n",
       " ('Sepsis related mortality has remained stable between 2009-2014.',\n",
       "  0,\n",
       "  'refute',\n",
       "  ['Conclusions and Relevance In clinical data from 409 hospitals, sepsis was present in 6% of adult hospitalizations, and in contrast to claims-based analyses, neither the incidence of sepsis nor the combined outcome of death or discharge to hospice changed significantly between 2009-2014.'],\n",
       "  'train'),\n",
       " ('Sepsis related mortality has risen from 2009 to 2014.',\n",
       "  0,\n",
       "  'refute',\n",
       "  ['Conclusions and Relevance In clinical data from 409 hospitals, sepsis was present in 6% of adult hospitalizations, and in contrast to claims-based analyses, neither the incidence of sepsis nor the combined outcome of death or discharge to hospice changed significantly between 2009-2014.'],\n",
       "  'train'),\n",
       " ('Sildenafil worsens erectile function in men who experience sexual dysfunction as a result of the use of SSRI antidepressants.',\n",
       "  0,\n",
       "  'refute',\n",
       "  ['CONCLUSION In our study, sildenafil effectively improved erectile function and other aspects of sexual function in men with sexual dysfunction associated with the use of SRI antidepressants.'],\n",
       "  'train'),\n",
       " ('Stroke patients with prior use of direct oral anticoagulants have a higher risk of in-hospital mortality than stroke patients with prior use of warfarin.',\n",
       "  0,\n",
       "  'refute',\n",
       "  ['Prior use of NOACs, compared with prior use of warfarin, was associated with lower risk of in-hospital mortality.'],\n",
       "  'train'),\n",
       " ('Students who perform poorly in the early years of medical school are less likely to commit professional misconduct later in their careers.',\n",
       "  0,\n",
       "  'refute',\n",
       "  ['CONCLUSIONS This small study suggests that male sex, a lower socioeconomic background, and early academic difficulties at medical school could be risk factors for subsequent professional misconduct.'],\n",
       "  'train'),\n",
       " ('Sympathetic nerve activity is reduced throughout normal pregnancy.',\n",
       "  0,\n",
       "  'refute',\n",
       "  ['The findings suggest that the moderate sympathetic hyperactivity during the latter months of normal pregnancy may help to return the arterial pressure to nonpregnant levels, although when the increase in activity is excessive, hypertension may ensue.'],\n",
       "  'train'),\n",
       " ('Systemic immunosuppressive (IS) therapy increases the chance of cancer mortality in patients with inflammatory eye disease (IED)',\n",
       "  0,\n",
       "  'refute',\n",
       "  ['CONCLUSIONS Most commonly used immunosuppressive drugs do not seem to increase overall or cancer mortality.'],\n",
       "  'train'),\n",
       " ('The DESMOND program demonstrates no significant impact on lifestyles outcomes.',\n",
       "  0,\n",
       "  'refute',\n",
       "  ['CONCLUSION A single programme for people with newly diagnosed type 2 diabetes mellitus showed no difference in biomedical or lifestyle outcomes at three years although there were sustained improvements in some illness beliefs.   \\n'],\n",
       "  'train'),\n",
       " ('The DESMOND program demonstrates no significant impact on weight loss.',\n",
       "  0,\n",
       "  'refute',\n",
       "  ['CONCLUSION A single programme for people with newly diagnosed type 2 diabetes mellitus showed no difference in biomedical or lifestyle outcomes at three years although there were sustained improvements in some illness beliefs.   \\n'],\n",
       "  'train'),\n",
       " ('The combination of physical examinations with C-reactive protein values do not improve the accuracy of radiographic verified pneumonia predictions.',\n",
       "  0,\n",
       "  'refute',\n",
       "  ['Addition of CRP concentration at the optimal cut off of >30 mg/L improved diagnostic information, but measurement of procalcitonin concentration did not add clinically relevant information in this group.'],\n",
       "  'train'),\n",
       " ('The mean suicide rate in women is lower after miscarriage than live birth.',\n",
       "  0,\n",
       "  'refute',\n",
       "  ['The suicide rate associated with birth was significantly lower (5.9) and the rates associated with miscarriage (18.1) and induced abortion (34.7) were significantly higher than in the population.'],\n",
       "  'train'),\n",
       " (\"The minor G allele of FOXO3 is related to less severe symptoms of Crohn's Disease.\",\n",
       "  0,\n",
       "  'refute',\n",
       "  [\"We identify a noncoding polymorphism in FOXO3A (rs12212067: T > G) at which the minor (G) allele, despite not being associated with disease susceptibility, is associated with a milder course of Crohn's disease and rheumatoid arthritis and with increased risk of severe malaria.\"],\n",
       "  'train'),\n",
       " ('There is no increased risk of hypospadias with clomiphene.',\n",
       "  0,\n",
       "  'refute',\n",
       "  ['The adverse effect is less severe in sons, although links to testicular cancer and urogenital anomalies, such as epididymal cysts, have been reported.2 3 A recent study also found an increased risk of hypospadias in the sons of women exposed to diethylstilbestrol in utero.4 Clomifene has a half life of about five days, but its metabolites have been found in blood samples on day 22 of the menstrual cycle and in faeces up to six weeks after administration.5 The occurrence of hypospadias may be increasing.'],\n",
       "  'train'),\n",
       " ('There is no known interaction between Pioneer factor OCT3/4 and major chromatin remodeling factors.',\n",
       "  0,\n",
       "  'refute',\n",
       "  ['Notably, we found that Oct4 is associated with multiple chromatin-modifying complexes with documented as well as newly proved functional significance in stem cell maintenance and somatic cell reprogramming.'],\n",
       "  'train'),\n",
       " ('There is no relation between Erythromycin use and hypertrophic pyloric stenosis.',\n",
       "  0,\n",
       "  'refute',\n",
       "  ['Maternal use of macrolides during the first two weeks after birth was also associated with an increased risk of IHPS.'],\n",
       "  'train'),\n",
       " ('There was an estimated 30 million cases of pneumonia in young children worldwide in 2010.',\n",
       "  0,\n",
       "  'refute',\n",
       "  ['FINDINGS We identified 89 eligible studies and estimated that in 2010, 11·9 million (95% CI 10·3-13·9 million) episodes of severe and 3·0 million (2·1-4·2 million) episodes of very severe ALRI resulted in hospital admissions in young children worldwide.'],\n",
       "  'train'),\n",
       " ('Tuberculosis incidence occurs at higher rates in more sparsely populated areas in the UK.',\n",
       "  0,\n",
       "  'refute',\n",
       "  ['For the white population, overcrowding was associated with tuberculosis rates independently of other variables (P=0.0036).'],\n",
       "  'train'),\n",
       " ('Upon viral challenge, influenza-specific memory CD4+ T cells greatly enhance the early production of inflammatory chemokines in the lung.',\n",
       "  0,\n",
       "  'refute',\n",
       "  ['We found that the response of memory, but not naive, CD4+ T cells enhances production of multiple innate inflammatory cytokines and chemokines (IICs) in the lung and that, during influenza infection, this leads to early control of virus.'],\n",
       "  'train'),\n",
       " ('Whole brain radiotherapy increases the occurrence of new brain metastases.',\n",
       "  0,\n",
       "  'refute',\n",
       "  ['CONCLUSIONS Compared with SRS alone, the use of WBRT plus SRS did not improve survival for patients with 1 to 4 brain metastases, but intracranial relapse occurred considerably more frequently in those who did not receive WBRT.'],\n",
       "  'train'),\n",
       " ('Women with a lower birth weight are more likely to develop breast cancer later in life.',\n",
       "  0,\n",
       "  'refute',\n",
       "  ['Relative to women who weighed 3.000-3.499 kg, the risk was 0.96 (CI 0.80-1.16) in those who weighed < 2.500 kg, and 1.12 (95% CI 1.00-1.25) in those who weighed > or = 4.000 kg (p for linear trend = 0.001) in birth record data.'],\n",
       "  'train'),\n",
       " ('siRNA knockdown of A20 accelerates tumor progression in an in vivo murine xenograft model.',\n",
       "  0,\n",
       "  'refute',\n",
       "  ['The tumorigenic potential of GSCs was decreased with A20 targeting, resulting in increased survival of mice bearing human glioma xenografts.'],\n",
       "  'train'),\n",
       " ('A total of 1,000 people in the UK are asymptomatic carriers of vCJD infection.',\n",
       "  0,\n",
       "  'refute',\n",
       "  ['RESULTS Of the 32,441 appendix samples 16 were positive for abnormal PrP, indicating an overall prevalence of 493 per million population (95% confidence interval 282 to 801 per million).'],\n",
       "  'dev'),\n",
       " ('ALDH1 expression is associated with better breast cancer outcomes.',\n",
       "  0,\n",
       "  'refute',\n",
       "  ['In a series of 577 breast carcinomas, expression of ALDH1 detected by immunostaining correlated with poor prognosis.'],\n",
       "  'dev'),\n",
       " ('AMP-activated protein kinase (AMPK) activation increases inflammation-related fibrosis in the lungs.',\n",
       "  0,\n",
       "  'refute',\n",
       "  ['These studies implicate deficient AMPK activation in non-resolving, pathologic fibrotic processes, and support a role for metformin (or other AMPK activators) to reverse established fibrosis by facilitating deactivation and apoptosis of myofibroblasts.'],\n",
       "  'dev'),\n",
       " ('Activation of PPM1D suppresses p53 function.',\n",
       "  0,\n",
       "  'refute',\n",
       "  ['PPM1D mutations were mutually exclusive with TP53 mutations in BSG and attenuated p53 activation in vitro.',\n",
       "   'PPM1D mutations were truncating alterations in exon 6 that enhanced the ability of PPM1D to suppress the activation of the DNA damage response checkpoint protein CHK2.'],\n",
       "  'dev'),\n",
       " ('All hematopoietic stem cells segregate their chromosomes randomly.',\n",
       "  0,\n",
       "  'refute',\n",
       "  ['Sequential administration of 5-chloro-2-deoxyuridine and 5-iodo-2-deoxyuridine indicated that all HSCs segregate their chromosomes randomly.'],\n",
       "  'dev'),\n",
       " ('Articles published in open access format are less likely to be cited than traditional journals.',\n",
       "  0,\n",
       "  'refute',\n",
       "  ['Moreover, although the evidence from the current analysis argues most strongly for a time advantage in citation for OA articles, a study over longer periods will reveal whether this translates into a sustained increase in the number of citations.'],\n",
       "  'dev'),\n",
       " ('Autologous transplantation of mesenchymal stem cells causes a higher rate of opportunistic infections than induction therapy with anti-interleukin-2 receptor antibodies.',\n",
       "  0,\n",
       "  'refute',\n",
       "  ['Also, during the 1-year follow-up, combined analysis of MSC-treated groups revealed significantly decreased risk of opportunistic infections than the control group (hazard ratio, 0.42; 95% CI, 0.20-0.85, P=.02)   CONCLUSION Among patients undergoing renal transplant, the use of autologous MSCs compared with anti-IL-2 receptor antibody induction therapy resulted in lower incidence of acute rejection, decreased risk of opportunistic infection, and better estimated renal function at 1 year.   \\n'],\n",
       "  'dev'),\n",
       " ('Bariatric surgery has a positive impact on mental health.',\n",
       "  0,\n",
       "  'refute',\n",
       "  ['Moderate-quality evidence supports an association between bariatric surgery and lower rates of depression postoperatively.'],\n",
       "  'dev'),\n",
       " ('Birth-weight is positively associated with breast cancer.',\n",
       "  0,\n",
       "  'refute',\n",
       "  ['CONCLUSIONS This pooled analysis of individual participant data is consistent with birth size, and in particular birth length, being an independent correlate of breast cancer risk in adulthood.'],\n",
       "  'dev'),\n",
       " ('Breast cancer development is determined exclusively by genetic factors.',\n",
       "  0,\n",
       "  'refute',\n",
       "  ['INTERPRETATION Risks of breast cancer associated with low-penetrance susceptibility polymorphisms do not vary significantly with these ten established environmental risk factors.   \\n'],\n",
       "  'dev'),\n",
       " ('CHEK2 is not associated with breast cancer.',\n",
       "  0,\n",
       "  'refute',\n",
       "  ['We genotyped these six tagSNPs in 1,577 postmenopausal breast cancer cases and 1,513 population controls, but found no convincing association between any common CHEK2 haplotype and breast cancer risk.'],\n",
       "  'dev'),\n",
       " ('CR is associated with higher methylation age.',\n",
       "  0,\n",
       "  'refute',\n",
       "  ['Here, the authors provide evidence that age-related methylation drift correlates with lifespan and that caloric restriction in mice and rhesus monkeys results in attenuation of age-related methylation drift.'],\n",
       "  'dev'),\n",
       " ('CX3CR1 on the Th2 cells promotes airway inflammation.',\n",
       "  0,\n",
       "  'refute',\n",
       "  ['CX3CR1-induced survival was also observed for T(H)1 cells upon airway inflammation but not under homeostatic conditions or upon peripheral inflammation.'],\n",
       "  'dev'),\n",
       " ('Chenodeosycholic acid treatment reduces whole-body energy expenditure.',\n",
       "  0,\n",
       "  'refute',\n",
       "  ['Whole-body energy expenditure was also increased upon CDCA treatment.'],\n",
       "  'dev'),\n",
       " (\"Commelina yellow mottle virus' (ComYMV) genome consists of 7489 baise pairs.\",\n",
       "  0,\n",
       "  'refute',\n",
       "  ['Analysis of the genome sequence indicates that the genome is 7489 bp in size and that the transcribed strand contains three open reading frames capable of encoding proteins of 23, 15 and 216 kd.'],\n",
       "  'dev'),\n",
       " ('Gene expression does not vary appreciably across genetically identical cells.',\n",
       "  0,\n",
       "  'refute',\n",
       "  ['Gene expression is a fundamentally stochastic process, with randomness in transcription and translation leading to cell-to-cell variations in mRNA and protein levels.'],\n",
       "  'dev'),\n",
       " ('Headaches are not correlated with cognitive impairment.',\n",
       "  0,\n",
       "  'refute',\n",
       "  ['Evidence was lacking for cognitive impairment for any headache type with or without brain lesions.   \\n'],\n",
       "  'dev'),\n",
       " ('High cardiopulmonary fitness causes increased mortality rate.',\n",
       "  0,\n",
       "  'refute',\n",
       "  ['CONCLUSION Low fitness in adolescents and adults is common in the US population and is associated with an increased prevalence of CVD risk factors.'],\n",
       "  'dev'),\n",
       " ('Incidence of heart failure decreased by 10% in women since 1979.',\n",
       "  0,\n",
       "  'refute',\n",
       "  ['RESULTS The incidence of heart failure was higher among men (378/100 000 persons; 95% confidence interval [CI], 361-395 for men; 289/100 000 persons; 95% CI, 277-300 for women) and did not change over time among men or women.'],\n",
       "  'dev'),\n",
       " ('Incidence rates of cervical cancer have increased due to nationwide screening programs based primarily on cytology to detect uterine cervical cancer.',\n",
       "  0,\n",
       "  'refute',\n",
       "  ['The decline in mortality in Finland seems to be almost completely related to the screening programme whereas in the Netherlands it was initially considered to be a natural decline.'],\n",
       "  'dev'),\n",
       " ('Increased vessel density along with a reduction in fibrosis decreases the efficacy of chemotherapy treatments.',\n",
       "  0,\n",
       "  'refute',\n",
       "  ['We tested whether the delivery and efficacy of gemcitabine in the mice could be improved by coadministration of IPI-926, a drug that depletes tumor-associated stromal tissue by inhibition of the Hedgehog cellular signaling pathway.',\n",
       "   'The combination therapy produced a transient increase in intratumoral vascular density and intratumoral concentration of gemcitabine, leading to transient stabilization of disease.'],\n",
       "  'dev'),\n",
       " ('LDL cholesterol has no involvement in the development of cardiovascular disease.',\n",
       "  0,\n",
       "  'refute',\n",
       "  ['BACKGROUND LDL cholesterol has a causal role in the development of cardiovascular disease.'],\n",
       "  'dev'),\n",
       " ('Leuko-increased blood increases infectious complications in red blood cell transfusion.',\n",
       "  0,\n",
       "  'refute',\n",
       "  ['CONCLUSION A national universal leukoreduction program is potentially associated with decreased mortality as well as decreased fever episodes and antibiotic use after red blood cell transfusion in high-risk patients.'],\n",
       "  'dev'),\n",
       " ('Ly6C hi monocytes have a lower inflammatory capacity than Ly6C lo monocytes.',\n",
       "  0,\n",
       "  'refute',\n",
       "  ['In addition, acute peritoneal inflammation recruited preferentially Ly-6C(med-high) monocytes.'],\n",
       "  'dev'),\n",
       " ('Macrolides have no protective effect against myocardial infarction.',\n",
       "  0,\n",
       "  'refute',\n",
       "  ['No effect was found for previous use of macrolides (primarily erythromycin), sulfonamides, penicillins, or cephalosporins.   \\n'],\n",
       "  'dev'),\n",
       " ('Mice that lack Interferon-γ or its receptor exhibit high resistance to experimental autoimmune myocarditis.',\n",
       "  0,\n",
       "  'refute',\n",
       "  ['CONCLUSIONS Our data provide evidence that IFN-gamma protects mice from lethal autoimmune myocarditis by inducing the expression of inducible nitric oxide synthase followed by the downregulation of T-cell responses.'],\n",
       "  'dev'),\n",
       " ('Mitochondria are uninvolved in apoptosis.',\n",
       "  0,\n",
       "  'refute',\n",
       "  ['Additionally, they participate in intermediary metabolism, calcium signaling, and apoptosis.'],\n",
       "  'dev'),\n",
       " ('New drugs for tuberculosis often do not penetrate the necrotic portion of a tuberculosis lesion in high concentrations.',\n",
       "  0,\n",
       "  'refute',\n",
       "  ['Rifampicin even accumulates in necrotic caseum, a critical lesion site where persisting tubercle bacilli reside.'],\n",
       "  'dev'),\n",
       " ('Non-invasive ventilation use should be decreased if there is inadequate response to conventional treatment.',\n",
       "  0,\n",
       "  'refute',\n",
       "  ['CONCLUSIONS Non-invasive ventilation is a highly cost effective treatment that both reduced total costs and improved mortality in hospital.'],\n",
       "  'dev'),\n",
       " ('Obesity is determined solely by environmental factors.',\n",
       "  0,\n",
       "  'refute',\n",
       "  ['The degree of fatness in adults living in the same environment appears to be influenced by genetic factors independent of sex, which may include polygenic as well as major gene effects on obesity.'],\n",
       "  'dev'),\n",
       " ('Reduced responsiveness to interleukin-2 in regulatory T cells is associated with greater resistance to autoimmune diseases such as Type 1 Diabetes.',\n",
       "  0,\n",
       "  'refute',\n",
       "  ['In order to test directly that an approximately twofold reduction in IL-2 underpins the Idd3-linked destabilization of immune homeostasis, we show that engineered haplodeficiency of Il2 gene expression not only reduces T cell IL-2 production by twofold but also mimics the autoimmune dysregulatory effects of the naturally occurring susceptibility alleles of Il2.',\n",
       "   'Reduced IL-2 production achieved by either genetic mechanism correlates with reduced function of CD4+ CD25+ regulatory T cells, which are critical for maintaining immune homeostasis.'],\n",
       "  'dev'),\n",
       " ('Suboptimal nutrition is not predictive of chronic disease',\n",
       "  0,\n",
       "  'refute',\n",
       "  ['In 2015, the ten largest contributors to global DALYs among Level 3 risks were high systolic blood pressure (211·8 million [192·7 million to 231·1 million] global DALYs), smoking (148·6 million [134·2 million to 163·1 million]), high fasting plasma glucose (143·1 million [125·1 million to 163·5 million]), high BMI (120·1 million [83·8 million to 158·4 million]), childhood undernutrition (113·3 million [103·9 million to 123·4 million]), ambient particulate matter (103·1 million [90·8 million to 115·1 million]), high total cholesterol (88·7 million [74·6 million to 105·7 million]), household air pollution (85·6 million [66·7 million to 106·1 million]), alcohol use (85·0 million [77·2 million to 93·0 million]), and diets high in sodium (83·0 million [49·3 million to 127·5 million]).'],\n",
       "  'dev'),\n",
       " ('The risk of male prisoners harming themselves is ten times that of female prisoners.',\n",
       "  0,\n",
       "  'refute',\n",
       "  ['Self-harm rates were more than ten times higher in female prisoners than in male inmates.'],\n",
       "  'dev'),\n",
       " ('There is an inverse relationship between hip fractures and statin use.',\n",
       "  0,\n",
       "  'refute',\n",
       "  ['CONCLUSIONS These findings support an association between statin use by elderly patients and reduction in the risk of hip fracture.'],\n",
       "  'dev'),\n",
       " ('Thigh-length graduated compression stockings (GCS) did not reduce deep vein thrombosis in patients admitted to hospital who are immobile because of acute stroke.',\n",
       "  0,\n",
       "  'refute',\n",
       "  ['INTERPRETATION These data do not lend support to the use of thigh-length GCS in patients admitted to hospital with acute stroke.'],\n",
       "  'dev'),\n",
       " ('Tirasemtiv has no effect on fast-twitch muscle.',\n",
       "  0,\n",
       "  'refute',\n",
       "  ['Binding selectively to the fast-skeletal-troponin complex, CK-2017357 slows the rate of calcium release from troponin C and sensitizes muscle to calcium.'],\n",
       "  'dev'),\n",
       " (\"Transplanted human glial progenitor cells are incapable of forming a neural network with host animals' neurons.\",\n",
       "  0,\n",
       "  'refute',\n",
       "  ['Long-term potentiation (LTP) was sharply enhanced in the human glial chimeric mice, as was their learning, as assessed by Barnes maze navigation, object-location memory, and both contextual and tone fear conditioning.'],\n",
       "  'dev'),\n",
       " ('Ultrasound guidance significantly raises the number of traumatic procedures when attempting needle insertion.',\n",
       "  0,\n",
       "  'refute',\n",
       "  ['CONCLUSIONS Ultrasound imaging can reduce the risk of failed or traumatic lumbar punctures and epidural catheterisations, as well as the number of needle insertions and redirections.'],\n",
       "  'dev')]"
      ]
     },
     "execution_count": 32,
     "metadata": {},
     "output_type": "execute_result"
    }
   ],
   "source": [
    "tpl_claim_label_rationale"
   ]
  },
  {
   "cell_type": "code",
   "execution_count": 33,
   "id": "a2ad07b5",
   "metadata": {
    "ExecuteTime": {
     "end_time": "2022-01-24T22:49:26.213726Z",
     "start_time": "2022-01-24T22:49:26.211332Z"
    }
   },
   "outputs": [],
   "source": [
    "#ds_claim_label  = textattack.datasets.Dataset(tpl_claim_label_rationale, input_columns=(['claim']))\n",
    "#ds_claim_label  = textattack.datasets.Dataset(tpl_claim_label_rationale, input_columns=(['text']), label_names = ['no_result', 'equal', 'support', 'refute'])\n",
    "#ds_claim_label  = textattack.datasets.Dataset(tpl_claim_label_rationale, input_columns=(['text']), label_names = ['support', 'refute'])\n",
    "ds_claim_label  = textattack.datasets.Dataset(tpl_claim_label_rationale, input_columns=(['text']), label_names = ['refute', 'support'])"
   ]
  },
  {
   "cell_type": "markdown",
   "id": "af6e2783",
   "metadata": {},
   "source": [
    "## TextAttack Custom attack\n"
   ]
  },
  {
   "cell_type": "code",
   "execution_count": 34,
   "id": "a639008c",
   "metadata": {
    "ExecuteTime": {
     "end_time": "2022-01-24T22:49:26.218014Z",
     "start_time": "2022-01-24T22:49:26.215535Z"
    }
   },
   "outputs": [],
   "source": [
    "from textattack.models.wrappers import ModelWrapper"
   ]
  },
  {
   "cell_type": "code",
   "execution_count": 35,
   "id": "2fe189a4",
   "metadata": {
    "ExecuteTime": {
     "end_time": "2022-01-24T22:49:26.223187Z",
     "start_time": "2022-01-24T22:49:26.219684Z"
    }
   },
   "outputs": [],
   "source": [
    "class ScifactModelWrapper(ModelWrapper):\n",
    "    def __init__(self, model):\n",
    "        self.model = model\n",
    "    def __call__(self, list_claim_pair):\n",
    "        #print('list_claim_pair : ', list_claim_pair)\n",
    "        list_all_probs = []\n",
    "        logging.info(\">>> \\n\\nList >>> \")\n",
    "        logging.info(list_claim_pair)\n",
    "        for cur_claim in list_claim_pair:\n",
    "            prob_dist_cur = get_prob_score_claim(cur_claim)\n",
    "            list_all_probs.append(prob_dist_cur)\n",
    "#         prob_dist_org = get_prob_score_claim(list_claim_pair[0])\n",
    "#         prob_dist_org = torch.tensor([prob_dist_org])\n",
    "#         prob_dist_gen = get_prob_score_claim(list_claim_pair[1])\n",
    "#         prob_dist_gen = torch.tensor(prob_dist_gen)        \n",
    "        \n",
    "#         final_pred = torch.stack((prob_dist_org, prob_dist_gen), dim = 0)\n",
    "        \n",
    "#         return final_pred\n",
    "        prob_dist_all = np.array(list_all_probs)\n",
    "        #print('prob_dist_all : ', prob_dist_all)\n",
    "        return prob_dist_all"
   ]
  },
  {
   "cell_type": "raw",
   "id": "4dafd8d1",
   "metadata": {
    "ExecuteTime": {
     "end_time": "2022-01-19T19:40:09.936027Z",
     "start_time": "2022-01-19T19:40:08.372547Z"
    }
   },
   "source": [
    "ScifactModelWrapper(PARAPHRASE_PROJECT_SETTINGS['config_scifact']['rationale_model_name'])(['the story gives ample opportunity for large-scale action and suspense , which director shekhar kapur supplies with tremendous skill .',\n",
    "                                 'the story gives ample opportunity for large-scale action and suspense , which director shekhar kapur supplies with tremendous skill .'])"
   ]
  },
  {
   "cell_type": "code",
   "execution_count": 36,
   "id": "c0aac8dd",
   "metadata": {
    "ExecuteTime": {
     "end_time": "2022-01-24T22:49:26.228884Z",
     "start_time": "2022-01-24T22:49:26.225061Z"
    }
   },
   "outputs": [
    {
     "data": {
      "text/plain": [
       "(OrderedDict([('text',\n",
       "               '76-85% of people with severe mental disorder receive no treatment in low and middle income countries.')]),\n",
       " 0)"
      ]
     },
     "execution_count": 36,
     "metadata": {},
     "output_type": "execute_result"
    }
   ],
   "source": [
    "ds_claim_label[0]"
   ]
  },
  {
   "cell_type": "code",
   "execution_count": 37,
   "id": "cc31e289",
   "metadata": {
    "ExecuteTime": {
     "end_time": "2022-01-24T22:49:26.232606Z",
     "start_time": "2022-01-24T22:49:26.230434Z"
    }
   },
   "outputs": [],
   "source": [
    "perturb_results_txt_fooler = []"
   ]
  },
  {
   "cell_type": "markdown",
   "id": "34fa7c86",
   "metadata": {},
   "source": [
    "## TextFooler"
   ]
  },
  {
   "cell_type": "code",
   "execution_count": 38,
   "id": "d86907c5",
   "metadata": {
    "ExecuteTime": {
     "end_time": "2022-01-24T00:32:50.648678Z",
     "start_time": "2022-01-24T00:32:50.645890Z"
    }
   },
   "outputs": [],
   "source": [
    "from textattack.attack_recipes.textfooler_jin_2019 import TextFoolerJin2019"
   ]
  },
  {
   "cell_type": "code",
   "execution_count": 39,
   "id": "08b8d513",
   "metadata": {
    "ExecuteTime": {
     "end_time": "2022-01-24T18:48:07.030237Z",
     "start_time": "2022-01-24T00:32:50.650661Z"
    },
    "scrolled": true
   },
   "outputs": [
    {
     "name": "stderr",
     "output_type": "stream",
     "text": [
      "textattack: Unknown if model of class <class 'str'> compatible with goal function <class 'textattack.goal_functions.classification.untargeted_classification.UntargetedClassification'>.\n",
      "textattack: Logging to CSV at path ../../logs/log_textattack_results_refute.csv\n",
      "  0%|          | 0/118 [00:00<?, ?it/s]"
     ]
    },
    {
     "name": "stdout",
     "output_type": "stream",
     "text": [
      "Attack(\n",
      "  (search_method): GreedyWordSwapWIR(\n",
      "    (wir_method):  delete\n",
      "  )\n",
      "  (goal_function):  UntargetedClassification\n",
      "  (transformation):  WordSwapEmbedding(\n",
      "    (max_candidates):  50\n",
      "    (embedding):  WordEmbedding\n",
      "  )\n",
      "  (constraints): \n",
      "    (0): WordEmbeddingDistance(\n",
      "        (embedding):  WordEmbedding\n",
      "        (min_cos_sim):  0.5\n",
      "        (cased):  False\n",
      "        (include_unknown_words):  True\n",
      "        (compare_against_original):  True\n",
      "      )\n",
      "    (1): PartOfSpeech(\n",
      "        (tagger_type):  nltk\n",
      "        (tagset):  universal\n",
      "        (allow_verb_noun_swap):  True\n",
      "        (compare_against_original):  True\n",
      "      )\n",
      "    (2): UniversalSentenceEncoder(\n",
      "        (metric):  angular\n",
      "        (threshold):  0.840845057\n",
      "        (window_size):  15\n",
      "        (skip_text_shorter_than_window):  True\n",
      "        (compare_against_original):  False\n",
      "      )\n",
      "    (3): RepeatModification\n",
      "    (4): StopwordModification\n",
      "    (5): InputColumnModification(\n",
      "        (matching_column_labels):  ['premise', 'hypothesis']\n",
      "        (columns_to_ignore):  {'premise'}\n",
      "      )\n",
      "  (is_black_box):  True\n",
      ") \n",
      "\n"
     ]
    },
    {
     "name": "stderr",
     "output_type": "stream",
     "text": [
      "/home/qudratealahyratu/anaconda3/envs/scifact/lib/python3.7/site-packages/transformers/tokenization_utils_base.py:2190: FutureWarning: The `pad_to_max_length` argument is deprecated and will be removed in a future version, use `padding=True` or `padding='longest'` to pad to the longest sequence in the batch, or use `padding='max_length'` to pad to a max length. In this case, you can give a specific length with `max_length` (e.g. `max_length=45`) or leave max_length to None to pad to the maximal input size of the model (e.g. 512 for Bert).\n",
      "  FutureWarning,\n",
      "[Succeeded / Failed / Skipped / Total] 1 / 0 / 0 / 1:   1%|          | 1/118 [07:57<15:30:45, 477.31s/it]"
     ]
    },
    {
     "name": "stdout",
     "output_type": "stream",
     "text": [
      "--------------------------------------------- Result 1 ---------------------------------------------\n",
      "[[Refute (100%)]] --> [[Support (100%)]]\n",
      "\n",
      "76-85% of people with severe mental disorder [[receive]] no treatment in low and middle income countries.\n",
      "\n",
      "76-85% of people with severe mental disorder [[receiving]] no treatment in low and middle income countries.\n",
      "\n",
      "\n"
     ]
    },
    {
     "name": "stderr",
     "output_type": "stream",
     "text": [
      "[Succeeded / Failed / Skipped / Total] 2 / 0 / 0 / 2:   2%|▏         | 2/118 [10:24<10:03:55, 312.38s/it]"
     ]
    },
    {
     "name": "stdout",
     "output_type": "stream",
     "text": [
      "--------------------------------------------- Result 2 ---------------------------------------------\n",
      "[[Refute (100%)]] --> [[Support (100%)]]\n",
      "\n",
      "[[ART]] has no effect on the infectiveness of HIV-positive people.\n",
      "\n",
      "[[KIND]] has no effect on the infectiveness of HIV-positive people.\n",
      "\n",
      "\n"
     ]
    },
    {
     "name": "stderr",
     "output_type": "stream",
     "text": [
      "[Succeeded / Failed / Skipped / Total] 2 / 1 / 0 / 3:   3%|▎         | 3/118 [29:59<19:09:38, 599.81s/it]"
     ]
    },
    {
     "name": "stdout",
     "output_type": "stream",
     "text": [
      "--------------------------------------------- Result 3 ---------------------------------------------\n",
      "[[Refute (100%)]] --> [[[FAILED]]]\n",
      "\n",
      "Ambulatory blood pressure monitoring is inaccurate at diagnosing hypertension.\n",
      "\n",
      "\n"
     ]
    },
    {
     "name": "stderr",
     "output_type": "stream",
     "text": [
      "/home/qudratealahyratu/research/nlp/fact_checking/my_work/scifact/verisci/covid/abstract_retriever.py:53: UserWarning: abstract selector :: returning empty list \n",
      "  warnings.warn(\"abstract selector :: returning empty list \")\n",
      "[Succeeded / Failed / Skipped / Total] 3 / 1 / 0 / 4:   3%|▎         | 4/118 [32:09<15:16:35, 482.42s/it]"
     ]
    },
    {
     "name": "stdout",
     "output_type": "stream",
     "text": [
      "--------------------------------------------- Result 4 ---------------------------------------------\n",
      "[[Refute (100%)]] --> [[Support (100%)]]\n",
      "\n",
      "[[Antidepressants]] increase the severity of migraines.\n",
      "\n",
      "[[Ambien]] increase the severity of migraines.\n",
      "\n",
      "\n"
     ]
    },
    {
     "name": "stderr",
     "output_type": "stream",
     "text": [
      "[Succeeded / Failed / Skipped / Total] 4 / 1 / 0 / 5:   4%|▍         | 5/118 [36:43<13:50:06, 440.76s/it]"
     ]
    },
    {
     "name": "stdout",
     "output_type": "stream",
     "text": [
      "--------------------------------------------- Result 5 ---------------------------------------------\n",
      "[[Refute (100%)]] --> [[Support (100%)]]\n",
      "\n",
      "Antimicrobial agents are less effective due to the [[pressure]] of antimicrobial usage.\n",
      "\n",
      "Antimicrobial agents are less effective due to the [[insist]] of antimicrobial usage.\n",
      "\n",
      "\n"
     ]
    },
    {
     "name": "stderr",
     "output_type": "stream",
     "text": [
      "[Succeeded / Failed / Skipped / Total] 5 / 1 / 0 / 6:   5%|▌         | 6/118 [41:45<12:59:36, 417.65s/it]"
     ]
    },
    {
     "name": "stdout",
     "output_type": "stream",
     "text": [
      "--------------------------------------------- Result 6 ---------------------------------------------\n",
      "[[Refute (100%)]] --> [[Support (100%)]]\n",
      "\n",
      "Antimicrobial [[agents]] are more effective due to the pressure of antimicrobial usage.\n",
      "\n",
      "Antimicrobial [[retainers]] are more effective due to the pressure of antimicrobial usage.\n",
      "\n",
      "\n"
     ]
    },
    {
     "name": "stderr",
     "output_type": "stream",
     "text": [
      "[Succeeded / Failed / Skipped / Total] 6 / 1 / 0 / 7:   6%|▌         | 7/118 [48:26<12:48:09, 415.22s/it]"
     ]
    },
    {
     "name": "stdout",
     "output_type": "stream",
     "text": [
      "--------------------------------------------- Result 7 ---------------------------------------------\n",
      "[[Refute (100%)]] --> [[Support (100%)]]\n",
      "\n",
      "Antiretroviral therapy [[increases]] rates of tuberculosis across a broad range of CD4 strata.\n",
      "\n",
      "Antiretroviral therapy [[augment]] rates of tuberculosis across a broad range of CD4 strata.\n",
      "\n",
      "\n"
     ]
    },
    {
     "name": "stderr",
     "output_type": "stream",
     "text": [
      "[Succeeded / Failed / Skipped / Total] 7 / 1 / 0 / 8:   7%|▋         | 8/118 [53:17<12:12:50, 399.73s/it]"
     ]
    },
    {
     "name": "stdout",
     "output_type": "stream",
     "text": [
      "--------------------------------------------- Result 8 ---------------------------------------------\n",
      "[[Refute (100%)]] --> [[Support (100%)]]\n",
      "\n",
      "Autophagy deficiency in the liver [[increases]] vulnerability to insulin resistance.\n",
      "\n",
      "Autophagy deficiency in the liver [[growing]] vulnerability to insulin resistance.\n",
      "\n",
      "\n"
     ]
    },
    {
     "name": "stderr",
     "output_type": "stream",
     "text": [
      "[Succeeded / Failed / Skipped / Total] 8 / 1 / 0 / 9:   8%|▊         | 9/118 [57:56<11:41:39, 386.23s/it]"
     ]
    },
    {
     "name": "stdout",
     "output_type": "stream",
     "text": [
      "--------------------------------------------- Result 9 ---------------------------------------------\n",
      "[[Refute (100%)]] --> [[Support (100%)]]\n",
      "\n",
      "BCL-2 [[activation]] antagonizes the apoptotic effects of c-Myc.\n",
      "\n",
      "BCL-2 [[activated]] antagonizes the apoptotic effects of c-Myc.\n",
      "\n",
      "\n"
     ]
    },
    {
     "name": "stderr",
     "output_type": "stream",
     "text": [
      "[Succeeded / Failed / Skipped / Total] 9 / 1 / 0 / 10:   8%|▊         | 10/118 [1:03:18<11:23:48, 379.90s/it]"
     ]
    },
    {
     "name": "stdout",
     "output_type": "stream",
     "text": [
      "--------------------------------------------- Result 10 ---------------------------------------------\n",
      "[[Refute (100%)]] --> [[Support (100%)]]\n",
      "\n",
      "BCL-2 promotes the apoptotic [[effects]] of c-Myc.\n",
      "\n",
      "BCL-2 promotes the apoptotic [[afflict]] of c-Myc.\n",
      "\n",
      "\n"
     ]
    },
    {
     "name": "stderr",
     "output_type": "stream",
     "text": [
      "[Succeeded / Failed / Skipped / Total] 10 / 1 / 0 / 11:   9%|▉         | 11/118 [1:09:53<11:19:51, 381.23s/it]"
     ]
    },
    {
     "name": "stdout",
     "output_type": "stream",
     "text": [
      "--------------------------------------------- Result 11 ---------------------------------------------\n",
      "[[Refute (100%)]] --> [[Support (100%)]]\n",
      "\n",
      "Bariatric surgery [[increases]] rates of colorectal cancer.\n",
      "\n",
      "Bariatric surgery [[augmentation]] rates of colorectal cancer.\n",
      "\n",
      "\n"
     ]
    },
    {
     "name": "stderr",
     "output_type": "stream",
     "text": [
      "[Succeeded / Failed / Skipped / Total] 11 / 1 / 0 / 12:  10%|█         | 12/118 [1:13:46<10:51:41, 368.89s/it]"
     ]
    },
    {
     "name": "stdout",
     "output_type": "stream",
     "text": [
      "--------------------------------------------- Result 12 ---------------------------------------------\n",
      "[[Refute (100%)]] --> [[Support (100%)]]\n",
      "\n",
      "Birth-weight is negatively [[associated]] with breast cancer.\n",
      "\n",
      "Birth-weight is negatively [[accompanying]] with breast cancer.\n",
      "\n",
      "\n"
     ]
    },
    {
     "name": "stderr",
     "output_type": "stream",
     "text": [
      "[Succeeded / Failed / Skipped / Total] 12 / 1 / 0 / 13:  11%|█         | 13/118 [1:23:32<11:14:46, 385.58s/it]"
     ]
    },
    {
     "name": "stdout",
     "output_type": "stream",
     "text": [
      "--------------------------------------------- Result 13 ---------------------------------------------\n",
      "[[Refute (100%)]] --> [[Support (100%)]]\n",
      "\n",
      "Bone marrow cells don't [[contribute]] to adult macrophage compartments.\n",
      "\n",
      "Bone marrow cells don't [[help]] to adult macrophage compartments.\n",
      "\n",
      "\n"
     ]
    },
    {
     "name": "stderr",
     "output_type": "stream",
     "text": [
      "[Succeeded / Failed / Skipped / Total] 13 / 1 / 0 / 14:  12%|█▏        | 14/118 [1:31:30<11:19:49, 392.20s/it]"
     ]
    },
    {
     "name": "stdout",
     "output_type": "stream",
     "text": [
      "--------------------------------------------- Result 14 ---------------------------------------------\n",
      "[[Refute (100%)]] --> [[Support (100%)]]\n",
      "\n",
      "Chenodeoxycholic acid treatment [[decreases]] brown adipose tissue activity.\n",
      "\n",
      "Chenodeoxycholic acid treatment [[fallen]] brown adipose tissue activity.\n",
      "\n",
      "\n"
     ]
    },
    {
     "name": "stderr",
     "output_type": "stream",
     "text": [
      "[Succeeded / Failed / Skipped / Total] 14 / 1 / 0 / 15:  13%|█▎        | 15/118 [1:35:25<10:55:17, 381.73s/it]"
     ]
    },
    {
     "name": "stdout",
     "output_type": "stream",
     "text": [
      "--------------------------------------------- Result 15 ---------------------------------------------\n",
      "[[Refute (100%)]] --> [[Support (100%)]]\n",
      "\n",
      "Chlamydia trachomatis is most prevalent in the [[UK]] among sexually-experienced individuals aged 16 to 24.\n",
      "\n",
      "Chlamydia trachomatis is most prevalent in the [[ANGLIA]] among sexually-experienced individuals aged 16 to 24.\n",
      "\n",
      "\n"
     ]
    },
    {
     "name": "stderr",
     "output_type": "stream",
     "text": [
      "[Succeeded / Failed / Skipped / Total] 15 / 1 / 0 / 16:  14%|█▎        | 16/118 [1:38:31<10:28:05, 369.46s/it]"
     ]
    },
    {
     "name": "stdout",
     "output_type": "stream",
     "text": [
      "--------------------------------------------- Result 16 ---------------------------------------------\n",
      "[[Refute (100%)]] --> [[Support (100%)]]\n",
      "\n",
      "Cognitive behavioral therapy is an [[ineffective]] treatment for insomnia\n",
      "\n",
      "Cognitive behavioral therapy is an [[inefficient]] treatment for insomnia\n",
      "\n",
      "\n"
     ]
    },
    {
     "name": "stderr",
     "output_type": "stream",
     "text": [
      "[Succeeded / Failed / Skipped / Total] 15 / 2 / 0 / 17:  14%|█▍        | 17/118 [1:49:38<10:51:23, 386.97s/it]"
     ]
    },
    {
     "name": "stdout",
     "output_type": "stream",
     "text": [
      "--------------------------------------------- Result 17 ---------------------------------------------\n",
      "[[Refute (100%)]] --> [[[FAILED]]]\n",
      "\n",
      "Commelina yellow mottle virus' (ComYMV) genome consists of 2140 baise pairs.\n",
      "\n",
      "\n"
     ]
    },
    {
     "name": "stderr",
     "output_type": "stream",
     "text": [
      "[Succeeded / Failed / Skipped / Total] 15 / 3 / 0 / 18:  15%|█▌        | 18/118 [2:06:22<11:42:05, 421.25s/it]"
     ]
    },
    {
     "name": "stdout",
     "output_type": "stream",
     "text": [
      "--------------------------------------------- Result 18 ---------------------------------------------\n",
      "[[Refute (100%)]] --> [[[FAILED]]]\n",
      "\n",
      "Consumption of whole fruits increases the risk of type 2 diabetes.\n",
      "\n",
      "\n"
     ]
    },
    {
     "name": "stderr",
     "output_type": "stream",
     "text": [
      "[Succeeded / Failed / Skipped / Total] 16 / 3 / 0 / 19:  16%|█▌        | 19/118 [2:11:47<11:26:44, 416.21s/it]"
     ]
    },
    {
     "name": "stdout",
     "output_type": "stream",
     "text": [
      "--------------------------------------------- Result 19 ---------------------------------------------\n",
      "[[Refute (100%)]] --> [[Support (100%)]]\n",
      "\n",
      "[[Cost]] effectiveness evaluations based on cRCT data lack external validity.\n",
      "\n",
      "[[Costing]] effectiveness evaluations based on cRCT data lack external validity.\n",
      "\n",
      "\n"
     ]
    },
    {
     "name": "stderr",
     "output_type": "stream",
     "text": [
      "[Succeeded / Failed / Skipped / Total] 17 / 3 / 0 / 20:  17%|█▋        | 20/118 [2:15:36<11:04:29, 406.83s/it]"
     ]
    },
    {
     "name": "stdout",
     "output_type": "stream",
     "text": [
      "--------------------------------------------- Result 20 ---------------------------------------------\n",
      "[[Refute (100%)]] --> [[Support (100%)]]\n",
      "\n",
      "DUSP4 [[decreases]] apoptosis.\n",
      "\n",
      "DUSP4 [[abated]] apoptosis.\n",
      "\n",
      "\n"
     ]
    },
    {
     "name": "stderr",
     "output_type": "stream",
     "text": [
      "[Succeeded / Failed / Skipped / Total] 17 / 4 / 0 / 21:  18%|█▊        | 21/118 [2:18:30<10:39:45, 395.73s/it]"
     ]
    },
    {
     "name": "stdout",
     "output_type": "stream",
     "text": [
      "--------------------------------------------- Result 21 ---------------------------------------------\n",
      "[[Refute (100%)]] --> [[[FAILED]]]\n",
      "\n",
      "Deltex has no known interactions with eIF3f.\n",
      "\n",
      "\n"
     ]
    },
    {
     "name": "stderr",
     "output_type": "stream",
     "text": [
      "[Succeeded / Failed / Skipped / Total] 18 / 4 / 0 / 22:  19%|█▊        | 22/118 [2:24:48<10:31:52, 394.92s/it]"
     ]
    },
    {
     "name": "stdout",
     "output_type": "stream",
     "text": [
      "--------------------------------------------- Result 22 ---------------------------------------------\n",
      "[[Refute (100%)]] --> [[Support (100%)]]\n",
      "\n",
      "Dexamethasone [[increases]] risk of postoperative bleeding.\n",
      "\n",
      "Dexamethasone [[augmentation]] risk of postoperative bleeding.\n",
      "\n",
      "\n"
     ]
    },
    {
     "name": "stderr",
     "output_type": "stream",
     "text": [
      "[Succeeded / Failed / Skipped / Total] 18 / 5 / 0 / 23:  19%|█▉        | 23/118 [3:39:10<15:05:18, 571.77s/it]"
     ]
    },
    {
     "name": "stdout",
     "output_type": "stream",
     "text": [
      "--------------------------------------------- Result 23 ---------------------------------------------\n",
      "[[Refute (100%)]] --> [[[FAILED]]]\n",
      "\n",
      "Diabetes remission occurs more in people treated with conventional therapy than in people treated with laparoscopic adjustable gastric banding surgery.\n",
      "\n",
      "\n"
     ]
    },
    {
     "name": "stderr",
     "output_type": "stream",
     "text": [
      "[Succeeded / Failed / Skipped / Total] 19 / 5 / 0 / 24:  20%|██        | 24/118 [3:48:19<14:54:14, 570.80s/it]"
     ]
    },
    {
     "name": "stdout",
     "output_type": "stream",
     "text": [
      "--------------------------------------------- Result 24 ---------------------------------------------\n",
      "[[Refute (100%)]] --> [[Support (100%)]]\n",
      "\n",
      "Diabetic patients with acute coronary syndrome experience [[decreased]] short-term and long-term risk for bleeding events.\n",
      "\n",
      "Diabetic patients with acute coronary syndrome experience [[dwindling]] short-term and long-term risk for bleeding events.\n",
      "\n",
      "\n"
     ]
    },
    {
     "name": "stderr",
     "output_type": "stream",
     "text": [
      "[Succeeded / Failed / Skipped / Total] 19 / 6 / 0 / 25:  21%|██        | 25/118 [3:59:00<14:49:07, 573.63s/it]"
     ]
    },
    {
     "name": "stdout",
     "output_type": "stream",
     "text": [
      "--------------------------------------------- Result 25 ---------------------------------------------\n",
      "[[Refute (100%)]] --> [[[FAILED]]]\n",
      "\n",
      "Diminished ovarian reserve is a reliable indicator of infertility in a non-infertile population.\n",
      "\n",
      "\n"
     ]
    },
    {
     "name": "stderr",
     "output_type": "stream",
     "text": [
      "[Succeeded / Failed / Skipped / Total] 20 / 6 / 0 / 26:  22%|██▏       | 26/118 [4:02:52<14:19:23, 560.48s/it]"
     ]
    },
    {
     "name": "stdout",
     "output_type": "stream",
     "text": [
      "--------------------------------------------- Result 26 ---------------------------------------------\n",
      "[[Refute (100%)]] --> [[Support (100%)]]\n",
      "\n",
      "Early patent ductus ateriosus (PDA) [[screening]] increases in-hospital mortality.\n",
      "\n",
      "Early patent ductus ateriosus (PDA) [[audited]] increases in-hospital mortality.\n",
      "\n",
      "\n"
     ]
    },
    {
     "name": "stderr",
     "output_type": "stream",
     "text": [
      "[Succeeded / Failed / Skipped / Total] 21 / 6 / 0 / 27:  23%|██▎       | 27/118 [4:10:14<14:03:24, 556.10s/it]"
     ]
    },
    {
     "name": "stdout",
     "output_type": "stream",
     "text": [
      "--------------------------------------------- Result 27 ---------------------------------------------\n",
      "[[Refute (100%)]] --> [[Support (100%)]]\n",
      "\n",
      "[[Enhanced]] early production of inflammatory chemokines damages viral control in the lung.\n",
      "\n",
      "[[Grew]] early production of inflammatory chemokines damages viral control in the lung.\n",
      "\n",
      "\n"
     ]
    },
    {
     "name": "stderr",
     "output_type": "stream",
     "text": [
      "[Succeeded / Failed / Skipped / Total] 22 / 6 / 0 / 28:  24%|██▎       | 28/118 [4:15:08<13:40:05, 546.73s/it]"
     ]
    },
    {
     "name": "stdout",
     "output_type": "stream",
     "text": [
      "--------------------------------------------- Result 28 ---------------------------------------------\n",
      "[[Refute (100%)]] --> [[Support (100%)]]\n",
      "\n",
      "[[Exercise]] increases cancer mortality rates among Chinese citizens.\n",
      "\n",
      "[[Drill]] increases cancer mortality rates among Chinese citizens.\n",
      "\n",
      "\n"
     ]
    },
    {
     "name": "stderr",
     "output_type": "stream",
     "text": [
      "[Succeeded / Failed / Skipped / Total] 23 / 6 / 0 / 29:  25%|██▍       | 29/118 [4:19:51<13:17:30, 537.65s/it]"
     ]
    },
    {
     "name": "stdout",
     "output_type": "stream",
     "text": [
      "--------------------------------------------- Result 29 ---------------------------------------------\n",
      "[[Refute (100%)]] --> [[Support (100%)]]\n",
      "\n",
      "Exercise reduces cancer [[mortality]] rates among Chinese citizens.\n",
      "\n",
      "Exercise reduces cancer [[assassinate]] rates among Chinese citizens.\n",
      "\n",
      "\n"
     ]
    },
    {
     "name": "stderr",
     "output_type": "stream",
     "text": [
      "[Succeeded / Failed / Skipped / Total] 24 / 6 / 0 / 30:  25%|██▌       | 30/118 [4:21:57<12:48:24, 523.91s/it]"
     ]
    },
    {
     "name": "stdout",
     "output_type": "stream",
     "text": [
      "--------------------------------------------- Result 30 ---------------------------------------------\n",
      "[[Refute (100%)]] --> [[Support (100%)]]\n",
      "\n",
      "Exposure to fine particulate air pollution is [[unrelated]] to anxiety prevalence.\n",
      "\n",
      "Exposure to fine particulate air pollution is [[offline]] to anxiety prevalence.\n",
      "\n",
      "\n"
     ]
    },
    {
     "name": "stderr",
     "output_type": "stream",
     "text": [
      "[Succeeded / Failed / Skipped / Total] 24 / 7 / 0 / 31:  26%|██▋       | 31/118 [4:34:23<12:50:03, 531.08s/it]"
     ]
    },
    {
     "name": "stdout",
     "output_type": "stream",
     "text": [
      "--------------------------------------------- Result 31 ---------------------------------------------\n",
      "[[Refute (100%)]] --> [[[FAILED]]]\n",
      "\n",
      "Female carriers of the Apolipoprotein E4 (APOE4) allele have decreased risk for dementia.\n",
      "\n",
      "\n"
     ]
    },
    {
     "name": "stderr",
     "output_type": "stream",
     "text": [
      "[Succeeded / Failed / Skipped / Total] 24 / 8 / 0 / 32:  27%|██▋       | 32/118 [4:45:37<12:47:35, 535.53s/it]"
     ]
    },
    {
     "name": "stdout",
     "output_type": "stream",
     "text": [
      "--------------------------------------------- Result 32 ---------------------------------------------\n",
      "[[Refute (100%)]] --> [[[FAILED]]]\n",
      "\n",
      "Foxk2 regulates autophagy genes in muscle cells and fibroblast cells.\n",
      "\n",
      "\n"
     ]
    },
    {
     "name": "stderr",
     "output_type": "stream",
     "text": [
      "[Succeeded / Failed / Skipped / Total] 24 / 9 / 0 / 33:  28%|██▊       | 33/118 [5:02:06<12:58:08, 549.27s/it]"
     ]
    },
    {
     "name": "stdout",
     "output_type": "stream",
     "text": [
      "--------------------------------------------- Result 33 ---------------------------------------------\n",
      "[[Refute (100%)]] --> [[[FAILED]]]\n",
      "\n",
      "Gastric infection with Helicobacter pylori decreases risk of gastric cancer in humans.\n",
      "\n",
      "\n"
     ]
    },
    {
     "name": "stderr",
     "output_type": "stream",
     "text": [
      "[Succeeded / Failed / Skipped / Total] 25 / 9 / 0 / 34:  29%|██▉       | 34/118 [5:07:10<12:38:54, 542.08s/it]"
     ]
    },
    {
     "name": "stdout",
     "output_type": "stream",
     "text": [
      "--------------------------------------------- Result 34 ---------------------------------------------\n",
      "[[Refute (100%)]] --> [[Support (100%)]]\n",
      "\n",
      "[[General]] exercise therapy is more effective than scapular stabilizer exercises in reducing pain and improving function of the shoulder.\n",
      "\n",
      "[[Generals]] exercise therapy is more effective than scapular stabilizer exercises in reducing pain and improving function of the shoulder.\n",
      "\n",
      "\n"
     ]
    },
    {
     "name": "stderr",
     "output_type": "stream",
     "text": [
      "[Succeeded / Failed / Skipped / Total] 25 / 10 / 0 / 35:  30%|██▉       | 35/118 [5:23:21<12:46:49, 554.33s/it]"
     ]
    },
    {
     "name": "stdout",
     "output_type": "stream",
     "text": [
      "--------------------------------------------- Result 35 ---------------------------------------------\n",
      "[[Refute (100%)]] --> [[[FAILED]]]\n",
      "\n",
      "Gpr124 increases BBB breakdown in mouse models of ischemic stroke.\n",
      "\n",
      "\n"
     ]
    },
    {
     "name": "stderr",
     "output_type": "stream",
     "text": [
      "[Succeeded / Failed / Skipped / Total] 26 / 10 / 0 / 36:  31%|███       | 36/118 [5:36:45<12:47:03, 561.26s/it]"
     ]
    },
    {
     "name": "stdout",
     "output_type": "stream",
     "text": [
      "--------------------------------------------- Result 36 ---------------------------------------------\n",
      "[[Refute (100%)]] --> [[Support (100%)]]\n",
      "\n",
      "HbA1c consistently overestimates glycemic control in black [[individuals]] with Sickle cell trait (SCT).\n",
      "\n",
      "HbA1c consistently overestimates glycemic control in black [[beings]] with Sickle cell trait (SCT).\n",
      "\n",
      "\n"
     ]
    },
    {
     "name": "stderr",
     "output_type": "stream",
     "text": [
      "[Succeeded / Failed / Skipped / Total] 26 / 11 / 0 / 37:  31%|███▏      | 37/118 [5:48:19<12:42:33, 564.85s/it]"
     ]
    },
    {
     "name": "stdout",
     "output_type": "stream",
     "text": [
      "--------------------------------------------- Result 37 ---------------------------------------------\n",
      "[[Refute (100%)]] --> [[[FAILED]]]\n",
      "\n",
      "Incidence of 10/66 dementia is lower than the incidence of DSM-IV dementia.\n",
      "\n",
      "\n"
     ]
    },
    {
     "name": "stderr",
     "output_type": "stream",
     "text": [
      "[Succeeded / Failed / Skipped / Total] 27 / 11 / 0 / 38:  32%|███▏      | 38/118 [5:54:55<12:27:12, 560.40s/it]"
     ]
    },
    {
     "name": "stdout",
     "output_type": "stream",
     "text": [
      "--------------------------------------------- Result 38 ---------------------------------------------\n",
      "[[Refute (100%)]] --> [[Support (100%)]]\n",
      "\n",
      "Including [[pharmacists]] in rounding teams does not alter the incidence of adverse drug events (ADEs).\n",
      "\n",
      "Including [[pharmacology]] in rounding teams does not alter the incidence of adverse drug events (ADEs).\n",
      "\n",
      "\n"
     ]
    },
    {
     "name": "stderr",
     "output_type": "stream",
     "text": [
      "[Succeeded / Failed / Skipped / Total] 28 / 11 / 0 / 39:  33%|███▎      | 39/118 [6:05:43<12:20:50, 562.66s/it]"
     ]
    },
    {
     "name": "stdout",
     "output_type": "stream",
     "text": [
      "--------------------------------------------- Result 39 ---------------------------------------------\n",
      "[[Refute (100%)]] --> [[Support (100%)]]\n",
      "\n",
      "Inhibiting focal adhesion [[formation]] increases the rate at which cells convert mechanical strain into inflammation and fibrosis.\n",
      "\n",
      "Inhibiting focal adhesion [[formed]] increases the rate at which cells convert mechanical strain into inflammation and fibrosis.\n",
      "\n",
      "\n"
     ]
    },
    {
     "name": "stderr",
     "output_type": "stream",
     "text": [
      "[Succeeded / Failed / Skipped / Total] 29 / 11 / 0 / 40:  34%|███▍      | 40/118 [6:06:57<11:55:34, 550.45s/it]"
     ]
    },
    {
     "name": "stdout",
     "output_type": "stream",
     "text": [
      "--------------------------------------------- Result 40 ---------------------------------------------\n",
      "[[Refute (100%)]] --> [[Support (100%)]]\n",
      "\n",
      "Integrated care is [[ineffective]] at tackling multiple comorbidities.\n",
      "\n",
      "Integrated care is [[incompetent]] at tackling multiple comorbidities.\n",
      "\n",
      "\n"
     ]
    },
    {
     "name": "stderr",
     "output_type": "stream",
     "text": [
      "[Succeeded / Failed / Skipped / Total] 30 / 11 / 0 / 41:  35%|███▍      | 41/118 [6:12:14<11:39:04, 544.74s/it]"
     ]
    },
    {
     "name": "stdout",
     "output_type": "stream",
     "text": [
      "--------------------------------------------- Result 41 ---------------------------------------------\n",
      "[[Refute (100%)]] --> [[Support (100%)]]\n",
      "\n",
      "MafA phosphorylation [[enhances]] its ubiquitination.\n",
      "\n",
      "MafA phosphorylation [[augment]] its ubiquitination.\n",
      "\n",
      "\n"
     ]
    },
    {
     "name": "stderr",
     "output_type": "stream",
     "text": [
      "[Succeeded / Failed / Skipped / Total] 30 / 12 / 0 / 42:  36%|███▌      | 42/118 [6:31:22<11:48:11, 559.10s/it]"
     ]
    },
    {
     "name": "stdout",
     "output_type": "stream",
     "text": [
      "--------------------------------------------- Result 42 ---------------------------------------------\n",
      "[[Refute (100%)]] --> [[[FAILED]]]\n",
      "\n",
      "Major vault protein (MVP) leads to more aggressive tumors by regulating the sorting of tumor suppressive miR-193a into extracellular vesicles (EVs).\n",
      "\n",
      "\n"
     ]
    },
    {
     "name": "stderr",
     "output_type": "stream",
     "text": [
      "[Succeeded / Failed / Skipped / Total] 31 / 12 / 0 / 43:  36%|███▋      | 43/118 [6:50:17<11:55:37, 572.51s/it]"
     ]
    },
    {
     "name": "stdout",
     "output_type": "stream",
     "text": [
      "--------------------------------------------- Result 43 ---------------------------------------------\n",
      "[[Refute (100%)]] --> [[Support (100%)]]\n",
      "\n",
      "Medications to treat obesity do not have [[side]] effects.\n",
      "\n",
      "Medications to treat obesity do not have [[sideways]] effects.\n",
      "\n",
      "\n"
     ]
    },
    {
     "name": "stderr",
     "output_type": "stream",
     "text": [
      "[Succeeded / Failed / Skipped / Total] 32 / 12 / 0 / 44:  37%|███▋      | 44/118 [6:55:13<11:38:20, 566.23s/it]"
     ]
    },
    {
     "name": "stdout",
     "output_type": "stream",
     "text": [
      "--------------------------------------------- Result 44 ---------------------------------------------\n",
      "[[Refute (100%)]] --> [[Support (100%)]]\n",
      "\n",
      "Mice [[lacking]] Sirt1 in Sf1-expressing neurons are immune to diet-induced obesity and insulin resistance.\n",
      "\n",
      "Mice [[deficiency]] Sirt1 in Sf1-expressing neurons are immune to diet-induced obesity and insulin resistance.\n",
      "\n",
      "\n"
     ]
    },
    {
     "name": "stderr",
     "output_type": "stream",
     "text": [
      "[Succeeded / Failed / Skipped / Total] 33 / 12 / 0 / 45:  38%|███▊      | 45/118 [6:59:27<11:20:26, 559.27s/it]"
     ]
    },
    {
     "name": "stdout",
     "output_type": "stream",
     "text": [
      "--------------------------------------------- Result 45 ---------------------------------------------\n",
      "[[Refute (100%)]] --> [[Support (100%)]]\n",
      "\n",
      "Mitochondria play a [[trivial]] role in calcium homeostasis.\n",
      "\n",
      "Mitochondria play a [[patti]] role in calcium homeostasis.\n",
      "\n",
      "\n"
     ]
    },
    {
     "name": "stderr",
     "output_type": "stream",
     "text": [
      "[Succeeded / Failed / Skipped / Total] 34 / 12 / 0 / 46:  39%|███▉      | 46/118 [7:07:24<11:08:59, 557.49s/it]"
     ]
    },
    {
     "name": "stdout",
     "output_type": "stream",
     "text": [
      "--------------------------------------------- Result 46 ---------------------------------------------\n",
      "[[Refute (100%)]] --> [[Support (100%)]]\n",
      "\n",
      "Monoclonal antibody [[targeting]] of N-cadherin encourages metastasis.\n",
      "\n",
      "Monoclonal antibody [[concentrates]] of N-cadherin encourages metastasis.\n",
      "\n",
      "\n"
     ]
    },
    {
     "name": "stderr",
     "output_type": "stream",
     "text": [
      "[Succeeded / Failed / Skipped / Total] 35 / 12 / 0 / 47:  40%|███▉      | 47/118 [7:12:56<10:54:00, 552.69s/it]"
     ]
    },
    {
     "name": "stdout",
     "output_type": "stream",
     "text": [
      "--------------------------------------------- Result 47 ---------------------------------------------\n",
      "[[Refute (100%)]] --> [[Support (100%)]]\n",
      "\n",
      "Natriuretic peptides [[increase]] susceptibility to diabetes.\n",
      "\n",
      "Natriuretic peptides [[amplify]] susceptibility to diabetes.\n",
      "\n",
      "\n"
     ]
    },
    {
     "name": "stderr",
     "output_type": "stream",
     "text": [
      "[Succeeded / Failed / Skipped / Total] 35 / 13 / 0 / 48:  41%|████      | 48/118 [7:35:32<11:04:20, 569.44s/it]"
     ]
    },
    {
     "name": "stdout",
     "output_type": "stream",
     "text": [
      "--------------------------------------------- Result 48 ---------------------------------------------\n",
      "[[Refute (100%)]] --> [[[FAILED]]]\n",
      "\n",
      "Nonhypertensive people who are 55 years old have a 90% chance of developing hypertension during their lifetime.\n",
      "\n",
      "\n"
     ]
    },
    {
     "name": "stderr",
     "output_type": "stream",
     "text": [
      "[Succeeded / Failed / Skipped / Total] 35 / 14 / 0 / 49:  42%|████▏     | 49/118 [7:49:55<11:01:44, 575.42s/it]"
     ]
    },
    {
     "name": "stdout",
     "output_type": "stream",
     "text": [
      "--------------------------------------------- Result 49 ---------------------------------------------\n",
      "[[Refute (100%)]] --> [[[FAILED]]]\n",
      "\n",
      "Noninvasive positive pressure ventilation is not predictive of acute respiratory failure after solid organ transplantation.\n",
      "\n",
      "\n"
     ]
    },
    {
     "name": "stderr",
     "output_type": "stream",
     "text": [
      "[Succeeded / Failed / Skipped / Total] 36 / 14 / 0 / 50:  42%|████▏     | 50/118 [7:52:34<10:42:42, 567.09s/it]"
     ]
    },
    {
     "name": "stdout",
     "output_type": "stream",
     "text": [
      "--------------------------------------------- Result 50 ---------------------------------------------\n",
      "[[Refute (100%)]] --> [[Support (100%)]]\n",
      "\n",
      "Nonsteroidal antinflammatory drugs are [[ineffective]] as cancer treatments.\n",
      "\n",
      "Nonsteroidal antinflammatory drugs are [[dispensable]] as cancer treatments.\n",
      "\n",
      "\n"
     ]
    },
    {
     "name": "stderr",
     "output_type": "stream",
     "text": [
      "[Succeeded / Failed / Skipped / Total] 36 / 15 / 0 / 51:  43%|████▎     | 51/118 [8:16:28<10:52:14, 584.09s/it]"
     ]
    },
    {
     "name": "stdout",
     "output_type": "stream",
     "text": [
      "--------------------------------------------- Result 51 ---------------------------------------------\n",
      "[[Refute (100%)]] --> [[[FAILED]]]\n",
      "\n",
      "Patients in stable partnerships progress from HIV to death at the same rate as patients not in partnerships.\n",
      "\n",
      "\n"
     ]
    },
    {
     "name": "stderr",
     "output_type": "stream",
     "text": [
      "[Succeeded / Failed / Skipped / Total] 37 / 15 / 0 / 52:  44%|████▍     | 52/118 [8:22:15<10:37:29, 579.53s/it]"
     ]
    },
    {
     "name": "stdout",
     "output_type": "stream",
     "text": [
      "--------------------------------------------- Result 52 ---------------------------------------------\n",
      "[[Refute (100%)]] --> [[Support (100%)]]\n",
      "\n",
      "Patients with common epithelial cancers are [[less]] likely to have an emergency event as their first hospital admission if they live in resource-deprived areas.\n",
      "\n",
      "Patients with common epithelial cancers are [[slightest]] likely to have an emergency event as their first hospital admission if they live in resource-deprived areas.\n",
      "\n",
      "\n"
     ]
    },
    {
     "name": "stderr",
     "output_type": "stream",
     "text": [
      "[Succeeded / Failed / Skipped / Total] 37 / 16 / 0 / 53:  45%|████▍     | 53/118 [8:39:18<10:36:52, 587.89s/it]"
     ]
    },
    {
     "name": "stdout",
     "output_type": "stream",
     "text": [
      "--------------------------------------------- Result 53 ---------------------------------------------\n",
      "[[Refute (100%)]] --> [[[FAILED]]]\n",
      "\n",
      "Pharmacist attendance at ward rounds increases adverse events in wards.\n",
      "\n",
      "\n"
     ]
    },
    {
     "name": "stderr",
     "output_type": "stream",
     "text": [
      "[Succeeded / Failed / Skipped / Total] 38 / 16 / 0 / 54:  46%|████▌     | 54/118 [8:43:31<10:20:28, 581.70s/it]"
     ]
    },
    {
     "name": "stdout",
     "output_type": "stream",
     "text": [
      "--------------------------------------------- Result 54 ---------------------------------------------\n",
      "[[Refute (100%)]] --> [[Support (100%)]]\n",
      "\n",
      "Physical activity does not [[improve]] cognitive function in individuals with Alzheimers.\n",
      "\n",
      "Physical activity does not [[amplify]] cognitive function in individuals with Alzheimers.\n",
      "\n",
      "\n"
     ]
    },
    {
     "name": "stderr",
     "output_type": "stream",
     "text": [
      "[Succeeded / Failed / Skipped / Total] 39 / 16 / 0 / 55:  47%|████▋     | 55/118 [8:58:32<10:16:52, 587.49s/it]"
     ]
    },
    {
     "name": "stdout",
     "output_type": "stream",
     "text": [
      "--------------------------------------------- Result 55 ---------------------------------------------\n",
      "[[Refute (100%)]] --> [[Support (100%)]]\n",
      "\n",
      "Pioglitazone use is not associated with an increased risk of prostate [[cancer]].\n",
      "\n",
      "Pioglitazone use is not associated with an increased risk of prostate [[metastasis]].\n",
      "\n",
      "\n"
     ]
    },
    {
     "name": "stderr",
     "output_type": "stream",
     "text": [
      "[Succeeded / Failed / Skipped / Total] 39 / 17 / 0 / 56:  47%|████▋     | 56/118 [9:33:07<10:34:31, 614.06s/it]"
     ]
    },
    {
     "name": "stdout",
     "output_type": "stream",
     "text": [
      "--------------------------------------------- Result 56 ---------------------------------------------\n",
      "[[Refute (100%)]] --> [[[FAILED]]]\n",
      "\n",
      "Primary cervical cancer screening with HPV detection has lower longitudinal sensitivity than conventional cytology to detect cervical intraepithelial neoplasia grade 2.\n",
      "\n",
      "\n"
     ]
    },
    {
     "name": "stderr",
     "output_type": "stream",
     "text": [
      "[Succeeded / Failed / Skipped / Total] 39 / 18 / 0 / 57:  48%|████▊     | 57/118 [9:56:32<10:38:24, 627.94s/it]"
     ]
    },
    {
     "name": "stdout",
     "output_type": "stream",
     "text": [
      "--------------------------------------------- Result 57 ---------------------------------------------\n",
      "[[Refute (100%)]] --> [[[FAILED]]]\n",
      "\n",
      "RANK-RANKL pathway signalling has no known association with development of Aire-expressing medullary thymic epithelial cells.\n",
      "\n",
      "\n"
     ]
    },
    {
     "name": "stderr",
     "output_type": "stream",
     "text": [
      "[Succeeded / Failed / Skipped / Total] 40 / 18 / 0 / 58:  49%|████▉     | 58/118 [10:00:00<10:20:41, 620.70s/it]"
     ]
    },
    {
     "name": "stdout",
     "output_type": "stream",
     "text": [
      "--------------------------------------------- Result 58 ---------------------------------------------\n",
      "[[Refute (100%)]] --> [[Support (100%)]]\n",
      "\n",
      "Risedronate [[increases]] risk of vertebral and non-vertebral fractures.\n",
      "\n",
      "Risedronate [[risen]] risk of vertebral and non-vertebral fractures.\n",
      "\n",
      "\n"
     ]
    },
    {
     "name": "stderr",
     "output_type": "stream",
     "text": [
      "[Succeeded / Failed / Skipped / Total] 41 / 18 / 0 / 59:  50%|█████     | 59/118 [10:02:11<10:02:11, 612.39s/it]"
     ]
    },
    {
     "name": "stdout",
     "output_type": "stream",
     "text": [
      "--------------------------------------------- Result 59 ---------------------------------------------\n",
      "[[Refute (100%)]] --> [[Support (100%)]]\n",
      "\n",
      "Risk-adjusted mortality [[rates]] are similar in teaching and non-teaching hospitals.\n",
      "\n",
      "Risk-adjusted mortality [[cadence]] are similar in teaching and non-teaching hospitals.\n",
      "\n",
      "\n"
     ]
    },
    {
     "name": "stderr",
     "output_type": "stream",
     "text": [
      "[Succeeded / Failed / Skipped / Total] 42 / 18 / 0 / 60:  51%|█████     | 60/118 [10:17:10<9:56:35, 617.17s/it] "
     ]
    },
    {
     "name": "stdout",
     "output_type": "stream",
     "text": [
      "--------------------------------------------- Result 60 ---------------------------------------------\n",
      "[[Refute (100%)]] --> [[Support (100%)]]\n",
      "\n",
      "Sepsis related mortality has [[remained]] stable between 2009-2014.\n",
      "\n",
      "Sepsis related mortality has [[follows]] stable between 2009-2014.\n",
      "\n",
      "\n"
     ]
    },
    {
     "name": "stderr",
     "output_type": "stream",
     "text": [
      "[Succeeded / Failed / Skipped / Total] 43 / 18 / 0 / 61:  52%|█████▏    | 61/118 [10:22:26<9:41:37, 612.23s/it]"
     ]
    },
    {
     "name": "stdout",
     "output_type": "stream",
     "text": [
      "--------------------------------------------- Result 61 ---------------------------------------------\n",
      "[[Refute (100%)]] --> [[Support (100%)]]\n",
      "\n",
      "Sepsis related [[mortality]] has risen from 2009 to 2014.\n",
      "\n",
      "Sepsis related [[assassinate]] has risen from 2009 to 2014.\n",
      "\n",
      "\n"
     ]
    },
    {
     "name": "stderr",
     "output_type": "stream",
     "text": [
      "[Succeeded / Failed / Skipped / Total] 44 / 18 / 0 / 62:  53%|█████▎    | 62/118 [10:26:46<9:26:06, 606.55s/it]"
     ]
    },
    {
     "name": "stdout",
     "output_type": "stream",
     "text": [
      "--------------------------------------------- Result 62 ---------------------------------------------\n",
      "[[Refute (100%)]] --> [[Support (100%)]]\n",
      "\n",
      "Sildenafil [[worsens]] erectile function in men who experience sexual dysfunction as a result of the use of SSRI antidepressants.\n",
      "\n",
      "Sildenafil [[deepening]] erectile function in men who experience sexual dysfunction as a result of the use of SSRI antidepressants.\n",
      "\n",
      "\n"
     ]
    },
    {
     "name": "stderr",
     "output_type": "stream",
     "text": [
      "[Succeeded / Failed / Skipped / Total] 44 / 19 / 0 / 63:  53%|█████▎    | 63/118 [11:09:52<9:44:48, 637.97s/it]"
     ]
    },
    {
     "name": "stdout",
     "output_type": "stream",
     "text": [
      "--------------------------------------------- Result 63 ---------------------------------------------\n",
      "[[Refute (100%)]] --> [[[FAILED]]]\n",
      "\n",
      "Stroke patients with prior use of direct oral anticoagulants have a higher risk of in-hospital mortality than stroke patients with prior use of warfarin.\n",
      "\n",
      "\n"
     ]
    },
    {
     "name": "stderr",
     "output_type": "stream",
     "text": [
      "[Succeeded / Failed / Skipped / Total] 45 / 19 / 0 / 64:  54%|█████▍    | 64/118 [11:14:40<9:29:15, 632.51s/it]"
     ]
    },
    {
     "name": "stdout",
     "output_type": "stream",
     "text": [
      "--------------------------------------------- Result 64 ---------------------------------------------\n",
      "[[Refute (100%)]] --> [[Support (100%)]]\n",
      "\n",
      "[[Students]] who perform poorly in the early years of medical school are less likely to commit professional misconduct later in their careers.\n",
      "\n",
      "[[Undergraduates]] who perform poorly in the early years of medical school are less likely to commit professional misconduct later in their careers.\n",
      "\n",
      "\n"
     ]
    },
    {
     "name": "stderr",
     "output_type": "stream",
     "text": [
      "[Succeeded / Failed / Skipped / Total] 45 / 20 / 0 / 65:  55%|█████▌    | 65/118 [11:30:24<9:22:56, 637.29s/it]"
     ]
    },
    {
     "name": "stdout",
     "output_type": "stream",
     "text": [
      "--------------------------------------------- Result 65 ---------------------------------------------\n",
      "[[Refute (100%)]] --> [[[FAILED]]]\n",
      "\n",
      "Sympathetic nerve activity is reduced throughout normal pregnancy.\n",
      "\n",
      "\n"
     ]
    },
    {
     "name": "stderr",
     "output_type": "stream",
     "text": [
      "[Succeeded / Failed / Skipped / Total] 46 / 20 / 0 / 66:  56%|█████▌    | 66/118 [11:34:32<9:07:12, 631.40s/it]"
     ]
    },
    {
     "name": "stdout",
     "output_type": "stream",
     "text": [
      "--------------------------------------------- Result 66 ---------------------------------------------\n",
      "[[Refute (100%)]] --> [[Support (100%)]]\n",
      "\n",
      "Systemic immunosuppressive (IS) therapy increases the chance of cancer mortality in patients with [[inflammatory]] eye disease (IED)\n",
      "\n",
      "Systemic immunosuppressive (IS) therapy increases the chance of cancer mortality in patients with [[molotov]] eye disease (IED)\n",
      "\n",
      "\n"
     ]
    },
    {
     "name": "stderr",
     "output_type": "stream",
     "text": [
      "[Succeeded / Failed / Skipped / Total] 47 / 20 / 0 / 67:  57%|█████▋    | 67/118 [11:46:34<8:57:50, 632.75s/it]"
     ]
    },
    {
     "name": "stdout",
     "output_type": "stream",
     "text": [
      "--------------------------------------------- Result 67 ---------------------------------------------\n",
      "[[Refute (100%)]] --> [[Support (100%)]]\n",
      "\n",
      "The DESMOND program demonstrates no [[significant]] impact on lifestyles outcomes.\n",
      "\n",
      "The DESMOND program demonstrates no [[colossal]] impact on lifestyles outcomes.\n",
      "\n",
      "\n"
     ]
    },
    {
     "name": "stderr",
     "output_type": "stream",
     "text": [
      "[Succeeded / Failed / Skipped / Total] 48 / 20 / 0 / 68:  58%|█████▊    | 68/118 [11:51:48<8:43:23, 628.06s/it]"
     ]
    },
    {
     "name": "stdout",
     "output_type": "stream",
     "text": [
      "--------------------------------------------- Result 68 ---------------------------------------------\n",
      "[[Refute (100%)]] --> [[Support (100%)]]\n",
      "\n",
      "The DESMOND [[program]] demonstrates no significant impact on weight loss.\n",
      "\n",
      "The DESMOND [[emission]] demonstrates no significant impact on weight loss.\n",
      "\n",
      "\n"
     ]
    },
    {
     "name": "stderr",
     "output_type": "stream",
     "text": [
      "[Succeeded / Failed / Skipped / Total] 49 / 20 / 0 / 69:  58%|█████▊    | 69/118 [12:21:00<8:46:13, 644.36s/it]"
     ]
    },
    {
     "name": "stdout",
     "output_type": "stream",
     "text": [
      "--------------------------------------------- Result 69 ---------------------------------------------\n",
      "[[Refute (100%)]] --> [[Support (100%)]]\n",
      "\n",
      "The [[combination]] of physical examinations with C-reactive protein values do not improve the accuracy of radiographic verified pneumonia predictions.\n",
      "\n",
      "The [[merges]] of physical examinations with C-reactive protein values do not improve the accuracy of radiographic verified pneumonia predictions.\n",
      "\n",
      "\n"
     ]
    },
    {
     "name": "stderr",
     "output_type": "stream",
     "text": [
      "[Succeeded / Failed / Skipped / Total] 50 / 20 / 0 / 70:  59%|█████▉    | 70/118 [12:32:10<8:35:46, 644.72s/it]"
     ]
    },
    {
     "name": "stdout",
     "output_type": "stream",
     "text": [
      "--------------------------------------------- Result 70 ---------------------------------------------\n",
      "[[Refute (100%)]] --> [[Support (100%)]]\n",
      "\n",
      "The mean suicide rate in women is [[lower]] after miscarriage than live birth.\n",
      "\n",
      "The mean suicide rate in women is [[baja]] after miscarriage than live birth.\n",
      "\n",
      "\n"
     ]
    },
    {
     "name": "stderr",
     "output_type": "stream",
     "text": [
      "[Succeeded / Failed / Skipped / Total] 51 / 20 / 0 / 71:  60%|██████    | 71/118 [12:34:44<8:19:36, 637.80s/it]"
     ]
    },
    {
     "name": "stdout",
     "output_type": "stream",
     "text": [
      "--------------------------------------------- Result 71 ---------------------------------------------\n",
      "[[Refute (100%)]] --> [[Support (100%)]]\n",
      "\n",
      "The minor [[G]] allele of FOXO3 is related to less severe symptoms of Crohn's Disease.\n",
      "\n",
      "The minor [[grammes]] allele of FOXO3 is related to less severe symptoms of Crohn's Disease.\n",
      "\n",
      "\n"
     ]
    },
    {
     "name": "stderr",
     "output_type": "stream",
     "text": [
      "[Succeeded / Failed / Skipped / Total] 52 / 20 / 0 / 72:  61%|██████    | 72/118 [12:38:18<8:04:28, 631.93s/it]"
     ]
    },
    {
     "name": "stdout",
     "output_type": "stream",
     "text": [
      "--------------------------------------------- Result 72 ---------------------------------------------\n",
      "[[Refute (100%)]] --> [[Support (100%)]]\n",
      "\n",
      "There is no increased [[risk]] of hypospadias with clomiphene.\n",
      "\n",
      "There is no increased [[apt]] of hypospadias with clomiphene.\n",
      "\n",
      "\n"
     ]
    },
    {
     "name": "stderr",
     "output_type": "stream",
     "text": [
      "[Succeeded / Failed / Skipped / Total] 52 / 21 / 0 / 73:  62%|██████▏   | 73/118 [12:55:05<7:57:47, 637.06s/it]"
     ]
    },
    {
     "name": "stdout",
     "output_type": "stream",
     "text": [
      "--------------------------------------------- Result 73 ---------------------------------------------\n",
      "[[Refute (100%)]] --> [[[FAILED]]]\n",
      "\n",
      "There is no known interaction between Pioneer factor OCT3/4 and major chromatin remodeling factors.\n",
      "\n",
      "\n"
     ]
    },
    {
     "name": "stderr",
     "output_type": "stream",
     "text": [
      "[Succeeded / Failed / Skipped / Total] 53 / 21 / 0 / 74:  63%|██████▎   | 74/118 [12:58:29<7:42:53, 631.21s/it]"
     ]
    },
    {
     "name": "stdout",
     "output_type": "stream",
     "text": [
      "--------------------------------------------- Result 74 ---------------------------------------------\n",
      "[[Refute (100%)]] --> [[Support (100%)]]\n",
      "\n",
      "There is no [[relation]] between Erythromycin use and hypertrophic pyloric stenosis.\n",
      "\n",
      "There is no [[concerning]] between Erythromycin use and hypertrophic pyloric stenosis.\n",
      "\n",
      "\n"
     ]
    },
    {
     "name": "stderr",
     "output_type": "stream",
     "text": [
      "[Succeeded / Failed / Skipped / Total] 54 / 21 / 0 / 75:  64%|██████▎   | 75/118 [13:01:42<7:28:10, 625.37s/it]"
     ]
    },
    {
     "name": "stdout",
     "output_type": "stream",
     "text": [
      "--------------------------------------------- Result 75 ---------------------------------------------\n",
      "[[Refute (100%)]] --> [[Support (100%)]]\n",
      "\n",
      "There was an [[estimated]] 30 million cases of pneumonia in young children worldwide in 2010.\n",
      "\n",
      "There was an [[evaluation]] 30 million cases of pneumonia in young children worldwide in 2010.\n",
      "\n",
      "\n"
     ]
    },
    {
     "name": "stderr",
     "output_type": "stream",
     "text": [
      "[Succeeded / Failed / Skipped / Total] 54 / 22 / 0 / 76:  64%|██████▍   | 76/118 [13:23:46<7:24:11, 634.56s/it]"
     ]
    },
    {
     "name": "stdout",
     "output_type": "stream",
     "text": [
      "--------------------------------------------- Result 76 ---------------------------------------------\n",
      "[[Refute (100%)]] --> [[[FAILED]]]\n",
      "\n",
      "Tuberculosis incidence occurs at higher rates in more sparsely populated areas in the UK.\n",
      "\n",
      "\n"
     ]
    },
    {
     "name": "stderr",
     "output_type": "stream",
     "text": [
      "[Succeeded / Failed / Skipped / Total] 55 / 22 / 0 / 77:  65%|██████▌   | 77/118 [13:27:44<7:10:05, 629.41s/it]"
     ]
    },
    {
     "name": "stdout",
     "output_type": "stream",
     "text": [
      "--------------------------------------------- Result 77 ---------------------------------------------\n",
      "[[Refute (100%)]] --> [[Support (100%)]]\n",
      "\n",
      "Upon viral challenge, influenza-specific memory CD4+ T cells greatly enhance the early production of [[inflammatory]] chemokines in the lung.\n",
      "\n",
      "Upon viral challenge, influenza-specific memory CD4+ T cells greatly enhance the early production of [[incite]] chemokines in the lung.\n",
      "\n",
      "\n"
     ]
    },
    {
     "name": "stderr",
     "output_type": "stream",
     "text": [
      "[Succeeded / Failed / Skipped / Total] 56 / 22 / 0 / 78:  66%|██████▌   | 78/118 [13:34:35<6:57:44, 626.61s/it]"
     ]
    },
    {
     "name": "stdout",
     "output_type": "stream",
     "text": [
      "--------------------------------------------- Result 78 ---------------------------------------------\n",
      "[[Refute (100%)]] --> [[Support (100%)]]\n",
      "\n",
      "Whole brain radiotherapy [[increases]] the occurrence of new brain metastases.\n",
      "\n",
      "Whole brain radiotherapy [[augmentation]] the occurrence of new brain metastases.\n",
      "\n",
      "\n"
     ]
    },
    {
     "name": "stderr",
     "output_type": "stream",
     "text": [
      "[Succeeded / Failed / Skipped / Total] 57 / 22 / 0 / 79:  67%|██████▋   | 79/118 [13:38:16<6:43:57, 621.47s/it]"
     ]
    },
    {
     "name": "stdout",
     "output_type": "stream",
     "text": [
      "--------------------------------------------- Result 79 ---------------------------------------------\n",
      "[[Refute (100%)]] --> [[Support (100%)]]\n",
      "\n",
      "Women with a [[lower]] birth weight are more likely to develop breast cancer later in life.\n",
      "\n",
      "Women with a [[weakest]] birth weight are more likely to develop breast cancer later in life.\n",
      "\n",
      "\n"
     ]
    },
    {
     "name": "stderr",
     "output_type": "stream",
     "text": [
      "[Succeeded / Failed / Skipped / Total] 58 / 22 / 0 / 80:  68%|██████▊   | 80/118 [13:41:15<6:30:05, 615.94s/it]"
     ]
    },
    {
     "name": "stdout",
     "output_type": "stream",
     "text": [
      "--------------------------------------------- Result 80 ---------------------------------------------\n",
      "[[Refute (100%)]] --> [[Support (100%)]]\n",
      "\n",
      "siRNA knockdown of A20 [[accelerates]] tumor progression in an in vivo murine xenograft model.\n",
      "\n",
      "siRNA knockdown of A20 [[rapids]] tumor progression in an in vivo murine xenograft model.\n",
      "\n",
      "\n"
     ]
    },
    {
     "name": "stderr",
     "output_type": "stream",
     "text": [
      "[Succeeded / Failed / Skipped / Total] 59 / 22 / 0 / 81:  69%|██████▊   | 81/118 [13:45:53<6:17:15, 611.77s/it]"
     ]
    },
    {
     "name": "stdout",
     "output_type": "stream",
     "text": [
      "--------------------------------------------- Result 81 ---------------------------------------------\n",
      "[[Refute (100%)]] --> [[Support (100%)]]\n",
      "\n",
      "A [[total]] of 1,000 people in the UK are asymptomatic carriers of vCJD infection.\n",
      "\n",
      "A [[comprehensive]] of 1,000 people in the UK are asymptomatic carriers of vCJD infection.\n",
      "\n",
      "\n"
     ]
    },
    {
     "name": "stderr",
     "output_type": "stream",
     "text": [
      "[Succeeded / Failed / Skipped / Total] 60 / 22 / 0 / 82:  69%|██████▉   | 82/118 [13:49:55<6:04:21, 607.26s/it]"
     ]
    },
    {
     "name": "stdout",
     "output_type": "stream",
     "text": [
      "--------------------------------------------- Result 82 ---------------------------------------------\n",
      "[[Refute (100%)]] --> [[Support (100%)]]\n",
      "\n",
      "ALDH1 [[expression]] is associated with better breast cancer outcomes.\n",
      "\n",
      "ALDH1 [[adjectives]] is associated with better breast cancer outcomes.\n",
      "\n",
      "\n"
     ]
    },
    {
     "name": "stderr",
     "output_type": "stream",
     "text": [
      "[Succeeded / Failed / Skipped / Total] 61 / 22 / 0 / 83:  70%|███████   | 83/118 [13:53:57<5:51:40, 602.86s/it]"
     ]
    },
    {
     "name": "stdout",
     "output_type": "stream",
     "text": [
      "--------------------------------------------- Result 83 ---------------------------------------------\n",
      "[[Refute (100%)]] --> [[Support (100%)]]\n",
      "\n",
      "AMP-activated protein kinase (AMPK) [[activation]] increases inflammation-related fibrosis in the lungs.\n",
      "\n",
      "AMP-activated protein kinase (AMPK) [[authorizes]] increases inflammation-related fibrosis in the lungs.\n",
      "\n",
      "\n"
     ]
    },
    {
     "name": "stderr",
     "output_type": "stream",
     "text": [
      "[Succeeded / Failed / Skipped / Total] 62 / 22 / 0 / 84:  71%|███████   | 84/118 [13:58:10<5:39:15, 598.69s/it]"
     ]
    },
    {
     "name": "stdout",
     "output_type": "stream",
     "text": [
      "--------------------------------------------- Result 84 ---------------------------------------------\n",
      "[[Refute (100%)]] --> [[Support (100%)]]\n",
      "\n",
      "Activation of PPM1D [[suppresses]] p53 function.\n",
      "\n",
      "Activation of PPM1D [[deletion]] p53 function.\n",
      "\n",
      "\n"
     ]
    },
    {
     "name": "stderr",
     "output_type": "stream",
     "text": [
      "[Succeeded / Failed / Skipped / Total] 62 / 23 / 0 / 85:  72%|███████▏  | 85/118 [14:04:05<5:27:42, 595.83s/it]"
     ]
    },
    {
     "name": "stdout",
     "output_type": "stream",
     "text": [
      "--------------------------------------------- Result 85 ---------------------------------------------\n",
      "[[Refute (100%)]] --> [[[FAILED]]]\n",
      "\n",
      "All hematopoietic stem cells segregate their chromosomes randomly.\n",
      "\n",
      "\n"
     ]
    },
    {
     "name": "stderr",
     "output_type": "stream",
     "text": [
      "[Succeeded / Failed / Skipped / Total] 63 / 23 / 0 / 86:  73%|███████▎  | 86/118 [14:07:09<5:15:13, 591.04s/it]"
     ]
    },
    {
     "name": "stdout",
     "output_type": "stream",
     "text": [
      "--------------------------------------------- Result 86 ---------------------------------------------\n",
      "[[Refute (100%)]] --> [[Support (100%)]]\n",
      "\n",
      "Articles published in open access format are [[less]] likely to be cited than traditional journals.\n",
      "\n",
      "Articles published in open access format are [[slightest]] likely to be cited than traditional journals.\n",
      "\n",
      "\n"
     ]
    },
    {
     "name": "stderr",
     "output_type": "stream",
     "text": [
      "[Succeeded / Failed / Skipped / Total] 64 / 23 / 0 / 87:  74%|███████▎  | 87/118 [14:29:20<5:09:45, 599.54s/it]"
     ]
    },
    {
     "name": "stdout",
     "output_type": "stream",
     "text": [
      "--------------------------------------------- Result 87 ---------------------------------------------\n",
      "[[Refute (100%)]] --> [[Support (100%)]]\n",
      "\n",
      "Autologous transplantation of mesenchymal stem cells [[causes]] a higher rate of opportunistic infections than induction therapy with anti-interleukin-2 receptor antibodies.\n",
      "\n",
      "Autologous transplantation of mesenchymal stem cells [[arises]] a higher rate of opportunistic infections than induction therapy with anti-interleukin-2 receptor antibodies.\n",
      "\n",
      "\n"
     ]
    },
    {
     "name": "stderr",
     "output_type": "stream",
     "text": [
      "[Succeeded / Failed / Skipped / Total] 65 / 23 / 0 / 88:  75%|███████▍  | 88/118 [14:32:49<4:57:33, 595.11s/it]"
     ]
    },
    {
     "name": "stdout",
     "output_type": "stream",
     "text": [
      "--------------------------------------------- Result 88 ---------------------------------------------\n",
      "[[Refute (100%)]] --> [[Support (100%)]]\n",
      "\n",
      "Bariatric surgery has a [[positive]] impact on mental health.\n",
      "\n",
      "Bariatric surgery has a [[actionable]] impact on mental health.\n",
      "\n",
      "\n"
     ]
    },
    {
     "name": "stderr",
     "output_type": "stream",
     "text": [
      "[Succeeded / Failed / Skipped / Total] 66 / 23 / 0 / 89:  75%|███████▌  | 89/118 [14:35:50<4:45:23, 590.46s/it]"
     ]
    },
    {
     "name": "stdout",
     "output_type": "stream",
     "text": [
      "--------------------------------------------- Result 89 ---------------------------------------------\n",
      "[[Refute (100%)]] --> [[Support (100%)]]\n",
      "\n",
      "Birth-weight is positively associated with breast [[cancer]].\n",
      "\n",
      "Birth-weight is positively associated with breast [[cystic]].\n",
      "\n",
      "\n"
     ]
    },
    {
     "name": "stderr",
     "output_type": "stream",
     "text": [
      "[Succeeded / Failed / Skipped / Total] 67 / 23 / 0 / 90:  76%|███████▋  | 90/118 [14:40:10<4:33:49, 586.78s/it]"
     ]
    },
    {
     "name": "stdout",
     "output_type": "stream",
     "text": [
      "--------------------------------------------- Result 90 ---------------------------------------------\n",
      "[[Refute (100%)]] --> [[Support (100%)]]\n",
      "\n",
      "Breast cancer development is determined [[exclusively]] by genetic factors.\n",
      "\n",
      "Breast cancer development is determined [[abundantly]] by genetic factors.\n",
      "\n",
      "\n"
     ]
    },
    {
     "name": "stderr",
     "output_type": "stream",
     "text": [
      "[Succeeded / Failed / Skipped / Total] 68 / 23 / 0 / 91:  77%|███████▋  | 91/118 [14:43:15<4:22:04, 582.37s/it]"
     ]
    },
    {
     "name": "stdout",
     "output_type": "stream",
     "text": [
      "--------------------------------------------- Result 91 ---------------------------------------------\n",
      "[[Refute (100%)]] --> [[Support (100%)]]\n",
      "\n",
      "CHEK2 is not [[associated]] with breast cancer.\n",
      "\n",
      "CHEK2 is not [[coupled]] with breast cancer.\n",
      "\n",
      "\n"
     ]
    },
    {
     "name": "stderr",
     "output_type": "stream",
     "text": [
      "[Succeeded / Failed / Skipped / Total] 69 / 23 / 0 / 92:  78%|███████▊  | 92/118 [14:44:45<4:10:02, 577.01s/it]"
     ]
    },
    {
     "name": "stdout",
     "output_type": "stream",
     "text": [
      "--------------------------------------------- Result 92 ---------------------------------------------\n",
      "[[Refute (100%)]] --> [[Support (100%)]]\n",
      "\n",
      "[[CR]] is associated with higher methylation age.\n",
      "\n",
      "[[RT]] is associated with higher methylation age.\n",
      "\n",
      "\n"
     ]
    },
    {
     "name": "stderr",
     "output_type": "stream",
     "text": [
      "[Succeeded / Failed / Skipped / Total] 70 / 23 / 0 / 93:  79%|███████▉  | 93/118 [14:48:54<3:58:57, 573.49s/it]"
     ]
    },
    {
     "name": "stdout",
     "output_type": "stream",
     "text": [
      "--------------------------------------------- Result 93 ---------------------------------------------\n",
      "[[Refute (100%)]] --> [[Support (100%)]]\n",
      "\n",
      "CX3CR1 on the Th2 cells [[promotes]] airway inflammation.\n",
      "\n",
      "CX3CR1 on the Th2 cells [[enhancing]] airway inflammation.\n",
      "\n",
      "\n"
     ]
    },
    {
     "name": "stderr",
     "output_type": "stream",
     "text": [
      "[Succeeded / Failed / Skipped / Total] 71 / 23 / 0 / 94:  80%|███████▉  | 94/118 [14:56:33<3:48:54, 572.27s/it]"
     ]
    },
    {
     "name": "stdout",
     "output_type": "stream",
     "text": [
      "--------------------------------------------- Result 94 ---------------------------------------------\n",
      "[[Refute (100%)]] --> [[Support (100%)]]\n",
      "\n",
      "Chenodeosycholic acid treatment reduces whole-body [[energy]] expenditure.\n",
      "\n",
      "Chenodeosycholic acid treatment reduces whole-body [[strength]] expenditure.\n",
      "\n",
      "\n"
     ]
    },
    {
     "name": "stderr",
     "output_type": "stream",
     "text": [
      "[Succeeded / Failed / Skipped / Total] 71 / 24 / 0 / 95:  81%|████████  | 95/118 [15:06:45<3:39:31, 572.69s/it]"
     ]
    },
    {
     "name": "stdout",
     "output_type": "stream",
     "text": [
      "--------------------------------------------- Result 95 ---------------------------------------------\n",
      "[[Refute (100%)]] --> [[[FAILED]]]\n",
      "\n",
      "Commelina yellow mottle virus' (ComYMV) genome consists of 7489 baise pairs.\n",
      "\n",
      "\n"
     ]
    },
    {
     "name": "stderr",
     "output_type": "stream",
     "text": [
      "[Succeeded / Failed / Skipped / Total] 72 / 24 / 0 / 96:  81%|████████▏ | 96/118 [15:12:20<3:29:04, 570.22s/it]"
     ]
    },
    {
     "name": "stdout",
     "output_type": "stream",
     "text": [
      "--------------------------------------------- Result 96 ---------------------------------------------\n",
      "[[Refute (100%)]] --> [[Support (100%)]]\n",
      "\n",
      "Gene [[expression]] does not vary appreciably across genetically identical cells.\n",
      "\n",
      "Gene [[discourses]] does not vary appreciably across genetically identical cells.\n",
      "\n",
      "\n"
     ]
    },
    {
     "name": "stderr",
     "output_type": "stream",
     "text": [
      "[Succeeded / Failed / Skipped / Total] 73 / 24 / 0 / 97:  82%|████████▏ | 97/118 [15:15:05<3:18:06, 566.04s/it]"
     ]
    },
    {
     "name": "stdout",
     "output_type": "stream",
     "text": [
      "--------------------------------------------- Result 97 ---------------------------------------------\n",
      "[[Refute (100%)]] --> [[Support (100%)]]\n",
      "\n",
      "[[Headaches]] are not correlated with cognitive impairment.\n",
      "\n",
      "[[Arthritis]] are not correlated with cognitive impairment.\n",
      "\n",
      "\n"
     ]
    },
    {
     "name": "stderr",
     "output_type": "stream",
     "text": [
      "[Succeeded / Failed / Skipped / Total] 74 / 24 / 0 / 98:  83%|████████▎ | 98/118 [15:17:50<3:07:18, 561.95s/it]"
     ]
    },
    {
     "name": "stdout",
     "output_type": "stream",
     "text": [
      "--------------------------------------------- Result 98 ---------------------------------------------\n",
      "[[Refute (100%)]] --> [[Support (100%)]]\n",
      "\n",
      "High cardiopulmonary [[fitness]] causes increased mortality rate.\n",
      "\n",
      "High cardiopulmonary [[capacities]] causes increased mortality rate.\n",
      "\n",
      "\n"
     ]
    },
    {
     "name": "stderr",
     "output_type": "stream",
     "text": [
      "[Succeeded / Failed / Skipped / Total] 74 / 25 / 0 / 99:  84%|████████▍ | 99/118 [15:40:15<3:00:27, 569.85s/it]"
     ]
    },
    {
     "name": "stdout",
     "output_type": "stream",
     "text": [
      "--------------------------------------------- Result 99 ---------------------------------------------\n",
      "[[Refute (100%)]] --> [[[FAILED]]]\n",
      "\n",
      "Incidence of heart failure decreased by 10% in women since 1979.\n",
      "\n",
      "\n"
     ]
    },
    {
     "name": "stderr",
     "output_type": "stream",
     "text": [
      "[Succeeded / Failed / Skipped / Total] 75 / 25 / 0 / 100:  85%|████████▍ | 100/118 [15:45:53<2:50:15, 567.53s/it]"
     ]
    },
    {
     "name": "stdout",
     "output_type": "stream",
     "text": [
      "--------------------------------------------- Result 100 ---------------------------------------------\n",
      "[[Refute (100%)]] --> [[Support (100%)]]\n",
      "\n",
      "Incidence rates of cervical cancer have [[increased]] due to nationwide screening programs based primarily on cytology to detect uterine cervical cancer.\n",
      "\n",
      "Incidence rates of cervical cancer have [[improve]] due to nationwide screening programs based primarily on cytology to detect uterine cervical cancer.\n",
      "\n",
      "\n"
     ]
    },
    {
     "name": "stderr",
     "output_type": "stream",
     "text": [
      "[Succeeded / Failed / Skipped / Total] 76 / 25 / 0 / 101:  86%|████████▌ | 101/118 [15:52:33<2:40:19, 565.87s/it]"
     ]
    },
    {
     "name": "stdout",
     "output_type": "stream",
     "text": [
      "--------------------------------------------- Result 101 ---------------------------------------------\n",
      "[[Refute (100%)]] --> [[Support (100%)]]\n",
      "\n",
      "Increased vessel density along with a reduction in fibrosis [[decreases]] the efficacy of chemotherapy treatments.\n",
      "\n",
      "Increased vessel density along with a reduction in fibrosis [[fallen]] the efficacy of chemotherapy treatments.\n",
      "\n",
      "\n"
     ]
    },
    {
     "name": "stderr",
     "output_type": "stream",
     "text": [
      "[Succeeded / Failed / Skipped / Total] 76 / 26 / 0 / 102:  86%|████████▋ | 102/118 [16:08:02<2:31:51, 569.44s/it]"
     ]
    },
    {
     "name": "stdout",
     "output_type": "stream",
     "text": [
      "--------------------------------------------- Result 102 ---------------------------------------------\n",
      "[[Refute (100%)]] --> [[[FAILED]]]\n",
      "\n",
      "LDL cholesterol has no involvement in the development of cardiovascular disease.\n",
      "\n",
      "\n"
     ]
    },
    {
     "name": "stderr",
     "output_type": "stream",
     "text": [
      "[Succeeded / Failed / Skipped / Total] 76 / 27 / 0 / 103:  87%|████████▋ | 103/118 [16:19:32<2:22:39, 570.60s/it]"
     ]
    },
    {
     "name": "stdout",
     "output_type": "stream",
     "text": [
      "--------------------------------------------- Result 103 ---------------------------------------------\n",
      "[[Refute (100%)]] --> [[[FAILED]]]\n",
      "\n",
      "Leuko-increased blood increases infectious complications in red blood cell transfusion.\n",
      "\n",
      "\n"
     ]
    },
    {
     "name": "stderr",
     "output_type": "stream",
     "text": [
      "[Succeeded / Failed / Skipped / Total] 76 / 28 / 0 / 104:  88%|████████▊ | 104/118 [16:31:26<2:13:27, 571.99s/it]"
     ]
    },
    {
     "name": "stdout",
     "output_type": "stream",
     "text": [
      "--------------------------------------------- Result 104 ---------------------------------------------\n",
      "[[Refute (100%)]] --> [[[FAILED]]]\n",
      "\n",
      "Ly6C hi monocytes have a lower inflammatory capacity than Ly6C lo monocytes.\n",
      "\n",
      "\n"
     ]
    },
    {
     "name": "stderr",
     "output_type": "stream",
     "text": [
      "[Succeeded / Failed / Skipped / Total] 76 / 29 / 0 / 105:  89%|████████▉ | 105/118 [16:42:10<2:04:04, 572.67s/it]"
     ]
    },
    {
     "name": "stdout",
     "output_type": "stream",
     "text": [
      "--------------------------------------------- Result 105 ---------------------------------------------\n",
      "[[Refute (100%)]] --> [[[FAILED]]]\n",
      "\n",
      "Macrolides have no protective effect against myocardial infarction.\n",
      "\n",
      "\n"
     ]
    },
    {
     "name": "stderr",
     "output_type": "stream",
     "text": [
      "[Succeeded / Failed / Skipped / Total] 77 / 29 / 0 / 106:  90%|████████▉ | 106/118 [16:47:40<1:54:04, 570.38s/it]"
     ]
    },
    {
     "name": "stdout",
     "output_type": "stream",
     "text": [
      "--------------------------------------------- Result 106 ---------------------------------------------\n",
      "[[Refute (100%)]] --> [[Support (100%)]]\n",
      "\n",
      "Mice that [[lack]] Interferon-γ or its receptor exhibit high resistance to experimental autoimmune myocarditis.\n",
      "\n",
      "Mice that [[absence]] Interferon-γ or its receptor exhibit high resistance to experimental autoimmune myocarditis.\n",
      "\n",
      "\n"
     ]
    },
    {
     "name": "stderr",
     "output_type": "stream",
     "text": [
      "[Succeeded / Failed / Skipped / Total] 77 / 30 / 0 / 107:  91%|█████████ | 107/118 [16:48:36<1:43:41, 565.58s/it]"
     ]
    },
    {
     "name": "stdout",
     "output_type": "stream",
     "text": [
      "--------------------------------------------- Result 107 ---------------------------------------------\n",
      "[[Refute (100%)]] --> [[[FAILED]]]\n",
      "\n",
      "Mitochondria are uninvolved in apoptosis.\n",
      "\n",
      "\n"
     ]
    },
    {
     "name": "stderr",
     "output_type": "stream",
     "text": [
      "[Succeeded / Failed / Skipped / Total] 77 / 31 / 0 / 108:  92%|█████████▏| 108/118 [17:16:11<1:35:56, 575.66s/it]"
     ]
    },
    {
     "name": "stdout",
     "output_type": "stream",
     "text": [
      "--------------------------------------------- Result 108 ---------------------------------------------\n",
      "[[Refute (100%)]] --> [[[FAILED]]]\n",
      "\n",
      "New drugs for tuberculosis often do not penetrate the necrotic portion of a tuberculosis lesion in high concentrations.\n",
      "\n",
      "\n"
     ]
    },
    {
     "name": "stderr",
     "output_type": "stream",
     "text": [
      "[Succeeded / Failed / Skipped / Total] 78 / 31 / 0 / 109:  92%|█████████▏| 109/118 [17:20:48<1:25:56, 572.93s/it]"
     ]
    },
    {
     "name": "stdout",
     "output_type": "stream",
     "text": [
      "--------------------------------------------- Result 109 ---------------------------------------------\n",
      "[[Refute (100%)]] --> [[Support (100%)]]\n",
      "\n",
      "Non-invasive ventilation use should be [[decreased]] if there is inadequate response to conventional treatment.\n",
      "\n",
      "Non-invasive ventilation use should be [[fell]] if there is inadequate response to conventional treatment.\n",
      "\n",
      "\n"
     ]
    },
    {
     "name": "stderr",
     "output_type": "stream",
     "text": [
      "[Succeeded / Failed / Skipped / Total] 79 / 31 / 0 / 110:  93%|█████████▎| 110/118 [17:24:37<1:15:58, 569.80s/it]"
     ]
    },
    {
     "name": "stdout",
     "output_type": "stream",
     "text": [
      "--------------------------------------------- Result 110 ---------------------------------------------\n",
      "[[Refute (100%)]] --> [[Support (100%)]]\n",
      "\n",
      "Obesity is determined [[solely]] by environmental factors.\n",
      "\n",
      "Obesity is determined [[abundantly]] by environmental factors.\n",
      "\n",
      "\n"
     ]
    },
    {
     "name": "stderr",
     "output_type": "stream",
     "text": [
      "[Succeeded / Failed / Skipped / Total] 80 / 31 / 0 / 111:  94%|█████████▍| 111/118 [17:31:53<1:06:20, 568.59s/it]"
     ]
    },
    {
     "name": "stdout",
     "output_type": "stream",
     "text": [
      "--------------------------------------------- Result 111 ---------------------------------------------\n",
      "[[Refute (100%)]] --> [[Support (100%)]]\n",
      "\n",
      "[[Reduced]] responsiveness to interleukin-2 in regulatory T cells is associated with greater resistance to autoimmune diseases such as Type 1 Diabetes.\n",
      "\n",
      "[[Mitigation]] responsiveness to interleukin-2 in regulatory T cells is associated with greater resistance to autoimmune diseases such as Type 1 Diabetes.\n",
      "\n",
      "\n"
     ]
    },
    {
     "name": "stderr",
     "output_type": "stream",
     "text": [
      "[Succeeded / Failed / Skipped / Total] 81 / 31 / 0 / 112:  95%|█████████▍| 112/118 [17:35:20<56:32, 565.36s/it]  "
     ]
    },
    {
     "name": "stdout",
     "output_type": "stream",
     "text": [
      "--------------------------------------------- Result 112 ---------------------------------------------\n",
      "[[Refute (100%)]] --> [[Support (100%)]]\n",
      "\n",
      "Suboptimal [[nutrition]] is not predictive of chronic disease\n",
      "\n",
      "Suboptimal [[devouring]] is not predictive of chronic disease\n",
      "\n",
      "\n"
     ]
    },
    {
     "name": "stderr",
     "output_type": "stream",
     "text": [
      "[Succeeded / Failed / Skipped / Total] 81 / 32 / 0 / 113:  96%|█████████▌| 113/118 [17:47:46<47:14, 566.96s/it]"
     ]
    },
    {
     "name": "stdout",
     "output_type": "stream",
     "text": [
      "--------------------------------------------- Result 113 ---------------------------------------------\n",
      "[[Refute (100%)]] --> [[[FAILED]]]\n",
      "\n",
      "The risk of male prisoners harming themselves is ten times that of female prisoners.\n",
      "\n",
      "\n"
     ]
    },
    {
     "name": "stderr",
     "output_type": "stream",
     "text": [
      "[Succeeded / Failed / Skipped / Total] 82 / 32 / 0 / 114:  97%|█████████▋| 114/118 [17:49:58<37:32, 563.14s/it]"
     ]
    },
    {
     "name": "stdout",
     "output_type": "stream",
     "text": [
      "--------------------------------------------- Result 114 ---------------------------------------------\n",
      "[[Refute (100%)]] --> [[Support (100%)]]\n",
      "\n",
      "There is an [[inverse]] relationship between hip fractures and statin use.\n",
      "\n",
      "There is an [[invest]] relationship between hip fractures and statin use.\n",
      "\n",
      "\n"
     ]
    },
    {
     "name": "stderr",
     "output_type": "stream",
     "text": [
      "[Succeeded / Failed / Skipped / Total] 83 / 32 / 0 / 115:  97%|█████████▋| 115/118 [18:00:04<28:10, 563.52s/it]"
     ]
    },
    {
     "name": "stdout",
     "output_type": "stream",
     "text": [
      "--------------------------------------------- Result 115 ---------------------------------------------\n",
      "[[Refute (100%)]] --> [[Support (100%)]]\n",
      "\n",
      "Thigh-length graduated compression stockings (GCS) did not [[reduce]] deep vein thrombosis in patients admitted to hospital who are immobile because of acute stroke.\n",
      "\n",
      "Thigh-length graduated compression stockings (GCS) did not [[decrease]] deep vein thrombosis in patients admitted to hospital who are immobile because of acute stroke.\n",
      "\n",
      "\n"
     ]
    },
    {
     "name": "stderr",
     "output_type": "stream",
     "text": [
      "[Succeeded / Failed / Skipped / Total] 83 / 33 / 0 / 116:  98%|█████████▊| 116/118 [18:07:24<18:44, 562.46s/it]"
     ]
    },
    {
     "name": "stdout",
     "output_type": "stream",
     "text": [
      "--------------------------------------------- Result 116 ---------------------------------------------\n",
      "[[Refute (100%)]] --> [[[FAILED]]]\n",
      "\n",
      "Tirasemtiv has no effect on fast-twitch muscle.\n",
      "\n",
      "\n"
     ]
    },
    {
     "name": "stderr",
     "output_type": "stream",
     "text": [
      "[Succeeded / Failed / Skipped / Total] 84 / 33 / 0 / 117:  99%|█████████▉| 117/118 [18:11:28<09:19, 559.73s/it]"
     ]
    },
    {
     "name": "stdout",
     "output_type": "stream",
     "text": [
      "--------------------------------------------- Result 117 ---------------------------------------------\n",
      "[[Refute (100%)]] --> [[Support (100%)]]\n",
      "\n",
      "Transplanted human glial progenitor cells are [[incapable]] of forming a neural network with host animals' neurons.\n",
      "\n",
      "Transplanted human glial progenitor cells are [[vulnerable]] of forming a neural network with host animals' neurons.\n",
      "\n",
      "\n"
     ]
    },
    {
     "name": "stderr",
     "output_type": "stream",
     "text": [
      "[Succeeded / Failed / Skipped / Total] 85 / 33 / 0 / 118: 100%|██████████| 118/118 [18:15:16<00:00, 556.92s/it]"
     ]
    },
    {
     "name": "stdout",
     "output_type": "stream",
     "text": [
      "--------------------------------------------- Result 118 ---------------------------------------------\n",
      "[[Refute (100%)]] --> [[Support (100%)]]\n",
      "\n",
      "Ultrasound guidance significantly [[raises]] the number of traumatic procedures when attempting needle insertion.\n",
      "\n",
      "Ultrasound guidance significantly [[begs]] the number of traumatic procedures when attempting needle insertion.\n",
      "\n",
      "\n",
      "\n",
      "+-------------------------------+--------+\n",
      "| Attack Results                |        |\n",
      "+-------------------------------+--------+\n",
      "| Number of successful attacks: | 85     |\n",
      "| Number of failed attacks:     | 33     |\n",
      "| Number of skipped attacks:    | 0      |\n",
      "| Original accuracy:            | 100.0% |\n",
      "| Accuracy under attack:        | 27.97% |\n",
      "| Attack success rate:          | 72.03% |\n",
      "| Average perturbed word %:     | 10.18% |\n",
      "| Average num. words per input: | 11.86  |\n",
      "| Avg num queries:              | 100.85 |\n",
      "+-------------------------------+--------+\n"
     ]
    },
    {
     "name": "stderr",
     "output_type": "stream",
     "text": [
      "\n"
     ]
    }
   ],
   "source": [
    "class_model = PARAPHRASE_PROJECT_SETTINGS['config_scifact']['rationale_model_name']\n",
    "#attack_args_fooler = AttackArgs(num_examples=-1)\n",
    "attack_args_fooler = AttackArgs(num_examples=-1, log_to_csv=\"../../logs/log_textattack_results_textfooler_refute.csv\", csv_coloring_style=\"html\")\n",
    "model_wrapper_txt_fooler = ScifactModelWrapper(class_model)\n",
    "attack_txt_fooler = TextFoolerJin2019.build(model_wrapper_txt_fooler)\n",
    "attacker_txt_fooler = Attacker(attack_txt_fooler, ds_claim_label, attack_args_fooler)\n",
    "attack_results_txt_fooler = attacker_txt_fooler.attack_dataset()"
   ]
  },
  {
   "cell_type": "code",
   "execution_count": 40,
   "id": "5d298123",
   "metadata": {
    "ExecuteTime": {
     "end_time": "2022-01-24T18:48:07.108417Z",
     "start_time": "2022-01-24T18:48:07.032062Z"
    }
   },
   "outputs": [
    {
     "name": "stdout",
     "output_type": "stream",
     "text": [
      "\n",
      "\n",
      "\u001b[91mRefute (100%)\u001b[0m --> \u001b[92mSupport (100%)\u001b[0m\n",
      "\n",
      "76-85% of people with severe mental disorder \u001b[91mreceive\u001b[0m no treatment in low and middle income countries.\n",
      "\n",
      "76-85% of people with severe mental disorder \u001b[92mreceiving\u001b[0m no treatment in low and middle income countries.\n",
      "\n",
      "\n",
      "\u001b[91mRefute (100%)\u001b[0m --> \u001b[92mSupport (100%)\u001b[0m\n",
      "\n",
      "\u001b[91mART\u001b[0m has no effect on the infectiveness of HIV-positive people.\n",
      "\n",
      "\u001b[92mKIND\u001b[0m has no effect on the infectiveness of HIV-positive people.\n",
      "\n",
      "\n",
      "\u001b[91mRefute (100%)\u001b[0m --> \u001b[91m[FAILED]\u001b[0m\n",
      "\n",
      "Ambulatory blood pressure monitoring is inaccurate at diagnosing hypertension.\n",
      "\n",
      "\n",
      "\u001b[91mRefute (100%)\u001b[0m --> \u001b[92mSupport (100%)\u001b[0m\n",
      "\n",
      "\u001b[91mAntidepressants\u001b[0m increase the severity of migraines.\n",
      "\n",
      "\u001b[92mAmbien\u001b[0m increase the severity of migraines.\n",
      "\n",
      "\n",
      "\u001b[91mRefute (100%)\u001b[0m --> \u001b[92mSupport (100%)\u001b[0m\n",
      "\n",
      "Antimicrobial agents are less effective due to the \u001b[91mpressure\u001b[0m of antimicrobial usage.\n",
      "\n",
      "Antimicrobial agents are less effective due to the \u001b[92minsist\u001b[0m of antimicrobial usage.\n",
      "\n",
      "\n",
      "\u001b[91mRefute (100%)\u001b[0m --> \u001b[92mSupport (100%)\u001b[0m\n",
      "\n",
      "Antimicrobial \u001b[91magents\u001b[0m are more effective due to the pressure of antimicrobial usage.\n",
      "\n",
      "Antimicrobial \u001b[92mretainers\u001b[0m are more effective due to the pressure of antimicrobial usage.\n",
      "\n",
      "\n",
      "\u001b[91mRefute (100%)\u001b[0m --> \u001b[92mSupport (100%)\u001b[0m\n",
      "\n",
      "Antiretroviral therapy \u001b[91mincreases\u001b[0m rates of tuberculosis across a broad range of CD4 strata.\n",
      "\n",
      "Antiretroviral therapy \u001b[92maugment\u001b[0m rates of tuberculosis across a broad range of CD4 strata.\n",
      "\n",
      "\n",
      "\u001b[91mRefute (100%)\u001b[0m --> \u001b[92mSupport (100%)\u001b[0m\n",
      "\n",
      "Autophagy deficiency in the liver \u001b[91mincreases\u001b[0m vulnerability to insulin resistance.\n",
      "\n",
      "Autophagy deficiency in the liver \u001b[92mgrowing\u001b[0m vulnerability to insulin resistance.\n",
      "\n",
      "\n",
      "\u001b[91mRefute (100%)\u001b[0m --> \u001b[92mSupport (100%)\u001b[0m\n",
      "\n",
      "BCL-2 \u001b[91mactivation\u001b[0m antagonizes the apoptotic effects of c-Myc.\n",
      "\n",
      "BCL-2 \u001b[92mactivated\u001b[0m antagonizes the apoptotic effects of c-Myc.\n",
      "\n",
      "\n",
      "\u001b[91mRefute (100%)\u001b[0m --> \u001b[92mSupport (100%)\u001b[0m\n",
      "\n",
      "BCL-2 promotes the apoptotic \u001b[91meffects\u001b[0m of c-Myc.\n",
      "\n",
      "BCL-2 promotes the apoptotic \u001b[92mafflict\u001b[0m of c-Myc.\n",
      "\n",
      "\n",
      "\u001b[91mRefute (100%)\u001b[0m --> \u001b[92mSupport (100%)\u001b[0m\n",
      "\n",
      "Bariatric surgery \u001b[91mincreases\u001b[0m rates of colorectal cancer.\n",
      "\n",
      "Bariatric surgery \u001b[92maugmentation\u001b[0m rates of colorectal cancer.\n",
      "\n",
      "\n",
      "\u001b[91mRefute (100%)\u001b[0m --> \u001b[92mSupport (100%)\u001b[0m\n",
      "\n",
      "Birth-weight is negatively \u001b[91massociated\u001b[0m with breast cancer.\n",
      "\n",
      "Birth-weight is negatively \u001b[92maccompanying\u001b[0m with breast cancer.\n",
      "\n",
      "\n",
      "\u001b[91mRefute (100%)\u001b[0m --> \u001b[92mSupport (100%)\u001b[0m\n",
      "\n",
      "Bone marrow cells don't \u001b[91mcontribute\u001b[0m to adult macrophage compartments.\n",
      "\n",
      "Bone marrow cells don't \u001b[92mhelp\u001b[0m to adult macrophage compartments.\n",
      "\n",
      "\n",
      "\u001b[91mRefute (100%)\u001b[0m --> \u001b[92mSupport (100%)\u001b[0m\n",
      "\n",
      "Chenodeoxycholic acid treatment \u001b[91mdecreases\u001b[0m brown adipose tissue activity.\n",
      "\n",
      "Chenodeoxycholic acid treatment \u001b[92mfallen\u001b[0m brown adipose tissue activity.\n",
      "\n",
      "\n",
      "\u001b[91mRefute (100%)\u001b[0m --> \u001b[92mSupport (100%)\u001b[0m\n",
      "\n",
      "Chlamydia trachomatis is most prevalent in the \u001b[91mUK\u001b[0m among sexually-experienced individuals aged 16 to 24.\n",
      "\n",
      "Chlamydia trachomatis is most prevalent in the \u001b[92mANGLIA\u001b[0m among sexually-experienced individuals aged 16 to 24.\n",
      "\n",
      "\n",
      "\u001b[91mRefute (100%)\u001b[0m --> \u001b[92mSupport (100%)\u001b[0m\n",
      "\n",
      "Cognitive behavioral therapy is an \u001b[91mineffective\u001b[0m treatment for insomnia\n",
      "\n",
      "Cognitive behavioral therapy is an \u001b[92minefficient\u001b[0m treatment for insomnia\n",
      "\n",
      "\n",
      "\u001b[91mRefute (100%)\u001b[0m --> \u001b[91m[FAILED]\u001b[0m\n",
      "\n",
      "Commelina yellow mottle virus' (ComYMV) genome consists of 2140 baise pairs.\n",
      "\n",
      "\n",
      "\u001b[91mRefute (100%)\u001b[0m --> \u001b[91m[FAILED]\u001b[0m\n",
      "\n",
      "Consumption of whole fruits increases the risk of type 2 diabetes.\n",
      "\n",
      "\n",
      "\u001b[91mRefute (100%)\u001b[0m --> \u001b[92mSupport (100%)\u001b[0m\n",
      "\n",
      "\u001b[91mCost\u001b[0m effectiveness evaluations based on cRCT data lack external validity.\n",
      "\n",
      "\u001b[92mCosting\u001b[0m effectiveness evaluations based on cRCT data lack external validity.\n",
      "\n",
      "\n",
      "\u001b[91mRefute (100%)\u001b[0m --> \u001b[92mSupport (100%)\u001b[0m\n",
      "\n",
      "DUSP4 \u001b[91mdecreases\u001b[0m apoptosis.\n",
      "\n",
      "DUSP4 \u001b[92mabated\u001b[0m apoptosis.\n",
      "\n",
      "\n",
      "\u001b[91mRefute (100%)\u001b[0m --> \u001b[91m[FAILED]\u001b[0m\n",
      "\n",
      "Deltex has no known interactions with eIF3f.\n",
      "\n",
      "\n",
      "\u001b[91mRefute (100%)\u001b[0m --> \u001b[92mSupport (100%)\u001b[0m\n",
      "\n",
      "Dexamethasone \u001b[91mincreases\u001b[0m risk of postoperative bleeding.\n",
      "\n",
      "Dexamethasone \u001b[92maugmentation\u001b[0m risk of postoperative bleeding.\n",
      "\n",
      "\n",
      "\u001b[91mRefute (100%)\u001b[0m --> \u001b[91m[FAILED]\u001b[0m\n",
      "\n",
      "Diabetes remission occurs more in people treated with conventional therapy than in people treated with laparoscopic adjustable gastric banding surgery.\n",
      "\n",
      "\n",
      "\u001b[91mRefute (100%)\u001b[0m --> \u001b[92mSupport (100%)\u001b[0m\n",
      "\n",
      "Diabetic patients with acute coronary syndrome experience \u001b[91mdecreased\u001b[0m short-term and long-term risk for bleeding events.\n",
      "\n",
      "Diabetic patients with acute coronary syndrome experience \u001b[92mdwindling\u001b[0m short-term and long-term risk for bleeding events.\n",
      "\n",
      "\n",
      "\u001b[91mRefute (100%)\u001b[0m --> \u001b[91m[FAILED]\u001b[0m\n",
      "\n",
      "Diminished ovarian reserve is a reliable indicator of infertility in a non-infertile population.\n",
      "\n",
      "\n",
      "\u001b[91mRefute (100%)\u001b[0m --> \u001b[92mSupport (100%)\u001b[0m\n",
      "\n",
      "Early patent ductus ateriosus (PDA) \u001b[91mscreening\u001b[0m increases in-hospital mortality.\n",
      "\n",
      "Early patent ductus ateriosus (PDA) \u001b[92maudited\u001b[0m increases in-hospital mortality.\n",
      "\n",
      "\n",
      "\u001b[91mRefute (100%)\u001b[0m --> \u001b[92mSupport (100%)\u001b[0m\n",
      "\n",
      "\u001b[91mEnhanced\u001b[0m early production of inflammatory chemokines damages viral control in the lung.\n",
      "\n",
      "\u001b[92mGrew\u001b[0m early production of inflammatory chemokines damages viral control in the lung.\n",
      "\n",
      "\n",
      "\u001b[91mRefute (100%)\u001b[0m --> \u001b[92mSupport (100%)\u001b[0m\n",
      "\n",
      "\u001b[91mExercise\u001b[0m increases cancer mortality rates among Chinese citizens.\n",
      "\n",
      "\u001b[92mDrill\u001b[0m increases cancer mortality rates among Chinese citizens.\n",
      "\n",
      "\n",
      "\u001b[91mRefute (100%)\u001b[0m --> \u001b[92mSupport (100%)\u001b[0m\n",
      "\n",
      "Exercise reduces cancer \u001b[91mmortality\u001b[0m rates among Chinese citizens.\n",
      "\n",
      "Exercise reduces cancer \u001b[92massassinate\u001b[0m rates among Chinese citizens.\n",
      "\n",
      "\n",
      "\u001b[91mRefute (100%)\u001b[0m --> \u001b[92mSupport (100%)\u001b[0m\n",
      "\n",
      "Exposure to fine particulate air pollution is \u001b[91munrelated\u001b[0m to anxiety prevalence.\n",
      "\n",
      "Exposure to fine particulate air pollution is \u001b[92moffline\u001b[0m to anxiety prevalence.\n",
      "\n",
      "\n",
      "\u001b[91mRefute (100%)\u001b[0m --> \u001b[91m[FAILED]\u001b[0m\n",
      "\n",
      "Female carriers of the Apolipoprotein E4 (APOE4) allele have decreased risk for dementia.\n",
      "\n",
      "\n",
      "\u001b[91mRefute (100%)\u001b[0m --> \u001b[91m[FAILED]\u001b[0m\n",
      "\n",
      "Foxk2 regulates autophagy genes in muscle cells and fibroblast cells.\n",
      "\n",
      "\n",
      "\u001b[91mRefute (100%)\u001b[0m --> \u001b[91m[FAILED]\u001b[0m\n",
      "\n",
      "Gastric infection with Helicobacter pylori decreases risk of gastric cancer in humans.\n",
      "\n",
      "\n",
      "\u001b[91mRefute (100%)\u001b[0m --> \u001b[92mSupport (100%)\u001b[0m\n",
      "\n",
      "\u001b[91mGeneral\u001b[0m exercise therapy is more effective than scapular stabilizer exercises in reducing pain and improving function of the shoulder.\n",
      "\n",
      "\u001b[92mGenerals\u001b[0m exercise therapy is more effective than scapular stabilizer exercises in reducing pain and improving function of the shoulder.\n",
      "\n",
      "\n",
      "\u001b[91mRefute (100%)\u001b[0m --> \u001b[91m[FAILED]\u001b[0m\n",
      "\n",
      "Gpr124 increases BBB breakdown in mouse models of ischemic stroke.\n",
      "\n",
      "\n",
      "\u001b[91mRefute (100%)\u001b[0m --> \u001b[92mSupport (100%)\u001b[0m\n",
      "\n",
      "HbA1c consistently overestimates glycemic control in black \u001b[91mindividuals\u001b[0m with Sickle cell trait (SCT).\n",
      "\n",
      "HbA1c consistently overestimates glycemic control in black \u001b[92mbeings\u001b[0m with Sickle cell trait (SCT).\n",
      "\n",
      "\n",
      "\u001b[91mRefute (100%)\u001b[0m --> \u001b[91m[FAILED]\u001b[0m\n",
      "\n",
      "Incidence of 10/66 dementia is lower than the incidence of DSM-IV dementia.\n",
      "\n",
      "\n",
      "\u001b[91mRefute (100%)\u001b[0m --> \u001b[92mSupport (100%)\u001b[0m\n",
      "\n",
      "Including \u001b[91mpharmacists\u001b[0m in rounding teams does not alter the incidence of adverse drug events (ADEs).\n",
      "\n",
      "Including \u001b[92mpharmacology\u001b[0m in rounding teams does not alter the incidence of adverse drug events (ADEs).\n",
      "\n",
      "\n",
      "\u001b[91mRefute (100%)\u001b[0m --> \u001b[92mSupport (100%)\u001b[0m\n",
      "\n",
      "Inhibiting focal adhesion \u001b[91mformation\u001b[0m increases the rate at which cells convert mechanical strain into inflammation and fibrosis.\n",
      "\n",
      "Inhibiting focal adhesion \u001b[92mformed\u001b[0m increases the rate at which cells convert mechanical strain into inflammation and fibrosis.\n",
      "\n",
      "\n",
      "\u001b[91mRefute (100%)\u001b[0m --> \u001b[92mSupport (100%)\u001b[0m\n",
      "\n",
      "Integrated care is \u001b[91mineffective\u001b[0m at tackling multiple comorbidities.\n",
      "\n",
      "Integrated care is \u001b[92mincompetent\u001b[0m at tackling multiple comorbidities.\n",
      "\n",
      "\n",
      "\u001b[91mRefute (100%)\u001b[0m --> \u001b[92mSupport (100%)\u001b[0m\n",
      "\n",
      "MafA phosphorylation \u001b[91menhances\u001b[0m its ubiquitination.\n",
      "\n",
      "MafA phosphorylation \u001b[92maugment\u001b[0m its ubiquitination.\n",
      "\n",
      "\n",
      "\u001b[91mRefute (100%)\u001b[0m --> \u001b[91m[FAILED]\u001b[0m\n",
      "\n",
      "Major vault protein (MVP) leads to more aggressive tumors by regulating the sorting of tumor suppressive miR-193a into extracellular vesicles (EVs).\n",
      "\n",
      "\n",
      "\u001b[91mRefute (100%)\u001b[0m --> \u001b[92mSupport (100%)\u001b[0m\n",
      "\n",
      "Medications to treat obesity do not have \u001b[91mside\u001b[0m effects.\n",
      "\n",
      "Medications to treat obesity do not have \u001b[92msideways\u001b[0m effects.\n",
      "\n",
      "\n",
      "\u001b[91mRefute (100%)\u001b[0m --> \u001b[92mSupport (100%)\u001b[0m\n",
      "\n",
      "Mice \u001b[91mlacking\u001b[0m Sirt1 in Sf1-expressing neurons are immune to diet-induced obesity and insulin resistance.\n",
      "\n",
      "Mice \u001b[92mdeficiency\u001b[0m Sirt1 in Sf1-expressing neurons are immune to diet-induced obesity and insulin resistance.\n",
      "\n",
      "\n",
      "\u001b[91mRefute (100%)\u001b[0m --> \u001b[92mSupport (100%)\u001b[0m\n",
      "\n",
      "Mitochondria play a \u001b[91mtrivial\u001b[0m role in calcium homeostasis.\n",
      "\n",
      "Mitochondria play a \u001b[92mpatti\u001b[0m role in calcium homeostasis.\n",
      "\n",
      "\n",
      "\u001b[91mRefute (100%)\u001b[0m --> \u001b[92mSupport (100%)\u001b[0m\n",
      "\n",
      "Monoclonal antibody \u001b[91mtargeting\u001b[0m of N-cadherin encourages metastasis.\n",
      "\n",
      "Monoclonal antibody \u001b[92mconcentrates\u001b[0m of N-cadherin encourages metastasis.\n",
      "\n",
      "\n",
      "\u001b[91mRefute (100%)\u001b[0m --> \u001b[92mSupport (100%)\u001b[0m\n",
      "\n",
      "Natriuretic peptides \u001b[91mincrease\u001b[0m susceptibility to diabetes.\n",
      "\n",
      "Natriuretic peptides \u001b[92mamplify\u001b[0m susceptibility to diabetes.\n",
      "\n",
      "\n",
      "\u001b[91mRefute (100%)\u001b[0m --> \u001b[91m[FAILED]\u001b[0m\n",
      "\n",
      "Nonhypertensive people who are 55 years old have a 90% chance of developing hypertension during their lifetime.\n",
      "\n",
      "\n",
      "\u001b[91mRefute (100%)\u001b[0m --> \u001b[91m[FAILED]\u001b[0m\n",
      "\n",
      "Noninvasive positive pressure ventilation is not predictive of acute respiratory failure after solid organ transplantation.\n",
      "\n",
      "\n",
      "\u001b[91mRefute (100%)\u001b[0m --> \u001b[92mSupport (100%)\u001b[0m\n",
      "\n",
      "Nonsteroidal antinflammatory drugs are \u001b[91mineffective\u001b[0m as cancer treatments.\n",
      "\n",
      "Nonsteroidal antinflammatory drugs are \u001b[92mdispensable\u001b[0m as cancer treatments.\n",
      "\n",
      "\n",
      "\u001b[91mRefute (100%)\u001b[0m --> \u001b[91m[FAILED]\u001b[0m\n",
      "\n",
      "Patients in stable partnerships progress from HIV to death at the same rate as patients not in partnerships.\n",
      "\n",
      "\n",
      "\u001b[91mRefute (100%)\u001b[0m --> \u001b[92mSupport (100%)\u001b[0m\n",
      "\n",
      "Patients with common epithelial cancers are \u001b[91mless\u001b[0m likely to have an emergency event as their first hospital admission if they live in resource-deprived areas.\n",
      "\n",
      "Patients with common epithelial cancers are \u001b[92mslightest\u001b[0m likely to have an emergency event as their first hospital admission if they live in resource-deprived areas.\n",
      "\n",
      "\n",
      "\u001b[91mRefute (100%)\u001b[0m --> \u001b[91m[FAILED]\u001b[0m\n",
      "\n",
      "Pharmacist attendance at ward rounds increases adverse events in wards.\n",
      "\n",
      "\n",
      "\u001b[91mRefute (100%)\u001b[0m --> \u001b[92mSupport (100%)\u001b[0m\n",
      "\n",
      "Physical activity does not \u001b[91mimprove\u001b[0m cognitive function in individuals with Alzheimers.\n",
      "\n",
      "Physical activity does not \u001b[92mamplify\u001b[0m cognitive function in individuals with Alzheimers.\n",
      "\n",
      "\n",
      "\u001b[91mRefute (100%)\u001b[0m --> \u001b[92mSupport (100%)\u001b[0m\n",
      "\n",
      "Pioglitazone use is not associated with an increased risk of prostate \u001b[91mcancer\u001b[0m.\n",
      "\n",
      "Pioglitazone use is not associated with an increased risk of prostate \u001b[92mmetastasis\u001b[0m.\n",
      "\n",
      "\n",
      "\u001b[91mRefute (100%)\u001b[0m --> \u001b[91m[FAILED]\u001b[0m\n",
      "\n",
      "Primary cervical cancer screening with HPV detection has lower longitudinal sensitivity than conventional cytology to detect cervical intraepithelial neoplasia grade 2.\n",
      "\n",
      "\n",
      "\u001b[91mRefute (100%)\u001b[0m --> \u001b[91m[FAILED]\u001b[0m\n",
      "\n",
      "RANK-RANKL pathway signalling has no known association with development of Aire-expressing medullary thymic epithelial cells.\n",
      "\n",
      "\n",
      "\u001b[91mRefute (100%)\u001b[0m --> \u001b[92mSupport (100%)\u001b[0m\n",
      "\n",
      "Risedronate \u001b[91mincreases\u001b[0m risk of vertebral and non-vertebral fractures.\n",
      "\n",
      "Risedronate \u001b[92mrisen\u001b[0m risk of vertebral and non-vertebral fractures.\n",
      "\n",
      "\n",
      "\u001b[91mRefute (100%)\u001b[0m --> \u001b[92mSupport (100%)\u001b[0m\n",
      "\n",
      "Risk-adjusted mortality \u001b[91mrates\u001b[0m are similar in teaching and non-teaching hospitals.\n",
      "\n",
      "Risk-adjusted mortality \u001b[92mcadence\u001b[0m are similar in teaching and non-teaching hospitals.\n",
      "\n",
      "\n",
      "\u001b[91mRefute (100%)\u001b[0m --> \u001b[92mSupport (100%)\u001b[0m\n",
      "\n",
      "Sepsis related mortality has \u001b[91mremained\u001b[0m stable between 2009-2014.\n",
      "\n",
      "Sepsis related mortality has \u001b[92mfollows\u001b[0m stable between 2009-2014.\n",
      "\n",
      "\n",
      "\u001b[91mRefute (100%)\u001b[0m --> \u001b[92mSupport (100%)\u001b[0m\n",
      "\n",
      "Sepsis related \u001b[91mmortality\u001b[0m has risen from 2009 to 2014.\n",
      "\n",
      "Sepsis related \u001b[92massassinate\u001b[0m has risen from 2009 to 2014.\n",
      "\n",
      "\n",
      "\u001b[91mRefute (100%)\u001b[0m --> \u001b[92mSupport (100%)\u001b[0m\n",
      "\n",
      "Sildenafil \u001b[91mworsens\u001b[0m erectile function in men who experience sexual dysfunction as a result of the use of SSRI antidepressants.\n",
      "\n",
      "Sildenafil \u001b[92mdeepening\u001b[0m erectile function in men who experience sexual dysfunction as a result of the use of SSRI antidepressants.\n",
      "\n",
      "\n",
      "\u001b[91mRefute (100%)\u001b[0m --> \u001b[91m[FAILED]\u001b[0m\n",
      "\n",
      "Stroke patients with prior use of direct oral anticoagulants have a higher risk of in-hospital mortality than stroke patients with prior use of warfarin.\n",
      "\n",
      "\n",
      "\u001b[91mRefute (100%)\u001b[0m --> \u001b[92mSupport (100%)\u001b[0m\n",
      "\n",
      "\u001b[91mStudents\u001b[0m who perform poorly in the early years of medical school are less likely to commit professional misconduct later in their careers.\n",
      "\n",
      "\u001b[92mUndergraduates\u001b[0m who perform poorly in the early years of medical school are less likely to commit professional misconduct later in their careers.\n",
      "\n",
      "\n",
      "\u001b[91mRefute (100%)\u001b[0m --> \u001b[91m[FAILED]\u001b[0m\n",
      "\n",
      "Sympathetic nerve activity is reduced throughout normal pregnancy.\n",
      "\n",
      "\n",
      "\u001b[91mRefute (100%)\u001b[0m --> \u001b[92mSupport (100%)\u001b[0m\n",
      "\n",
      "Systemic immunosuppressive (IS) therapy increases the chance of cancer mortality in patients with \u001b[91minflammatory\u001b[0m eye disease (IED)\n",
      "\n",
      "Systemic immunosuppressive (IS) therapy increases the chance of cancer mortality in patients with \u001b[92mmolotov\u001b[0m eye disease (IED)\n",
      "\n",
      "\n",
      "\u001b[91mRefute (100%)\u001b[0m --> \u001b[92mSupport (100%)\u001b[0m\n",
      "\n",
      "The DESMOND program demonstrates no \u001b[91msignificant\u001b[0m impact on lifestyles outcomes.\n",
      "\n",
      "The DESMOND program demonstrates no \u001b[92mcolossal\u001b[0m impact on lifestyles outcomes.\n",
      "\n",
      "\n",
      "\u001b[91mRefute (100%)\u001b[0m --> \u001b[92mSupport (100%)\u001b[0m\n",
      "\n",
      "The DESMOND \u001b[91mprogram\u001b[0m demonstrates no significant impact on weight loss.\n",
      "\n",
      "The DESMOND \u001b[92memission\u001b[0m demonstrates no significant impact on weight loss.\n",
      "\n",
      "\n",
      "\u001b[91mRefute (100%)\u001b[0m --> \u001b[92mSupport (100%)\u001b[0m\n",
      "\n",
      "The \u001b[91mcombination\u001b[0m of physical examinations with C-reactive protein values do not improve the accuracy of radiographic verified pneumonia predictions.\n",
      "\n",
      "The \u001b[92mmerges\u001b[0m of physical examinations with C-reactive protein values do not improve the accuracy of radiographic verified pneumonia predictions.\n",
      "\n",
      "\n",
      "\u001b[91mRefute (100%)\u001b[0m --> \u001b[92mSupport (100%)\u001b[0m\n",
      "\n",
      "The mean suicide rate in women is \u001b[91mlower\u001b[0m after miscarriage than live birth.\n",
      "\n",
      "The mean suicide rate in women is \u001b[92mbaja\u001b[0m after miscarriage than live birth.\n",
      "\n",
      "\n",
      "\u001b[91mRefute (100%)\u001b[0m --> \u001b[92mSupport (100%)\u001b[0m\n",
      "\n",
      "The minor \u001b[91mG\u001b[0m allele of FOXO3 is related to less severe symptoms of Crohn's Disease.\n",
      "\n",
      "The minor \u001b[92mgrammes\u001b[0m allele of FOXO3 is related to less severe symptoms of Crohn's Disease.\n",
      "\n",
      "\n",
      "\u001b[91mRefute (100%)\u001b[0m --> \u001b[92mSupport (100%)\u001b[0m\n",
      "\n",
      "There is no increased \u001b[91mrisk\u001b[0m of hypospadias with clomiphene.\n",
      "\n",
      "There is no increased \u001b[92mapt\u001b[0m of hypospadias with clomiphene.\n",
      "\n",
      "\n",
      "\u001b[91mRefute (100%)\u001b[0m --> \u001b[91m[FAILED]\u001b[0m\n",
      "\n",
      "There is no known interaction between Pioneer factor OCT3/4 and major chromatin remodeling factors.\n",
      "\n",
      "\n",
      "\u001b[91mRefute (100%)\u001b[0m --> \u001b[92mSupport (100%)\u001b[0m\n",
      "\n",
      "There is no \u001b[91mrelation\u001b[0m between Erythromycin use and hypertrophic pyloric stenosis.\n",
      "\n",
      "There is no \u001b[92mconcerning\u001b[0m between Erythromycin use and hypertrophic pyloric stenosis.\n",
      "\n",
      "\n",
      "\u001b[91mRefute (100%)\u001b[0m --> \u001b[92mSupport (100%)\u001b[0m\n",
      "\n",
      "There was an \u001b[91mestimated\u001b[0m 30 million cases of pneumonia in young children worldwide in 2010.\n",
      "\n",
      "There was an \u001b[92mevaluation\u001b[0m 30 million cases of pneumonia in young children worldwide in 2010.\n",
      "\n",
      "\n",
      "\u001b[91mRefute (100%)\u001b[0m --> \u001b[91m[FAILED]\u001b[0m\n",
      "\n",
      "Tuberculosis incidence occurs at higher rates in more sparsely populated areas in the UK.\n",
      "\n",
      "\n",
      "\u001b[91mRefute (100%)\u001b[0m --> \u001b[92mSupport (100%)\u001b[0m\n",
      "\n",
      "Upon viral challenge, influenza-specific memory CD4+ T cells greatly enhance the early production of \u001b[91minflammatory\u001b[0m chemokines in the lung.\n",
      "\n",
      "Upon viral challenge, influenza-specific memory CD4+ T cells greatly enhance the early production of \u001b[92mincite\u001b[0m chemokines in the lung.\n",
      "\n",
      "\n",
      "\u001b[91mRefute (100%)\u001b[0m --> \u001b[92mSupport (100%)\u001b[0m\n",
      "\n",
      "Whole brain radiotherapy \u001b[91mincreases\u001b[0m the occurrence of new brain metastases.\n",
      "\n",
      "Whole brain radiotherapy \u001b[92maugmentation\u001b[0m the occurrence of new brain metastases.\n",
      "\n",
      "\n",
      "\u001b[91mRefute (100%)\u001b[0m --> \u001b[92mSupport (100%)\u001b[0m\n",
      "\n",
      "Women with a \u001b[91mlower\u001b[0m birth weight are more likely to develop breast cancer later in life.\n",
      "\n",
      "Women with a \u001b[92mweakest\u001b[0m birth weight are more likely to develop breast cancer later in life.\n",
      "\n",
      "\n",
      "\u001b[91mRefute (100%)\u001b[0m --> \u001b[92mSupport (100%)\u001b[0m\n",
      "\n",
      "siRNA knockdown of A20 \u001b[91maccelerates\u001b[0m tumor progression in an in vivo murine xenograft model.\n",
      "\n",
      "siRNA knockdown of A20 \u001b[92mrapids\u001b[0m tumor progression in an in vivo murine xenograft model.\n",
      "\n",
      "\n",
      "\u001b[91mRefute (100%)\u001b[0m --> \u001b[92mSupport (100%)\u001b[0m\n",
      "\n",
      "A \u001b[91mtotal\u001b[0m of 1,000 people in the UK are asymptomatic carriers of vCJD infection.\n",
      "\n",
      "A \u001b[92mcomprehensive\u001b[0m of 1,000 people in the UK are asymptomatic carriers of vCJD infection.\n",
      "\n",
      "\n",
      "\u001b[91mRefute (100%)\u001b[0m --> \u001b[92mSupport (100%)\u001b[0m\n",
      "\n",
      "ALDH1 \u001b[91mexpression\u001b[0m is associated with better breast cancer outcomes.\n",
      "\n",
      "ALDH1 \u001b[92madjectives\u001b[0m is associated with better breast cancer outcomes.\n",
      "\n",
      "\n",
      "\u001b[91mRefute (100%)\u001b[0m --> \u001b[92mSupport (100%)\u001b[0m\n",
      "\n",
      "AMP-activated protein kinase (AMPK) \u001b[91mactivation\u001b[0m increases inflammation-related fibrosis in the lungs.\n",
      "\n",
      "AMP-activated protein kinase (AMPK) \u001b[92mauthorizes\u001b[0m increases inflammation-related fibrosis in the lungs.\n",
      "\n",
      "\n",
      "\u001b[91mRefute (100%)\u001b[0m --> \u001b[92mSupport (100%)\u001b[0m\n",
      "\n",
      "Activation of PPM1D \u001b[91msuppresses\u001b[0m p53 function.\n",
      "\n",
      "Activation of PPM1D \u001b[92mdeletion\u001b[0m p53 function.\n",
      "\n",
      "\n",
      "\u001b[91mRefute (100%)\u001b[0m --> \u001b[91m[FAILED]\u001b[0m\n",
      "\n",
      "All hematopoietic stem cells segregate their chromosomes randomly.\n",
      "\n",
      "\n",
      "\u001b[91mRefute (100%)\u001b[0m --> \u001b[92mSupport (100%)\u001b[0m\n",
      "\n",
      "Articles published in open access format are \u001b[91mless\u001b[0m likely to be cited than traditional journals.\n",
      "\n",
      "Articles published in open access format are \u001b[92mslightest\u001b[0m likely to be cited than traditional journals.\n",
      "\n",
      "\n",
      "\u001b[91mRefute (100%)\u001b[0m --> \u001b[92mSupport (100%)\u001b[0m\n",
      "\n",
      "Autologous transplantation of mesenchymal stem cells \u001b[91mcauses\u001b[0m a higher rate of opportunistic infections than induction therapy with anti-interleukin-2 receptor antibodies.\n",
      "\n",
      "Autologous transplantation of mesenchymal stem cells \u001b[92marises\u001b[0m a higher rate of opportunistic infections than induction therapy with anti-interleukin-2 receptor antibodies.\n",
      "\n",
      "\n",
      "\u001b[91mRefute (100%)\u001b[0m --> \u001b[92mSupport (100%)\u001b[0m\n",
      "\n",
      "Bariatric surgery has a \u001b[91mpositive\u001b[0m impact on mental health.\n",
      "\n",
      "Bariatric surgery has a \u001b[92mactionable\u001b[0m impact on mental health.\n",
      "\n",
      "\n",
      "\u001b[91mRefute (100%)\u001b[0m --> \u001b[92mSupport (100%)\u001b[0m\n",
      "\n",
      "Birth-weight is positively associated with breast \u001b[91mcancer\u001b[0m.\n",
      "\n",
      "Birth-weight is positively associated with breast \u001b[92mcystic\u001b[0m.\n",
      "\n",
      "\n",
      "\u001b[91mRefute (100%)\u001b[0m --> \u001b[92mSupport (100%)\u001b[0m\n",
      "\n",
      "Breast cancer development is determined \u001b[91mexclusively\u001b[0m by genetic factors.\n",
      "\n",
      "Breast cancer development is determined \u001b[92mabundantly\u001b[0m by genetic factors.\n",
      "\n",
      "\n",
      "\u001b[91mRefute (100%)\u001b[0m --> \u001b[92mSupport (100%)\u001b[0m\n",
      "\n",
      "CHEK2 is not \u001b[91massociated\u001b[0m with breast cancer.\n",
      "\n",
      "CHEK2 is not \u001b[92mcoupled\u001b[0m with breast cancer.\n",
      "\n",
      "\n",
      "\u001b[91mRefute (100%)\u001b[0m --> \u001b[92mSupport (100%)\u001b[0m\n",
      "\n",
      "\u001b[91mCR\u001b[0m is associated with higher methylation age.\n",
      "\n",
      "\u001b[92mRT\u001b[0m is associated with higher methylation age.\n",
      "\n",
      "\n",
      "\u001b[91mRefute (100%)\u001b[0m --> \u001b[92mSupport (100%)\u001b[0m\n",
      "\n",
      "CX3CR1 on the Th2 cells \u001b[91mpromotes\u001b[0m airway inflammation.\n",
      "\n",
      "CX3CR1 on the Th2 cells \u001b[92menhancing\u001b[0m airway inflammation.\n",
      "\n",
      "\n",
      "\u001b[91mRefute (100%)\u001b[0m --> \u001b[92mSupport (100%)\u001b[0m\n",
      "\n",
      "Chenodeosycholic acid treatment reduces whole-body \u001b[91menergy\u001b[0m expenditure.\n",
      "\n",
      "Chenodeosycholic acid treatment reduces whole-body \u001b[92mstrength\u001b[0m expenditure.\n",
      "\n",
      "\n",
      "\u001b[91mRefute (100%)\u001b[0m --> \u001b[91m[FAILED]\u001b[0m\n",
      "\n",
      "Commelina yellow mottle virus' (ComYMV) genome consists of 7489 baise pairs.\n",
      "\n",
      "\n",
      "\u001b[91mRefute (100%)\u001b[0m --> \u001b[92mSupport (100%)\u001b[0m\n",
      "\n",
      "Gene \u001b[91mexpression\u001b[0m does not vary appreciably across genetically identical cells.\n",
      "\n",
      "Gene \u001b[92mdiscourses\u001b[0m does not vary appreciably across genetically identical cells.\n",
      "\n",
      "\n",
      "\u001b[91mRefute (100%)\u001b[0m --> \u001b[92mSupport (100%)\u001b[0m\n",
      "\n",
      "\u001b[91mHeadaches\u001b[0m are not correlated with cognitive impairment.\n",
      "\n",
      "\u001b[92mArthritis\u001b[0m are not correlated with cognitive impairment.\n",
      "\n",
      "\n",
      "\u001b[91mRefute (100%)\u001b[0m --> \u001b[92mSupport (100%)\u001b[0m\n",
      "\n",
      "High cardiopulmonary \u001b[91mfitness\u001b[0m causes increased mortality rate.\n",
      "\n",
      "High cardiopulmonary \u001b[92mcapacities\u001b[0m causes increased mortality rate.\n",
      "\n",
      "\n",
      "\u001b[91mRefute (100%)\u001b[0m --> \u001b[91m[FAILED]\u001b[0m\n",
      "\n",
      "Incidence of heart failure decreased by 10% in women since 1979.\n",
      "\n",
      "\n",
      "\u001b[91mRefute (100%)\u001b[0m --> \u001b[92mSupport (100%)\u001b[0m\n",
      "\n",
      "Incidence rates of cervical cancer have \u001b[91mincreased\u001b[0m due to nationwide screening programs based primarily on cytology to detect uterine cervical cancer.\n",
      "\n",
      "Incidence rates of cervical cancer have \u001b[92mimprove\u001b[0m due to nationwide screening programs based primarily on cytology to detect uterine cervical cancer.\n",
      "\n",
      "\n",
      "\u001b[91mRefute (100%)\u001b[0m --> \u001b[92mSupport (100%)\u001b[0m\n",
      "\n",
      "Increased vessel density along with a reduction in fibrosis \u001b[91mdecreases\u001b[0m the efficacy of chemotherapy treatments.\n",
      "\n",
      "Increased vessel density along with a reduction in fibrosis \u001b[92mfallen\u001b[0m the efficacy of chemotherapy treatments.\n",
      "\n",
      "\n",
      "\u001b[91mRefute (100%)\u001b[0m --> \u001b[91m[FAILED]\u001b[0m\n",
      "\n",
      "LDL cholesterol has no involvement in the development of cardiovascular disease.\n",
      "\n",
      "\n",
      "\u001b[91mRefute (100%)\u001b[0m --> \u001b[91m[FAILED]\u001b[0m\n",
      "\n",
      "Leuko-increased blood increases infectious complications in red blood cell transfusion.\n",
      "\n",
      "\n",
      "\u001b[91mRefute (100%)\u001b[0m --> \u001b[91m[FAILED]\u001b[0m\n",
      "\n",
      "Ly6C hi monocytes have a lower inflammatory capacity than Ly6C lo monocytes.\n",
      "\n",
      "\n",
      "\u001b[91mRefute (100%)\u001b[0m --> \u001b[91m[FAILED]\u001b[0m\n",
      "\n",
      "Macrolides have no protective effect against myocardial infarction.\n",
      "\n",
      "\n",
      "\u001b[91mRefute (100%)\u001b[0m --> \u001b[92mSupport (100%)\u001b[0m\n",
      "\n",
      "Mice that \u001b[91mlack\u001b[0m Interferon-γ or its receptor exhibit high resistance to experimental autoimmune myocarditis.\n",
      "\n",
      "Mice that \u001b[92mabsence\u001b[0m Interferon-γ or its receptor exhibit high resistance to experimental autoimmune myocarditis.\n",
      "\n",
      "\n",
      "\u001b[91mRefute (100%)\u001b[0m --> \u001b[91m[FAILED]\u001b[0m\n",
      "\n",
      "Mitochondria are uninvolved in apoptosis.\n",
      "\n",
      "\n",
      "\u001b[91mRefute (100%)\u001b[0m --> \u001b[91m[FAILED]\u001b[0m\n",
      "\n",
      "New drugs for tuberculosis often do not penetrate the necrotic portion of a tuberculosis lesion in high concentrations.\n",
      "\n",
      "\n",
      "\u001b[91mRefute (100%)\u001b[0m --> \u001b[92mSupport (100%)\u001b[0m\n",
      "\n",
      "Non-invasive ventilation use should be \u001b[91mdecreased\u001b[0m if there is inadequate response to conventional treatment.\n",
      "\n",
      "Non-invasive ventilation use should be \u001b[92mfell\u001b[0m if there is inadequate response to conventional treatment.\n",
      "\n",
      "\n",
      "\u001b[91mRefute (100%)\u001b[0m --> \u001b[92mSupport (100%)\u001b[0m\n",
      "\n",
      "Obesity is determined \u001b[91msolely\u001b[0m by environmental factors.\n",
      "\n",
      "Obesity is determined \u001b[92mabundantly\u001b[0m by environmental factors.\n",
      "\n",
      "\n",
      "\u001b[91mRefute (100%)\u001b[0m --> \u001b[92mSupport (100%)\u001b[0m\n",
      "\n",
      "\u001b[91mReduced\u001b[0m responsiveness to interleukin-2 in regulatory T cells is associated with greater resistance to autoimmune diseases such as Type 1 Diabetes.\n",
      "\n",
      "\u001b[92mMitigation\u001b[0m responsiveness to interleukin-2 in regulatory T cells is associated with greater resistance to autoimmune diseases such as Type 1 Diabetes.\n",
      "\n",
      "\n",
      "\u001b[91mRefute (100%)\u001b[0m --> \u001b[92mSupport (100%)\u001b[0m\n",
      "\n",
      "Suboptimal \u001b[91mnutrition\u001b[0m is not predictive of chronic disease\n",
      "\n",
      "Suboptimal \u001b[92mdevouring\u001b[0m is not predictive of chronic disease\n",
      "\n",
      "\n",
      "\u001b[91mRefute (100%)\u001b[0m --> \u001b[91m[FAILED]\u001b[0m\n",
      "\n",
      "The risk of male prisoners harming themselves is ten times that of female prisoners.\n",
      "\n",
      "\n",
      "\u001b[91mRefute (100%)\u001b[0m --> \u001b[92mSupport (100%)\u001b[0m\n",
      "\n",
      "There is an \u001b[91minverse\u001b[0m relationship between hip fractures and statin use.\n",
      "\n",
      "There is an \u001b[92minvest\u001b[0m relationship between hip fractures and statin use.\n",
      "\n",
      "\n",
      "\u001b[91mRefute (100%)\u001b[0m --> \u001b[92mSupport (100%)\u001b[0m\n",
      "\n",
      "Thigh-length graduated compression stockings (GCS) did not \u001b[91mreduce\u001b[0m deep vein thrombosis in patients admitted to hospital who are immobile because of acute stroke.\n",
      "\n",
      "Thigh-length graduated compression stockings (GCS) did not \u001b[92mdecrease\u001b[0m deep vein thrombosis in patients admitted to hospital who are immobile because of acute stroke.\n",
      "\n",
      "\n",
      "\u001b[91mRefute (100%)\u001b[0m --> \u001b[91m[FAILED]\u001b[0m\n",
      "\n",
      "Tirasemtiv has no effect on fast-twitch muscle.\n",
      "\n",
      "\n",
      "\u001b[91mRefute (100%)\u001b[0m --> \u001b[92mSupport (100%)\u001b[0m\n",
      "\n",
      "Transplanted human glial progenitor cells are \u001b[91mincapable\u001b[0m of forming a neural network with host animals' neurons.\n",
      "\n",
      "Transplanted human glial progenitor cells are \u001b[92mvulnerable\u001b[0m of forming a neural network with host animals' neurons.\n",
      "\n",
      "\n",
      "\u001b[91mRefute (100%)\u001b[0m --> \u001b[92mSupport (100%)\u001b[0m\n",
      "\n",
      "Ultrasound guidance significantly \u001b[91mraises\u001b[0m the number of traumatic procedures when attempting needle insertion.\n",
      "\n",
      "Ultrasound guidance significantly \u001b[92mbegs\u001b[0m the number of traumatic procedures when attempting needle insertion.\n"
     ]
    }
   ],
   "source": [
    "for cur_result in attack_results_txt_fooler:\n",
    "    print()\n",
    "    print()\n",
    "    print(cur_result.__str__(color_method='ansi'))"
   ]
  },
  {
   "cell_type": "code",
   "execution_count": 41,
   "id": "6a68fec4",
   "metadata": {
    "ExecuteTime": {
     "end_time": "2022-01-24T18:48:07.122114Z",
     "start_time": "2022-01-24T18:48:07.109918Z"
    }
   },
   "outputs": [
    {
     "data": {
      "text/html": [
       "<table border=\"1\" class=\"dataframe\">\n",
       "  <thead>\n",
       "    <tr style=\"text-align: right;\">\n",
       "      <th></th>\n",
       "      <th>original_text</th>\n",
       "      <th>perturbed_text</th>\n",
       "      <th>result_type</th>\n",
       "    </tr>\n",
       "  </thead>\n",
       "  <tbody>\n",
       "    <tr>\n",
       "      <th>0</th>\n",
       "      <td>76-85% of people with severe mental disorder <font color = red>receive</font> no treatment in low and middle income countries.</td>\n",
       "      <td>76-85% of people with severe mental disorder <font color = green>receiving</font> no treatment in low and middle income countries.</td>\n",
       "      <td>Successful</td>\n",
       "    </tr>\n",
       "    <tr>\n",
       "      <th>1</th>\n",
       "      <td><font color = red>ART</font> has no effect on the infectiveness of HIV-positive people.</td>\n",
       "      <td><font color = green>KIND</font> has no effect on the infectiveness of HIV-positive people.</td>\n",
       "      <td>Successful</td>\n",
       "    </tr>\n",
       "    <tr>\n",
       "      <th>2</th>\n",
       "      <td>Ambulatory blood pressure monitoring is inaccurate at diagnosing hypertension.</td>\n",
       "      <td>Ambulatory blood pressure monitoring is inaccurate at diagnosing hypertension.</td>\n",
       "      <td>Failed</td>\n",
       "    </tr>\n",
       "    <tr>\n",
       "      <th>3</th>\n",
       "      <td><font color = red>Antidepressants</font> increase the severity of migraines.</td>\n",
       "      <td><font color = green>Ambien</font> increase the severity of migraines.</td>\n",
       "      <td>Successful</td>\n",
       "    </tr>\n",
       "    <tr>\n",
       "      <th>4</th>\n",
       "      <td>Antimicrobial agents are less effective due to the <font color = red>pressure</font> of antimicrobial usage.</td>\n",
       "      <td>Antimicrobial agents are less effective due to the <font color = green>insist</font> of antimicrobial usage.</td>\n",
       "      <td>Successful</td>\n",
       "    </tr>\n",
       "    <tr>\n",
       "      <th>5</th>\n",
       "      <td>Antimicrobial <font color = red>agents</font> are more effective due to the pressure of antimicrobial usage.</td>\n",
       "      <td>Antimicrobial <font color = green>retainers</font> are more effective due to the pressure of antimicrobial usage.</td>\n",
       "      <td>Successful</td>\n",
       "    </tr>\n",
       "    <tr>\n",
       "      <th>6</th>\n",
       "      <td>Antiretroviral therapy <font color = red>increases</font> rates of tuberculosis across a broad range of CD4 strata.</td>\n",
       "      <td>Antiretroviral therapy <font color = green>augment</font> rates of tuberculosis across a broad range of CD4 strata.</td>\n",
       "      <td>Successful</td>\n",
       "    </tr>\n",
       "    <tr>\n",
       "      <th>7</th>\n",
       "      <td>Autophagy deficiency in the liver <font color = red>increases</font> vulnerability to insulin resistance.</td>\n",
       "      <td>Autophagy deficiency in the liver <font color = green>growing</font> vulnerability to insulin resistance.</td>\n",
       "      <td>Successful</td>\n",
       "    </tr>\n",
       "    <tr>\n",
       "      <th>8</th>\n",
       "      <td>BCL-2 <font color = red>activation</font> antagonizes the apoptotic effects of c-Myc.</td>\n",
       "      <td>BCL-2 <font color = green>activated</font> antagonizes the apoptotic effects of c-Myc.</td>\n",
       "      <td>Successful</td>\n",
       "    </tr>\n",
       "    <tr>\n",
       "      <th>9</th>\n",
       "      <td>BCL-2 promotes the apoptotic <font color = red>effects</font> of c-Myc.</td>\n",
       "      <td>BCL-2 promotes the apoptotic <font color = green>afflict</font> of c-Myc.</td>\n",
       "      <td>Successful</td>\n",
       "    </tr>\n",
       "    <tr>\n",
       "      <th>10</th>\n",
       "      <td>Bariatric surgery <font color = red>increases</font> rates of colorectal cancer.</td>\n",
       "      <td>Bariatric surgery <font color = green>augmentation</font> rates of colorectal cancer.</td>\n",
       "      <td>Successful</td>\n",
       "    </tr>\n",
       "    <tr>\n",
       "      <th>11</th>\n",
       "      <td>Birth-weight is negatively <font color = red>associated</font> with breast cancer.</td>\n",
       "      <td>Birth-weight is negatively <font color = green>accompanying</font> with breast cancer.</td>\n",
       "      <td>Successful</td>\n",
       "    </tr>\n",
       "    <tr>\n",
       "      <th>12</th>\n",
       "      <td>Bone marrow cells don't <font color = red>contribute</font> to adult macrophage compartments.</td>\n",
       "      <td>Bone marrow cells don't <font color = green>help</font> to adult macrophage compartments.</td>\n",
       "      <td>Successful</td>\n",
       "    </tr>\n",
       "    <tr>\n",
       "      <th>13</th>\n",
       "      <td>Chenodeoxycholic acid treatment <font color = red>decreases</font> brown adipose tissue activity.</td>\n",
       "      <td>Chenodeoxycholic acid treatment <font color = green>fallen</font> brown adipose tissue activity.</td>\n",
       "      <td>Successful</td>\n",
       "    </tr>\n",
       "    <tr>\n",
       "      <th>14</th>\n",
       "      <td>Chlamydia trachomatis is most prevalent in the <font color = red>UK</font> among sexually-experienced individuals aged 16 to 24.</td>\n",
       "      <td>Chlamydia trachomatis is most prevalent in the <font color = green>ANGLIA</font> among sexually-experienced individuals aged 16 to 24.</td>\n",
       "      <td>Successful</td>\n",
       "    </tr>\n",
       "    <tr>\n",
       "      <th>15</th>\n",
       "      <td>Cognitive behavioral therapy is an <font color = red>ineffective</font> treatment for insomnia</td>\n",
       "      <td>Cognitive behavioral therapy is an <font color = green>inefficient</font> treatment for insomnia</td>\n",
       "      <td>Successful</td>\n",
       "    </tr>\n",
       "    <tr>\n",
       "      <th>16</th>\n",
       "      <td>Commelina yellow mottle virus' (ComYMV) genome consists of 2140 baise pairs.</td>\n",
       "      <td>Commelina yellow mottle virus' (ComYMV) genome consists of 2140 baise pairs.</td>\n",
       "      <td>Failed</td>\n",
       "    </tr>\n",
       "    <tr>\n",
       "      <th>17</th>\n",
       "      <td>Consumption of whole fruits increases the risk of type 2 diabetes.</td>\n",
       "      <td>Consumption of whole fruits increases the risk of type 2 diabetes.</td>\n",
       "      <td>Failed</td>\n",
       "    </tr>\n",
       "    <tr>\n",
       "      <th>18</th>\n",
       "      <td><font color = red>Cost</font> effectiveness evaluations based on cRCT data lack external validity.</td>\n",
       "      <td><font color = green>Costing</font> effectiveness evaluations based on cRCT data lack external validity.</td>\n",
       "      <td>Successful</td>\n",
       "    </tr>\n",
       "    <tr>\n",
       "      <th>19</th>\n",
       "      <td>DUSP4 <font color = red>decreases</font> apoptosis.</td>\n",
       "      <td>DUSP4 <font color = green>abated</font> apoptosis.</td>\n",
       "      <td>Successful</td>\n",
       "    </tr>\n",
       "    <tr>\n",
       "      <th>20</th>\n",
       "      <td>Deltex has no known interactions with eIF3f.</td>\n",
       "      <td>Deltex has no known interactions with eIF3f.</td>\n",
       "      <td>Failed</td>\n",
       "    </tr>\n",
       "    <tr>\n",
       "      <th>21</th>\n",
       "      <td>Dexamethasone <font color = red>increases</font> risk of postoperative bleeding.</td>\n",
       "      <td>Dexamethasone <font color = green>augmentation</font> risk of postoperative bleeding.</td>\n",
       "      <td>Successful</td>\n",
       "    </tr>\n",
       "    <tr>\n",
       "      <th>22</th>\n",
       "      <td>Diabetes remission occurs more in people treated with conventional therapy than in people treated with laparoscopic adjustable gastric banding surgery.</td>\n",
       "      <td>Diabetes remission occurs more in people treated with conventional therapy than in people treated with laparoscopic adjustable gastric banding surgery.</td>\n",
       "      <td>Failed</td>\n",
       "    </tr>\n",
       "    <tr>\n",
       "      <th>23</th>\n",
       "      <td>Diabetic patients with acute coronary syndrome experience <font color = red>decreased</font> short-term and long-term risk for bleeding events.</td>\n",
       "      <td>Diabetic patients with acute coronary syndrome experience <font color = green>dwindling</font> short-term and long-term risk for bleeding events.</td>\n",
       "      <td>Successful</td>\n",
       "    </tr>\n",
       "    <tr>\n",
       "      <th>24</th>\n",
       "      <td>Diminished ovarian reserve is a reliable indicator of infertility in a non-infertile population.</td>\n",
       "      <td>Diminished ovarian reserve is a reliable indicator of infertility in a non-infertile population.</td>\n",
       "      <td>Failed</td>\n",
       "    </tr>\n",
       "    <tr>\n",
       "      <th>25</th>\n",
       "      <td>Early patent ductus ateriosus (PDA) <font color = red>screening</font> increases in-hospital mortality.</td>\n",
       "      <td>Early patent ductus ateriosus (PDA) <font color = green>audited</font> increases in-hospital mortality.</td>\n",
       "      <td>Successful</td>\n",
       "    </tr>\n",
       "    <tr>\n",
       "      <th>26</th>\n",
       "      <td><font color = red>Enhanced</font> early production of inflammatory chemokines damages viral control in the lung.</td>\n",
       "      <td><font color = green>Grew</font> early production of inflammatory chemokines damages viral control in the lung.</td>\n",
       "      <td>Successful</td>\n",
       "    </tr>\n",
       "    <tr>\n",
       "      <th>27</th>\n",
       "      <td><font color = red>Exercise</font> increases cancer mortality rates among Chinese citizens.</td>\n",
       "      <td><font color = green>Drill</font> increases cancer mortality rates among Chinese citizens.</td>\n",
       "      <td>Successful</td>\n",
       "    </tr>\n",
       "    <tr>\n",
       "      <th>28</th>\n",
       "      <td>Exercise reduces cancer <font color = red>mortality</font> rates among Chinese citizens.</td>\n",
       "      <td>Exercise reduces cancer <font color = green>assassinate</font> rates among Chinese citizens.</td>\n",
       "      <td>Successful</td>\n",
       "    </tr>\n",
       "    <tr>\n",
       "      <th>29</th>\n",
       "      <td>Exposure to fine particulate air pollution is <font color = red>unrelated</font> to anxiety prevalence.</td>\n",
       "      <td>Exposure to fine particulate air pollution is <font color = green>offline</font> to anxiety prevalence.</td>\n",
       "      <td>Successful</td>\n",
       "    </tr>\n",
       "    <tr>\n",
       "      <th>30</th>\n",
       "      <td>Female carriers of the Apolipoprotein E4 (APOE4) allele have decreased risk for dementia.</td>\n",
       "      <td>Female carriers of the Apolipoprotein E4 (APOE4) allele have decreased risk for dementia.</td>\n",
       "      <td>Failed</td>\n",
       "    </tr>\n",
       "    <tr>\n",
       "      <th>31</th>\n",
       "      <td>Foxk2 regulates autophagy genes in muscle cells and fibroblast cells.</td>\n",
       "      <td>Foxk2 regulates autophagy genes in muscle cells and fibroblast cells.</td>\n",
       "      <td>Failed</td>\n",
       "    </tr>\n",
       "    <tr>\n",
       "      <th>32</th>\n",
       "      <td>Gastric infection with Helicobacter pylori decreases risk of gastric cancer in humans.</td>\n",
       "      <td>Gastric infection with Helicobacter pylori decreases risk of gastric cancer in humans.</td>\n",
       "      <td>Failed</td>\n",
       "    </tr>\n",
       "    <tr>\n",
       "      <th>33</th>\n",
       "      <td><font color = red>General</font> exercise therapy is more effective than scapular stabilizer exercises in reducing pain and improving function of the shoulder.</td>\n",
       "      <td><font color = green>Generals</font> exercise therapy is more effective than scapular stabilizer exercises in reducing pain and improving function of the shoulder.</td>\n",
       "      <td>Successful</td>\n",
       "    </tr>\n",
       "    <tr>\n",
       "      <th>34</th>\n",
       "      <td>Gpr124 increases BBB breakdown in mouse models of ischemic stroke.</td>\n",
       "      <td>Gpr124 increases BBB breakdown in mouse models of ischemic stroke.</td>\n",
       "      <td>Failed</td>\n",
       "    </tr>\n",
       "    <tr>\n",
       "      <th>35</th>\n",
       "      <td>HbA1c consistently overestimates glycemic control in black <font color = red>individuals</font> with Sickle cell trait (SCT).</td>\n",
       "      <td>HbA1c consistently overestimates glycemic control in black <font color = green>beings</font> with Sickle cell trait (SCT).</td>\n",
       "      <td>Successful</td>\n",
       "    </tr>\n",
       "    <tr>\n",
       "      <th>36</th>\n",
       "      <td>Incidence of 10/66 dementia is lower than the incidence of DSM-IV dementia.</td>\n",
       "      <td>Incidence of 10/66 dementia is lower than the incidence of DSM-IV dementia.</td>\n",
       "      <td>Failed</td>\n",
       "    </tr>\n",
       "    <tr>\n",
       "      <th>37</th>\n",
       "      <td>Including <font color = red>pharmacists</font> in rounding teams does not alter the incidence of adverse drug events (ADEs).</td>\n",
       "      <td>Including <font color = green>pharmacology</font> in rounding teams does not alter the incidence of adverse drug events (ADEs).</td>\n",
       "      <td>Successful</td>\n",
       "    </tr>\n",
       "    <tr>\n",
       "      <th>38</th>\n",
       "      <td>Inhibiting focal adhesion <font color = red>formation</font> increases the rate at which cells convert mechanical strain into inflammation and fibrosis.</td>\n",
       "      <td>Inhibiting focal adhesion <font color = green>formed</font> increases the rate at which cells convert mechanical strain into inflammation and fibrosis.</td>\n",
       "      <td>Successful</td>\n",
       "    </tr>\n",
       "    <tr>\n",
       "      <th>39</th>\n",
       "      <td>Integrated care is <font color = red>ineffective</font> at tackling multiple comorbidities.</td>\n",
       "      <td>Integrated care is <font color = green>incompetent</font> at tackling multiple comorbidities.</td>\n",
       "      <td>Successful</td>\n",
       "    </tr>\n",
       "    <tr>\n",
       "      <th>40</th>\n",
       "      <td>MafA phosphorylation <font color = red>enhances</font> its ubiquitination.</td>\n",
       "      <td>MafA phosphorylation <font color = green>augment</font> its ubiquitination.</td>\n",
       "      <td>Successful</td>\n",
       "    </tr>\n",
       "    <tr>\n",
       "      <th>41</th>\n",
       "      <td>Major vault protein (MVP) leads to more aggressive tumors by regulating the sorting of tumor suppressive miR-193a into extracellular vesicles (EVs).</td>\n",
       "      <td>Major vault protein (MVP) leads to more aggressive tumors by regulating the sorting of tumor suppressive miR-193a into extracellular vesicles (EVs).</td>\n",
       "      <td>Failed</td>\n",
       "    </tr>\n",
       "    <tr>\n",
       "      <th>42</th>\n",
       "      <td>Medications to treat obesity do not have <font color = red>side</font> effects.</td>\n",
       "      <td>Medications to treat obesity do not have <font color = green>sideways</font> effects.</td>\n",
       "      <td>Successful</td>\n",
       "    </tr>\n",
       "    <tr>\n",
       "      <th>43</th>\n",
       "      <td>Mice <font color = red>lacking</font> Sirt1 in Sf1-expressing neurons are immune to diet-induced obesity and insulin resistance.</td>\n",
       "      <td>Mice <font color = green>deficiency</font> Sirt1 in Sf1-expressing neurons are immune to diet-induced obesity and insulin resistance.</td>\n",
       "      <td>Successful</td>\n",
       "    </tr>\n",
       "    <tr>\n",
       "      <th>44</th>\n",
       "      <td>Mitochondria play a <font color = red>trivial</font> role in calcium homeostasis.</td>\n",
       "      <td>Mitochondria play a <font color = green>patti</font> role in calcium homeostasis.</td>\n",
       "      <td>Successful</td>\n",
       "    </tr>\n",
       "    <tr>\n",
       "      <th>45</th>\n",
       "      <td>Monoclonal antibody <font color = red>targeting</font> of N-cadherin encourages metastasis.</td>\n",
       "      <td>Monoclonal antibody <font color = green>concentrates</font> of N-cadherin encourages metastasis.</td>\n",
       "      <td>Successful</td>\n",
       "    </tr>\n",
       "    <tr>\n",
       "      <th>46</th>\n",
       "      <td>Natriuretic peptides <font color = red>increase</font> susceptibility to diabetes.</td>\n",
       "      <td>Natriuretic peptides <font color = green>amplify</font> susceptibility to diabetes.</td>\n",
       "      <td>Successful</td>\n",
       "    </tr>\n",
       "    <tr>\n",
       "      <th>47</th>\n",
       "      <td>Nonhypertensive people who are 55 years old have a 90% chance of developing hypertension during their lifetime.</td>\n",
       "      <td>Nonhypertensive people who are 55 years old have a 90% chance of developing hypertension during their lifetime.</td>\n",
       "      <td>Failed</td>\n",
       "    </tr>\n",
       "    <tr>\n",
       "      <th>48</th>\n",
       "      <td>Noninvasive positive pressure ventilation is not predictive of acute respiratory failure after solid organ transplantation.</td>\n",
       "      <td>Noninvasive positive pressure ventilation is not predictive of acute respiratory failure after solid organ transplantation.</td>\n",
       "      <td>Failed</td>\n",
       "    </tr>\n",
       "    <tr>\n",
       "      <th>49</th>\n",
       "      <td>Nonsteroidal antinflammatory drugs are <font color = red>ineffective</font> as cancer treatments.</td>\n",
       "      <td>Nonsteroidal antinflammatory drugs are <font color = green>dispensable</font> as cancer treatments.</td>\n",
       "      <td>Successful</td>\n",
       "    </tr>\n",
       "    <tr>\n",
       "      <th>50</th>\n",
       "      <td>Patients in stable partnerships progress from HIV to death at the same rate as patients not in partnerships.</td>\n",
       "      <td>Patients in stable partnerships progress from HIV to death at the same rate as patients not in partnerships.</td>\n",
       "      <td>Failed</td>\n",
       "    </tr>\n",
       "    <tr>\n",
       "      <th>51</th>\n",
       "      <td>Patients with common epithelial cancers are <font color = red>less</font> likely to have an emergency event as their first hospital admission if they live in resource-deprived areas.</td>\n",
       "      <td>Patients with common epithelial cancers are <font color = green>slightest</font> likely to have an emergency event as their first hospital admission if they live in resource-deprived areas.</td>\n",
       "      <td>Successful</td>\n",
       "    </tr>\n",
       "    <tr>\n",
       "      <th>52</th>\n",
       "      <td>Pharmacist attendance at ward rounds increases adverse events in wards.</td>\n",
       "      <td>Pharmacist attendance at ward rounds increases adverse events in wards.</td>\n",
       "      <td>Failed</td>\n",
       "    </tr>\n",
       "    <tr>\n",
       "      <th>53</th>\n",
       "      <td>Physical activity does not <font color = red>improve</font> cognitive function in individuals with Alzheimers.</td>\n",
       "      <td>Physical activity does not <font color = green>amplify</font> cognitive function in individuals with Alzheimers.</td>\n",
       "      <td>Successful</td>\n",
       "    </tr>\n",
       "    <tr>\n",
       "      <th>54</th>\n",
       "      <td>Pioglitazone use is not associated with an increased risk of prostate <font color = red>cancer</font>.</td>\n",
       "      <td>Pioglitazone use is not associated with an increased risk of prostate <font color = green>metastasis</font>.</td>\n",
       "      <td>Successful</td>\n",
       "    </tr>\n",
       "    <tr>\n",
       "      <th>55</th>\n",
       "      <td>Primary cervical cancer screening with HPV detection has lower longitudinal sensitivity than conventional cytology to detect cervical intraepithelial neoplasia grade 2.</td>\n",
       "      <td>Primary cervical cancer screening with HPV detection has lower longitudinal sensitivity than conventional cytology to detect cervical intraepithelial neoplasia grade 2.</td>\n",
       "      <td>Failed</td>\n",
       "    </tr>\n",
       "    <tr>\n",
       "      <th>56</th>\n",
       "      <td>RANK-RANKL pathway signalling has no known association with development of Aire-expressing medullary thymic epithelial cells.</td>\n",
       "      <td>RANK-RANKL pathway signalling has no known association with development of Aire-expressing medullary thymic epithelial cells.</td>\n",
       "      <td>Failed</td>\n",
       "    </tr>\n",
       "    <tr>\n",
       "      <th>57</th>\n",
       "      <td>Risedronate <font color = red>increases</font> risk of vertebral and non-vertebral fractures.</td>\n",
       "      <td>Risedronate <font color = green>risen</font> risk of vertebral and non-vertebral fractures.</td>\n",
       "      <td>Successful</td>\n",
       "    </tr>\n",
       "    <tr>\n",
       "      <th>58</th>\n",
       "      <td>Risk-adjusted mortality <font color = red>rates</font> are similar in teaching and non-teaching hospitals.</td>\n",
       "      <td>Risk-adjusted mortality <font color = green>cadence</font> are similar in teaching and non-teaching hospitals.</td>\n",
       "      <td>Successful</td>\n",
       "    </tr>\n",
       "    <tr>\n",
       "      <th>59</th>\n",
       "      <td>Sepsis related mortality has <font color = red>remained</font> stable between 2009-2014.</td>\n",
       "      <td>Sepsis related mortality has <font color = green>follows</font> stable between 2009-2014.</td>\n",
       "      <td>Successful</td>\n",
       "    </tr>\n",
       "    <tr>\n",
       "      <th>60</th>\n",
       "      <td>Sepsis related <font color = red>mortality</font> has risen from 2009 to 2014.</td>\n",
       "      <td>Sepsis related <font color = green>assassinate</font> has risen from 2009 to 2014.</td>\n",
       "      <td>Successful</td>\n",
       "    </tr>\n",
       "    <tr>\n",
       "      <th>61</th>\n",
       "      <td>Sildenafil <font color = red>worsens</font> erectile function in men who experience sexual dysfunction as a result of the use of SSRI antidepressants.</td>\n",
       "      <td>Sildenafil <font color = green>deepening</font> erectile function in men who experience sexual dysfunction as a result of the use of SSRI antidepressants.</td>\n",
       "      <td>Successful</td>\n",
       "    </tr>\n",
       "    <tr>\n",
       "      <th>62</th>\n",
       "      <td>Stroke patients with prior use of direct oral anticoagulants have a higher risk of in-hospital mortality than stroke patients with prior use of warfarin.</td>\n",
       "      <td>Stroke patients with prior use of direct oral anticoagulants have a higher risk of in-hospital mortality than stroke patients with prior use of warfarin.</td>\n",
       "      <td>Failed</td>\n",
       "    </tr>\n",
       "    <tr>\n",
       "      <th>63</th>\n",
       "      <td><font color = red>Students</font> who perform poorly in the early years of medical school are less likely to commit professional misconduct later in their careers.</td>\n",
       "      <td><font color = green>Undergraduates</font> who perform poorly in the early years of medical school are less likely to commit professional misconduct later in their careers.</td>\n",
       "      <td>Successful</td>\n",
       "    </tr>\n",
       "    <tr>\n",
       "      <th>64</th>\n",
       "      <td>Sympathetic nerve activity is reduced throughout normal pregnancy.</td>\n",
       "      <td>Sympathetic nerve activity is reduced throughout normal pregnancy.</td>\n",
       "      <td>Failed</td>\n",
       "    </tr>\n",
       "    <tr>\n",
       "      <th>65</th>\n",
       "      <td>Systemic immunosuppressive (IS) therapy increases the chance of cancer mortality in patients with <font color = red>inflammatory</font> eye disease (IED)</td>\n",
       "      <td>Systemic immunosuppressive (IS) therapy increases the chance of cancer mortality in patients with <font color = green>molotov</font> eye disease (IED)</td>\n",
       "      <td>Successful</td>\n",
       "    </tr>\n",
       "    <tr>\n",
       "      <th>66</th>\n",
       "      <td>The DESMOND program demonstrates no <font color = red>significant</font> impact on lifestyles outcomes.</td>\n",
       "      <td>The DESMOND program demonstrates no <font color = green>colossal</font> impact on lifestyles outcomes.</td>\n",
       "      <td>Successful</td>\n",
       "    </tr>\n",
       "    <tr>\n",
       "      <th>67</th>\n",
       "      <td>The DESMOND <font color = red>program</font> demonstrates no significant impact on weight loss.</td>\n",
       "      <td>The DESMOND <font color = green>emission</font> demonstrates no significant impact on weight loss.</td>\n",
       "      <td>Successful</td>\n",
       "    </tr>\n",
       "    <tr>\n",
       "      <th>68</th>\n",
       "      <td>The <font color = red>combination</font> of physical examinations with C-reactive protein values do not improve the accuracy of radiographic verified pneumonia predictions.</td>\n",
       "      <td>The <font color = green>merges</font> of physical examinations with C-reactive protein values do not improve the accuracy of radiographic verified pneumonia predictions.</td>\n",
       "      <td>Successful</td>\n",
       "    </tr>\n",
       "    <tr>\n",
       "      <th>69</th>\n",
       "      <td>The mean suicide rate in women is <font color = red>lower</font> after miscarriage than live birth.</td>\n",
       "      <td>The mean suicide rate in women is <font color = green>baja</font> after miscarriage than live birth.</td>\n",
       "      <td>Successful</td>\n",
       "    </tr>\n",
       "    <tr>\n",
       "      <th>70</th>\n",
       "      <td>The minor <font color = red>G</font> allele of FOXO3 is related to less severe symptoms of Crohn's Disease.</td>\n",
       "      <td>The minor <font color = green>grammes</font> allele of FOXO3 is related to less severe symptoms of Crohn's Disease.</td>\n",
       "      <td>Successful</td>\n",
       "    </tr>\n",
       "    <tr>\n",
       "      <th>71</th>\n",
       "      <td>There is no increased <font color = red>risk</font> of hypospadias with clomiphene.</td>\n",
       "      <td>There is no increased <font color = green>apt</font> of hypospadias with clomiphene.</td>\n",
       "      <td>Successful</td>\n",
       "    </tr>\n",
       "    <tr>\n",
       "      <th>72</th>\n",
       "      <td>There is no known interaction between Pioneer factor OCT3/4 and major chromatin remodeling factors.</td>\n",
       "      <td>There is no known interaction between Pioneer factor OCT3/4 and major chromatin remodeling factors.</td>\n",
       "      <td>Failed</td>\n",
       "    </tr>\n",
       "    <tr>\n",
       "      <th>73</th>\n",
       "      <td>There is no <font color = red>relation</font> between Erythromycin use and hypertrophic pyloric stenosis.</td>\n",
       "      <td>There is no <font color = green>concerning</font> between Erythromycin use and hypertrophic pyloric stenosis.</td>\n",
       "      <td>Successful</td>\n",
       "    </tr>\n",
       "    <tr>\n",
       "      <th>74</th>\n",
       "      <td>There was an <font color = red>estimated</font> 30 million cases of pneumonia in young children worldwide in 2010.</td>\n",
       "      <td>There was an <font color = green>evaluation</font> 30 million cases of pneumonia in young children worldwide in 2010.</td>\n",
       "      <td>Successful</td>\n",
       "    </tr>\n",
       "    <tr>\n",
       "      <th>75</th>\n",
       "      <td>Tuberculosis incidence occurs at higher rates in more sparsely populated areas in the UK.</td>\n",
       "      <td>Tuberculosis incidence occurs at higher rates in more sparsely populated areas in the UK.</td>\n",
       "      <td>Failed</td>\n",
       "    </tr>\n",
       "    <tr>\n",
       "      <th>76</th>\n",
       "      <td>Upon viral challenge, influenza-specific memory CD4+ T cells greatly enhance the early production of <font color = red>inflammatory</font> chemokines in the lung.</td>\n",
       "      <td>Upon viral challenge, influenza-specific memory CD4+ T cells greatly enhance the early production of <font color = green>incite</font> chemokines in the lung.</td>\n",
       "      <td>Successful</td>\n",
       "    </tr>\n",
       "    <tr>\n",
       "      <th>77</th>\n",
       "      <td>Whole brain radiotherapy <font color = red>increases</font> the occurrence of new brain metastases.</td>\n",
       "      <td>Whole brain radiotherapy <font color = green>augmentation</font> the occurrence of new brain metastases.</td>\n",
       "      <td>Successful</td>\n",
       "    </tr>\n",
       "    <tr>\n",
       "      <th>78</th>\n",
       "      <td>Women with a <font color = red>lower</font> birth weight are more likely to develop breast cancer later in life.</td>\n",
       "      <td>Women with a <font color = green>weakest</font> birth weight are more likely to develop breast cancer later in life.</td>\n",
       "      <td>Successful</td>\n",
       "    </tr>\n",
       "    <tr>\n",
       "      <th>79</th>\n",
       "      <td>siRNA knockdown of A20 <font color = red>accelerates</font> tumor progression in an in vivo murine xenograft model.</td>\n",
       "      <td>siRNA knockdown of A20 <font color = green>rapids</font> tumor progression in an in vivo murine xenograft model.</td>\n",
       "      <td>Successful</td>\n",
       "    </tr>\n",
       "    <tr>\n",
       "      <th>80</th>\n",
       "      <td>A <font color = red>total</font> of 1,000 people in the UK are asymptomatic carriers of vCJD infection.</td>\n",
       "      <td>A <font color = green>comprehensive</font> of 1,000 people in the UK are asymptomatic carriers of vCJD infection.</td>\n",
       "      <td>Successful</td>\n",
       "    </tr>\n",
       "    <tr>\n",
       "      <th>81</th>\n",
       "      <td>ALDH1 <font color = red>expression</font> is associated with better breast cancer outcomes.</td>\n",
       "      <td>ALDH1 <font color = green>adjectives</font> is associated with better breast cancer outcomes.</td>\n",
       "      <td>Successful</td>\n",
       "    </tr>\n",
       "    <tr>\n",
       "      <th>82</th>\n",
       "      <td>AMP-activated protein kinase (AMPK) <font color = red>activation</font> increases inflammation-related fibrosis in the lungs.</td>\n",
       "      <td>AMP-activated protein kinase (AMPK) <font color = green>authorizes</font> increases inflammation-related fibrosis in the lungs.</td>\n",
       "      <td>Successful</td>\n",
       "    </tr>\n",
       "    <tr>\n",
       "      <th>83</th>\n",
       "      <td>Activation of PPM1D <font color = red>suppresses</font> p53 function.</td>\n",
       "      <td>Activation of PPM1D <font color = green>deletion</font> p53 function.</td>\n",
       "      <td>Successful</td>\n",
       "    </tr>\n",
       "    <tr>\n",
       "      <th>84</th>\n",
       "      <td>All hematopoietic stem cells segregate their chromosomes randomly.</td>\n",
       "      <td>All hematopoietic stem cells segregate their chromosomes randomly.</td>\n",
       "      <td>Failed</td>\n",
       "    </tr>\n",
       "    <tr>\n",
       "      <th>85</th>\n",
       "      <td>Articles published in open access format are <font color = red>less</font> likely to be cited than traditional journals.</td>\n",
       "      <td>Articles published in open access format are <font color = green>slightest</font> likely to be cited than traditional journals.</td>\n",
       "      <td>Successful</td>\n",
       "    </tr>\n",
       "    <tr>\n",
       "      <th>86</th>\n",
       "      <td>Autologous transplantation of mesenchymal stem cells <font color = red>causes</font> a higher rate of opportunistic infections than induction therapy with anti-interleukin-2 receptor antibodies.</td>\n",
       "      <td>Autologous transplantation of mesenchymal stem cells <font color = green>arises</font> a higher rate of opportunistic infections than induction therapy with anti-interleukin-2 receptor antibodies.</td>\n",
       "      <td>Successful</td>\n",
       "    </tr>\n",
       "    <tr>\n",
       "      <th>87</th>\n",
       "      <td>Bariatric surgery has a <font color = red>positive</font> impact on mental health.</td>\n",
       "      <td>Bariatric surgery has a <font color = green>actionable</font> impact on mental health.</td>\n",
       "      <td>Successful</td>\n",
       "    </tr>\n",
       "    <tr>\n",
       "      <th>88</th>\n",
       "      <td>Birth-weight is positively associated with breast <font color = red>cancer</font>.</td>\n",
       "      <td>Birth-weight is positively associated with breast <font color = green>cystic</font>.</td>\n",
       "      <td>Successful</td>\n",
       "    </tr>\n",
       "    <tr>\n",
       "      <th>89</th>\n",
       "      <td>Breast cancer development is determined <font color = red>exclusively</font> by genetic factors.</td>\n",
       "      <td>Breast cancer development is determined <font color = green>abundantly</font> by genetic factors.</td>\n",
       "      <td>Successful</td>\n",
       "    </tr>\n",
       "    <tr>\n",
       "      <th>90</th>\n",
       "      <td>CHEK2 is not <font color = red>associated</font> with breast cancer.</td>\n",
       "      <td>CHEK2 is not <font color = green>coupled</font> with breast cancer.</td>\n",
       "      <td>Successful</td>\n",
       "    </tr>\n",
       "    <tr>\n",
       "      <th>91</th>\n",
       "      <td><font color = red>CR</font> is associated with higher methylation age.</td>\n",
       "      <td><font color = green>RT</font> is associated with higher methylation age.</td>\n",
       "      <td>Successful</td>\n",
       "    </tr>\n",
       "    <tr>\n",
       "      <th>92</th>\n",
       "      <td>CX3CR1 on the Th2 cells <font color = red>promotes</font> airway inflammation.</td>\n",
       "      <td>CX3CR1 on the Th2 cells <font color = green>enhancing</font> airway inflammation.</td>\n",
       "      <td>Successful</td>\n",
       "    </tr>\n",
       "    <tr>\n",
       "      <th>93</th>\n",
       "      <td>Chenodeosycholic acid treatment reduces whole-body <font color = red>energy</font> expenditure.</td>\n",
       "      <td>Chenodeosycholic acid treatment reduces whole-body <font color = green>strength</font> expenditure.</td>\n",
       "      <td>Successful</td>\n",
       "    </tr>\n",
       "    <tr>\n",
       "      <th>94</th>\n",
       "      <td>Commelina yellow mottle virus' (ComYMV) genome consists of 7489 baise pairs.</td>\n",
       "      <td>Commelina yellow mottle virus' (ComYMV) genome consists of 7489 baise pairs.</td>\n",
       "      <td>Failed</td>\n",
       "    </tr>\n",
       "    <tr>\n",
       "      <th>95</th>\n",
       "      <td>Gene <font color = red>expression</font> does not vary appreciably across genetically identical cells.</td>\n",
       "      <td>Gene <font color = green>discourses</font> does not vary appreciably across genetically identical cells.</td>\n",
       "      <td>Successful</td>\n",
       "    </tr>\n",
       "    <tr>\n",
       "      <th>96</th>\n",
       "      <td><font color = red>Headaches</font> are not correlated with cognitive impairment.</td>\n",
       "      <td><font color = green>Arthritis</font> are not correlated with cognitive impairment.</td>\n",
       "      <td>Successful</td>\n",
       "    </tr>\n",
       "    <tr>\n",
       "      <th>97</th>\n",
       "      <td>High cardiopulmonary <font color = red>fitness</font> causes increased mortality rate.</td>\n",
       "      <td>High cardiopulmonary <font color = green>capacities</font> causes increased mortality rate.</td>\n",
       "      <td>Successful</td>\n",
       "    </tr>\n",
       "    <tr>\n",
       "      <th>98</th>\n",
       "      <td>Incidence of heart failure decreased by 10% in women since 1979.</td>\n",
       "      <td>Incidence of heart failure decreased by 10% in women since 1979.</td>\n",
       "      <td>Failed</td>\n",
       "    </tr>\n",
       "    <tr>\n",
       "      <th>99</th>\n",
       "      <td>Incidence rates of cervical cancer have <font color = red>increased</font> due to nationwide screening programs based primarily on cytology to detect uterine cervical cancer.</td>\n",
       "      <td>Incidence rates of cervical cancer have <font color = green>improve</font> due to nationwide screening programs based primarily on cytology to detect uterine cervical cancer.</td>\n",
       "      <td>Successful</td>\n",
       "    </tr>\n",
       "    <tr>\n",
       "      <th>100</th>\n",
       "      <td>Increased vessel density along with a reduction in fibrosis <font color = red>decreases</font> the efficacy of chemotherapy treatments.</td>\n",
       "      <td>Increased vessel density along with a reduction in fibrosis <font color = green>fallen</font> the efficacy of chemotherapy treatments.</td>\n",
       "      <td>Successful</td>\n",
       "    </tr>\n",
       "    <tr>\n",
       "      <th>101</th>\n",
       "      <td>LDL cholesterol has no involvement in the development of cardiovascular disease.</td>\n",
       "      <td>LDL cholesterol has no involvement in the development of cardiovascular disease.</td>\n",
       "      <td>Failed</td>\n",
       "    </tr>\n",
       "    <tr>\n",
       "      <th>102</th>\n",
       "      <td>Leuko-increased blood increases infectious complications in red blood cell transfusion.</td>\n",
       "      <td>Leuko-increased blood increases infectious complications in red blood cell transfusion.</td>\n",
       "      <td>Failed</td>\n",
       "    </tr>\n",
       "    <tr>\n",
       "      <th>103</th>\n",
       "      <td>Ly6C hi monocytes have a lower inflammatory capacity than Ly6C lo monocytes.</td>\n",
       "      <td>Ly6C hi monocytes have a lower inflammatory capacity than Ly6C lo monocytes.</td>\n",
       "      <td>Failed</td>\n",
       "    </tr>\n",
       "    <tr>\n",
       "      <th>104</th>\n",
       "      <td>Macrolides have no protective effect against myocardial infarction.</td>\n",
       "      <td>Macrolides have no protective effect against myocardial infarction.</td>\n",
       "      <td>Failed</td>\n",
       "    </tr>\n",
       "    <tr>\n",
       "      <th>105</th>\n",
       "      <td>Mice that <font color = red>lack</font> Interferon-γ or its receptor exhibit high resistance to experimental autoimmune myocarditis.</td>\n",
       "      <td>Mice that <font color = green>absence</font> Interferon-γ or its receptor exhibit high resistance to experimental autoimmune myocarditis.</td>\n",
       "      <td>Successful</td>\n",
       "    </tr>\n",
       "    <tr>\n",
       "      <th>106</th>\n",
       "      <td>Mitochondria are uninvolved in apoptosis.</td>\n",
       "      <td>Mitochondria are uninvolved in apoptosis.</td>\n",
       "      <td>Failed</td>\n",
       "    </tr>\n",
       "    <tr>\n",
       "      <th>107</th>\n",
       "      <td>New drugs for tuberculosis often do not penetrate the necrotic portion of a tuberculosis lesion in high concentrations.</td>\n",
       "      <td>New drugs for tuberculosis often do not penetrate the necrotic portion of a tuberculosis lesion in high concentrations.</td>\n",
       "      <td>Failed</td>\n",
       "    </tr>\n",
       "    <tr>\n",
       "      <th>108</th>\n",
       "      <td>Non-invasive ventilation use should be <font color = red>decreased</font> if there is inadequate response to conventional treatment.</td>\n",
       "      <td>Non-invasive ventilation use should be <font color = green>fell</font> if there is inadequate response to conventional treatment.</td>\n",
       "      <td>Successful</td>\n",
       "    </tr>\n",
       "    <tr>\n",
       "      <th>109</th>\n",
       "      <td>Obesity is determined <font color = red>solely</font> by environmental factors.</td>\n",
       "      <td>Obesity is determined <font color = green>abundantly</font> by environmental factors.</td>\n",
       "      <td>Successful</td>\n",
       "    </tr>\n",
       "    <tr>\n",
       "      <th>110</th>\n",
       "      <td><font color = red>Reduced</font> responsiveness to interleukin-2 in regulatory T cells is associated with greater resistance to autoimmune diseases such as Type 1 Diabetes.</td>\n",
       "      <td><font color = green>Mitigation</font> responsiveness to interleukin-2 in regulatory T cells is associated with greater resistance to autoimmune diseases such as Type 1 Diabetes.</td>\n",
       "      <td>Successful</td>\n",
       "    </tr>\n",
       "    <tr>\n",
       "      <th>111</th>\n",
       "      <td>Suboptimal <font color = red>nutrition</font> is not predictive of chronic disease</td>\n",
       "      <td>Suboptimal <font color = green>devouring</font> is not predictive of chronic disease</td>\n",
       "      <td>Successful</td>\n",
       "    </tr>\n",
       "    <tr>\n",
       "      <th>112</th>\n",
       "      <td>The risk of male prisoners harming themselves is ten times that of female prisoners.</td>\n",
       "      <td>The risk of male prisoners harming themselves is ten times that of female prisoners.</td>\n",
       "      <td>Failed</td>\n",
       "    </tr>\n",
       "    <tr>\n",
       "      <th>113</th>\n",
       "      <td>There is an <font color = red>inverse</font> relationship between hip fractures and statin use.</td>\n",
       "      <td>There is an <font color = green>invest</font> relationship between hip fractures and statin use.</td>\n",
       "      <td>Successful</td>\n",
       "    </tr>\n",
       "    <tr>\n",
       "      <th>114</th>\n",
       "      <td>Thigh-length graduated compression stockings (GCS) did not <font color = red>reduce</font> deep vein thrombosis in patients admitted to hospital who are immobile because of acute stroke.</td>\n",
       "      <td>Thigh-length graduated compression stockings (GCS) did not <font color = green>decrease</font> deep vein thrombosis in patients admitted to hospital who are immobile because of acute stroke.</td>\n",
       "      <td>Successful</td>\n",
       "    </tr>\n",
       "    <tr>\n",
       "      <th>115</th>\n",
       "      <td>Tirasemtiv has no effect on fast-twitch muscle.</td>\n",
       "      <td>Tirasemtiv has no effect on fast-twitch muscle.</td>\n",
       "      <td>Failed</td>\n",
       "    </tr>\n",
       "    <tr>\n",
       "      <th>116</th>\n",
       "      <td>Transplanted human glial progenitor cells are <font color = red>incapable</font> of forming a neural network with host animals' neurons.</td>\n",
       "      <td>Transplanted human glial progenitor cells are <font color = green>vulnerable</font> of forming a neural network with host animals' neurons.</td>\n",
       "      <td>Successful</td>\n",
       "    </tr>\n",
       "    <tr>\n",
       "      <th>117</th>\n",
       "      <td>Ultrasound guidance significantly <font color = red>raises</font> the number of traumatic procedures when attempting needle insertion.</td>\n",
       "      <td>Ultrasound guidance significantly <font color = green>begs</font> the number of traumatic procedures when attempting needle insertion.</td>\n",
       "      <td>Successful</td>\n",
       "    </tr>\n",
       "  </tbody>\n",
       "</table>"
      ],
      "text/plain": [
       "<IPython.core.display.HTML object>"
      ]
     },
     "metadata": {},
     "output_type": "display_data"
    }
   ],
   "source": [
    "logger = attacker_txt_fooler.attack_log_manager.loggers[0]\n",
    "successes = logger.df\n",
    "display(HTML(successes[['original_text', 'perturbed_text', 'result_type']].to_html(escape=False)))"
   ]
  },
  {
   "cell_type": "code",
   "execution_count": 42,
   "id": "2a2299c9",
   "metadata": {
    "ExecuteTime": {
     "end_time": "2022-01-24T18:48:07.126672Z",
     "start_time": "2022-01-24T18:48:07.123861Z"
    }
   },
   "outputs": [],
   "source": [
    "perturb_results_txt_fooler.extend([(cur_result.original_text(), cur_result.perturbed_text(), cur_result.num_queries, \n",
    "                                    str(cur_result.__class__.__name__), 'TextFoolerJin2019') for cur_result in attack_results_txt_fooler] )"
   ]
  },
  {
   "cell_type": "code",
   "execution_count": 43,
   "id": "8e6ba88c",
   "metadata": {
    "ExecuteTime": {
     "end_time": "2022-01-24T18:48:07.131565Z",
     "start_time": "2022-01-24T18:48:07.128381Z"
    }
   },
   "outputs": [],
   "source": [
    "df_txt_fooler = pd.DataFrame(perturb_results_txt_fooler, columns = ['org_claim', 'gen_claim', \n",
    "                                                                    'num_of_query', 'attack_result', 'attack_method'])"
   ]
  },
  {
   "cell_type": "code",
   "execution_count": 44,
   "id": "f951a195",
   "metadata": {
    "ExecuteTime": {
     "end_time": "2022-01-24T18:48:07.144119Z",
     "start_time": "2022-01-24T18:48:07.133079Z"
    }
   },
   "outputs": [
    {
     "data": {
      "text/html": [
       "<div>\n",
       "<style scoped>\n",
       "    .dataframe tbody tr th:only-of-type {\n",
       "        vertical-align: middle;\n",
       "    }\n",
       "\n",
       "    .dataframe tbody tr th {\n",
       "        vertical-align: top;\n",
       "    }\n",
       "\n",
       "    .dataframe thead th {\n",
       "        text-align: right;\n",
       "    }\n",
       "</style>\n",
       "<table border=\"1\" class=\"dataframe\">\n",
       "  <thead>\n",
       "    <tr style=\"text-align: right;\">\n",
       "      <th></th>\n",
       "      <th>org_claim</th>\n",
       "      <th>gen_claim</th>\n",
       "      <th>num_of_query</th>\n",
       "      <th>attack_result</th>\n",
       "      <th>attack_method</th>\n",
       "    </tr>\n",
       "  </thead>\n",
       "  <tbody>\n",
       "    <tr>\n",
       "      <th>0</th>\n",
       "      <td>76-85% of people with severe mental disorder r...</td>\n",
       "      <td>76-85% of people with severe mental disorder r...</td>\n",
       "      <td>62</td>\n",
       "      <td>SuccessfulAttackResult</td>\n",
       "      <td>TextFoolerJin2019</td>\n",
       "    </tr>\n",
       "    <tr>\n",
       "      <th>1</th>\n",
       "      <td>ART has no effect on the infectiveness of HIV-...</td>\n",
       "      <td>KIND has no effect on the infectiveness of HIV...</td>\n",
       "      <td>22</td>\n",
       "      <td>SuccessfulAttackResult</td>\n",
       "      <td>TextFoolerJin2019</td>\n",
       "    </tr>\n",
       "    <tr>\n",
       "      <th>2</th>\n",
       "      <td>Ambulatory blood pressure monitoring is inaccu...</td>\n",
       "      <td>Ambulatory blood pressure monitoring is inaccu...</td>\n",
       "      <td>179</td>\n",
       "      <td>FailedAttackResult</td>\n",
       "      <td>TextFoolerJin2019</td>\n",
       "    </tr>\n",
       "    <tr>\n",
       "      <th>3</th>\n",
       "      <td>Antidepressants increase the severity of migra...</td>\n",
       "      <td>Ambien increase the severity of migraines.</td>\n",
       "      <td>30</td>\n",
       "      <td>SuccessfulAttackResult</td>\n",
       "      <td>TextFoolerJin2019</td>\n",
       "    </tr>\n",
       "    <tr>\n",
       "      <th>4</th>\n",
       "      <td>Antimicrobial agents are less effective due to...</td>\n",
       "      <td>Antimicrobial agents are less effective due to...</td>\n",
       "      <td>41</td>\n",
       "      <td>SuccessfulAttackResult</td>\n",
       "      <td>TextFoolerJin2019</td>\n",
       "    </tr>\n",
       "    <tr>\n",
       "      <th>...</th>\n",
       "      <td>...</td>\n",
       "      <td>...</td>\n",
       "      <td>...</td>\n",
       "      <td>...</td>\n",
       "      <td>...</td>\n",
       "    </tr>\n",
       "    <tr>\n",
       "      <th>113</th>\n",
       "      <td>There is an inverse relationship between hip f...</td>\n",
       "      <td>There is an invest relationship between hip fr...</td>\n",
       "      <td>28</td>\n",
       "      <td>SuccessfulAttackResult</td>\n",
       "      <td>TextFoolerJin2019</td>\n",
       "    </tr>\n",
       "    <tr>\n",
       "      <th>114</th>\n",
       "      <td>Thigh-length graduated compression stockings (...</td>\n",
       "      <td>Thigh-length graduated compression stockings (...</td>\n",
       "      <td>72</td>\n",
       "      <td>SuccessfulAttackResult</td>\n",
       "      <td>TextFoolerJin2019</td>\n",
       "    </tr>\n",
       "    <tr>\n",
       "      <th>115</th>\n",
       "      <td>Tirasemtiv has no effect on fast-twitch muscle.</td>\n",
       "      <td>Tirasemtiv has no effect on fast-twitch muscle.</td>\n",
       "      <td>73</td>\n",
       "      <td>FailedAttackResult</td>\n",
       "      <td>TextFoolerJin2019</td>\n",
       "    </tr>\n",
       "    <tr>\n",
       "      <th>116</th>\n",
       "      <td>Transplanted human glial progenitor cells are ...</td>\n",
       "      <td>Transplanted human glial progenitor cells are ...</td>\n",
       "      <td>71</td>\n",
       "      <td>SuccessfulAttackResult</td>\n",
       "      <td>TextFoolerJin2019</td>\n",
       "    </tr>\n",
       "    <tr>\n",
       "      <th>117</th>\n",
       "      <td>Ultrasound guidance significantly raises the n...</td>\n",
       "      <td>Ultrasound guidance significantly begs the num...</td>\n",
       "      <td>63</td>\n",
       "      <td>SuccessfulAttackResult</td>\n",
       "      <td>TextFoolerJin2019</td>\n",
       "    </tr>\n",
       "  </tbody>\n",
       "</table>\n",
       "<p>118 rows × 5 columns</p>\n",
       "</div>"
      ],
      "text/plain": [
       "                                             org_claim  \\\n",
       "0    76-85% of people with severe mental disorder r...   \n",
       "1    ART has no effect on the infectiveness of HIV-...   \n",
       "2    Ambulatory blood pressure monitoring is inaccu...   \n",
       "3    Antidepressants increase the severity of migra...   \n",
       "4    Antimicrobial agents are less effective due to...   \n",
       "..                                                 ...   \n",
       "113  There is an inverse relationship between hip f...   \n",
       "114  Thigh-length graduated compression stockings (...   \n",
       "115    Tirasemtiv has no effect on fast-twitch muscle.   \n",
       "116  Transplanted human glial progenitor cells are ...   \n",
       "117  Ultrasound guidance significantly raises the n...   \n",
       "\n",
       "                                             gen_claim  num_of_query  \\\n",
       "0    76-85% of people with severe mental disorder r...            62   \n",
       "1    KIND has no effect on the infectiveness of HIV...            22   \n",
       "2    Ambulatory blood pressure monitoring is inaccu...           179   \n",
       "3           Ambien increase the severity of migraines.            30   \n",
       "4    Antimicrobial agents are less effective due to...            41   \n",
       "..                                                 ...           ...   \n",
       "113  There is an invest relationship between hip fr...            28   \n",
       "114  Thigh-length graduated compression stockings (...            72   \n",
       "115    Tirasemtiv has no effect on fast-twitch muscle.            73   \n",
       "116  Transplanted human glial progenitor cells are ...            71   \n",
       "117  Ultrasound guidance significantly begs the num...            63   \n",
       "\n",
       "              attack_result      attack_method  \n",
       "0    SuccessfulAttackResult  TextFoolerJin2019  \n",
       "1    SuccessfulAttackResult  TextFoolerJin2019  \n",
       "2        FailedAttackResult  TextFoolerJin2019  \n",
       "3    SuccessfulAttackResult  TextFoolerJin2019  \n",
       "4    SuccessfulAttackResult  TextFoolerJin2019  \n",
       "..                      ...                ...  \n",
       "113  SuccessfulAttackResult  TextFoolerJin2019  \n",
       "114  SuccessfulAttackResult  TextFoolerJin2019  \n",
       "115      FailedAttackResult  TextFoolerJin2019  \n",
       "116  SuccessfulAttackResult  TextFoolerJin2019  \n",
       "117  SuccessfulAttackResult  TextFoolerJin2019  \n",
       "\n",
       "[118 rows x 5 columns]"
      ]
     },
     "execution_count": 44,
     "metadata": {},
     "output_type": "execute_result"
    }
   ],
   "source": [
    "df_txt_fooler"
   ]
  },
  {
   "cell_type": "code",
   "execution_count": 45,
   "id": "5189fd34",
   "metadata": {
    "ExecuteTime": {
     "end_time": "2022-01-24T18:48:07.150112Z",
     "start_time": "2022-01-24T18:48:07.145645Z"
    }
   },
   "outputs": [],
   "source": [
    "df_txt_fooler.to_pickle('../../dfs_generated/paraphrased/existing_literature_methods/scifact_as_black_box_model_2_output/scifact_textfooler_jin_2019_ref_to_sup_2_opt.pkl')\n",
    "df_txt_fooler.to_csv('../../dfs_generated/paraphrased/existing_literature_methods/scifact_as_black_box_model_2_output/scifact_textfooler_jin_2019_ref_to_sup_2_opt.csv')"
   ]
  },
  {
   "cell_type": "code",
   "execution_count": null,
   "id": "7ba0441a",
   "metadata": {
    "ExecuteTime": {
     "start_time": "2022-01-20T16:54:53.866Z"
    }
   },
   "outputs": [],
   "source": []
  },
  {
   "cell_type": "markdown",
   "id": "b26b7850",
   "metadata": {},
   "source": [
    "## CheckList"
   ]
  },
  {
   "cell_type": "code",
   "execution_count": 38,
   "id": "e96b1bcb",
   "metadata": {
    "ExecuteTime": {
     "end_time": "2022-01-24T22:50:38.923026Z",
     "start_time": "2022-01-24T22:50:38.919169Z"
    }
   },
   "outputs": [],
   "source": [
    "logging.info(\">>> \\n\\\\n CheckList >>> \")"
   ]
  },
  {
   "cell_type": "code",
   "execution_count": 39,
   "id": "445bd49f",
   "metadata": {
    "ExecuteTime": {
     "end_time": "2022-01-24T22:50:39.615690Z",
     "start_time": "2022-01-24T22:50:39.611562Z"
    }
   },
   "outputs": [],
   "source": [
    "from textattack.attack_recipes.checklist_ribeiro_2020 import CheckList2020"
   ]
  },
  {
   "cell_type": "raw",
   "id": "6f0ae19d",
   "metadata": {
    "ExecuteTime": {
     "start_time": "2022-01-20T16:54:53.912Z"
    }
   },
   "source": [
    "model_cklist = transformers.AutoModelForSequenceClassification.from_pretrained(PARAPHRASE_PROJECT_SETTINGS['config_scifact']['cls_model_name'])\n",
    "tokenizer_cklist = transformers.AutoTokenizer.from_pretrained(PARAPHRASE_PROJECT_SETTINGS['config_scifact']['cls_model_name'])\n",
    "model_wrapper_cklist = ScifactModelWrapper(class_model)\n",
    "#model_wrapper_cklist = HuggingFaceModelWrapper(model_cklist, tokenizer_cklist)"
   ]
  },
  {
   "cell_type": "code",
   "execution_count": 40,
   "id": "ca47163c",
   "metadata": {
    "ExecuteTime": {
     "end_time": "2022-01-24T23:08:45.191479Z",
     "start_time": "2022-01-24T22:50:44.918819Z"
    }
   },
   "outputs": [
    {
     "name": "stderr",
     "output_type": "stream",
     "text": [
      "textattack: Unknown if model of class <class 'str'> compatible with goal function <class 'textattack.goal_functions.classification.untargeted_classification.UntargetedClassification'>.\n",
      "textattack: Logging to CSV at path ../../logs/checklist_log_results_refute.csv\n",
      "  0%|          | 0/118 [00:00<?, ?it/s]"
     ]
    },
    {
     "name": "stdout",
     "output_type": "stream",
     "text": [
      "Attack(\n",
      "  (search_method): GreedySearch\n",
      "  (goal_function):  UntargetedClassification\n",
      "  (transformation):  CompositeTransformation(\n",
      "    (0): WordSwapExtend\n",
      "    (1): WordSwapContract\n",
      "    (2): WordSwapChangeName\n",
      "    (3): WordSwapChangeNumber\n",
      "    (4): WordSwapChangeLocation\n",
      "    )\n",
      "  (constraints): \n",
      "    (0): RepeatModification\n",
      "  (is_black_box):  True\n",
      ") \n",
      "\n"
     ]
    },
    {
     "name": "stderr",
     "output_type": "stream",
     "text": [
      "/home/qudratealahyratu/anaconda3/envs/scifact/lib/python3.7/site-packages/transformers/tokenization_utils_base.py:2190: FutureWarning: The `pad_to_max_length` argument is deprecated and will be removed in a future version, use `padding=True` or `padding='longest'` to pad to the longest sequence in the batch, or use `padding='max_length'` to pad to a max length. In this case, you can give a specific length with `max_length` (e.g. `max_length=45`) or leave max_length to None to pad to the maximal input size of the model (e.g. 512 for Bert).\n",
      "  FutureWarning,\n"
     ]
    },
    {
     "name": "stdout",
     "output_type": "stream",
     "text": [
      "2022-01-24 15:50:52,407 --------------------------------------------------------------------------------\n",
      "2022-01-24 15:50:52,408 The model key 'ner' now maps to 'https://huggingface.co/flair/ner-english' on the HuggingFace ModelHub\n",
      "2022-01-24 15:50:52,409  - The most current version of the model is automatically downloaded from there.\n",
      "2022-01-24 15:50:52,409  - (you can alternatively manually download the original model at https://nlp.informatik.hu-berlin.de/resources/models/ner/en-ner-conll03-v0.4.pt)\n",
      "2022-01-24 15:50:52,410 --------------------------------------------------------------------------------\n",
      "2022-01-24 15:50:52,790 loading file /home/qudratealahyratu/.flair/models/ner-english/4f4cdab26f24cb98b732b389e6cebc646c36f54cfd6e0b7d3b90b25656e4262f.8baa8ae8795f4df80b28e7f7b61d788ecbb057d1dc85aacb316f1bd02837a4a4\n"
     ]
    },
    {
     "name": "stderr",
     "output_type": "stream",
     "text": [
      "[Succeeded / Failed / Skipped / Total] 0 / 1 / 0 / 1:   1%|          | 1/118 [00:10<20:26, 10.49s/it]"
     ]
    },
    {
     "name": "stdout",
     "output_type": "stream",
     "text": [
      "--------------------------------------------- Result 1 ---------------------------------------------\n",
      "[[Refute (100%)]] --> [[[FAILED]]]\n",
      "\n",
      "76-85% of people with severe mental disorder receive no treatment in low and middle income countries.\n",
      "\n",
      "\n"
     ]
    },
    {
     "name": "stderr",
     "output_type": "stream",
     "text": [
      "/home/qudratealahyratu/anaconda3/envs/scifact/lib/python3.7/site-packages/transformers/tokenization_utils_base.py:2190: FutureWarning: The `pad_to_max_length` argument is deprecated and will be removed in a future version, use `padding=True` or `padding='longest'` to pad to the longest sequence in the batch, or use `padding='max_length'` to pad to a max length. In this case, you can give a specific length with `max_length` (e.g. `max_length=45`) or leave max_length to None to pad to the maximal input size of the model (e.g. 512 for Bert).\n",
      "  FutureWarning,\n",
      "[Succeeded / Failed / Skipped / Total] 0 / 2 / 0 / 2:   2%|▏         | 2/118 [00:17<17:12,  8.90s/it]"
     ]
    },
    {
     "name": "stdout",
     "output_type": "stream",
     "text": [
      "--------------------------------------------- Result 2 ---------------------------------------------\n",
      "[[Refute (100%)]] --> [[[FAILED]]]\n",
      "\n",
      "ART has no effect on the infectiveness of HIV-positive people.\n",
      "\n",
      "\n"
     ]
    },
    {
     "name": "stderr",
     "output_type": "stream",
     "text": [
      "[Succeeded / Failed / Skipped / Total] 0 / 3 / 0 / 3:   3%|▎         | 3/118 [00:23<14:54,  7.78s/it]"
     ]
    },
    {
     "name": "stdout",
     "output_type": "stream",
     "text": [
      "--------------------------------------------- Result 3 ---------------------------------------------\n",
      "[[Refute (100%)]] --> [[[FAILED]]]\n",
      "\n",
      "Ambulatory blood pressure monitoring is inaccurate at diagnosing hypertension.\n",
      "\n",
      "\n"
     ]
    },
    {
     "name": "stderr",
     "output_type": "stream",
     "text": [
      "[Succeeded / Failed / Skipped / Total] 0 / 4 / 0 / 4:   3%|▎         | 4/118 [00:27<13:14,  6.97s/it]"
     ]
    },
    {
     "name": "stdout",
     "output_type": "stream",
     "text": [
      "--------------------------------------------- Result 4 ---------------------------------------------\n",
      "[[Refute (100%)]] --> [[[FAILED]]]\n",
      "\n",
      "Antidepressants increase the severity of migraines.\n",
      "\n",
      "\n"
     ]
    },
    {
     "name": "stderr",
     "output_type": "stream",
     "text": [
      "[Succeeded / Failed / Skipped / Total] 0 / 5 / 0 / 5:   4%|▍         | 5/118 [00:34<12:59,  6.90s/it]"
     ]
    },
    {
     "name": "stdout",
     "output_type": "stream",
     "text": [
      "--------------------------------------------- Result 5 ---------------------------------------------\n",
      "[[Refute (100%)]] --> [[[FAILED]]]\n",
      "\n",
      "Antimicrobial agents are less effective due to the pressure of antimicrobial usage.\n",
      "\n",
      "\n"
     ]
    },
    {
     "name": "stderr",
     "output_type": "stream",
     "text": [
      "[Succeeded / Failed / Skipped / Total] 0 / 6 / 0 / 6:   5%|▌         | 6/118 [00:40<12:34,  6.74s/it]"
     ]
    },
    {
     "name": "stdout",
     "output_type": "stream",
     "text": [
      "--------------------------------------------- Result 6 ---------------------------------------------\n",
      "[[Refute (100%)]] --> [[[FAILED]]]\n",
      "\n",
      "Antimicrobial agents are more effective due to the pressure of antimicrobial usage.\n",
      "\n",
      "\n"
     ]
    },
    {
     "name": "stderr",
     "output_type": "stream",
     "text": [
      "[Succeeded / Failed / Skipped / Total] 0 / 7 / 0 / 7:   6%|▌         | 7/118 [00:45<12:08,  6.57s/it]"
     ]
    },
    {
     "name": "stdout",
     "output_type": "stream",
     "text": [
      "--------------------------------------------- Result 7 ---------------------------------------------\n",
      "[[Refute (100%)]] --> [[[FAILED]]]\n",
      "\n",
      "Antiretroviral therapy increases rates of tuberculosis across a broad range of CD4 strata.\n",
      "\n",
      "\n"
     ]
    },
    {
     "name": "stderr",
     "output_type": "stream",
     "text": [
      "[Succeeded / Failed / Skipped / Total] 0 / 8 / 0 / 8:   7%|▋         | 8/118 [00:50<11:29,  6.27s/it]"
     ]
    },
    {
     "name": "stdout",
     "output_type": "stream",
     "text": [
      "--------------------------------------------- Result 8 ---------------------------------------------\n",
      "[[Refute (100%)]] --> [[[FAILED]]]\n",
      "\n",
      "Autophagy deficiency in the liver increases vulnerability to insulin resistance.\n",
      "\n",
      "\n"
     ]
    },
    {
     "name": "stderr",
     "output_type": "stream",
     "text": [
      "[Succeeded / Failed / Skipped / Total] 0 / 9 / 0 / 9:   8%|▊         | 9/118 [00:57<11:36,  6.39s/it]"
     ]
    },
    {
     "name": "stdout",
     "output_type": "stream",
     "text": [
      "--------------------------------------------- Result 9 ---------------------------------------------\n",
      "[[Refute (100%)]] --> [[[FAILED]]]\n",
      "\n",
      "BCL-2 activation antagonizes the apoptotic effects of c-Myc.\n",
      "\n",
      "\n"
     ]
    },
    {
     "name": "stderr",
     "output_type": "stream",
     "text": [
      "[Succeeded / Failed / Skipped / Total] 0 / 10 / 0 / 10:   8%|▊         | 10/118 [01:04<11:33,  6.42s/it]"
     ]
    },
    {
     "name": "stdout",
     "output_type": "stream",
     "text": [
      "--------------------------------------------- Result 10 ---------------------------------------------\n",
      "[[Refute (100%)]] --> [[[FAILED]]]\n",
      "\n",
      "BCL-2 promotes the apoptotic effects of c-Myc.\n",
      "\n",
      "\n"
     ]
    },
    {
     "name": "stderr",
     "output_type": "stream",
     "text": [
      "[Succeeded / Failed / Skipped / Total] 0 / 11 / 0 / 11:   9%|▉         | 11/118 [01:10<11:25,  6.41s/it]"
     ]
    },
    {
     "name": "stdout",
     "output_type": "stream",
     "text": [
      "--------------------------------------------- Result 11 ---------------------------------------------\n",
      "[[Refute (100%)]] --> [[[FAILED]]]\n",
      "\n",
      "Bariatric surgery increases rates of colorectal cancer.\n",
      "\n",
      "\n"
     ]
    },
    {
     "name": "stderr",
     "output_type": "stream",
     "text": [
      "[Succeeded / Failed / Skipped / Total] 0 / 12 / 0 / 12:  10%|█         | 12/118 [01:15<11:09,  6.32s/it]"
     ]
    },
    {
     "name": "stdout",
     "output_type": "stream",
     "text": [
      "--------------------------------------------- Result 12 ---------------------------------------------\n",
      "[[Refute (100%)]] --> [[[FAILED]]]\n",
      "\n",
      "Birth-weight is negatively associated with breast cancer.\n",
      "\n",
      "\n"
     ]
    },
    {
     "name": "stderr",
     "output_type": "stream",
     "text": [
      "[Succeeded / Failed / Skipped / Total] 0 / 13 / 0 / 13:  11%|█         | 13/118 [01:26<11:37,  6.64s/it]"
     ]
    },
    {
     "name": "stdout",
     "output_type": "stream",
     "text": [
      "--------------------------------------------- Result 13 ---------------------------------------------\n",
      "[[Refute (100%)]] --> [[[FAILED]]]\n",
      "\n",
      "Bone marrow cells don't contribute to adult macrophage compartments.\n",
      "\n",
      "\n"
     ]
    },
    {
     "name": "stderr",
     "output_type": "stream",
     "text": [
      "[Succeeded / Failed / Skipped / Total] 0 / 14 / 0 / 14:  12%|█▏        | 14/118 [01:30<11:13,  6.48s/it]"
     ]
    },
    {
     "name": "stdout",
     "output_type": "stream",
     "text": [
      "--------------------------------------------- Result 14 ---------------------------------------------\n",
      "[[Refute (100%)]] --> [[[FAILED]]]\n",
      "\n",
      "Chenodeoxycholic acid treatment decreases brown adipose tissue activity.\n",
      "\n",
      "\n"
     ]
    },
    {
     "name": "stderr",
     "output_type": "stream",
     "text": [
      "[Succeeded / Failed / Skipped / Total] 0 / 15 / 0 / 15:  13%|█▎        | 15/118 [02:08<14:41,  8.56s/it]"
     ]
    },
    {
     "name": "stdout",
     "output_type": "stream",
     "text": [
      "--------------------------------------------- Result 15 ---------------------------------------------\n",
      "[[Refute (100%)]] --> [[[FAILED]]]\n",
      "\n",
      "Chlamydia trachomatis is most prevalent in the UK among sexually-experienced individuals aged 16 to 24.\n",
      "\n",
      "\n"
     ]
    },
    {
     "name": "stderr",
     "output_type": "stream",
     "text": [
      "[Succeeded / Failed / Skipped / Total] 0 / 16 / 0 / 16:  14%|█▎        | 16/118 [02:13<14:11,  8.35s/it]"
     ]
    },
    {
     "name": "stdout",
     "output_type": "stream",
     "text": [
      "--------------------------------------------- Result 16 ---------------------------------------------\n",
      "[[Refute (100%)]] --> [[[FAILED]]]\n",
      "\n",
      "Cognitive behavioral therapy is an ineffective treatment for insomnia\n",
      "\n",
      "\n"
     ]
    },
    {
     "name": "stderr",
     "output_type": "stream",
     "text": [
      "[Succeeded / Failed / Skipped / Total] 0 / 17 / 0 / 17:  14%|█▍        | 17/118 [02:42<16:07,  9.57s/it]"
     ]
    },
    {
     "name": "stdout",
     "output_type": "stream",
     "text": [
      "--------------------------------------------- Result 17 ---------------------------------------------\n",
      "[[Refute (100%)]] --> [[[FAILED]]]\n",
      "\n",
      "Commelina yellow mottle virus' (ComYMV) genome consists of 2140 baise pairs.\n",
      "\n",
      "\n"
     ]
    },
    {
     "name": "stderr",
     "output_type": "stream",
     "text": [
      "[Succeeded / Failed / Skipped / Total] 0 / 18 / 0 / 18:  15%|█▌        | 18/118 [02:46<15:25,  9.25s/it]"
     ]
    },
    {
     "name": "stdout",
     "output_type": "stream",
     "text": [
      "--------------------------------------------- Result 18 ---------------------------------------------\n",
      "[[Refute (100%)]] --> [[[FAILED]]]\n",
      "\n",
      "Consumption of whole fruits increases the risk of type 2 diabetes.\n",
      "\n",
      "\n"
     ]
    },
    {
     "name": "stderr",
     "output_type": "stream",
     "text": [
      "[Succeeded / Failed / Skipped / Total] 0 / 19 / 0 / 19:  16%|█▌        | 19/118 [02:52<14:56,  9.05s/it]"
     ]
    },
    {
     "name": "stdout",
     "output_type": "stream",
     "text": [
      "--------------------------------------------- Result 19 ---------------------------------------------\n",
      "[[Refute (100%)]] --> [[[FAILED]]]\n",
      "\n",
      "Cost effectiveness evaluations based on cRCT data lack external validity.\n",
      "\n",
      "\n"
     ]
    },
    {
     "name": "stderr",
     "output_type": "stream",
     "text": [
      "[Succeeded / Failed / Skipped / Total] 0 / 20 / 0 / 20:  17%|█▋        | 20/118 [02:55<14:19,  8.77s/it]"
     ]
    },
    {
     "name": "stdout",
     "output_type": "stream",
     "text": [
      "--------------------------------------------- Result 20 ---------------------------------------------\n",
      "[[Refute (100%)]] --> [[[FAILED]]]\n",
      "\n",
      "DUSP4 decreases apoptosis.\n",
      "\n",
      "\n"
     ]
    },
    {
     "name": "stderr",
     "output_type": "stream",
     "text": [
      "[Succeeded / Failed / Skipped / Total] 0 / 21 / 0 / 21:  18%|█▊        | 21/118 [02:58<13:42,  8.48s/it]"
     ]
    },
    {
     "name": "stdout",
     "output_type": "stream",
     "text": [
      "--------------------------------------------- Result 21 ---------------------------------------------\n",
      "[[Refute (100%)]] --> [[[FAILED]]]\n",
      "\n",
      "Deltex has no known interactions with eIF3f.\n",
      "\n",
      "\n"
     ]
    },
    {
     "name": "stderr",
     "output_type": "stream",
     "text": [
      "[Succeeded / Failed / Skipped / Total] 0 / 22 / 0 / 22:  19%|█▊        | 22/118 [03:03<13:22,  8.36s/it]"
     ]
    },
    {
     "name": "stdout",
     "output_type": "stream",
     "text": [
      "--------------------------------------------- Result 22 ---------------------------------------------\n",
      "[[Refute (100%)]] --> [[[FAILED]]]\n",
      "\n",
      "Dexamethasone increases risk of postoperative bleeding.\n",
      "\n",
      "\n"
     ]
    },
    {
     "name": "stderr",
     "output_type": "stream",
     "text": [
      "[Succeeded / Failed / Skipped / Total] 0 / 23 / 0 / 23:  19%|█▉        | 23/118 [03:16<13:33,  8.56s/it]"
     ]
    },
    {
     "name": "stdout",
     "output_type": "stream",
     "text": [
      "--------------------------------------------- Result 23 ---------------------------------------------\n",
      "[[Refute (100%)]] --> [[[FAILED]]]\n",
      "\n",
      "Diabetes remission occurs more in people treated with conventional therapy than in people treated with laparoscopic adjustable gastric banding surgery.\n",
      "\n",
      "\n"
     ]
    },
    {
     "name": "stderr",
     "output_type": "stream",
     "text": [
      "[Succeeded / Failed / Skipped / Total] 0 / 24 / 0 / 24:  20%|██        | 24/118 [03:25<13:26,  8.58s/it]"
     ]
    },
    {
     "name": "stdout",
     "output_type": "stream",
     "text": [
      "--------------------------------------------- Result 24 ---------------------------------------------\n",
      "[[Refute (100%)]] --> [[[FAILED]]]\n",
      "\n",
      "Diabetic patients with acute coronary syndrome experience decreased short-term and long-term risk for bleeding events.\n",
      "\n",
      "\n"
     ]
    },
    {
     "name": "stderr",
     "output_type": "stream",
     "text": [
      "[Succeeded / Failed / Skipped / Total] 0 / 25 / 0 / 25:  21%|██        | 25/118 [03:28<12:56,  8.35s/it]"
     ]
    },
    {
     "name": "stdout",
     "output_type": "stream",
     "text": [
      "--------------------------------------------- Result 25 ---------------------------------------------\n",
      "[[Refute (100%)]] --> [[[FAILED]]]\n",
      "\n",
      "Diminished ovarian reserve is a reliable indicator of infertility in a non-infertile population.\n",
      "\n",
      "\n"
     ]
    },
    {
     "name": "stderr",
     "output_type": "stream",
     "text": [
      "[Succeeded / Failed / Skipped / Total] 0 / 26 / 0 / 26:  22%|██▏       | 26/118 [03:32<12:30,  8.15s/it]"
     ]
    },
    {
     "name": "stdout",
     "output_type": "stream",
     "text": [
      "--------------------------------------------- Result 26 ---------------------------------------------\n",
      "[[Refute (100%)]] --> [[[FAILED]]]\n",
      "\n",
      "Early patent ductus ateriosus (PDA) screening increases in-hospital mortality.\n",
      "\n",
      "\n"
     ]
    },
    {
     "name": "stderr",
     "output_type": "stream",
     "text": [
      "[Succeeded / Failed / Skipped / Total] 0 / 27 / 0 / 27:  23%|██▎       | 27/118 [03:41<12:24,  8.19s/it]"
     ]
    },
    {
     "name": "stdout",
     "output_type": "stream",
     "text": [
      "--------------------------------------------- Result 27 ---------------------------------------------\n",
      "[[Refute (100%)]] --> [[[FAILED]]]\n",
      "\n",
      "Enhanced early production of inflammatory chemokines damages viral control in the lung.\n",
      "\n",
      "\n"
     ]
    },
    {
     "name": "stderr",
     "output_type": "stream",
     "text": [
      "[Succeeded / Failed / Skipped / Total] 0 / 28 / 0 / 28:  24%|██▎       | 28/118 [03:45<12:04,  8.05s/it]"
     ]
    },
    {
     "name": "stdout",
     "output_type": "stream",
     "text": [
      "--------------------------------------------- Result 28 ---------------------------------------------\n",
      "[[Refute (100%)]] --> [[[FAILED]]]\n",
      "\n",
      "Exercise increases cancer mortality rates among Chinese citizens.\n",
      "\n",
      "\n"
     ]
    },
    {
     "name": "stderr",
     "output_type": "stream",
     "text": [
      "[Succeeded / Failed / Skipped / Total] 0 / 29 / 0 / 29:  25%|██▍       | 29/118 [03:48<11:41,  7.88s/it]"
     ]
    },
    {
     "name": "stdout",
     "output_type": "stream",
     "text": [
      "--------------------------------------------- Result 29 ---------------------------------------------\n",
      "[[Refute (100%)]] --> [[[FAILED]]]\n",
      "\n",
      "Exercise reduces cancer mortality rates among Chinese citizens.\n",
      "\n",
      "\n"
     ]
    },
    {
     "name": "stderr",
     "output_type": "stream",
     "text": [
      "[Succeeded / Failed / Skipped / Total] 0 / 30 / 0 / 30:  25%|██▌       | 30/118 [03:53<11:24,  7.78s/it]"
     ]
    },
    {
     "name": "stdout",
     "output_type": "stream",
     "text": [
      "--------------------------------------------- Result 30 ---------------------------------------------\n",
      "[[Refute (100%)]] --> [[[FAILED]]]\n",
      "\n",
      "Exposure to fine particulate air pollution is unrelated to anxiety prevalence.\n",
      "\n",
      "\n"
     ]
    },
    {
     "name": "stderr",
     "output_type": "stream",
     "text": [
      "[Succeeded / Failed / Skipped / Total] 0 / 31 / 0 / 31:  26%|██▋       | 31/118 [03:56<11:04,  7.64s/it]"
     ]
    },
    {
     "name": "stdout",
     "output_type": "stream",
     "text": [
      "--------------------------------------------- Result 31 ---------------------------------------------\n",
      "[[Refute (100%)]] --> [[[FAILED]]]\n",
      "\n",
      "Female carriers of the Apolipoprotein E4 (APOE4) allele have decreased risk for dementia.\n",
      "\n",
      "\n"
     ]
    },
    {
     "name": "stderr",
     "output_type": "stream",
     "text": [
      "[Succeeded / Failed / Skipped / Total] 0 / 32 / 0 / 32:  27%|██▋       | 32/118 [04:03<10:55,  7.62s/it]"
     ]
    },
    {
     "name": "stdout",
     "output_type": "stream",
     "text": [
      "--------------------------------------------- Result 32 ---------------------------------------------\n",
      "[[Refute (100%)]] --> [[[FAILED]]]\n",
      "\n",
      "Foxk2 regulates autophagy genes in muscle cells and fibroblast cells.\n",
      "\n",
      "\n"
     ]
    },
    {
     "name": "stderr",
     "output_type": "stream",
     "text": [
      "[Succeeded / Failed / Skipped / Total] 0 / 33 / 0 / 33:  28%|██▊       | 33/118 [04:07<10:38,  7.51s/it]"
     ]
    },
    {
     "name": "stdout",
     "output_type": "stream",
     "text": [
      "--------------------------------------------- Result 33 ---------------------------------------------\n",
      "[[Refute (100%)]] --> [[[FAILED]]]\n",
      "\n",
      "Gastric infection with Helicobacter pylori decreases risk of gastric cancer in humans.\n",
      "\n",
      "\n"
     ]
    },
    {
     "name": "stderr",
     "output_type": "stream",
     "text": [
      "[Succeeded / Failed / Skipped / Total] 0 / 34 / 0 / 34:  29%|██▉       | 34/118 [04:13<10:27,  7.47s/it]"
     ]
    },
    {
     "name": "stdout",
     "output_type": "stream",
     "text": [
      "--------------------------------------------- Result 34 ---------------------------------------------\n",
      "[[Refute (100%)]] --> [[[FAILED]]]\n",
      "\n",
      "General exercise therapy is more effective than scapular stabilizer exercises in reducing pain and improving function of the shoulder.\n",
      "\n",
      "\n"
     ]
    },
    {
     "name": "stderr",
     "output_type": "stream",
     "text": [
      "[Succeeded / Failed / Skipped / Total] 0 / 35 / 0 / 35:  30%|██▉       | 35/118 [04:20<10:16,  7.43s/it]"
     ]
    },
    {
     "name": "stdout",
     "output_type": "stream",
     "text": [
      "--------------------------------------------- Result 35 ---------------------------------------------\n",
      "[[Refute (100%)]] --> [[[FAILED]]]\n",
      "\n",
      "Gpr124 increases BBB breakdown in mouse models of ischemic stroke.\n",
      "\n",
      "\n"
     ]
    },
    {
     "name": "stderr",
     "output_type": "stream",
     "text": [
      "[Succeeded / Failed / Skipped / Total] 0 / 36 / 0 / 36:  31%|███       | 36/118 [04:25<10:04,  7.37s/it]"
     ]
    },
    {
     "name": "stdout",
     "output_type": "stream",
     "text": [
      "--------------------------------------------- Result 36 ---------------------------------------------\n",
      "[[Refute (100%)]] --> [[[FAILED]]]\n",
      "\n",
      "HbA1c consistently overestimates glycemic control in black individuals with Sickle cell trait (SCT).\n",
      "\n",
      "\n"
     ]
    },
    {
     "name": "stderr",
     "output_type": "stream",
     "text": [
      "[Succeeded / Failed / Skipped / Total] 0 / 37 / 0 / 37:  31%|███▏      | 37/118 [05:03<11:04,  8.20s/it]"
     ]
    },
    {
     "name": "stdout",
     "output_type": "stream",
     "text": [
      "--------------------------------------------- Result 37 ---------------------------------------------\n",
      "[[Refute (100%)]] --> [[[FAILED]]]\n",
      "\n",
      "Incidence of 10/66 dementia is lower than the incidence of DSM-IV dementia.\n",
      "\n",
      "\n"
     ]
    },
    {
     "name": "stderr",
     "output_type": "stream",
     "text": [
      "[Succeeded / Failed / Skipped / Total] 0 / 38 / 0 / 38:  32%|███▏      | 38/118 [05:11<10:56,  8.21s/it]"
     ]
    },
    {
     "name": "stdout",
     "output_type": "stream",
     "text": [
      "--------------------------------------------- Result 38 ---------------------------------------------\n",
      "[[Refute (100%)]] --> [[[FAILED]]]\n",
      "\n",
      "Including pharmacists in rounding teams does not alter the incidence of adverse drug events (ADEs).\n",
      "\n",
      "\n"
     ]
    },
    {
     "name": "stderr",
     "output_type": "stream",
     "text": [
      "[Succeeded / Failed / Skipped / Total] 0 / 39 / 0 / 39:  33%|███▎      | 39/118 [05:20<10:50,  8.23s/it]"
     ]
    },
    {
     "name": "stdout",
     "output_type": "stream",
     "text": [
      "--------------------------------------------- Result 39 ---------------------------------------------\n",
      "[[Refute (100%)]] --> [[[FAILED]]]\n",
      "\n",
      "Inhibiting focal adhesion formation increases the rate at which cells convert mechanical strain into inflammation and fibrosis.\n",
      "\n",
      "\n"
     ]
    },
    {
     "name": "stderr",
     "output_type": "stream",
     "text": [
      "[Succeeded / Failed / Skipped / Total] 0 / 40 / 0 / 40:  34%|███▍      | 40/118 [05:23<10:31,  8.09s/it]"
     ]
    },
    {
     "name": "stdout",
     "output_type": "stream",
     "text": [
      "--------------------------------------------- Result 40 ---------------------------------------------\n",
      "[[Refute (100%)]] --> [[[FAILED]]]\n",
      "\n",
      "Integrated care is ineffective at tackling multiple comorbidities.\n",
      "\n",
      "\n"
     ]
    },
    {
     "name": "stderr",
     "output_type": "stream",
     "text": [
      "[Succeeded / Failed / Skipped / Total] 0 / 41 / 0 / 41:  35%|███▍      | 41/118 [05:28<10:16,  8.00s/it]"
     ]
    },
    {
     "name": "stdout",
     "output_type": "stream",
     "text": [
      "--------------------------------------------- Result 41 ---------------------------------------------\n",
      "[[Refute (100%)]] --> [[[FAILED]]]\n",
      "\n",
      "MafA phosphorylation enhances its ubiquitination.\n",
      "\n",
      "\n"
     ]
    },
    {
     "name": "stderr",
     "output_type": "stream",
     "text": [
      "[Succeeded / Failed / Skipped / Total] 0 / 42 / 0 / 42:  36%|███▌      | 42/118 [05:32<10:01,  7.92s/it]"
     ]
    },
    {
     "name": "stdout",
     "output_type": "stream",
     "text": [
      "--------------------------------------------- Result 42 ---------------------------------------------\n",
      "[[Refute (100%)]] --> [[[FAILED]]]\n",
      "\n",
      "Major vault protein (MVP) leads to more aggressive tumors by regulating the sorting of tumor suppressive miR-193a into extracellular vesicles (EVs).\n",
      "\n",
      "\n"
     ]
    },
    {
     "name": "stderr",
     "output_type": "stream",
     "text": [
      "[Succeeded / Failed / Skipped / Total] 0 / 43 / 0 / 43:  36%|███▋      | 43/118 [05:45<10:03,  8.04s/it]"
     ]
    },
    {
     "name": "stdout",
     "output_type": "stream",
     "text": [
      "--------------------------------------------- Result 43 ---------------------------------------------\n",
      "[[Refute (100%)]] --> [[[FAILED]]]\n",
      "\n",
      "Medications to treat obesity do not have side effects.\n",
      "\n",
      "\n"
     ]
    },
    {
     "name": "stderr",
     "output_type": "stream",
     "text": [
      "[Succeeded / Failed / Skipped / Total] 0 / 44 / 0 / 44:  37%|███▋      | 44/118 [05:49<09:48,  7.95s/it]"
     ]
    },
    {
     "name": "stdout",
     "output_type": "stream",
     "text": [
      "--------------------------------------------- Result 44 ---------------------------------------------\n",
      "[[Refute (100%)]] --> [[[FAILED]]]\n",
      "\n",
      "Mice lacking Sirt1 in Sf1-expressing neurons are immune to diet-induced obesity and insulin resistance.\n",
      "\n",
      "\n"
     ]
    },
    {
     "name": "stderr",
     "output_type": "stream",
     "text": [
      "[Succeeded / Failed / Skipped / Total] 0 / 45 / 0 / 45:  38%|███▊      | 45/118 [05:54<09:34,  7.87s/it]"
     ]
    },
    {
     "name": "stdout",
     "output_type": "stream",
     "text": [
      "--------------------------------------------- Result 45 ---------------------------------------------\n",
      "[[Refute (100%)]] --> [[[FAILED]]]\n",
      "\n",
      "Mitochondria play a trivial role in calcium homeostasis.\n",
      "\n",
      "\n"
     ]
    },
    {
     "name": "stderr",
     "output_type": "stream",
     "text": [
      "[Succeeded / Failed / Skipped / Total] 0 / 46 / 0 / 46:  39%|███▉      | 46/118 [06:00<09:24,  7.84s/it]"
     ]
    },
    {
     "name": "stdout",
     "output_type": "stream",
     "text": [
      "--------------------------------------------- Result 46 ---------------------------------------------\n",
      "[[Refute (100%)]] --> [[[FAILED]]]\n",
      "\n",
      "Monoclonal antibody targeting of N-cadherin encourages metastasis.\n",
      "\n",
      "\n"
     ]
    },
    {
     "name": "stderr",
     "output_type": "stream",
     "text": [
      "[Succeeded / Failed / Skipped / Total] 0 / 47 / 0 / 47:  40%|███▉      | 47/118 [06:06<09:13,  7.80s/it]"
     ]
    },
    {
     "name": "stdout",
     "output_type": "stream",
     "text": [
      "--------------------------------------------- Result 47 ---------------------------------------------\n",
      "[[Refute (100%)]] --> [[[FAILED]]]\n",
      "\n",
      "Natriuretic peptides increase susceptibility to diabetes.\n",
      "\n",
      "\n"
     ]
    },
    {
     "name": "stderr",
     "output_type": "stream",
     "text": [
      "[Succeeded / Failed / Skipped / Total] 0 / 48 / 0 / 48:  41%|████      | 48/118 [07:21<10:43,  9.19s/it]"
     ]
    },
    {
     "name": "stdout",
     "output_type": "stream",
     "text": [
      "--------------------------------------------- Result 48 ---------------------------------------------\n",
      "[[Refute (100%)]] --> [[[FAILED]]]\n",
      "\n",
      "Nonhypertensive people who are 55 years old have a 90% chance of developing hypertension during their lifetime.\n",
      "\n",
      "\n"
     ]
    },
    {
     "name": "stderr",
     "output_type": "stream",
     "text": [
      "[Succeeded / Failed / Skipped / Total] 0 / 49 / 0 / 49:  42%|████▏     | 49/118 [07:28<10:31,  9.16s/it]"
     ]
    },
    {
     "name": "stdout",
     "output_type": "stream",
     "text": [
      "--------------------------------------------- Result 49 ---------------------------------------------\n",
      "[[Refute (100%)]] --> [[[FAILED]]]\n",
      "\n",
      "Noninvasive positive pressure ventilation is not predictive of acute respiratory failure after solid organ transplantation.\n",
      "\n",
      "\n"
     ]
    },
    {
     "name": "stderr",
     "output_type": "stream",
     "text": [
      "[Succeeded / Failed / Skipped / Total] 0 / 50 / 0 / 50:  42%|████▏     | 50/118 [07:34<10:18,  9.09s/it]"
     ]
    },
    {
     "name": "stdout",
     "output_type": "stream",
     "text": [
      "--------------------------------------------- Result 50 ---------------------------------------------\n",
      "[[Refute (100%)]] --> [[[FAILED]]]\n",
      "\n",
      "Nonsteroidal antinflammatory drugs are ineffective as cancer treatments.\n",
      "\n",
      "\n"
     ]
    },
    {
     "name": "stderr",
     "output_type": "stream",
     "text": [
      "[Succeeded / Failed / Skipped / Total] 0 / 51 / 0 / 51:  43%|████▎     | 51/118 [07:39<10:03,  9.01s/it]"
     ]
    },
    {
     "name": "stdout",
     "output_type": "stream",
     "text": [
      "--------------------------------------------- Result 51 ---------------------------------------------\n",
      "[[Refute (100%)]] --> [[[FAILED]]]\n",
      "\n",
      "Patients in stable partnerships progress from HIV to death at the same rate as patients not in partnerships.\n",
      "\n",
      "\n"
     ]
    },
    {
     "name": "stderr",
     "output_type": "stream",
     "text": [
      "[Succeeded / Failed / Skipped / Total] 0 / 52 / 0 / 52:  44%|████▍     | 52/118 [07:46<09:52,  8.98s/it]"
     ]
    },
    {
     "name": "stdout",
     "output_type": "stream",
     "text": [
      "--------------------------------------------- Result 52 ---------------------------------------------\n",
      "[[Refute (100%)]] --> [[[FAILED]]]\n",
      "\n",
      "Patients with common epithelial cancers are less likely to have an emergency event as their first hospital admission if they live in resource-deprived areas.\n",
      "\n",
      "\n"
     ]
    },
    {
     "name": "stderr",
     "output_type": "stream",
     "text": [
      "[Succeeded / Failed / Skipped / Total] 0 / 53 / 0 / 53:  45%|████▍     | 53/118 [07:51<09:38,  8.90s/it]"
     ]
    },
    {
     "name": "stdout",
     "output_type": "stream",
     "text": [
      "--------------------------------------------- Result 53 ---------------------------------------------\n",
      "[[Refute (100%)]] --> [[[FAILED]]]\n",
      "\n",
      "Pharmacist attendance at ward rounds increases adverse events in wards.\n",
      "\n",
      "\n"
     ]
    },
    {
     "name": "stderr",
     "output_type": "stream",
     "text": [
      "[Succeeded / Failed / Skipped / Total] 0 / 54 / 0 / 54:  46%|████▌     | 54/118 [08:00<09:29,  8.90s/it]"
     ]
    },
    {
     "name": "stdout",
     "output_type": "stream",
     "text": [
      "--------------------------------------------- Result 54 ---------------------------------------------\n",
      "[[Refute (100%)]] --> [[[FAILED]]]\n",
      "\n",
      "Physical activity does not improve cognitive function in individuals with Alzheimers.\n",
      "\n",
      "\n"
     ]
    },
    {
     "name": "stderr",
     "output_type": "stream",
     "text": [
      "[Succeeded / Failed / Skipped / Total] 0 / 55 / 0 / 55:  47%|████▋     | 55/118 [08:08<09:19,  8.88s/it]"
     ]
    },
    {
     "name": "stdout",
     "output_type": "stream",
     "text": [
      "--------------------------------------------- Result 55 ---------------------------------------------\n",
      "[[Refute (100%)]] --> [[[FAILED]]]\n",
      "\n",
      "Pioglitazone use is not associated with an increased risk of prostate cancer.\n",
      "\n",
      "\n"
     ]
    },
    {
     "name": "stderr",
     "output_type": "stream",
     "text": [
      "[Succeeded / Failed / Skipped / Total] 0 / 56 / 0 / 56:  47%|████▋     | 56/118 [08:14<09:07,  8.83s/it]"
     ]
    },
    {
     "name": "stdout",
     "output_type": "stream",
     "text": [
      "--------------------------------------------- Result 56 ---------------------------------------------\n",
      "[[Refute (100%)]] --> [[[FAILED]]]\n",
      "\n",
      "Primary cervical cancer screening with HPV detection has lower longitudinal sensitivity than conventional cytology to detect cervical intraepithelial neoplasia grade 2.\n",
      "\n",
      "\n"
     ]
    },
    {
     "name": "stderr",
     "output_type": "stream",
     "text": [
      "[Succeeded / Failed / Skipped / Total] 0 / 57 / 0 / 57:  48%|████▊     | 57/118 [08:21<08:56,  8.79s/it]"
     ]
    },
    {
     "name": "stdout",
     "output_type": "stream",
     "text": [
      "--------------------------------------------- Result 57 ---------------------------------------------\n",
      "[[Refute (100%)]] --> [[[FAILED]]]\n",
      "\n",
      "RANK-RANKL pathway signalling has no known association with development of Aire-expressing medullary thymic epithelial cells.\n",
      "\n",
      "\n"
     ]
    },
    {
     "name": "stderr",
     "output_type": "stream",
     "text": [
      "[Succeeded / Failed / Skipped / Total] 0 / 58 / 0 / 58:  49%|████▉     | 58/118 [08:24<08:42,  8.70s/it]"
     ]
    },
    {
     "name": "stdout",
     "output_type": "stream",
     "text": [
      "--------------------------------------------- Result 58 ---------------------------------------------\n",
      "[[Refute (100%)]] --> [[[FAILED]]]\n",
      "\n",
      "Risedronate increases risk of vertebral and non-vertebral fractures.\n",
      "\n",
      "\n"
     ]
    },
    {
     "name": "stderr",
     "output_type": "stream",
     "text": [
      "[Succeeded / Failed / Skipped / Total] 0 / 59 / 0 / 59:  50%|█████     | 59/118 [08:27<08:27,  8.61s/it]"
     ]
    },
    {
     "name": "stdout",
     "output_type": "stream",
     "text": [
      "--------------------------------------------- Result 59 ---------------------------------------------\n",
      "[[Refute (100%)]] --> [[[FAILED]]]\n",
      "\n",
      "Risk-adjusted mortality rates are similar in teaching and non-teaching hospitals.\n",
      "\n",
      "\n"
     ]
    },
    {
     "name": "stderr",
     "output_type": "stream",
     "text": [
      "[Succeeded / Failed / Skipped / Total] 0 / 60 / 0 / 60:  51%|█████     | 60/118 [08:36<08:19,  8.61s/it]"
     ]
    },
    {
     "name": "stdout",
     "output_type": "stream",
     "text": [
      "--------------------------------------------- Result 60 ---------------------------------------------\n",
      "[[Refute (100%)]] --> [[[FAILED]]]\n",
      "\n",
      "Sepsis related mortality has remained stable between 2009-2014.\n",
      "\n",
      "\n"
     ]
    },
    {
     "name": "stderr",
     "output_type": "stream",
     "text": [
      "[Succeeded / Failed / Skipped / Total] 1 / 60 / 0 / 61:  52%|█████▏    | 61/118 [09:11<08:35,  9.05s/it]"
     ]
    },
    {
     "name": "stdout",
     "output_type": "stream",
     "text": [
      "--------------------------------------------- Result 61 ---------------------------------------------\n",
      "[[Refute (100%)]] --> [[Support (100%)]]\n",
      "\n",
      "Sepsis related mortality has risen from [[2009]] to 2014.\n",
      "\n",
      "Sepsis related mortality has risen from [[1237]] to 2014.\n",
      "\n",
      "\n"
     ]
    },
    {
     "name": "stderr",
     "output_type": "stream",
     "text": [
      "[Succeeded / Failed / Skipped / Total] 1 / 61 / 0 / 62:  53%|█████▎    | 62/118 [09:16<08:22,  8.98s/it]"
     ]
    },
    {
     "name": "stdout",
     "output_type": "stream",
     "text": [
      "--------------------------------------------- Result 62 ---------------------------------------------\n",
      "[[Refute (100%)]] --> [[[FAILED]]]\n",
      "\n",
      "Sildenafil worsens erectile function in men who experience sexual dysfunction as a result of the use of SSRI antidepressants.\n",
      "\n",
      "\n"
     ]
    },
    {
     "name": "stderr",
     "output_type": "stream",
     "text": [
      "[Succeeded / Failed / Skipped / Total] 1 / 62 / 0 / 63:  53%|█████▎    | 63/118 [09:24<08:12,  8.96s/it]"
     ]
    },
    {
     "name": "stdout",
     "output_type": "stream",
     "text": [
      "--------------------------------------------- Result 63 ---------------------------------------------\n",
      "[[Refute (100%)]] --> [[[FAILED]]]\n",
      "\n",
      "Stroke patients with prior use of direct oral anticoagulants have a higher risk of in-hospital mortality than stroke patients with prior use of warfarin.\n",
      "\n",
      "\n"
     ]
    },
    {
     "name": "stderr",
     "output_type": "stream",
     "text": [
      "[Succeeded / Failed / Skipped / Total] 1 / 63 / 0 / 64:  54%|█████▍    | 64/118 [09:30<08:01,  8.91s/it]"
     ]
    },
    {
     "name": "stdout",
     "output_type": "stream",
     "text": [
      "--------------------------------------------- Result 64 ---------------------------------------------\n",
      "[[Refute (100%)]] --> [[[FAILED]]]\n",
      "\n",
      "Students who perform poorly in the early years of medical school are less likely to commit professional misconduct later in their careers.\n",
      "\n",
      "\n"
     ]
    },
    {
     "name": "stderr",
     "output_type": "stream",
     "text": [
      "[Succeeded / Failed / Skipped / Total] 1 / 64 / 0 / 65:  55%|█████▌    | 65/118 [09:35<07:48,  8.85s/it]"
     ]
    },
    {
     "name": "stdout",
     "output_type": "stream",
     "text": [
      "--------------------------------------------- Result 65 ---------------------------------------------\n",
      "[[Refute (100%)]] --> [[[FAILED]]]\n",
      "\n",
      "Sympathetic nerve activity is reduced throughout normal pregnancy.\n",
      "\n",
      "\n"
     ]
    },
    {
     "name": "stderr",
     "output_type": "stream",
     "text": [
      "[Succeeded / Failed / Skipped / Total] 1 / 65 / 0 / 66:  56%|█████▌    | 66/118 [09:40<07:37,  8.79s/it]"
     ]
    },
    {
     "name": "stdout",
     "output_type": "stream",
     "text": [
      "--------------------------------------------- Result 66 ---------------------------------------------\n",
      "[[Refute (100%)]] --> [[[FAILED]]]\n",
      "\n",
      "Systemic immunosuppressive (IS) therapy increases the chance of cancer mortality in patients with inflammatory eye disease (IED)\n",
      "\n",
      "\n"
     ]
    },
    {
     "name": "stderr",
     "output_type": "stream",
     "text": [
      "[Succeeded / Failed / Skipped / Total] 1 / 66 / 0 / 67:  57%|█████▋    | 67/118 [09:45<07:25,  8.74s/it]"
     ]
    },
    {
     "name": "stdout",
     "output_type": "stream",
     "text": [
      "--------------------------------------------- Result 67 ---------------------------------------------\n",
      "[[Refute (100%)]] --> [[[FAILED]]]\n",
      "\n",
      "The DESMOND program demonstrates no significant impact on lifestyles outcomes.\n",
      "\n",
      "\n"
     ]
    },
    {
     "name": "stderr",
     "output_type": "stream",
     "text": [
      "[Succeeded / Failed / Skipped / Total] 1 / 67 / 0 / 68:  58%|█████▊    | 68/118 [09:52<07:15,  8.71s/it]"
     ]
    },
    {
     "name": "stdout",
     "output_type": "stream",
     "text": [
      "--------------------------------------------- Result 68 ---------------------------------------------\n",
      "[[Refute (100%)]] --> [[[FAILED]]]\n",
      "\n",
      "The DESMOND program demonstrates no significant impact on weight loss.\n",
      "\n",
      "\n"
     ]
    },
    {
     "name": "stderr",
     "output_type": "stream",
     "text": [
      "[Succeeded / Failed / Skipped / Total] 1 / 68 / 0 / 69:  58%|█████▊    | 69/118 [10:04<07:09,  8.76s/it]"
     ]
    },
    {
     "name": "stdout",
     "output_type": "stream",
     "text": [
      "--------------------------------------------- Result 69 ---------------------------------------------\n",
      "[[Refute (100%)]] --> [[[FAILED]]]\n",
      "\n",
      "The combination of physical examinations with C-reactive protein values do not improve the accuracy of radiographic verified pneumonia predictions.\n",
      "\n",
      "\n"
     ]
    },
    {
     "name": "stderr",
     "output_type": "stream",
     "text": [
      "[Succeeded / Failed / Skipped / Total] 1 / 69 / 0 / 70:  59%|█████▉    | 70/118 [10:10<06:58,  8.72s/it]"
     ]
    },
    {
     "name": "stdout",
     "output_type": "stream",
     "text": [
      "--------------------------------------------- Result 70 ---------------------------------------------\n",
      "[[Refute (100%)]] --> [[[FAILED]]]\n",
      "\n",
      "The mean suicide rate in women is lower after miscarriage than live birth.\n",
      "\n",
      "\n"
     ]
    },
    {
     "name": "stderr",
     "output_type": "stream",
     "text": [
      "[Succeeded / Failed / Skipped / Total] 1 / 70 / 0 / 71:  60%|██████    | 71/118 [10:16<06:48,  8.69s/it]"
     ]
    },
    {
     "name": "stdout",
     "output_type": "stream",
     "text": [
      "--------------------------------------------- Result 71 ---------------------------------------------\n",
      "[[Refute (100%)]] --> [[[FAILED]]]\n",
      "\n",
      "The minor G allele of FOXO3 is related to less severe symptoms of Crohn's Disease.\n",
      "\n",
      "\n"
     ]
    },
    {
     "name": "stderr",
     "output_type": "stream",
     "text": [
      "[Succeeded / Failed / Skipped / Total] 1 / 71 / 0 / 72:  61%|██████    | 72/118 [10:19<06:35,  8.61s/it]"
     ]
    },
    {
     "name": "stdout",
     "output_type": "stream",
     "text": [
      "--------------------------------------------- Result 72 ---------------------------------------------\n",
      "[[Refute (100%)]] --> [[[FAILED]]]\n",
      "\n",
      "There is no increased risk of hypospadias with clomiphene.\n",
      "\n",
      "\n"
     ]
    },
    {
     "name": "stderr",
     "output_type": "stream",
     "text": [
      "[Succeeded / Failed / Skipped / Total] 1 / 72 / 0 / 73:  62%|██████▏   | 73/118 [10:24<06:25,  8.56s/it]"
     ]
    },
    {
     "name": "stdout",
     "output_type": "stream",
     "text": [
      "--------------------------------------------- Result 73 ---------------------------------------------\n",
      "[[Refute (100%)]] --> [[[FAILED]]]\n",
      "\n",
      "There is no known interaction between Pioneer factor OCT3/4 and major chromatin remodeling factors.\n",
      "\n",
      "\n"
     ]
    },
    {
     "name": "stderr",
     "output_type": "stream",
     "text": [
      "[Succeeded / Failed / Skipped / Total] 1 / 73 / 0 / 74:  63%|██████▎   | 74/118 [10:28<06:13,  8.49s/it]"
     ]
    },
    {
     "name": "stdout",
     "output_type": "stream",
     "text": [
      "--------------------------------------------- Result 74 ---------------------------------------------\n",
      "[[Refute (100%)]] --> [[[FAILED]]]\n",
      "\n",
      "There is no relation between Erythromycin use and hypertrophic pyloric stenosis.\n",
      "\n",
      "\n"
     ]
    },
    {
     "name": "stderr",
     "output_type": "stream",
     "text": [
      "[Succeeded / Failed / Skipped / Total] 1 / 74 / 0 / 75:  64%|██████▎   | 75/118 [12:10<06:59,  9.75s/it]"
     ]
    },
    {
     "name": "stdout",
     "output_type": "stream",
     "text": [
      "--------------------------------------------- Result 75 ---------------------------------------------\n",
      "[[Refute (100%)]] --> [[[FAILED]]]\n",
      "\n",
      "There was an estimated 30 million cases of pneumonia in young children worldwide in 2010.\n",
      "\n",
      "\n"
     ]
    },
    {
     "name": "stderr",
     "output_type": "stream",
     "text": [
      "[Succeeded / Failed / Skipped / Total] 1 / 75 / 0 / 76:  64%|██████▍   | 76/118 [12:15<06:46,  9.68s/it]"
     ]
    },
    {
     "name": "stdout",
     "output_type": "stream",
     "text": [
      "--------------------------------------------- Result 76 ---------------------------------------------\n",
      "[[Refute (100%)]] --> [[[FAILED]]]\n",
      "\n",
      "Tuberculosis incidence occurs at higher rates in more sparsely populated areas in the UK.\n",
      "\n",
      "\n"
     ]
    },
    {
     "name": "stderr",
     "output_type": "stream",
     "text": [
      "[Succeeded / Failed / Skipped / Total] 1 / 76 / 0 / 77:  65%|██████▌   | 77/118 [12:22<06:35,  9.64s/it]"
     ]
    },
    {
     "name": "stdout",
     "output_type": "stream",
     "text": [
      "--------------------------------------------- Result 77 ---------------------------------------------\n",
      "[[Refute (100%)]] --> [[[FAILED]]]\n",
      "\n",
      "Upon viral challenge, influenza-specific memory CD4+ T cells greatly enhance the early production of inflammatory chemokines in the lung.\n",
      "\n",
      "\n"
     ]
    },
    {
     "name": "stderr",
     "output_type": "stream",
     "text": [
      "[Succeeded / Failed / Skipped / Total] 1 / 77 / 0 / 78:  66%|██████▌   | 78/118 [12:27<06:23,  9.59s/it]"
     ]
    },
    {
     "name": "stdout",
     "output_type": "stream",
     "text": [
      "--------------------------------------------- Result 78 ---------------------------------------------\n",
      "[[Refute (100%)]] --> [[[FAILED]]]\n",
      "\n",
      "Whole brain radiotherapy increases the occurrence of new brain metastases.\n",
      "\n",
      "\n"
     ]
    },
    {
     "name": "stderr",
     "output_type": "stream",
     "text": [
      "[Succeeded / Failed / Skipped / Total] 1 / 78 / 0 / 79:  67%|██████▋   | 79/118 [12:34<06:12,  9.55s/it]"
     ]
    },
    {
     "name": "stdout",
     "output_type": "stream",
     "text": [
      "--------------------------------------------- Result 79 ---------------------------------------------\n",
      "[[Refute (100%)]] --> [[[FAILED]]]\n",
      "\n",
      "Women with a lower birth weight are more likely to develop breast cancer later in life.\n",
      "\n",
      "\n"
     ]
    },
    {
     "name": "stderr",
     "output_type": "stream",
     "text": [
      "[Succeeded / Failed / Skipped / Total] 1 / 79 / 0 / 80:  68%|██████▊   | 80/118 [12:39<06:00,  9.49s/it]"
     ]
    },
    {
     "name": "stdout",
     "output_type": "stream",
     "text": [
      "--------------------------------------------- Result 80 ---------------------------------------------\n",
      "[[Refute (100%)]] --> [[[FAILED]]]\n",
      "\n",
      "siRNA knockdown of A20 accelerates tumor progression in an in vivo murine xenograft model.\n",
      "\n",
      "\n"
     ]
    },
    {
     "name": "stderr",
     "output_type": "stream",
     "text": [
      "[Succeeded / Failed / Skipped / Total] 1 / 80 / 0 / 81:  69%|██████▊   | 81/118 [12:50<05:51,  9.51s/it]"
     ]
    },
    {
     "name": "stdout",
     "output_type": "stream",
     "text": [
      "--------------------------------------------- Result 81 ---------------------------------------------\n",
      "[[Refute (100%)]] --> [[[FAILED]]]\n",
      "\n",
      "A total of 1,000 people in the UK are asymptomatic carriers of vCJD infection.\n",
      "\n",
      "\n"
     ]
    },
    {
     "name": "stderr",
     "output_type": "stream",
     "text": [
      "[Succeeded / Failed / Skipped / Total] 1 / 81 / 0 / 82:  69%|██████▉   | 82/118 [12:55<05:40,  9.46s/it]"
     ]
    },
    {
     "name": "stdout",
     "output_type": "stream",
     "text": [
      "--------------------------------------------- Result 82 ---------------------------------------------\n",
      "[[Refute (100%)]] --> [[[FAILED]]]\n",
      "\n",
      "ALDH1 expression is associated with better breast cancer outcomes.\n",
      "\n",
      "\n"
     ]
    },
    {
     "name": "stderr",
     "output_type": "stream",
     "text": [
      "[Succeeded / Failed / Skipped / Total] 1 / 82 / 0 / 83:  70%|███████   | 83/118 [13:00<05:29,  9.40s/it]"
     ]
    },
    {
     "name": "stdout",
     "output_type": "stream",
     "text": [
      "--------------------------------------------- Result 83 ---------------------------------------------\n",
      "[[Refute (100%)]] --> [[[FAILED]]]\n",
      "\n",
      "AMP-activated protein kinase (AMPK) activation increases inflammation-related fibrosis in the lungs.\n",
      "\n",
      "\n"
     ]
    },
    {
     "name": "stderr",
     "output_type": "stream",
     "text": [
      "[Succeeded / Failed / Skipped / Total] 1 / 83 / 0 / 84:  71%|███████   | 84/118 [13:05<05:17,  9.35s/it]"
     ]
    },
    {
     "name": "stdout",
     "output_type": "stream",
     "text": [
      "--------------------------------------------- Result 84 ---------------------------------------------\n",
      "[[Refute (100%)]] --> [[[FAILED]]]\n",
      "\n",
      "Activation of PPM1D suppresses p53 function.\n",
      "\n",
      "\n"
     ]
    },
    {
     "name": "stderr",
     "output_type": "stream",
     "text": [
      "[Succeeded / Failed / Skipped / Total] 1 / 84 / 0 / 85:  72%|███████▏  | 85/118 [13:10<05:06,  9.29s/it]"
     ]
    },
    {
     "name": "stdout",
     "output_type": "stream",
     "text": [
      "--------------------------------------------- Result 85 ---------------------------------------------\n",
      "[[Refute (100%)]] --> [[[FAILED]]]\n",
      "\n",
      "All hematopoietic stem cells segregate their chromosomes randomly.\n",
      "\n",
      "\n"
     ]
    },
    {
     "name": "stderr",
     "output_type": "stream",
     "text": [
      "[Succeeded / Failed / Skipped / Total] 1 / 85 / 0 / 86:  73%|███████▎  | 86/118 [13:14<04:55,  9.24s/it]"
     ]
    },
    {
     "name": "stdout",
     "output_type": "stream",
     "text": [
      "--------------------------------------------- Result 86 ---------------------------------------------\n",
      "[[Refute (100%)]] --> [[[FAILED]]]\n",
      "\n",
      "Articles published in open access format are less likely to be cited than traditional journals.\n",
      "\n",
      "\n"
     ]
    },
    {
     "name": "stderr",
     "output_type": "stream",
     "text": [
      "[Succeeded / Failed / Skipped / Total] 1 / 86 / 0 / 87:  74%|███████▎  | 87/118 [13:20<04:45,  9.20s/it]"
     ]
    },
    {
     "name": "stdout",
     "output_type": "stream",
     "text": [
      "--------------------------------------------- Result 87 ---------------------------------------------\n",
      "[[Refute (100%)]] --> [[[FAILED]]]\n",
      "\n",
      "Autologous transplantation of mesenchymal stem cells causes a higher rate of opportunistic infections than induction therapy with anti-interleukin-2 receptor antibodies.\n",
      "\n",
      "\n"
     ]
    },
    {
     "name": "stderr",
     "output_type": "stream",
     "text": [
      "[Succeeded / Failed / Skipped / Total] 1 / 87 / 0 / 88:  75%|███████▍  | 88/118 [13:25<04:34,  9.15s/it]"
     ]
    },
    {
     "name": "stdout",
     "output_type": "stream",
     "text": [
      "--------------------------------------------- Result 88 ---------------------------------------------\n",
      "[[Refute (100%)]] --> [[[FAILED]]]\n",
      "\n",
      "Bariatric surgery has a positive impact on mental health.\n",
      "\n",
      "\n"
     ]
    },
    {
     "name": "stderr",
     "output_type": "stream",
     "text": [
      "[Succeeded / Failed / Skipped / Total] 1 / 88 / 0 / 89:  75%|███████▌  | 89/118 [13:30<04:24,  9.11s/it]"
     ]
    },
    {
     "name": "stdout",
     "output_type": "stream",
     "text": [
      "--------------------------------------------- Result 89 ---------------------------------------------\n",
      "[[Refute (100%)]] --> [[[FAILED]]]\n",
      "\n",
      "Birth-weight is positively associated with breast cancer.\n",
      "\n",
      "\n"
     ]
    },
    {
     "name": "stderr",
     "output_type": "stream",
     "text": [
      "[Succeeded / Failed / Skipped / Total] 1 / 89 / 0 / 90:  76%|███████▋  | 90/118 [13:37<04:14,  9.08s/it]"
     ]
    },
    {
     "name": "stdout",
     "output_type": "stream",
     "text": [
      "--------------------------------------------- Result 90 ---------------------------------------------\n",
      "[[Refute (100%)]] --> [[[FAILED]]]\n",
      "\n",
      "Breast cancer development is determined exclusively by genetic factors.\n",
      "\n",
      "\n"
     ]
    },
    {
     "name": "stderr",
     "output_type": "stream",
     "text": [
      "[Succeeded / Failed / Skipped / Total] 1 / 90 / 0 / 91:  77%|███████▋  | 91/118 [13:45<04:04,  9.07s/it]"
     ]
    },
    {
     "name": "stdout",
     "output_type": "stream",
     "text": [
      "--------------------------------------------- Result 91 ---------------------------------------------\n",
      "[[Refute (100%)]] --> [[[FAILED]]]\n",
      "\n",
      "CHEK2 is not associated with breast cancer.\n",
      "\n",
      "\n"
     ]
    },
    {
     "name": "stderr",
     "output_type": "stream",
     "text": [
      "[Succeeded / Failed / Skipped / Total] 1 / 91 / 0 / 92:  78%|███████▊  | 92/118 [13:48<03:54,  9.01s/it]"
     ]
    },
    {
     "name": "stdout",
     "output_type": "stream",
     "text": [
      "--------------------------------------------- Result 92 ---------------------------------------------\n",
      "[[Refute (100%)]] --> [[[FAILED]]]\n",
      "\n",
      "CR is associated with higher methylation age.\n",
      "\n",
      "\n"
     ]
    },
    {
     "name": "stderr",
     "output_type": "stream",
     "text": [
      "[Succeeded / Failed / Skipped / Total] 1 / 92 / 0 / 93:  79%|███████▉  | 93/118 [13:53<03:44,  8.96s/it]"
     ]
    },
    {
     "name": "stdout",
     "output_type": "stream",
     "text": [
      "--------------------------------------------- Result 93 ---------------------------------------------\n",
      "[[Refute (100%)]] --> [[[FAILED]]]\n",
      "\n",
      "CX3CR1 on the Th2 cells promotes airway inflammation.\n",
      "\n",
      "\n"
     ]
    },
    {
     "name": "stderr",
     "output_type": "stream",
     "text": [
      "[Succeeded / Failed / Skipped / Total] 1 / 93 / 0 / 94:  80%|███████▉  | 94/118 [13:57<03:33,  8.91s/it]"
     ]
    },
    {
     "name": "stdout",
     "output_type": "stream",
     "text": [
      "--------------------------------------------- Result 94 ---------------------------------------------\n",
      "[[Refute (100%)]] --> [[[FAILED]]]\n",
      "\n",
      "Chenodeosycholic acid treatment reduces whole-body energy expenditure.\n",
      "\n",
      "\n"
     ]
    },
    {
     "name": "stderr",
     "output_type": "stream",
     "text": [
      "[Succeeded / Failed / Skipped / Total] 1 / 94 / 0 / 95:  81%|████████  | 95/118 [14:26<03:29,  9.12s/it]"
     ]
    },
    {
     "name": "stdout",
     "output_type": "stream",
     "text": [
      "--------------------------------------------- Result 95 ---------------------------------------------\n",
      "[[Refute (100%)]] --> [[[FAILED]]]\n",
      "\n",
      "Commelina yellow mottle virus' (ComYMV) genome consists of 7489 baise pairs.\n",
      "\n",
      "\n"
     ]
    },
    {
     "name": "stderr",
     "output_type": "stream",
     "text": [
      "[Succeeded / Failed / Skipped / Total] 1 / 95 / 0 / 96:  81%|████████▏ | 96/118 [14:39<03:21,  9.17s/it]"
     ]
    },
    {
     "name": "stdout",
     "output_type": "stream",
     "text": [
      "--------------------------------------------- Result 96 ---------------------------------------------\n",
      "[[Refute (100%)]] --> [[[FAILED]]]\n",
      "\n",
      "Gene expression does not vary appreciably across genetically identical cells.\n",
      "\n",
      "\n"
     ]
    },
    {
     "name": "stderr",
     "output_type": "stream",
     "text": [
      "[Succeeded / Failed / Skipped / Total] 1 / 96 / 0 / 97:  82%|████████▏ | 97/118 [14:47<03:12,  9.14s/it]"
     ]
    },
    {
     "name": "stdout",
     "output_type": "stream",
     "text": [
      "--------------------------------------------- Result 97 ---------------------------------------------\n",
      "[[Refute (100%)]] --> [[[FAILED]]]\n",
      "\n",
      "Headaches are not correlated with cognitive impairment.\n",
      "\n",
      "\n"
     ]
    },
    {
     "name": "stderr",
     "output_type": "stream",
     "text": [
      "[Succeeded / Failed / Skipped / Total] 1 / 97 / 0 / 98:  83%|████████▎ | 98/118 [14:53<03:02,  9.12s/it]"
     ]
    },
    {
     "name": "stdout",
     "output_type": "stream",
     "text": [
      "--------------------------------------------- Result 98 ---------------------------------------------\n",
      "[[Refute (100%)]] --> [[[FAILED]]]\n",
      "\n",
      "High cardiopulmonary fitness causes increased mortality rate.\n",
      "\n",
      "\n"
     ]
    },
    {
     "name": "stderr",
     "output_type": "stream",
     "text": [
      "[Succeeded / Failed / Skipped / Total] 1 / 98 / 0 / 99:  84%|████████▍ | 99/118 [15:48<03:01,  9.58s/it]"
     ]
    },
    {
     "name": "stdout",
     "output_type": "stream",
     "text": [
      "--------------------------------------------- Result 99 ---------------------------------------------\n",
      "[[Refute (100%)]] --> [[[FAILED]]]\n",
      "\n",
      "Incidence of heart failure decreased by 10% in women since 1979.\n",
      "\n",
      "\n"
     ]
    },
    {
     "name": "stderr",
     "output_type": "stream",
     "text": [
      "[Succeeded / Failed / Skipped / Total] 1 / 99 / 0 / 100:  85%|████████▍ | 100/118 [15:53<02:51,  9.53s/it]"
     ]
    },
    {
     "name": "stdout",
     "output_type": "stream",
     "text": [
      "--------------------------------------------- Result 100 ---------------------------------------------\n",
      "[[Refute (100%)]] --> [[[FAILED]]]\n",
      "\n",
      "Incidence rates of cervical cancer have increased due to nationwide screening programs based primarily on cytology to detect uterine cervical cancer.\n",
      "\n",
      "\n"
     ]
    },
    {
     "name": "stderr",
     "output_type": "stream",
     "text": [
      "[Succeeded / Failed / Skipped / Total] 1 / 100 / 0 / 101:  86%|████████▌ | 101/118 [16:00<02:41,  9.51s/it]"
     ]
    },
    {
     "name": "stdout",
     "output_type": "stream",
     "text": [
      "--------------------------------------------- Result 101 ---------------------------------------------\n",
      "[[Refute (100%)]] --> [[[FAILED]]]\n",
      "\n",
      "Increased vessel density along with a reduction in fibrosis decreases the efficacy of chemotherapy treatments.\n",
      "\n",
      "\n"
     ]
    },
    {
     "name": "stderr",
     "output_type": "stream",
     "text": [
      "[Succeeded / Failed / Skipped / Total] 1 / 101 / 0 / 102:  86%|████████▋ | 102/118 [16:04<02:31,  9.46s/it]"
     ]
    },
    {
     "name": "stdout",
     "output_type": "stream",
     "text": [
      "--------------------------------------------- Result 102 ---------------------------------------------\n",
      "[[Refute (100%)]] --> [[[FAILED]]]\n",
      "\n",
      "LDL cholesterol has no involvement in the development of cardiovascular disease.\n",
      "\n",
      "\n"
     ]
    },
    {
     "name": "stderr",
     "output_type": "stream",
     "text": [
      "[Succeeded / Failed / Skipped / Total] 1 / 102 / 0 / 103:  87%|████████▋ | 103/118 [16:08<02:21,  9.40s/it]"
     ]
    },
    {
     "name": "stdout",
     "output_type": "stream",
     "text": [
      "--------------------------------------------- Result 103 ---------------------------------------------\n",
      "[[Refute (100%)]] --> [[[FAILED]]]\n",
      "\n",
      "Leuko-increased blood increases infectious complications in red blood cell transfusion.\n",
      "\n",
      "\n"
     ]
    },
    {
     "name": "stderr",
     "output_type": "stream",
     "text": [
      "[Succeeded / Failed / Skipped / Total] 1 / 103 / 0 / 104:  88%|████████▊ | 104/118 [16:12<02:10,  9.35s/it]"
     ]
    },
    {
     "name": "stdout",
     "output_type": "stream",
     "text": [
      "--------------------------------------------- Result 104 ---------------------------------------------\n",
      "[[Refute (100%)]] --> [[[FAILED]]]\n",
      "\n",
      "Ly6C hi monocytes have a lower inflammatory capacity than Ly6C lo monocytes.\n",
      "\n",
      "\n"
     ]
    },
    {
     "name": "stderr",
     "output_type": "stream",
     "text": [
      "[Succeeded / Failed / Skipped / Total] 1 / 104 / 0 / 105:  89%|████████▉ | 105/118 [16:17<02:01,  9.31s/it]"
     ]
    },
    {
     "name": "stdout",
     "output_type": "stream",
     "text": [
      "--------------------------------------------- Result 105 ---------------------------------------------\n",
      "[[Refute (100%)]] --> [[[FAILED]]]\n",
      "\n",
      "Macrolides have no protective effect against myocardial infarction.\n",
      "\n",
      "\n"
     ]
    },
    {
     "name": "stderr",
     "output_type": "stream",
     "text": [
      "[Succeeded / Failed / Skipped / Total] 1 / 105 / 0 / 106:  90%|████████▉ | 106/118 [16:23<01:51,  9.28s/it]"
     ]
    },
    {
     "name": "stdout",
     "output_type": "stream",
     "text": [
      "--------------------------------------------- Result 106 ---------------------------------------------\n",
      "[[Refute (100%)]] --> [[[FAILED]]]\n",
      "\n",
      "Mice that lack Interferon-γ or its receptor exhibit high resistance to experimental autoimmune myocarditis.\n",
      "\n",
      "\n"
     ]
    },
    {
     "name": "stderr",
     "output_type": "stream",
     "text": [
      "[Succeeded / Failed / Skipped / Total] 1 / 106 / 0 / 107:  91%|█████████ | 107/118 [16:26<01:41,  9.22s/it]"
     ]
    },
    {
     "name": "stdout",
     "output_type": "stream",
     "text": [
      "--------------------------------------------- Result 107 ---------------------------------------------\n",
      "[[Refute (100%)]] --> [[[FAILED]]]\n",
      "\n",
      "Mitochondria are uninvolved in apoptosis.\n",
      "\n",
      "\n"
     ]
    },
    {
     "name": "stderr",
     "output_type": "stream",
     "text": [
      "[Succeeded / Failed / Skipped / Total] 1 / 107 / 0 / 108:  92%|█████████▏| 108/118 [16:37<01:32,  9.24s/it]"
     ]
    },
    {
     "name": "stdout",
     "output_type": "stream",
     "text": [
      "--------------------------------------------- Result 108 ---------------------------------------------\n",
      "[[Refute (100%)]] --> [[[FAILED]]]\n",
      "\n",
      "New drugs for tuberculosis often do not penetrate the necrotic portion of a tuberculosis lesion in high concentrations.\n",
      "\n",
      "\n"
     ]
    },
    {
     "name": "stderr",
     "output_type": "stream",
     "text": [
      "[Succeeded / Failed / Skipped / Total] 1 / 108 / 0 / 109:  92%|█████████▏| 109/118 [16:46<01:23,  9.23s/it]"
     ]
    },
    {
     "name": "stdout",
     "output_type": "stream",
     "text": [
      "--------------------------------------------- Result 109 ---------------------------------------------\n",
      "[[Refute (100%)]] --> [[[FAILED]]]\n",
      "\n",
      "Non-invasive ventilation use should be decreased if there is inadequate response to conventional treatment.\n",
      "\n",
      "\n"
     ]
    },
    {
     "name": "stderr",
     "output_type": "stream",
     "text": [
      "[Succeeded / Failed / Skipped / Total] 1 / 109 / 0 / 110:  93%|█████████▎| 110/118 [16:53<01:13,  9.21s/it]"
     ]
    },
    {
     "name": "stdout",
     "output_type": "stream",
     "text": [
      "--------------------------------------------- Result 110 ---------------------------------------------\n",
      "[[Refute (100%)]] --> [[[FAILED]]]\n",
      "\n",
      "Obesity is determined solely by environmental factors.\n",
      "\n",
      "\n"
     ]
    },
    {
     "name": "stderr",
     "output_type": "stream",
     "text": [
      "[Succeeded / Failed / Skipped / Total] 1 / 110 / 0 / 111:  94%|█████████▍| 111/118 [17:07<01:04,  9.25s/it]"
     ]
    },
    {
     "name": "stdout",
     "output_type": "stream",
     "text": [
      "--------------------------------------------- Result 111 ---------------------------------------------\n",
      "[[Refute (100%)]] --> [[[FAILED]]]\n",
      "\n",
      "Reduced responsiveness to interleukin-2 in regulatory T cells is associated with greater resistance to autoimmune diseases such as Type 1 Diabetes.\n",
      "\n",
      "\n"
     ]
    },
    {
     "name": "stderr",
     "output_type": "stream",
     "text": [
      "[Succeeded / Failed / Skipped / Total] 1 / 111 / 0 / 112:  95%|█████████▍| 112/118 [17:15<00:55,  9.24s/it]"
     ]
    },
    {
     "name": "stdout",
     "output_type": "stream",
     "text": [
      "--------------------------------------------- Result 112 ---------------------------------------------\n",
      "[[Refute (100%)]] --> [[[FAILED]]]\n",
      "\n",
      "Suboptimal nutrition is not predictive of chronic disease\n",
      "\n",
      "\n"
     ]
    },
    {
     "name": "stderr",
     "output_type": "stream",
     "text": [
      "[Succeeded / Failed / Skipped / Total] 1 / 112 / 0 / 113:  96%|█████████▌| 113/118 [17:24<00:46,  9.25s/it]"
     ]
    },
    {
     "name": "stdout",
     "output_type": "stream",
     "text": [
      "--------------------------------------------- Result 113 ---------------------------------------------\n",
      "[[Refute (100%)]] --> [[[FAILED]]]\n",
      "\n",
      "The risk of male prisoners harming themselves is ten times that of female prisoners.\n",
      "\n",
      "\n"
     ]
    },
    {
     "name": "stderr",
     "output_type": "stream",
     "text": [
      "[Succeeded / Failed / Skipped / Total] 1 / 113 / 0 / 114:  97%|█████████▋| 114/118 [17:29<00:36,  9.20s/it]"
     ]
    },
    {
     "name": "stdout",
     "output_type": "stream",
     "text": [
      "--------------------------------------------- Result 114 ---------------------------------------------\n",
      "[[Refute (100%)]] --> [[[FAILED]]]\n",
      "\n",
      "There is an inverse relationship between hip fractures and statin use.\n",
      "\n",
      "\n"
     ]
    },
    {
     "name": "stderr",
     "output_type": "stream",
     "text": [
      "[Succeeded / Failed / Skipped / Total] 1 / 114 / 0 / 115:  97%|█████████▋| 115/118 [17:46<00:27,  9.28s/it]"
     ]
    },
    {
     "name": "stdout",
     "output_type": "stream",
     "text": [
      "--------------------------------------------- Result 115 ---------------------------------------------\n",
      "[[Refute (100%)]] --> [[[FAILED]]]\n",
      "\n",
      "Thigh-length graduated compression stockings (GCS) did not reduce deep vein thrombosis in patients admitted to hospital who are immobile because of acute stroke.\n",
      "\n",
      "\n"
     ]
    },
    {
     "name": "stderr",
     "output_type": "stream",
     "text": [
      "[Succeeded / Failed / Skipped / Total] 1 / 115 / 0 / 116:  98%|█████████▊| 116/118 [17:53<00:18,  9.25s/it]"
     ]
    },
    {
     "name": "stdout",
     "output_type": "stream",
     "text": [
      "--------------------------------------------- Result 116 ---------------------------------------------\n",
      "[[Refute (100%)]] --> [[[FAILED]]]\n",
      "\n",
      "Tirasemtiv has no effect on fast-twitch muscle.\n",
      "\n",
      "\n"
     ]
    },
    {
     "name": "stderr",
     "output_type": "stream",
     "text": [
      "[Succeeded / Failed / Skipped / Total] 1 / 116 / 0 / 117:  99%|█████████▉| 117/118 [17:56<00:09,  9.20s/it]"
     ]
    },
    {
     "name": "stdout",
     "output_type": "stream",
     "text": [
      "--------------------------------------------- Result 117 ---------------------------------------------\n",
      "[[Refute (100%)]] --> [[[FAILED]]]\n",
      "\n",
      "Transplanted human glial progenitor cells are incapable of forming a neural network with host animals' neurons.\n",
      "\n",
      "\n"
     ]
    },
    {
     "name": "stderr",
     "output_type": "stream",
     "text": [
      "[Succeeded / Failed / Skipped / Total] 1 / 117 / 0 / 118: 100%|██████████| 118/118 [18:00<00:00,  9.15s/it]"
     ]
    },
    {
     "name": "stdout",
     "output_type": "stream",
     "text": [
      "--------------------------------------------- Result 118 ---------------------------------------------\n",
      "[[Refute (100%)]] --> [[[FAILED]]]\n",
      "\n",
      "Ultrasound guidance significantly raises the number of traumatic procedures when attempting needle insertion.\n",
      "\n",
      "\n",
      "\n",
      "+-------------------------------+--------+\n",
      "| Attack Results                |        |\n",
      "+-------------------------------+--------+\n",
      "| Number of successful attacks: | 1      |\n",
      "| Number of failed attacks:     | 117    |\n",
      "| Number of skipped attacks:    | 0      |\n",
      "| Original accuracy:            | 100.0% |\n",
      "| Accuracy under attack:        | 99.15% |\n",
      "| Attack success rate:          | 0.85%  |\n",
      "| Average perturbed word %:     | 11.11% |\n",
      "| Average num. words per input: | 11.86  |\n",
      "| Avg num queries:              | 1.71   |\n",
      "+-------------------------------+--------+\n"
     ]
    },
    {
     "name": "stderr",
     "output_type": "stream",
     "text": [
      "\n"
     ]
    }
   ],
   "source": [
    "class_model = PARAPHRASE_PROJECT_SETTINGS['config_scifact']['rationale_model_name']\n",
    "\n",
    "attack_args_cklist = AttackArgs(num_examples=-1, log_to_csv=\"../../logs/checklist_log_results_refute.csv\", csv_coloring_style=\"html\")\n",
    "model_wrapper_cklist = ScifactModelWrapper(class_model)\n",
    "\n",
    "attack_checklist = CheckList2020.build(model_wrapper_cklist)\n",
    "\n",
    "attacker_checklist = Attacker(attack_checklist, ds_claim_label, attack_args_cklist)\n",
    "attack_results_checklist = attacker_checklist.attack_dataset()"
   ]
  },
  {
   "cell_type": "code",
   "execution_count": 41,
   "id": "60c096e4",
   "metadata": {
    "ExecuteTime": {
     "end_time": "2022-01-24T23:08:45.196634Z",
     "start_time": "2022-01-24T23:08:45.193784Z"
    }
   },
   "outputs": [],
   "source": [
    "perturb_results_cklist = []"
   ]
  },
  {
   "cell_type": "code",
   "execution_count": 42,
   "id": "664aaf65",
   "metadata": {
    "ExecuteTime": {
     "end_time": "2022-01-24T23:08:45.203034Z",
     "start_time": "2022-01-24T23:08:45.199253Z"
    }
   },
   "outputs": [],
   "source": [
    "perturb_results_cklist.extend([(cur_result.original_text(), cur_result.perturbed_text(), cur_result.num_queries, \n",
    "                                    str(cur_result.__class__.__name__), 'checklist_ribeiro_2020') for cur_result in attack_results_checklist] )"
   ]
  },
  {
   "cell_type": "code",
   "execution_count": 43,
   "id": "5d67b368",
   "metadata": {
    "ExecuteTime": {
     "end_time": "2022-01-24T23:08:45.208166Z",
     "start_time": "2022-01-24T23:08:45.204920Z"
    }
   },
   "outputs": [],
   "source": [
    "df_cklist= pd.DataFrame(perturb_results_cklist, columns = ['org_claim', 'gen_claim', \n",
    "                                                                    'num_of_query', 'attack_result', 'attack_method'])"
   ]
  },
  {
   "cell_type": "code",
   "execution_count": 44,
   "id": "353c5cca",
   "metadata": {
    "ExecuteTime": {
     "end_time": "2022-01-24T23:08:45.214427Z",
     "start_time": "2022-01-24T23:08:45.209557Z"
    }
   },
   "outputs": [],
   "source": [
    "df_cklist.to_pickle('../../dfs_generated/paraphrased/existing_literature_methods/scifact_as_black_box_model_2_output/scifact_checklist_ribeiro_2020_ref_to_sup_2_opt.pkl')\n",
    "df_cklist.to_csv('../../dfs_generated/paraphrased/existing_literature_methods/scifact_as_black_box_model_2_output/scifact_checklist_ribeiro_2020_ref_to_sup_2_opt.csv')"
   ]
  },
  {
   "cell_type": "code",
   "execution_count": null,
   "id": "efae8cce",
   "metadata": {},
   "outputs": [],
   "source": []
  },
  {
   "cell_type": "markdown",
   "id": "3e63f0e0",
   "metadata": {},
   "source": [
    "### BAE (BAE: BERT-Based Adversarial Examples)"
   ]
  },
  {
   "cell_type": "code",
   "execution_count": 37,
   "id": "1d70326f",
   "metadata": {
    "ExecuteTime": {
     "end_time": "2022-01-24T00:27:22.219817Z",
     "start_time": "2022-01-24T00:27:22.215138Z"
    }
   },
   "outputs": [],
   "source": [
    "logging.info(\">>> \\n\\nBAE >>> \")"
   ]
  },
  {
   "cell_type": "code",
   "execution_count": 38,
   "id": "7946858a",
   "metadata": {
    "ExecuteTime": {
     "end_time": "2022-01-24T00:27:23.176716Z",
     "start_time": "2022-01-24T00:27:23.172274Z"
    }
   },
   "outputs": [],
   "source": [
    "from textattack.attack_recipes.bae_garg_2019 import BAEGarg2019"
   ]
  },
  {
   "cell_type": "code",
   "execution_count": null,
   "id": "3af5d3db",
   "metadata": {
    "ExecuteTime": {
     "start_time": "2022-01-24T00:27:39.951Z"
    }
   },
   "outputs": [
    {
     "name": "stderr",
     "output_type": "stream",
     "text": [
      "Some weights of the model checkpoint at bert-base-uncased were not used when initializing BertForMaskedLM: ['cls.seq_relationship.weight', 'cls.seq_relationship.bias']\n",
      "- This IS expected if you are initializing BertForMaskedLM from the checkpoint of a model trained on another task or with another architecture (e.g. initializing a BertForSequenceClassification model from a BertForPreTraining model).\n",
      "- This IS NOT expected if you are initializing BertForMaskedLM from the checkpoint of a model that you expect to be exactly identical (initializing a BertForSequenceClassification model from a BertForSequenceClassification model).\n",
      "textattack: Unknown if model of class <class 'str'> compatible with goal function <class 'textattack.goal_functions.classification.untargeted_classification.UntargetedClassification'>.\n",
      "textattack: Logging to CSV at path ../../logs/log_textattack_bae_refute.csv\n",
      "  0%|          | 0/118 [00:00<?, ?it/s]"
     ]
    },
    {
     "name": "stdout",
     "output_type": "stream",
     "text": [
      "Attack(\n",
      "  (search_method): GreedyWordSwapWIR(\n",
      "    (wir_method):  delete\n",
      "  )\n",
      "  (goal_function):  UntargetedClassification\n",
      "  (transformation):  WordSwapMaskedLM(\n",
      "    (method):  bae\n",
      "    (masked_lm_name):  BertForMaskedLM\n",
      "    (max_length):  512\n",
      "    (max_candidates):  50\n",
      "    (min_confidence):  0.0\n",
      "  )\n",
      "  (constraints): \n",
      "    (0): PartOfSpeech(\n",
      "        (tagger_type):  nltk\n",
      "        (tagset):  universal\n",
      "        (allow_verb_noun_swap):  True\n",
      "        (compare_against_original):  True\n",
      "      )\n",
      "    (1): UniversalSentenceEncoder(\n",
      "        (metric):  cosine\n",
      "        (threshold):  0.936338023\n",
      "        (window_size):  15\n",
      "        (skip_text_shorter_than_window):  True\n",
      "        (compare_against_original):  True\n",
      "      )\n",
      "    (2): RepeatModification\n",
      "    (3): StopwordModification\n",
      "  (is_black_box):  True\n",
      ") \n",
      "\n"
     ]
    },
    {
     "name": "stderr",
     "output_type": "stream",
     "text": [
      "/home/qudratealahyratu/anaconda3/envs/scifact/lib/python3.7/site-packages/transformers/tokenization_utils_base.py:2190: FutureWarning: The `pad_to_max_length` argument is deprecated and will be removed in a future version, use `padding=True` or `padding='longest'` to pad to the longest sequence in the batch, or use `padding='max_length'` to pad to a max length. In this case, you can give a specific length with `max_length` (e.g. `max_length=45`) or leave max_length to None to pad to the maximal input size of the model (e.g. 512 for Bert).\n",
      "  FutureWarning,\n"
     ]
    }
   ],
   "source": [
    "class_model = PARAPHRASE_PROJECT_SETTINGS['config_scifact']['rationale_model_name']\n",
    "\n",
    "attack_args_bae = AttackArgs(num_examples=-1, log_to_csv=\"../../logs/log_textattack_bae_refute.csv\", csv_coloring_style=\"html\")\n",
    "model_wrapper_bae = ScifactModelWrapper(class_model)\n",
    "attack_bae = BAEGarg2019.build(model_wrapper_bae)\n",
    "\n",
    "attacker_bae = Attacker(attack_bae, ds_claim_label, attack_args_bae)\n",
    "attack_results_bae = attacker_bae.attack_dataset()"
   ]
  },
  {
   "cell_type": "code",
   "execution_count": null,
   "id": "e005e93e",
   "metadata": {
    "ExecuteTime": {
     "start_time": "2022-01-24T00:27:52.002Z"
    }
   },
   "outputs": [],
   "source": [
    "perturb_results_bae = []"
   ]
  },
  {
   "cell_type": "code",
   "execution_count": null,
   "id": "8d5747f8",
   "metadata": {
    "ExecuteTime": {
     "start_time": "2022-01-24T00:27:54.481Z"
    }
   },
   "outputs": [],
   "source": [
    "perturb_results_bae.extend([(cur_result.original_text(), cur_result.perturbed_text(), cur_result.num_queries, \n",
    "                                    str(cur_result.__class__.__name__), 'bae_garg_2019') for cur_result in attack_results_bae] )"
   ]
  },
  {
   "cell_type": "code",
   "execution_count": null,
   "id": "75c65ac5",
   "metadata": {
    "ExecuteTime": {
     "start_time": "2022-01-24T00:27:56.648Z"
    }
   },
   "outputs": [],
   "source": [
    "df_bae= pd.DataFrame(perturb_results_bae, columns = ['org_claim', 'gen_claim', \n",
    "                                                                    'num_of_query', 'attack_result', 'attack_method'])"
   ]
  },
  {
   "cell_type": "code",
   "execution_count": null,
   "id": "3d3ca532",
   "metadata": {
    "ExecuteTime": {
     "start_time": "2022-01-24T00:28:20.096Z"
    }
   },
   "outputs": [],
   "source": [
    "df_bae.to_pickle('../../dfs_generated/paraphrased/existing_literature_methods/scifact_as_black_box_model_2_output/scifact_bae_garg_2019_ref_to_sup_2opt.pkl')\n",
    "df_bae.to_csv('../../dfs_generated/paraphrased/existing_literature_methods/scifact_as_black_box_model_2_output/scifact_bae_garg_2019_ref_to_sup_2opt.csv')"
   ]
  },
  {
   "cell_type": "code",
   "execution_count": null,
   "id": "dd39ea0e",
   "metadata": {},
   "outputs": [],
   "source": []
  },
  {
   "cell_type": "markdown",
   "id": "f53aa98e",
   "metadata": {},
   "source": [
    "## BERT-ATTACK "
   ]
  },
  {
   "cell_type": "markdown",
   "id": "4cdcdf5f",
   "metadata": {},
   "source": [
    "Applied the modification of:\n",
    "https://github.com/QData/TextAttack/issues/586\n",
    "> max_candidates=4\n",
    "\n",
    "> total query = 4^4 = 256 query budget"
   ]
  },
  {
   "cell_type": "code",
   "execution_count": null,
   "id": "e61f0525",
   "metadata": {
    "ExecuteTime": {
     "start_time": "2022-01-20T16:54:54.063Z"
    }
   },
   "outputs": [],
   "source": [
    "from textattack.attack_recipes.bert_attack_li_2020 import BERTAttackLi2020"
   ]
  },
  {
   "cell_type": "code",
   "execution_count": null,
   "id": "443dcca6",
   "metadata": {
    "ExecuteTime": {
     "start_time": "2022-01-20T16:54:54.065Z"
    }
   },
   "outputs": [],
   "source": [
    "#model_btk = transformers.AutoModelForSequenceClassification.from_pretrained(PARAPHRASE_PROJECT_SETTINGS['config_scifact']['cls_model_name'])\n",
    "#tokenizer_btk = transformers.AutoTokenizer.from_pretrained(PARAPHRASE_PROJECT_SETTINGS['config_scifact']['cls_model_name'])\n",
    "\n",
    "#model_wrapper_btk = HuggingFaceModelWrapper(model_btk, tokenizer_btk)"
   ]
  },
  {
   "cell_type": "code",
   "execution_count": null,
   "id": "a641b8b6",
   "metadata": {
    "ExecuteTime": {
     "start_time": "2022-01-20T16:54:54.067Z"
    }
   },
   "outputs": [],
   "source": [
    "class_model = PARAPHRASE_PROJECT_SETTINGS['config_scifact']['rationale_model_name']\n",
    "#attack_args_fooler = AttackArgs(num_examples=-1)\n",
    "attack_args_ber_attack = AttackArgs(num_examples=-1, log_to_csv=\"../../logs/bert_attack_log_results.csv\", csv_coloring_style=\"html\")\n",
    "model_wrapper_txt_ber_attack = ScifactModelWrapper(class_model)\n",
    "attack_txt_ber_attack = BERTAttackLi2020.build(model_wrapper_txt_ber_attack)\n",
    "attacker_txt_ber_attack = Attacker(attack_txt_ber_attack, ds_claim_label, attack_args_ber_attack)\n",
    "attack_results_txt_ber_attack = attacker_txt_ber_attack.attack_dataset()"
   ]
  },
  {
   "cell_type": "code",
   "execution_count": null,
   "id": "839653b2",
   "metadata": {
    "ExecuteTime": {
     "start_time": "2022-01-20T16:54:54.069Z"
    }
   },
   "outputs": [],
   "source": [
    "perturb_results_btk = []"
   ]
  },
  {
   "cell_type": "code",
   "execution_count": null,
   "id": "32b7f390",
   "metadata": {
    "ExecuteTime": {
     "start_time": "2022-01-20T16:54:54.071Z"
    }
   },
   "outputs": [],
   "source": [
    "perturb_results_btk.extend([(cur_result.original_text(), cur_result.perturbed_text(), cur_result.num_queries, \n",
    "                                    str(cur_result.__class__.__name__), 'bert_attack_li_2020') for cur_result in attack_results_txt_ber_attack] )"
   ]
  },
  {
   "cell_type": "code",
   "execution_count": null,
   "id": "d113cb9e",
   "metadata": {
    "ExecuteTime": {
     "start_time": "2022-01-20T16:54:54.073Z"
    }
   },
   "outputs": [],
   "source": [
    "df_btk= pd.DataFrame(perturb_results_btk, columns = ['org_claim', 'gen_claim', \n",
    "                                                                    'num_of_query', 'attack_result', 'attack_method'])"
   ]
  },
  {
   "cell_type": "code",
   "execution_count": null,
   "id": "848d76b7",
   "metadata": {
    "ExecuteTime": {
     "start_time": "2022-01-20T16:54:54.074Z"
    }
   },
   "outputs": [],
   "source": [
    "df_btk.to_pickle('../../dfs_generated/paraphrased/existing_literature_methods/scifact_as_black_box_model_2_output/scifacti_as_black_box_model/bert_attack_li_2020_sup_to_ref_2_output.pkl')\n",
    "df_btk.to_csv('../../dfs_generated/paraphrased/existing_literature_methods/scifact_as_black_box_model_2_output/scifacti_as_black_box_model/bert_attack_li_2020_sup_to_ref_2_output.csv')"
   ]
  },
  {
   "cell_type": "code",
   "execution_count": null,
   "id": "ce54dcd6",
   "metadata": {},
   "outputs": [],
   "source": []
  },
  {
   "cell_type": "code",
   "execution_count": null,
   "id": "8b45d79f",
   "metadata": {},
   "outputs": [],
   "source": []
  },
  {
   "cell_type": "code",
   "execution_count": null,
   "id": "02fbbd4c",
   "metadata": {},
   "outputs": [],
   "source": []
  },
  {
   "cell_type": "code",
   "execution_count": null,
   "id": "15fe0098",
   "metadata": {},
   "outputs": [],
   "source": []
  }
 ],
 "metadata": {
  "kernelspec": {
   "display_name": "Python [conda env:scifact] *",
   "language": "python",
   "name": "conda-env-scifact-py"
  },
  "language_info": {
   "codemirror_mode": {
    "name": "ipython",
    "version": 3
   },
   "file_extension": ".py",
   "mimetype": "text/x-python",
   "name": "python",
   "nbconvert_exporter": "python",
   "pygments_lexer": "ipython3",
   "version": "3.7.11"
  },
  "toc": {
   "base_numbering": 1,
   "nav_menu": {},
   "number_sections": true,
   "sideBar": true,
   "skip_h1_title": false,
   "title_cell": "Table of Contents",
   "title_sidebar": "Contents",
   "toc_cell": false,
   "toc_position": {
    "height": "calc(100% - 180px)",
    "left": "10px",
    "top": "150px",
    "width": "273.188px"
   },
   "toc_section_display": true,
   "toc_window_display": true
  }
 },
 "nbformat": 4,
 "nbformat_minor": 5
}
